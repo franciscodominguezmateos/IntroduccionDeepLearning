{
 "cells": [
  {
   "cell_type": "markdown",
   "metadata": {
    "deletable": true,
    "editable": true
   },
   "source": [
    "# Introduction to Deep Learing\n",
    "Actually this is a very basic introduction to Machine Learning\n",
    "# First intuitions\n",
    "## Linear regression"
   ]
  },
  {
   "cell_type": "code",
   "execution_count": 1,
   "metadata": {
    "collapsed": false,
    "deletable": true,
    "editable": true
   },
   "outputs": [
    {
     "name": "stderr",
     "output_type": "stream",
     "text": [
      "/home/francisco/anaconda3/lib/python3.5/site-packages/matplotlib/font_manager.py:273: UserWarning: Matplotlib is building the font cache using fc-list. This may take a moment.\n",
      "  warnings.warn('Matplotlib is building the font cache using fc-list. This may take a moment.')\n",
      "/home/francisco/anaconda3/lib/python3.5/site-packages/matplotlib/font_manager.py:273: UserWarning: Matplotlib is building the font cache using fc-list. This may take a moment.\n",
      "  warnings.warn('Matplotlib is building the font cache using fc-list. This may take a moment.')\n"
     ]
    }
   ],
   "source": [
    "# Initial code and auxiliar functions. Don't pay attention to this\n",
    "import numpy as np\n",
    "import matplotlib.pyplot as plt\n",
    "\n",
    "# Config the matplotlib backend as plotting inline in IPython\n",
    "%matplotlib inline"
   ]
  },
  {
   "cell_type": "code",
   "execution_count": 2,
   "metadata": {
    "collapsed": true,
    "deletable": true,
    "editable": true
   },
   "outputs": [],
   "source": [
    "# plot a function f from i0 to i1\n",
    "def plot_f(f,i0,i1):\n",
    "    x=np.arange(i0,i1,0.1)\n",
    "    y=f(x)\n",
    "    plt.plot(x,y)\n",
    "# plot tangent line at point f(w) in w domain\n",
    "def plot_df(f,df,w):\n",
    "    # work out line parameters\n",
    "    # prediction point for given weights w\n",
    "    y=f(w)\n",
    "    m=df(w)\n",
    "    c=y-m*w\n",
    "    # plot prediction point y\n",
    "    plt.plot(w,y,\"*\")\n",
    "    # plot tangent line at y\n",
    "    x=np.arange(w-1,w+1,0.1)\n",
    "    y=m*x+c\n",
    "    plt.plot(x,y)"
   ]
  },
  {
   "cell_type": "markdown",
   "metadata": {
    "deletable": true,
    "editable": true
   },
   "source": [
    "## Linear regression example\n",
    "Given these data point (-2.4,7),(4.5,9),(6.2,18) we want to get the line closest to them. "
   ]
  },
  {
   "cell_type": "code",
   "execution_count": 3,
   "metadata": {
    "collapsed": true,
    "deletable": true,
    "editable": true
   },
   "outputs": [],
   "source": [
    "# Data points\n",
    "Dx = [-2,4.5, 6.2]\n",
    "Dy = [ 7,9  ,18  ]"
   ]
  },
  {
   "cell_type": "markdown",
   "metadata": {
    "deletable": true,
    "editable": true
   },
   "source": [
    "As we can see below there is not any line passing through all points. But we can work out the nearest one."
   ]
  },
  {
   "cell_type": "code",
   "execution_count": 4,
   "metadata": {
    "collapsed": false,
    "deletable": true,
    "editable": true
   },
   "outputs": [
    {
     "data": {
      "image/png": "[encoded data removed]",
      "text/plain": [
       "<matplotlib.figure.Figure at 0x7fd953a98c50>"
      ]
     },
     "metadata": {},
     "output_type": "display_data"
    }
   ],
   "source": [
    "# Plot the points using matplotlib\n",
    "plt.plot(Dx,Dy,\"*\",color=\"blue\")\n",
    "plt.show()  # You must call plt.show() to make graphics appear."
   ]
  },
  {
   "cell_type": "markdown",
   "metadata": {
    "deletable": true,
    "editable": true
   },
   "source": [
    "A random guess could be the line $f(x)=1.2x+5$"
   ]
  },
  {
   "cell_type": "code",
   "execution_count": 5,
   "metadata": {
    "collapsed": true,
    "deletable": true,
    "editable": true
   },
   "outputs": [],
   "source": [
    "# Linear model\n",
    "def f(x):\n",
    "    #y=  m*x+c\n",
    "    #y= w1*x+w0\n",
    "    y =1.2*x+5\n",
    "    return y"
   ]
  },
  {
   "cell_type": "code",
   "execution_count": 6,
   "metadata": {
    "collapsed": false,
    "deletable": true,
    "editable": true
   },
   "outputs": [
    {
     "data": {
      "image/png": "[encoded data removed]",
      "text/plain": [
       "<matplotlib.figure.Figure at 0x7fd9537f6860>"
      ]
     },
     "metadata": {},
     "output_type": "display_data"
    }
   ],
   "source": [
    "# Plot the line f\n",
    "plot_f(f,-4,8)\n",
    "\n",
    "# Plot the points using matplotlib\n",
    "plt.plot(Dx,Dy,\"*\",color=\"blue\")\n",
    "plt.show()  # You must call plt.show() to make graphics appear."
   ]
  },
  {
   "cell_type": "markdown",
   "metadata": {
    "deletable": true,
    "editable": true
   },
   "source": [
    "### How good is this function? \n",
    "Well given -2 we want f(-2) be as near as posible to 7, given 4.5 we want f(4.5) be as near as posible to 9 and given 6.2 we want f(6.2) be as near as posible to 18.\n",
    "\n",
    "#### But, What \"near\" means? \n",
    "Well there are many answers to this question but the traditional one is: the sum of squared differences. That is we substract f(-2) from 7, f(4.5) from 9 and f(6.2) from 18,\n",
    "\n",
    "\"We say we substract the the predicted value $f(x)$ from actual value $y$\"\n",
    "\n",
    "And in order to have all values positives, since we don't matter if the differences is positive or negative, we can square this difference and add them all. This calculation is know as: Cost, Loss, Error, Square Error,...\n",
    "\n",
    "The next code work out this \"near\""
   ]
  },
  {
   "cell_type": "code",
   "execution_count": 7,
   "metadata": {
    "collapsed": false,
    "deletable": true,
    "editable": true
   },
   "outputs": [
    {
     "name": "stdout",
     "output_type": "stream",
     "text": [
      "Near/Cost/Loss/Error= 52.23360000000001\n"
     ]
    }
   ],
   "source": [
    "L=( 7-f(-2.0))**2+  ( 9-f( 4.5))**2+  (18-f( 6.2))**2\n",
    "print(\"Near/Cost/Loss/Error=\",L)"
   ]
  },
  {
   "cell_type": "markdown",
   "metadata": {
    "deletable": true,
    "editable": true
   },
   "source": [
    "In following text we are going to use the term Loss or Loss function for \"near\".\n",
    "\n",
    "At a first glance it seems that we can improve or get a lower value, changing 1.2 or 5 from $f(x)=1.2x+5$, to other values. But the point is: \n",
    "\n",
    "How do we do the change as more automatic as posible?\n",
    "\n",
    "Here Gradient Descent comes to the rescue."
   ]
  },
  {
   "cell_type": "markdown",
   "metadata": {
    "deletable": true,
    "editable": true
   },
   "source": [
    "# Gradient Descent intuition\n",
    "It could be magical is we had a function that we pass 1.2 and 5 and give back how much we have to change them.\n",
    "## Gradient Descent example\n",
    "\n",
    "Let start with a very straightforward example.\n",
    "\n",
    "We are going to start with a the simplest loss function posible: $L(w)=w^2$\n",
    "\n",
    "Where now $f$ is $L$ and $x$ is $w$, but that is just changing name nothing wierd. We have made this name changing because those are the usual names we will use in the following text and are used in machine learning literature."
   ]
  },
  {
   "cell_type": "code",
   "execution_count": 30,
   "metadata": {
    "collapsed": true,
    "deletable": true,
    "editable": true
   },
   "outputs": [],
   "source": [
    "# Gradient descent intuition\n",
    "# Find w that make loss function L(w) as lower as posible\n",
    "# updating w step by step \n",
    "# with the help of the slope dL(w) and learning rate a\n",
    "# Hint: Data points are fixed we can only change w\n",
    "\n",
    "# Now f as became L function and It is not lineal anymore\n",
    "# Now it is quadratic on w and hence it is always positive\n",
    "def L(w):\n",
    "    y=w**2\n",
    "    return y"
   ]
  },
  {
   "cell_type": "markdown",
   "metadata": {
    "deletable": true,
    "editable": true
   },
   "source": [
    "As we can see below the loss function as the traditional parabolic shape. The minimum of this function is very easy since it is 0, but we will pretend that we don't know it. We need a way to get to this value systematically/automatically/magically."
   ]
  },
  {
   "cell_type": "code",
   "execution_count": 31,
   "metadata": {
    "collapsed": false,
    "deletable": true,
    "editable": true
   },
   "outputs": [
    {
     "data": {
      "image/png": "[encoded data removed]",
      "text/plain": [
       "<matplotlib.figure.Figure at 0x7fafb95107b8>"
      ]
     },
     "metadata": {},
     "output_type": "display_data"
    }
   ],
   "source": [
    "# Plot cuadratic function L it us just a parabole x**2\n",
    "# with minimum at 0 but we don't know it ;-)\n",
    "plot_f(L,-7,7)"
   ]
  },
  {
   "cell_type": "markdown",
   "metadata": {
    "deletable": true,
    "editable": true
   },
   "source": [
    "Again a random guess could be $w=6$, where $L(w)=L(6)=6^2=36$. Now we have a point in the loss parabole."
   ]
  },
  {
   "cell_type": "code",
   "execution_count": 32,
   "metadata": {
    "collapsed": false,
    "deletable": true,
    "editable": true
   },
   "outputs": [
    {
     "data": {
      "image/png": "[encoded data removed]",
      "text/plain": [
       "<matplotlib.figure.Figure at 0x7fafb93ec7f0>"
      ]
     },
     "metadata": {},
     "output_type": "display_data"
    }
   ],
   "source": [
    "#Initial weight. We start with a random guess\n",
    "#you can play changing this value\n",
    "w=6\n",
    "# Plot the parabole and the point (6,36)\n",
    "plt.plot(6,36,\"*\")\n",
    "plot_f(L,-7,7)\n"
   ]
  },
  {
   "cell_type": "markdown",
   "metadata": {
    "deletable": true,
    "editable": true
   },
   "source": [
    "Now we need to change the value of $w$. What of the two next option will chose?\n",
    "* $w=7$ \n",
    "* $w=5$\n",
    "It seem that the second option is the best, but Why?\n",
    "\n",
    "Well we can see that $L(5)<L(6)$ or other way of see it is that is better decrease $w$ in $1$ that increase $w$ in $1$, because if we decrease $w$ in $1$ we get a lower value of $L(w)$. \n",
    "\n",
    "Then given that $L(6)-L(5)>0$ and $L(6)-L(7)<0$ we know that the parabola in 6 is growing or the slope is uphill.\n",
    "\n",
    "It could be wonderful if we had a magic function that tell us if the slope is uphill or downhill for a given w, without the need of do the calculation.\n",
    "\n",
    "Well that magic function actually exist and it name is: derivative, gradient.\n",
    "\n",
    "Actually the the derivative of $L(w)=w^2$ at any point $w$ is very easy to work out. It is $\\partial{L}(w)=2w$. "
   ]
  },
  {
   "cell_type": "code",
   "execution_count": null,
   "metadata": {
    "collapsed": true,
    "deletable": true,
    "editable": true
   },
   "outputs": [],
   "source": [
    "# And the unit variation of L at point w I mean: derivative, gradient, slope of L at w.\n",
    "def dL(w):\n",
    "    dy=2*w\n",
    "    return dy"
   ]
  },
  {
   "cell_type": "markdown",
   "metadata": {
    "deletable": true,
    "editable": true
   },
   "source": [
    "Then the sign of the derivative give us a hint of how to increment the current value of $w$.\n",
    "\n",
    "Let see the slope of $L$ at point $w=6$ whose value is $\\partial{L}(6)=12$, positive, then we know we have to decrement $w$."
   ]
  },
  {
   "cell_type": "code",
   "execution_count": 35,
   "metadata": {
    "collapsed": false,
    "deletable": true,
    "editable": true
   },
   "outputs": [
    {
     "name": "stdout",
     "output_type": "stream",
     "text": [
      "Current values: w,L(w),dL(w)= 6 36 12\n"
     ]
    },
    {
     "data": {
      "image/png": "[encoded data removed]",
      "text/plain": [
       "<matplotlib.figure.Figure at 0x7fafb9c03da0>"
      ]
     },
     "metadata": {},
     "output_type": "display_data"
    }
   ],
   "source": [
    "# we plot the slope line of L at w\n",
    "plot_f(L,-7,7)\n",
    "plot_df(L,dL,w)\n",
    "print(\"Current values: w,L(w),dL(w)=\",w,L(w),dL(w))"
   ]
  },
  {
   "cell_type": "markdown",
   "metadata": {
    "deletable": true,
    "editable": true
   },
   "source": [
    "Then we can deduce the main rule of Gradient Descent technique that is:\n",
    "\n",
    "the change to do to $w$ at step $k$, $w_k$, we will call it $\\Delta{w_k}$, has the opposite sign of the derivative, that is $-\\partial{L}(w_k)$.\n",
    "\n",
    "$$\\Delta{w_k}=-\\partial{L}(w_k)$$\n",
    "\n",
    "And the update rule is:\n",
    "\n",
    "$$w_{k+1}=w_k+\\alpha\\Delta{w_k}$$\n",
    "\n",
    "It appears a multiplicative factor $\\alpha$ named Learning Rate, and it is used to set the size of the step to be taken.\n",
    "\n",
    "Now with this magic weapon on hand we can tackle the problem of finding the minimun of a function. In our case this function is the loss function $L(w)$. \n",
    "\n",
    "Someone could be thinking that it would had been very much easy just solve the variable $w$ to get a value of $\\partial{L}(w)=0$. But in the following examples $L(w)$ is going to be very complicated and this wouldn't be posible anymore."
   ]
  },
  {
   "cell_type": "markdown",
   "metadata": {
    "deletable": true,
    "editable": true
   },
   "source": [
    "### Let apply Gradient Descent in the above example\n",
    "Let apply five times the change rule above commented to our toy example.\n",
    "\n",
    "##### But before, some comment about $\\alpha$, the Learning Rate\n",
    "We know we have to change $w$ in $\\delta{w}$ direction but we don't know how much\n",
    "\n",
    "$alpha$ make a guess in order to change $w$ enough.\n",
    "\n",
    "Rule of thumb:\n",
    "\n",
    "* If $\\alpha$ is too little we need many steps\n",
    "* but  if $\\alpha$ is not little enough it will never work out minimum\n",
    "* then is better a little slow $\\alpha$ than a bigger unstable one\n"
   ]
  },
  {
   "cell_type": "code",
   "execution_count": 13,
   "metadata": {
    "collapsed": false,
    "deletable": true,
    "editable": true
   },
   "outputs": [
    {
     "name": "stdout",
     "output_type": "stream",
     "text": [
      "Initial values: 6 36 12\n",
      "Final values: 0.061440000000000036 0.0037748736000000043 0.12288000000000007\n"
     ]
    },
    {
     "data": {
      "image/png": "[encoded data removed]",
      "text/plain": [
       "<matplotlib.figure.Figure at 0x7fafb945feb8>"
      ]
     },
     "metadata": {},
     "output_type": "display_data"
    },
    {
     "data": {
      "image/png": "[encoded data removed]",
      "text/plain": [
       "<matplotlib.figure.Figure at 0x7fafb9392908>"
      ]
     },
     "metadata": {},
     "output_type": "display_data"
    },
    {
     "data": {
      "image/png": "[encoded data removed]",
      "text/plain": [
       "<matplotlib.figure.Figure at 0x7fafb9464940>"
      ]
     },
     "metadata": {},
     "output_type": "display_data"
    },
    {
     "data": {
      "image/png": "[encoded data removed]",
      "text/plain": [
       "<matplotlib.figure.Figure at 0x7fafb9b5ea58>"
      ]
     },
     "metadata": {},
     "output_type": "display_data"
    },
    {
     "data": {
      "image/png": "[encoded data removed]",
      "text/plain": [
       "<matplotlib.figure.Figure at 0x7fafb9a89c18>"
      ]
     },
     "metadata": {},
     "output_type": "display_data"
    },
    {
     "data": {
      "image/png": "[encoded data removed]",
      "text/plain": [
       "<matplotlib.figure.Figure at 0x7fafb959cba8>"
      ]
     },
     "metadata": {},
     "output_type": "display_data"
    }
   ],
   "source": [
    "#Initial weight, cost value, slope\n",
    "print(\"Initial values:\",w,L(w),dL(w))\n",
    "#Learning rate\n",
    "#You can play changing this value\n",
    "a=0.3\n",
    "#if you change a=1 and w=3 the system osucilate. Try it!!\n",
    "#GD 5 Steps\n",
    "for i in range(5):\n",
    "    plt.figure()\n",
    "    plot_f(L,-5,5)\n",
    "    # weight increment\n",
    "    # we go in opposite direction of slope\n",
    "    # because we want to minimize\n",
    "    iw=-dL(w)\n",
    "    #weight update\n",
    "    # We know we have to change w in iw direction but we don't know how much\n",
    "    # 'a' makes a guess in order to change w enough\n",
    "    # Rule of thumb: If 'a' is too little we need many steps\n",
    "    #           but  if 'a' is not little enough it will never work out minimum\n",
    "    #                then is better a little slow a than a bigger unstable one\n",
    "    # a=0.1 little slow -> 3.865 after 5 steps\n",
    "    # a=0.3 good        -> 0.003 error after 5 steps\n",
    "    # a=1 or above 1    -> it oscilate\n",
    "    w=w+a*iw\n",
    "    plot_df(L,dL,w)\n",
    "#Final weight, cost value, slope\n",
    "print(\"Final values:\",w,L(w),dL(w))\n",
    "# We need to continue in order to get w=0 but as we can si each step we are closer"
   ]
  },
  {
   "cell_type": "markdown",
   "metadata": {
    "deletable": true,
    "editable": true
   },
   "source": [
    "# Back to our Linear Regression Example \n",
    "Let go back to our Linear Regression example, but before to start to solve the problem, let make some comment with this new matrix version of the problem.\n",
    "\n",
    "We are going to work with the same problem that above but in matrix form, this is for three reasons:\n",
    "\n",
    "* calculations become easier\n",
    "* we cal work with many dimmensions/data at once\n",
    "* it is the most generic form used\n",
    "\n",
    "Now our data is defined as two matrix:"
   ]
  },
  {
   "cell_type": "code",
   "execution_count": 38,
   "metadata": {
    "collapsed": true,
    "deletable": true,
    "editable": true
   },
   "outputs": [],
   "source": [
    "#Data, first row are ones for bias\n",
    "x=np.matrix([[ 1.0, 1.0, 1.0],\n",
    "             [-2.0, 4.5, 6.2]])\n",
    "y=np.matrix( [ 7.0, 9.0,18.0])"
   ]
  },
  {
   "cell_type": "markdown",
   "metadata": {
    "deletable": true,
    "editable": true
   },
   "source": [
    "Each data if a column, we have used a trick to simplify calculations, adding a first row of ones, that we will explain later.\n",
    "\n",
    "Now $w$ is a matrix too."
   ]
  },
  {
   "cell_type": "code",
   "execution_count": 39,
   "metadata": {
    "collapsed": true,
    "deletable": true,
    "editable": true
   },
   "outputs": [],
   "source": [
    "#Initial weights\n",
    "w=np.matrix([5.0,1.2])"
   ]
  },
  {
   "cell_type": "markdown",
   "metadata": {
    "deletable": true,
    "editable": true
   },
   "source": [
    "The matrix version of $f$ is just the same $f(w,x)=wx$. \n",
    "\n",
    "Actually the equation is $f(w,x)=wx+b$, but if we add a first row of ones, $b$ get integrated on $w$."
   ]
  },
  {
   "cell_type": "code",
   "execution_count": 48,
   "metadata": {
    "collapsed": true,
    "deletable": true,
    "editable": true
   },
   "outputs": [],
   "source": [
    "#Matrix version of linear model\n",
    "def fm(w,x):\n",
    "    y=w*x\n",
    "    return y"
   ]
  },
  {
   "cell_type": "markdown",
   "metadata": {
    "deletable": true,
    "editable": true
   },
   "source": [
    "Let see that with this matrix form every thing is the same. We can plot the regression line and the data points."
   ]
  },
  {
   "cell_type": "code",
   "execution_count": 49,
   "metadata": {
    "collapsed": false,
    "deletable": true,
    "editable": true
   },
   "outputs": [
    {
     "data": {
      "image/png": "[encoded data removed]",
      "text/plain": [
       "<matplotlib.figure.Figure at 0x7fafb9428668>"
      ]
     },
     "metadata": {},
     "output_type": "display_data"
    }
   ],
   "source": [
    "#Matrix version of linear model\n",
    "def plots():\n",
    "    #plotting, don't pay attention to this.\n",
    "    plt.figure()\n",
    "    plot_f(lambda x:w[0,1]*x+w[0,0],-4,7)\n",
    "    plt.plot(x[1],fm(w,x),\"*\",color=\"red\")\n",
    "    plt.plot(x[1],y,\"*\",color=\"blue\")\n",
    "    plt.show()\n",
    "#plotting\n",
    "plots()"
   ]
  },
  {
   "cell_type": "markdown",
   "metadata": {
    "deletable": true,
    "editable": true
   },
   "source": [
    "The loss function get very much easy expressed in matrix form:\n",
    "\n",
    "$$L(w,x,y)=(y-f(w,x))(y-f(w,x))^T$$\n",
    "\n",
    "As we can see the loss has the same value than above $52.2336$."
   ]
  },
  {
   "cell_type": "code",
   "execution_count": 52,
   "metadata": {
    "collapsed": false,
    "deletable": true,
    "editable": true
   },
   "outputs": [
    {
     "name": "stdout",
     "output_type": "stream",
     "text": [
      "Loss= 52.2336\n"
     ]
    }
   ],
   "source": [
    "#Loss function\n",
    "def L(w,x,y):\n",
    "    dif=y-fm(w,x)\n",
    "    l=dif*dif.T\n",
    "    return l[0,0]\n",
    "#this value is equal to the not matrix version above\n",
    "print(\"Loss=\",L(w,x,y))"
   ]
  },
  {
   "cell_type": "markdown",
   "metadata": {
    "deletable": true,
    "editable": true
   },
   "source": [
    "And the derivative with respect to w, since data is constant, of this loss is very easy in matrix form:\n",
    "\n",
    "$$\\frac{\\partial{L}(w,x,y)}{\\partial{w}}=(y-f(w,x))x^T$$\n",
    "\n",
    "It is very importan to be aware of the term: $y-f(w,x)$ that we can call it error or dif, and it get a great role on the intuition of the traditional Backpropagation that we will see later on.\n",
    "$$error(w,x,y)=dif(w,x,y)=y-f(w,x)$$\n",
    "\n",
    "The loss and its derivative/gradient can be expressed in a easy way using dif(w,x,y):\n",
    "\n",
    "$$L(w,x,y)=error(w,x,y)error(w,x,y)^T$$\n",
    "\n",
    "$$\\frac{\\partial{L}(w,x,y)}{\\partial{w}}=error(w,x,y)x^T$$"
   ]
  },
  {
   "cell_type": "code",
   "execution_count": 53,
   "metadata": {
    "collapsed": true,
    "deletable": true,
    "editable": true
   },
   "outputs": [],
   "source": [
    "#Loss gradient is a vector with same dimensions as w\n",
    "def dL(w,x,y):\n",
    "    dif=y-fm(w,x)\n",
    "    #print(dif)\n",
    "    dL_w=-2*dif*x.T\n",
    "    return dL_w"
   ]
  },
  {
   "cell_type": "code",
   "execution_count": 92,
   "metadata": {
    "collapsed": true,
    "deletable": true,
    "editable": true
   },
   "outputs": [],
   "source": [
    "# Don't pay attention to this code is for\n",
    "# 3D visualation of w and L(w) values\n",
    "xl=[]\n",
    "yl=[]\n",
    "zl=[]\n",
    "def saveToPlot3D(w,l):\n",
    "    xl.append(w[0,0])\n",
    "    yl.append(w[0,1])\n",
    "    zl.append(l)"
   ]
  },
  {
   "cell_type": "markdown",
   "metadata": {
    "deletable": true,
    "editable": true
   },
   "source": [
    "## Gradient Descent Matrix Form\n",
    "The next code is almost identical to the used in the Gradient Descent intuition, but now it works with matrixes. This allows to work with almost any kind of data types, from images, to sound, finantial,.."
   ]
  },
  {
   "cell_type": "code",
   "execution_count": 93,
   "metadata": {
    "collapsed": false,
    "deletable": true,
    "editable": true
   },
   "outputs": [
    {
     "data": {
      "image/png": "[encoded data removed]",
      "text/plain": [
       "<matplotlib.figure.Figure at 0x7fafb93c8550>"
      ]
     },
     "metadata": {},
     "output_type": "display_data"
    },
    {
     "name": "stdout",
     "output_type": "stream",
     "text": [
      "w    = [[ 5.   1.2]]\n",
      "L(w) = 52.2336\n",
      "dL(w)= [[-17.12  -38.744]]\n"
     ]
    },
    {
     "data": {
      "image/png": "[encoded data removed]",
      "text/plain": [
       "<matplotlib.figure.Figure at 0x7fafb9c0b320>"
      ]
     },
     "metadata": {},
     "output_type": "display_data"
    },
    {
     "name": "stdout",
     "output_type": "stream",
     "text": [
      "w    = [[ 7.44693977  1.21065218]]\n",
      "L(w) = 28.3524743904\n",
      "dL(w)= [[-2.25301345  5.16832237]]\n"
     ]
    },
    {
     "data": {
      "image/png": "[encoded data removed]",
      "text/plain": [
       "<matplotlib.figure.Figure at 0x7fafb972bc50>"
      ]
     },
     "metadata": {},
     "output_type": "display_data"
    },
    {
     "name": "stdout",
     "output_type": "stream",
     "text": [
      "w    = [[ 8.0595796   1.08081377]]\n",
      "L(w) = 27.0998846035\n",
      "dL(w)= [[-0.8363629  -0.45088511]]\n"
     ]
    },
    {
     "data": {
      "image/png": "[encoded data removed]",
      "text/plain": [
       "<matplotlib.figure.Figure at 0x7fafb9445400>"
      ]
     },
     "metadata": {},
     "output_type": "display_data"
    },
    {
     "name": "stdout",
     "output_type": "stream",
     "text": [
      "w    = [[ 8.21993351  1.06290321]]\n",
      "L(w) = 27.0211231937\n",
      "dL(w)= [[-0.18588303  0.09364805]]\n"
     ]
    }
   ],
   "source": [
    "#Matrix version of Gradient descent\n",
    "#Learning rate\n",
    "a=0.015\n",
    "#Initial weights\n",
    "w=np.matrix([5.0,1.2])\n",
    "for i in range(100):\n",
    "    if i%25==0:\n",
    "        #plotting\n",
    "        plots()\n",
    "        print(\"w    =\",w)\n",
    "        print(\"L(w) =\",L(w,x,y))\n",
    "        print(\"dL(w)=\",dL(w,x,y))\n",
    "        saveToPlot3D(w,L(w,x,y))\n",
    "    iw=-dL(w,x,y)\n",
    "    w=w+a*iw"
   ]
  },
  {
   "cell_type": "markdown",
   "metadata": {
    "deletable": true,
    "editable": true
   },
   "source": [
    "In the Gradient Descent intuition we used a 1D loss function, but now we have used a 2D lost function since we need $w_0$ for intercept and $w_1$ for slope to define a line function $f(w,x)=w_1x+w_0$. Then in order to visualize the w evolution we need a 3D plot, with $x$ axis as $w_0$, $y$ axis as $w_1$ and $z$ as loss.\n",
    "\n",
    "In the next plot we can se the evolution of $w$ in the surface defined by $L(w)$. We can see the this surface is convex and if we drop a ball on it the final point (x,y) are the optimal values for w in order to minimize the loss to fit the line to the data points. All the gradient descent do is just follow the way of a ball falling in that surface."
   ]
  },
  {
   "cell_type": "code",
   "execution_count": 94,
   "metadata": {
    "collapsed": false,
    "deletable": true,
    "editable": true
   },
   "outputs": [
    {
     "data": {
      "image/png": "[encoded data removed]",
      "text/plain": [
       "<matplotlib.figure.Figure at 0x7fafb9459cc0>"
      ]
     },
     "metadata": {},
     "output_type": "display_data"
    }
   ],
   "source": [
    "'''\n",
    "3Dd visualization of the 2D loss surface\n",
    "Axis x is w0 and y is w1\n",
    "If we drop a ball on this surface the final point (x,y) is the final values of w\n",
    "'''\n",
    "from mpl_toolkits.mplot3d import Axes3D\n",
    "from matplotlib import cm\n",
    "from matplotlib.ticker import LinearLocator, FormatStrFormatter\n",
    "\n",
    "fig = plt.figure()\n",
    "ax = fig.gca(projection='3d')\n",
    "\n",
    "# Make data.\n",
    "w0 = np.arange(5, 11,0.25)\n",
    "w1 = np.arange(0.9, 2, 0.125)\n",
    "X, Y = np.meshgrid(w0, w1)\n",
    "Z=np.zeros_like(X)\n",
    "for i in range(w0.shape[0]):\n",
    "    for j in range(w1.shape[0]):\n",
    "        w[0,0]=w0[i]\n",
    "        w[0,1]=w1[j]\n",
    "        Z[j,i]=(L(w,x,y)-30)/60\n",
    "        #print(\"w=\",w,\"Z[j,i]=\",Z[j,i])\n",
    "\n",
    "# Plot the surface.\n",
    "surf = ax.plot_surface(X, Y, Z, cmap=cm.coolwarm,\n",
    "                       linewidth=0, antialiased=False)\n",
    "\n",
    "# Scatter gradient points\n",
    "#scatter=ax.scatter(np.array(xl),np.array(yl),(np.array(zl)-30)/60,c=\"y\", marker=\"o\")\n",
    "ax.plot(np.array(xl),np.array(yl),(np.array(zl)-30)/60,c=\"y\", marker=\"o\")\n",
    "\n",
    "# Customize the z axis.\n",
    "ax.set_zlim(0, 1)\n",
    "ax.zaxis.set_major_locator(LinearLocator(10))\n",
    "ax.zaxis.set_major_formatter(FormatStrFormatter('%.02f'))\n",
    "\n",
    "# Add a color bar which maps values to colors.\n",
    "fig.colorbar(surf, shrink=0.5, aspect=5)\n",
    "\n",
    "plt.show()"
   ]
  },
  {
   "cell_type": "markdown",
   "metadata": {
    "deletable": true,
    "editable": true
   },
   "source": [
    "# Gradient Descent Algoritm in 4 lines of code\n",
    "As we saw in above examples the Gradient Descent Algoritm can be coded in a few lines of code. This code could be improved, but eventually it work with almost any problem we want to solve and it is the baseline of all deep learning algoritms."
   ]
  },
  {
   "cell_type": "code",
   "execution_count": null,
   "metadata": {
    "collapsed": true,
    "deletable": true,
    "editable": true
   },
   "outputs": [],
   "source": [
    "#Matrix version of Gradient descent\n",
    "#Learning rate\n",
    "a=0.015\n",
    "#Initial weights\n",
    "w=np.matrix([5.0,1.2])\n",
    "for i in range(Nsteps):\n",
    "    iw=-dL(w,x,y)\n",
    "    w=w+a*iw"
   ]
  },
  {
   "cell_type": "markdown",
   "metadata": {
    "deletable": true,
    "editable": true
   },
   "source": [
    "All we need now is define all kind of loss functions $L(w,x,y)$ associated with they function $f(w,x)$ witch is named Model or Predictor, since, once the w parameter are estimated, it will predict new values for $y$ given new values, never seen, of $x$."
   ]
  },
  {
   "cell_type": "markdown",
   "metadata": {
    "deletable": true,
    "editable": true
   },
   "source": [
    "# More generic loss functions\n",
    "Firstly let talk about the Line Model defined in the above examples: $f(w,x)=wx$. Having that into account we can define the loss as:\n",
    "\n",
    "$$L(w,x,y)=(y-f(w,x))(y-f(w,x))^T=(y-wx)(y-wx)^T$$\n",
    "\n",
    "and the derivative/gradient with respect to $w$ is:\n",
    "\n",
    "$$\\frac{\\partial{L}(w,x,y)}{\\partial{w}}=(y-f(w,x))x^T=(y-wx)x^T$$\n",
    "\n",
    "as we saw earlier.\n",
    "\n",
    "But given a more generic and unknow definition of $f(w,x)$ the generic loss is the same:\n",
    "\n",
    "$$L(w,x,y)=(y-f(w,x))(y-f(w,x))^T$$\n",
    "\n",
    "but a more generic gradient expresion is:\n",
    "\n",
    "$$\\frac{\\partial{L}(w,x,y)}{\\partial{w}}=(y-f(w,x))\\frac{\\partial{f}(w,x)}{\\partial{w}}$$\n",
    "\n",
    "for the case of the above linear model $f(w,x)=wx$:\n",
    "\n",
    "$$\\frac{\\partial{f}(w,x)}{\\partial{w}}=\\frac{\\partial{wx}}{\\partial{w}}=x^T$$\n",
    "\n",
    "In order to understand properly the traditional backpropagation algoritm that we sill see later, it is worth be aware of the next expresion:\n",
    "\n",
    "$$\\frac{\\partial{L}(w,x,y)}{\\partial{w}}=dif(w,x,y)\\frac{\\partial{f}(w,x)}{\\partial{w}}=error(w,x,y)\\frac{\\partial{f}(w,x)}{\\partial{w}}$$\n",
    "\n",
    "where $dif(w,x,y)$ if definned as above:\n",
    "\n",
    "$$dif(w,x,y)=error(w,x,y)=y-f(w,x,y)$$\n",
    "\n",
    "The loss we have been working till now is the based in sum of square differences, but other loss functions can be defined. For classification there are mainly two loss functions, both based on crossentropy\n",
    "\n",
    "## Loss Cross Entrophy for Sigmoid\n",
    "From now on we will change the name of the linear model used till now from $f(w,x)=wx$ to $lin(w,x)=wx$, the name change but the expression is the same.\n",
    "\n",
    "For the case of Binary Linear Classificaction also know as Logistic Regression, the model $f(w,x)$ is deffined as a shrinking of the linear model $lin(w,x)$. The shrinking function is $sig(x)$. Then:\n",
    "\n",
    "$$f(w,x)=sig(lin(w,x))=sig(wx)=\\frac{1}{1+e^{-lin(w,x)}}=\\frac{1}{1-e^{-wx}}$$\n",
    "\n",
    "given the definition of $sig(x)$:\n",
    "\n",
    "$$sig(x)=\\frac{1}{1+e^{-x}}$$\n",
    "\n",
    "For this model the sum of square differences loss doesn't work properly and its derivative is very complicates. On the other hand a loss based on crossentropy works much better and its derivative is very easy, just like the one for lineal models.\n",
    "\n",
    "The crossentropy loss for sigmoid is defined as:\n",
    "\n",
    "$$L(w,x,y)=L(f(w,x),y)=-\\sum_i y_i\\cdot log(f(w,x_i))+(1-y_i)\\cdot log(1-f(w,x_i))$$\n",
    "\n",
    "and the gradient of this loss is very easy:\n",
    "\n",
    "$$\\frac{\\partial{L}(w,x,y)}{\\partial{w}}=(y-f(w,x))x^T<>(y-wx)x^T$$\n",
    "\n",
    "It look like very much to the expression for linear gradient but care have to be taken since unrolling the expresion we have two diferent things.\n",
    "\n",
    "In one hand we have, for linear regression model:\n",
    "\n",
    "$$\\frac{\\partial{L}(w,x,y)}{\\partial{w}}=(y-f(w,x))x^T=(y-wx)x^T$$\n",
    "\n",
    "On the other hand, for the binary linear classification model:\n",
    "\n",
    "$$\\frac{\\partial{L}(w,x,y)}{\\partial{w}}=(y-f(w,x))x^T=(y-\\frac{1}{1+e^{-wx}})x^T$$\n",
    "\n",
    "\n",
    "### Expression derivation\n",
    "This section can be skipped with any problem.\n",
    "\n",
    "We want to derive this expression:\n",
    "\n",
    "$$\\frac{\\partial{L}(w,x,y)}{\\partial{w}}=(y-f(w,x))x^T$$\n",
    "\n",
    "Using the chain rule we have that:\n",
    "\n",
    "$$\\frac{\\partial{L}(w,x,y)}{\\partial{w}}=\\frac{\\partial{L(f(w,x),y)}}{\\partial{f(w,x)}}\\frac{\\partial{sig}(lin(w,x))}{\\partial{lin}(w,x)}\\frac{\\partial{lin(w,x)}}{\\partial{w}}$$\n",
    "\n",
    "given the equality:\n",
    "\n",
    "$$f(w,x)=sig(lin(w,x))$$\n",
    "\n",
    "The derivative of sigmoid is:\n",
    "\n",
    "$$\\frac{\\partial{sig}(lin(w,x))}{\\partial{lin}(w,x)}=sig(lin(w,x))(1-sig(lin(w,x)))$$\n",
    "\n",
    "The gradient of Cross Entropy loss for Softmax is:\n",
    "\n",
    "$$\\frac{\\partial{L(f(w,x),y)}}{\\partial{f(w,x)}}=\\frac{-y}{f(w,x)}+\\frac{1-y}{1-f(w,x)}=\\frac{f(w,x)-y}{f(w,x)(1-f(w,x)}$$\n",
    "\n",
    "For the linear model we have:\n",
    "\n",
    "$$\\frac{\\partial{lin(w,x)}}{\\partial{w}}=\\frac{\\partial{wx}}{\\partial{w}}=x^T$$\n",
    "\n",
    "Putting it all together:\n",
    "\n",
    "$$\\frac{\\partial{L}(w,x,y)}{\\partial{w}}=\\frac{f(w,x)-y}{f(w,x)(1-f(w,x)}sig(lin(w,x))(1-sig(lin(w,x)))x^T$$\n",
    "\n",
    "Working out:\n",
    "\n",
    "$$\\frac{\\partial{L}(w,x,y)}{\\partial{w}}=(f(w,x)-y))x^T$$\n",
    "\n",
    "Some sign seem to have been lost in the derivation.\n",
    "\n",
    "## Loss Cross Entropy for Softmax\n",
    "\n",
    "# Binary Linear Classification\n",
    "Now we are going to see a real example of recognition of hand written digits from de data set MNIST.\n",
    "\n",
    "Firstly we are going to classify images of one versus images of zero. The process is mainly as the above examples but using loss Cross entropy for softmax instead of the square of differences loss.\n",
    "\n",
    "Most of the work is on sorting out all the data in order to make a proper classification.\n",
    "One of the \"trick\" used on classification is assign a number for every class but this number is coded as a one hot encoding, that is, if we have four classes {0,1,2,3} then we code each class as {(1,0,0,0),(0,1,0,0),(0,0,1,0),(0,0,0,1)}. In this first example we have only two classes then we only need a number with values 0 or 1.\n",
    "\n",
    "Let read all the data from the file mnist.pkl.gz. Each image is a 28x28 gray scale matrix reshaped to a 784 one dimension vector. There are 50000 training images."
   ]
  },
  {
   "cell_type": "code",
   "execution_count": 121,
   "metadata": {
    "collapsed": false,
    "deletable": true,
    "editable": true
   },
   "outputs": [
    {
     "name": "stdout",
     "output_type": "stream",
     "text": [
      "(50000, 784)\n",
      "(50000,)\n"
     ]
    }
   ],
   "source": [
    "#Binary Linear Classification\n",
    "#Let apply the above to a real problem\n",
    "#handwritten digit recognition\n",
    "#\n",
    "#Firstly start collecting the data\n",
    "import pickle, gzip, numpy\n",
    "\n",
    "# Load the dataset\n",
    "# There is a train set, a validation seet and a test set.\n",
    "# -Train set is to train the models\n",
    "# -Validation set is to validate models\n",
    "# -Test set is to test the final model\n",
    "f = gzip.open('mnist.pkl.gz', 'rb')\n",
    "train_set, valid_set, test_set = pickle.load(f,encoding='iso-8859-1')\n",
    "f.close()\n",
    "\n",
    "print(train_set[0].shape)\n",
    "print(train_set[1].shape)"
   ]
  },
  {
   "cell_type": "code",
   "execution_count": 122,
   "metadata": {
    "collapsed": false,
    "deletable": true,
    "editable": true
   },
   "outputs": [
    {
     "name": "stdout",
     "output_type": "stream",
     "text": [
      "4\n"
     ]
    },
    {
     "data": {
      "image/png": "[encoded data removed]",
      "text/plain": [
       "<matplotlib.figure.Figure at 0x7fafb95d85f8>"
      ]
     },
     "metadata": {},
     "output_type": "display_data"
    }
   ],
   "source": [
    "digitToSee=24530\n",
    "plt.imshow(train_set[0][digitToSee].reshape(28,28), cmap=\"gray_r\")\n",
    "print(train_set[1][digitToSee])\n",
    "plt.show()"
   ]
  },
  {
   "cell_type": "code",
   "execution_count": 123,
   "metadata": {
    "collapsed": true,
    "deletable": true,
    "editable": true
   },
   "outputs": [],
   "source": [
    "#this function add a row of ones to the first row of a matrix\n",
    "#in order to have a bias term\n",
    "def addOnesFirstRow(m):\n",
    "    ones=np.ones(m.shape[1])\n",
    "    rm=np.vstack([ones,m])\n",
    "    return rm"
   ]
  },
  {
   "cell_type": "code",
   "execution_count": 124,
   "metadata": {
    "collapsed": false,
    "deletable": true,
    "editable": true
   },
   "outputs": [
    {
     "name": "stdout",
     "output_type": "stream",
     "text": [
      "Trainning with 1000 data samples.\n",
      "Each sample as a dimension of 784 .\n"
     ]
    }
   ],
   "source": [
    "N=1000 #data samples\n",
    "print(\"Trainning with\",N,\"data samples.\")\n",
    "D=train_set[0][0].shape[0]\n",
    "print(\"Each sample as a dimension of\",D,\".\")\n",
    "#We are going to recognize digits zero and one\n",
    "train_zeros_ones_x=np.matrix([train_set[0][i] for i in range(train_set[0].shape[0]) if train_set[1][i]==0 or train_set[1][i]==1][:N]).T\n",
    "train_zeros_ones_x=addOnesFirstRow(train_zeros_ones_x)\n",
    "train_zeros_ones_y=np.matrix([train_set[1][i] for i in range(train_set[0].shape[0]) if train_set[1][i]==0 or train_set[1][i]==1][:N])\n",
    "\n",
    "valid_zeros_x=np.matrix([valid_set[0][i] for i in range(valid_set[0].shape[0]) if valid_set[1][i]==0][:N]).T\n",
    "valid_zeros_x=addOnesFirstRow(valid_zeros_x)\n",
    "valid_ones_x =np.matrix([valid_set[0][i] for i in range(valid_set[0].shape[0]) if valid_set[1][i]==1][:N]).T\n",
    "valid_ones_x=addOnesFirstRow(valid_ones_x)"
   ]
  },
  {
   "cell_type": "code",
   "execution_count": 125,
   "metadata": {
    "collapsed": false,
    "deletable": true,
    "editable": true
   },
   "outputs": [
    {
     "name": "stdout",
     "output_type": "stream",
     "text": [
      "(785, 1000)\n",
      "(1, 1000)\n",
      "(785, 991)\n",
      "(785, 1000)\n"
     ]
    }
   ],
   "source": [
    "print(train_zeros_ones_x.shape)\n",
    "print(train_zeros_ones_y.shape)\n",
    "print(valid_zeros_x.shape)\n",
    "print(valid_ones_x.shape)"
   ]
  },
  {
   "cell_type": "code",
   "execution_count": 126,
   "metadata": {
    "collapsed": false,
    "deletable": true,
    "editable": true
   },
   "outputs": [
    {
     "name": "stdout",
     "output_type": "stream",
     "text": [
      "(785, 1000)\n",
      "(1, 1000)\n"
     ]
    }
   ],
   "source": [
    "# x images and y labels\n",
    "x=train_zeros_ones_x\n",
    "y=train_zeros_ones_y\n",
    "print(x.shape)\n",
    "print(y.shape)"
   ]
  },
  {
   "cell_type": "code",
   "execution_count": 129,
   "metadata": {
    "collapsed": false,
    "deletable": true,
    "editable": true
   },
   "outputs": [
    {
     "name": "stdout",
     "output_type": "stream",
     "text": [
      "(1, 785)\n",
      "0 L(w,x,y)= 0.710270075882 iw= -0.177402834805 0.255652305104\n",
      "100 L(w,x,y)= 0.115874700601 iw= -0.0224645938878 0.0609039921635\n",
      "200 L(w,x,y)= 0.0671332664223 iw= -0.0129424449854 0.0341723162824\n",
      "300 L(w,x,y)= 0.0490915499197 iw= -0.00927803502649 0.0242394980821\n",
      "400 L(w,x,y)= 0.0395492497408 iw= -0.0074959013981 0.0190017749245\n",
      "500 L(w,x,y)= 0.0335835982373 iw= -0.00635369311945 0.0157431007381\n",
      "600 L(w,x,y)= 0.0294699472774 iw= -0.00555374560859 0.0135087084033\n",
      "700 L(w,x,y)= 0.0264440296929 iw= -0.0049594021735 0.0118751801939\n",
      "800 L(w,x,y)= 0.0241137834795 iw= -0.00449874427116 0.0106253405525\n",
      "900 L(w,x,y)= 0.0222567500855 iw= -0.00413016611088 0.0096360304985\n",
      "1000 L(w,x,y)= 0.020750855702 iw= -0.00383061450518 0.00883935639413\n"
     ]
    }
   ],
   "source": [
    "#Learning rate\n",
    "a=0.01\n",
    "\n",
    "#Init weights random normal with 1/sqrt(D) variance, data dimension + 1 for bias\n",
    "w=np.matrix(np.random.normal(0,1.0/np.sqrt(D),D+1))\n",
    "#Init the bias to 0 not random\n",
    "w[0,0]=0\n",
    "print(w.shape)\n",
    "\n",
    "#Binary Lineal Classification model\n",
    "def Lin(w,x):\n",
    "    return w*x\n",
    "def dLin_w(w,x):\n",
    "    return x.T\n",
    "def Sigmoid(l):\n",
    "    return 1.0/(1.0+np.exp(-l))\n",
    "def dSigmoid(l):\n",
    "    s=Sigmoid(l)\n",
    "    return s*(1.0-s)\n",
    "#Function is linear but shrinked to [0,1]\n",
    "def f(w,x):\n",
    "    l=Lin(w,x)\n",
    "    return Sigmoid(l)\n",
    "def df(w,x):\n",
    "    return dSigmoid(Lin(w,x))*dLin_w(w,x)\n",
    "#Loss is binary cross entropy\n",
    "def L(w,x,y):\n",
    "    fwx=f(w,x)\n",
    "    cross1=np.multiply(y,np.log(fwx))\n",
    "    cross0=np.multiply((1.0-y),np.log(1-fwx))\n",
    "    l=-np.sum(cross1+cross0)/N\n",
    "    return l\n",
    "#Gradient has almost the same expresion as in less square loss\n",
    "def dL(w,x,y):\n",
    "    dif=f(w,x)-y\n",
    "    return dif*x.T/N\n",
    "\n",
    "#Learning as always\n",
    "i=0\n",
    "while i<1000:\n",
    "    iw=-dL(w,x,y)\n",
    "    w=w+a*iw\n",
    "    if i%100==0:\n",
    "        print(i,\"L(w,x,y)=\",L(w,x,y),\"iw=\",np.min(iw),np.max(iw))\n",
    "    i+=1\n",
    "print(i,\"L(w,x,y)=\",L(w,x,y),\"iw=\",np.min(iw),np.max(iw))\n"
   ]
  },
  {
   "cell_type": "code",
   "execution_count": 130,
   "metadata": {
    "collapsed": false,
    "deletable": true,
    "editable": true
   },
   "outputs": [
    {
     "name": "stdout",
     "output_type": "stream",
     "text": [
      "(785, 1000)\n",
      "999\n"
     ]
    }
   ],
   "source": [
    "sample=valid_ones_x\n",
    "#plt.imshow(sample.reshape(28,28), cmap=\"gray_r\")\n",
    "#plt.show()\n",
    "print(sample.shape)\n",
    "print(np.sum(f(w,sample)>0.5))"
   ]
  },
  {
   "cell_type": "code",
   "execution_count": 131,
   "metadata": {
    "collapsed": false,
    "deletable": true,
    "editable": true
   },
   "outputs": [
    {
     "name": "stdout",
     "output_type": "stream",
     "text": [
      "(785, 991)\n",
      "988\n"
     ]
    }
   ],
   "source": [
    "sample=valid_zeros_x\n",
    "#plt.imshow(sample.reshape(28,28), cmap=\"gray_r\")\n",
    "#plt.show()\n",
    "print(sample.shape)\n",
    "print(np.sum(f(w,sample)<0.5))"
   ]
  },
  {
   "cell_type": "code",
   "execution_count": 132,
   "metadata": {
    "collapsed": false,
    "deletable": true,
    "editable": true
   },
   "outputs": [
    {
     "name": "stdout",
     "output_type": "stream",
     "text": [
      "-0.170051031129 0.313620645019\n",
      "(1, 785)\n",
      "(1, 784)\n"
     ]
    },
    {
     "data": {
      "image/png": "[encoded data removed]",
      "text/plain": [
       "<matplotlib.figure.Figure at 0x7fafb99c8b00>"
      ]
     },
     "metadata": {},
     "output_type": "display_data"
    }
   ],
   "source": [
    "print(np.min(w),np.max(w))\n",
    "print(w.shape)\n",
    "imgw=w[:,1:]\n",
    "print(imgw.shape)\n",
    "plt.imshow(imgw.reshape(28,28), cmap=\"gray_r\")\n",
    "plt.show()\n"
   ]
  },
  {
   "cell_type": "code",
   "execution_count": 142,
   "metadata": {
    "collapsed": false,
    "deletable": true,
    "editable": true
   },
   "outputs": [
    {
     "name": "stdout",
     "output_type": "stream",
     "text": [
      "(10, 50000)\n",
      "(50000,)\n",
      "(785, 50000)\n",
      "[[ 1.  1.  1.  1.  1.]\n",
      " [ 0.  0.  0.  0.  0.]\n",
      " [ 0.  0.  0.  0.  0.]\n",
      " [ 0.  0.  0.  0.  0.]\n",
      " [ 0.  0.  0.  0.  0.]]\n",
      "[5 0 4 1 9 2 1 3 1 4]\n",
      "[[ 0.  1.  0.  0.  0.  0.  0.  0.  0.  0.]\n",
      " [ 0.  0.  0.  1.  0.  0.  1.  0.  1.  0.]\n",
      " [ 0.  0.  0.  0.  0.  1.  0.  0.  0.  0.]\n",
      " [ 0.  0.  0.  0.  0.  0.  0.  1.  0.  0.]\n",
      " [ 0.  0.  1.  0.  0.  0.  0.  0.  0.  1.]\n",
      " [ 1.  0.  0.  0.  0.  0.  0.  0.  0.  0.]\n",
      " [ 0.  0.  0.  0.  0.  0.  0.  0.  0.  0.]\n",
      " [ 0.  0.  0.  0.  0.  0.  0.  0.  0.  0.]\n",
      " [ 0.  0.  0.  0.  0.  0.  0.  0.  0.  0.]\n",
      " [ 0.  0.  0.  0.  1.  0.  0.  0.  0.  0.]]\n"
     ]
    },
    {
     "data": {
      "image/png": "[encoded data removed]",
      "text/plain": [
       "<matplotlib.figure.Figure at 0x7fafb96ad2b0>"
      ]
     },
     "metadata": {},
     "output_type": "display_data"
    }
   ],
   "source": [
    "N=train_set[0].shape[0]\n",
    "D=train_set[0].shape[1]\n",
    "train_set_x=addOnesFirstRow(np.matrix(train_set[0]).T)\n",
    "#one hot encoding\n",
    "train_set_y=np.matrix(np.zeros((10,N)))\n",
    "train_set_y[train_set[1],np.arange(N)]=1\n",
    "print(train_set_y.shape)\n",
    "print(train_set[1].shape)\n",
    "print(train_set_x.shape)\n",
    "print(train_set_x[:5,:5])\n",
    "print(train_set[1][:10])\n",
    "print(train_set_y[:,:10])\n",
    "x=train_set_x\n",
    "y=train_set_y\n",
    "plt.imshow(train_set_x[1:,18].reshape(28,28),cmap=\"gray_r\")\n",
    "plt.show()\n"
   ]
  },
  {
   "cell_type": "code",
   "execution_count": 143,
   "metadata": {
    "collapsed": false,
    "deletable": true,
    "editable": true
   },
   "outputs": [
    {
     "name": "stdout",
     "output_type": "stream",
     "text": [
      "(10, 785)\n",
      "L(w,x,y)= 2.26945777897 iw= -0.0735914065399 0.0558234162909\n",
      "L(w,x,y)= 0.805649750203 iw= -0.0144248385317 0.0181837544095\n",
      "L(w,x,y)= 0.618928536543 iw= -0.00888078076466 0.0107877520944\n",
      "L(w,x,y)= 0.541847255386 iw= -0.00768991308182 0.00779120738074\n",
      "L(w,x,y)= 0.497912990328 iw= -0.00701351150709 0.00599266414935\n",
      "L(w,x,y)= 0.468809483102 iw= -0.00651656273056 0.00490037473141\n",
      "L(w,x,y)= 0.447765854124 iw= -0.00612385014952 0.00469830690611\n",
      "L(w,x,y)= 0.431652075022 iw= -0.00579885926662 0.00452219844571\n",
      "L(w,x,y)= 0.418804279574 iw= -0.00552148374218 0.00436660454381\n",
      "L(w,x,y)= 0.408248549942 iw= -0.00527955561193 0.00422752183859\n",
      "L(w,x,y)= 0.399373080434 iw= -0.00506515508031 0.00410197002112\n",
      "L(w,x,y)= 0.39177216166 iw= -0.00487282415027 0.00398768474652\n",
      "L(w,x,y)= 0.385164976616 iw= -0.004698626618 0.00388290955903\n",
      "L(w,x,y)= 0.379350275847 iw= -0.00453961852413 0.00378625611968\n",
      "L(w,x,y)= 0.374179617792 iw= -0.00439353229157 0.00369660897709\n",
      "L(w,x,y)= 0.369540823663 iw= -0.00425857892072 0.00361305925702\n",
      "L(w,x,y)= 0.365347344746 iw= -0.00413331881502 0.00353485739725\n",
      "L(w,x,y)= 0.361531201094 iw= -0.0040165743115 0.00346137869717\n",
      "L(w,x,y)= 0.358038157465 iw= -0.00390736856105 0.00339209769455\n",
      "L(w,x,y)= 0.354824345517 iw= -0.00380488164065 0.00332656876382\n",
      "L(w,x,y)= 0.35191107357 iw= -0.00371029251287 0.0032656235018\n"
     ]
    }
   ],
   "source": [
    "#Learning rate\n",
    "a=0.1\n",
    "\n",
    "#Init weights random normal with 1/sqrt(D) variance, data dimension + 1 for bias\n",
    "w=np.matrix(np.random.normal(0,1.0/np.sqrt(D),10*(D+1)).reshape(10,D+1))\n",
    "#Init the bias to 0 not random\n",
    "w[:,0]=0\n",
    "print(w.shape)\n",
    "#print(w[:,:4])\n",
    "\n",
    "#Binary Lineal Classification model\n",
    "def Lin(w,x):\n",
    "    return w*x\n",
    "def dLin_w(w,x):\n",
    "    return x.T\n",
    "def Softmax(l):\n",
    "    #trick to avoid numerical unstability\n",
    "    l-=np.max(l,axis=0)\n",
    "    e=np.exp(l)\n",
    "    s=np.sum(e,axis=0)\n",
    "    p=e/s\n",
    "    return p\n",
    "#Function is linear but shrinked to [0,1]\n",
    "def f(w,x):\n",
    "    l=Lin(w,x)\n",
    "    return Softmax(l)\n",
    "#Loss is categorical cross entropy\n",
    "def L(w,x,y):\n",
    "    fwx=f(w,x)\n",
    "    cross=np.multiply(y,np.log(fwx))\n",
    "    l=-np.sum(cross)/N\n",
    "    return l\n",
    "#Gradient has almost the same expresion as in less square loss\n",
    "def dL(w,x,y):\n",
    "    p=f(w,x)\n",
    "    dif=p-y\n",
    "    dl=dif*x.T\n",
    "    return dl/N\n",
    "\n",
    "#Learning as always\n",
    "i=0\n",
    "while i<1000:\n",
    "    iw=-dL(w,x,y)\n",
    "    w=w+a*iw\n",
    "    if i%50==0:\n",
    "        print(\"L(w,x,y)=\",L(w,x,y),\"iw=\",np.min(iw),np.max(iw))\n",
    "    i+=1\n",
    "print(\"L(w,x,y)=\",L(w,x,y),\"iw=\",np.min(iw),np.max(iw))"
   ]
  },
  {
   "cell_type": "code",
   "execution_count": 118,
   "metadata": {
    "collapsed": false,
    "deletable": true,
    "editable": true
   },
   "outputs": [
    {
     "name": "stdout",
     "output_type": "stream",
     "text": [
      "[5 0 4 1 9 2 1 3 1 4]\n",
      "[[0 1 0 0 0 0 0 0 0 0]\n",
      " [0 0 0 1 0 0 1 0 1 0]\n",
      " [0 0 0 0 0 1 0 0 0 0]\n",
      " [0 0 0 0 0 0 0 1 0 0]\n",
      " [0 0 1 0 0 0 0 0 0 1]\n",
      " [1 0 0 0 0 0 0 0 0 0]\n",
      " [0 0 0 0 0 0 0 0 0 0]\n",
      " [0 0 0 0 0 0 0 0 0 0]\n",
      " [0 0 0 0 0 0 0 0 0 0]\n",
      " [0 0 0 0 1 0 0 0 0 0]]\n"
     ]
    }
   ],
   "source": [
    "p=f(w,x)\n",
    "print(train_set[1][:10])\n",
    "print((p[:,:10]>0.5)*1)"
   ]
  },
  {
   "cell_type": "code",
   "execution_count": 119,
   "metadata": {
    "collapsed": false,
    "deletable": true,
    "editable": true
   },
   "outputs": [
    {
     "name": "stdout",
     "output_type": "stream",
     "text": [
      "-0.585065591777 0.502765898216\n",
      "(10, 785)\n"
     ]
    },
    {
     "data": {
      "image/png": "[encoded data removed]",
      "text/plain": [
       "<matplotlib.figure.Figure at 0x7fafb95d80b8>"
      ]
     },
     "metadata": {},
     "output_type": "display_data"
    }
   ],
   "source": [
    "print(np.min(w),np.max(w))\n",
    "print(w.shape)\n",
    "for i in range(10):\n",
    "    plt.subplot(2, 5, i+1)\n",
    "    imgw=w[i,1:]\n",
    "    plt.imshow(imgw.reshape(28,28), cmap=\"gray_r\")\n",
    "plt.show()\n"
   ]
  },
  {
   "cell_type": "code",
   "execution_count": null,
   "metadata": {
    "collapsed": true,
    "deletable": true,
    "editable": true
   },
   "outputs": [],
   "source": []
  }
 ],
 "metadata": {
  "anaconda-cloud": {},
  "kernelspec": {
   "display_name": "Python 3",
   "language": "python",
   "name": "python3"
  },
  "language_info": {
   "codemirror_mode": {
    "name": "ipython",
    "version": 3
   },
   "file_extension": ".py",
   "mimetype": "text/x-python",
   "name": "python",
   "nbconvert_exporter": "python",
   "pygments_lexer": "ipython3",
   "version": "3.5.2"
  },
  "widgets": {
   "state": {},
   "version": "1.1.2"
  }
 },
 "nbformat": 4,
 "nbformat_minor": 2
}
