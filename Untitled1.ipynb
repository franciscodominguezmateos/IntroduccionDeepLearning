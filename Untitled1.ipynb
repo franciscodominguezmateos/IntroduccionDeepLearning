{
 "cells": [
  {
   "cell_type": "markdown",
   "metadata": {},
   "source": [
    "(px1+vx1*k-px0)/vx0=t\n",
    "$$px0+vx0*t=px1+vx1*k$$\n",
    "$$vx0*t=px1+vx1*k-px0$$\n",
    "$$t=\\frac{px1+vx1*k-px0}{vx0}$$\n",
    "k=(py0+vy0*((px1+vx1*k-px0)/vx0)-py1)/vy1\n",
    "$$py1+vy1*k=py0+vy0*\\frac{px1+vx1*k-px0}{vx0}$$\n",
    "$$py1+vy1*k=py0+\\frac{vy0*px1+vy0*vx1*k-vy0*px0}{vx0}$$\n",
    "$$py1+vy1*k=py0+\\frac{vy0*px1}{vx0}+\\frac{vy0*vx1*k}{vx0}-\\frac{vy0*px0}{vx0}$$\n",
    "$$py1+vy1*k-\\frac{vy0*vx1*k}{vx0}=py0+\\frac{vy0*px1-vy0*px0}{vx0}$$\n",
    "$$vy1*k-\\frac{vy0*vx1*k}{vx0}=py0-py1+\\frac{vy0*(px1-px0)}{vx0}$$\n",
    "$$k*(vy1-\\frac{vy0*vx1}{vx0})=py0-py1+\\frac{vy0*(px1-px0)}{vx0}$$\n",
    "$$k*\\frac{vx0*vy1-vy0*vx1}{vx0}=\\frac{vx0*(py0-py1)+vy0*(px1-px0)}{vx0}$$\n",
    "$$k=\\frac{vx0*(py0-py1)+vy0*(px1-px0)}{vx0*vy1-vy0*vx1}$$\n",
    "\n",
    "z0=pz0+vz0*t\n"
   ]
  }
 ],
 "metadata": {
  "kernelspec": {
   "display_name": "Python 3",
   "language": "python",
   "name": "python3"
  },
  "language_info": {
   "codemirror_mode": {
    "name": "ipython",
    "version": 3
   },
   "file_extension": ".py",
   "mimetype": "text/x-python",
   "name": "python",
   "nbconvert_exporter": "python",
   "pygments_lexer": "ipython3",
   "version": "3.7.7"
  }
 },
 "nbformat": 4,
 "nbformat_minor": 4
}
