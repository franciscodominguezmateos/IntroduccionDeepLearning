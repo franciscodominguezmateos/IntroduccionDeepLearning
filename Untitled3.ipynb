{
 "cells": [
  {
   "cell_type": "code",
   "execution_count": 4,
   "id": "lovely-incident",
   "metadata": {},
   "outputs": [
    {
     "name": "stdout",
     "output_type": "stream",
     "text": [
      "[4 2 9 8 1 0 3 5 6 7]\n",
      "[1 2 3 0]\n",
      "[[20 21 22]\n",
      " [23 24 25]\n",
      " [26 27 28]\n",
      " [29 30 31]]\n",
      "[[23 24 25]\n",
      " [26 27 28]\n",
      " [29 30 31]\n",
      " [20 21 22]]\n"
     ]
    }
   ],
   "source": [
    "import numpy as np\n",
    "idx=np.arange(4)\n",
    "np.random.shuffle(idx)\n",
    "data=np.arange(20,20+12).reshape(4,3)\n",
    "print(idx_o)\n",
    "print(idx)\n",
    "print(data)\n",
    "print(data[idx])"
   ]
  },
  {
   "cell_type": "code",
   "execution_count": 5,
   "id": "lesbian-portfolio",
   "metadata": {},
   "outputs": [],
   "source": [
    "import torch"
   ]
  },
  {
   "cell_type": "code",
   "execution_count": 10,
   "id": "cultural-river",
   "metadata": {},
   "outputs": [
    {
     "name": "stdout",
     "output_type": "stream",
     "text": [
      "306.0\n"
     ]
    }
   ],
   "source": [
    "data_torch=torch.Tensor(data)\n",
    "acc=torch.sum(data_torch)\n",
    "print(acc.item())"
   ]
  },
  {
   "cell_type": "code",
   "execution_count": null,
   "id": "acting-extreme",
   "metadata": {},
   "outputs": [],
   "source": []
  }
 ],
 "metadata": {
  "kernelspec": {
   "display_name": "Python 3",
   "language": "python",
   "name": "python3"
  },
  "language_info": {
   "codemirror_mode": {
    "name": "ipython",
    "version": 3
   },
   "file_extension": ".py",
   "mimetype": "text/x-python",
   "name": "python",
   "nbconvert_exporter": "python",
   "pygments_lexer": "ipython3",
   "version": "3.8.8"
  }
 },
 "nbformat": 4,
 "nbformat_minor": 5
}
