{
 "cells": [
  {
   "cell_type": "code",
   "execution_count": 2,
   "metadata": {
    "collapsed": true
   },
   "outputs": [],
   "source": [
    "import numpy as np\n",
    "import matplotlib.pyplot as plt\n",
    "\n",
    "# Config the matplotlib backend as plotting inline in IPython\n",
    "%matplotlib inline"
   ]
  },
  {
   "cell_type": "code",
   "execution_count": 51,
   "metadata": {},
   "outputs": [
    {
     "name": "stdout",
     "output_type": "stream",
     "text": [
      "[matrix([[-2. ,  4.5,  6.2]]), matrix([[  2.6 ,  10.4 ,  12.44]])]\n",
      "[[  7.   9.  18.]]\n",
      "[[ 4.4  -1.4   5.56]]\n",
      "[[ 52.2336]]\n",
      "(1, 1)\n",
      "[None, matrix([[ 1.2]])]\n",
      "(1, 3)\n",
      "(1, 3)\n",
      "[None, matrix([[ 4.4 , -1.4 ,  5.56]])]\n",
      "[None, matrix([[ 19.372]])]\n",
      "[None, matrix([[ 8.56]])]\n"
     ]
    }
   ],
   "source": [
    "#Data\n",
    "x=np.matrix([[-2.0, 4.5, 6.2]])\n",
    "y=np.matrix([[ 7.0, 9.0,18.0]])\n",
    "N=x.shape[1]\n",
    "#Input dimension\n",
    "DI=x.shape[0]\n",
    "#Output dimension\n",
    "DO=y.shape[0]\n",
    "W=[]\n",
    "#weights\n",
    "W.append(None)#not weights input layer\n",
    "#Gradient of cost with respecto to weits\n",
    "dL_W=[]\n",
    "dL_W.append(None)#not weights input layer\n",
    "#bias\n",
    "b=[]\n",
    "b.append(None)#not bias for input layer\n",
    "dL_b=[]\n",
    "dL_b.append(None)#not bias for input layer\n",
    "#Activation Layers\n",
    "a=[]\n",
    "a.append(x)\n",
    "#Linear operation Layers\n",
    "l=[]\n",
    "l.append(None)#not linear activation for input layer\n",
    "#Delta Layers\n",
    "d=[]\n",
    "d.append(None)#not delta for input layer\n",
    "#Units number for layers\n",
    "ln=[DI,DO]\n",
    "#last layer index\n",
    "L=len(ln)-1\n",
    "for i in range(1,len(ln)):\n",
    "    j=i-1\n",
    "    a.append   (np.matrix(np.zeros((ln[i],N))))\n",
    "    l.append   (np.matrix(np.zeros((ln[i],N))))\n",
    "    d.append   (np.matrix(np.zeros((ln[i],N))))\n",
    "    W.append   (np.matrix(1.0/np.sqrt(ln[j])*np.random.randn(ln[i],ln[j])))\n",
    "    dL_W.append(np.matrix(np.zeros((ln[i],ln[j]))))\n",
    "    b.append   (np.matrix(np.zeros((ln[i],1))))\n",
    "    dL_b.append(np.matrix(np.zeros((ln[i],1))))\n",
    "\n",
    "#Values to test\n",
    "W[1]=np.matrix([[1.2]])\n",
    "b[1]=np.matrix([[5.0]])\n",
    "\n",
    "#Non linear function\n",
    "def S(l):\n",
    "    #s=1.0/(1+np.exp(-l))\n",
    "    return l\n",
    "def dS(x):\n",
    "    s=S(x)\n",
    "    #ds=s*(1-s)\n",
    "    return 1.0\n",
    "\n",
    "def forwardpass(a,W,b):\n",
    "    for i in range(1,len(l)):\n",
    "        j=i-1\n",
    "        l[i]=W[i]*a[j]+b[i]\n",
    "        a[i]=S(l[i])\n",
    "        \n",
    "def backwardpass(a,y,W,b):\n",
    "    #Delta error\n",
    "    #just up to layer 1\n",
    "    d[L]=(y-a[L])*dS(l[L])\n",
    "    for i in reversed(range(2,len(ln))):\n",
    "        j=i-1\n",
    "        d[j]=dS(l[j])*W[i].T*d[i]\n",
    "    #Gradients\n",
    "    for i in reversed(range(1,len(ln))):\n",
    "        j=i-1\n",
    "        dL_W[i]=d[i]*a[j].T#outer product\n",
    "        print(d[i].shape)\n",
    "        dL_b[i]=d[i]*np.ones((1,N)).T#np.sum(d[i],axis=1)\n",
    "        \n",
    "forwardpass(a,W,b)\n",
    "print(a)\n",
    "dif=y-a[L]\n",
    "print(y)\n",
    "print(dif)\n",
    "print(dif*dif.T)\n",
    "print(W[1].shape)      \n",
    "print(W)\n",
    "backwardpass(a,y,W,b)\n",
    "print(d[1].shape)\n",
    "print(d)\n",
    "print(dL_W)\n",
    "print(dL_b)\n"
   ]
  },
  {
   "cell_type": "code",
   "execution_count": null,
   "metadata": {
    "collapsed": true
   },
   "outputs": [],
   "source": []
  },
  {
   "cell_type": "code",
   "execution_count": null,
   "metadata": {
    "collapsed": true
   },
   "outputs": [],
   "source": []
  }
 ],
 "metadata": {
  "anaconda-cloud": {},
  "kernelspec": {
   "display_name": "Python 3",
   "language": "python",
   "name": "python3"
  },
  "language_info": {
   "codemirror_mode": {
    "name": "ipython",
    "version": 3
   },
   "file_extension": ".py",
   "mimetype": "text/x-python",
   "name": "python",
   "nbconvert_exporter": "python",
   "pygments_lexer": "ipython3",
   "version": "3.8.8"
  }
 },
 "nbformat": 4,
 "nbformat_minor": 2
}
