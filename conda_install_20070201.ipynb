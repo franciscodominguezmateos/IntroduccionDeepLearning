{
 "cells": [
  {
   "cell_type": "code",
   "execution_count": 6,
   "metadata": {},
   "outputs": [],
   "source": [
    "#!conda install -c conda-forge matplotlib --yes\n",
    "#!conda install -c anaconda seaborn --yes"
   ]
  },
  {
   "cell_type": "code",
   "execution_count": 9,
   "metadata": {},
   "outputs": [],
   "source": [
    "# To install pytorch\n",
    "#!conda install -c pytorch pytorch --yes\n",
    "#!conda install -c pytorch torchvision --yes"
   ]
  },
  {
   "cell_type": "code",
   "execution_count": 10,
   "metadata": {},
   "outputs": [],
   "source": [
    "# To install tensorflow\n",
    "#!conda install -c anaconda tensorflow-gpu --yes\n",
    "#!conda install -c conda-forge tensorflow-probability --yes\n",
    "#!conda install -c conda-forge tensorboard --yes\n",
    "#!conda install -c anaconda tensorflow-datasets --yes"
   ]
  },
  {
   "cell_type": "code",
   "execution_count": 4,
   "metadata": {},
   "outputs": [],
   "source": [
    "# To draw net graph in for tensorflow.keras\n",
    "#!conda install -c anaconda pydot --yes\n",
    "#02/07/2020 this downgrade to tensorflow 2.1.0\n",
    "#!conda install -c anaconda graphviz --yes"
   ]
  },
  {
   "cell_type": "code",
   "execution_count": 12,
   "metadata": {},
   "outputs": [],
   "source": [
    "# To install opencv\n",
    "#!conda install -c conda-forge opencv --yes"
   ]
  },
  {
   "cell_type": "code",
   "execution_count": 14,
   "metadata": {},
   "outputs": [],
   "source": [
    "# The easiest way to parse xml files I have found.\n",
    "#! pip install untangle"
   ]
  },
  {
   "cell_type": "code",
   "execution_count": 7,
   "metadata": {},
   "outputs": [],
   "source": [
    "# To see animations with matplotlib\n",
    "# Upgrade opencv to 4.3\n",
    "#!conda install -c conda-forge ffmpeg --yes"
   ]
  },
  {
   "cell_type": "code",
   "execution_count": 16,
   "metadata": {},
   "outputs": [],
   "source": [
    "#!conda install -c anaconda scikit-image --yes"
   ]
  },
  {
   "cell_type": "code",
   "execution_count": 18,
   "metadata": {},
   "outputs": [],
   "source": [
    "#!conda install -c anaconda scikit-learn --yes"
   ]
  },
  {
   "cell_type": "code",
   "execution_count": 20,
   "metadata": {},
   "outputs": [],
   "source": [
    "#!conda install -c conda-forge pycocotools --yes"
   ]
  },
  {
   "cell_type": "code",
   "execution_count": 22,
   "metadata": {},
   "outputs": [],
   "source": [
    "#!conda install -c conda-forge ipywidgets --yes"
   ]
  },
  {
   "cell_type": "code",
   "execution_count": 24,
   "metadata": {},
   "outputs": [],
   "source": [
    "#Install jax with gpu for conda 10.1\n",
    "#!pip install --upgrade jax jaxlib==0.1.64+cuda101 -f https://storage.googleapis.com/jax-releases/jax_releases.html"
   ]
  },
  {
   "cell_type": "code",
   "execution_count": null,
   "metadata": {},
   "outputs": [],
   "source": [
    "#!conda update --all --yes"
   ]
  },
  {
   "cell_type": "code",
   "execution_count": 3,
   "metadata": {},
   "outputs": [],
   "source": [
    "#!conda update -n base -c defaults conda --yes"
   ]
  },
  {
   "cell_type": "code",
   "execution_count": 3,
   "metadata": {},
   "outputs": [],
   "source": [
    "#!conda install -c anaconda pyaudio --yes"
   ]
  },
  {
   "cell_type": "code",
   "execution_count": 2,
   "metadata": {},
   "outputs": [],
   "source": [
    "#!conda install -c anaconda scikit-learn --yes"
   ]
  },
  {
   "cell_type": "code",
   "execution_count": 1,
   "metadata": {},
   "outputs": [
    {
     "name": "stdout",
     "output_type": "stream",
     "text": [
      "Collecting package metadata (current_repodata.json): done\n",
      "Solving environment: \\ \n",
      "The environment is inconsistent, please check the package plan carefully\n",
      "The following packages are causing the inconsistency:\n",
      "\n",
      "  - defaults/linux-64::tensorflow-base==2.4.1=gpu_py38h29c2da4_0\n",
      "  - anaconda/noarch::tensorflow-metadata==0.14.0=pyhe6710b0_1\n",
      "  - defaults/noarch::tensorflow-estimator==2.4.1=pyheb71bc4_0\n",
      "  - conda-forge/noarch::tensorflow-probability==0.12.1=pyhd8ed1ab_0\n",
      "  - defaults/linux-64::tensorflow==2.4.1=gpu_py38h8a7d6ce_0\n",
      "  - defaults/linux-64::tensorflow-gpu==2.4.1=h30adc30_0\n",
      "  - anaconda/linux-64::tensorflow-datasets==1.2.0=py38| \n",
      "done\n",
      "\n",
      "\n",
      "==> WARNING: A newer version of conda exists. <==\n",
      "  current version: 4.10.0\n",
      "  latest version: 4.10.3\n",
      "\n",
      "Please update conda by running\n",
      "\n",
      "    $ conda update -n base -c defaults conda\n",
      "\n",
      "\n",
      "\n",
      "## Package Plan ##\n",
      "\n",
      "  environment location: /home/francisco/anaconda3/envs/dml3.8\n",
      "\n",
      "  added / updated specs:\n",
      "    - librosa\n",
      "\n",
      "\n",
      "The following packages will be downloaded:\n",
      "\n",
      "    package                    |            build\n",
      "    ---------------------------|-----------------\n",
      "    audioread-2.1.8            |   py38h32f6830_2          32 KB  conda-forge/label/cf202003\n",
      "    ca-certificates-2019.11.28 |       hecc5488_0         145 KB  conda-forge/label/cf202003\n",
      "    certifi-2021.5.30          |   py38h06a4308_0         138 KB\n",
      "    libflac-1.3.1              |    he1b5a44_1002         570 KB  conda-forge/label/cf202003\n",
      "    libllvm8-8.0.1             |       hc9558a2_0        23.2 MB  conda-forge/label/cf202003\n",
      "    libogg-1.3.2               |    h516909a_1002         206 KB  conda-forge/label/cf202003\n",
      "    librosa-0.7.2              |             py_0         1.5 MB  conda-forge/label/cf202003\n",
      "    libsndfile-1.0.28          |    he1b5a44_1000         529 KB  conda-forge/label/cf202003\n",
      "    libvorbis-1.3.5            |    h516909a_1002         624 KB  conda-forge/label/cf202003\n",
      "    llvmlite-0.31.0            |   py38h4f45e52_1         327 KB  conda-forge/label/cf202003\n",
      "    numba-0.48.0               |   py38hb3f55d8_0         3.4 MB  conda-forge/label/cf202003\n",
      "    pysoundfile-0.10.2         |          py_1001          21 KB  conda-forge/label/cf202003\n",
      "    python-flatbuffers-1.11    |             py_0          18 KB  conda-forge/label/cf202003\n",
      "    resampy-0.2.2              |             py_0         332 KB  conda-forge/label/cf202003\n",
      "    ------------------------------------------------------------\n",
      "                                           Total:        31.0 MB\n",
      "\n",
      "The following NEW packages will be INSTALLED:\n",
      "\n",
      "  audioread          conda-forge/label/cf202003/linux-64::audioread-2.1.8-py38h32f6830_2\n",
      "  libflac            conda-forge/label/cf202003/linux-64::libflac-1.3.1-he1b5a44_1002\n",
      "  libllvm8           conda-forge/label/cf202003/linux-64::libllvm8-8.0.1-hc9558a2_0\n",
      "  libogg             conda-forge/label/cf202003/linux-64::libogg-1.3.2-h516909a_1002\n",
      "  librosa            conda-forge/label/cf202003/noarch::librosa-0.7.2-py_0\n",
      "  libsndfile         conda-forge/label/cf202003/linux-64::libsndfile-1.0.28-he1b5a44_1000\n",
      "  libvorbis          conda-forge/label/cf202003/linux-64::libvorbis-1.3.5-h516909a_1002\n",
      "  llvmlite           conda-forge/label/cf202003/linux-64::llvmlite-0.31.0-py38h4f45e52_1\n",
      "  numba              conda-forge/label/cf202003/linux-64::numba-0.48.0-py38hb3f55d8_0\n",
      "  pysoundfile        conda-forge/label/cf202003/noarch::pysoundfile-0.10.2-py_1001\n",
      "  python-flatbuffers conda-forge/label/cf202003/noarch::python-flatbuffers-1.11-py_0\n",
      "  resampy            conda-forge/label/cf202003/noarch::resampy-0.2.2-py_0\n",
      "\n",
      "The following packages will be UPDATED:\n",
      "\n",
      "  certifi                anaconda::certifi-2020.6.20-py38_0 --> pkgs/main::certifi-2021.5.30-py38h06a4308_0\n",
      "  openssl                                 1.1.1j-h27cfd23_0 --> 1.1.1k-h27cfd23_0\n",
      "\n",
      "The following packages will be SUPERSEDED by a higher-priority channel:\n",
      "\n",
      "  ca-certificates    anaconda::ca-certificates-2020.10.14-0 --> conda-forge/label/cf202003::ca-certificates-2019.11.28-hecc5488_0\n",
      "\n",
      "\n",
      "\n",
      "Downloading and Extracting Packages\n",
      "llvmlite-0.31.0      | 327 KB    | ##################################### | 100% \n",
      "libflac-1.3.1        | 570 KB    | ##################################### | 100% \n",
      "numba-0.48.0         | 3.4 MB    | ##################################### | 100% \n",
      "python-flatbuffers-1 | 18 KB     | ##################################### | 100% \n",
      "audioread-2.1.8      | 32 KB     | ##################################### | 100% \n",
      "resampy-0.2.2        | 332 KB    | ##################################### | 100% \n",
      "libvorbis-1.3.5      | 624 KB    | ##################################### | 100% \n",
      "certifi-2021.5.30    | 138 KB    | ##################################### | 100% \n",
      "ca-certificates-2019 | 145 KB    | ##################################### | 100% \n",
      "pysoundfile-0.10.2   | 21 KB     | ##################################### | 100% \n",
      "librosa-0.7.2        | 1.5 MB    | ##################################### | 100% \n",
      "libllvm8-8.0.1       | 23.2 MB   | ##################################### | 100% \n",
      "libogg-1.3.2         | 206 KB    | ##################################### | 100% \n",
      "libsndfile-1.0.28    | 529 KB    | ##################################### | 100% \n",
      "Preparing transaction: done\n",
      "Verifying transaction: done\n",
      "Executing transaction: done\n"
     ]
    }
   ],
   "source": [
    "#!conda install -c conda-forge/label/cf202003 librosa --yes"
   ]
  },
  {
   "cell_type": "code",
   "execution_count": null,
   "metadata": {},
   "outputs": [],
   "source": []
  }
 ],
 "metadata": {
  "kernelspec": {
   "display_name": "Python 3",
   "language": "python",
   "name": "python3"
  },
  "language_info": {
   "codemirror_mode": {
    "name": "ipython",
    "version": 3
   },
   "file_extension": ".py",
   "mimetype": "text/x-python",
   "name": "python",
   "nbconvert_exporter": "python",
   "pygments_lexer": "ipython3",
   "version": "3.8.8"
  }
 },
 "nbformat": 4,
 "nbformat_minor": 4
}
