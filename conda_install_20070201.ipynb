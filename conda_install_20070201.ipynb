{
 "cells": [
  {
   "cell_type": "code",
   "execution_count": null,
   "metadata": {},
   "outputs": [],
   "source": [
    "#!conda install -c conda-forge matplotlib --yes\n",
    "#!conda install -c anaconda seaborn --yes"
   ]
  },
  {
   "cell_type": "code",
   "execution_count": null,
   "metadata": {},
   "outputs": [],
   "source": [
    "# To install pytorch\n",
    "#!conda install -c pytorch pytorch --yes\n",
    "#!conda install -c pytorch torchvision --yes"
   ]
  },
  {
   "cell_type": "code",
   "execution_count": 2,
   "metadata": {},
   "outputs": [],
   "source": [
    "# To install tensorflow\n",
    "#!conda install -c anaconda tensorflow-gpu --yes\n",
    "#!conda install -c conda-forge tensorflow-probability --yes\n",
    "#!conda install -c conda-forge tensorboard --yes\n",
    "#!conda install -c anaconda tensorflow-datasets --yes"
   ]
  },
  {
   "cell_type": "code",
   "execution_count": null,
   "metadata": {},
   "outputs": [],
   "source": [
    "# To draw net graph in for tensorflow.keras\n",
    "#!conda install -c anaconda pydot --yes\n",
    "#02/07/2020 this downgrade to tensorflow 2.1.0\n",
    "#!conda install -c anaconda graphviz --yes"
   ]
  },
  {
   "cell_type": "code",
   "execution_count": null,
   "metadata": {},
   "outputs": [],
   "source": [
    "# To install opencv\n",
    "#!conda install -c conda-forge opencv --yes"
   ]
  },
  {
   "cell_type": "code",
   "execution_count": 4,
   "metadata": {},
   "outputs": [],
   "source": [
    "# The easiest way to parse xml files I have found.\n",
    "#! pip install untangle"
   ]
  },
  {
   "cell_type": "code",
   "execution_count": 3,
   "metadata": {},
   "outputs": [],
   "source": [
    "# To see animations with matplotlib\n",
    "# Upgrade opencv to 4.3\n",
    "#!conda install -c conda-forge ffmpeg --yes"
   ]
  },
  {
   "cell_type": "code",
   "execution_count": 1,
   "metadata": {},
   "outputs": [
    {
     "name": "stdout",
     "output_type": "stream",
     "text": [
      "Solving environment: done\n",
      "\n",
      "\n",
      "==> WARNING: A newer version of conda exists. <==\n",
      "  current version: 4.5.11\n",
      "  latest version: 4.8.3\n",
      "\n",
      "Please update conda by running\n",
      "\n",
      "    $ conda update -n base -c defaults conda\n",
      "\n",
      "\n",
      "\n",
      "## Package Plan ##\n",
      "\n",
      "  environment location: /home/francisco/anaconda3/envs/jax_gpu\n",
      "\n",
      "  added / updated specs: \n",
      "    - scikit-image\n",
      "\n",
      "\n",
      "The following packages will be downloaded:\n",
      "\n",
      "    package                    |            build\n",
      "    ---------------------------|-----------------\n",
      "    imageio-2.9.0              |             py_0         3.1 MB  anaconda\n",
      "    dask-core-2.20.0           |             py_0         622 KB  anaconda\n",
      "    pyyaml-5.3.1               |   py37h7b6447c_1         191 KB  anaconda\n",
      "    networkx-2.4               |             py_1         1.2 MB  anaconda\n",
      "    yaml-0.2.5                 |       h7b6447c_0          87 KB  anaconda\n",
      "    ------------------------------------------------------------\n",
      "                                           Total:         5.2 MB\n",
      "\n",
      "The following NEW packages will be INSTALLED:\n",
      "\n",
      "    cytoolz:      0.10.1-py37h7b6447c_0 anaconda\n",
      "    dask-core:    2.20.0-py_0           anaconda\n",
      "    imageio:      2.9.0-py_0            anaconda\n",
      "    networkx:     2.4-py_1              anaconda\n",
      "    pywavelets:   1.1.1-py37h7b6447c_0  anaconda\n",
      "    pyyaml:       5.3.1-py37h7b6447c_1  anaconda\n",
      "    scikit-image: 0.16.2-py37h0573a6f_0 anaconda\n",
      "    toolz:        0.10.0-py_0           anaconda\n",
      "    yaml:         0.2.5-h7b6447c_0      anaconda\n",
      "\n",
      "\n",
      "Downloading and Extracting Packages\n",
      "imageio-2.9.0        | 3.1 MB    | ##################################### | 100% \n",
      "dask-core-2.20.0     | 622 KB    | ##################################### | 100% \n",
      "pyyaml-5.3.1         | 191 KB    | ##################################### | 100% \n",
      "networkx-2.4         | 1.2 MB    | ##################################### | 100% \n",
      "yaml-0.2.5           | 87 KB     | ##################################### | 100% \n",
      "Preparing transaction: done\n",
      "Verifying transaction: done\n",
      "Executing transaction: done\n"
     ]
    }
   ],
   "source": [
    "#!conda install -c anaconda scikit-image --yes"
   ]
  },
  {
   "cell_type": "code",
   "execution_count": null,
   "metadata": {},
   "outputs": [],
   "source": []
  }
 ],
 "metadata": {
  "kernelspec": {
   "display_name": "Python 3",
   "language": "python",
   "name": "python3"
  },
  "language_info": {
   "codemirror_mode": {
    "name": "ipython",
    "version": 3
   },
   "file_extension": ".py",
   "mimetype": "text/x-python",
   "name": "python",
   "nbconvert_exporter": "python",
   "pygments_lexer": "ipython3",
   "version": "3.7.6"
  }
 },
 "nbformat": 4,
 "nbformat_minor": 4
}
