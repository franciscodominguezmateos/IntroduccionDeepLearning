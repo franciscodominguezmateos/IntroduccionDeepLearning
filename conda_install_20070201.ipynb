{
 "cells": [
  {
   "cell_type": "code",
   "execution_count": null,
   "metadata": {},
   "outputs": [],
   "source": [
    "#!conda install -c conda-forge matplotlib --yes\n",
    "#!conda install -c anaconda seaborn --yes"
   ]
  },
  {
   "cell_type": "code",
   "execution_count": null,
   "metadata": {},
   "outputs": [],
   "source": [
    "# To install pytorch\n",
    "#!conda install -c pytorch pytorch --yes\n",
    "#!conda install -c pytorch torchvision --yes"
   ]
  },
  {
   "cell_type": "code",
   "execution_count": null,
   "metadata": {},
   "outputs": [],
   "source": [
    "# To install tensorflow\n",
    "#!conda install -c anaconda tensorflow-gpu --yes\n",
    "#!conda install -c conda-forge tensorflow-probability --yes\n",
    "#!conda install -c conda-forge tensorboard --yes"
   ]
  },
  {
   "cell_type": "code",
   "execution_count": null,
   "metadata": {},
   "outputs": [],
   "source": [
    "# To draw net graph in for tensorflow.keras\n",
    "#!conda install -c anaconda pydot --yes\n",
    "#02/07/2020 this downgrade to tensorflow 2.1.0\n",
    "#!conda install -c anaconda graphviz --yes"
   ]
  },
  {
   "cell_type": "code",
   "execution_count": null,
   "metadata": {},
   "outputs": [],
   "source": [
    "# To install opencv\n",
    "#!conda install -c conda-forge opencv --yes"
   ]
  },
  {
   "cell_type": "code",
   "execution_count": 4,
   "metadata": {},
   "outputs": [],
   "source": [
    "# The easiest way to parse xml files I have found.\n",
    "#! pip install untangle"
   ]
  },
  {
   "cell_type": "code",
   "execution_count": 1,
   "metadata": {},
   "outputs": [
    {
     "name": "stdout",
     "output_type": "stream",
     "text": [
      "Solving environment: done\n",
      "\n",
      "\n",
      "==> WARNING: A newer version of conda exists. <==\n",
      "  current version: 4.5.11\n",
      "  latest version: 4.8.3\n",
      "\n",
      "Please update conda by running\n",
      "\n",
      "    $ conda update -n base -c defaults conda\n",
      "\n",
      "\n",
      "\n",
      "## Package Plan ##\n",
      "\n",
      "  environment location: /home/francisco/anaconda3/envs/jax_gpu\n",
      "\n",
      "  added / updated specs: \n",
      "    - ffmpeg\n",
      "\n",
      "\n",
      "The following packages will be downloaded:\n",
      "\n",
      "    package                    |            build\n",
      "    ---------------------------|-----------------\n",
      "    h5py-2.10.0                |nompi_py37h90cd8ad_103         1.1 MB  conda-forge\n",
      "    pango-1.42.4               |       h7062337_4         521 KB  conda-forge\n",
      "    opencv-4.3.0               |           py37_2          19 KB  conda-forge\n",
      "    xorg-libxpm-3.5.13         |       h516909a_0          63 KB  conda-forge\n",
      "    graphviz-2.42.3            |       h0511662_0         6.9 MB  conda-forge\n",
      "    xorg-libxt-1.1.5           |    h516909a_1003         367 KB  conda-forge\n",
      "    ffmpeg-4.3                 |       h167e202_0        83.3 MB  conda-forge\n",
      "    libtool-2.4.6              |    h14c3975_1002         512 KB  conda-forge\n",
      "    py-opencv-4.3.0            |   py37h43977f1_2          21 KB  conda-forge\n",
      "    libopencv-4.3.0            |           py37_2        33.0 MB  conda-forge\n",
      "    matplotlib-3.2.2           |                1           6 KB  conda-forge\n",
      "    ------------------------------------------------------------\n",
      "                                           Total:       125.8 MB\n",
      "\n",
      "The following NEW packages will be INSTALLED:\n",
      "\n",
      "    libtool:          2.4.6-h14c3975_1002  conda-forge\n",
      "    matplotlib-base:  3.2.2-py37h30547a4_0 conda-forge\n",
      "    xorg-libsm:       1.2.3-h84519dc_1000  conda-forge\n",
      "    xorg-libxpm:      3.5.13-h516909a_0    conda-forge\n",
      "    xorg-libxt:       1.1.5-h516909a_1003  conda-forge\n",
      "\n",
      "The following packages will be UPDATED:\n",
      "\n",
      "    cairo:            1.14.12-h8948797_3   anaconda    --> 1.16.0-hcf35c78_1003          conda-forge\n",
      "    certifi:          2020.6.20-py37_0     anaconda    --> 2020.6.20-py37hc8dfbb8_0      conda-forge\n",
      "    ffmpeg:           4.0-hcdf2ecd_0       anaconda    --> 4.3-h167e202_0                conda-forge\n",
      "    fontconfig:       2.13.0-h9420a91_0    anaconda    --> 2.13.1-h86ecdb6_1001          conda-forge\n",
      "    glib:             2.56.2-hd408876_0    anaconda    --> 2.65.0-h6f030ca_0             conda-forge\n",
      "    graphviz:         2.40.1-h21bd128_2    anaconda    --> 2.42.3-h0511662_0             conda-forge\n",
      "    gst-plugins-base: 1.14.0-hbbd80ab_1    anaconda    --> 1.14.5-h0935bb2_2             conda-forge\n",
      "    gstreamer:        1.14.0-hb453b48_1    anaconda    --> 1.14.5-h36ae1b5_2             conda-forge\n",
      "    h5py:             2.8.0-py37h989c5e5_3 anaconda    --> 2.10.0-nompi_py37h90cd8ad_103 conda-forge\n",
      "    harfbuzz:         1.8.8-hffaf4a1_0     anaconda    --> 2.4.0-h9f30f68_3              conda-forge\n",
      "    hdf5:             1.10.2-hba1933b_1    anaconda    --> 1.10.6-nompi_h3c11f04_100     conda-forge\n",
      "    icu:              58.2-he6710b0_3      anaconda    --> 64.2-he1b5a44_1               conda-forge\n",
      "    libopencv:        3.4.2-hb342d67_1     anaconda    --> 4.3.0-py37_2                  conda-forge\n",
      "    libuuid:          1.0.3-h1bed415_2     anaconda    --> 2.32.1-h14c3975_1000          conda-forge\n",
      "    matplotlib:       3.1.2-py37h4fdacc2_0 anaconda    --> 3.2.2-1                       conda-forge\n",
      "    opencv:           3.4.2-py37h6fd60c2_1 anaconda    --> 4.3.0-py37_2                  conda-forge\n",
      "    openssl:          1.1.1g-h7b6447c_0    anaconda    --> 1.1.1g-h516909a_0             conda-forge\n",
      "    pango:            1.42.4-h049681c_0    anaconda    --> 1.42.4-h7062337_4             conda-forge\n",
      "    py-opencv:        3.4.2-py37hb342d67_1 anaconda    --> 4.3.0-py37h43977f1_2          conda-forge\n",
      "    pyqt:             5.9.2-py37h05f1152_2 anaconda    --> 5.12.3-py37h8685d9f_3         conda-forge\n",
      "    qt:               5.9.7-h5867ecd_1     anaconda    --> 5.12.5-hd8c4c69_1             conda-forge\n",
      "\n",
      "The following packages will be DOWNGRADED:\n",
      "\n",
      "    ca-certificates:  2020.6.24-0          anaconda    --> 2020.6.20-hecda079_0          conda-forge\n",
      "    dbus:             1.13.12-h746ee38_0   anaconda    --> 1.13.6-he372182_0             conda-forge\n",
      "    jasper:           2.0.14-h07fcdf6_1    anaconda    --> 1.900.1-h07fcdf6_1006         conda-forge\n",
      "    libxml2:          2.9.10-he19cac6_1    anaconda    --> 2.9.10-hee79883_0             conda-forge\n",
      "\n",
      "\n",
      "Downloading and Extracting Packages\n",
      "h5py-2.10.0          | 1.1 MB    | ##################################### | 100% \n",
      "pango-1.42.4         | 521 KB    | ##################################### | 100% \n",
      "opencv-4.3.0         | 19 KB     | ##################################### | 100% \n",
      "xorg-libxpm-3.5.13   | 63 KB     | ##################################### | 100% \n",
      "graphviz-2.42.3      | 6.9 MB    | ##################################### | 100% \n",
      "xorg-libxt-1.1.5     | 367 KB    | ##################################### | 100% \n",
      "ffmpeg-4.3           | 83.3 MB   | ##################################### | 100% \n",
      "libtool-2.4.6        | 512 KB    | ##################################### | 100% \n",
      "py-opencv-4.3.0      | 21 KB     | ##################################### | 100% \n",
      "libopencv-4.3.0      | 33.0 MB   | ##################################### | 100% \n",
      "matplotlib-3.2.2     | 6 KB      | ##################################### | 100% \n",
      "Preparing transaction: done\n",
      "Verifying transaction: done\n",
      "Executing transaction: done\n",
      "\n",
      "Note: you may need to restart the kernel to use updated packages.\n"
     ]
    }
   ],
   "source": [
    "# To see animations with matplotlib\n",
    "#!conda install -c conda-forge ffmpeg --yes"
   ]
  },
  {
   "cell_type": "code",
   "execution_count": null,
   "metadata": {},
   "outputs": [],
   "source": []
  }
 ],
 "metadata": {
  "kernelspec": {
   "display_name": "Python 3",
   "language": "python",
   "name": "python3"
  },
  "language_info": {
   "codemirror_mode": {
    "name": "ipython",
    "version": 3
   },
   "file_extension": ".py",
   "mimetype": "text/x-python",
   "name": "python",
   "nbconvert_exporter": "python",
   "pygments_lexer": "ipython3",
   "version": "3.7.6"
  }
 },
 "nbformat": 4,
 "nbformat_minor": 4
}
