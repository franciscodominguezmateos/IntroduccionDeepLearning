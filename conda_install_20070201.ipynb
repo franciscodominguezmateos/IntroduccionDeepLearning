{
 "cells": [
  {
   "cell_type": "code",
   "execution_count": null,
   "metadata": {},
   "outputs": [],
   "source": [
    "#!conda install -c conda-forge matplotlib --yes\n",
    "#!conda install -c anaconda seaborn --yes"
   ]
  },
  {
   "cell_type": "code",
   "execution_count": null,
   "metadata": {},
   "outputs": [],
   "source": [
    "# To install pytorch\n",
    "#!conda install -c pytorch pytorch --yes\n",
    "#!conda install -c pytorch torchvision --yes"
   ]
  },
  {
   "cell_type": "code",
   "execution_count": null,
   "metadata": {},
   "outputs": [],
   "source": [
    "# To install tensorflow\n",
    "#!conda install -c anaconda tensorflow-gpu --yes\n",
    "#!conda install -c conda-forge tensorflow-probability --yes\n",
    "#!conda install -c conda-forge tensorboard --yes"
   ]
  },
  {
   "cell_type": "code",
   "execution_count": null,
   "metadata": {},
   "outputs": [],
   "source": [
    "# To draw net graph in for tensorflow.keras\n",
    "#!conda install -c anaconda pydot --yes\n",
    "#02/07/2020 this downgrade to tensorflow 2.1.0\n",
    "#!conda install -c anaconda graphviz --yes"
   ]
  },
  {
   "cell_type": "code",
   "execution_count": null,
   "metadata": {},
   "outputs": [],
   "source": [
    "# To install opencv\n",
    "#!conda install -c conda-forge opencv --yes"
   ]
  },
  {
   "cell_type": "code",
   "execution_count": 4,
   "metadata": {},
   "outputs": [],
   "source": [
    "# The easiest way to parse xml files I have found.\n",
    "#! pip install untangle"
   ]
  },
  {
   "cell_type": "code",
   "execution_count": null,
   "metadata": {},
   "outputs": [],
   "source": []
  }
 ],
 "metadata": {
  "kernelspec": {
   "display_name": "Python 3",
   "language": "python",
   "name": "python3"
  },
  "language_info": {
   "codemirror_mode": {
    "name": "ipython",
    "version": 3
   },
   "file_extension": ".py",
   "mimetype": "text/x-python",
   "name": "python",
   "nbconvert_exporter": "python",
   "pygments_lexer": "ipython3",
   "version": "3.7.6"
  }
 },
 "nbformat": 4,
 "nbformat_minor": 4
}
