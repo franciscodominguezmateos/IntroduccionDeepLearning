{
 "cells": [
  {
   "cell_type": "code",
   "execution_count": 2,
   "metadata": {},
   "outputs": [],
   "source": [
    "# Francisco Dominguez Mateos\n",
    "# 27/06/2020\n",
    "# Defining a custom layer"
   ]
  },
  {
   "cell_type": "code",
   "execution_count": null,
   "metadata": {},
   "outputs": [],
   "source": [
    "import numpy as onp\n",
    "import jax.numpy as np\n",
    "from jax import grad, jit, vmap, value_and_grad\n",
    "from jax import random"
   ]
  },
  {
   "cell_type": "code",
   "execution_count": null,
   "metadata": {},
   "outputs": [],
   "source": [
    "def GRU(out_dim, W_init=glorot_normal(), b_init=normal()):\n",
    "    def init_fun(rng, input_shape):\n",
    "        \"\"\" Initialize the GRU layer for stax \"\"\"\n",
    "        hidden = b_init(rng, (input_shape[0], out_dim))\n",
    "\n",
    "        k1, k2, k3 = random.split(rng, num=3)\n",
    "        update_W, update_U, update_b = (\n",
    "            W_init(k1, (input_shape[2], out_dim)),\n",
    "            W_init(k2, (out_dim, out_dim)),\n",
    "            b_init(k3, (out_dim,)),)\n",
    "\n",
    "        k1, k2, k3 = random.split(rng, num=3)\n",
    "        reset_W, reset_U, reset_b = (\n",
    "            W_init(k1, (input_shape[2], out_dim)),\n",
    "            W_init(k2, (out_dim, out_dim)),\n",
    "            b_init(k3, (out_dim,)),)\n",
    "\n",
    "        k1, k2, k3 = random.split(rng, num=3)\n",
    "        out_W, out_U, out_b = (\n",
    "            W_init(k1, (input_shape[2], out_dim)),\n",
    "            W_init(k2, (out_dim, out_dim)),\n",
    "            b_init(k3, (out_dim,)),)\n",
    "        # Input dim 0 represents the batch dimension\n",
    "        # Input dim 1 represents the time dimension (before scan moveaxis)\n",
    "        output_shape = (input_shape[0], input_shape[1], out_dim)\n",
    "        return (output_shape,\n",
    "            (hidden,\n",
    "             (update_W, update_U, update_b),\n",
    "             (reset_W, reset_U, reset_b),\n",
    "             (out_W, out_U, out_b),),)\n",
    "\n",
    "    def apply_fun(params, inputs, **kwargs):\n",
    "        \"\"\" Loop over the time steps of the input sequence \"\"\"\n",
    "        h = params[0]\n",
    "\n",
    "        def apply_fun_scan(params, hidden, inp):\n",
    "            \"\"\" Perform single step update of the network \"\"\"\n",
    "            _, (update_W, update_U, update_b), (reset_W, reset_U, reset_b), (\n",
    "                out_W, out_U, out_b) = params\n",
    "\n",
    "            update_gate = sigmoid(np.dot(inp, update_W) +\n",
    "                                  np.dot(hidden, update_U) + update_b)\n",
    "            reset_gate = sigmoid(np.dot(inp, reset_W) +\n",
    "                                 np.dot(hidden, reset_U) + reset_b)\n",
    "            output_gate = np.tanh(np.dot(inp, out_W)\n",
    "                                  + np.dot(np.multiply(reset_gate, hidden), out_U)\n",
    "                                  + out_b)\n",
    "            output = np.multiply(update_gate, hidden) + np.multiply(1-update_gate, output_gate)\n",
    "            hidden = output\n",
    "            return hidden, hidden\n",
    "\n",
    "        # Move the time dimension to position 0\n",
    "        inputs = np.moveaxis(inputs, 1, 0)\n",
    "        f = partial(apply_fun_scan, params)\n",
    "        _, h_new = lax.scan(f, h, inputs)\n",
    "        return h_new\n",
    "\n",
    "    return init_fun, apply_fun"
   ]
  }
 ],
 "metadata": {
  "kernelspec": {
   "display_name": "Python 3",
   "language": "python",
   "name": "python3"
  },
  "language_info": {
   "codemirror_mode": {
    "name": "ipython",
    "version": 3
   },
   "file_extension": ".py",
   "mimetype": "text/x-python",
   "name": "python",
   "nbconvert_exporter": "python",
   "pygments_lexer": "ipython3",
   "version": "3.7.6"
  }
 },
 "nbformat": 4,
 "nbformat_minor": 4
}
