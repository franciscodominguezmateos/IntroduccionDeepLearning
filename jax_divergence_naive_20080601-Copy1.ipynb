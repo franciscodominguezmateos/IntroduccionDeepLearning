{
 "cells": [
  {
   "cell_type": "code",
   "execution_count": 1,
   "metadata": {},
   "outputs": [],
   "source": [
    "# Francisco Dominguez Mateos\n",
    "# 06/08/2020\n",
    "# Naive divergence\n",
    "# from: https://github.com/google/jax/issues/173"
   ]
  },
  {
   "cell_type": "markdown",
   "metadata": {},
   "source": [
    "# Snippets for divergence naive version \n",
    "\n",
    "Hi , first not very sure that the issues section is the best place for this so I apologise before hand. Theres not much of a forum community online for JAX (no mailing list ?) yet, and this can almost be seen as a feature request :\n",
    "\n",
    "I am trying to implment the div operator (trace of the jacobian). For a given parametric map (vector field) of the form:\n",
    "\n",
    "$$ f_{\\theta} : \\mathbb{R}^n \\rightarrow \\mathbb{R}^{n} $$\n",
    "\n",
    "I want to apply the div operator to it which is :\n",
    "\n",
    "$$ \\nabla \\cdot f_{\\theta} = \\sum_{i=1}^n \\partial_{x_i} f_\\theta $$\n",
    "\n",
    "Note the derivatives are with respect to the inputs of the function $\\partial_{x_i} f_{\\theta}(x_1, ... x_n)$ rather than theta (theta is constant).\n",
    "\n",
    "I spent some time reading the documentation and thinking about the problem . Using 'grad' and 'vmap' does not seem feasible since by definition this function requires an input of size $n$ and produces an output of the same size, theres no way of making it a scalar nicely, you would have to create n functions whic each return a index $i$ of $f$, which is quite tedious.\n",
    "\n",
    "As a jacobian vector product I cant see how theres a vector v that would produce the trace. of the jacobian (a single pullback wont give you the trace)."
   ]
  },
  {
   "cell_type": "code",
   "execution_count": 12,
   "metadata": {},
   "outputs": [
    {
     "name": "stdout",
     "output_type": "stream",
     "text": [
      "(1, 10)\n",
      "(1,)\n"
     ]
    }
   ],
   "source": [
    "import jax\n",
    "import jax.numpy as np \n",
    "\n",
    "X = np.arange(0,10).reshape(1, 10).astype(\"float32\")\n",
    "\n",
    "theta = np.eye(10,10).astype(\"float32\") \n",
    "\n",
    "def f(theta, X):\n",
    "    out = X.dot(theta)\n",
    "    return out\n",
    "\n",
    "def divergence(f, theta_, X_):\n",
    "\n",
    "    def my_div(f_):\n",
    "        jac = jax.jacrev(f_, 1)\n",
    "        return lambda t, x_: np.trace(jac(t, x_))\n",
    "\n",
    "    div  = ((jax.vmap(my_div(f), in_axes=(None, 0)) (theta_, X_ )))\n",
    "    return div\n",
    "\n",
    "Y=f(theta,X)\n",
    "print(Y.shape)\n",
    "div = divergence(f, theta, X)\n",
    "print(div.shape)  # 50, a scalar div per datapoint(row) in X"
   ]
  },
  {
   "cell_type": "code",
   "execution_count": null,
   "metadata": {},
   "outputs": [],
   "source": []
  }
 ],
 "metadata": {
  "kernelspec": {
   "display_name": "Python 3",
   "language": "python",
   "name": "python3"
  },
  "language_info": {
   "codemirror_mode": {
    "name": "ipython",
    "version": 3
   },
   "file_extension": ".py",
   "mimetype": "text/x-python",
   "name": "python",
   "nbconvert_exporter": "python",
   "pygments_lexer": "ipython3",
   "version": "3.7.6"
  }
 },
 "nbformat": 4,
 "nbformat_minor": 4
}
