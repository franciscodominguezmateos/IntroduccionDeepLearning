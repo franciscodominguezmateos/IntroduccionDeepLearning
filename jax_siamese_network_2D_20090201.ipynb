{
 "cells": [
  {
   "cell_type": "code",
   "execution_count": 1,
   "metadata": {},
   "outputs": [],
   "source": [
    "# Francisco Dominguez Mateos\n",
    "# 02/09/2020\n",
    "# Siamese network\n",
    "# References: Dimensionality Reduction by Learning an Invariant Mapping\n",
    "#    http://yann.lecun.com/exdb/publis/pdf/hadsell-chopra-lecun-06.pdf\n",
    "#Something is wrong, it dones't work as it should.\n",
    "#12/09/2020 the base_net was too little"
   ]
  },
  {
   "cell_type": "code",
   "execution_count": 2,
   "metadata": {},
   "outputs": [],
   "source": [
    "import time\n",
    "import random as pyrandom\n",
    "import numpy as onp\n",
    "\n",
    "import jax.numpy as np\n",
    "from jax import lax, grad, jit, vmap, value_and_grad\n",
    "from jax import random\n",
    "# Import some additional JAX and dataloader helpers\n",
    "from jax.scipy.special import logsumexp\n",
    "from jax.experimental import optimizers\n",
    "from jax.experimental import stax\n",
    "from jax.experimental.stax import (BatchNorm, Conv, Dense, Flatten,\n",
    "                                   Relu, LogSoftmax,parallel)\n",
    "import matplotlib.pyplot as plt"
   ]
  },
  {
   "cell_type": "code",
   "execution_count": 3,
   "metadata": {},
   "outputs": [],
   "source": [
    "from tensorflow.keras.datasets import mnist"
   ]
  },
  {
   "cell_type": "code",
   "execution_count": 4,
   "metadata": {},
   "outputs": [],
   "source": [
    "# Generate key which is used to generate random numbers\n",
    "rng = random.PRNGKey(1)"
   ]
  },
  {
   "cell_type": "code",
   "execution_count": 5,
   "metadata": {},
   "outputs": [
    {
     "name": "stdout",
     "output_type": "stream",
     "text": [
      "18.0\n",
      "12.0\n"
     ]
    }
   ],
   "source": [
    "#Shared params test. It seems to work\n",
    "def f(x):\n",
    "    return x*x\n",
    "def l(x):\n",
    "    return f(x)+f(x)\n",
    "lg=grad(l)\n",
    "print(l(3.0))\n",
    "print(lg(3.0))"
   ]
  },
  {
   "cell_type": "code",
   "execution_count": 6,
   "metadata": {},
   "outputs": [],
   "source": [
    "def contrastive_loss(y_true, y_pred):\n",
    "    '''Contrastive loss from Hadsell-et-al.'06\n",
    "    http://yann.lecun.com/exdb/publis/pdf/hadsell-chopra-lecun-06.pdf\n",
    "    '''\n",
    "    margin = 1.0\n",
    "    square_pred = np.square(y_pred)\n",
    "    #square_pred = K.maximum(y_pred-margin, 0) #y_pred #K.square(y_pred)\n",
    "    margin_square = np.square(np.maximum(margin - y_pred, 0.0))\n",
    "    tcost=y_true * square_pred\n",
    "    fcost=(1.0 - y_true) * margin_square\n",
    "    return np.mean(tcost + fcost)\n"
   ]
  },
  {
   "cell_type": "code",
   "execution_count": 7,
   "metadata": {},
   "outputs": [],
   "source": [
    "def create_pairs(x, digit_indices):\n",
    "    '''Positive and negative pair creation.\n",
    "    Alternates between positive and negative pairs.\n",
    "    '''\n",
    "    pairs = []\n",
    "    labels = []\n",
    "    n = min([len(digit_indices[d]) for d in range(num_classes)]) - 1\n",
    "    for m in range(1):\n",
    "        for d in range(num_classes):\n",
    "            for i in range(n):\n",
    "                ridx=pyrandom.randrange(1,n)\n",
    "                idx=(i+ridx)%n\n",
    "                z1, z2 = digit_indices[d][i], digit_indices[d][idx]\n",
    "                pairs += [[x[z1], x[z2]]]\n",
    "                inc = pyrandom.randrange(1, num_classes)\n",
    "                dn = (d + inc) % num_classes\n",
    "                z1, z2 = digit_indices[d][i], digit_indices[dn][i]\n",
    "                pairs += [[x[z1], x[z2]]]\n",
    "                labels += [1.0, 0.0]\n",
    "    return onp.expand_dims(onp.array(pairs).astype(\"float32\"),axis=-1), onp.array(labels).astype(\"float32\")"
   ]
  },
  {
   "cell_type": "code",
   "execution_count": 8,
   "metadata": {},
   "outputs": [
    {
     "name": "stdout",
     "output_type": "stream",
     "text": [
      "(28, 28, 1)\n"
     ]
    }
   ],
   "source": [
    "# the data, split between train and test sets\n",
    "(x_train, y_train), (x_test, y_test) = mnist.load_data()\n",
    "x_train  = x_train.astype('float32')\n",
    "x_test   = x_test.astype ('float32')\n",
    "y_train  = y_train.astype(\"float32\")\n",
    "y_test   = y_test.astype (\"float32\")\n",
    "x_train /= 255\n",
    "x_test  /= 255\n",
    "input_shape = (x_train.shape[1],x_train.shape[1],1)\n",
    "#input_shape = x_train.shape[1:]\n",
    "\n",
    "print(input_shape)"
   ]
  },
  {
   "cell_type": "code",
   "execution_count": 9,
   "metadata": {},
   "outputs": [
    {
     "data": {
      "image/png": "[encoded data removed]",
      "text/plain": [
       "<Figure size 432x288 with 10 Axes>"
      ]
     },
     "metadata": {
      "needs_background": "light"
     },
     "output_type": "display_data"
    }
   ],
   "source": [
    "for i in range(5):\n",
    "    plt.subplot(5,2,i*2+1)\n",
    "    idx=pyrandom.randrange(0,x_train.shape[0])\n",
    "    plt.imshow(x_train[idx], cmap=\"gray_r\")\n",
    "    plt.subplot(5,2,i*2+2)\n",
    "    idx=pyrandom.randrange(0,x_train.shape[0])\n",
    "    plt.imshow(x_train[idx], cmap=\"gray_r\")\n",
    "plt.show()"
   ]
  },
  {
   "cell_type": "code",
   "execution_count": 10,
   "metadata": {},
   "outputs": [],
   "source": [
    "num_classes = 4\n",
    "# create training+test positive and negative pairs\n",
    "digit_indices = [onp.where(y_train == i)[0] for i in range(num_classes)]\n",
    "tr_pairs, tr_y = create_pairs(x_train, digit_indices)\n",
    "\n",
    "digit_indices = [onp.where(y_test  == i)[0] for i in range(num_classes)]\n",
    "te_pairs, te_y = create_pairs(x_test, digit_indices)"
   ]
  },
  {
   "cell_type": "code",
   "execution_count": 11,
   "metadata": {},
   "outputs": [
    {
     "name": "stdout",
     "output_type": "stream",
     "text": [
      "tr_pairs= (47376, 2, 28, 28, 1) tr_y= (47376,) float32\n",
      "te_pairs= (7832, 2, 28, 28, 1) te_y= (7832,) float32\n",
      "(47376, 28, 28, 1)\n"
     ]
    }
   ],
   "source": [
    "print(\"tr_pairs=\",tr_pairs.shape,\"tr_y=\",tr_y.shape,tr_y.dtype)\n",
    "print(\"te_pairs=\",te_pairs.shape,\"te_y=\",te_y.shape,te_y.dtype)\n",
    "print(tr_pairs[:, 0].shape)"
   ]
  },
  {
   "cell_type": "code",
   "execution_count": 12,
   "metadata": {},
   "outputs": [],
   "source": [
    "#Custom layer definitions\n",
    "\n",
    "def ShareWeights(base_net):\n",
    "    def init_fun(key,input_shape):\n",
    "        init=base_net[0]\n",
    "        nlayers=len(input_shape)\n",
    "        output_shape,params=init(key,input_shape[0])\n",
    "        return [output_shape]*nlayers,params\n",
    "    def apply_fun(params,inputs,**kwargs):\n",
    "        net=base_net[1]\n",
    "        return [net(params,input) for input in inputs]\n",
    "    return init_fun, apply_fun  \n",
    "\n",
    "def Euclidean():\n",
    "    def init_fun(key,input_shape):\n",
    "        assert(len(input_shape)==2)\n",
    "        output_shape=(input_shape[0][0],)\n",
    "        return output_shape,()\n",
    "    def apply_fun(params, inputs, **kwargs):\n",
    "        assert(len(input_shape)==2)\n",
    "        epsilon=1e-6\n",
    "        x, y = inputs\n",
    "        d=x-y\n",
    "        sum_square = np.sum(np.square(d),axis=1)\n",
    "        euclidean_d=np.sqrt(np.maximum(sum_square, epsilon))\n",
    "        return euclidean_d\n",
    "    return init_fun, apply_fun    "
   ]
  },
  {
   "cell_type": "code",
   "execution_count": 13,
   "metadata": {},
   "outputs": [],
   "source": [
    "embedding_dim=2\n",
    "d=dense(128)\n",
    "# Conv seems to work with NHWC but it works with NCHW too\n",
    "init_base, base_net = stax.serial(Conv(32, (5, 5), (1, 1), padding=\"SAME\"),\n",
    "                                 BatchNorm(), Relu,\n",
    "                                 #Conv(32, (5, 5), (1, 1), padding=\"SAME\"),\n",
    "                                 #BatchNorm(), Relu,\n",
    "                                 #Conv(10, (3, 3), (2, 2), padding=\"SAME\"),\n",
    "                                 #BatchNorm(), Relu,\n",
    "                                 Conv(10, (3, 3), (2, 2), padding=\"SAME\"), Relu,\n",
    "                                 Flatten,\n",
    "                                 Dense(128),\n",
    "                                 Dense(128),\n",
    "                                 Dense(embedding_dim))\n",
    "\n",
    "init_siamese,siamese_net=stax.serial(\n",
    "    ShareWeights((init_base, base_net)),\n",
    "    Euclidean()\n",
    ")"
   ]
  },
  {
   "cell_type": "code",
   "execution_count": 49,
   "metadata": {},
   "outputs": [
    {
     "name": "stdout",
     "output_type": "stream",
     "text": [
      "[(-1, 28, 28, 1), (-1, 28, 28, 1)]\n",
      "ouput_shape= (-1,)\n"
     ]
    }
   ],
   "source": [
    "data_shape=(-1,2,28,28,1)\n",
    "input_shape_base=(data_shape[0],*data_shape[2:])\n",
    "input_shape=[input_shape_base]*2\n",
    "print(input_shape)\n",
    "output_shape,params=init_siamese(rng,input_shape)\n",
    "print(\"ouput_shape=\",output_shape)"
   ]
  },
  {
   "cell_type": "code",
   "execution_count": 15,
   "metadata": {},
   "outputs": [],
   "source": [
    "# Make a batched version of the `net` function\n",
    "#siamese_net = vmap(siamese_net , in_axes=(None, 0), out_axes=0)"
   ]
  },
  {
   "cell_type": "code",
   "execution_count": 16,
   "metadata": {},
   "outputs": [
    {
     "name": "stdout",
     "output_type": "stream",
     "text": [
      "(3,) [2.0510101 2.4701345 1.4509218]\n"
     ]
    }
   ],
   "source": [
    "input_test=[tr_pairs[:3,0],tr_pairs[:3,1]]\n",
    "dist=siamese_net(params,input_test)\n",
    "print(dist.shape,dist)"
   ]
  },
  {
   "cell_type": "code",
   "execution_count": 17,
   "metadata": {},
   "outputs": [],
   "source": [
    "def contrastive_loss(params,inputs,label):\n",
    "    '''Contrastive loss from Hadsell-et-al.'06\n",
    "    http://yann.lecun.com/exdb/publis/pdf/hadsell-chopra-lecun-06.pdf\n",
    "    '''\n",
    "    dist_pred=siamese_net(params,inputs)\n",
    "    #print(\"dist_pred=\",dist_pred)\n",
    "    margin_f = 1.0\n",
    "    margin_t = 0.5\n",
    "    push_t = dist_pred #pushing toward 0 aka minimizing :-)\n",
    "    #push_t = np.maximum(dist_pred - margin_t, 0.0 )#pushing toward in  margin_t and then let free\n",
    "    push_f = np.maximum(margin_f - dist_pred, 0.0 )#pushign toward out margin_f and then let free\n",
    "    #print(\"push_f=\",push_f)\n",
    "    tcost  = label * push_t\n",
    "    #print(\"tcost=\",tcost)\n",
    "    fcost  = (1.0 - label) * push_f\n",
    "    #print(\"fcost=\",fcost)\n",
    "    cost   = tcost + fcost\n",
    "    #print(\"cost =\",cost)\n",
    "    return np.mean(cost)"
   ]
  },
  {
   "cell_type": "code",
   "execution_count": 18,
   "metadata": {},
   "outputs": [
    {
     "name": "stdout",
     "output_type": "stream",
     "text": [
      "() 0.0\n"
     ]
    }
   ],
   "source": [
    "label_test=np.array([0]*3)\n",
    "l=contrastive_loss(params,input_test,label_test)\n",
    "print(l.shape,l)"
   ]
  },
  {
   "cell_type": "code",
   "execution_count": 19,
   "metadata": {},
   "outputs": [],
   "source": [
    "def compute_accuracy(params,inputs,label):\n",
    "    '''Compute classification accuracy with a fixed threshold on distances.\n",
    "    '''\n",
    "    dist_pred=siamese_net(params,inputs)\n",
    "    pred = dist_pred.ravel() < 0.5\n",
    "    return np.mean(label == pred)"
   ]
  },
  {
   "cell_type": "code",
   "execution_count": 20,
   "metadata": {},
   "outputs": [
    {
     "name": "stdout",
     "output_type": "stream",
     "text": [
      "() 1.0\n"
     ]
    }
   ],
   "source": [
    "label_test=np.array([0]*3)\n",
    "a=compute_accuracy(params,input_test,label_test)\n",
    "print(a.shape,a)"
   ]
  },
  {
   "cell_type": "code",
   "execution_count": 51,
   "metadata": {},
   "outputs": [],
   "source": [
    "step_size = 1e-3\n",
    "opt_init, opt_update, get_params = optimizers.adam(step_size)\n",
    "opt_state = opt_init(params)"
   ]
  },
  {
   "cell_type": "code",
   "execution_count": 52,
   "metadata": {},
   "outputs": [],
   "source": [
    "def getBatch(x,y,i,batch_size):\n",
    "    bx=[x[j][i*batch_size:i*batch_size+batch_size] for j in range(len(x))]\n",
    "    by=    y[i*batch_size:i*batch_size+batch_size]\n",
    "    return bx,by"
   ]
  },
  {
   "cell_type": "code",
   "execution_count": 23,
   "metadata": {},
   "outputs": [
    {
     "name": "stdout",
     "output_type": "stream",
     "text": [
      "(3, 28, 28, 1) (3, 28, 28, 1) (3,)\n"
     ]
    }
   ],
   "source": [
    "batch_test=getBatch(input_test,label_test,0,3)\n",
    "print(batch_test[0][0].shape,batch_test[0][1].shape,batch_test[1].shape)"
   ]
  },
  {
   "cell_type": "code",
   "execution_count": 24,
   "metadata": {},
   "outputs": [],
   "source": [
    "@jit\n",
    "def update(params, x, y, opt_state):\n",
    "    \"\"\" Compute the gradient for a batch and update the parameters \"\"\"\n",
    "    value, grads = value_and_grad(contrastive_loss)(params, x, y)\n",
    "    opt_state = opt_update(0, grads, opt_state)\n",
    "    return get_params(opt_state), opt_state, value"
   ]
  },
  {
   "cell_type": "code",
   "execution_count": 25,
   "metadata": {},
   "outputs": [
    {
     "name": "stdout",
     "output_type": "stream",
     "text": [
      "0.0\n"
     ]
    }
   ],
   "source": [
    "params,opt_state,value=update(params,batch_test[0],batch_test[1],opt_state)\n",
    "print(value)"
   ]
  },
  {
   "cell_type": "code",
   "execution_count": 26,
   "metadata": {},
   "outputs": [],
   "source": [
    "def fit(opt_state,x,t,batch_size=100,epochs=1,validation_data=None):\n",
    "    num_complete_batches, leftover = divmod(x[0].shape[0], batch_size)\n",
    "    num_batches = num_complete_batches + bool(leftover)\n",
    "    # Initialize placeholder for loggin\n",
    "    log_acc_train, log_acc_test, train_loss = [], [], []\n",
    "\n",
    "    # Get the initial set of parameters\n",
    "    params = get_params(opt_state)\n",
    "\n",
    "    # Get initial accuracy after random init\n",
    "    test_acc  = compute_accuracy(params, validation_data[0],validation_data[1])\n",
    "    train_acc = compute_accuracy(params, *getBatch(x,t,0,batch_size))\n",
    "    log_acc_train.append(train_acc)\n",
    "    log_acc_test.append(test_acc)\n",
    "\n",
    "    # Loop over the training epochs\n",
    "    for epoch in range(epochs):\n",
    "        start_time = time.time()\n",
    "        for ib in range(num_batches):\n",
    "            bx,by=getBatch(x,t,ib,batch_size)\n",
    "            params, opt_state, loss = update(params, bx, by, opt_state)\n",
    "            train_loss.append(loss)\n",
    "\n",
    "        epoch_time = time.time() - start_time\n",
    "        test_acc  = compute_accuracy(params, validation_data[0],validation_data[1])\n",
    "        test_loss = contrastive_loss(params, validation_data[0],validation_data[1])\n",
    "        train_acc = compute_accuracy(params, *getBatch(x,t,0,batch_size))\n",
    "        log_acc_train.append(train_acc)\n",
    "        log_acc_test.append(test_acc)\n",
    "        print(\"Epoch {} | T: {:0.2f} | Loss {:0.4f} | Train A: {:0.4f} | Loss {:0.4f} | Test A: {:0.4f}\".format(epoch+1, epoch_time,\n",
    "                                                                    loss,train_acc, test_loss, test_acc))\n",
    "    return opt_state,train_loss, log_acc_train, log_acc_test"
   ]
  },
  {
   "cell_type": "code",
   "execution_count": 27,
   "metadata": {},
   "outputs": [],
   "source": [
    "validation_data=((te_pairs[:,0],te_pairs[:,1]), te_y)\n",
    "data=[tr_pairs[:,0],tr_pairs[:,1]]\n",
    "labels=tr_y"
   ]
  },
  {
   "cell_type": "code",
   "execution_count": 59,
   "metadata": {},
   "outputs": [
    {
     "name": "stdout",
     "output_type": "stream",
     "text": [
      "Epoch 1 | T: 1.92 | Loss 0.0431 | Train A: 1.0000 | Loss 0.1557 | Test A: 0.9236\n",
      "Epoch 2 | T: 1.93 | Loss 0.0424 | Train A: 1.0000 | Loss 0.1553 | Test A: 0.9230\n",
      "Epoch 3 | T: 1.93 | Loss 0.0437 | Train A: 1.0000 | Loss 0.1551 | Test A: 0.9233\n",
      "Epoch 4 | T: 1.94 | Loss 0.0440 | Train A: 1.0000 | Loss 0.1551 | Test A: 0.9238\n",
      "Epoch 5 | T: 1.95 | Loss 0.0431 | Train A: 1.0000 | Loss 0.1540 | Test A: 0.9235\n",
      "Epoch 6 | T: 1.93 | Loss 0.0433 | Train A: 1.0000 | Loss 0.1542 | Test A: 0.9239\n",
      "Epoch 7 | T: 1.94 | Loss 0.0436 | Train A: 1.0000 | Loss 0.1534 | Test A: 0.9238\n",
      "Epoch 8 | T: 1.94 | Loss 0.0434 | Train A: 1.0000 | Loss 0.1539 | Test A: 0.9238\n",
      "Epoch 9 | T: 1.93 | Loss 0.0429 | Train A: 1.0000 | Loss 0.1536 | Test A: 0.9226\n",
      "Epoch 10 | T: 1.95 | Loss 0.0423 | Train A: 1.0000 | Loss 0.1542 | Test A: 0.9219\n",
      "Epoch 11 | T: 2.05 | Loss 0.0414 | Train A: 1.0000 | Loss 0.1530 | Test A: 0.9217\n",
      "Epoch 12 | T: 2.08 | Loss 0.0418 | Train A: 1.0000 | Loss 0.1515 | Test A: 0.9233\n",
      "Epoch 13 | T: 2.11 | Loss 0.0410 | Train A: 1.0000 | Loss 0.1513 | Test A: 0.9244\n",
      "Epoch 14 | T: 2.13 | Loss 0.0417 | Train A: 1.0000 | Loss 0.1517 | Test A: 0.9263\n",
      "Epoch 15 | T: 2.14 | Loss 0.0419 | Train A: 1.0000 | Loss 0.1516 | Test A: 0.9248\n",
      "Epoch 16 | T: 2.14 | Loss 0.0430 | Train A: 1.0000 | Loss 0.1516 | Test A: 0.9248\n",
      "Epoch 17 | T: 2.13 | Loss 0.0422 | Train A: 1.0000 | Loss 0.1508 | Test A: 0.9251\n",
      "Epoch 18 | T: 2.15 | Loss 0.0435 | Train A: 1.0000 | Loss 0.1517 | Test A: 0.9248\n",
      "Epoch 19 | T: 2.20 | Loss 0.0429 | Train A: 1.0000 | Loss 0.1528 | Test A: 0.9244\n",
      "Epoch 20 | T: 2.05 | Loss 0.0428 | Train A: 1.0000 | Loss 0.1522 | Test A: 0.9247\n",
      "Epoch 21 | T: 2.06 | Loss 0.0423 | Train A: 1.0000 | Loss 0.1535 | Test A: 0.9234\n",
      "Epoch 22 | T: 2.08 | Loss 0.0433 | Train A: 1.0000 | Loss 0.1503 | Test A: 0.9248\n",
      "Epoch 23 | T: 2.08 | Loss 0.0427 | Train A: 1.0000 | Loss 0.1484 | Test A: 0.9256\n",
      "Epoch 24 | T: 2.08 | Loss 0.0428 | Train A: 1.0000 | Loss 0.1486 | Test A: 0.9272\n",
      "Epoch 25 | T: 2.07 | Loss 0.0424 | Train A: 1.0000 | Loss 0.1487 | Test A: 0.9248\n",
      "Epoch 26 | T: 2.07 | Loss 0.0425 | Train A: 1.0000 | Loss 0.1476 | Test A: 0.9240\n",
      "Epoch 27 | T: 2.08 | Loss 0.0425 | Train A: 1.0000 | Loss 0.1458 | Test A: 0.9248\n",
      "Epoch 28 | T: 2.10 | Loss 0.0422 | Train A: 1.0000 | Loss 0.1454 | Test A: 0.9257\n",
      "Epoch 29 | T: 2.17 | Loss 0.0419 | Train A: 1.0000 | Loss 0.1453 | Test A: 0.9252\n",
      "Epoch 30 | T: 2.08 | Loss 0.0422 | Train A: 1.0000 | Loss 0.1451 | Test A: 0.9249\n",
      "Epoch 31 | T: 2.12 | Loss 0.0421 | Train A: 1.0000 | Loss 0.1472 | Test A: 0.9251\n",
      "Epoch 32 | T: 2.27 | Loss 0.0420 | Train A: 1.0000 | Loss 0.1467 | Test A: 0.9243\n",
      "Epoch 33 | T: 2.13 | Loss 0.0430 | Train A: 1.0000 | Loss 0.1465 | Test A: 0.9235\n",
      "Epoch 34 | T: 2.14 | Loss 0.0423 | Train A: 1.0000 | Loss 0.1468 | Test A: 0.9234\n",
      "Epoch 35 | T: 2.17 | Loss 0.0420 | Train A: 1.0000 | Loss 0.1464 | Test A: 0.9243\n",
      "Epoch 36 | T: 2.12 | Loss 0.0419 | Train A: 1.0000 | Loss 0.1465 | Test A: 0.9244\n",
      "Epoch 37 | T: 2.18 | Loss 0.0417 | Train A: 1.0000 | Loss 0.1463 | Test A: 0.9249\n",
      "Epoch 38 | T: 2.18 | Loss 0.0411 | Train A: 1.0000 | Loss 0.1464 | Test A: 0.9271\n",
      "Epoch 39 | T: 2.19 | Loss 0.0416 | Train A: 1.0000 | Loss 0.1462 | Test A: 0.9288\n",
      "Epoch 40 | T: 2.11 | Loss 0.0418 | Train A: 1.0000 | Loss 0.1454 | Test A: 0.9294\n",
      "Epoch 41 | T: 2.16 | Loss 0.0419 | Train A: 1.0000 | Loss 0.1451 | Test A: 0.9312\n",
      "Epoch 42 | T: 2.17 | Loss 0.0422 | Train A: 1.0000 | Loss 0.1455 | Test A: 0.9305\n",
      "Epoch 43 | T: 2.21 | Loss 0.0421 | Train A: 1.0000 | Loss 0.1454 | Test A: 0.9303\n",
      "Epoch 44 | T: 2.17 | Loss 0.0419 | Train A: 1.0000 | Loss 0.1449 | Test A: 0.9314\n",
      "Epoch 45 | T: 2.16 | Loss 0.0421 | Train A: 0.9950 | Loss 0.1456 | Test A: 0.9303\n",
      "Epoch 46 | T: 2.20 | Loss 0.0425 | Train A: 0.9950 | Loss 0.1446 | Test A: 0.9313\n",
      "Epoch 47 | T: 2.13 | Loss 0.0416 | Train A: 0.9950 | Loss 0.1450 | Test A: 0.9314\n",
      "Epoch 48 | T: 2.14 | Loss 0.0421 | Train A: 0.9950 | Loss 0.1457 | Test A: 0.9314\n",
      "Epoch 49 | T: 2.12 | Loss 0.0413 | Train A: 0.9950 | Loss 0.1457 | Test A: 0.9313\n",
      "Epoch 50 | T: 2.29 | Loss 0.0409 | Train A: 1.0000 | Loss 0.1460 | Test A: 0.9299\n",
      "Epoch 51 | T: 2.35 | Loss 0.0401 | Train A: 1.0000 | Loss 0.1456 | Test A: 0.9303\n",
      "Epoch 52 | T: 2.12 | Loss 0.0412 | Train A: 1.0000 | Loss 0.1466 | Test A: 0.9296\n",
      "Epoch 53 | T: 2.12 | Loss 0.0411 | Train A: 1.0000 | Loss 0.1467 | Test A: 0.9286\n",
      "Epoch 54 | T: 2.17 | Loss 0.0412 | Train A: 1.0000 | Loss 0.1462 | Test A: 0.9285\n",
      "Epoch 55 | T: 2.12 | Loss 0.0412 | Train A: 1.0000 | Loss 0.1454 | Test A: 0.9285\n",
      "Epoch 56 | T: 2.19 | Loss 0.0416 | Train A: 0.9950 | Loss 0.1454 | Test A: 0.9279\n",
      "Epoch 57 | T: 2.24 | Loss 0.0418 | Train A: 0.9950 | Loss 0.1451 | Test A: 0.9282\n",
      "Epoch 58 | T: 2.12 | Loss 0.0424 | Train A: 0.9950 | Loss 0.1451 | Test A: 0.9280\n",
      "Epoch 59 | T: 2.17 | Loss 0.0423 | Train A: 0.9950 | Loss 0.1454 | Test A: 0.9271\n",
      "Epoch 60 | T: 2.13 | Loss 0.0413 | Train A: 0.9950 | Loss 0.1451 | Test A: 0.9282\n",
      "Epoch 61 | T: 2.14 | Loss 0.0413 | Train A: 0.9950 | Loss 0.1438 | Test A: 0.9290\n",
      "Epoch 62 | T: 2.11 | Loss 0.0422 | Train A: 0.9950 | Loss 0.1434 | Test A: 0.9295\n",
      "Epoch 63 | T: 2.11 | Loss 0.0430 | Train A: 0.9950 | Loss 0.1422 | Test A: 0.9321\n",
      "Epoch 64 | T: 2.29 | Loss 0.0421 | Train A: 0.9950 | Loss 0.1422 | Test A: 0.9317\n",
      "Epoch 65 | T: 2.36 | Loss 0.0422 | Train A: 0.9950 | Loss 0.1420 | Test A: 0.9318\n",
      "Epoch 66 | T: 2.29 | Loss 0.0425 | Train A: 0.9950 | Loss 0.1418 | Test A: 0.9326\n",
      "Epoch 67 | T: 2.34 | Loss 0.0416 | Train A: 0.9950 | Loss 0.1416 | Test A: 0.9318\n",
      "Epoch 68 | T: 2.36 | Loss 0.0435 | Train A: 0.9950 | Loss 0.1423 | Test A: 0.9311\n",
      "Epoch 69 | T: 2.26 | Loss 0.0422 | Train A: 0.9950 | Loss 0.1416 | Test A: 0.9309\n",
      "Epoch 70 | T: 2.15 | Loss 0.0430 | Train A: 0.9950 | Loss 0.1424 | Test A: 0.9298\n",
      "Epoch 71 | T: 2.10 | Loss 0.0425 | Train A: 0.9950 | Loss 0.1425 | Test A: 0.9286\n",
      "Epoch 72 | T: 2.10 | Loss 0.0419 | Train A: 0.9950 | Loss 0.1423 | Test A: 0.9281\n",
      "Epoch 73 | T: 2.08 | Loss 0.0421 | Train A: 0.9950 | Loss 0.1412 | Test A: 0.9307\n",
      "Epoch 74 | T: 2.13 | Loss 0.0418 | Train A: 0.9950 | Loss 0.1422 | Test A: 0.9288\n",
      "Epoch 75 | T: 2.09 | Loss 0.0416 | Train A: 0.9950 | Loss 0.1420 | Test A: 0.9284\n",
      "Epoch 76 | T: 2.09 | Loss 0.0412 | Train A: 0.9950 | Loss 0.1419 | Test A: 0.9291\n",
      "Epoch 77 | T: 2.13 | Loss 0.0410 | Train A: 0.9950 | Loss 0.1421 | Test A: 0.9288\n",
      "Epoch 78 | T: 2.10 | Loss 0.0418 | Train A: 0.9950 | Loss 0.1436 | Test A: 0.9276\n",
      "Epoch 79 | T: 2.23 | Loss 0.0417 | Train A: 0.9950 | Loss 0.1431 | Test A: 0.9280\n",
      "Epoch 80 | T: 2.09 | Loss 0.0408 | Train A: 0.9950 | Loss 0.1423 | Test A: 0.9294\n",
      "Epoch 81 | T: 2.06 | Loss 0.0421 | Train A: 0.9950 | Loss 0.1418 | Test A: 0.9307\n",
      "Epoch 82 | T: 2.13 | Loss 0.0417 | Train A: 0.9950 | Loss 0.1420 | Test A: 0.9309\n",
      "Epoch 83 | T: 2.07 | Loss 0.0416 | Train A: 0.9950 | Loss 0.1412 | Test A: 0.9321\n",
      "Epoch 84 | T: 2.19 | Loss 0.0418 | Train A: 0.9950 | Loss 0.1410 | Test A: 0.9337\n",
      "Epoch 85 | T: 2.52 | Loss 0.0414 | Train A: 0.9950 | Loss 0.1414 | Test A: 0.9326\n",
      "Epoch 86 | T: 2.56 | Loss 0.0421 | Train A: 0.9950 | Loss 0.1412 | Test A: 0.9345\n",
      "Epoch 87 | T: 2.58 | Loss 0.0421 | Train A: 0.9950 | Loss 0.1414 | Test A: 0.9339\n",
      "Epoch 88 | T: 2.25 | Loss 0.0419 | Train A: 0.9950 | Loss 0.1413 | Test A: 0.9355\n",
      "Epoch 89 | T: 2.20 | Loss 0.0414 | Train A: 0.9950 | Loss 0.1410 | Test A: 0.9354\n",
      "Epoch 90 | T: 2.18 | Loss 0.0416 | Train A: 0.9950 | Loss 0.1399 | Test A: 0.9376\n",
      "Epoch 91 | T: 2.22 | Loss 0.0409 | Train A: 0.9950 | Loss 0.1411 | Test A: 0.9371\n",
      "Epoch 92 | T: 2.21 | Loss 0.0411 | Train A: 0.9950 | Loss 0.1400 | Test A: 0.9363\n",
      "Epoch 93 | T: 2.18 | Loss 0.0417 | Train A: 0.9950 | Loss 0.1406 | Test A: 0.9359\n",
      "Epoch 94 | T: 2.13 | Loss 0.0411 | Train A: 0.9950 | Loss 0.1402 | Test A: 0.9371\n",
      "Epoch 95 | T: 2.19 | Loss 0.0424 | Train A: 0.9950 | Loss 0.1398 | Test A: 0.9368\n",
      "Epoch 96 | T: 2.45 | Loss 0.0409 | Train A: 0.9950 | Loss 0.1394 | Test A: 0.9372\n",
      "Epoch 97 | T: 2.58 | Loss 0.0420 | Train A: 0.9950 | Loss 0.1399 | Test A: 0.9353\n",
      "Epoch 98 | T: 2.54 | Loss 0.0415 | Train A: 0.9950 | Loss 0.1398 | Test A: 0.9359\n",
      "Epoch 99 | T: 2.25 | Loss 0.0421 | Train A: 0.9950 | Loss 0.1393 | Test A: 0.9346\n",
      "Epoch 100 | T: 2.23 | Loss 0.0439 | Train A: 0.9950 | Loss 0.1397 | Test A: 0.9351\n"
     ]
    }
   ],
   "source": [
    "batch_size=200\n",
    "epochs=100\n",
    "opt_state,train_loss,log_acc_train,log_acc_test=fit(opt_state,data,labels,batch_size,epochs,validation_data)"
   ]
  },
  {
   "cell_type": "code",
   "execution_count": 60,
   "metadata": {},
   "outputs": [
    {
     "name": "stdout",
     "output_type": "stream",
     "text": [
      "0.9351379\n"
     ]
    }
   ],
   "source": [
    "params=get_params(opt_state)\n",
    "test_acc  = compute_accuracy(params, validation_data[0],validation_data[1])\n",
    "print(test_acc)"
   ]
  },
  {
   "cell_type": "code",
   "execution_count": 47,
   "metadata": {},
   "outputs": [
    {
     "name": "stdout",
     "output_type": "stream",
     "text": [
      "() 0.1827312\n"
     ]
    }
   ],
   "source": [
    "l=contrastive_loss(params,validation_data[0],validation_data[1])\n",
    "print(l.shape,l)"
   ]
  },
  {
   "cell_type": "code",
   "execution_count": 61,
   "metadata": {},
   "outputs": [
    {
     "data": {
      "image/png": "[encoded data removed]",
      "text/plain": [
       "<Figure size 720x720 with 2 Axes>"
      ]
     },
     "metadata": {
      "needs_background": "light"
     },
     "output_type": "display_data"
    }
   ],
   "source": [
    "# display a 2D plot of the digit classes in the latent space\n",
    "base_params=params[0]\n",
    "idxs=onp.hstack((digit_indices[0],digit_indices[1],digit_indices[2],digit_indices[3]))\n",
    "ex_test=np.expand_dims(x_test[idxs],axis=-1)\n",
    "x_test_encoded = base_net(base_params,ex_test)\n",
    "plt.figure(figsize=(10, 10))\n",
    "plt.scatter(x_test_encoded[:, 0], x_test_encoded[:, 1], c=y_test[idxs])\n",
    "plt.colorbar()\n",
    "plt.show()"
   ]
  },
  {
   "cell_type": "code",
   "execution_count": null,
   "metadata": {},
   "outputs": [],
   "source": []
  },
  {
   "cell_type": "code",
   "execution_count": null,
   "metadata": {},
   "outputs": [],
   "source": []
  }
 ],
 "metadata": {
  "kernelspec": {
   "display_name": "Python 3",
   "language": "python",
   "name": "python3"
  },
  "language_info": {
   "codemirror_mode": {
    "name": "ipython",
    "version": 3
   },
   "file_extension": ".py",
   "mimetype": "text/x-python",
   "name": "python",
   "nbconvert_exporter": "python",
   "pygments_lexer": "ipython3",
   "version": "3.7.7"
  }
 },
 "nbformat": 4,
 "nbformat_minor": 4
}
