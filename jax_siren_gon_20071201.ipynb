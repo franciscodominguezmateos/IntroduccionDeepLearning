{
 "cells": [
  {
   "cell_type": "code",
   "execution_count": 2,
   "metadata": {},
   "outputs": [],
   "source": [
    "# Francisco Dominguez Mateos\n",
    "# 12/07/2020\n",
    "# SIREN for GON from pyTorch\n",
    "# from: https://cwkx.github.io/data/GON/\n",
    "#       https://www.youtube.com/watch?v=v-ZxzTSpmk4"
   ]
  },
  {
   "cell_type": "code",
   "execution_count": 1,
   "metadata": {},
   "outputs": [],
   "source": [
    "import time\n",
    "import numpy as onp\n",
    "import jax.numpy as np\n",
    "from jax import grad, jit, vmap, value_and_grad\n",
    "from jax import random\n",
    "from jax.experimental import stax\n",
    "from jax.experimental.stax import BatchNorm, Dense, Relu, LogSoftmax\n",
    "from jax.experimental import optimizers\n",
    "\n",
    "import matplotlib.pyplot as plt\n",
    "import cv2"
   ]
  },
  {
   "cell_type": "code",
   "execution_count": 2,
   "metadata": {},
   "outputs": [
    {
     "name": "stderr",
     "output_type": "stream",
     "text": [
      "/home/francisco/anaconda3/envs/jax_gpu/lib/python3.7/site-packages/jax/lib/xla_bridge.py:125: UserWarning: No GPU/TPU found, falling back to CPU.\n",
      "  warnings.warn('No GPU/TPU found, falling back to CPU.')\n"
     ]
    }
   ],
   "source": [
    "# Generate key which is used to generate random numbers\n",
    "rng = random.PRNGKey(1)"
   ]
  },
  {
   "cell_type": "code",
   "execution_count": 3,
   "metadata": {},
   "outputs": [],
   "source": [
    "def Siren(s=[1000]*5):\n",
    "    def init_fun(key,input_shape):\n",
    "        \"\"\" Initialize the weights of all layers of a linear layer network \"\"\"\n",
    "        sizes=[input_shape[-1]]+s\n",
    "        print(sizes)\n",
    "        keys = random.split(key, len(sizes))\n",
    "        # Initialize a single layer with Gaussian weights -  helper function\n",
    "        def initialize_layer(m, n, rng):\n",
    "            scale=np.sqrt(6.0/float(m))\n",
    "            w_key, b_key = random.split(key)\n",
    "            return scale * random.uniform(w_key, (n, m),minval=-1.0, maxval=1.0),scale * random.uniform(b_key, (n,  ),minval=-1.0, maxval=1.0)\n",
    "        # actually they are pairs plus the random key\n",
    "        pairs=zip(sizes[:-1], sizes[1:], keys)\n",
    "        params=[initialize_layer(m, n, k) for m, n, k in pairs]\n",
    "        params[0]=params[0][0]*30.0,params[0][1]\n",
    "        output_shape =  input_shape[:-1] + (sizes[-1],)\n",
    "        return (output_shape,params)\n",
    "    def apply_fun(params, inputs, **kwargs):\n",
    "        \"\"\" Compute the forward pass for each example individually \"\"\"\n",
    "        activations = inputs\n",
    "        # Loop over the Siren hidden layers\n",
    "        for w, b in params:\n",
    "            linear = np.dot(w,activations)+b\n",
    "            activations=np.sin(linear)\n",
    "        return activations\n",
    "    return init_fun, apply_fun"
   ]
  },
  {
   "cell_type": "code",
   "execution_count": 5,
   "metadata": {},
   "outputs": [
    {
     "name": "stdout",
     "output_type": "stream",
     "text": [
      "[2, 100, 100, 100, 100, 100, 1]\n",
      "(-1, 1)\n",
      "(100, 2) (100,)\n",
      "(100, 100) (100,)\n",
      "(100, 100) (100,)\n",
      "(100, 100) (100,)\n",
      "(100, 100) (100,)\n",
      "(1, 100) (1,)\n"
     ]
    }
   ],
   "source": [
    "init,net=Siren([100]*5+[1])\n",
    "input_shape=(-1,2)\n",
    "output_shape,params=init(rng,input_shape)\n",
    "print(output_shape)\n",
    "for l in params:\n",
    "    print(l[0].shape,l[1].shape)"
   ]
  },
  {
   "cell_type": "code",
   "execution_count": 6,
   "metadata": {},
   "outputs": [],
   "source": [
    "# Make a batched version of the `net` function\n",
    "batch_net = vmap(net, in_axes=(None, 0), out_axes=0)"
   ]
  },
  {
   "cell_type": "code",
   "execution_count": 7,
   "metadata": {},
   "outputs": [],
   "source": [
    "def getInputOrdered(size):\n",
    "    width=size[1]\n",
    "    height=size[0]\n",
    "    X, Y = np.meshgrid(range(height),range(width))\n",
    "    X=X/height*2.0-1.0\n",
    "    Y=Y/width *2.0-1.0\n",
    "    xy=np.dstack((Y,X))\n",
    "    input_ordered=np.reshape(xy,(-1,2))\n",
    "    return input_ordered\n",
    "\n",
    "def build_sdf(size):\n",
    "    width=size[1]\n",
    "    height=size[0]\n",
    "    input_ordered=getInputOrdered(size)\n",
    "    print(input_ordered.shape)\n",
    "\n",
    "    img=batch_net(params,input_ordered)\n",
    "    print(img.shape)\n",
    "    return np.reshape(img,(height,width))"
   ]
  },
  {
   "cell_type": "code",
   "execution_count": 8,
   "metadata": {},
   "outputs": [
    {
     "name": "stdout",
     "output_type": "stream",
     "text": [
      "(2500, 2)\n",
      "(2500, 1)\n",
      "0.9999988 -0.9999995\n"
     ]
    },
    {
     "data": {
      "text/plain": [
       "<matplotlib.image.AxesImage at 0x7fe6b56259d0>"
      ]
     },
     "execution_count": 8,
     "metadata": {},
     "output_type": "execute_result"
    },
    {
     "data": {
      "image/png": "[encoded data removed]",
      "text/plain": [
       "<Figure size 432x288 with 1 Axes>"
      ]
     },
     "metadata": {
      "needs_background": "light"
     },
     "output_type": "display_data"
    }
   ],
   "source": [
    "W=50\n",
    "H=50\n",
    "input_ordered=getInputOrdered((H,W))\n",
    "img=build_sdf((H,W))\n",
    "print(np.max(img),np.min(img))\n",
    "plt.imshow((img+1.0)/2.0,cmap='gray',)"
   ]
  },
  {
   "cell_type": "code",
   "execution_count": 9,
   "metadata": {},
   "outputs": [
    {
     "name": "stdout",
     "output_type": "stream",
     "text": [
      "-0.01\n",
      "(DeviceArray(0.4, dtype=float32), DeviceArray(0.4, dtype=float32))\n"
     ]
    }
   ],
   "source": [
    "@jit\n",
    "def sdf_2d(point):\n",
    "    x,y=point\n",
    "    d0=x*x+y*y-0.30*0.30\n",
    "    x1=x+0.3\n",
    "    y1=y-0.3\n",
    "    d1=x1*x1+y1*y1-0.15*0.15\n",
    "    x2=x+0.3\n",
    "    y2=y+0.3\n",
    "    d2=x2*x2+y2*y2-0.15*0.15\n",
    "    return d0 #np.min(np.array([d0,d1,d2]))\n",
    "gsdf_2d=grad(sdf_2d)\n",
    "print( sdf_2d((0.2,0.2)))\n",
    "print(gsdf_2d((0.2,0.2)))\n",
    "batch_sdf_2d =vmap( sdf_2d, in_axes=(None, 0), out_axes=0)\n",
    "batch_gsdf_2d=vmap(gsdf_2d, in_axes=(None, 0), out_axes=0)"
   ]
  },
  {
   "cell_type": "code",
   "execution_count": 10,
   "metadata": {},
   "outputs": [],
   "source": [
    "#sdf_value=batch_sdf_2d(input_ordered)"
   ]
  },
  {
   "cell_type": "code",
   "execution_count": 11,
   "metadata": {},
   "outputs": [
    {
     "name": "stdout",
     "output_type": "stream",
     "text": [
      "(2500, 1)\n",
      "0.955 -0.045\n"
     ]
    }
   ],
   "source": [
    "mapped=list(map(sdf_2d,input_ordered))\n",
    "sdf_values=np.reshape(np.array(mapped),(-1,1))\n",
    "print(sdf_values.shape)\n",
    "s=np.max(sdf_values)-np.min(sdf_values)\n",
    "sdf_values/=s\n",
    "print(np.max(sdf_values),np.min(sdf_values))"
   ]
  },
  {
   "cell_type": "code",
   "execution_count": 12,
   "metadata": {},
   "outputs": [
    {
     "name": "stdout",
     "output_type": "stream",
     "text": [
      "(2500, 2)\n"
     ]
    }
   ],
   "source": [
    "gmapped=list(map(gsdf_2d,input_ordered))    \n",
    "gsdf_values=np.reshape(np.array(gmapped),(-1,2))\n",
    "print(gsdf_values.shape)"
   ]
  },
  {
   "cell_type": "code",
   "execution_count": 13,
   "metadata": {},
   "outputs": [
    {
     "name": "stdout",
     "output_type": "stream",
     "text": [
      "0.48979592 -0.5102041\n",
      "(2500, 3)\n"
     ]
    },
    {
     "data": {
      "text/plain": [
       "<matplotlib.image.AxesImage at 0x7fe6501173d0>"
      ]
     },
     "execution_count": 13,
     "metadata": {},
     "output_type": "execute_result"
    },
    {
     "data": {
      "image/png": "[encoded data removed]",
      "text/plain": [
       "<Figure size 432x288 with 1 Axes>"
      ]
     },
     "metadata": {
      "needs_background": "light"
     },
     "output_type": "display_data"
    }
   ],
   "source": [
    "gmax=np.max(gsdf_values)\n",
    "gmin=np.min(gsdf_values)\n",
    "s=gmax-gmin\n",
    "gsdf_values/=s\n",
    "print(np.max(gsdf_values),np.min(gsdf_values))\n",
    "z=np.zeros((gsdf_values.shape[0],1))\n",
    "v=np.hstack((gsdf_values,z))\n",
    "print(v.shape)\n",
    "img=np.reshape(v,(H,W,3))\n",
    "plt.imshow((img-np.min(gsdf_values)))"
   ]
  },
  {
   "cell_type": "code",
   "execution_count": 14,
   "metadata": {
    "scrolled": true
   },
   "outputs": [
    {
     "data": {
      "image/png": "[encoded data removed]",
      "text/plain": [
       "<Figure size 432x288 with 1 Axes>"
      ]
     },
     "metadata": {
      "needs_background": "light"
     },
     "output_type": "display_data"
    }
   ],
   "source": [
    "img=np.reshape(sdf_values,(H,W))\n",
    "plt.imshow((img+1.0)/2.0,cmap=\"gray\")\n",
    "cs=plt.contour(range(H),range(W),img,0)\n",
    "cs.cmap.set_over('red')\n",
    "cs.cmap.set_under('blue')\n",
    "cs.changed()"
   ]
  },
  {
   "cell_type": "code",
   "execution_count": 15,
   "metadata": {},
   "outputs": [],
   "source": [
    "@jit\n",
    "def mse_loss(params, inputs, targets):\n",
    "    \"\"\" Calculate the Mean Squared Error Prediction Loss. \"\"\"\n",
    "    preds = batch_net(params, inputs)\n",
    "    return np.mean((preds - targets)**2)\n",
    "@jit\n",
    "def accuracy(params,inputs,targets):\n",
    "    return mse_loss(params,inputs,targets)\n",
    "@jit\n",
    "def update(params, x, y, opt_state):\n",
    "    \"\"\" Compute the gradient for a batch and update the parameters \"\"\"\n",
    "    value, grads = value_and_grad(mse_loss)(params, x, y)\n",
    "    opt_state = opt_update(0, grads, opt_state)\n",
    "    return get_params(opt_state), opt_state, value"
   ]
  },
  {
   "cell_type": "code",
   "execution_count": 16,
   "metadata": {},
   "outputs": [
    {
     "name": "stdout",
     "output_type": "stream",
     "text": [
      "(2500, 2)\n",
      "(2500, 1)\n"
     ]
    },
    {
     "data": {
      "text/plain": [
       "DeviceArray(0.5517732, dtype=float32)"
      ]
     },
     "execution_count": 16,
     "metadata": {},
     "output_type": "execute_result"
    }
   ],
   "source": [
    "print(input_ordered.shape)\n",
    "print(sdf_values.shape)\n",
    "mse_loss(params,input_ordered,sdf_values)"
   ]
  },
  {
   "cell_type": "code",
   "execution_count": 17,
   "metadata": {},
   "outputs": [],
   "source": [
    "# Defining an optimizer in Jax\n",
    "step_size = 1e-3\n",
    "opt_init, opt_update, get_params = optimizers.adam(step_size)\n",
    "opt_state = opt_init(params)"
   ]
  },
  {
   "cell_type": "code",
   "execution_count": 18,
   "metadata": {},
   "outputs": [],
   "source": [
    "num_epochs = 1000\n",
    "num_classes = 10"
   ]
  },
  {
   "cell_type": "code",
   "execution_count": 19,
   "metadata": {},
   "outputs": [],
   "source": [
    "def run_training_loop(num_epochs, opt_state):\n",
    "    global params\n",
    "    \"\"\" Implements a learning loop over epochs. \"\"\"\n",
    "    # Initialize placeholder for loggin\n",
    "    log_acc_train, log_acc_test, train_loss = [], [], []\n",
    "\n",
    "    # Get the initial set of parameters\n",
    "    params = get_params(opt_state)\n",
    "\n",
    "    # Get initial accuracy after random init\n",
    "    train_acc = accuracy(params,input_ordered,sdf_values)\n",
    "    test_acc  = accuracy(params,input_ordered,sdf_values)\n",
    "    log_acc_train.append(train_acc)\n",
    "    log_acc_test.append(test_acc)\n",
    "\n",
    "    # Loop over the training epochs\n",
    "    for epoch in range(num_epochs):\n",
    "        start_time = time.time()\n",
    "        params, opt_state, loss = update(params, input_ordered,sdf_values, opt_state)\n",
    "        train_loss.append(loss)\n",
    "\n",
    "        train_acc = accuracy(params,input_ordered,sdf_values)\n",
    "        test_acc = accuracy(params,input_ordered,sdf_values)\n",
    "        log_acc_train.append(train_acc)\n",
    "        log_acc_test.append(test_acc)\n",
    "        if(epoch %100 ==0):\n",
    "            epoch_time = time.time() - start_time\n",
    "            print(\"Epoch {} | T: {:0.3f} | Train A: {:0.4f} | Test A: {:0.4f}\".format(epoch+1, epoch_time,\n",
    "                                                                    train_acc, test_acc))\n",
    "    return opt_state, train_loss, log_acc_train, log_acc_test"
   ]
  },
  {
   "cell_type": "code",
   "execution_count": 20,
   "metadata": {},
   "outputs": [
    {
     "name": "stdout",
     "output_type": "stream",
     "text": [
      "Epoch 1 | T: 1.980 | Train A: 0.4008 | Test A: 0.4008\n",
      "Epoch 101 | T: 0.040 | Train A: 0.0001 | Test A: 0.0001\n",
      "Epoch 201 | T: 0.042 | Train A: 0.0000 | Test A: 0.0000\n",
      "Epoch 301 | T: 0.040 | Train A: 0.0000 | Test A: 0.0000\n",
      "Epoch 401 | T: 0.042 | Train A: 0.0000 | Test A: 0.0000\n",
      "Epoch 501 | T: 0.042 | Train A: 0.0000 | Test A: 0.0000\n",
      "Epoch 601 | T: 0.043 | Train A: 0.0000 | Test A: 0.0000\n",
      "Epoch 701 | T: 0.042 | Train A: 0.0000 | Test A: 0.0000\n",
      "Epoch 801 | T: 0.042 | Train A: 0.0000 | Test A: 0.0000\n",
      "Epoch 901 | T: 0.042 | Train A: 0.0000 | Test A: 0.0000\n"
     ]
    }
   ],
   "source": [
    "opt_state, train_loss, train_log, test_log =run_training_loop(num_epochs,opt_state)"
   ]
  },
  {
   "cell_type": "code",
   "execution_count": 21,
   "metadata": {
    "scrolled": true
   },
   "outputs": [
    {
     "name": "stdout",
     "output_type": "stream",
     "text": [
      "(2500, 2)\n",
      "(2500, 1)\n",
      "0.9549903 -0.045000207\n"
     ]
    },
    {
     "data": {
      "image/png": "[encoded data removed]",
      "text/plain": [
       "<Figure size 432x288 with 1 Axes>"
      ]
     },
     "metadata": {
      "needs_background": "light"
     },
     "output_type": "display_data"
    }
   ],
   "source": [
    "img=build_sdf((H,W))\n",
    "print(np.max(img),np.min(img))\n",
    "plt.imshow((img+1.0)/2.0,cmap=\"gray\")\n",
    "cs=plt.contour(range(H),range(W),img,0)\n",
    "cs.cmap.set_over('red')\n",
    "cs.cmap.set_under('blue')\n",
    "cs.changed()"
   ]
  },
  {
   "cell_type": "code",
   "execution_count": null,
   "metadata": {},
   "outputs": [],
   "source": []
  },
  {
   "cell_type": "code",
   "execution_count": null,
   "metadata": {},
   "outputs": [],
   "source": []
  }
 ],
 "metadata": {
  "kernelspec": {
   "display_name": "Python 3",
   "language": "python",
   "name": "python3"
  },
  "language_info": {
   "codemirror_mode": {
    "name": "ipython",
    "version": 3
   },
   "file_extension": ".py",
   "mimetype": "text/x-python",
   "name": "python",
   "nbconvert_exporter": "python",
   "pygments_lexer": "ipython3",
   "version": "3.8.8"
  }
 },
 "nbformat": 4,
 "nbformat_minor": 4
}
