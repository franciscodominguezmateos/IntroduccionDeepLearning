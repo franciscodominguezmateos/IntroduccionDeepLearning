{
 "cells": [
  {
   "cell_type": "code",
   "execution_count": 1,
   "metadata": {},
   "outputs": [],
   "source": [
    "# Francisco Dominguez Mateos\n",
    "# 03/08/2020\n",
    "# SIREN for SDF in 2D\n",
    "# added loss_sdf that is SIREN loss for sdf\n",
    "# from:https://www.youtube.com/watch?v=Q5g3p9Zwjrk\n",
    "#      https://vsitzmann.github.io/siren/"
   ]
  },
  {
   "cell_type": "code",
   "execution_count": 1,
   "metadata": {},
   "outputs": [
    {
     "name": "stdout",
     "output_type": "stream",
     "text": [
      "OpenCV v 4.3.0\n"
     ]
    }
   ],
   "source": [
    "import time\n",
    "import numpy as onp\n",
    "import jax.numpy as np\n",
    "from jax import grad, jit, vmap, value_and_grad\n",
    "from jax import random\n",
    "from jax.experimental import stax\n",
    "from jax.experimental.stax import BatchNorm, Dense, Relu, LogSoftmax\n",
    "from jax.experimental import optimizers\n",
    "\n",
    "import matplotlib.pyplot as plt\n",
    "import cv2\n",
    "print(\"OpenCV v\",cv2.__version__)"
   ]
  },
  {
   "cell_type": "code",
   "execution_count": 149,
   "metadata": {},
   "outputs": [],
   "source": [
    "# Generate key which is used to generate random numbers\n",
    "rng = random.PRNGKey(1)"
   ]
  },
  {
   "cell_type": "code",
   "execution_count": 150,
   "metadata": {},
   "outputs": [],
   "source": [
    "def Siren(s=[1000]*5):\n",
    "    def init_fun(key,input_shape):\n",
    "        \"\"\" Initialize the weights of all layers of a linear layer network \"\"\"\n",
    "        sizes=[input_shape[-1]]+s\n",
    "        print(sizes)\n",
    "        keys = random.split(key, len(sizes))\n",
    "        # Initialize a single layer with Gaussian weights -  helper function\n",
    "        def initialize_layer(m, n, rng):\n",
    "            scale=np.sqrt(6.0/float(m))\n",
    "            w_key, b_key = random.split(key)\n",
    "            return scale * random.uniform(w_key, (n, m),minval=-1.0, maxval=1.0),scale * random.uniform(b_key, (n,  ),minval=-1.0, maxval=1.0)\n",
    "        # actually they are pairs plus the random key\n",
    "        pairs=zip(sizes[:-1], sizes[1:], keys)\n",
    "        params=[initialize_layer(m, n, k) for m, n, k in pairs]\n",
    "        params[0]=params[0][0]*30.0,params[0][1]\n",
    "        output_shape =  input_shape[:-1] + (sizes[-1],)\n",
    "        return (output_shape,params)\n",
    "    def apply_fun(params, inputs, **kwargs):\n",
    "        \"\"\" Compute the forward pass for each example individually \"\"\"\n",
    "        activations = inputs\n",
    "        # Loop over the Siren hidden layers\n",
    "        for w, b in params:\n",
    "            linear = np.dot(w,activations)+b\n",
    "            activations=np.sin(linear)\n",
    "        return activations#.reshape(())\n",
    "    return init_fun, apply_fun"
   ]
  },
  {
   "cell_type": "code",
   "execution_count": 151,
   "metadata": {},
   "outputs": [],
   "source": [
    "def net_pre_grad(params,x):\n",
    "    a=net(params,x)\n",
    "    return a.reshape(())"
   ]
  },
  {
   "cell_type": "code",
   "execution_count": 152,
   "metadata": {},
   "outputs": [
    {
     "name": "stdout",
     "output_type": "stream",
     "text": [
      "[2, 100, 100, 100, 100, 100, 1]\n",
      "(-1, 1)\n",
      "(100, 2) (100,)\n",
      "(100, 100) (100,)\n",
      "(100, 100) (100,)\n",
      "(100, 100) (100,)\n",
      "(100, 100) (100,)\n",
      "(1, 100) (1,)\n"
     ]
    }
   ],
   "source": [
    "init,net=Siren([100]*5+[1])\n",
    "net_grad=grad(net_pre_grad,argnums=1)\n",
    "\n",
    "input_shape=(-1,2)\n",
    "output_shape,params=init(rng,input_shape)\n",
    "print(output_shape)\n",
    "for l in params:\n",
    "    print(l[0].shape,l[1].shape)"
   ]
  },
  {
   "cell_type": "code",
   "execution_count": 153,
   "metadata": {},
   "outputs": [
    {
     "data": {
      "text/plain": [
       "DeviceArray([-0.42658356], dtype=float32)"
      ]
     },
     "execution_count": 153,
     "metadata": {},
     "output_type": "execute_result"
    }
   ],
   "source": [
    "net(params,np.array([0.5,0.5]))"
   ]
  },
  {
   "cell_type": "code",
   "execution_count": 154,
   "metadata": {},
   "outputs": [
    {
     "data": {
      "text/plain": [
       "DeviceArray([  1.9025707, -37.80728  ], dtype=float32)"
      ]
     },
     "execution_count": 154,
     "metadata": {},
     "output_type": "execute_result"
    }
   ],
   "source": [
    "net_grad(params,np.array([0.5,0.5]))"
   ]
  },
  {
   "cell_type": "code",
   "execution_count": 155,
   "metadata": {},
   "outputs": [],
   "source": [
    "# Make a batched version of the `net` function\n",
    "batch_net      = vmap(net     , in_axes=(None, 0), out_axes=0)\n",
    "batch_net_grad = vmap(net_grad, in_axes=(None, 0), out_axes=0)"
   ]
  },
  {
   "cell_type": "code",
   "execution_count": 156,
   "metadata": {},
   "outputs": [],
   "source": [
    "def getInputOrdered(size):\n",
    "    width=size[1]\n",
    "    height=size[0]\n",
    "    X, Y = np.meshgrid(range(height),range(width))\n",
    "    X=X/height*2.0-1.0\n",
    "    Y=Y/width *2.0-1.0\n",
    "    xy=np.dstack((Y,X))\n",
    "    input_ordered=np.reshape(xy,(-1,2))\n",
    "    return input_ordered\n",
    "\n",
    "def build_sdf(size):\n",
    "    width=size[1]\n",
    "    height=size[0]\n",
    "    input_ordered=getInputOrdered(size)\n",
    "    print(input_ordered.shape)\n",
    "\n",
    "    img=batch_net(params,input_ordered)\n",
    "    print(img.shape)\n",
    "    return np.reshape(img,(height,width))\n",
    "\n",
    "def build_sdf_grad(size):\n",
    "    width=size[1]\n",
    "    height=size[0]\n",
    "    input_ordered=getInputOrdered(size)\n",
    "    print(input_ordered.shape)\n",
    "\n",
    "    img=batch_net_grad(params,input_ordered)\n",
    "    print(img.shape)\n",
    "    return np.reshape(img,(height,width,2))"
   ]
  },
  {
   "cell_type": "code",
   "execution_count": 157,
   "metadata": {},
   "outputs": [
    {
     "name": "stdout",
     "output_type": "stream",
     "text": [
      "(2500, 2)\n",
      "(2500, 1)\n",
      "0.9999988 -0.9999995\n"
     ]
    },
    {
     "data": {
      "text/plain": [
       "<matplotlib.image.AxesImage at 0x7f55cc2afd90>"
      ]
     },
     "execution_count": 157,
     "metadata": {},
     "output_type": "execute_result"
    },
    {
     "data": {
      "image/png": "[encoded data removed]",
      "text/plain": [
       "<Figure size 432x288 with 1 Axes>"
      ]
     },
     "metadata": {
      "needs_background": "light"
     },
     "output_type": "display_data"
    }
   ],
   "source": [
    "W=50\n",
    "H=50\n",
    "input_ordered=getInputOrdered((H,W))\n",
    "img=build_sdf((H,W))\n",
    "print(np.max(img),np.min(img))\n",
    "plt.imshow((img+1.0)/2.0,cmap='gray',)"
   ]
  },
  {
   "cell_type": "code",
   "execution_count": 158,
   "metadata": {},
   "outputs": [
    {
     "name": "stdout",
     "output_type": "stream",
     "text": [
      "(2500, 2)\n",
      "(2500, 2)\n",
      "154.13704 -139.64838\n"
     ]
    }
   ],
   "source": [
    "W=50\n",
    "H=50\n",
    "input_ordered=getInputOrdered((H,W))\n",
    "img=build_sdf_grad((H,W))\n",
    "print(np.max(img),np.min(img))"
   ]
  },
  {
   "cell_type": "code",
   "execution_count": 159,
   "metadata": {},
   "outputs": [
    {
     "name": "stdout",
     "output_type": "stream",
     "text": [
      "0.5246586 -0.47534144\n",
      "(2500, 3)\n"
     ]
    },
    {
     "data": {
      "text/plain": [
       "<matplotlib.image.AxesImage at 0x7f55cc30b110>"
      ]
     },
     "execution_count": 159,
     "metadata": {},
     "output_type": "execute_result"
    },
    {
     "data": {
      "image/png": "[encoded data removed]",
      "text/plain": [
       "<Figure size 432x288 with 1 Axes>"
      ]
     },
     "metadata": {
      "needs_background": "light"
     },
     "output_type": "display_data"
    }
   ],
   "source": [
    "gsdf_values=img.reshape((-1,2))\n",
    "gmax=np.max(gsdf_values)\n",
    "gmin=np.min(gsdf_values)\n",
    "s=gmax-gmin\n",
    "gsdf_values/=s\n",
    "print(np.max(gsdf_values),np.min(gsdf_values))\n",
    "z=np.zeros((gsdf_values.shape[0],1))\n",
    "v=np.hstack((gsdf_values,z))\n",
    "print(v.shape)\n",
    "img=np.reshape(v,(H,W,3))\n",
    "plt.imshow((img-np.min(gsdf_values)))"
   ]
  },
  {
   "cell_type": "code",
   "execution_count": 160,
   "metadata": {},
   "outputs": [
    {
     "name": "stdout",
     "output_type": "stream",
     "text": [
      "-0.009999998\n",
      "(DeviceArray(0.4, dtype=float32), DeviceArray(0.4, dtype=float32))\n"
     ]
    }
   ],
   "source": [
    "@jit\n",
    "def sdf_2d(point):\n",
    "    x,y=point\n",
    "    d0=x*x+y*y-0.30*0.30\n",
    "    x1=x+0.3\n",
    "    y1=y-0.3\n",
    "    d1=x1*x1+y1*y1-0.15*0.15\n",
    "    x2=x+0.3\n",
    "    y2=y+0.3\n",
    "    d2=x2*x2+y2*y2-0.15*0.15\n",
    "    return np.min(np.array([d0,d1,d2]))\n",
    "gsdf_2d=grad(sdf_2d)\n",
    "\n",
    "print( sdf_2d((0.2,0.2)))\n",
    "print(gsdf_2d((0.2,0.2)))\n",
    "batch_sdf_2d =vmap( sdf_2d, in_axes=(None, 0), out_axes=0)\n",
    "batch_gsdf_2d=vmap(gsdf_2d, in_axes=(None, 0), out_axes=0)"
   ]
  },
  {
   "cell_type": "code",
   "execution_count": 161,
   "metadata": {},
   "outputs": [],
   "source": [
    "#sdf_value=batch_sdf_2d(input_ordered)"
   ]
  },
  {
   "cell_type": "code",
   "execution_count": 162,
   "metadata": {},
   "outputs": [
    {
     "name": "stdout",
     "output_type": "stream",
     "text": [
      "(2500, 1)\n",
      "0.953164 -0.046835974\n"
     ]
    }
   ],
   "source": [
    "mapped=list(map(sdf_2d,input_ordered))\n",
    "sdf_values=np.reshape(np.array(mapped),(-1,1))\n",
    "print(sdf_values.shape)\n",
    "s=np.max(sdf_values)-np.min(sdf_values)\n",
    "sdf_values/=s\n",
    "print(np.max(sdf_values),np.min(sdf_values))"
   ]
  },
  {
   "cell_type": "code",
   "execution_count": 163,
   "metadata": {},
   "outputs": [
    {
     "name": "stdout",
     "output_type": "stream",
     "text": [
      "(2500, 2)\n"
     ]
    }
   ],
   "source": [
    "gmapped=list(map(gsdf_2d,input_ordered))    \n",
    "gsdf_values=np.reshape(np.array(gmapped),(-1,2))\n",
    "print(gsdf_values.shape)"
   ]
  },
  {
   "cell_type": "code",
   "execution_count": 164,
   "metadata": {},
   "outputs": [
    {
     "name": "stdout",
     "output_type": "stream",
     "text": [
      "0.48979586 -0.5102041\n",
      "(2500, 3)\n"
     ]
    },
    {
     "data": {
      "text/plain": [
       "<matplotlib.image.AxesImage at 0x7f55f042cbd0>"
      ]
     },
     "execution_count": 164,
     "metadata": {},
     "output_type": "execute_result"
    },
    {
     "data": {
      "image/png": "[encoded data removed]",
      "text/plain": [
       "<Figure size 432x288 with 1 Axes>"
      ]
     },
     "metadata": {
      "needs_background": "light"
     },
     "output_type": "display_data"
    }
   ],
   "source": [
    "gmax=np.max(gsdf_values)\n",
    "gmin=np.min(gsdf_values)\n",
    "s=gmax-gmin\n",
    "gsdf_values/=s\n",
    "print(np.max(gsdf_values),np.min(gsdf_values))\n",
    "z=np.zeros((gsdf_values.shape[0],1))\n",
    "v=np.hstack((gsdf_values,z))\n",
    "print(v.shape)\n",
    "img=np.reshape(v,(H,W,3))\n",
    "plt.imshow((img-np.min(gsdf_values)))"
   ]
  },
  {
   "cell_type": "code",
   "execution_count": 165,
   "metadata": {
    "scrolled": true
   },
   "outputs": [
    {
     "data": {
      "image/png": "[encoded data removed]",
      "text/plain": [
       "<Figure size 432x288 with 1 Axes>"
      ]
     },
     "metadata": {
      "needs_background": "light"
     },
     "output_type": "display_data"
    }
   ],
   "source": [
    "img=np.reshape(sdf_values,(H,W))\n",
    "plt.imshow((img+1.0)/2.0,cmap=\"gray\")\n",
    "cs=plt.contour(range(H),range(W),img,0)\n",
    "cs.cmap.set_over('red')\n",
    "cs.cmap.set_under('blue')\n",
    "cs.changed()"
   ]
  },
  {
   "cell_type": "code",
   "execution_count": 166,
   "metadata": {},
   "outputs": [],
   "source": [
    "@jit\n",
    "def mse_loss(params, inputs, targets):\n",
    "    \"\"\" Calculate the Mean Squared Error Prediction Loss. \"\"\"\n",
    "    preds      = batch_net     (params, inputs)\n",
    "    return np.mean((preds - targets)**2)"
   ]
  },
  {
   "cell_type": "markdown",
   "metadata": {},
   "source": [
    "$$L_\\Omega=\\sum_\\Omega abs( ||\\nabla_x\\phi(x)||-1)$$\n",
    "$$L_{\\Omega_0}=\\sum_{\\Omega_0}|\\phi(x)|+|1-\\nabla_x\\phi(x)·n(x)|$$\n",
    "$$\\psi(\\phi(x))=e^{-\\alpha |\\phi(x)|}\\;\\;\\;\\alpha>>0$$\n",
    "$$L_{\\Omega-\\Omega_0}=\\sum_{\\Omega-\\Omega_0}\\psi(\\phi(x))$$\n",
    "$$L_{sdf}=L_\\Omega+L_{\\Omega_0}+L_{\\Omega-\\Omega_0}$$"
   ]
  },
  {
   "cell_type": "code",
   "execution_count": 183,
   "metadata": {},
   "outputs": [],
   "source": [
    "#@jit\n",
    "def loss_sdf(params,inputs,targetsidx):\n",
    "    targets,idxs=targetsidx\n",
    "    #print(\"targets\",targets.shape)\n",
    "    #print(\"idxs\",idxs.shape)\n",
    "    values,normals,idx_in_surface=targets[:,0],targets[:,1:3],targets[:,3]\n",
    "    idx_in_surface=idxs\n",
    "    idx_out_surface=np.logical_not(idx_in_surface)\n",
    "    #values_in_surface =values[idx_in_surface]\n",
    "    #values_out_surface=values[idx_out_surface]\n",
    "    normals_in_surface=normals[idx_in_surface]\n",
    "    \n",
    "    # Value predictions for SDF is just distance to the surface\n",
    "    preds      = batch_net     (params, inputs)\n",
    "    preds_in_surface =preds[idx_in_surface]\n",
    "    preds_out_surface=preds[idx_out_surface]\n",
    "    # gradient of predictions given inputs\n",
    "    # actally these are normals of the isosurfaces of the scalar field\n",
    "    preds_grad = batch_net_grad(params,inputs)\n",
    "    print(\"preds_grad\",preds_grad.shape)\n",
    "    preds_grad_in_surface=preds_grad[idx_in_surface]\n",
    "    print(\"preds_grad_in_surface\",preds_grad_in_surface.shape)\n",
    "    \n",
    "    preds_norm     =np.linalg.norm(preds     ,axis=1).reshape(-1,1)#this could be abs since they are scalars\n",
    "    #print(\"preds_norm\",preds_norm.shape)\n",
    "    preds_norm_out_surface=preds_norm[idx_out_surface]\n",
    "    #print(\"preds_norm_out_surface\",preds_norm_out_surface.shape)\n",
    "    preds_norm_in_surface =preds_norm[idx_in_surface]\n",
    "    #print(\"preds_norm_in_surface\",preds_norm_in_surface.shape)\n",
    "    preds_grad_norm=np.linalg.norm(preds_grad,axis=1)\n",
    "    #print(\"preds_grad_norm\",preds_grad_norm.shape)\n",
    "    #Learned grad must have length one\n",
    "    #it doesn't have to it could learn the actual normal\n",
    "    #on doing this we don't have to know the actual normal\n",
    "    loss_norm=np.abs(preds_grad_norm-1)\n",
    "    #print(\"loss_norm=\",loss_norm.shape)\n",
    "    \n",
    "    # This is the loss for the zero level set (idx_in_surface)\n",
    "    # This has two parts:\n",
    "    # 1.-predictions of in surface have to be 0\n",
    "    # 2.-given the normal the predicted gradient has to be equal and with this we force the gradient to have norm 1\n",
    "    #    if we had use traditional euclidena distance we wouldn't have constrain to have norm 1 so strongly\n",
    "    gradDotNormal=np.dot(preds_grad_in_surface,np.transpose(normals_in_surface))\n",
    "    print(\"gradDotNormal=\",gradDotNormal.shape)\n",
    "    loss_in_surface=preds_norm_in_surface+np.abs(-gradDotNormal+1)\n",
    "    print(\"loss_in_surface=\",loss_in_surface.shape)\n",
    "    # Values out of the surface are to be as far as posible from 0 this is the reason of the phi function\n",
    "    # penalize values near of 0. Without phi a naive solution would be all 0\n",
    "    α=100\n",
    "    ψ=np.exp(-α*preds_norm_out_surface)\n",
    "    loss_out_surface =ψ\n",
    "    #print(\"loss_out_surface=\",loss_out_surface.shape)\n",
    "    # total loss is the addition of all above losses\n",
    "    loss=np.mean(loss_norm)+np.mean(loss_in_surface)+np.mean(loss_out_surface)\n",
    "    return loss"
   ]
  },
  {
   "cell_type": "code",
   "execution_count": 168,
   "metadata": {},
   "outputs": [],
   "source": [
    "#@jit\n",
    "def accuracy(params,inputs,targets):\n",
    "    return loss_sdf(params,inputs,targets)\n",
    "#@jit\n",
    "def update(params, x, y, opt_state):\n",
    "    #print(\"y=\",len(y))\n",
    "    \"\"\" Compute the gradient for a batch and update the parameters \"\"\"\n",
    "    value, grads = value_and_grad(loss_sdf)(params, x, y)\n",
    "    opt_state = opt_update(0, grads, opt_state)\n",
    "    return get_params(opt_state), opt_state, value"
   ]
  },
  {
   "cell_type": "code",
   "execution_count": 169,
   "metadata": {},
   "outputs": [
    {
     "name": "stdout",
     "output_type": "stream",
     "text": [
      "(2500, 2)\n",
      "(2500, 1)\n"
     ]
    },
    {
     "data": {
      "text/plain": [
       "DeviceArray(0.47734907, dtype=float32)"
      ]
     },
     "execution_count": 169,
     "metadata": {},
     "output_type": "execute_result"
    }
   ],
   "source": [
    "print(input_ordered.shape)\n",
    "print(sdf_values.shape)\n",
    "mse_loss(params,input_ordered,sdf_values)"
   ]
  },
  {
   "cell_type": "code",
   "execution_count": 170,
   "metadata": {},
   "outputs": [],
   "source": [
    "# Defining an optimizer in Jax\n",
    "step_size = 1e-4\n",
    "opt_init, opt_update, get_params = optimizers.adam(step_size)\n",
    "opt_state = opt_init(params)"
   ]
  },
  {
   "cell_type": "code",
   "execution_count": 171,
   "metadata": {},
   "outputs": [],
   "source": [
    "num_epochs = 10\n",
    "num_classes = 10"
   ]
  },
  {
   "cell_type": "code",
   "execution_count": 172,
   "metadata": {},
   "outputs": [
    {
     "name": "stdout",
     "output_type": "stream",
     "text": [
      "(2500, 3)\n"
     ]
    }
   ],
   "source": [
    "idxs=np.abs(sdf_values)<0.01\n",
    "targets=np.hstack((sdf_values,gsdf_values))\n",
    "print(targets.shape)"
   ]
  },
  {
   "cell_type": "code",
   "execution_count": 173,
   "metadata": {},
   "outputs": [],
   "source": [
    "def run_training_loop(num_epochs, opt_state):\n",
    "    global params\n",
    "    \"\"\" Implements a learning loop over epochs. \"\"\"\n",
    "    # Initialize placeholder for loggin\n",
    "    log_acc_train, log_acc_test, train_loss = [], [], []\n",
    "\n",
    "    # Get the initial set of parameters\n",
    "    params = get_params(opt_state)\n",
    "\n",
    "    # Get initial accuracy after random init\n",
    "    train_acc = accuracy(params,input_ordered,(targets,idxs))\n",
    "    test_acc  = accuracy(params,input_ordered,(targets,idxs))\n",
    "    log_acc_train.append(train_acc)\n",
    "    log_acc_test.append(test_acc)\n",
    "\n",
    "    # Loop over the training epochs\n",
    "    for epoch in range(num_epochs):\n",
    "        start_time = time.time()\n",
    "        params, opt_state, loss = update(params, input_ordered,(targets,idxs), opt_state)\n",
    "        train_loss.append(loss)\n",
    "\n",
    "        train_acc = accuracy(params,input_ordered,(targets,idxs))\n",
    "        test_acc  = accuracy(params,input_ordered,(targets,idxs))\n",
    "        log_acc_train.append(train_acc)\n",
    "        log_acc_test.append(test_acc)\n",
    "        if(epoch %1 ==0):\n",
    "            epoch_time = time.time() - start_time\n",
    "            print(\"Epoch {} | T: {:0.3f} | Train A: {:0.6f} | Test A: {:0.6f}\".format(epoch+1, epoch_time,\n",
    "                                                                    train_acc, test_acc))\n",
    "    return opt_state, train_loss, log_acc_train, log_acc_test"
   ]
  },
  {
   "cell_type": "code",
   "execution_count": 197,
   "metadata": {},
   "outputs": [
    {
     "name": "stdout",
     "output_type": "stream",
     "text": [
      "preds_grad (2500, 2)\n",
      "preds_grad_in_surface (208,)\n",
      "gradDotNormal= ()\n",
      "loss_in_surface= (208,)\n",
      "preds_grad (2500, 2)\n",
      "preds_grad_in_surface (208,)\n",
      "gradDotNormal= ()\n",
      "loss_in_surface= (208,)\n",
      "preds_grad (2500, 2)\n",
      "preds_grad_in_surface (208,)\n",
      "gradDotNormal= ()\n",
      "loss_in_surface= (208,)\n",
      "preds_grad (2500, 2)\n",
      "preds_grad_in_surface (208,)\n",
      "gradDotNormal= ()\n",
      "loss_in_surface= (208,)\n",
      "preds_grad (2500, 2)\n",
      "preds_grad_in_surface (208,)\n",
      "gradDotNormal= ()\n",
      "loss_in_surface= (208,)\n",
      "Epoch 1 | T: 0.229 | Train A: 41.062393 | Test A: 41.062393\n",
      "preds_grad (2500, 2)\n",
      "preds_grad_in_surface (208,)\n",
      "gradDotNormal= ()\n",
      "loss_in_surface= (208,)\n",
      "preds_grad (2500, 2)\n",
      "preds_grad_in_surface (208,)\n",
      "gradDotNormal= ()\n",
      "loss_in_surface= (208,)\n",
      "preds_grad (2500, 2)\n",
      "preds_grad_in_surface (208,)\n",
      "gradDotNormal= ()\n",
      "loss_in_surface= (208,)\n",
      "Epoch 2 | T: 0.234 | Train A: 37.257904 | Test A: 37.257904\n",
      "preds_grad (2500, 2)\n",
      "preds_grad_in_surface (208,)\n",
      "gradDotNormal= ()\n",
      "loss_in_surface= (208,)\n",
      "preds_grad (2500, 2)\n",
      "preds_grad_in_surface (208,)\n",
      "gradDotNormal= ()\n",
      "loss_in_surface= (208,)\n",
      "preds_grad (2500, 2)\n",
      "preds_grad_in_surface (208,)\n",
      "gradDotNormal= ()\n",
      "loss_in_surface= (208,)\n",
      "Epoch 3 | T: 0.248 | Train A: 40.023674 | Test A: 40.023674\n",
      "preds_grad (2500, 2)\n",
      "preds_grad_in_surface (208,)\n",
      "gradDotNormal= ()\n",
      "loss_in_surface= (208,)\n",
      "preds_grad (2500, 2)\n",
      "preds_grad_in_surface (208,)\n",
      "gradDotNormal= ()\n",
      "loss_in_surface= (208,)\n",
      "preds_grad (2500, 2)\n",
      "preds_grad_in_surface (208,)\n",
      "gradDotNormal= ()\n",
      "loss_in_surface= (208,)\n",
      "Epoch 4 | T: 0.243 | Train A: 42.845627 | Test A: 42.845627\n",
      "preds_grad (2500, 2)\n",
      "preds_grad_in_surface (208,)\n",
      "gradDotNormal= ()\n",
      "loss_in_surface= (208,)\n",
      "preds_grad (2500, 2)\n",
      "preds_grad_in_surface (208,)\n",
      "gradDotNormal= ()\n",
      "loss_in_surface= (208,)\n",
      "preds_grad (2500, 2)\n",
      "preds_grad_in_surface (208,)\n",
      "gradDotNormal= ()\n",
      "loss_in_surface= (208,)\n",
      "Epoch 5 | T: 0.242 | Train A: 43.815525 | Test A: 43.815525\n",
      "preds_grad (2500, 2)\n",
      "preds_grad_in_surface (208,)\n",
      "gradDotNormal= ()\n",
      "loss_in_surface= (208,)\n",
      "preds_grad (2500, 2)\n",
      "preds_grad_in_surface (208,)\n",
      "gradDotNormal= ()\n",
      "loss_in_surface= (208,)\n",
      "preds_grad (2500, 2)\n",
      "preds_grad_in_surface (208,)\n",
      "gradDotNormal= ()\n",
      "loss_in_surface= (208,)\n",
      "Epoch 6 | T: 0.237 | Train A: 43.143608 | Test A: 43.143608\n",
      "preds_grad (2500, 2)\n",
      "preds_grad_in_surface (208,)\n",
      "gradDotNormal= ()\n",
      "loss_in_surface= (208,)\n",
      "preds_grad (2500, 2)\n",
      "preds_grad_in_surface (208,)\n",
      "gradDotNormal= ()\n",
      "loss_in_surface= (208,)\n",
      "preds_grad (2500, 2)\n",
      "preds_grad_in_surface (208,)\n",
      "gradDotNormal= ()\n",
      "loss_in_surface= (208,)\n",
      "Epoch 7 | T: 0.236 | Train A: 41.012112 | Test A: 41.012112\n",
      "preds_grad (2500, 2)\n",
      "preds_grad_in_surface (208,)\n",
      "gradDotNormal= ()\n",
      "loss_in_surface= (208,)\n",
      "preds_grad (2500, 2)\n",
      "preds_grad_in_surface (208,)\n",
      "gradDotNormal= ()\n",
      "loss_in_surface= (208,)\n",
      "preds_grad (2500, 2)\n",
      "preds_grad_in_surface (208,)\n",
      "gradDotNormal= ()\n",
      "loss_in_surface= (208,)\n",
      "Epoch 8 | T: 0.241 | Train A: 37.579765 | Test A: 37.579765\n",
      "preds_grad (2500, 2)\n",
      "preds_grad_in_surface (208,)\n",
      "gradDotNormal= ()\n",
      "loss_in_surface= (208,)\n",
      "preds_grad (2500, 2)\n",
      "preds_grad_in_surface (208,)\n",
      "gradDotNormal= ()\n",
      "loss_in_surface= (208,)\n",
      "preds_grad (2500, 2)\n",
      "preds_grad_in_surface (208,)\n",
      "gradDotNormal= ()\n",
      "loss_in_surface= (208,)\n",
      "Epoch 9 | T: 0.230 | Train A: 39.077797 | Test A: 39.077797\n",
      "preds_grad (2500, 2)\n",
      "preds_grad_in_surface (208,)\n",
      "gradDotNormal= ()\n",
      "loss_in_surface= (208,)\n",
      "preds_grad (2500, 2)\n",
      "preds_grad_in_surface (208,)\n",
      "gradDotNormal= ()\n",
      "loss_in_surface= (208,)\n",
      "preds_grad (2500, 2)\n",
      "preds_grad_in_surface (208,)\n",
      "gradDotNormal= ()\n",
      "loss_in_surface= (208,)\n",
      "Epoch 10 | T: 0.234 | Train A: 41.644833 | Test A: 41.644833\n"
     ]
    }
   ],
   "source": [
    "opt_state, train_loss, train_log, test_log =run_training_loop(num_epochs,opt_state)"
   ]
  },
  {
   "cell_type": "code",
   "execution_count": 198,
   "metadata": {},
   "outputs": [
    {
     "name": "stdout",
     "output_type": "stream",
     "text": [
      "(2500, 2)\n",
      "(2500, 1)\n"
     ]
    },
    {
     "data": {
      "text/plain": [
       "DeviceArray(0.60519224, dtype=float32)"
      ]
     },
     "execution_count": 198,
     "metadata": {},
     "output_type": "execute_result"
    }
   ],
   "source": [
    "print(input_ordered.shape)\n",
    "print(sdf_values.shape)\n",
    "mse_loss(params,input_ordered,sdf_values)"
   ]
  },
  {
   "cell_type": "code",
   "execution_count": 199,
   "metadata": {
    "scrolled": true
   },
   "outputs": [
    {
     "name": "stdout",
     "output_type": "stream",
     "text": [
      "(2500, 2)\n",
      "(2500, 1)\n",
      "0.9999997 -1.0\n"
     ]
    },
    {
     "data": {
      "image/png": "[encoded data removed]",
      "text/plain": [
       "<Figure size 432x288 with 1 Axes>"
      ]
     },
     "metadata": {
      "needs_background": "light"
     },
     "output_type": "display_data"
    }
   ],
   "source": [
    "img=build_sdf((H,W))\n",
    "print(np.max(img),np.min(img))\n",
    "plt.imshow((img+1.0)/2.0,cmap=\"gray\")\n",
    "cs=plt.contour(range(H),range(W),img,0)\n",
    "cs.cmap.set_over('red')\n",
    "cs.cmap.set_under('blue')\n",
    "cs.changed()"
   ]
  },
  {
   "cell_type": "code",
   "execution_count": 203,
   "metadata": {},
   "outputs": [
    {
     "name": "stdout",
     "output_type": "stream",
     "text": [
      "(2500, 2)\n",
      "(2500, 2)\n",
      "143.65427 -154.12967\n"
     ]
    }
   ],
   "source": [
    "W=50\n",
    "H=50\n",
    "input_ordered=getInputOrdered((H,W))\n",
    "img=build_sdf_grad((H,W))\n",
    "print(np.max(img),np.min(img))"
   ]
  },
  {
   "cell_type": "code",
   "execution_count": 204,
   "metadata": {},
   "outputs": [
    {
     "name": "stdout",
     "output_type": "stream",
     "text": [
      "0.48241106 -0.5175889\n",
      "(2500, 3)\n"
     ]
    },
    {
     "data": {
      "text/plain": [
       "<matplotlib.image.AxesImage at 0x7f55ac74a890>"
      ]
     },
     "execution_count": 204,
     "metadata": {},
     "output_type": "execute_result"
    },
    {
     "data": {
      "image/png": "[encoded data removed]",
      "text/plain": [
       "<Figure size 432x288 with 1 Axes>"
      ]
     },
     "metadata": {
      "needs_background": "light"
     },
     "output_type": "display_data"
    }
   ],
   "source": [
    "gsdf_values=img.reshape((-1,2))\n",
    "gmax=np.max(gsdf_values)\n",
    "gmin=np.min(gsdf_values)\n",
    "s=gmax-gmin\n",
    "gsdf_values/=s\n",
    "print(np.max(gsdf_values),np.min(gsdf_values))\n",
    "z=np.zeros((gsdf_values.shape[0],1))\n",
    "v=np.hstack((gsdf_values,z))\n",
    "print(v.shape)\n",
    "img=np.reshape(v,(H,W,3))\n",
    "plt.imshow((img-np.min(gsdf_values)))"
   ]
  },
  {
   "cell_type": "code",
   "execution_count": 202,
   "metadata": {},
   "outputs": [
    {
     "data": {
      "text/plain": [
       "DeviceArray([-0.98115975], dtype=float32)"
      ]
     },
     "execution_count": 202,
     "metadata": {},
     "output_type": "execute_result"
    }
   ],
   "source": [
    "net(params,np.array([0,0]))"
   ]
  },
  {
   "cell_type": "code",
   "execution_count": 359,
   "metadata": {},
   "outputs": [
    {
     "data": {
      "text/plain": [
       "DeviceArray([19.142345  ,  0.47891235], dtype=float32)"
      ]
     },
     "execution_count": 359,
     "metadata": {},
     "output_type": "execute_result"
    }
   ],
   "source": [
    "net_grad(params,np.array([0.0,0.0]))"
   ]
  },
  {
   "cell_type": "code",
   "execution_count": 375,
   "metadata": {},
   "outputs": [
    {
     "data": {
      "text/plain": [
       "DeviceArray([19.11521], dtype=float32)"
      ]
     },
     "execution_count": 375,
     "metadata": {},
     "output_type": "execute_result"
    }
   ],
   "source": [
    "(net(params,np.array([0.00001,0]))-net(params,np.array([0.,0])))/0.00001"
   ]
  },
  {
   "cell_type": "code",
   "execution_count": 374,
   "metadata": {},
   "outputs": [
    {
     "data": {
      "text/plain": [
       "DeviceArray([0.47050416], dtype=float32)"
      ]
     },
     "execution_count": 374,
     "metadata": {},
     "output_type": "execute_result"
    }
   ],
   "source": [
    "(net(params,np.array([0.0,0.00001]))-net(params,np.array([0.0,0.0])))/0.00001"
   ]
  },
  {
   "cell_type": "code",
   "execution_count": null,
   "metadata": {},
   "outputs": [],
   "source": []
  }
 ],
 "metadata": {
  "kernelspec": {
   "display_name": "Python 3",
   "language": "python",
   "name": "python3"
  },
  "language_info": {
   "codemirror_mode": {
    "name": "ipython",
    "version": 3
   },
   "file_extension": ".py",
   "mimetype": "text/x-python",
   "name": "python",
   "nbconvert_exporter": "python",
   "pygments_lexer": "ipython3",
   "version": "3.7.6"
  }
 },
 "nbformat": 4,
 "nbformat_minor": 4
}
