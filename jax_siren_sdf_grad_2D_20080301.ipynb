{
 "cells": [
  {
   "cell_type": "code",
   "execution_count": 285,
   "metadata": {},
   "outputs": [],
   "source": [
    "# Francisco Dominguez Mateos\n",
    "# 03/08/2020\n",
    "# SIREN for SDF in 2D\n",
    "# added loss_sdf that is SIREN loss for sdf\n",
    "# from:https://www.youtube.com/watch?v=Q5g3p9Zwjrk\n",
    "#      https://vsitzmann.github.io/siren/"
   ]
  },
  {
   "cell_type": "code",
   "execution_count": 286,
   "metadata": {},
   "outputs": [
    {
     "name": "stdout",
     "output_type": "stream",
     "text": [
      "OpenCV v 4.2.0\n"
     ]
    }
   ],
   "source": [
    "import time\n",
    "import numpy as onp\n",
    "import jax.numpy as np\n",
    "from jax import grad, jit, vmap, value_and_grad\n",
    "from jax import random\n",
    "from jax.experimental import stax\n",
    "from jax.experimental.stax import BatchNorm, Dense, Relu, LogSoftmax\n",
    "from jax.experimental import optimizers\n",
    "\n",
    "import matplotlib.pyplot as plt\n",
    "import cv2\n",
    "print(\"OpenCV v\",cv2.__version__)"
   ]
  },
  {
   "cell_type": "code",
   "execution_count": 287,
   "metadata": {},
   "outputs": [],
   "source": [
    "# Generate key which is used to generate random numbers\n",
    "rng = random.PRNGKey(1)"
   ]
  },
  {
   "cell_type": "code",
   "execution_count": 288,
   "metadata": {},
   "outputs": [],
   "source": [
    "def Siren(s=[1000]*5,omega_0=30.0):\n",
    "    def init_fun(key,input_shape):\n",
    "        \"\"\" Initialize the weights of all layers of a linear layer network \"\"\"\n",
    "        sizes=[input_shape[-1]]+s\n",
    "        print(sizes)\n",
    "        keys = random.split(key, len(sizes))\n",
    "        print(len(keys))\n",
    "        # Initialize a single layer with Gaussian weights -  helper function\n",
    "        def initialize_layer(m, n, rng):\n",
    "            scale=np.sqrt(6.0/float(m))/omega_0\n",
    "            w_key, b_key = random.split(rng)\n",
    "            return scale * random.uniform(w_key, (n, m),minval=-1.0, maxval=1.0),scale * random.uniform(b_key, (n,  ),minval=-1.0, maxval=1.0)\n",
    "        # actually they are pairs plus the random key\n",
    "        pairs=list(zip(sizes[:-1], sizes[1:], keys))\n",
    "        params=[initialize_layer(m, n, k) for m, n, k in pairs[:]]\n",
    "        # The scale of first layes is different\n",
    "        m,n,k=pairs[0]\n",
    "        w_key, b_key = random.split(k)\n",
    "        scale=1.0/float(m)\n",
    "        print(\"scale\",m,n,scale)\n",
    "        params[0]=scale*random.uniform(w_key, (n, m),minval=-1.0, maxval=1.0),scale * random.uniform(b_key, (n,  ),minval=-1.0, maxval=1.0)\n",
    "        output_shape =  input_shape[:-1] + (sizes[-1],)\n",
    "        return (output_shape,params)\n",
    "    def apply_fun(params, inputs, **kwargs):\n",
    "        \"\"\" Compute the forward pass for each example individually \"\"\"\n",
    "        activations = inputs\n",
    "        # Loop over the Siren hidden layers\n",
    "        for w, b in params[:-1]:\n",
    "            linear = np.dot(w,activations)+b\n",
    "            activations=np.sin(omega_0*linear)\n",
    "        w,b=params[-1]\n",
    "        linear= np.dot(w,activations)+b\n",
    "        #return activations#.reshape(())\n",
    "        return linear#.reshape(())\n",
    "    return init_fun, apply_fun"
   ]
  },
  {
   "cell_type": "code",
   "execution_count": 289,
   "metadata": {},
   "outputs": [],
   "source": [
    "def net_pre_grad(params,x):\n",
    "    a=net(params,x)\n",
    "    return a.reshape(())"
   ]
  },
  {
   "cell_type": "code",
   "execution_count": 290,
   "metadata": {},
   "outputs": [
    {
     "name": "stdout",
     "output_type": "stream",
     "text": [
      "[2, 500, 500, 500, 500, 500, 1]\n",
      "7\n",
      "scale 2 500 0.5\n",
      "(-1, 1)\n",
      "(500, 2) (500,)\n",
      "(500, 500) (500,)\n",
      "(500, 500) (500,)\n",
      "(500, 500) (500,)\n",
      "(500, 500) (500,)\n",
      "(1, 500) (1,)\n"
     ]
    }
   ],
   "source": [
    "init,net=Siren([500]*5+[1])\n",
    "net_grad=grad(net_pre_grad,argnums=1)\n",
    "\n",
    "input_shape=(-1,2)\n",
    "output_shape,params=init(rng,input_shape)\n",
    "print(output_shape)\n",
    "for l in params:\n",
    "    print(l[0].shape,l[1].shape)"
   ]
  },
  {
   "cell_type": "code",
   "execution_count": 291,
   "metadata": {},
   "outputs": [
    {
     "data": {
      "text/plain": [
       "DeviceArray([-0.03567601], dtype=float32)"
      ]
     },
     "execution_count": 291,
     "metadata": {},
     "output_type": "execute_result"
    }
   ],
   "source": [
    "net(params,np.array([0.5,0.5]))"
   ]
  },
  {
   "cell_type": "code",
   "execution_count": 292,
   "metadata": {},
   "outputs": [
    {
     "data": {
      "text/plain": [
       "DeviceArray([0.38260168, 0.37473568], dtype=float32)"
      ]
     },
     "execution_count": 292,
     "metadata": {},
     "output_type": "execute_result"
    }
   ],
   "source": [
    "net_grad(params,np.array([0.5,0.5]))"
   ]
  },
  {
   "cell_type": "code",
   "execution_count": 293,
   "metadata": {},
   "outputs": [],
   "source": [
    "# Make a batched version of the `net` function\n",
    "batch_net      = vmap(net     , in_axes=(None, 0), out_axes=0)\n",
    "batch_net_grad = vmap(net_grad, in_axes=(None, 0), out_axes=0)"
   ]
  },
  {
   "cell_type": "code",
   "execution_count": 294,
   "metadata": {},
   "outputs": [],
   "source": [
    "def getInputOrdered(size):\n",
    "    width=size[1]\n",
    "    height=size[0]\n",
    "    X, Y = np.meshgrid(range(height),range(width))\n",
    "    X=X/height*2.0-1.0\n",
    "    Y=Y/width *2.0-1.0\n",
    "    xy=np.dstack((Y,X))\n",
    "    input_ordered=np.reshape(xy,(-1,2))\n",
    "    return input_ordered\n",
    "\n",
    "def build_sdf(size):\n",
    "    width=size[1]\n",
    "    height=size[0]\n",
    "    input_ordered=getInputOrdered(size)\n",
    "    print(input_ordered.shape)\n",
    "\n",
    "    img=batch_net(params,input_ordered)\n",
    "    print(img.shape)\n",
    "    return np.reshape(img,(height,width))\n",
    "\n",
    "def build_sdf_grad(size):\n",
    "    width=size[1]\n",
    "    height=size[0]\n",
    "    input_ordered=getInputOrdered(size)\n",
    "    print(input_ordered.shape)\n",
    "\n",
    "    img=batch_net_grad(params,input_ordered)\n",
    "    print(img.shape)\n",
    "    return np.reshape(img,(height,width,2))"
   ]
  },
  {
   "cell_type": "code",
   "execution_count": 295,
   "metadata": {},
   "outputs": [
    {
     "name": "stdout",
     "output_type": "stream",
     "text": [
      "(2500, 2)\n",
      "(2500, 1)\n",
      "0.08763525 -0.09712066\n"
     ]
    },
    {
     "data": {
      "text/plain": [
       "<matplotlib.image.AxesImage at 0x7f4885476b20>"
      ]
     },
     "execution_count": 295,
     "metadata": {},
     "output_type": "execute_result"
    },
    {
     "data": {
      "image/png": "[encoded data removed]",
      "text/plain": [
       "<Figure size 432x288 with 1 Axes>"
      ]
     },
     "metadata": {
      "needs_background": "light"
     },
     "output_type": "display_data"
    }
   ],
   "source": [
    "W=50\n",
    "H=50\n",
    "input_ordered=getInputOrdered((H,W))\n",
    "img=build_sdf((H,W))\n",
    "print(np.max(img),np.min(img))\n",
    "plt.imshow((img+1.0)/2.0,cmap='gray',)"
   ]
  },
  {
   "cell_type": "code",
   "execution_count": 296,
   "metadata": {},
   "outputs": [
    {
     "name": "stdout",
     "output_type": "stream",
     "text": [
      "(2500, 2)\n",
      "(2500, 2)\n",
      "1.4068317 -1.3989788\n"
     ]
    }
   ],
   "source": [
    "input_ordered=getInputOrdered((H,W))\n",
    "img=build_sdf_grad((H,W))\n",
    "print(np.max(img),np.min(img))"
   ]
  },
  {
   "cell_type": "code",
   "execution_count": 297,
   "metadata": {},
   "outputs": [
    {
     "name": "stdout",
     "output_type": "stream",
     "text": [
      "1.4068317 -1.3989788\n",
      "0.5013994 -0.49860063\n",
      "(2500, 3)\n"
     ]
    },
    {
     "data": {
      "text/plain": [
       "<matplotlib.image.AxesImage at 0x7f4885387a60>"
      ]
     },
     "execution_count": 297,
     "metadata": {},
     "output_type": "execute_result"
    },
    {
     "data": {
      "image/png": "[encoded data removed]",
      "text/plain": [
       "<Figure size 432x288 with 1 Axes>"
      ]
     },
     "metadata": {
      "needs_background": "light"
     },
     "output_type": "display_data"
    }
   ],
   "source": [
    "gsdf_values=img.reshape((-1,2))\n",
    "print(np.max(gsdf_values),np.min(gsdf_values))\n",
    "gmax=np.max(gsdf_values)\n",
    "gmin=np.min(gsdf_values)\n",
    "s=gmax-gmin\n",
    "gsdf_values_norm=gsdf_values/s\n",
    "print(np.max(gsdf_values_norm),np.min(gsdf_values_norm))\n",
    "z=np.zeros((gsdf_values_norm.shape[0],1))\n",
    "v=np.hstack((gsdf_values_norm,z))\n",
    "print(v.shape)\n",
    "img=np.reshape(v,(H,W,3))\n",
    "plt.imshow((img-np.min(gsdf_values_norm)))"
   ]
  },
  {
   "cell_type": "code",
   "execution_count": 298,
   "metadata": {},
   "outputs": [
    {
     "name": "stdout",
     "output_type": "stream",
     "text": [
      "-0.009999998\n",
      "(DeviceArray(0.4, dtype=float32), DeviceArray(0.4, dtype=float32))\n"
     ]
    }
   ],
   "source": [
    "@jit\n",
    "def sdf_2d(point):\n",
    "    x,y=point\n",
    "    d0=x*x+y*y-0.30*0.30\n",
    "    x1=x+0.3\n",
    "    y1=y-0.3\n",
    "    d1=x1*x1+y1*y1-0.15*0.15\n",
    "    x2=x+0.3\n",
    "    y2=y+0.3\n",
    "    d2=x2*x2+y2*y2-0.15*0.15\n",
    "    return np.min(np.array([d0,d1,d2]))\n",
    "gsdf_2d=grad(sdf_2d)\n",
    "\n",
    "print( sdf_2d((0.2,0.2)))\n",
    "print(gsdf_2d((0.2,0.2)))\n",
    "batch_sdf_2d =vmap( sdf_2d, in_axes=(None, 0), out_axes=0)\n",
    "batch_gsdf_2d=vmap(gsdf_2d, in_axes=(None, 0), out_axes=0)"
   ]
  },
  {
   "cell_type": "code",
   "execution_count": 299,
   "metadata": {},
   "outputs": [],
   "source": [
    "#sdf_value=batch_sdf_2d(input_ordered)"
   ]
  },
  {
   "cell_type": "code",
   "execution_count": 300,
   "metadata": {},
   "outputs": [
    {
     "name": "stdout",
     "output_type": "stream",
     "text": [
      "1.8315998 -0.09\n",
      "(2500, 1)\n",
      "0.953164 -0.046835974\n"
     ]
    }
   ],
   "source": [
    "mapped=list(map(sdf_2d,input_ordered))\n",
    "sdf_values=np.reshape(np.array(mapped),(-1,1))\n",
    "print(np.max(sdf_values),np.min(sdf_values))\n",
    "print(sdf_values.shape)\n",
    "s=np.max(sdf_values)-np.min(sdf_values)\n",
    "sdf_values/=s\n",
    "print(np.max(sdf_values),np.min(sdf_values))"
   ]
  },
  {
   "cell_type": "code",
   "execution_count": 301,
   "metadata": {},
   "outputs": [
    {
     "name": "stdout",
     "output_type": "stream",
     "text": [
      "gsdf_values (2500, 2) 1.9199998 -2.0\n"
     ]
    }
   ],
   "source": [
    "gmapped=list(map(gsdf_2d,input_ordered))    \n",
    "gsdf_values=np.reshape(np.array(gmapped),(-1,2))\n",
    "print(\"gsdf_values\",gsdf_values.shape,np.max(gsdf_values),np.min(gsdf_values))"
   ]
  },
  {
   "cell_type": "code",
   "execution_count": 302,
   "metadata": {},
   "outputs": [
    {
     "name": "stdout",
     "output_type": "stream",
     "text": [
      "gsdf_values_norm (2500, 3) 0.48979586 -0.5102041\n"
     ]
    },
    {
     "data": {
      "image/png": "[encoded data removed]",
      "text/plain": [
       "<Figure size 432x288 with 1 Axes>"
      ]
     },
     "metadata": {
      "needs_background": "light"
     },
     "output_type": "display_data"
    }
   ],
   "source": [
    "gmax=np.max(gsdf_values)\n",
    "gmin=np.min(gsdf_values)\n",
    "s=gmax-gmin\n",
    "gsdf_values_norm=gsdf_values/s\n",
    "z=np.zeros((gsdf_values_norm.shape[0],1))\n",
    "v=np.hstack((gsdf_values_norm,z))\n",
    "img=np.reshape(v,(H,W,3))\n",
    "plt.imshow((img-np.min(gsdf_values_norm)))\n",
    "print(\"gsdf_values_norm\",v.shape,np.max(gsdf_values_norm),np.min(gsdf_values_norm))"
   ]
  },
  {
   "cell_type": "code",
   "execution_count": 303,
   "metadata": {
    "scrolled": true
   },
   "outputs": [
    {
     "name": "stderr",
     "output_type": "stream",
     "text": [
      "<ipython-input-303-191ddf04333d>:4: MatplotlibDeprecationWarning: You are modifying the state of a globally registered colormap. In future versions, you will not be able to modify a registered colormap in-place. To remove this warning, you can make a copy of the colormap first. cmap = copy.copy(mpl.cm.get_cmap(\"viridis\"))\n",
      "  cs.cmap.set_over('red')\n",
      "<ipython-input-303-191ddf04333d>:5: MatplotlibDeprecationWarning: You are modifying the state of a globally registered colormap. In future versions, you will not be able to modify a registered colormap in-place. To remove this warning, you can make a copy of the colormap first. cmap = copy.copy(mpl.cm.get_cmap(\"viridis\"))\n",
      "  cs.cmap.set_under('blue')\n"
     ]
    },
    {
     "data": {
      "image/png": "[encoded data removed]",
      "text/plain": [
       "<Figure size 432x288 with 1 Axes>"
      ]
     },
     "metadata": {
      "needs_background": "light"
     },
     "output_type": "display_data"
    }
   ],
   "source": [
    "img=np.reshape(sdf_values,(H,W))\n",
    "plt.imshow((img+1.0)/2.0,cmap=\"gray\")\n",
    "cs=plt.contour(range(H),range(W),img,0)\n",
    "cs.cmap.set_over('red')\n",
    "cs.cmap.set_under('blue')\n",
    "cs.changed()"
   ]
  },
  {
   "cell_type": "code",
   "execution_count": 304,
   "metadata": {},
   "outputs": [],
   "source": [
    "@jit\n",
    "def mse_loss(params, inputs, targets):\n",
    "    \"\"\" Calculate the Mean Squared Error Prediction Loss. \"\"\"\n",
    "    preds      = batch_net     (params, inputs)\n",
    "    return np.mean((preds - targets)**2)"
   ]
  },
  {
   "cell_type": "markdown",
   "metadata": {},
   "source": [
    "$$L_\\Omega=\\sum_\\Omega abs( ||\\nabla_x\\phi(x)||-1)$$\n",
    "$$L_{\\Omega_0}=\\sum_{\\Omega_0}|\\phi(x)|+|1-\\nabla_x\\phi(x)·n(x)|$$\n",
    "$$\\psi(\\phi(x))=e^{-\\alpha |\\phi(x)|}\\;\\;\\;\\alpha>>0$$\n",
    "$$L_{\\Omega-\\Omega_0}=\\sum_{\\Omega-\\Omega_0}\\psi(\\phi(x))$$\n",
    "$$L_{sdf}=L_\\Omega+L_{\\Omega_0}+L_{\\Omega-\\Omega_0}$$"
   ]
  },
  {
   "cell_type": "code",
   "execution_count": 305,
   "metadata": {},
   "outputs": [],
   "source": [
    "#@jit\n",
    "def loss_sdf(params,inputs,targetsidx):\n",
    "    #hyper params valuesfrom paper\n",
    "    #constraint gradient=1\n",
    "    λ1=5e1\n",
    "    # off-surface penalization and sdf constraint\n",
    "    λ2=3e3\n",
    "    # oriented surface normal constraint\n",
    "    λ3=1e2\n",
    "    \n",
    "    targets,idxs=targetsidx\n",
    "    #print(\"targets\",targets.shape)\n",
    "    #print(\"idxs\",idxs.shape)\n",
    "    values,normals,idx_in_surface=targets[:,0],targets[:,1:3],targets[:,3]\n",
    "    idx_in_surface=idxs\n",
    "    idx_out_surface=np.logical_not(idx_in_surface)\n",
    "    #values_in_surface =values[idx_in_surface]\n",
    "    #values_out_surface=values[idx_out_surface]\n",
    "    normals_in_surface=normals[idx_in_surface]\n",
    "    \n",
    "    # Value predictions for SDF is just distance to the surface\n",
    "    preds      = batch_net     (params, inputs)\n",
    "    preds_in_surface =preds[idx_in_surface]\n",
    "    preds_out_surface=preds[idx_out_surface]\n",
    "    # gradient of predictions given inputs\n",
    "    # actally these are normals of the isosurfaces of the scalar field\n",
    "    preds_grad = batch_net_grad(params,inputs)\n",
    "    #print(\"preds_grad\",preds_grad.shape)\n",
    "    preds_grad_in_surface=preds_grad[idx_in_surface]\n",
    "    #print(\"preds_grad_in_surface\",preds_grad_in_surface.shape)\n",
    "    \n",
    "    preds_norm     =np.linalg.norm(preds     ,axis=1).reshape(-1,1)#this could be abs since they are scalars\n",
    "    #print(\"preds_norm\",preds_norm.shape)\n",
    "    preds_norm_out_surface=preds_norm[idx_out_surface]\n",
    "    #print(\"preds_norm_out_surface\",preds_norm_out_surface.shape)\n",
    "    preds_norm_in_surface =preds_norm[idx_in_surface]\n",
    "    #print(\"preds_norm_in_surface\",preds_norm_in_surface.shape)\n",
    "    preds_grad_norm=np.linalg.norm(preds_grad,axis=1)\n",
    "    #print(\"preds_grad_norm\",preds_grad_norm.shape)\n",
    "    #Learned grad must have length one\n",
    "    #it doesn't have to it could learn the actual normal\n",
    "    #on doing this we don't have to know the actual normal\n",
    "    loss_norm=np.abs(preds_grad_norm-1)\n",
    "    #print(\"loss_norm=\",loss_norm.shape)\n",
    "    \n",
    "    # This is the loss for the zero level set (idx_in_surface)\n",
    "    # This has two parts:\n",
    "    # 1.-predictions of in surface have to be 0\n",
    "    # 2.-given the normal the predicted gradient has to be equal and with this we force the gradient to have norm 1\n",
    "    #    if we had use traditional euclidena distance we wouldn't have constrain to have norm 1 so strongly\n",
    "    gradDotNormal=np.dot(preds_grad_in_surface,np.transpose(normals_in_surface))\n",
    "    #print(\"gradDotNormal=\",gradDotNormal.shape)\n",
    "    loss_in_surface=preds_norm_in_surface\n",
    "    loss_nornal    =np.abs(-gradDotNormal+1)\n",
    "    #print(\"loss_in_surface=\",loss_in_surface.shape)\n",
    "    # Values out of the surface are to be as far as posible from 0 this is the reason of the phi function\n",
    "    # penalize values near of 0. Without phi a naive solution would be all 0\n",
    "    α=100\n",
    "    ψ=np.exp(-α*preds_norm_out_surface)\n",
    "    loss_out_surface =ψ\n",
    "    #print(\"loss_out_surface=\",loss_out_surface.shape)\n",
    "    # total loss is the addition of all above losses\n",
    "    loss=λ1*np.mean(loss_norm)+λ2*np.mean(loss_in_surface)+λ3*np.mean(loss_nornal)+λ2*np.mean(loss_out_surface)\n",
    "    return loss"
   ]
  },
  {
   "cell_type": "code",
   "execution_count": 306,
   "metadata": {},
   "outputs": [
    {
     "name": "stdout",
     "output_type": "stream",
     "text": [
      "(2500, 3)\n"
     ]
    }
   ],
   "source": [
    "idxs=np.abs(sdf_values)<0.01\n",
    "targets=np.hstack((sdf_values,gsdf_values))\n",
    "print(targets.shape)"
   ]
  },
  {
   "cell_type": "markdown",
   "metadata": {},
   "source": [
    "$$L_\\Omega=\\sum_\\Omega|\\phi(x)-d(x)|+||\\nabla\\phi(x)-n(x)||_2$$"
   ]
  },
  {
   "cell_type": "code",
   "execution_count": 307,
   "metadata": {},
   "outputs": [],
   "source": [
    "@jit\n",
    "def loss_sdf_easy(params,inputs,targets):\n",
    "    values,normals=targets[:,0],targets[:,1:3]\n",
    "    \n",
    "    phi      = batch_net     (params, inputs)\n",
    "    phi_grad = batch_net_grad(params,inputs)\n",
    "    phi=np.reshape(phi,(-1,))\n",
    "    print(\"phi\",phi.shape)\n",
    "    print(\"values\",values.shape)\n",
    "    loss_d=(phi - values)**2\n",
    "    loss_n=np.linalg.norm(phi_grad-normals,axis=1)\n",
    "    print(\"loss_d\",loss_d.shape)\n",
    "    print(\"loss_n\",loss_n.shape)\n",
    "    loss=loss_d+loss_n\n",
    "    return np.mean(loss)"
   ]
  },
  {
   "cell_type": "code",
   "execution_count": 308,
   "metadata": {},
   "outputs": [],
   "source": [
    "@jit\n",
    "def accuracy(params,inputs,targets):\n",
    "    return loss_sdf_easy(params,inputs,targets)\n",
    "@jit\n",
    "def update(params, x, y, opt_state):\n",
    "    #print(\"y=\",len(y))\n",
    "    \"\"\" Compute the gradient for a batch and update the parameters \"\"\"\n",
    "    value, grads = value_and_grad(loss_sdf_easy)(params, x, y)\n",
    "    opt_state = opt_update(0, grads, opt_state)\n",
    "    return get_params(opt_state), opt_state, value"
   ]
  },
  {
   "cell_type": "code",
   "execution_count": 309,
   "metadata": {},
   "outputs": [
    {
     "name": "stdout",
     "output_type": "stream",
     "text": [
      "(2500, 3)\n"
     ]
    }
   ],
   "source": [
    "targets=np.hstack((sdf_values,gsdf_values))\n",
    "print(targets.shape)"
   ]
  },
  {
   "cell_type": "code",
   "execution_count": 310,
   "metadata": {},
   "outputs": [
    {
     "name": "stdout",
     "output_type": "stream",
     "text": [
      "(2500, 2)\n",
      "(2500, 1)\n",
      "phi (2500,)\n",
      "values (2500,)\n",
      "loss_d (2500,)\n",
      "loss_n (2500,)\n"
     ]
    },
    {
     "data": {
      "text/plain": [
       "DeviceArray(1.3743389, dtype=float32)"
      ]
     },
     "execution_count": 310,
     "metadata": {},
     "output_type": "execute_result"
    }
   ],
   "source": [
    "print(input_ordered.shape)\n",
    "print(sdf_values.shape)\n",
    "loss_sdf_easy(params,input_ordered,targets)"
   ]
  },
  {
   "cell_type": "code",
   "execution_count": 311,
   "metadata": {},
   "outputs": [
    {
     "name": "stdout",
     "output_type": "stream",
     "text": [
      "(2500, 2)\n",
      "(2500, 1)\n"
     ]
    },
    {
     "data": {
      "text/plain": [
       "DeviceArray(0.07596491, dtype=float32)"
      ]
     },
     "execution_count": 311,
     "metadata": {},
     "output_type": "execute_result"
    }
   ],
   "source": [
    "print(input_ordered.shape)\n",
    "print(sdf_values.shape)\n",
    "mse_loss(params,input_ordered,sdf_values)"
   ]
  },
  {
   "cell_type": "code",
   "execution_count": 312,
   "metadata": {},
   "outputs": [],
   "source": [
    "# Defining an optimizer in Jax\n",
    "step_size = 1e-4\n",
    "opt_init, opt_update, get_params = optimizers.adam(step_size)\n",
    "opt_state = opt_init(params)"
   ]
  },
  {
   "cell_type": "code",
   "execution_count": 315,
   "metadata": {},
   "outputs": [],
   "source": [
    "num_epochs = 1001\n",
    "num_classes = 10"
   ]
  },
  {
   "cell_type": "code",
   "execution_count": 316,
   "metadata": {},
   "outputs": [],
   "source": [
    "def run_training_loop(num_epochs, opt_state):\n",
    "    global params\n",
    "    \"\"\" Implements a learning loop over epochs. \"\"\"\n",
    "    # Initialize placeholder for loggin\n",
    "    log_acc_train, log_acc_test, train_loss = [], [], []\n",
    "\n",
    "    # Get the initial set of parameters\n",
    "    params = get_params(opt_state)\n",
    "\n",
    "    # Get initial accuracy after random init\n",
    "    train_acc = accuracy(params,input_ordered,targets)\n",
    "    test_acc  = accuracy(params,input_ordered,targets)\n",
    "    log_acc_train.append(train_acc)\n",
    "    log_acc_test.append(test_acc)\n",
    "\n",
    "    # Loop over the training epochs\n",
    "    for epoch in range(num_epochs):\n",
    "        start_time = time.time()\n",
    "        params, opt_state, loss = update(params, input_ordered,targets, opt_state)\n",
    "        train_loss.append(loss)\n",
    "\n",
    "        train_acc = accuracy(params,input_ordered,targets)\n",
    "        test_acc  = accuracy(params,input_ordered,targets)\n",
    "        log_acc_train.append(train_acc)\n",
    "        log_acc_test.append(test_acc)\n",
    "        if(epoch %500 ==0):\n",
    "            epoch_time = time.time() - start_time\n",
    "            print(\"Epoch {} | T: {:0.3f} | Train A: {:0.6f} | Test A: {:0.6f}\".format(epoch+1, epoch_time,\n",
    "                                                                    train_acc, test_acc))\n",
    "    return opt_state, train_loss, log_acc_train, log_acc_test"
   ]
  },
  {
   "cell_type": "code",
   "execution_count": 317,
   "metadata": {},
   "outputs": [
    {
     "name": "stdout",
     "output_type": "stream",
     "text": [
      "phi (2500,)\n",
      "values (2500,)\n",
      "loss_d (2500,)\n",
      "loss_n (2500,)\n",
      "phi (2500,)\n",
      "values (2500,)\n",
      "loss_d (2500,)\n",
      "loss_n (2500,)\n",
      "Epoch 1 | T: 0.719 | Train A: 1.535275 | Test A: 1.535275\n",
      "Epoch 501 | T: 0.017 | Train A: 0.041801 | Test A: 0.041801\n",
      "Epoch 1001 | T: 0.017 | Train A: 0.032581 | Test A: 0.032581\n"
     ]
    }
   ],
   "source": [
    "opt_state, train_loss, train_log, test_log =run_training_loop(num_epochs,opt_state)"
   ]
  },
  {
   "cell_type": "code",
   "execution_count": 318,
   "metadata": {},
   "outputs": [
    {
     "name": "stdout",
     "output_type": "stream",
     "text": [
      "(2500, 2)\n",
      "(2500, 1)\n"
     ]
    },
    {
     "data": {
      "text/plain": [
       "DeviceArray(0.00793013, dtype=float32)"
      ]
     },
     "execution_count": 318,
     "metadata": {},
     "output_type": "execute_result"
    }
   ],
   "source": [
    "print(input_ordered.shape)\n",
    "print(sdf_values.shape)\n",
    "mse_loss(params,input_ordered,sdf_values)"
   ]
  },
  {
   "cell_type": "code",
   "execution_count": 319,
   "metadata": {
    "scrolled": true
   },
   "outputs": [
    {
     "name": "stdout",
     "output_type": "stream",
     "text": [
      "(2500, 2)\n",
      "(2500, 1)\n",
      "0.7766678 -0.19970293\n"
     ]
    },
    {
     "name": "stderr",
     "output_type": "stream",
     "text": [
      "<ipython-input-319-995e13db539a>:5: MatplotlibDeprecationWarning: You are modifying the state of a globally registered colormap. In future versions, you will not be able to modify a registered colormap in-place. To remove this warning, you can make a copy of the colormap first. cmap = copy.copy(mpl.cm.get_cmap(\"viridis\"))\n",
      "  cs.cmap.set_over('red')\n",
      "<ipython-input-319-995e13db539a>:6: MatplotlibDeprecationWarning: You are modifying the state of a globally registered colormap. In future versions, you will not be able to modify a registered colormap in-place. To remove this warning, you can make a copy of the colormap first. cmap = copy.copy(mpl.cm.get_cmap(\"viridis\"))\n",
      "  cs.cmap.set_under('blue')\n"
     ]
    },
    {
     "data": {
      "image/png": "[encoded data removed]",
      "text/plain": [
       "<Figure size 432x288 with 1 Axes>"
      ]
     },
     "metadata": {
      "needs_background": "light"
     },
     "output_type": "display_data"
    }
   ],
   "source": [
    "img=build_sdf((H,W))\n",
    "print(np.max(img),np.min(img))\n",
    "plt.imshow((img+1.0)/2.0,cmap=\"gray\")\n",
    "cs=plt.contour(range(H),range(W),img,0)\n",
    "cs.cmap.set_over('red')\n",
    "cs.cmap.set_under('blue')\n",
    "cs.changed()"
   ]
  },
  {
   "cell_type": "code",
   "execution_count": 320,
   "metadata": {},
   "outputs": [
    {
     "name": "stdout",
     "output_type": "stream",
     "text": [
      "(2500, 2)\n",
      "(2500, 2)\n",
      "1.9578922 -2.0114818\n"
     ]
    }
   ],
   "source": [
    "input_ordered=getInputOrdered((H,W))\n",
    "img=build_sdf_grad((H,W))\n",
    "print(np.max(img),np.min(img))"
   ]
  },
  {
   "cell_type": "code",
   "execution_count": 321,
   "metadata": {},
   "outputs": [
    {
     "name": "stdout",
     "output_type": "stream",
     "text": [
      "0.49324962 -0.5067504\n",
      "(2500, 3)\n"
     ]
    },
    {
     "data": {
      "text/plain": [
       "<matplotlib.image.AxesImage at 0x7f4adc6dda00>"
      ]
     },
     "execution_count": 321,
     "metadata": {},
     "output_type": "execute_result"
    },
    {
     "data": {
      "image/png": "[encoded data removed]",
      "text/plain": [
       "<Figure size 432x288 with 1 Axes>"
      ]
     },
     "metadata": {
      "needs_background": "light"
     },
     "output_type": "display_data"
    }
   ],
   "source": [
    "gsdf_values=img.reshape((-1,2))\n",
    "gmax=np.max(gsdf_values)\n",
    "gmin=np.min(gsdf_values)\n",
    "s=gmax-gmin\n",
    "gsdf_values/=s\n",
    "print(np.max(gsdf_values),np.min(gsdf_values))\n",
    "z=np.zeros((gsdf_values.shape[0],1))\n",
    "v=np.hstack((gsdf_values,z))\n",
    "print(v.shape)\n",
    "img=np.reshape(v,(H,W,3))\n",
    "plt.imshow((img-np.min(gsdf_values)))"
   ]
  },
  {
   "cell_type": "code",
   "execution_count": 322,
   "metadata": {},
   "outputs": [
    {
     "data": {
      "text/plain": [
       "DeviceArray([-0.19970295], dtype=float32)"
      ]
     },
     "execution_count": 322,
     "metadata": {},
     "output_type": "execute_result"
    }
   ],
   "source": [
    "net(params,np.array([0,0]))"
   ]
  },
  {
   "cell_type": "code",
   "execution_count": 323,
   "metadata": {},
   "outputs": [
    {
     "data": {
      "text/plain": [
       "DeviceArray([-0.00373568, -0.02697736], dtype=float32)"
      ]
     },
     "execution_count": 323,
     "metadata": {},
     "output_type": "execute_result"
    }
   ],
   "source": [
    "net_grad(params,np.array([0.0,0.0]))"
   ]
  },
  {
   "cell_type": "code",
   "execution_count": 324,
   "metadata": {},
   "outputs": [
    {
     "data": {
      "text/plain": [
       "DeviceArray([-0.00596046], dtype=float32)"
      ]
     },
     "execution_count": 324,
     "metadata": {},
     "output_type": "execute_result"
    }
   ],
   "source": [
    "(net(params,np.array([0.000005,0.0]))-net(params,np.array([0.,0.0])))/0.000005"
   ]
  },
  {
   "cell_type": "code",
   "execution_count": 325,
   "metadata": {},
   "outputs": [
    {
     "data": {
      "text/plain": [
       "DeviceArray([-0.02682209], dtype=float32)"
      ]
     },
     "execution_count": 325,
     "metadata": {},
     "output_type": "execute_result"
    }
   ],
   "source": [
    "(net(params,np.array([0.0,0.00001]))-net(params,np.array([0.0,0.0])))/0.00001"
   ]
  },
  {
   "cell_type": "code",
   "execution_count": null,
   "metadata": {},
   "outputs": [],
   "source": []
  },
  {
   "cell_type": "code",
   "execution_count": null,
   "metadata": {},
   "outputs": [],
   "source": []
  }
 ],
 "metadata": {
  "kernelspec": {
   "display_name": "Python 3",
   "language": "python",
   "name": "python3"
  },
  "language_info": {
   "codemirror_mode": {
    "name": "ipython",
    "version": 3
   },
   "file_extension": ".py",
   "mimetype": "text/x-python",
   "name": "python",
   "nbconvert_exporter": "python",
   "pygments_lexer": "ipython3",
   "version": "3.8.8"
  }
 },
 "nbformat": 4,
 "nbformat_minor": 4
}
