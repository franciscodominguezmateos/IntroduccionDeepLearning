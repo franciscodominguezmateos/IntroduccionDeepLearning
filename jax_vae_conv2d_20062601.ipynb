{
 "cells": [
  {
   "cell_type": "code",
   "execution_count": 1,
   "metadata": {},
   "outputs": [],
   "source": [
    "# Francisco Dominguez Mateos\n",
    "# 24/06/2020\n",
    "# I don't know how to convert from Flat to conv,..... in JAX jet\n",
    "# 13/07/2020 I just build a custom stax layer Reshape to reshape data.\n",
    "# 14/07/2020 Works!! just added .astype(\"float32\") at random.bernoulli(rng, batch).astype(\"float32\")\n",
    "# from: https://github.com/google/jax/blob/master/examples/mnist_vae.py"
   ]
  },
  {
   "cell_type": "code",
   "execution_count": 2,
   "metadata": {},
   "outputs": [],
   "source": [
    "import os\n",
    "import time\n",
    "\n",
    "import matplotlib.pyplot as plt\n",
    "\n",
    "import numpy as onp\n",
    "import jax.numpy as np\n",
    "from jax import jit, grad, lax, random\n",
    "from jax.experimental import optimizers\n",
    "from jax.experimental import stax\n",
    "from jax.experimental.stax import Dense, Conv, ConvTranspose, BatchNorm, Flatten, FanOut, Relu, Softplus\n",
    "#from examples import datasets\n",
    "import torch\n",
    "from torchvision import datasets, transforms\n",
    "#from: https://github.com/RobertTLange/code-and-blog/blob/master/04_jax_intro/helpers.py\n",
    "#!conda install -c anaconda seaborn --yes\n",
    "from helpers import plot_mnist_examples\n",
    "from helpers import plot_mnist_performance"
   ]
  },
  {
   "cell_type": "code",
   "execution_count": 3,
   "metadata": {},
   "outputs": [],
   "source": [
    "# Generate key which is used to generate random numbers\n",
    "rng = random.PRNGKey(1)"
   ]
  },
  {
   "cell_type": "code",
   "execution_count": 4,
   "metadata": {},
   "outputs": [
    {
     "name": "stdout",
     "output_type": "stream",
     "text": [
      "torch.Size([60000, 1, 28, 28])\n",
      "torch.Size([10000, 1, 28, 28])\n"
     ]
    }
   ],
   "source": [
    "# Set the PyTorch Data Loader for the training & test set\n",
    "batch_size = 100\n",
    "\n",
    "dsMnist=datasets.MNIST('./pytorch_data', train=True, download=True,\n",
    "                   transform=transforms.Compose([\n",
    "                       transforms.ToTensor(),\n",
    "                       transforms.Normalize((0.1307,), (0.3081,)),\n",
    "                       transforms.Lambda(lambda s: torch.reshape(s,(s.shape[0],28,28))),\n",
    "                   ]))\n",
    "train_loader = torch.utils.data.DataLoader(dsMnist, batch_size=len(dsMnist), shuffle=True)\n",
    "train_iter=iter(train_loader)\n",
    "train_x,train_y=next(train_iter)\n",
    "print(train_x.shape)\n",
    "\n",
    "dtMnist=datasets.MNIST('./pytorch_data', train=False, transform=transforms.Compose([\n",
    "                       transforms.ToTensor(),\n",
    "                       transforms.Normalize((0.1307,), (0.3081,)),\n",
    "                       transforms.Lambda(lambda s: torch.reshape(s,(s.shape[0],28,28))),\n",
    "                   ]))\n",
    "test_loader = torch.utils.data.DataLoader(dtMnist,batch_size=len(dtMnist), shuffle=True)\n",
    "test_iter=iter(test_loader)\n",
    "test_x,test_y=next(test_iter)\n",
    "print(test_x.shape)\n"
   ]
  },
  {
   "cell_type": "code",
   "execution_count": 5,
   "metadata": {},
   "outputs": [
    {
     "data": {
      "image/png": "[encoded data removed]",
      "text/plain": [
       "<Figure size 720x360 with 4 Axes>"
      ]
     },
     "metadata": {},
     "output_type": "display_data"
    }
   ],
   "source": [
    "plot_mnist_examples(train_loader)"
   ]
  },
  {
   "cell_type": "code",
   "execution_count": 5,
   "metadata": {},
   "outputs": [],
   "source": [
    "def gaussian_kl(mu, sigmasq):\n",
    "  \"\"\"KL divergence from a diagonal Gaussian to the standard Gaussian.\"\"\"\n",
    "  return -0.5 * np.sum(1. + np.log(sigmasq) - mu**2. - sigmasq)\n",
    "\n",
    "def gaussian_sample(rng, mu, sigmasq):\n",
    "  \"\"\"Sample a diagonal Gaussian.\"\"\"\n",
    "  return mu + np.sqrt(sigmasq) * random.normal(rng, mu.shape)\n",
    "\n",
    "def bernoulli_logpdf(logits, x):\n",
    "  \"\"\"Bernoulli log pdf of data x given logits.\"\"\"\n",
    "  return -np.sum(np.logaddexp(0., np.where(x, -1., 1.) * logits))\n",
    "\n",
    "def elbo(rng, params, images):\n",
    "  \"\"\"Monte Carlo estimate of the negative evidence lower bound.\"\"\"\n",
    "  enc_params, dec_params = params\n",
    "  mu_z, sigmasq_z = encode(enc_params, images)\n",
    "  logits_x = decode(dec_params, gaussian_sample(rng, mu_z, sigmasq_z))\n",
    "  return bernoulli_logpdf(logits_x, images) - gaussian_kl(mu_z, sigmasq_z)\n",
    "\n",
    "def image_sample(rng, params, nrow, ncol):\n",
    "  \"\"\"Sample images from the generative model.\"\"\"\n",
    "  _, dec_params = params\n",
    "  code_rng, img_rng = random.split(rng)\n",
    "  logits = decode(dec_params, random.normal(code_rng, (nrow * ncol, 10)))\n",
    "  sampled_images = random.bernoulli(img_rng, np.logaddexp(0., logits))\n",
    "  return image_grid(nrow, ncol, sampled_images, (28, 28))\n",
    "\n",
    "def image_grid(nrow, ncol, imagevecs, imshape):\n",
    "  \"\"\"Reshape a stack of image vectors into an image grid for plotting.\"\"\"\n",
    "  images = iter(imagevecs.reshape((-1,) + imshape))\n",
    "  return np.vstack([np.hstack([next(images).T for _ in range(ncol)][::-1])\n",
    "                    for _ in range(nrow)]).T"
   ]
  },
  {
   "cell_type": "code",
   "execution_count": 6,
   "metadata": {},
   "outputs": [],
   "source": [
    "def Reshape(new_shape):\n",
    "    def init_func(rng,input_shape):\n",
    "        ''' there is not weight just change shape'''\n",
    "        if new_shape[0]==-1:\n",
    "            rnew_shape=input_shape[0:1]+new_shape[1:]\n",
    "        else:\n",
    "            rnew_shape=new_shape\n",
    "        return (rnew_shape,())\n",
    "    def apply_func(params,inputs,**kwargs):\n",
    "        return np.reshape(inputs,new_shape)\n",
    "    return init_func,apply_func"
   ]
  },
  {
   "cell_type": "code",
   "execution_count": 13,
   "metadata": {},
   "outputs": [],
   "source": [
    "encoder_init, encode = stax.serial(\n",
    "    Conv(32, (5, 5), (2, 2), padding=\"SAME\"),\n",
    "    BatchNorm(), Relu,\n",
    "    Conv(32, (5, 5), (2, 2), padding=\"SAME\"),\n",
    "    BatchNorm(), Relu,\n",
    "    Conv(10, (3, 3), (2, 2), padding=\"SAME\"),\n",
    "    BatchNorm(), Relu,\n",
    "    Conv(10, (3, 3), (2, 2), padding=\"SAME\"), Relu,\n",
    "    Flatten,\n",
    "    Dense(512), Relu,\n",
    "    Dense(512), Relu,\n",
    "    FanOut(2),\n",
    "    stax.parallel(Dense(10), stax.serial(Dense(10), Softplus)),\n",
    ")\n",
    "\n",
    "filters=32\n",
    "decoder_init, decode = stax.serial(\n",
    "    Dense(512), Relu,\n",
    "    Dense(512), Relu,\n",
    "    Dense(14 * 14), Relu,\n",
    "    Reshape((-1,14,14,1)),\n",
    "    ConvTranspose(filters, (2,2), strides=(2,2), padding=\"SAME\"),\n",
    "    Conv(filters, (3, 3), (1, 1), padding=\"SAME\"),\n",
    "    BatchNorm(), Relu,\n",
    "    Conv(filters, (3, 3), (1, 1), padding=\"SAME\"),\n",
    "    BatchNorm(), Relu,\n",
    "    Conv(1, (3, 3), (1, 1), padding=\"SAME\"),\n",
    ")"
   ]
  },
  {
   "cell_type": "code",
   "execution_count": 16,
   "metadata": {},
   "outputs": [
    {
     "name": "stdout",
     "output_type": "stream",
     "text": [
      "(60000, 28, 28, 1)\n",
      "(10000, 28, 28, 1)\n"
     ]
    }
   ],
   "source": [
    "step_size = 0.001\n",
    "num_epochs = 100\n",
    "batch_size = 32\n",
    "nrow, ncol = 10, 10  # sampled image grid size\n",
    "\n",
    "test_rng = random.PRNGKey(1)  # fixed prng key for evaluation\n",
    "imfile = os.path.join(os.getenv(\"TMPDIR\", \"/tmp/\"), \"mnist_vae_{:03d}.png\")\n",
    "\n",
    "#train_images=, _, test_images, _ = datasets.mnist(permute_train=True)\n",
    "train_images=np.array(train_x).reshape(train_x.size(0), 28,28,1)\n",
    "print(train_images.shape)\n",
    "test_images =np.array(test_x).reshape(test_x.size(0), 28,28,1)\n",
    "print(test_images.shape)\n",
    "num_complete_batches, leftover = divmod(train_images.shape[0], batch_size)\n",
    "num_batches = num_complete_batches + bool(leftover)"
   ]
  },
  {
   "cell_type": "code",
   "execution_count": 17,
   "metadata": {},
   "outputs": [
    {
     "name": "stdout",
     "output_type": "stream",
     "text": [
      "decoder input= 10\n",
      "((32, 10), (32, 10)) (32, 28, 28, 1)\n"
     ]
    }
   ],
   "source": [
    "input_shape=(batch_size,)+train_images.shape[1:]\n",
    "enc_init_rng, dec_init_rng = random.split(random.PRNGKey(2))\n",
    "encoder_output_shape, init_encoder_params = encoder_init(enc_init_rng, input_shape)\n",
    "print(\"decoder input=\",encoder_output_shape[0][1])\n",
    "decoder_output_shape, init_decoder_params = decoder_init(dec_init_rng, (batch_size,encoder_output_shape[0][1]))\n",
    "print(encoder_output_shape,decoder_output_shape)\n",
    "init_params = init_encoder_params, init_decoder_params"
   ]
  },
  {
   "cell_type": "code",
   "execution_count": 18,
   "metadata": {},
   "outputs": [
    {
     "name": "stdout",
     "output_type": "stream",
     "text": [
      "mu,sigmasq= (32, 10) (32, 10)\n"
     ]
    }
   ],
   "source": [
    "fake_data=random.uniform(rng,input_shape)\n",
    "mu_z, sigmasq_z=encode(init_encoder_params,fake_data)\n",
    "print(\"mu,sigmasq=\",mu_z.shape,sigmasq_z.shape)"
   ]
  },
  {
   "cell_type": "code",
   "execution_count": 19,
   "metadata": {},
   "outputs": [
    {
     "name": "stdout",
     "output_type": "stream",
     "text": [
      "logits_x= (32, 28, 28, 1)\n"
     ]
    }
   ],
   "source": [
    "logits_x = decode(init_decoder_params, gaussian_sample(rng, mu_z, sigmasq_z))\n",
    "print(\"logits_x=\",logits_x.shape)"
   ]
  },
  {
   "cell_type": "code",
   "execution_count": 20,
   "metadata": {},
   "outputs": [
    {
     "name": "stdout",
     "output_type": "stream",
     "text": [
      "eloss= -15935.539\n"
     ]
    }
   ],
   "source": [
    "eloss=elbo(rng, init_params, fake_data)\n",
    "print(\"eloss=\",eloss)"
   ]
  },
  {
   "cell_type": "code",
   "execution_count": 21,
   "metadata": {},
   "outputs": [
    {
     "name": "stdout",
     "output_type": "stream",
     "text": [
      "batch= (32, 28, 28, 1)\n",
      "1.0 0.0\n"
     ]
    },
    {
     "data": {
      "text/plain": [
       "<matplotlib.image.AxesImage at 0x7f6a0cc67110>"
      ]
     },
     "execution_count": 21,
     "metadata": {},
     "output_type": "execute_result"
    },
    {
     "data": {
      "image/png": "[encoded data removed]",
      "text/plain": [
       "<Figure size 432x288 with 1 Axes>"
      ]
     },
     "metadata": {},
     "output_type": "display_data"
    }
   ],
   "source": [
    "def binarize_batch(rng, i, images):\n",
    "    i = i % num_batches\n",
    "    batch = lax.dynamic_slice_in_dim(images, i * batch_size, batch_size)\n",
    "    print(\"batch=\",batch.shape)\n",
    "    return random.bernoulli(rng, batch).astype(\"float32\")\n",
    "\n",
    "i=0\n",
    "elbo_rng, data_rng = random.split(random.fold_in(rng, i))\n",
    "batch = binarize_batch(data_rng, i, train_images)\n",
    "img=np.reshape(batch[0],(28,28))\n",
    "print(np.max(img),np.min(img))\n",
    "plt.imshow(img,cmap='gray',)"
   ]
  },
  {
   "cell_type": "code",
   "execution_count": 22,
   "metadata": {},
   "outputs": [
    {
     "data": {
      "text/plain": [
       "DeviceArray(664.0485, dtype=float32)"
      ]
     },
     "execution_count": 22,
     "metadata": {},
     "output_type": "execute_result"
    }
   ],
   "source": [
    "loss = lambda params: -elbo(elbo_rng, params, batch) / batch_size\n",
    "loss(init_params)"
   ]
  },
  {
   "cell_type": "code",
   "execution_count": 23,
   "metadata": {},
   "outputs": [],
   "source": [
    "opt_init, opt_update, get_params = optimizers.momentum(step_size, mass=0.9)\n"
   ]
  },
  {
   "cell_type": "code",
   "execution_count": 24,
   "metadata": {},
   "outputs": [],
   "source": [
    "@jit\n",
    "def run_epoch(rng, opt_state):\n",
    "    def body_fun(i, opt_state):\n",
    "        elbo_rng, data_rng = random.split(random.fold_in(rng, i))\n",
    "        batch = binarize_batch(data_rng, i, train_images)\n",
    "        loss = lambda params: -elbo(elbo_rng, params, batch) / batch_size\n",
    "        g = grad(loss)(get_params(opt_state))\n",
    "        return opt_update(i, g, opt_state)\n",
    "    return lax.fori_loop(0, num_batches, body_fun, opt_state)\n",
    "\n",
    "@jit\n",
    "def evaluate(opt_state, images):\n",
    "    params = get_params(opt_state)\n",
    "    elbo_rng, data_rng, image_rng = random.split(test_rng, 3)\n",
    "    binarized_test = random.bernoulli(data_rng, images).astype(\"float32\")\n",
    "    test_elbo = elbo(elbo_rng, params, binarized_test) / images.shape[0]\n",
    "    sampled_images = image_sample(image_rng, params, nrow, ncol)\n",
    "    return test_elbo, sampled_images"
   ]
  },
  {
   "cell_type": "code",
   "execution_count": 25,
   "metadata": {},
   "outputs": [
    {
     "name": "stdout",
     "output_type": "stream",
     "text": [
      "batch= (32, 28, 28, 1)\n",
      "  0 -166.62535095214844 (20.541 sec)\n",
      "  1 -155.529296875 (7.547 sec)\n",
      "  2 -146.87196350097656 (7.590 sec)\n",
      "  3 -141.074462890625 (7.917 sec)\n",
      "  4 -140.7855682373047 (8.223 sec)\n",
      "  5 -137.2797393798828 (8.126 sec)\n",
      "  6 -132.43275451660156 (7.889 sec)\n",
      "  7 -131.06907653808594 (7.950 sec)\n",
      "  8 -130.2277069091797 (8.073 sec)\n",
      "  9 -128.8095703125 (7.869 sec)\n",
      " 10 -128.27760314941406 (8.038 sec)\n",
      " 11 -125.72262573242188 (7.983 sec)\n",
      " 12 -128.99668884277344 (8.066 sec)\n",
      " 13 -126.80997467041016 (8.078 sec)\n",
      " 14 -126.39659118652344 (8.293 sec)\n",
      " 15 -120.0643310546875 (8.414 sec)\n",
      " 16 -121.6700668334961 (8.330 sec)\n",
      " 17 -118.32144927978516 (8.193 sec)\n",
      " 18 -119.44828796386719 (8.451 sec)\n",
      " 19 -118.97901916503906 (8.228 sec)\n",
      " 20 -117.93922424316406 (8.215 sec)\n",
      " 21 -116.1180648803711 (8.213 sec)\n",
      " 22 -115.9501953125 (8.053 sec)\n",
      " 23 -115.22071075439453 (8.164 sec)\n",
      " 24 -115.02058410644531 (8.298 sec)\n",
      " 25 -114.42404174804688 (8.207 sec)\n",
      " 26 -115.00447845458984 (8.273 sec)\n",
      " 27 -115.2011489868164 (8.200 sec)\n",
      " 28 -115.79550170898438 (8.293 sec)\n",
      " 29 -112.8709945678711 (8.308 sec)\n",
      " 30 -113.57447052001953 (8.326 sec)\n",
      " 31 -112.90087890625 (8.101 sec)\n",
      " 32 -115.123291015625 (8.382 sec)\n",
      " 33 -114.39522552490234 (8.257 sec)\n",
      " 34 -113.01161193847656 (8.427 sec)\n",
      " 35 -113.37640380859375 (8.527 sec)\n",
      " 36 -113.60820770263672 (8.410 sec)\n",
      " 37 -112.1453857421875 (8.477 sec)\n",
      " 38 -115.19576263427734 (8.327 sec)\n",
      " 39 -114.35047912597656 (8.336 sec)\n",
      " 40 -113.00084686279297 (8.239 sec)\n",
      " 41 -113.15298461914062 (8.253 sec)\n",
      " 42 -112.76522827148438 (8.232 sec)\n",
      " 43 -111.19019317626953 (8.270 sec)\n",
      " 44 -112.65536499023438 (8.253 sec)\n",
      " 45 -112.20952606201172 (8.335 sec)\n",
      " 46 -114.24665832519531 (8.443 sec)\n",
      " 47 -111.62939453125 (8.265 sec)\n",
      " 48 -114.00224304199219 (8.231 sec)\n",
      " 49 -111.64151763916016 (8.240 sec)\n",
      " 50 -112.01873016357422 (8.317 sec)\n",
      " 51 -110.48688507080078 (8.559 sec)\n",
      " 52 -111.13533782958984 (8.585 sec)\n",
      " 53 -113.27040100097656 (8.771 sec)\n",
      " 54 -111.91670989990234 (8.443 sec)\n",
      " 55 -112.61994171142578 (8.886 sec)\n",
      " 56 -111.19509887695312 (8.533 sec)\n",
      " 57 -111.45755767822266 (8.440 sec)\n",
      " 58 -110.4638442993164 (8.435 sec)\n",
      " 59 -112.50466918945312 (8.507 sec)\n",
      " 60 -110.78622436523438 (8.671 sec)\n",
      " 61 -113.82659912109375 (8.684 sec)\n",
      " 62 -111.46698760986328 (8.379 sec)\n",
      " 63 -110.40603637695312 (8.472 sec)\n",
      " 64 -111.448486328125 (8.358 sec)\n",
      " 65 -111.16466522216797 (8.442 sec)\n",
      " 66 -113.60376739501953 (8.134 sec)\n",
      " 67 -109.9836196899414 (8.366 sec)\n",
      " 68 -110.80410766601562 (8.266 sec)\n",
      " 69 -111.83618927001953 (8.348 sec)\n",
      " 70 -114.08387756347656 (8.376 sec)\n",
      " 71 -110.87812042236328 (8.664 sec)\n",
      " 72 -111.25946807861328 (8.429 sec)\n",
      " 73 -112.8192138671875 (8.301 sec)\n",
      " 74 -111.36370086669922 (8.331 sec)\n",
      " 75 -109.55562591552734 (8.416 sec)\n",
      " 76 -109.90692138671875 (8.415 sec)\n",
      " 77 -111.6222915649414 (8.463 sec)\n",
      " 78 -110.53509521484375 (8.403 sec)\n",
      " 79 -111.14386749267578 (8.295 sec)\n",
      " 80 -111.4698715209961 (8.178 sec)\n",
      " 81 -110.47183990478516 (8.285 sec)\n",
      " 82 -110.2536392211914 (8.338 sec)\n",
      " 83 -109.08627319335938 (8.428 sec)\n",
      " 84 -111.20484161376953 (8.436 sec)\n",
      " 85 -110.67070007324219 (8.415 sec)\n",
      " 86 -110.06595611572266 (8.101 sec)\n",
      " 87 -111.12723541259766 (8.273 sec)\n",
      " 88 -110.77587890625 (8.327 sec)\n",
      " 89 -110.6124267578125 (8.324 sec)\n",
      " 90 -111.20795440673828 (8.539 sec)\n",
      " 91 -111.25409698486328 (8.316 sec)\n",
      " 92 -112.08406066894531 (8.312 sec)\n",
      " 93 -110.06427764892578 (8.253 sec)\n",
      " 94 -110.24557495117188 (8.348 sec)\n",
      " 95 -109.78935241699219 (8.239 sec)\n",
      " 96 -108.90798950195312 (8.419 sec)\n",
      " 97 -110.18331909179688 (8.226 sec)\n",
      " 98 -111.19795989990234 (8.407 sec)\n",
      " 99 -110.54141235351562 (8.495 sec)\n"
     ]
    }
   ],
   "source": [
    "opt_state = opt_init(init_params)\n",
    "for epoch in range(num_epochs):\n",
    "    tic = time.time()\n",
    "    opt_state = run_epoch(random.PRNGKey(epoch), opt_state)\n",
    "    test_elbo, sampled_images = evaluate(opt_state, test_images[:100])\n",
    "    print(\"{: 3d} {} ({:.3f} sec)\".format(epoch, test_elbo, time.time() - tic))\n",
    "    plt.imsave(imfile.format(epoch), sampled_images, cmap=plt.cm.gray)"
   ]
  },
  {
   "cell_type": "code",
   "execution_count": null,
   "metadata": {},
   "outputs": [],
   "source": []
  }
 ],
 "metadata": {
  "kernelspec": {
   "display_name": "Python 3",
   "language": "python",
   "name": "python3"
  },
  "language_info": {
   "codemirror_mode": {
    "name": "ipython",
    "version": 3
   },
   "file_extension": ".py",
   "mimetype": "text/x-python",
   "name": "python",
   "nbconvert_exporter": "python",
   "pygments_lexer": "ipython3",
   "version": "3.7.6"
  }
 },
 "nbformat": 4,
 "nbformat_minor": 4
}
