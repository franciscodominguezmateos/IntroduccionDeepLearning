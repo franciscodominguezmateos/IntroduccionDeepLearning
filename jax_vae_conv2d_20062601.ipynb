{
 "cells": [
  {
   "cell_type": "code",
   "execution_count": 1,
   "metadata": {},
   "outputs": [],
   "source": [
    "# Francisco Dominguez Mateos\n",
    "# 24/06/2020\n",
    "# I don't know how to convert from Flat to conv,..... in JAX jet\n",
    "# from: https://github.com/google/jax/blob/master/examples/mnist_vae.py"
   ]
  },
  {
   "cell_type": "code",
   "execution_count": 1,
   "metadata": {},
   "outputs": [],
   "source": [
    "import os\n",
    "import time\n",
    "\n",
    "import matplotlib.pyplot as plt\n",
    "\n",
    "import jax.numpy as np\n",
    "from jax import jit, grad, lax, random\n",
    "from jax.experimental import optimizers\n",
    "from jax.experimental import stax\n",
    "from jax.experimental.stax import Dense, FanOut, Relu, Softplus\n",
    "#from examples import datasets\n",
    "import torch\n",
    "from torchvision import datasets, transforms\n",
    "#from: https://github.com/RobertTLange/code-and-blog/blob/master/04_jax_intro/helpers.py\n",
    "#!conda install -c anaconda seaborn --yes\n",
    "from helpers import plot_mnist_examples\n",
    "from helpers import plot_mnist_performance"
   ]
  },
  {
   "cell_type": "code",
   "execution_count": 5,
   "metadata": {},
   "outputs": [
    {
     "name": "stdout",
     "output_type": "stream",
     "text": [
      "torch.Size([60000, 1, 28, 28])\n",
      "torch.Size([10000, 1, 28, 28])\n"
     ]
    }
   ],
   "source": [
    "# Set the PyTorch Data Loader for the training & test set\n",
    "batch_size = 100\n",
    "\n",
    "dsMnist=datasets.MNIST('./pytorch_data', train=True, download=True,\n",
    "                   transform=transforms.Compose([\n",
    "                       transforms.ToTensor(),\n",
    "                       transforms.Normalize((0.1307,), (0.3081,))\n",
    "                   ]))\n",
    "train_loader = torch.utils.data.DataLoader(dsMnist, batch_size=len(dsMnist), shuffle=True)\n",
    "train_iter=iter(train_loader)\n",
    "train_x,train_y=next(train_iter)\n",
    "print(train_x.shape)\n",
    "\n",
    "dtMnist=datasets.MNIST('./pytorch_data', train=False, transform=transforms.Compose([\n",
    "                       transforms.ToTensor(),\n",
    "                       transforms.Normalize((0.1307,), (0.3081,))\n",
    "                   ]))\n",
    "test_loader = torch.utils.data.DataLoader(dtMnist,batch_size=len(dtMnist), shuffle=True)\n",
    "test_iter=iter(test_loader)\n",
    "test_x,test_y=next(test_iter)\n",
    "print(test_x.shape)\n"
   ]
  },
  {
   "cell_type": "code",
   "execution_count": 6,
   "metadata": {},
   "outputs": [
    {
     "data": {
      "image/png": "[encoded data removed]",
      "text/plain": [
       "<Figure size 720x360 with 4 Axes>"
      ]
     },
     "metadata": {},
     "output_type": "display_data"
    }
   ],
   "source": [
    "plot_mnist_examples(train_loader)"
   ]
  },
  {
   "cell_type": "code",
   "execution_count": 14,
   "metadata": {},
   "outputs": [],
   "source": [
    "def gaussian_kl(mu, sigmasq):\n",
    "  \"\"\"KL divergence from a diagonal Gaussian to the standard Gaussian.\"\"\"\n",
    "  return -0.5 * np.sum(1. + np.log(sigmasq) - mu**2. - sigmasq)\n",
    "\n",
    "def gaussian_sample(rng, mu, sigmasq):\n",
    "  \"\"\"Sample a diagonal Gaussian.\"\"\"\n",
    "  return mu + np.sqrt(sigmasq) * random.normal(rng, mu.shape)\n",
    "\n",
    "def bernoulli_logpdf(logits, x):\n",
    "  \"\"\"Bernoulli log pdf of data x given logits.\"\"\"\n",
    "  return -np.sum(np.logaddexp(0., np.where(x, -1., 1.) * logits))\n",
    "\n",
    "def elbo(rng, params, images):\n",
    "  \"\"\"Monte Carlo estimate of the negative evidence lower bound.\"\"\"\n",
    "  enc_params, dec_params = params\n",
    "  mu_z, sigmasq_z = encode(enc_params, images)\n",
    "  logits_x = decode(dec_params, gaussian_sample(rng, mu_z, sigmasq_z))\n",
    "  return bernoulli_logpdf(logits_x, images) - gaussian_kl(mu_z, sigmasq_z)\n",
    "\n",
    "def image_sample(rng, params, nrow, ncol):\n",
    "  \"\"\"Sample images from the generative model.\"\"\"\n",
    "  _, dec_params = params\n",
    "  code_rng, img_rng = random.split(rng)\n",
    "  logits = decode(dec_params, random.normal(code_rng, (nrow * ncol, 10)))\n",
    "  sampled_images = random.bernoulli(img_rng, np.logaddexp(0., logits))\n",
    "  return image_grid(nrow, ncol, sampled_images, (28, 28))\n",
    "\n",
    "def image_grid(nrow, ncol, imagevecs, imshape):\n",
    "  \"\"\"Reshape a stack of image vectors into an image grid for plotting.\"\"\"\n",
    "  images = iter(imagevecs.reshape((-1,) + imshape))\n",
    "  return np.vstack([np.hstack([next(images).T for _ in range(ncol)][::-1])\n",
    "                    for _ in range(nrow)]).T"
   ]
  },
  {
   "cell_type": "code",
   "execution_count": 8,
   "metadata": {},
   "outputs": [],
   "source": [
    "encoder_init, encode = stax.serial(\n",
    "    Conv(32, (5, 5), (2, 2), padding=\"SAME\"),\n",
    "    BatchNorm(), Relu,\n",
    "    Conv(32, (5, 5), (2, 2), padding=\"SAME\"),\n",
    "    BatchNorm(), Relu,\n",
    "    Conv(10, (3, 3), (2, 2), padding=\"SAME\"),\n",
    "    BatchNorm(), Relu,\n",
    "    Conv(10, (3, 3), (2, 2), padding=\"SAME\"), Relu,\n",
    "    Flatten,\n",
    "    Dense(512), Relu,\n",
    "    Dense(512), Relu,\n",
    "    FanOut(2),\n",
    "    stax.parallel(Dense(10), stax.serial(Dense(10), Softplus)),\n",
    ")\n",
    "\n",
    "decoder_init, decode = stax.serial(\n",
    "    Dense(512), Relu,\n",
    "    Dense(512), Relu,\n",
    "    Dense(28 * 28),\n",
    ")"
   ]
  },
  {
   "cell_type": "code",
   "execution_count": 12,
   "metadata": {},
   "outputs": [
    {
     "name": "stdout",
     "output_type": "stream",
     "text": [
      "(60000, 784)\n",
      "(10000, 784)\n"
     ]
    }
   ],
   "source": [
    "step_size = 0.001\n",
    "num_epochs = 100\n",
    "batch_size = 32\n",
    "nrow, ncol = 10, 10  # sampled image grid size\n",
    "\n",
    "test_rng = random.PRNGKey(1)  # fixed prng key for evaluation\n",
    "imfile = os.path.join(os.getenv(\"TMPDIR\", \"/tmp/\"), \"mnist_vae_{:03d}.png\")\n",
    "\n",
    "#train_images=, _, test_images, _ = datasets.mnist(permute_train=True)\n",
    "train_images=np.array(train_x).reshape(train_x.size(0), 28*28)\n",
    "print(train_images.shape)\n",
    "test_images =np.array(test_x).reshape(test_x.size(0), 28*28)\n",
    "print(test_images.shape)\n",
    "num_complete_batches, leftover = divmod(train_images.shape[0], batch_size)\n",
    "num_batches = num_complete_batches + bool(leftover)"
   ]
  },
  {
   "cell_type": "code",
   "execution_count": null,
   "metadata": {},
   "outputs": [],
   "source": [
    "enc_init_rng, dec_init_rng = random.split(random.PRNGKey(2))\n",
    "_, init_encoder_params = encoder_init(enc_init_rng, (batch_size, 28 * 28))\n",
    "_, init_decoder_params = decoder_init(dec_init_rng, (batch_size, 10))\n",
    "init_params = init_encoder_params, init_decoder_params\n",
    "\n",
    "opt_init, opt_update, get_params = optimizers.momentum(step_size, mass=0.9)\n",
    "\n",
    "def binarize_batch(rng, i, images):\n",
    "    i = i % num_batches\n",
    "    batch = lax.dynamic_slice_in_dim(images, i * batch_size, batch_size)\n",
    "    return random.bernoulli(rng, batch)\n",
    "\n",
    "@jit\n",
    "def run_epoch(rng, opt_state):\n",
    "    def body_fun(i, opt_state):\n",
    "        elbo_rng, data_rng = random.split(random.fold_in(rng, i))\n",
    "        batch = binarize_batch(data_rng, i, train_images)\n",
    "        loss = lambda params: -elbo(elbo_rng, params, batch) / batch_size\n",
    "        g = grad(loss)(get_params(opt_state))\n",
    "        return opt_update(i, g, opt_state)\n",
    "    return lax.fori_loop(0, num_batches, body_fun, opt_state)\n",
    "\n",
    "@jit\n",
    "def evaluate(opt_state, images):\n",
    "    params = get_params(opt_state)\n",
    "    elbo_rng, data_rng, image_rng = random.split(test_rng, 3)\n",
    "    binarized_test = random.bernoulli(data_rng, images)\n",
    "    test_elbo = elbo(elbo_rng, params, binarized_test) / images.shape[0]\n",
    "    sampled_images = image_sample(image_rng, params, nrow, ncol)\n",
    "    return test_elbo, sampled_images"
   ]
  },
  {
   "cell_type": "code",
   "execution_count": 15,
   "metadata": {},
   "outputs": [
    {
     "name": "stdout",
     "output_type": "stream",
     "text": [
      "  0 -117.38753509521484 (10.813 sec)\n",
      "  1 -108.02906036376953 (0.003 sec)\n",
      "  2 -104.06541442871094 (0.003 sec)\n",
      "  3 -102.43475341796875 (0.002 sec)\n",
      "  4 -101.69845581054688 (0.002 sec)\n",
      "  5 -99.95760345458984 (0.002 sec)\n",
      "  6 -98.95760345458984 (0.003 sec)\n",
      "  7 -98.95077514648438 (0.002 sec)\n",
      "  8 -97.19876861572266 (0.002 sec)\n",
      "  9 -97.80155944824219 (0.003 sec)\n",
      " 10 -97.46063995361328 (0.002 sec)\n",
      " 11 -97.73306274414062 (0.003 sec)\n",
      " 12 -96.47126007080078 (0.002 sec)\n",
      " 13 -97.353759765625 (0.002 sec)\n",
      " 14 -96.53823852539062 (0.002 sec)\n",
      " 15 -96.28009796142578 (0.002 sec)\n",
      " 16 -95.97369384765625 (0.002 sec)\n",
      " 17 -96.00509643554688 (0.003 sec)\n",
      " 18 -95.28240203857422 (0.003 sec)\n",
      " 19 -95.78897094726562 (0.003 sec)\n",
      " 20 -95.66222381591797 (0.002 sec)\n",
      " 21 -95.8922348022461 (0.002 sec)\n",
      " 22 -95.60994720458984 (0.002 sec)\n",
      " 23 -95.05445098876953 (0.003 sec)\n",
      " 24 -94.93897247314453 (0.002 sec)\n",
      " 25 -94.6717529296875 (0.002 sec)\n",
      " 26 -95.46318054199219 (0.002 sec)\n",
      " 27 -94.92903900146484 (0.003 sec)\n",
      " 28 -95.41048431396484 (0.002 sec)\n",
      " 29 -94.69597625732422 (0.002 sec)\n",
      " 30 -95.19237518310547 (0.002 sec)\n",
      " 31 -94.727294921875 (0.002 sec)\n",
      " 32 -95.28253173828125 (0.002 sec)\n",
      " 33 -94.83611297607422 (0.003 sec)\n",
      " 34 -94.45549011230469 (0.002 sec)\n",
      " 35 -94.44696044921875 (0.002 sec)\n",
      " 36 -94.7652816772461 (0.002 sec)\n",
      " 37 -95.23821258544922 (0.003 sec)\n",
      " 38 -94.96076965332031 (0.002 sec)\n",
      " 39 -94.59931945800781 (0.002 sec)\n",
      " 40 -95.1128921508789 (0.002 sec)\n",
      " 41 -95.19823455810547 (0.002 sec)\n",
      " 42 -94.45673370361328 (0.003 sec)\n",
      " 43 -94.28031158447266 (0.003 sec)\n",
      " 44 -95.29574584960938 (0.002 sec)\n",
      " 45 -94.56841278076172 (0.002 sec)\n",
      " 46 -94.66519165039062 (0.002 sec)\n",
      " 47 -94.84016418457031 (0.002 sec)\n",
      " 48 -94.57768249511719 (0.002 sec)\n",
      " 49 -94.83291625976562 (0.003 sec)\n",
      " 50 -94.80563354492188 (0.002 sec)\n",
      " 51 -94.95675659179688 (0.002 sec)\n",
      " 52 -94.2916259765625 (0.002 sec)\n",
      " 53 -94.87474822998047 (0.002 sec)\n",
      " 54 -94.57051086425781 (0.002 sec)\n",
      " 55 -94.52635955810547 (0.002 sec)\n",
      " 56 -94.60334014892578 (0.002 sec)\n",
      " 57 -95.74107360839844 (0.002 sec)\n",
      " 58 -94.9907455444336 (0.002 sec)\n",
      " 59 -94.43009948730469 (0.003 sec)\n",
      " 60 -94.50341796875 (0.003 sec)\n",
      " 61 -95.77242279052734 (0.002 sec)\n",
      " 62 -94.9931869506836 (0.002 sec)\n",
      " 63 -95.33903503417969 (0.002 sec)\n",
      " 64 -95.56941986083984 (0.002 sec)\n",
      " 65 -94.73173522949219 (0.002 sec)\n",
      " 66 -94.44580078125 (0.002 sec)\n",
      " 67 -95.00545501708984 (0.003 sec)\n",
      " 68 -95.27264404296875 (0.002 sec)\n",
      " 69 -94.31988525390625 (0.002 sec)\n",
      " 70 -94.27848815917969 (0.002 sec)\n",
      " 71 -94.6261978149414 (0.002 sec)\n",
      " 72 -94.70841217041016 (0.002 sec)\n",
      " 73 -94.98058319091797 (0.002 sec)\n",
      " 74 -95.47866821289062 (0.002 sec)\n",
      " 75 -95.1083755493164 (0.002 sec)\n",
      " 76 -94.58287811279297 (0.002 sec)\n",
      " 77 -94.38728332519531 (0.002 sec)\n",
      " 78 -94.56317901611328 (0.002 sec)\n",
      " 79 -94.5502700805664 (0.002 sec)\n",
      " 80 -93.93124389648438 (0.002 sec)\n",
      " 81 -94.18238067626953 (0.002 sec)\n",
      " 82 -93.9964370727539 (0.002 sec)\n",
      " 83 -95.43172454833984 (0.002 sec)\n",
      " 84 -94.80529022216797 (0.002 sec)\n",
      " 85 -95.0574722290039 (0.002 sec)\n",
      " 86 -94.78618621826172 (0.002 sec)\n",
      " 87 -94.87798309326172 (0.002 sec)\n",
      " 88 -94.66251373291016 (0.002 sec)\n",
      " 89 -94.68627166748047 (0.002 sec)\n",
      " 90 -95.01406860351562 (0.002 sec)\n",
      " 91 -95.03308868408203 (0.002 sec)\n",
      " 92 -94.65483093261719 (0.002 sec)\n",
      " 93 -95.16229248046875 (0.002 sec)\n",
      " 94 -94.91635131835938 (0.002 sec)\n",
      " 95 -95.33759307861328 (0.002 sec)\n",
      " 96 -94.9507064819336 (0.002 sec)\n",
      " 97 -94.39225006103516 (0.002 sec)\n",
      " 98 -95.49907684326172 (0.002 sec)\n",
      " 99 -94.65169525146484 (0.002 sec)\n"
     ]
    }
   ],
   "source": [
    "opt_state = opt_init(init_params)\n",
    "for epoch in range(num_epochs):\n",
    "    tic = time.time()\n",
    "    opt_state = run_epoch(random.PRNGKey(epoch), opt_state)\n",
    "    test_elbo, sampled_images = evaluate(opt_state, test_images)\n",
    "    print(\"{: 3d} {} ({:.3f} sec)\".format(epoch, test_elbo, time.time() - tic))\n",
    "    plt.imsave(imfile.format(epoch), sampled_images, cmap=plt.cm.gray)"
   ]
  },
  {
   "cell_type": "code",
   "execution_count": null,
   "metadata": {},
   "outputs": [],
   "source": []
  }
 ],
 "metadata": {
  "kernelspec": {
   "display_name": "Python 3",
   "language": "python",
   "name": "python3"
  },
  "language_info": {
   "codemirror_mode": {
    "name": "ipython",
    "version": 3
   },
   "file_extension": ".py",
   "mimetype": "text/x-python",
   "name": "python",
   "nbconvert_exporter": "python",
   "pygments_lexer": "ipython3",
   "version": "3.7.6"
  }
 },
 "nbformat": 4,
 "nbformat_minor": 4
}
