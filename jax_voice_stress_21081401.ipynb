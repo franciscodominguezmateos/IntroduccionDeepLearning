{
 "cells": [
  {
   "cell_type": "code",
   "execution_count": 230,
   "id": "choice-feature",
   "metadata": {},
   "outputs": [],
   "source": [
    "import glob\n",
    "import time\n",
    "import numpy as np\n",
    "#np.set_printoptions(precision=3)\n",
    "np.set_printoptions(formatter={'float': lambda x: \"{0:0.3f}\".format(x)})"
   ]
  },
  {
   "cell_type": "code",
   "execution_count": 231,
   "id": "tough-scholarship",
   "metadata": {},
   "outputs": [],
   "source": [
    "path_base=\"/home/francisco/datasets/datasets/sound/voice/stress\""
   ]
  },
  {
   "cell_type": "code",
   "execution_count": 232,
   "id": "changed-shaft",
   "metadata": {},
   "outputs": [],
   "source": [
    "def getLabel(s):\n",
    "    if s==\"TRUE\":\n",
    "        return 1.0\n",
    "    if s==\"FALSE\":\n",
    "        return 0.0\n",
    "    if s==\"PC\":\n",
    "        return 2.0\n",
    "def isRightLabel(s):\n",
    "    if s==\"TRUE\":\n",
    "        return True\n",
    "    if s==\"FALSE\":\n",
    "        return True\n",
    "    if s==\"PC\":\n",
    "        return False\n",
    "    return False"
   ]
  },
  {
   "cell_type": "code",
   "execution_count": 233,
   "id": "provincial-stable",
   "metadata": {},
   "outputs": [
    {
     "name": "stdout",
     "output_type": "stream",
     "text": [
      "Processing file: /home/francisco/datasets/datasets/sound/voice/stress/Set_Males.csv\n",
      "Processing file: /home/francisco/datasets/datasets/sound/voice/stress/Set_Females.csv\n",
      "(50, 68)\n",
      "[[126.278 0.014 0.029 ... 15.681 0.870 0.012]\n",
      " [142.901 0.005 0.019 ... 10.834 0.936 0.008]\n",
      " [117.189 0.005 0.014 ... 11.765 0.967 0.006]\n",
      " ...\n",
      " [192.269 0.008 0.022 ... 10.600 0.928 0.007]\n",
      " [167.700 0.005 0.025 ... 9.564 0.933 0.009]\n",
      " [206.086 0.007 0.013 ... 9.851 0.922 0.046]]\n",
      "(50,)\n",
      "[1.000 1.000 1.000 1.000 1.000 1.000 1.000 1.000 1.000 1.000 0.000 0.000\n",
      " 0.000 0.000 0.000 0.000 0.000 0.000 0.000 0.000 1.000 1.000 1.000 1.000\n",
      " 1.000 1.000 1.000 1.000 1.000 1.000 1.000 1.000 1.000 1.000 1.000 0.000\n",
      " 0.000 0.000 0.000 0.000 0.000 0.000 0.000 0.000 0.000 0.000 0.000 0.000\n",
      " 0.000 0.000]\n"
     ]
    }
   ],
   "source": [
    "data=[]\n",
    "labels=[]\n",
    "file_txt=path_base+\"/*.csv\"\n",
    "for filepath in glob.glob(file_txt):\n",
    "    print(\"Processing file: {}\".format(filepath)) \n",
    "    with open(filepath) as fp:  \n",
    "        line = fp.readline()\n",
    "        head_list=line.split(\";\")\n",
    "        #for i,head in enumerate(head_list):\n",
    "        #    print(i,head)\n",
    "        cnt = 1\n",
    "        line = fp.readline()\n",
    "        while line:\n",
    "            data_row=[]\n",
    "            line_list=line.split(\";\")\n",
    "            #print(\"Line {}: {} {} {}\".format(cnt, line_list[0], line_list[1], line_list[2]))\n",
    "            line = fp.readline()\n",
    "            cnt += 1\n",
    "            if not isRightLabel(line_list[0]):\n",
    "                continue\n",
    "            for i,datum in enumerate(line_list):\n",
    "                #print(i,head_list[i],\"=\",datum)\n",
    "                if i>1:\n",
    "                    data_row.append(float(datum))\n",
    "                if i==0:\n",
    "                    labels.append(getLabel(datum))\n",
    "            data.append(data_row)\n",
    "data_np=np.array(data)\n",
    "labels_np=np.array(labels)\n",
    "print(data_np.shape)\n",
    "print(data_np)\n",
    "print(labels_np.shape)\n",
    "print(labels_np)"
   ]
  },
  {
   "cell_type": "code",
   "execution_count": 234,
   "id": "tight-playback",
   "metadata": {},
   "outputs": [],
   "source": [
    "from sklearn.preprocessing import StandardScaler"
   ]
  },
  {
   "cell_type": "code",
   "execution_count": 235,
   "id": "steady-incidence",
   "metadata": {},
   "outputs": [
    {
     "name": "stdout",
     "output_type": "stream",
     "text": [
      "(50, 68)\n",
      "[[-0.692 1.335 0.942 ... 1.056 -1.550 -0.524]\n",
      " [-0.309 -0.907 -0.100 ... -0.261 0.011 -0.808]\n",
      " [-0.901 -0.907 -0.621 ... -0.008 0.744 -0.950]\n",
      " ...\n",
      " [0.826 -0.159 0.213 ... -0.325 -0.178 -0.879]\n",
      " [0.261 -0.907 0.525 ... -0.606 -0.060 -0.737]\n",
      " [1.144 -0.409 -0.725 ... -0.528 -0.320 1.895]]\n"
     ]
    }
   ],
   "source": [
    "ss=StandardScaler()\n",
    "data_ss=ss.fit_transform(data_np)\n",
    "\n",
    "print(data_ss.shape)\n",
    "print(data_ss)"
   ]
  },
  {
   "cell_type": "code",
   "execution_count": 236,
   "id": "fatal-recognition",
   "metadata": {},
   "outputs": [],
   "source": [
    "import numpy as onp\n",
    "import jax.numpy as np\n",
    "from jax import grad, jit, vmap, value_and_grad\n",
    "from jax import random\n",
    "from jax.experimental import stax\n",
    "from jax.experimental.stax import (BatchNorm, Conv, Dense, Flatten, Dropout,\n",
    "                                   Relu, LogSoftmax)"
   ]
  },
  {
   "cell_type": "code",
   "execution_count": 237,
   "id": "lonely-avenue",
   "metadata": {},
   "outputs": [],
   "source": [
    "# Import some additional JAX and dataloader helpers\n",
    "from jax.scipy.special import logsumexp\n",
    "from jax.experimental import optimizers"
   ]
  },
  {
   "cell_type": "code",
   "execution_count": 238,
   "id": "informed-yellow",
   "metadata": {},
   "outputs": [
    {
     "name": "stdout",
     "output_type": "stream",
     "text": [
      "gpu\n"
     ]
    }
   ],
   "source": [
    "#Test if JAX is using CPU or GPU\n",
    "from jax.lib import xla_bridge\n",
    "print(xla_bridge.get_backend().platform)"
   ]
  },
  {
   "cell_type": "code",
   "execution_count": 239,
   "id": "piano-theme",
   "metadata": {},
   "outputs": [],
   "source": [
    "# Generate key which is used to generate random numbers\n",
    "key = random.PRNGKey(1)"
   ]
  },
  {
   "cell_type": "code",
   "execution_count": 240,
   "id": "subsequent-province",
   "metadata": {},
   "outputs": [],
   "source": [
    "num_classes = 2\n",
    "hidden=25\n",
    "dropout_rate=0.5\n",
    "def makeNet(num_classes,hidden,dropout_rate,mode=\"train\"):\n",
    "    init_fun, net = stax.serial(\n",
    "        Dense(hidden),\n",
    "        Dropout(dropout_rate,mode=mode),\n",
    "        Dense(hidden),\n",
    "        Dropout(dropout_rate,mode=mode),\n",
    "        Dense(hidden),\n",
    "        Dense(num_classes),\n",
    "        LogSoftmax)\n",
    "    return init_fun,net"
   ]
  },
  {
   "cell_type": "code",
   "execution_count": 241,
   "id": "elementary-memphis",
   "metadata": {},
   "outputs": [
    {
     "name": "stdout",
     "output_type": "stream",
     "text": [
      "ouput_shape= (-1, 2)\n"
     ]
    }
   ],
   "source": [
    "init_fun, net=makeNet(num_classes,hidden,dropout_rate)\n",
    "input_shape=(-1,)+ data_ss.shape[1:]\n",
    "output_shape, params = init_fun(key, input_shape)\n",
    "print(\"ouput_shape=\",output_shape)\n",
    "_,netTest=makeNet(num_classes,hidden,dropout_rate,mode='test')"
   ]
  },
  {
   "cell_type": "code",
   "execution_count": 242,
   "id": "metallic-handbook",
   "metadata": {},
   "outputs": [],
   "source": [
    "def one_hot(x, k, dtype=np.float32):\n",
    "    \"\"\"Create a one-hot encoding of x of size k \"\"\"\n",
    "    return np.array(x[:, None] == np.arange(k), dtype)\n",
    "\n",
    "def loss(params, data, targets,key):\n",
    "    preds = net(params, data,rng=key)\n",
    "    return -np.sum(preds * targets)\n",
    "def predict(params,data,key):\n",
    "    preds=netTest(params,data,rng=key)\n",
    "    return np.exp(preds)"
   ]
  },
  {
   "cell_type": "code",
   "execution_count": 243,
   "id": "flying-father",
   "metadata": {},
   "outputs": [],
   "source": [
    "step_size = 1e-3\n",
    "opt_init, opt_update, get_params = optimizers.adam(step_size)\n",
    "opt_state = opt_init(params)\n",
    "num_epochs = 2"
   ]
  },
  {
   "cell_type": "code",
   "execution_count": 244,
   "id": "interested-consent",
   "metadata": {},
   "outputs": [],
   "source": [
    "@jit\n",
    "def update(params, x, y, opt_state,key):\n",
    "    \"\"\" Compute the gradient for a batch and update the parameters \"\"\"\n",
    "    value, grads = value_and_grad(loss)(params, x, y,key)\n",
    "    opt_state = opt_update(0, grads, opt_state)\n",
    "    return get_params(opt_state), opt_state, value"
   ]
  },
  {
   "cell_type": "code",
   "execution_count": 245,
   "id": "essential-fifth",
   "metadata": {},
   "outputs": [
    {
     "name": "stdout",
     "output_type": "stream",
     "text": [
      "(50, 2)\n"
     ]
    }
   ],
   "source": [
    "labels_onehot=one_hot(labels_np,num_classes)\n",
    "print(labels_onehot.shape)\n",
    "def run_training_loop(data_ss,labels_onehot,num_epochs, opt_state,verbose=False):\n",
    "    \"\"\" Implements a learning loop over epochs. \"\"\"\n",
    "    # Get the initial set of parameters\n",
    "    params = get_params(opt_state)\n",
    "\n",
    "    # Loop over the training epochs\n",
    "    for epoch in range(num_epochs):\n",
    "        start_time = time.time()\n",
    "        params, opt_state, loss = update(params, data_ss, labels_onehot, opt_state,key)\n",
    "        epoch_time = time.time() - start_time\n",
    "        if verbose: print(\"Epoch {} | T: {:0.2f} | loss: {:0.3f} \".format(epoch+1, epoch_time,\n",
    "                                                                    loss))\n",
    "    return loss,params"
   ]
  },
  {
   "cell_type": "code",
   "execution_count": 246,
   "id": "answering-warning",
   "metadata": {},
   "outputs": [
    {
     "name": "stdout",
     "output_type": "stream",
     "text": [
      "0.0018863175\n"
     ]
    }
   ],
   "source": [
    "l,params=run_training_loop(data_ss,labels_onehot,2000,opt_state)\n",
    "print(l)"
   ]
  },
  {
   "cell_type": "code",
   "execution_count": 247,
   "id": "fantastic-klein",
   "metadata": {},
   "outputs": [],
   "source": [
    "def _numpy_delete(x, idx):\n",
    "    \"\"\"\n",
    "    Gets the subarray from `x` where data from index `idx` on the first axis is removed.\n",
    "    \"\"\"\n",
    "    # NB: numpy.delete is not yet available in JAX\n",
    "    mask = np.arange(x.shape[0] - 1) < idx\n",
    "    return np.where(mask.reshape((-1,) + (1,) * (x.ndim - 1)), x[:-1], x[1:])\n",
    "def allButOne(x,y,i):\n",
    "    global key\n",
    "    oneX=x[i,:]\n",
    "    oneY=y[i,:]\n",
    "    allXBut=_numpy_delete(x,i)\n",
    "    allYBut=_numpy_delete(y,i)\n",
    "    rng,key=random.split(key)\n",
    "    idxs=allXBut.shape[0]\n",
    "    suffleIdx=random.permutation(rng,idxs)\n",
    "    allXBut=allXBut[suffleIdx]\n",
    "    allYBut=allYBut[suffleIdx]\n",
    "    return allXBut,allYBut,oneX,oneY"
   ]
  },
  {
   "cell_type": "code",
   "execution_count": 248,
   "id": "accredited-digit",
   "metadata": {},
   "outputs": [
    {
     "name": "stdout",
     "output_type": "stream",
     "text": [
      "(49, 68)\n",
      "(49, 2)\n",
      "(68,)\n",
      "(2,)\n"
     ]
    },
    {
     "data": {
      "text/plain": [
       "DeviceArray([0.000, 1.000], dtype=float32)"
      ]
     },
     "execution_count": 248,
     "metadata": {},
     "output_type": "execute_result"
    }
   ],
   "source": [
    "allXBut,allYBut,oneX,oneY=allButOne(data_ss,labels_onehot,1)\n",
    "print(allXBut.shape)\n",
    "print(allYBut.shape)\n",
    "print(oneX.shape)\n",
    "print(oneY.shape)\n",
    "oneY"
   ]
  },
  {
   "cell_type": "code",
   "execution_count": 249,
   "id": "killing-purpose",
   "metadata": {},
   "outputs": [
    {
     "name": "stdout",
     "output_type": "stream",
     "text": [
      "i= 0 [0.966 0.034] [0.000 1.000] acc= 0.033999696 accMean= 0.033999696\n",
      "i= 1 [0.044 0.956] [0.000 1.000] acc= 0.9555793 accMean= 0.49478948\n",
      "i= 2 [0.780 0.220] [0.000 1.000] acc= 0.22032958 accMean= 0.40330285\n",
      "i= 3 [0.132 0.868] [0.000 1.000] acc= 0.8684061 accMean= 0.51957864\n",
      "i= 4 [0.069 0.931] [0.000 1.000] acc= 0.9305687 accMean= 0.60177666\n",
      "i= 5 [0.785 0.215] [0.000 1.000] acc= 0.21516491 accMean= 0.53734136\n",
      "i= 6 [0.792 0.208] [0.000 1.000] acc= 0.20816924 accMean= 0.49031678\n",
      "i= 7 [1.000 0.000] [0.000 1.000] acc= 5.194653e-09 accMean= 0.42902717\n",
      "i= 8 [0.770 0.230] [0.000 1.000] acc= 0.23034164 accMean= 0.406951\n",
      "i= 9 [0.009 0.991] [0.000 1.000] acc= 0.9914964 accMean= 0.46540555\n",
      "i= 10 [0.641 0.359] [1.000 0.000] acc= 0.6405133 accMean= 0.48132446\n",
      "i= 11 [0.002 0.998] [1.000 0.000] acc= 0.0019398866 accMean= 0.44137573\n",
      "i= 12 [0.056 0.944] [1.000 0.000] acc= 0.05568412 accMean= 0.41170716\n",
      "i= 13 [0.647 0.353] [1.000 0.000] acc= 0.64719045 accMean= 0.4285274\n",
      "i= 14 [0.887 0.113] [1.000 0.000] acc= 0.88727975 accMean= 0.45911092\n",
      "i= 15 [0.268 0.732] [1.000 0.000] acc= 0.2681043 accMean= 0.447173\n",
      "i= 16 [0.994 0.006] [1.000 0.000] acc= 0.9941172 accMean= 0.47934616\n",
      "i= 17 [0.361 0.639] [1.000 0.000] acc= 0.3607025 accMean= 0.47275487\n",
      "i= 18 [0.001 0.999] [1.000 0.000] acc= 0.0010530453 accMean= 0.44792843\n",
      "i= 19 [0.991 0.009] [1.000 0.000] acc= 0.99108404 accMean= 0.4750862\n",
      "i= 20 [0.924 0.076] [0.000 1.000] acc= 0.07645729 accMean= 0.4561039\n",
      "i= 21 [0.026 0.974] [0.000 1.000] acc= 0.9742584 accMean= 0.47965637\n",
      "i= 22 [0.963 0.037] [0.000 1.000] acc= 0.036545306 accMean= 0.4603907\n",
      "i= 23 [0.978 0.022] [0.000 1.000] acc= 0.021881316 accMean= 0.44211945\n",
      "i= 24 [0.962 0.038] [0.000 1.000] acc= 0.038493216 accMean= 0.42597437\n",
      "i= 25 [0.231 0.769] [0.000 1.000] acc= 0.7694226 accMean= 0.43918395\n",
      "i= 26 [0.088 0.912] [0.000 1.000] acc= 0.911542 accMean= 0.4566787\n",
      "i= 27 [0.028 0.972] [0.000 1.000] acc= 0.9721642 accMean= 0.4750889\n",
      "i= 28 [0.943 0.057] [0.000 1.000] acc= 0.05740428 accMean= 0.46068597\n",
      "i= 29 [0.398 0.602] [0.000 1.000] acc= 0.60194796 accMean= 0.4653947\n",
      "i= 30 [0.998 0.002] [0.000 1.000] acc= 0.0022896142 accMean= 0.4504558\n",
      "i= 31 [0.008 0.992] [0.000 1.000] acc= 0.9915739 accMean= 0.46736577\n",
      "i= 32 [0.187 0.813] [0.000 1.000] acc= 0.8130215 accMean= 0.4778402\n",
      "i= 33 [0.001 0.999] [0.000 1.000] acc= 0.9991665 accMean= 0.49317333\n",
      "i= 34 [0.068 0.932] [0.000 1.000] acc= 0.9318773 accMean= 0.50570774\n",
      "i= 35 [0.986 0.014] [1.000 0.000] acc= 0.9855276 accMean= 0.51903605\n",
      "i= 36 [0.907 0.093] [1.000 0.000] acc= 0.90654904 accMean= 0.52950937\n",
      "i= 37 [0.977 0.023] [1.000 0.000] acc= 0.9770538 accMean= 0.5412869\n",
      "i= 38 [0.929 0.071] [1.000 0.000] acc= 0.92910635 accMean= 0.55123097\n",
      "i= 39 [0.019 0.981] [1.000 0.000] acc= 0.018679447 accMean= 0.53791714\n",
      "i= 40 [0.028 0.972] [1.000 0.000] acc= 0.027506137 accMean= 0.52546805\n",
      "i= 41 [0.159 0.841] [1.000 0.000] acc= 0.15874833 accMean= 0.5167367\n",
      "i= 42 [0.058 0.942] [1.000 0.000] acc= 0.0579608 accMean= 0.50606745\n",
      "i= 43 [0.747 0.253] [1.000 0.000] acc= 0.74706316 accMean= 0.51154464\n",
      "i= 44 [0.997 0.003] [1.000 0.000] acc= 0.99741113 accMean= 0.52234167\n",
      "i= 45 [0.004 0.996] [1.000 0.000] acc= 0.0040204064 accMean= 0.5110738\n",
      "i= 46 [0.002 0.998] [1.000 0.000] acc= 0.0021489477 accMean= 0.50024563\n",
      "i= 47 [0.816 0.184] [1.000 0.000] acc= 0.81605947 accMean= 0.5068251\n",
      "i= 48 [0.997 0.003] [1.000 0.000] acc= 0.9968532 accMean= 0.5168256\n",
      "i= 49 [0.025 0.975] [1.000 0.000] acc= 0.02528314 accMean= 0.5069948\n",
      "accMean= 0.5069948\n"
     ]
    }
   ],
   "source": [
    "accT=0\n",
    "for i in range(data_ss.shape[0]):\n",
    "    allXBut,allYBut,oneX,oneY=allButOne(data_ss,labels_onehot,i)\n",
    "    loss,params=run_training_loop(allXBut,allYBut,2000,opt_state)\n",
    "    p=predict(params,oneX,key)\n",
    "    acc=np.sum(p*oneY)\n",
    "    accT+=acc\n",
    "    print(\"i=\",i,p,oneY,\"acc=\",acc,\"accMean=\",accT/(i+1))\n",
    "print(\"accMean=\",accT/data_ss.shape[0])"
   ]
  },
  {
   "cell_type": "code",
   "execution_count": null,
   "id": "blind-reducing",
   "metadata": {},
   "outputs": [],
   "source": []
  },
  {
   "cell_type": "code",
   "execution_count": null,
   "id": "legitimate-uruguay",
   "metadata": {},
   "outputs": [],
   "source": []
  },
  {
   "cell_type": "code",
   "execution_count": null,
   "id": "national-opera",
   "metadata": {},
   "outputs": [],
   "source": []
  }
 ],
 "metadata": {
  "kernelspec": {
   "display_name": "Python 3",
   "language": "python",
   "name": "python3"
  },
  "language_info": {
   "codemirror_mode": {
    "name": "ipython",
    "version": 3
   },
   "file_extension": ".py",
   "mimetype": "text/x-python",
   "name": "python",
   "nbconvert_exporter": "python",
   "pygments_lexer": "ipython3",
   "version": "3.8.8"
  }
 },
 "nbformat": 4,
 "nbformat_minor": 5
}
