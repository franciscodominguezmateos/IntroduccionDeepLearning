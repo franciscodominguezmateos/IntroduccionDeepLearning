{
 "cells": [
  {
   "cell_type": "code",
   "execution_count": 1,
   "id": "resident-material",
   "metadata": {},
   "outputs": [],
   "source": [
    "# Francisco Dominguez Mateos\n",
    "# 25/08/2021\n",
    "# Voice Stress detection"
   ]
  },
  {
   "cell_type": "code",
   "execution_count": 2,
   "id": "demographic-jimmy",
   "metadata": {},
   "outputs": [],
   "source": [
    "import glob\n",
    "import time\n",
    "import numpy as np\n",
    "#np.set_printoptions(precision=3)\n",
    "np.set_printoptions(formatter={'float': lambda x: \"{0:0.3f}\".format(x)})"
   ]
  },
  {
   "cell_type": "code",
   "execution_count": 3,
   "id": "normal-helena",
   "metadata": {},
   "outputs": [],
   "source": [
    "path_base=\"/home/francisco/datasets/datasets/sound/voice/stress\""
   ]
  },
  {
   "cell_type": "code",
   "execution_count": 4,
   "id": "vanilla-honduras",
   "metadata": {},
   "outputs": [],
   "source": [
    "def getLabel(s):\n",
    "    if s==\"TRUE\":\n",
    "        return 1.0\n",
    "    if s==\"FALSE\":\n",
    "        return 0.0\n",
    "    if s==\"PC\":\n",
    "        return 2.0\n",
    "def isRightLabel(s):\n",
    "    if s==\"TRUE\":\n",
    "        return True\n",
    "    if s==\"FALSE\":\n",
    "        return True\n",
    "    if s==\"PC\":\n",
    "        return False\n",
    "    return False"
   ]
  },
  {
   "cell_type": "code",
   "execution_count": 5,
   "id": "minor-hawaiian",
   "metadata": {},
   "outputs": [
    {
     "name": "stdout",
     "output_type": "stream",
     "text": [
      "Processing file: /home/francisco/datasets/datasets/sound/voice/stress/Set_Males.csv\n",
      "Processing file: /home/francisco/datasets/datasets/sound/voice/stress/Set_Females.csv\n",
      "(50, 68)\n",
      "[[126.278 0.014 0.029 ... 15.681 0.870 0.012]\n",
      " [142.901 0.005 0.019 ... 10.834 0.936 0.008]\n",
      " [117.189 0.005 0.014 ... 11.765 0.967 0.006]\n",
      " ...\n",
      " [192.269 0.008 0.022 ... 10.600 0.928 0.007]\n",
      " [167.700 0.005 0.025 ... 9.564 0.933 0.009]\n",
      " [206.086 0.007 0.013 ... 9.851 0.922 0.046]]\n",
      "(50,)\n",
      "[1.000 1.000 1.000 1.000 1.000 1.000 1.000 1.000 1.000 1.000 0.000 0.000\n",
      " 0.000 0.000 0.000 0.000 0.000 0.000 0.000 0.000 1.000 1.000 1.000 1.000\n",
      " 1.000 1.000 1.000 1.000 1.000 1.000 1.000 1.000 1.000 1.000 1.000 0.000\n",
      " 0.000 0.000 0.000 0.000 0.000 0.000 0.000 0.000 0.000 0.000 0.000 0.000\n",
      " 0.000 0.000]\n"
     ]
    }
   ],
   "source": [
    "data=[]\n",
    "labels=[]\n",
    "file_txt=path_base+\"/*.csv\"\n",
    "for filepath in glob.glob(file_txt):\n",
    "    print(\"Processing file: {}\".format(filepath)) \n",
    "    with open(filepath) as fp:  \n",
    "        line = fp.readline()\n",
    "        head_list=line.split(\";\")\n",
    "        #for i,head in enumerate(head_list):\n",
    "        #    print(i,head)\n",
    "        cnt = 1\n",
    "        line = fp.readline()\n",
    "        while line:\n",
    "            data_row=[]\n",
    "            line_list=line.split(\";\")\n",
    "            #print(\"Line {}: {} {} {}\".format(cnt, line_list[0], line_list[1], line_list[2]))\n",
    "            line = fp.readline()\n",
    "            cnt += 1\n",
    "            if not isRightLabel(line_list[0]):\n",
    "                continue\n",
    "            for i,datum in enumerate(line_list):\n",
    "                #print(i,head_list[i],\"=\",datum)\n",
    "                if i>1:\n",
    "                    data_row.append(float(datum))\n",
    "                if i==0:\n",
    "                    labels.append(getLabel(datum))\n",
    "            data.append(data_row)\n",
    "data_np=np.array(data)\n",
    "labels_np=np.array(labels)\n",
    "print(data_np.shape)\n",
    "print(data_np)\n",
    "print(labels_np.shape)\n",
    "print(labels_np)"
   ]
  },
  {
   "cell_type": "code",
   "execution_count": 6,
   "id": "secondary-camel",
   "metadata": {},
   "outputs": [],
   "source": [
    "from sklearn.preprocessing import StandardScaler"
   ]
  },
  {
   "cell_type": "code",
   "execution_count": 7,
   "id": "entire-pepper",
   "metadata": {},
   "outputs": [
    {
     "name": "stdout",
     "output_type": "stream",
     "text": [
      "(50, 68)\n",
      "[[-0.692 1.335 0.942 ... 1.056 -1.550 -0.524]\n",
      " [-0.309 -0.907 -0.100 ... -0.261 0.011 -0.808]\n",
      " [-0.901 -0.907 -0.621 ... -0.008 0.744 -0.950]\n",
      " ...\n",
      " [0.826 -0.159 0.213 ... -0.325 -0.178 -0.879]\n",
      " [0.261 -0.907 0.525 ... -0.606 -0.060 -0.737]\n",
      " [1.144 -0.409 -0.725 ... -0.528 -0.320 1.895]]\n"
     ]
    }
   ],
   "source": [
    "ss=StandardScaler()\n",
    "data_ss=ss.fit_transform(data_np)\n",
    "\n",
    "print(data_ss.shape)\n",
    "print(data_ss)"
   ]
  },
  {
   "cell_type": "code",
   "execution_count": 24,
   "id": "elect-saver",
   "metadata": {},
   "outputs": [],
   "source": [
    "from sklearn.decomposition import PCA"
   ]
  },
  {
   "cell_type": "code",
   "execution_count": 120,
   "id": "acting-watson",
   "metadata": {},
   "outputs": [
    {
     "name": "stdout",
     "output_type": "stream",
     "text": [
      "(50, 7)\n"
     ]
    }
   ],
   "source": [
    "pca=PCA(7,whiten=True)\n",
    "data_ss=pca.fit_transform(data_np)\n",
    "print(data_ss.shape)"
   ]
  },
  {
   "cell_type": "code",
   "execution_count": 121,
   "id": "military-appeal",
   "metadata": {},
   "outputs": [],
   "source": [
    "import numpy as onp\n",
    "import jax.numpy as np\n",
    "from jax import grad, jit, vmap, value_and_grad\n",
    "from jax import random\n",
    "from jax.experimental import stax\n",
    "from jax.experimental.stax import (BatchNorm, Conv, Dense, Flatten, Dropout,\n",
    "                                   Relu, LogSoftmax)"
   ]
  },
  {
   "cell_type": "code",
   "execution_count": 122,
   "id": "sustainable-attempt",
   "metadata": {},
   "outputs": [],
   "source": [
    "# Import some additional JAX and dataloader helpers\n",
    "from jax.scipy.special import logsumexp\n",
    "from jax.experimental import optimizers"
   ]
  },
  {
   "cell_type": "code",
   "execution_count": 123,
   "id": "qualified-syndication",
   "metadata": {},
   "outputs": [
    {
     "name": "stdout",
     "output_type": "stream",
     "text": [
      "gpu\n"
     ]
    }
   ],
   "source": [
    "#Test if JAX is using CPU or GPU\n",
    "from jax.lib import xla_bridge\n",
    "print(xla_bridge.get_backend().platform)"
   ]
  },
  {
   "cell_type": "code",
   "execution_count": 124,
   "id": "basic-comparative",
   "metadata": {},
   "outputs": [],
   "source": [
    "# Generate key which is used to generate random numbers\n",
    "key = random.PRNGKey(1)"
   ]
  },
  {
   "cell_type": "code",
   "execution_count": 156,
   "id": "occasional-vienna",
   "metadata": {},
   "outputs": [],
   "source": [
    "num_classes = 2\n",
    "hidden=25\n",
    "dropout_rate=0.5\n",
    "def makeNet(num_classes,hidden,dropout_rate,mode=\"train\"):\n",
    "    init_fun, net = stax.serial(\n",
    "        Dense(hidden),\n",
    "        #BatchNorm(axis=0),\n",
    "        Relu,\n",
    "        Dropout(dropout_rate,mode=mode),\n",
    "        #Dense(hidden),\n",
    "        #BatchNorm(axis=0),\n",
    "        #Relu,\n",
    "        #Dropout(dropout_rate,mode=mode),\n",
    "        Dense(hidden),\n",
    "        Dense(num_classes),\n",
    "        LogSoftmax)\n",
    "    return init_fun,net"
   ]
  },
  {
   "cell_type": "code",
   "execution_count": 145,
   "id": "related-manufacturer",
   "metadata": {},
   "outputs": [],
   "source": [
    "def initNets(data):\n",
    "    #buid net\n",
    "    init_fun, net=makeNet(num_classes,hidden,dropout_rate)\n",
    "    input_shape=(-1,)+ data.shape[1:]\n",
    "    output_shape, params = init_fun(key, input_shape)\n",
    "    #print(\"ouput_shape=\",output_shape)\n",
    "    _,netTest=makeNet(num_classes,hidden,dropout_rate,mode='test')  \n",
    "    #buid optimizer\n",
    "    step_size = 1e-3\n",
    "    opt_init, opt_update, get_params = optimizers.adam(step_size)\n",
    "    opt_state = opt_init(params)\n",
    "    return net,netTest,opt_state"
   ]
  },
  {
   "cell_type": "code",
   "execution_count": 146,
   "id": "fresh-abraham",
   "metadata": {},
   "outputs": [
    {
     "name": "stdout",
     "output_type": "stream",
     "text": [
      "ouput_shape= (-1, 2)\n"
     ]
    }
   ],
   "source": [
    "net,netTest,opt_state=initNets(data_ss)"
   ]
  },
  {
   "cell_type": "code",
   "execution_count": 147,
   "id": "healthy-translation",
   "metadata": {},
   "outputs": [],
   "source": [
    "def one_hot(x, k, dtype=np.float32):\n",
    "    \"\"\"Create a one-hot encoding of x of size k \"\"\"\n",
    "    return np.array(x[:, None] == np.arange(k), dtype)\n",
    "\n",
    "def loss(params, data, targets,key):\n",
    "    preds = net(params, data,rng=key)\n",
    "    return -np.sum(preds * targets)\n",
    "\n",
    "def predict(params,data,key):\n",
    "    preds=netTest(params,data,rng=key)\n",
    "    return np.exp(preds)\n",
    "\n",
    "def accuracy(p,targets):\n",
    "    target_class    = np.argmax(targets, axis=1)\n",
    "    predicted_class = np.argmax(p      , axis=1)\n",
    "    acc_total       = np.sum(predicted_class == target_class)\n",
    "    return acc_total/p.shape[0]\n"
   ]
  },
  {
   "cell_type": "code",
   "execution_count": 148,
   "id": "found-great",
   "metadata": {},
   "outputs": [],
   "source": [
    "@jit\n",
    "def update(params, x, y, opt_state,key):\n",
    "    \"\"\" Compute the gradient for a batch and update the parameters \"\"\"\n",
    "    value, grads = value_and_grad(loss)(params, x, y,key)\n",
    "    opt_state = opt_update(0, grads, opt_state)\n",
    "    return get_params(opt_state), opt_state, value"
   ]
  },
  {
   "cell_type": "code",
   "execution_count": 149,
   "id": "floating-purchase",
   "metadata": {},
   "outputs": [
    {
     "name": "stdout",
     "output_type": "stream",
     "text": [
      "(50, 2)\n"
     ]
    }
   ],
   "source": [
    "labels_onehot=one_hot(labels_np,num_classes)\n",
    "print(labels_onehot.shape)\n",
    "def run_training_loop(data_ss,labels_onehot,num_epochs, opt_state,verbose=False):\n",
    "    \"\"\" Implements a learning loop over epochs. \"\"\"\n",
    "    # Get the initial set of parameters\n",
    "    params = get_params(opt_state)\n",
    "\n",
    "    # Loop over the training epochs\n",
    "    for epoch in range(num_epochs):\n",
    "        start_time = time.time()\n",
    "        params, opt_state, loss = update(params, data_ss, labels_onehot, opt_state,key)\n",
    "        epoch_time = time.time() - start_time\n",
    "        if verbose: print(\"Epoch {} | T: {:0.2f} | loss: {:0.3f} \".format(epoch+1, epoch_time,\n",
    "                                                                    loss))\n",
    "    return loss,params"
   ]
  },
  {
   "cell_type": "code",
   "execution_count": 150,
   "id": "nutritional-compression",
   "metadata": {},
   "outputs": [
    {
     "name": "stdout",
     "output_type": "stream",
     "text": [
      "1.7649522\n"
     ]
    }
   ],
   "source": [
    "l,params=run_training_loop(data_ss,labels_onehot,2000,opt_state,False)\n",
    "print(l)"
   ]
  },
  {
   "cell_type": "code",
   "execution_count": 151,
   "id": "later-franchise",
   "metadata": {},
   "outputs": [],
   "source": [
    "def _numpy_delete(x, idx):\n",
    "    \"\"\"\n",
    "    Gets the subarray from `x` where data from index `idx` on the first axis is removed.\n",
    "    \"\"\"\n",
    "    # NB: numpy.delete is not yet available in JAX\n",
    "    mask = np.arange(x.shape[0] - 1) < idx\n",
    "    return np.where(mask.reshape((-1,) + (1,) * (x.ndim - 1)), x[:-1], x[1:])\n",
    "def allButOne(x,y,i):\n",
    "    global key\n",
    "    oneX=x[i:i+1] #this return a (1,N) shape vs x[i] gives (N,) shape\n",
    "    oneY=y[i:i+1]\n",
    "    allXBut=_numpy_delete(x,i)\n",
    "    allYBut=_numpy_delete(y,i)\n",
    "    rng,key=random.split(key)\n",
    "    idxs=allXBut.shape[0]\n",
    "    suffleIdx=random.permutation(rng,idxs)\n",
    "    allXBut=allXBut[suffleIdx]\n",
    "    allYBut=allYBut[suffleIdx]\n",
    "    return allXBut,allYBut,oneX,oneY"
   ]
  },
  {
   "cell_type": "code",
   "execution_count": 152,
   "id": "stunning-pharmaceutical",
   "metadata": {},
   "outputs": [
    {
     "name": "stdout",
     "output_type": "stream",
     "text": [
      "(49, 4)\n",
      "(49, 2)\n",
      "(1, 4)\n",
      "(1, 2)\n"
     ]
    },
    {
     "data": {
      "text/plain": [
       "DeviceArray([[0.000, 1.000]], dtype=float32)"
      ]
     },
     "execution_count": 152,
     "metadata": {},
     "output_type": "execute_result"
    }
   ],
   "source": [
    "allXBut,allYBut,oneX,oneY=allButOne(data_ss,labels_onehot,1)\n",
    "print(allXBut.shape)\n",
    "print(allYBut.shape)\n",
    "print(oneX.shape)\n",
    "print(oneY.shape)\n",
    "oneY"
   ]
  },
  {
   "cell_type": "code",
   "execution_count": 153,
   "id": "coupled-thompson",
   "metadata": {},
   "outputs": [
    {
     "name": "stdout",
     "output_type": "stream",
     "text": [
      "i= 0 [[0.765 0.235]] [[0.000 1.000]] acc=0.000 accMean=0.000 loss=2.967\n",
      "i= 1 [[0.215 0.785]] [[0.000 1.000]] acc=1.000 accMean=0.500 loss=5.830\n",
      "i= 2 [[0.000 1.000]] [[0.000 1.000]] acc=1.000 accMean=0.667 loss=2.371\n",
      "i= 3 [[0.286 0.714]] [[0.000 1.000]] acc=1.000 accMean=0.750 loss=4.574\n",
      "i= 4 [[0.084 0.916]] [[0.000 1.000]] acc=1.000 accMean=0.800 loss=1.732\n",
      "i= 5 [[0.000 1.000]] [[0.000 1.000]] acc=1.000 accMean=0.833 loss=1.344\n",
      "i= 6 [[0.997 0.003]] [[0.000 1.000]] acc=0.000 accMean=0.714 loss=1.615\n",
      "i= 7 [[0.000 1.000]] [[0.000 1.000]] acc=1.000 accMean=0.750 loss=2.633\n",
      "i= 8 [[0.029 0.971]] [[0.000 1.000]] acc=1.000 accMean=0.778 loss=2.524\n",
      "i= 9 [[0.982 0.018]] [[0.000 1.000]] acc=0.000 accMean=0.700 loss=2.805\n",
      "i= 10 [[0.224 0.776]] [[1.000 0.000]] acc=0.000 accMean=0.636 loss=2.635\n",
      "i= 11 [[0.002 0.998]] [[1.000 0.000]] acc=0.000 accMean=0.583 loss=1.092\n",
      "i= 12 [[0.292 0.708]] [[1.000 0.000]] acc=0.000 accMean=0.538 loss=2.122\n",
      "i= 13 [[0.021 0.979]] [[1.000 0.000]] acc=0.000 accMean=0.500 loss=2.836\n",
      "i= 14 [[1.000 0.000]] [[1.000 0.000]] acc=1.000 accMean=0.533 loss=2.097\n",
      "i= 15 [[1.000 0.000]] [[1.000 0.000]] acc=1.000 accMean=0.562 loss=2.175\n",
      "i= 16 [[0.024 0.976]] [[1.000 0.000]] acc=0.000 accMean=0.529 loss=1.553\n",
      "i= 17 [[0.001 0.999]] [[1.000 0.000]] acc=0.000 accMean=0.500 loss=5.233\n",
      "i= 18 [[1.000 0.000]] [[1.000 0.000]] acc=1.000 accMean=0.526 loss=2.234\n",
      "i= 19 [[0.002 0.998]] [[1.000 0.000]] acc=0.000 accMean=0.500 loss=3.006\n",
      "i= 20 [[0.075 0.925]] [[0.000 1.000]] acc=1.000 accMean=0.524 loss=1.634\n",
      "i= 21 [[0.000 1.000]] [[0.000 1.000]] acc=1.000 accMean=0.545 loss=5.401\n",
      "i= 22 [[0.517 0.483]] [[0.000 1.000]] acc=0.000 accMean=0.522 loss=2.903\n",
      "i= 23 [[0.829 0.171]] [[0.000 1.000]] acc=0.000 accMean=0.500 loss=1.459\n",
      "i= 24 [[0.037 0.963]] [[0.000 1.000]] acc=1.000 accMean=0.520 loss=5.416\n",
      "i= 25 [[0.001 0.999]] [[0.000 1.000]] acc=1.000 accMean=0.538 loss=1.719\n",
      "i= 26 [[0.010 0.990]] [[0.000 1.000]] acc=1.000 accMean=0.556 loss=1.551\n",
      "i= 27 [[1.000 0.000]] [[0.000 1.000]] acc=0.000 accMean=0.536 loss=2.178\n",
      "i= 28 [[0.002 0.998]] [[0.000 1.000]] acc=1.000 accMean=0.552 loss=3.051\n",
      "i= 29 [[1.000 0.000]] [[0.000 1.000]] acc=0.000 accMean=0.533 loss=3.763\n",
      "i= 30 [[0.930 0.070]] [[0.000 1.000]] acc=0.000 accMean=0.516 loss=3.139\n",
      "i= 31 [[0.913 0.087]] [[0.000 1.000]] acc=0.000 accMean=0.500 loss=5.267\n",
      "i= 32 [[0.981 0.019]] [[0.000 1.000]] acc=0.000 accMean=0.485 loss=4.895\n",
      "i= 33 [[1.000 0.000]] [[0.000 1.000]] acc=0.000 accMean=0.471 loss=5.416\n",
      "i= 34 [[0.954 0.046]] [[0.000 1.000]] acc=0.000 accMean=0.457 loss=2.316\n",
      "i= 35 [[0.200 0.800]] [[1.000 0.000]] acc=0.000 accMean=0.444 loss=2.337\n",
      "i= 36 [[0.916 0.084]] [[1.000 0.000]] acc=1.000 accMean=0.459 loss=1.778\n",
      "i= 37 [[0.596 0.404]] [[1.000 0.000]] acc=1.000 accMean=0.474 loss=2.153\n",
      "i= 38 [[0.997 0.003]] [[1.000 0.000]] acc=1.000 accMean=0.487 loss=1.809\n",
      "i= 39 [[0.000 1.000]] [[1.000 0.000]] acc=0.000 accMean=0.475 loss=3.643\n",
      "i= 40 [[0.000 1.000]] [[1.000 0.000]] acc=0.000 accMean=0.463 loss=2.020\n",
      "i= 41 [[0.000 1.000]] [[1.000 0.000]] acc=0.000 accMean=0.452 loss=4.585\n",
      "i= 42 [[0.995 0.005]] [[1.000 0.000]] acc=1.000 accMean=0.465 loss=3.171\n",
      "i= 43 [[0.858 0.142]] [[1.000 0.000]] acc=1.000 accMean=0.477 loss=9.918\n",
      "i= 44 [[0.000 1.000]] [[1.000 0.000]] acc=0.000 accMean=0.467 loss=2.372\n",
      "i= 45 [[0.505 0.495]] [[1.000 0.000]] acc=1.000 accMean=0.478 loss=3.903\n",
      "i= 46 [[0.006 0.994]] [[1.000 0.000]] acc=0.000 accMean=0.468 loss=4.661\n",
      "i= 47 [[0.056 0.944]] [[1.000 0.000]] acc=0.000 accMean=0.458 loss=4.277\n",
      "i= 48 [[0.003 0.997]] [[1.000 0.000]] acc=0.000 accMean=0.449 loss=2.887\n",
      "i= 49 [[0.999 0.001]] [[1.000 0.000]] acc=1.000 accMean=0.460 loss=2.031\n",
      "accMean=0.460\n"
     ]
    }
   ],
   "source": [
    "def runLeaveOneOut(data,labels_onehot,epochs=2000,verbose=True):\n",
    "    accT=0\n",
    "    for i in range(data_ss.shape[0]):\n",
    "        allXBut,allYBut,oneX,oneY=allButOne(data,labels_onehot,i)\n",
    "        loss,params=run_training_loop(allXBut,allYBut,epochs,opt_state)\n",
    "        p=predict(params,oneX,key)\n",
    "        acc=accuracy(p,oneY)\n",
    "        accT+=acc\n",
    "        if verbose:\n",
    "            print(\"i=\",i,p,oneY,\"acc={0:0.3f} accMean={1:0.3f} loss={2:0.3f}\".format(acc,accT/(i+1),loss))\n",
    "    return accT/(data_ss.shape[0])\n",
    "accMean=runLeaveOneOut(data_ss,labels_onehot)\n",
    "print(\"accMean={0:0.3f}\".format(accMean))"
   ]
  },
  {
   "cell_type": "code",
   "execution_count": 157,
   "id": "stunning-obligation",
   "metadata": {},
   "outputs": [
    {
     "name": "stdout",
     "output_type": "stream",
     "text": [
      "(50, 4)\n",
      "ouput_shape= (-1, 2)\n",
      "i=4 accMean=0.480\n",
      "(50, 5)\n",
      "ouput_shape= (-1, 2)\n",
      "i=5 accMean=0.420\n",
      "(50, 6)\n",
      "ouput_shape= (-1, 2)\n",
      "i=6 accMean=0.320\n",
      "(50, 7)\n",
      "ouput_shape= (-1, 2)\n",
      "i=7 accMean=0.380\n",
      "(50, 8)\n",
      "ouput_shape= (-1, 2)\n",
      "i=8 accMean=0.460\n",
      "(50, 9)\n",
      "ouput_shape= (-1, 2)\n",
      "i=9 accMean=0.320\n",
      "(50, 10)\n",
      "ouput_shape= (-1, 2)\n",
      "i=10 accMean=0.420\n",
      "(50, 11)\n",
      "ouput_shape= (-1, 2)\n",
      "i=11 accMean=0.460\n",
      "(50, 12)\n",
      "ouput_shape= (-1, 2)\n",
      "i=12 accMean=0.480\n",
      "(50, 13)\n",
      "ouput_shape= (-1, 2)\n",
      "i=13 accMean=0.360\n",
      "(50, 14)\n",
      "ouput_shape= (-1, 2)\n",
      "i=14 accMean=0.360\n",
      "(50, 15)\n",
      "ouput_shape= (-1, 2)\n",
      "i=15 accMean=0.400\n",
      "(50, 16)\n",
      "ouput_shape= (-1, 2)\n",
      "i=16 accMean=0.260\n",
      "(50, 17)\n",
      "ouput_shape= (-1, 2)\n",
      "i=17 accMean=0.400\n",
      "(50, 18)\n",
      "ouput_shape= (-1, 2)\n",
      "i=18 accMean=0.520\n",
      "(50, 19)\n",
      "ouput_shape= (-1, 2)\n",
      "i=19 accMean=0.420\n",
      "(50, 20)\n",
      "ouput_shape= (-1, 2)\n",
      "i=20 accMean=0.560\n",
      "(50, 21)\n",
      "ouput_shape= (-1, 2)\n",
      "i=21 accMean=0.400\n",
      "(50, 22)\n",
      "ouput_shape= (-1, 2)\n",
      "i=22 accMean=0.460\n",
      "(50, 23)\n",
      "ouput_shape= (-1, 2)\n",
      "i=23 accMean=0.420\n",
      "(50, 24)\n",
      "ouput_shape= (-1, 2)\n",
      "i=24 accMean=0.400\n",
      "(50, 25)\n",
      "ouput_shape= (-1, 2)\n",
      "i=25 accMean=0.500\n",
      "(50, 26)\n",
      "ouput_shape= (-1, 2)\n",
      "i=26 accMean=0.500\n",
      "(50, 27)\n",
      "ouput_shape= (-1, 2)\n",
      "i=27 accMean=0.320\n",
      "(50, 28)\n",
      "ouput_shape= (-1, 2)\n",
      "i=28 accMean=0.460\n",
      "(50, 29)\n",
      "ouput_shape= (-1, 2)\n",
      "i=29 accMean=0.520\n",
      "(50, 30)\n",
      "ouput_shape= (-1, 2)\n",
      "i=30 accMean=0.520\n",
      "(50, 31)\n",
      "ouput_shape= (-1, 2)\n",
      "i=31 accMean=0.500\n",
      "(50, 32)\n",
      "ouput_shape= (-1, 2)\n",
      "i=32 accMean=0.400\n",
      "(50, 33)\n",
      "ouput_shape= (-1, 2)\n",
      "i=33 accMean=0.520\n",
      "(50, 34)\n",
      "ouput_shape= (-1, 2)\n",
      "i=34 accMean=0.420\n",
      "(50, 35)\n",
      "ouput_shape= (-1, 2)\n",
      "i=35 accMean=0.520\n",
      "(50, 36)\n",
      "ouput_shape= (-1, 2)\n",
      "i=36 accMean=0.540\n",
      "(50, 37)\n",
      "ouput_shape= (-1, 2)\n",
      "i=37 accMean=0.540\n",
      "(50, 38)\n",
      "ouput_shape= (-1, 2)\n",
      "i=38 accMean=0.500\n",
      "(50, 39)\n",
      "ouput_shape= (-1, 2)\n",
      "i=39 accMean=0.640\n",
      "(50, 40)\n",
      "ouput_shape= (-1, 2)\n",
      "i=40 accMean=0.340\n",
      "(50, 41)\n",
      "ouput_shape= (-1, 2)\n",
      "i=41 accMean=0.400\n",
      "(50, 42)\n",
      "ouput_shape= (-1, 2)\n",
      "i=42 accMean=0.500\n",
      "(50, 43)\n",
      "ouput_shape= (-1, 2)\n",
      "i=43 accMean=0.500\n",
      "(50, 44)\n",
      "ouput_shape= (-1, 2)\n",
      "i=44 accMean=0.580\n",
      "(50, 45)\n",
      "ouput_shape= (-1, 2)\n",
      "i=45 accMean=0.580\n",
      "(50, 46)\n",
      "ouput_shape= (-1, 2)\n",
      "i=46 accMean=0.420\n",
      "(50, 47)\n",
      "ouput_shape= (-1, 2)\n",
      "i=47 accMean=0.480\n",
      "(50, 48)\n",
      "ouput_shape= (-1, 2)\n",
      "i=48 accMean=0.580\n",
      "(50, 49)\n",
      "ouput_shape= (-1, 2)\n",
      "i=49 accMean=0.520\n",
      "(50, 50)\n",
      "ouput_shape= (-1, 2)\n",
      "i=50 accMean=0.440\n"
     ]
    },
    {
     "ename": "ValueError",
     "evalue": "n_components=51 must be between 0 and min(n_samples, n_features)=50 with svd_solver='full'",
     "output_type": "error",
     "traceback": [
      "\u001b[0;31m---------------------------------------------------------------------------\u001b[0m",
      "\u001b[0;31mValueError\u001b[0m                                Traceback (most recent call last)",
      "\u001b[0;32m<ipython-input-157-6f31ab1450ab>\u001b[0m in \u001b[0;36m<module>\u001b[0;34m\u001b[0m\n\u001b[1;32m      1\u001b[0m \u001b[0;32mfor\u001b[0m \u001b[0mi\u001b[0m \u001b[0;32min\u001b[0m \u001b[0mrange\u001b[0m\u001b[0;34m(\u001b[0m\u001b[0;36m4\u001b[0m\u001b[0;34m,\u001b[0m\u001b[0mdata_np\u001b[0m\u001b[0;34m.\u001b[0m\u001b[0mshape\u001b[0m\u001b[0;34m[\u001b[0m\u001b[0;36m1\u001b[0m\u001b[0;34m]\u001b[0m\u001b[0;34m)\u001b[0m\u001b[0;34m:\u001b[0m\u001b[0;34m\u001b[0m\u001b[0;34m\u001b[0m\u001b[0m\n\u001b[1;32m      2\u001b[0m     \u001b[0mpca\u001b[0m\u001b[0;34m=\u001b[0m\u001b[0mPCA\u001b[0m\u001b[0;34m(\u001b[0m\u001b[0mi\u001b[0m\u001b[0;34m,\u001b[0m\u001b[0mwhiten\u001b[0m\u001b[0;34m=\u001b[0m\u001b[0;32mTrue\u001b[0m\u001b[0;34m)\u001b[0m\u001b[0;34m\u001b[0m\u001b[0;34m\u001b[0m\u001b[0m\n\u001b[0;32m----> 3\u001b[0;31m     \u001b[0mdata_ss\u001b[0m\u001b[0;34m=\u001b[0m\u001b[0mpca\u001b[0m\u001b[0;34m.\u001b[0m\u001b[0mfit_transform\u001b[0m\u001b[0;34m(\u001b[0m\u001b[0mdata_np\u001b[0m\u001b[0;34m)\u001b[0m\u001b[0;34m\u001b[0m\u001b[0;34m\u001b[0m\u001b[0m\n\u001b[0m\u001b[1;32m      4\u001b[0m     \u001b[0mprint\u001b[0m\u001b[0;34m(\u001b[0m\u001b[0mdata_ss\u001b[0m\u001b[0;34m.\u001b[0m\u001b[0mshape\u001b[0m\u001b[0;34m)\u001b[0m\u001b[0;34m\u001b[0m\u001b[0;34m\u001b[0m\u001b[0m\n\u001b[1;32m      5\u001b[0m     \u001b[0mnet\u001b[0m\u001b[0;34m,\u001b[0m\u001b[0mnetTest\u001b[0m\u001b[0;34m,\u001b[0m\u001b[0mopt_state\u001b[0m\u001b[0;34m=\u001b[0m\u001b[0minitNets\u001b[0m\u001b[0;34m(\u001b[0m\u001b[0mdata_ss\u001b[0m\u001b[0;34m)\u001b[0m\u001b[0;34m\u001b[0m\u001b[0;34m\u001b[0m\u001b[0m\n",
      "\u001b[0;32m~/anaconda3/envs/dml3.8/lib/python3.8/site-packages/sklearn/decomposition/_pca.py\u001b[0m in \u001b[0;36mfit_transform\u001b[0;34m(self, X, y)\u001b[0m\n\u001b[1;32m    374\u001b[0m         \u001b[0mC\u001b[0m\u001b[0;34m-\u001b[0m\u001b[0mordered\u001b[0m \u001b[0marray\u001b[0m\u001b[0;34m,\u001b[0m \u001b[0muse\u001b[0m \u001b[0;34m'np.ascontiguousarray'\u001b[0m\u001b[0;34m.\u001b[0m\u001b[0;34m\u001b[0m\u001b[0;34m\u001b[0m\u001b[0m\n\u001b[1;32m    375\u001b[0m         \"\"\"\n\u001b[0;32m--> 376\u001b[0;31m         \u001b[0mU\u001b[0m\u001b[0;34m,\u001b[0m \u001b[0mS\u001b[0m\u001b[0;34m,\u001b[0m \u001b[0mV\u001b[0m \u001b[0;34m=\u001b[0m \u001b[0mself\u001b[0m\u001b[0;34m.\u001b[0m\u001b[0m_fit\u001b[0m\u001b[0;34m(\u001b[0m\u001b[0mX\u001b[0m\u001b[0;34m)\u001b[0m\u001b[0;34m\u001b[0m\u001b[0;34m\u001b[0m\u001b[0m\n\u001b[0m\u001b[1;32m    377\u001b[0m         \u001b[0mU\u001b[0m \u001b[0;34m=\u001b[0m \u001b[0mU\u001b[0m\u001b[0;34m[\u001b[0m\u001b[0;34m:\u001b[0m\u001b[0;34m,\u001b[0m \u001b[0;34m:\u001b[0m\u001b[0mself\u001b[0m\u001b[0;34m.\u001b[0m\u001b[0mn_components_\u001b[0m\u001b[0;34m]\u001b[0m\u001b[0;34m\u001b[0m\u001b[0;34m\u001b[0m\u001b[0m\n\u001b[1;32m    378\u001b[0m \u001b[0;34m\u001b[0m\u001b[0m\n",
      "\u001b[0;32m~/anaconda3/envs/dml3.8/lib/python3.8/site-packages/sklearn/decomposition/_pca.py\u001b[0m in \u001b[0;36m_fit\u001b[0;34m(self, X)\u001b[0m\n\u001b[1;32m    421\u001b[0m         \u001b[0;31m# Call different fits for either full or truncated SVD\u001b[0m\u001b[0;34m\u001b[0m\u001b[0;34m\u001b[0m\u001b[0;34m\u001b[0m\u001b[0m\n\u001b[1;32m    422\u001b[0m         \u001b[0;32mif\u001b[0m \u001b[0mself\u001b[0m\u001b[0;34m.\u001b[0m\u001b[0m_fit_svd_solver\u001b[0m \u001b[0;34m==\u001b[0m \u001b[0;34m'full'\u001b[0m\u001b[0;34m:\u001b[0m\u001b[0;34m\u001b[0m\u001b[0;34m\u001b[0m\u001b[0m\n\u001b[0;32m--> 423\u001b[0;31m             \u001b[0;32mreturn\u001b[0m \u001b[0mself\u001b[0m\u001b[0;34m.\u001b[0m\u001b[0m_fit_full\u001b[0m\u001b[0;34m(\u001b[0m\u001b[0mX\u001b[0m\u001b[0;34m,\u001b[0m \u001b[0mn_components\u001b[0m\u001b[0;34m)\u001b[0m\u001b[0;34m\u001b[0m\u001b[0;34m\u001b[0m\u001b[0m\n\u001b[0m\u001b[1;32m    424\u001b[0m         \u001b[0;32melif\u001b[0m \u001b[0mself\u001b[0m\u001b[0;34m.\u001b[0m\u001b[0m_fit_svd_solver\u001b[0m \u001b[0;32min\u001b[0m \u001b[0;34m[\u001b[0m\u001b[0;34m'arpack'\u001b[0m\u001b[0;34m,\u001b[0m \u001b[0;34m'randomized'\u001b[0m\u001b[0;34m]\u001b[0m\u001b[0;34m:\u001b[0m\u001b[0;34m\u001b[0m\u001b[0;34m\u001b[0m\u001b[0m\n\u001b[1;32m    425\u001b[0m             \u001b[0;32mreturn\u001b[0m \u001b[0mself\u001b[0m\u001b[0;34m.\u001b[0m\u001b[0m_fit_truncated\u001b[0m\u001b[0;34m(\u001b[0m\u001b[0mX\u001b[0m\u001b[0;34m,\u001b[0m \u001b[0mn_components\u001b[0m\u001b[0;34m,\u001b[0m \u001b[0mself\u001b[0m\u001b[0;34m.\u001b[0m\u001b[0m_fit_svd_solver\u001b[0m\u001b[0;34m)\u001b[0m\u001b[0;34m\u001b[0m\u001b[0;34m\u001b[0m\u001b[0m\n",
      "\u001b[0;32m~/anaconda3/envs/dml3.8/lib/python3.8/site-packages/sklearn/decomposition/_pca.py\u001b[0m in \u001b[0;36m_fit_full\u001b[0;34m(self, X, n_components)\u001b[0m\n\u001b[1;32m    437\u001b[0m                                  \"if n_samples >= n_features\")\n\u001b[1;32m    438\u001b[0m         \u001b[0;32melif\u001b[0m \u001b[0;32mnot\u001b[0m \u001b[0;36m0\u001b[0m \u001b[0;34m<=\u001b[0m \u001b[0mn_components\u001b[0m \u001b[0;34m<=\u001b[0m \u001b[0mmin\u001b[0m\u001b[0;34m(\u001b[0m\u001b[0mn_samples\u001b[0m\u001b[0;34m,\u001b[0m \u001b[0mn_features\u001b[0m\u001b[0;34m)\u001b[0m\u001b[0;34m:\u001b[0m\u001b[0;34m\u001b[0m\u001b[0;34m\u001b[0m\u001b[0m\n\u001b[0;32m--> 439\u001b[0;31m             raise ValueError(\"n_components=%r must be between 0 and \"\n\u001b[0m\u001b[1;32m    440\u001b[0m                              \u001b[0;34m\"min(n_samples, n_features)=%r with \"\u001b[0m\u001b[0;34m\u001b[0m\u001b[0;34m\u001b[0m\u001b[0m\n\u001b[1;32m    441\u001b[0m                              \u001b[0;34m\"svd_solver='full'\"\u001b[0m\u001b[0;34m\u001b[0m\u001b[0;34m\u001b[0m\u001b[0m\n",
      "\u001b[0;31mValueError\u001b[0m: n_components=51 must be between 0 and min(n_samples, n_features)=50 with svd_solver='full'"
     ]
    }
   ],
   "source": [
    "for i in range(4,data_np.shape[0]):\n",
    "    pca=PCA(i,whiten=True)\n",
    "    data_ss=pca.fit_transform(data_np)\n",
    "    print(pca.explained_variance_ratio_)\n",
    "    print(data_ss.shape)\n",
    "    net,netTest,opt_state=initNets(data_ss)\n",
    "    accMean=runLeaveOneOut(data_ss,labels_onehot,epochs=10000,verbose=False)\n",
    "    print(\"i={0:} accMean={1:0.3f}\".format(i,accMean))"
   ]
  },
  {
   "cell_type": "code",
   "execution_count": null,
   "id": "intermediate-wallet",
   "metadata": {},
   "outputs": [],
   "source": []
  },
  {
   "cell_type": "code",
   "execution_count": null,
   "id": "seeing-scientist",
   "metadata": {},
   "outputs": [],
   "source": []
  }
 ],
 "metadata": {
  "kernelspec": {
   "display_name": "Python 3",
   "language": "python",
   "name": "python3"
  },
  "language_info": {
   "codemirror_mode": {
    "name": "ipython",
    "version": 3
   },
   "file_extension": ".py",
   "mimetype": "text/x-python",
   "name": "python",
   "nbconvert_exporter": "python",
   "pygments_lexer": "ipython3",
   "version": "3.8.8"
  }
 },
 "nbformat": 4,
 "nbformat_minor": 5
}
