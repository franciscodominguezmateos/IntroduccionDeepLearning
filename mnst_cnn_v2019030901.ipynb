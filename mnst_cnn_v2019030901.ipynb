{
 "cells": [
  {
   "cell_type": "code",
   "execution_count": 45,
   "metadata": {
    "collapsed": false
   },
   "outputs": [
    {
     "name": "stdout",
     "output_type": "stream",
     "text": [
      "Tensorflow version= 1.0.0\n",
      "Kera version= 1.2.2\n"
     ]
    }
   ],
   "source": [
    "'''Trains a simple convnet on the MNIST dataset.\n",
    "Gets to 99.25% test accuracy after 12 epochs\n",
    "(there is still a lot of margin for parameter tuning).\n",
    "16 seconds per epoch on a GRID K520 GPU.\n",
    "'''\n",
    "import keras\n",
    "import tensorflow as tf\n",
    "from keras.datasets import mnist\n",
    "from keras.models import Sequential\n",
    "from keras.layers import Dense, Dropout,Flatten\n",
    "from keras.layers import Conv2D, MaxPooling2D\n",
    "from keras.optimizers import RMSprop\n",
    "from keras.utils.np_utils import to_categorical\n",
    "\n",
    "print(\"Tensorflow version=\",tf.__version__)\n",
    "print(\"Kera version=\",keras.__version__)\n",
    "#print(dir(keras.utils.np_utils))"
   ]
  },
  {
   "cell_type": "code",
   "execution_count": 46,
   "metadata": {
    "collapsed": false
   },
   "outputs": [
    {
     "name": "stdout",
     "output_type": "stream",
     "text": [
      "(60000, 28, 28)\n"
     ]
    }
   ],
   "source": [
    "batch_size = 128\n",
    "num_classes = 10\n",
    "epochs = 20\n",
    "\n",
    "# the data, split between train and test sets\n",
    "(x_train, y_train), (x_test, y_test) = mnist.load_data()\n",
    "\n",
    "print(x_train.shape)\n",
    "\n",
    "# input image dimensions\n",
    "\n",
    "img_rows, img_cols = x_train.shape[1], x_train.shape[2]\n",
    "input_shape = (img_rows, img_cols,1)"
   ]
  },
  {
   "cell_type": "code",
   "execution_count": 47,
   "metadata": {
    "collapsed": false
   },
   "outputs": [
    {
     "name": "stdout",
     "output_type": "stream",
     "text": [
      "60000 train samples\n",
      "10000 test samples\n"
     ]
    }
   ],
   "source": [
    "#Preprocess data\n",
    "#With images and Conv2D we do not need to flatten\n",
    "x_train = x_train.reshape(60000, img_rows, img_cols,1)\n",
    "x_test  = x_test.reshape (10000, img_rows, img_cols,1)\n",
    "\n",
    "x_train = x_train.astype('float32')\n",
    "x_test = x_test.astype('float32')\n",
    "x_train /= 255\n",
    "x_test /= 255\n",
    "\n",
    "print(x_train.shape[0], 'train samples')\n",
    "\n",
    "print(x_test.shape[0], 'test samples')"
   ]
  },
  {
   "cell_type": "code",
   "execution_count": 48,
   "metadata": {
    "collapsed": false
   },
   "outputs": [],
   "source": [
    "# convert class vectors to binary class matrices\n",
    "\n",
    "y_train = to_categorical(y_train, num_classes)\n",
    "\n",
    "y_test = to_categorical(y_test, num_classes)"
   ]
  },
  {
   "cell_type": "code",
   "execution_count": 49,
   "metadata": {
    "collapsed": false
   },
   "outputs": [
    {
     "name": "stdout",
     "output_type": "stream",
     "text": [
      "____________________________________________________________________________________________________\n",
      "Layer (type)                     Output Shape          Param #     Connected to                     \n",
      "====================================================================================================\n",
      "convolution2d_16 (Convolution2D) (None, 26, 26, 32)    320         convolution2d_input_10[0][0]     \n",
      "____________________________________________________________________________________________________\n",
      "maxpooling2d_11 (MaxPooling2D)   (None, 13, 13, 32)    0           convolution2d_16[0][0]           \n",
      "____________________________________________________________________________________________________\n",
      "dropout_15 (Dropout)             (None, 13, 13, 32)    0           maxpooling2d_11[0][0]            \n",
      "____________________________________________________________________________________________________\n",
      "convolution2d_17 (Convolution2D) (None, 11, 11, 64)    18496       dropout_15[0][0]                 \n",
      "____________________________________________________________________________________________________\n",
      "maxpooling2d_12 (MaxPooling2D)   (None, 5, 5, 64)      0           convolution2d_17[0][0]           \n",
      "____________________________________________________________________________________________________\n",
      "dropout_16 (Dropout)             (None, 5, 5, 64)      0           maxpooling2d_12[0][0]            \n",
      "____________________________________________________________________________________________________\n",
      "flatten_7 (Flatten)              (None, 1600)          0           dropout_16[0][0]                 \n",
      "____________________________________________________________________________________________________\n",
      "dense_9 (Dense)                  (None, 128)           204928      flatten_7[0][0]                  \n",
      "____________________________________________________________________________________________________\n",
      "dropout_17 (Dropout)             (None, 128)           0           dense_9[0][0]                    \n",
      "____________________________________________________________________________________________________\n",
      "dense_10 (Dense)                 (None, 10)            1290        dropout_17[0][0]                 \n",
      "====================================================================================================\n",
      "Total params: 225,034\n",
      "Trainable params: 225,034\n",
      "Non-trainable params: 0\n",
      "____________________________________________________________________________________________________\n"
     ]
    }
   ],
   "source": [
    "model = Sequential()\n",
    "\n",
    "\n",
    "model.add(Conv2D(32, 3,3,activation='relu',input_shape=input_shape))\n",
    "model.add(MaxPooling2D(pool_size=(2, 2)))\n",
    "model.add(Dropout(0.5))\n",
    "\n",
    "model.add(Conv2D(64, 3, 3, activation='relu'))\n",
    "model.add(MaxPooling2D(pool_size=(2, 2)))\n",
    "model.add(Dropout(0.5))\n",
    "\n",
    "model.add(Flatten())\n",
    "\n",
    "model.add(Dense(128, activation='relu'))\n",
    "\n",
    "model.add(Dropout(0.5))\n",
    "\n",
    "model.add(Dense(num_classes, activation='softmax'))\n",
    "\n",
    "\n",
    "model.summary()"
   ]
  },
  {
   "cell_type": "code",
   "execution_count": 50,
   "metadata": {
    "collapsed": true
   },
   "outputs": [],
   "source": [
    "model.compile(loss='categorical_crossentropy',\n",
    "\n",
    "              optimizer=RMSprop(),\n",
    "\n",
    "              metrics=['accuracy'])"
   ]
  },
  {
   "cell_type": "code",
   "execution_count": 51,
   "metadata": {
    "collapsed": false,
    "scrolled": true
   },
   "outputs": [
    {
     "name": "stdout",
     "output_type": "stream",
     "text": [
      "Epoch 1/20\n",
      "60000/60000 [==============================] - 7s - loss: 0.4285 - acc: 0.8632     \n",
      "Epoch 2/20\n",
      "60000/60000 [==============================] - 7s - loss: 0.1582 - acc: 0.9523     \n",
      "Epoch 3/20\n",
      "60000/60000 [==============================] - 7s - loss: 0.1227 - acc: 0.9631     \n",
      "Epoch 4/20\n",
      "60000/60000 [==============================] - 7s - loss: 0.1051 - acc: 0.9690     \n",
      "Epoch 5/20\n",
      "60000/60000 [==============================] - 7s - loss: 0.0951 - acc: 0.9720     \n",
      "Epoch 6/20\n",
      "60000/60000 [==============================] - 7s - loss: 0.0911 - acc: 0.9728     \n",
      "Epoch 7/20\n",
      "60000/60000 [==============================] - 7s - loss: 0.0866 - acc: 0.9747     \n",
      "Epoch 8/20\n",
      "60000/60000 [==============================] - 7s - loss: 0.0813 - acc: 0.9754     \n",
      "Epoch 9/20\n",
      "60000/60000 [==============================] - 7s - loss: 0.0814 - acc: 0.9758     \n",
      "Epoch 10/20\n",
      "60000/60000 [==============================] - 7s - loss: 0.0781 - acc: 0.9769     \n",
      "Epoch 11/20\n",
      "60000/60000 [==============================] - 7s - loss: 0.0763 - acc: 0.9779     \n",
      "Epoch 12/20\n",
      "60000/60000 [==============================] - 7s - loss: 0.0765 - acc: 0.9782     \n",
      "Epoch 13/20\n",
      "60000/60000 [==============================] - 7s - loss: 0.0767 - acc: 0.9780     \n",
      "Epoch 14/20\n",
      "60000/60000 [==============================] - 7s - loss: 0.0794 - acc: 0.9772     \n",
      "Epoch 15/20\n",
      "60000/60000 [==============================] - 7s - loss: 0.0768 - acc: 0.9776     \n",
      "Epoch 16/20\n",
      "60000/60000 [==============================] - 7s - loss: 0.0722 - acc: 0.9794     \n",
      "Epoch 17/20\n",
      "60000/60000 [==============================] - 7s - loss: 0.0763 - acc: 0.9781     \n",
      "Epoch 18/20\n",
      "60000/60000 [==============================] - 7s - loss: 0.0737 - acc: 0.9786     \n",
      "Epoch 19/20\n",
      "60000/60000 [==============================] - 7s - loss: 0.0786 - acc: 0.9779     \n",
      "Epoch 20/20\n",
      "60000/60000 [==============================] - 7s - loss: 0.0771 - acc: 0.9783     \n"
     ]
    }
   ],
   "source": [
    "history = model.fit(x_train, y_train,\n",
    "\n",
    "                    batch_size=batch_size,\n",
    "\n",
    "                    nb_epoch=epochs,\n",
    "\n",
    "                    verbose=1)"
   ]
  },
  {
   "cell_type": "code",
   "execution_count": 52,
   "metadata": {
    "collapsed": false
   },
   "outputs": [
    {
     "name": "stdout",
     "output_type": "stream",
     "text": [
      "Test loss: 0.0519226404607\n",
      "Test accuracy: 0.9914\n"
     ]
    }
   ],
   "source": [
    "score = model.evaluate(x_test, y_test, verbose=0)\n",
    "\n",
    "print('Test loss:', score[0])\n",
    "\n",
    "print('Test accuracy:', score[1])"
   ]
  },
  {
   "cell_type": "code",
   "execution_count": null,
   "metadata": {
    "collapsed": true
   },
   "outputs": [],
   "source": []
  }
 ],
 "metadata": {
  "anaconda-cloud": {},
  "kernelspec": {
   "display_name": "Python [conda env:dl]",
   "language": "python",
   "name": "conda-env-dl-py"
  },
  "language_info": {
   "codemirror_mode": {
    "name": "ipython",
    "version": 3
   },
   "file_extension": ".py",
   "mimetype": "text/x-python",
   "name": "python",
   "nbconvert_exporter": "python",
   "pygments_lexer": "ipython3",
   "version": "3.5.2"
  }
 },
 "nbformat": 4,
 "nbformat_minor": 1
}
