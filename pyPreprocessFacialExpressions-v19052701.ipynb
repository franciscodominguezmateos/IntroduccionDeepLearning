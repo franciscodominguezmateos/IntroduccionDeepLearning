{
 "cells": [
  {
   "cell_type": "code",
   "execution_count": 1,
   "metadata": {
    "collapsed": true,
    "deletable": true,
    "editable": true,
    "jupyter": {
     "outputs_hidden": true
    }
   },
   "outputs": [],
   "source": [
    "import glob\n",
    "import os"
   ]
  },
  {
   "cell_type": "code",
   "execution_count": 2,
   "metadata": {
    "collapsed": true,
    "deletable": true,
    "editable": true,
    "jupyter": {
     "outputs_hidden": true
    }
   },
   "outputs": [],
   "source": [
    "path_base=\"/media/francisco/FREEDOS/datasets/pictures/facial_expressions\"\n"
   ]
  },
  {
   "cell_type": "code",
   "execution_count": 34,
   "metadata": {
    "collapsed": false,
    "deletable": true,
    "editable": true,
    "jupyter": {
     "outputs_hidden": false
    }
   },
   "outputs": [
    {
     "name": "stdout",
     "output_type": "stream",
     "text": [
      "Processing file: /media/francisco/FREEDOS/datasets/pictures/facial_expressions/data/legend.csv\n",
      "['anger', 'contempt', 'disgust', 'fear', 'happiness', 'neutral', 'sadness', 'surprise']\n",
      "{'disgust': 2, 'fear': 3, 'neutral': 5, 'happiness': 4, 'contempt': 1, 'anger': 0, 'sadness': 6, 'surprise': 7}\n",
      "243 1 Andre_Agassi 4\n",
      "377 2 Arnold_Schwarzenegger 4\n",
      "409 3 Atal_Bihari_Vajpayee 4\n",
      "421 4 Avinash 5\n",
      "529 5 Bill_Graham 4\n",
      "824 6 Celine_Dion 4\n",
      "1024 7 Colin_Powell 4\n",
      "1327 8 Dileep 5\n",
      "1413 9 Dwarakish 6\n",
      "1632 10 FaridaJalal 5\n",
      "1657 11 Fernando_Gonzalez 4\n",
      "1822 12 George_Robertson 4\n",
      "1827 13 George_W_Bush 5\n",
      "1848 14 Gerhard_Schroeder 5\n",
      "1947 15 Guillermo_Coria 4\n",
      "2112 16 HrithikRoshan 5\n",
      "2126 17 Hugo_Chavez 5\n",
      "2226 18 Jack_Straw 4\n",
      "2255 19 James_Blake 4\n",
      "2394 20 Jayamadhuri 5\n",
      "2416 21 Jean_Chretien 4\n",
      "2453 22 Jennifer_Aniston 5\n",
      "2454 23 Jennifer_Capriati 4\n",
      "2477 24 Jeremy_Greenstock 4\n",
      "2568 25 Jiri_Novak 4\n",
      "2625 26 John_Ashcroft 4\n",
      "2944 27 KatrinaKaif 4\n",
      "3028 28 Kim_Clijsters 4\n",
      "3259 29 Lindsay_Davenport 5\n",
      "3282 30 Lleyton_Hewitt 6\n",
      "3359 31 Mahathir_Mohamad 4\n",
      "3492 32 Mark_Philippoussis 4\n",
      "3664 33 Michael_Chang 5\n",
      "3778 34 Mike_Krzyzewski 4\n",
      "3879 35 Monica_Seles 4\n",
      "4097 36 Paradorn_Srichaphan 4\n",
      "4528 37 Rick_Carlisle 4\n",
      "4570 38 Robert_Blake 4\n",
      "4865 39 Sergio_Vieira_De_Mello 4\n",
      "5035 40 Steve_Nash 4\n",
      "5241 41 Tim_Henman 4\n",
      "5303 42 Tom_Ridge 4\n",
      "5317 43 Tommy_Haas 4\n",
      "5561 44 Yevgeny_Kafelnikov 4\n",
      "5614 45 facial-expressions 4\n"
     ]
    }
   ],
   "source": [
    "-"
   ]
  },
  {
   "cell_type": "code",
   "execution_count": null,
   "metadata": {
    "collapsed": true,
    "deletable": true,
    "editable": true,
    "jupyter": {
     "outputs_hidden": true
    }
   },
   "outputs": [],
   "source": []
  }
 ],
 "metadata": {
  "anaconda-cloud": {},
  "kernelspec": {
   "display_name": "Python 3",
   "language": "python",
   "name": "python3"
  },
  "language_info": {
   "codemirror_mode": {
    "name": "ipython",
    "version": 3
   },
   "file_extension": ".py",
   "mimetype": "text/x-python",
   "name": "python",
   "nbconvert_exporter": "python",
   "pygments_lexer": "ipython3",
   "version": "3.8.8"
  }
 },
 "nbformat": 4,
 "nbformat_minor": 4
}
