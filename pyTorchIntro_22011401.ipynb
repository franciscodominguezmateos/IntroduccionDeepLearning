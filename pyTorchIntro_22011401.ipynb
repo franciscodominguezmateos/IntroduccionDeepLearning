{
 "cells": [
  {
   "cell_type": "code",
   "execution_count": 1,
   "id": "major-tender",
   "metadata": {},
   "outputs": [],
   "source": [
    "# 14/01/2022\n",
    "# Francisco Domínguez Mateos\n",
    "# pyTorch intro\n",
    "# https://www.youtube.com/watch?v=kPa6hU9prg4&list=PL_iWQOsE6TfXxKgI1GgyV1B_Xa0DxE5eH&index=13\n",
    "# https://www.youtube.com/watch?v=ubSsUJbLkwM&list=PL_iWQOsE6TfXxKgI1GgyV1B_Xa0DxE5eH&index=13"
   ]
  },
  {
   "cell_type": "markdown",
   "id": "radio-ordering",
   "metadata": {},
   "source": [
    "# Teoría"
   ]
  },
  {
   "cell_type": "markdown",
   "id": "drawn-british",
   "metadata": {},
   "source": [
    "Funciones implícitas:\n",
    "$$x^2+y^2=1$$\n",
    "$$y=\\sqrt{1-x^2}$$\n",
    "$$f(x,y,z)=x^2+y^2+z^2-1$$"
   ]
  },
  {
   "cell_type": "markdown",
   "id": "strong-tonight",
   "metadata": {},
   "source": [
    "$$f_\\theta(x)$$\n",
    "$$f(\\theta,x)$$"
   ]
  },
  {
   "cell_type": "markdown",
   "id": "atlantic-imagination",
   "metadata": {},
   "source": [
    "Ecuación de recta\n",
    "$$y=mx+b$$"
   ]
  },
  {
   "cell_type": "markdown",
   "id": "oriented-glossary",
   "metadata": {},
   "source": [
    "## Datos"
   ]
  },
  {
   "cell_type": "markdown",
   "id": "rental-folks",
   "metadata": {},
   "source": [
    "$$x=\\{x_1,x_2,...,x_N\\}$$\n",
    "$$y=\\{y_1,y_2,...,y_N\\}$$"
   ]
  },
  {
   "cell_type": "markdown",
   "id": "formal-street",
   "metadata": {},
   "source": [
    "Queremos buscar un $\\theta$ que cumpla las igualdades siguientes:"
   ]
  },
  {
   "cell_type": "markdown",
   "id": "dressed-alberta",
   "metadata": {},
   "source": [
    "$$f(\\theta,x_1)\\simeq y_1$$\n",
    "$$f(\\theta,x_2)\\simeq y_2$$\n",
    "$$...$$\n",
    "$$f(\\theta,x_N)\\simeq y_N$$"
   ]
  },
  {
   "cell_type": "markdown",
   "id": "clear-modification",
   "metadata": {},
   "source": [
    "## Modelos"
   ]
  },
  {
   "cell_type": "markdown",
   "id": "radio-smart",
   "metadata": {},
   "source": [
    "Modelo lineal\n",
    "$$lin(\\theta,x)=\\theta x=\\theta[1]x[1]+\\theta[2]x[2]+...+\\theta[D]x[D]$$"
   ]
  },
  {
   "cell_type": "markdown",
   "id": "efficient-rally",
   "metadata": {},
   "source": [
    "$$a(x)=sig(x)=\\frac{1}{1+e^{-x}}$$"
   ]
  },
  {
   "cell_type": "markdown",
   "id": "plain-jefferson",
   "metadata": {},
   "source": [
    "$$f(\\theta,x)=a(lin(\\theta,x))$$"
   ]
  },
  {
   "cell_type": "markdown",
   "id": "closed-burlington",
   "metadata": {},
   "source": [
    "Deep learning es anidar funciones:\n",
    "$$f_1(\\theta_1,x)=a(lin(\\theta_1,x))$$\n",
    "$$f_2(\\theta_2,\\theta_1,x)=a(lin(\\theta_2,f_1(\\theta_1,x)))$$\n",
    "$$f_3(\\theta_3,\\theta_2,\\theta_1,x)=a(lin(\\theta_3,f_2(\\theta_2,x)))$$\n",
    "$$f_3(\\theta_3,\\theta_2,\\theta_1,x)=a(lin(\\theta_3,f_2(\\theta_2,f_1(\\theta_1,x))))=a(lin(\\theta_3,a(lin(\\theta_2,a(lin(\\theta_1,x)))$$"
   ]
  },
  {
   "cell_type": "markdown",
   "id": "horizontal-ensemble",
   "metadata": {},
   "source": [
    "Optimización:\n",
    "$$r(\\theta_{h1},x_1,y_1)=f(\\theta_1,x_1)-y_1$$\n",
    "$$r(\\theta_{h1},x_2,y_2)=f(\\theta_2,x_2)-y_2$$\n",
    "$$...$$\n",
    "$$r(\\theta_{h1},x_N,y_N)=f(\\theta_N,x_N)-y_N$$\n",
    "$$\\mathcal{L}(\\theta_{h1},x,y)=r(\\theta_{h1},x_1,y_1)^2+r(\\theta_{h1},x_2,y_2)^2+...+r(\\theta_{h1},x_N,y_N)^2=\\sum_{i=1}^N r(\\theta_{h1},x_i,y_i)^2$$\n"
   ]
  },
  {
   "cell_type": "markdown",
   "id": "indian-highland",
   "metadata": {},
   "source": [
    "$$\\theta_{h2}=\\theta_{h1}+0.001$$\n",
    "$$\\mathcal{L}(\\theta_{h2},x,y)>\\mathcal{L}(\\theta_{h1},x,y)$$\n",
    "$$\\theta_{h3}<\\theta_{h1}$$\n",
    "$$\\mathcal{L}(\\theta_{h2},x,y)-\\mathcal{L}(\\theta_{h1},x,y)$$\n"
   ]
  },
  {
   "cell_type": "markdown",
   "id": "determined-stewart",
   "metadata": {},
   "source": [
    "Definición de derivadas/cuestas/gradientes/jacobianos/pendiente/tangencial,...:\n",
    "$$f(\\theta)$$\n",
    "$$g(\\theta)=\\frac{\\partial{f(\\theta)}}{\\partial{\\theta}}=lim_{h\\rightarrow0}\\frac{f(\\theta+h)-f(\\theta)}{h}\\simeq \\frac{f(\\theta+h)-f(\\theta)}{h}$$\n"
   ]
  },
  {
   "cell_type": "markdown",
   "id": "martial-workshop",
   "metadata": {},
   "source": [
    "Descenso de gradientes\n",
    "$$\\theta_{new}=\\theta_{old}-\\alpha·g(\\theta_{old},x,y)=\\theta_{old}-\\alpha\\frac{\\partial{\\mathcal{L}(\\theta_{old},x,y)}}{\\partial{\\theta_{old}}}$$"
   ]
  },
  {
   "cell_type": "code",
   "execution_count": 2,
   "id": "exact-drill",
   "metadata": {},
   "outputs": [],
   "source": [
    "import matplotlib.pyplot as plt\n",
    "import torch\n",
    "import numpy as np\n",
    "\n",
    "import torch\n",
    "import torch.nn as nn\n",
    "import torch.optim as optim\n",
    "import torch.distributions as distributions\n",
    "import torch.nn.functional as F\n",
    "\n",
    "def plot(xs, ys, xlim=(-3, 3), ylim=(-3, 3)):\n",
    "  fig, ax = plt.subplots()\n",
    "  ax.plot(xs, ys, linewidth=5)\n",
    "  # ax.set_aspect('equal')\n",
    "  ax.grid(True, which='both')\n",
    "  \n",
    "  ax.axhline(y=0, color='k')\n",
    "  ax.axvline(x=0, color='k')\n",
    "  ax.set_xlim(*xlim)\n",
    "  ax.set_ylim(*ylim)"
   ]
  },
  {
   "cell_type": "markdown",
   "id": "northern-details",
   "metadata": {},
   "source": [
    "# Intro numpy"
   ]
  },
  {
   "cell_type": "code",
   "execution_count": 3,
   "id": "controlled-financing",
   "metadata": {},
   "outputs": [
    {
     "name": "stdout",
     "output_type": "stream",
     "text": [
      "[1 2 3 4 5 6]\n",
      "[[8 0 7]\n",
      " [3 0 1]]\n",
      "[[[0.97996309 0.97245226 0.76962267]\n",
      "  [0.69456196 0.58016047 0.49026107]]\n",
      "\n",
      " [[0.15464841 0.10179305 0.1014599 ]\n",
      "  [0.46793313 0.81651847 0.03577301]]\n",
      "\n",
      " [[0.12522315 0.58879466 0.01652153]\n",
      "  [0.53550412 0.25927968 0.63767563]]]\n",
      "(6,)\n",
      "(2, 3)\n",
      "(3, 2, 3)\n"
     ]
    }
   ],
   "source": [
    "x=np.array([1,2,3,4,5,6])\n",
    "y=np.array([[8,0,7],[3,0,1]])\n",
    "z=np.random.rand(3,2,3)\n",
    "print(x)\n",
    "print(y)\n",
    "print(z)\n",
    "print(x.shape)\n",
    "print(y.shape)\n",
    "print(z.shape)"
   ]
  },
  {
   "cell_type": "code",
   "execution_count": 4,
   "id": "catholic-bachelor",
   "metadata": {},
   "outputs": [
    {
     "name": "stdout",
     "output_type": "stream",
     "text": [
      "[[0.97996309 0.97245226 0.76962267]\n",
      " [0.69456196 0.58016047 0.49026107]]\n"
     ]
    }
   ],
   "source": [
    "print(z[0])"
   ]
  },
  {
   "cell_type": "code",
   "execution_count": 5,
   "id": "surprising-filename",
   "metadata": {},
   "outputs": [
    {
     "name": "stdout",
     "output_type": "stream",
     "text": [
      "[0.69456196 0.58016047 0.49026107]\n"
     ]
    }
   ],
   "source": [
    "print(z[0,1])"
   ]
  },
  {
   "cell_type": "code",
   "execution_count": 6,
   "id": "biblical-jewel",
   "metadata": {},
   "outputs": [
    {
     "name": "stdout",
     "output_type": "stream",
     "text": [
      "0.49026106990349905\n"
     ]
    }
   ],
   "source": [
    "print(z[0,1,2])"
   ]
  },
  {
   "cell_type": "code",
   "execution_count": 7,
   "id": "knowing-tract",
   "metadata": {},
   "outputs": [
    {
     "name": "stdout",
     "output_type": "stream",
     "text": [
      "[[0.76962267 0.49026107]\n",
      " [0.1014599  0.03577301]\n",
      " [0.01652153 0.63767563]]\n"
     ]
    }
   ],
   "source": [
    "print(z[:,:,2])"
   ]
  },
  {
   "cell_type": "code",
   "execution_count": 8,
   "id": "noted-transparency",
   "metadata": {},
   "outputs": [
    {
     "name": "stdout",
     "output_type": "stream",
     "text": [
      "[[-0.92199613  0.8151099  -0.66998466]\n",
      " [ 0.5161573   0.51678173 -1.1158675 ]]\n"
     ]
    }
   ],
   "source": [
    "x_np=np.random.randn(2,3)\n",
    "print(x_np)"
   ]
  },
  {
   "cell_type": "code",
   "execution_count": 9,
   "id": "mathematical-physiology",
   "metadata": {},
   "outputs": [
    {
     "name": "stdout",
     "output_type": "stream",
     "text": [
      "[ 1  2  3  4  5  6  7  8  9 10 11 12 13 14 15 16 17 18 19 20]\n",
      "[[[[ 1  2  3  4  5]\n",
      "   [ 6  7  8  9 10]]\n",
      "\n",
      "  [[11 12 13 14 15]\n",
      "   [16 17 18 19 20]]]]\n",
      "[[ 1  2  3  4]\n",
      " [ 5  6  7  8]\n",
      " [ 9 10 11 12]\n",
      " [13 14 15 16]\n",
      " [17 18 19 20]]\n"
     ]
    }
   ],
   "source": [
    "d=np.arange(1,21,1)\n",
    "print(d)\n",
    "x=d.reshape(1,2,2,5)\n",
    "print(x)\n",
    "x=d.reshape(5,4)\n",
    "print(x)\n",
    "# Las dimensiones deben permitir que lo datos quepan exactamente\n",
    "# x=d.reshape(3,7)\n",
    "# print(x)"
   ]
  },
  {
   "cell_type": "code",
   "execution_count": 10,
   "id": "union-hierarchy",
   "metadata": {},
   "outputs": [
    {
     "name": "stdout",
     "output_type": "stream",
     "text": [
      "[[1. 1. 1.]\n",
      " [1. 1. 1.]]\n",
      "+\n",
      "[[8 0 7]\n",
      " [3 0 1]]\n",
      "=\n",
      "[[9. 1. 8.]\n",
      " [4. 1. 2.]]\n"
     ]
    }
   ],
   "source": [
    "a=np.ones((2,3))\n",
    "print(a)\n",
    "print(\"+\")\n",
    "print(y)\n",
    "print(\"=\")\n",
    "print(y+a)"
   ]
  },
  {
   "cell_type": "markdown",
   "id": "express-noise",
   "metadata": {},
   "source": [
    "Broadcasting"
   ]
  },
  {
   "cell_type": "code",
   "execution_count": 11,
   "id": "early-special",
   "metadata": {},
   "outputs": [
    {
     "name": "stdout",
     "output_type": "stream",
     "text": [
      "[[1. 1. 1.]]\n",
      "+\n",
      "[[8 0 7]\n",
      " [3 0 1]]\n",
      "=\n",
      "[[9. 1. 8.]\n",
      " [4. 1. 2.]]\n"
     ]
    }
   ],
   "source": [
    "a=np.ones((1,3))\n",
    "print(a)\n",
    "print(\"+\")\n",
    "print(y)\n",
    "print(\"=\")\n",
    "print(y+a)"
   ]
  },
  {
   "cell_type": "code",
   "execution_count": 12,
   "id": "professional-barrel",
   "metadata": {},
   "outputs": [
    {
     "name": "stdout",
     "output_type": "stream",
     "text": [
      "1\n",
      "+\n",
      "[[8 0 7]\n",
      " [3 0 1]]\n",
      "=\n",
      "[[9 1 8]\n",
      " [4 1 2]]\n"
     ]
    }
   ],
   "source": [
    "print(1)\n",
    "print(\"+\")\n",
    "print(y)\n",
    "print(\"=\")\n",
    "print(y+1)"
   ]
  },
  {
   "cell_type": "code",
   "execution_count": 13,
   "id": "outstanding-bridges",
   "metadata": {},
   "outputs": [
    {
     "name": "stdout",
     "output_type": "stream",
     "text": [
      "[[8 7 4]\n",
      " [5 2 2]\n",
      " [1 4 3]]\n",
      "(3, 3)\n",
      "36\n"
     ]
    }
   ],
   "source": [
    "x=np.array([[8,7,4],[5,2,2],[1,4,3]])\n",
    "print(x)\n",
    "print(x.shape)\n",
    "print(np.sum(x))"
   ]
  },
  {
   "cell_type": "code",
   "execution_count": 14,
   "id": "approximate-formula",
   "metadata": {},
   "outputs": [
    {
     "name": "stdout",
     "output_type": "stream",
     "text": [
      "[14 13  9]\n"
     ]
    }
   ],
   "source": [
    "print(np.sum(x,axis=0))"
   ]
  },
  {
   "cell_type": "code",
   "execution_count": 15,
   "id": "filled-utility",
   "metadata": {},
   "outputs": [
    {
     "name": "stdout",
     "output_type": "stream",
     "text": [
      "[19  9  8]\n"
     ]
    }
   ],
   "source": [
    "print(np.sum(x,axis=1))"
   ]
  },
  {
   "cell_type": "code",
   "execution_count": 16,
   "id": "active-southwest",
   "metadata": {},
   "outputs": [
    {
     "name": "stdout",
     "output_type": "stream",
     "text": [
      "[19  9  8]\n"
     ]
    }
   ],
   "source": [
    "print(np.sum(x,axis=-1))"
   ]
  },
  {
   "cell_type": "code",
   "execution_count": 17,
   "id": "connected-durham",
   "metadata": {},
   "outputs": [
    {
     "name": "stdout",
     "output_type": "stream",
     "text": [
      "[19  9  8]\n"
     ]
    }
   ],
   "source": [
    "print(np.sum(x,axis=len(x.shape)-1))"
   ]
  },
  {
   "cell_type": "code",
   "execution_count": 18,
   "id": "linear-failure",
   "metadata": {},
   "outputs": [
    {
     "name": "stdout",
     "output_type": "stream",
     "text": [
      "[-3.         -2.33333333 -1.66666667 -1.         -0.33333333  0.33333333\n",
      "  1.          1.66666667  2.33333333  3.        ]\n"
     ]
    }
   ],
   "source": [
    "x=np.linspace(-3,3,10)\n",
    "print(x)"
   ]
  },
  {
   "cell_type": "code",
   "execution_count": 19,
   "id": "driving-services",
   "metadata": {},
   "outputs": [
    {
     "name": "stdout",
     "output_type": "stream",
     "text": [
      "[7 5 0 1 3 4 3 2 3 9]\n",
      "[[2]\n",
      " [7]\n",
      " [1]\n",
      " [0]\n",
      " [6]\n",
      " [9]\n",
      " [3]\n",
      " [6]\n",
      " [2]\n",
      " [3]]\n"
     ]
    }
   ],
   "source": [
    "x=np.random.randint(10,size=(10,))\n",
    "y=np.random.randint(10,size=(10,1))\n",
    "print(x)\n",
    "print(y)"
   ]
  },
  {
   "cell_type": "code",
   "execution_count": 20,
   "id": "outer-bolivia",
   "metadata": {},
   "outputs": [
    {
     "name": "stdout",
     "output_type": "stream",
     "text": [
      "[7 5 0 1 3 4 3 2 3 9]\n",
      "*\n",
      "[[2]\n",
      " [7]\n",
      " [1]\n",
      " [0]\n",
      " [6]\n",
      " [9]\n",
      " [3]\n",
      " [6]\n",
      " [2]\n",
      " [3]]\n",
      "=\n",
      "[[14 10  0  2  6  8  6  4  6 18]\n",
      " [49 35  0  7 21 28 21 14 21 63]\n",
      " [ 7  5  0  1  3  4  3  2  3  9]\n",
      " [ 0  0  0  0  0  0  0  0  0  0]\n",
      " [42 30  0  6 18 24 18 12 18 54]\n",
      " [63 45  0  9 27 36 27 18 27 81]\n",
      " [21 15  0  3  9 12  9  6  9 27]\n",
      " [42 30  0  6 18 24 18 12 18 54]\n",
      " [14 10  0  2  6  8  6  4  6 18]\n",
      " [21 15  0  3  9 12  9  6  9 27]]\n"
     ]
    }
   ],
   "source": [
    "print(x)\n",
    "print(\"*\")\n",
    "print(y)\n",
    "print(\"=\")\n",
    "print(x*y)"
   ]
  },
  {
   "cell_type": "code",
   "execution_count": 21,
   "id": "organic-gregory",
   "metadata": {},
   "outputs": [
    {
     "name": "stdout",
     "output_type": "stream",
     "text": [
      "\n",
      "[[7]\n",
      " [5]\n",
      " [0]\n",
      " [1]\n",
      " [3]\n",
      " [4]\n",
      " [3]\n",
      " [2]\n",
      " [3]\n",
      " [9]]\n",
      "*\n",
      "[[2]\n",
      " [7]\n",
      " [1]\n",
      " [0]\n",
      " [6]\n",
      " [9]\n",
      " [3]\n",
      " [6]\n",
      " [2]\n",
      " [3]]\n",
      "=\n",
      "[[14]\n",
      " [35]\n",
      " [ 0]\n",
      " [ 0]\n",
      " [18]\n",
      " [36]\n",
      " [ 9]\n",
      " [12]\n",
      " [ 6]\n",
      " [27]]\n"
     ]
    }
   ],
   "source": [
    "x_reshaped=x.reshape(-1,1) \n",
    "print()\n",
    "print(x_reshaped)\n",
    "print(\"*\")\n",
    "print(y)\n",
    "print(\"=\")\n",
    "print(x_reshaped*y)"
   ]
  },
  {
   "cell_type": "code",
   "execution_count": 22,
   "id": "finnish-oasis",
   "metadata": {},
   "outputs": [
    {
     "name": "stdout",
     "output_type": "stream",
     "text": [
      "(10, 1)\n",
      "(10,)\n"
     ]
    }
   ],
   "source": [
    "print(y.shape)\n",
    "print(y.reshape(10).shape)"
   ]
  },
  {
   "cell_type": "code",
   "execution_count": 23,
   "id": "illegal-present",
   "metadata": {},
   "outputs": [
    {
     "name": "stdout",
     "output_type": "stream",
     "text": [
      "(10,)\n",
      "(10, 1)\n"
     ]
    }
   ],
   "source": [
    "print(x.shape)\n",
    "print(x.reshape(-1,1).shape)"
   ]
  },
  {
   "cell_type": "code",
   "execution_count": 24,
   "id": "incomplete-roberts",
   "metadata": {},
   "outputs": [
    {
     "name": "stdout",
     "output_type": "stream",
     "text": [
      "(10, 4, 6, 2)\n",
      "(10, 1, 4, 1, 1, 6, 2)\n",
      "(10, 4, 1, 6, 2)\n",
      "(10, 4, 1, 6, 2)\n",
      "(10, 4, 1, 1, 6, 2)\n"
     ]
    }
   ],
   "source": [
    "a=np.random.randint(10,size=(10,1,4,1,1,6,2))\n",
    "print(a.squeeze().shape)\n",
    "print(a.shape)\n",
    "print(a.reshape(10,4,1,6,2).shape)\n",
    "print(a.squeeze((1,3)).shape)\n",
    "print(a[:,0,:,:,:,:,:].shape)"
   ]
  },
  {
   "cell_type": "code",
   "execution_count": 25,
   "id": "another-calendar",
   "metadata": {},
   "outputs": [
    {
     "name": "stdout",
     "output_type": "stream",
     "text": [
      "(10, 1, 4, 1, 1, 6, 2)\n",
      "(480, 1)\n",
      "(480,)\n"
     ]
    }
   ],
   "source": [
    "b=np.random.randint(10,size=(10,4,2,7,8,9))\n",
    "print(a.shape)\n",
    "print(a.reshape(-1,1).shape)\n",
    "print(a.reshape(-1,).shape)"
   ]
  },
  {
   "cell_type": "code",
   "execution_count": 26,
   "id": "addressed-impression",
   "metadata": {},
   "outputs": [
    {
     "name": "stdout",
     "output_type": "stream",
     "text": [
      "(10, 1)\n",
      "(10,)\n",
      "(10,)\n"
     ]
    }
   ],
   "source": [
    "print(y.shape)\n",
    "print(y.reshape(10).shape)\n",
    "print(y.squeeze().shape)"
   ]
  },
  {
   "cell_type": "code",
   "execution_count": 29,
   "id": "bibliographic-jumping",
   "metadata": {},
   "outputs": [
    {
     "name": "stdout",
     "output_type": "stream",
     "text": [
      "(10,)\n",
      "(10, 1)\n",
      "(10, 1)\n",
      "(5, 2)\n"
     ]
    }
   ],
   "source": [
    "print(x.shape)\n",
    "print(x[:,np.newaxis].shape)\n",
    "print(x[:,None].shape)\n",
    "print(x.reshape(5,2).shape)"
   ]
  },
  {
   "cell_type": "code",
   "execution_count": 30,
   "id": "expired-twist",
   "metadata": {},
   "outputs": [
    {
     "name": "stdout",
     "output_type": "stream",
     "text": [
      "(10, 320, 240)\n",
      "(10, 1, 320, 240)\n",
      "(10, 320, 240, 1)\n",
      "(1, 10, 320, 240)\n"
     ]
    }
   ],
   "source": [
    "x=np.random.randint(10,size=(10,320,240))\n",
    "print(x.shape)\n",
    "print(x[:,None].shape)\n",
    "print(x[...,None].shape)\n",
    "print(x[None,...].shape)"
   ]
  },
  {
   "cell_type": "code",
   "execution_count": 31,
   "id": "fatty-celebrity",
   "metadata": {},
   "outputs": [
    {
     "name": "stdout",
     "output_type": "stream",
     "text": [
      "(10, 1, 4, 1, 1, 6, 2)\n",
      "(10, 1, 1, 1, 4, 1, 1, 6, 2)\n",
      "(10, 1, 1, 1, 4, 1, 1, 6, 2)\n"
     ]
    }
   ],
   "source": [
    "a=np.random.randint(10,size=(10,1,4,1,1,6,2))\n",
    "print(a.shape)\n",
    "print(a.reshape(10, 1, 1, 1, 4, 1, 1, 6, 2).shape)\n",
    "print(a[:,None,:,np.newaxis,...].shape)"
   ]
  },
  {
   "cell_type": "code",
   "execution_count": 32,
   "id": "mexican-juvenile",
   "metadata": {},
   "outputs": [
    {
     "name": "stdout",
     "output_type": "stream",
     "text": [
      "[[7]\n",
      " [7]\n",
      " [1]\n",
      " [2]\n",
      " [1]]\n",
      "*\n",
      "[7 7 1 2 1]\n",
      "=\n",
      "[[49 49  7 14  7]\n",
      " [49 49  7 14  7]\n",
      " [ 7  7  1  2  1]\n",
      " [14 14  2  4  2]\n",
      " [ 7  7  1  2  1]]\n"
     ]
    }
   ],
   "source": [
    "matrix=np.random.randint(10,size=(5,5))\n",
    "row_vec=np.random.randint(10,size=(5,))\n",
    "col_vec=row_vec.reshape(5,1)\n",
    "print(col_vec)\n",
    "print(\"*\")\n",
    "print(row_vec)\n",
    "print(\"=\")\n",
    "print(col_vec*row_vec)"
   ]
  },
  {
   "cell_type": "code",
   "execution_count": 33,
   "id": "virtual-decimal",
   "metadata": {},
   "outputs": [
    {
     "name": "stdout",
     "output_type": "stream",
     "text": [
      "[[7]\n",
      " [7]\n",
      " [1]\n",
      " [2]\n",
      " [1]]\n",
      "*\n",
      "[[7 7 1 2 1]]\n",
      "=\n",
      "[[49 49  7 14  7]\n",
      " [49 49  7 14  7]\n",
      " [ 7  7  1  2  1]\n",
      " [14 14  2  4  2]\n",
      " [ 7  7  1  2  1]]\n"
     ]
    }
   ],
   "source": [
    "row_mat=row_vec.reshape(1,5)\n",
    "print(col_vec)\n",
    "print(\"*\")\n",
    "print(row_mat)\n",
    "print(\"=\")\n",
    "print(row_mat*col_vec)"
   ]
  },
  {
   "cell_type": "code",
   "execution_count": 34,
   "id": "cardiac-cassette",
   "metadata": {},
   "outputs": [
    {
     "name": "stdout",
     "output_type": "stream",
     "text": [
      "[[7]\n",
      " [7]\n",
      " [1]\n",
      " [2]\n",
      " [1]]\n",
      "*\n",
      "[[7]\n",
      " [7]\n",
      " [1]\n",
      " [2]\n",
      " [1]]\n",
      "=\n",
      "[[49]\n",
      " [49]\n",
      " [ 1]\n",
      " [ 4]\n",
      " [ 1]]\n"
     ]
    }
   ],
   "source": [
    "col_mat=row_vec.reshape(5,1)\n",
    "print(col_vec)\n",
    "print(\"*\")\n",
    "print(col_mat)\n",
    "print(\"=\")\n",
    "print(col_mat*col_vec)"
   ]
  },
  {
   "cell_type": "code",
   "execution_count": 35,
   "id": "structural-final",
   "metadata": {},
   "outputs": [
    {
     "name": "stdout",
     "output_type": "stream",
     "text": [
      "[7 7 1 2 1]\n",
      "@\n",
      "[[7]\n",
      " [7]\n",
      " [1]\n",
      " [2]\n",
      " [1]]\n",
      "=\n",
      "[104]\n",
      "(1,)\n",
      "104\n",
      "104\n"
     ]
    }
   ],
   "source": [
    "print(row_vec)\n",
    "print(\"@\")\n",
    "print(col_vec)\n",
    "print(\"=\")\n",
    "print(row_vec@col_vec)\n",
    "print((row_vec@col_vec).shape)\n",
    "print((row_vec@col_vec)[0])\n",
    "print(row_vec.dot(col_vec).squeeze())"
   ]
  },
  {
   "cell_type": "markdown",
   "id": "present-plant",
   "metadata": {},
   "source": [
    "# pyTorch"
   ]
  },
  {
   "cell_type": "code",
   "execution_count": 36,
   "id": "collectible-census",
   "metadata": {},
   "outputs": [
    {
     "name": "stdout",
     "output_type": "stream",
     "text": [
      "tensor([[0., 0., 0.],\n",
      "        [0., 0., 0.]])\n",
      "tensor([[1., 1., 1.],\n",
      "        [1., 1., 1.]])\n",
      "tensor([[1., 1., 1.],\n",
      "        [1., 1., 1.]])\n"
     ]
    }
   ],
   "source": [
    "x=torch.zeros(2,3)\n",
    "y=torch.ones(2,3)\n",
    "z=x+y\n",
    "print(x)\n",
    "print(y)\n",
    "print(z)"
   ]
  },
  {
   "cell_type": "code",
   "execution_count": 37,
   "id": "unique-guarantee",
   "metadata": {},
   "outputs": [
    {
     "name": "stdout",
     "output_type": "stream",
     "text": [
      "tensor([3., 3.])\n",
      "tensor([2., 2., 2.])\n"
     ]
    }
   ],
   "source": [
    "print(torch.sum(z,dim=1))\n",
    "print(torch.sum(z,dim=0))"
   ]
  },
  {
   "cell_type": "code",
   "execution_count": 38,
   "id": "imperial-tattoo",
   "metadata": {},
   "outputs": [
    {
     "name": "stdout",
     "output_type": "stream",
     "text": [
      "tensor([[1.],\n",
      "        [1.],\n",
      "        [1.]])\n",
      "tensor([[1., 1., 1.]])\n",
      "tensor([[2., 2., 2.],\n",
      "        [2., 2., 2.],\n",
      "        [2., 2., 2.]])\n"
     ]
    }
   ],
   "source": [
    "x=torch.ones((3,1))\n",
    "y=torch.ones((1,3))\n",
    "z=x+y\n",
    "print(x)\n",
    "print(y)\n",
    "print(z)"
   ]
  },
  {
   "cell_type": "code",
   "execution_count": 39,
   "id": "expressed-affiliation",
   "metadata": {},
   "outputs": [
    {
     "name": "stdout",
     "output_type": "stream",
     "text": [
      "tensor([[-0.9220,  0.8151, -0.6700],\n",
      "        [ 0.5162,  0.5168, -1.1159]], dtype=torch.float64)\n"
     ]
    }
   ],
   "source": [
    "x=torch.from_numpy(x_np)\n",
    "print(x)"
   ]
  },
  {
   "cell_type": "code",
   "execution_count": 40,
   "id": "handmade-figure",
   "metadata": {},
   "outputs": [
    {
     "name": "stdout",
     "output_type": "stream",
     "text": [
      "tensor([[ 0.0000,  0.8151, -0.6700],\n",
      "        [ 0.5162,  0.5168, -1.1159]], dtype=torch.float64)\n"
     ]
    }
   ],
   "source": [
    "x_np[0,0]=0\n",
    "print(x)"
   ]
  },
  {
   "cell_type": "code",
   "execution_count": 41,
   "id": "german-equivalent",
   "metadata": {},
   "outputs": [
    {
     "data": {
      "image/png": "[encoded data removed]",
      "text/plain": [
       "<Figure size 432x288 with 1 Axes>"
      ]
     },
     "metadata": {
      "needs_background": "light"
     },
     "output_type": "display_data"
    },
    {
     "data": {
      "image/png": "[encoded data removed]",
      "text/plain": [
       "<Figure size 432x288 with 1 Axes>"
      ]
     },
     "metadata": {
      "needs_background": "light"
     },
     "output_type": "display_data"
    },
    {
     "data": {
      "image/png": "[encoded data removed]",
      "text/plain": [
       "<Figure size 432x288 with 1 Axes>"
      ]
     },
     "metadata": {
      "needs_background": "light"
     },
     "output_type": "display_data"
    }
   ],
   "source": [
    "xs=torch.linspace(-3,3,100)\n",
    "ys=torch.relu(xs)\n",
    "plot(xs.numpy(),ys.numpy())\n",
    "ys=torch.sigmoid(xs)\n",
    "plot(xs.numpy(),ys.numpy())\n",
    "ys=torch.tanh(xs)\n",
    "plot(xs.numpy(),ys.numpy())"
   ]
  },
  {
   "cell_type": "code",
   "execution_count": 42,
   "id": "medical-rotation",
   "metadata": {},
   "outputs": [
    {
     "data": {
      "text/plain": [
       "tensor([[0.1824, 0.8176],\n",
       "        [0.5000, 0.5000]])"
      ]
     },
     "execution_count": 42,
     "metadata": {},
     "output_type": "execute_result"
    }
   ],
   "source": [
    "x=torch.Tensor(([2,3.5],[4,4]))\n",
    "torch.softmax(x,dim=-1)# Do softmax along last dimension (by row)"
   ]
  },
  {
   "cell_type": "code",
   "execution_count": 43,
   "id": "novel-diving",
   "metadata": {},
   "outputs": [],
   "source": [
    "shape=(3,)\n",
    "x=torch.tensor([1.0,2,3],requires_grad=True)\n",
    "y=torch.ones(shape,requires_grad=True)"
   ]
  },
  {
   "cell_type": "code",
   "execution_count": 44,
   "id": "loving-cornell",
   "metadata": {},
   "outputs": [
    {
     "data": {
      "text/plain": [
       "tensor([1., 2., 3.], requires_grad=True)"
      ]
     },
     "execution_count": 44,
     "metadata": {},
     "output_type": "execute_result"
    }
   ],
   "source": [
    "x"
   ]
  },
  {
   "cell_type": "code",
   "execution_count": 45,
   "id": "improved-founder",
   "metadata": {},
   "outputs": [
    {
     "data": {
      "text/plain": [
       "tensor([1., 2., 3.])"
      ]
     },
     "execution_count": 45,
     "metadata": {},
     "output_type": "execute_result"
    }
   ],
   "source": [
    "x.data"
   ]
  },
  {
   "cell_type": "code",
   "execution_count": 46,
   "id": "accepted-survival",
   "metadata": {},
   "outputs": [
    {
     "name": "stdout",
     "output_type": "stream",
     "text": [
      "None\n"
     ]
    }
   ],
   "source": [
    "print(x.grad)"
   ]
  },
  {
   "cell_type": "code",
   "execution_count": 47,
   "id": "valued-resolution",
   "metadata": {},
   "outputs": [
    {
     "name": "stdout",
     "output_type": "stream",
     "text": [
      "tensor(83., grad_fn=<SumBackward0>)\n"
     ]
    }
   ],
   "source": [
    "loss=((2*x+y)**2).sum()\n",
    "print(loss)"
   ]
  },
  {
   "cell_type": "code",
   "execution_count": 48,
   "id": "martial-genius",
   "metadata": {},
   "outputs": [
    {
     "name": "stdout",
     "output_type": "stream",
     "text": [
      "SumBackward0\n",
      "----\n",
      "PowBackward0\n",
      "----\n",
      "AddBackward0\n",
      "----\n",
      "torch::autograd::AccumulateGrad\n",
      "MulBackward0\n",
      "----\n",
      "torch::autograd::AccumulateGrad\n"
     ]
    }
   ],
   "source": [
    "grad_fns=[(loss.grad_fn,0)]\n",
    "curr_level=0\n",
    "lines=[]\n",
    "while grad_fns:\n",
    "    prev_level=curr_level\n",
    "    fn,curr_level=grad_fns.pop()\n",
    "    if curr_level!=prev_level:\n",
    "        print(\"----\")\n",
    "    print(fn.name())\n",
    "    for next_fn,_ in fn.next_functions:\n",
    "        if next_fn:\n",
    "            grad_fns.append((next_fn,curr_level+1))"
   ]
  },
  {
   "cell_type": "code",
   "execution_count": 49,
   "id": "strong-planner",
   "metadata": {},
   "outputs": [],
   "source": [
    "loss.backward()"
   ]
  },
  {
   "cell_type": "code",
   "execution_count": 50,
   "id": "metric-broadcast",
   "metadata": {},
   "outputs": [
    {
     "name": "stdout",
     "output_type": "stream",
     "text": [
      "tensor([12., 20., 28.])\n",
      "tensor([ 6., 10., 14.])\n"
     ]
    }
   ],
   "source": [
    "print(x.grad)\n",
    "print(y.grad)"
   ]
  },
  {
   "cell_type": "code",
   "execution_count": 51,
   "id": "agricultural-growth",
   "metadata": {},
   "outputs": [],
   "source": [
    "loss2=((x*x+y)**2).sum()\n",
    "loss2.backward()"
   ]
  },
  {
   "cell_type": "code",
   "execution_count": 52,
   "id": "endangered-guyana",
   "metadata": {},
   "outputs": [
    {
     "name": "stdout",
     "output_type": "stream",
     "text": [
      "tensor([ 20.,  60., 148.])\n",
      "tensor([10., 20., 34.])\n"
     ]
    }
   ],
   "source": [
    "print(x.grad)\n",
    "print(y.grad)"
   ]
  },
  {
   "cell_type": "code",
   "execution_count": 53,
   "id": "common-johns",
   "metadata": {},
   "outputs": [],
   "source": [
    "other_loss=(x**2).sum()\n",
    "other_loss.backward()"
   ]
  },
  {
   "cell_type": "code",
   "execution_count": 54,
   "id": "alive-century",
   "metadata": {},
   "outputs": [
    {
     "name": "stdout",
     "output_type": "stream",
     "text": [
      "tensor([ 22.,  64., 154.])\n",
      "tensor([10., 20., 34.])\n"
     ]
    }
   ],
   "source": [
    "print(x.grad)\n",
    "print(y.grad)"
   ]
  },
  {
   "cell_type": "code",
   "execution_count": 55,
   "id": "dutch-baking",
   "metadata": {},
   "outputs": [
    {
     "name": "stdout",
     "output_type": "stream",
     "text": [
      "tensor([12., 20., 28.])\n",
      "None\n"
     ]
    }
   ],
   "source": [
    "shape=(3,)\n",
    "x=torch.tensor([1.,2,3],requires_grad=True)\n",
    "y=torch.ones(shape)\n",
    "loss=((2*x+y)**2).sum()\n",
    "loss.backward()\n",
    "print(x.grad)\n",
    "print(y.grad)"
   ]
  },
  {
   "cell_type": "code",
   "execution_count": 56,
   "id": "premium-multimedia",
   "metadata": {},
   "outputs": [
    {
     "name": "stdout",
     "output_type": "stream",
     "text": [
      "tensor([12., 20., 28.])\n",
      "None\n",
      "tensor([ 6., 10., 14.])\n"
     ]
    }
   ],
   "source": [
    "shape=(3,)\n",
    "x=torch.tensor([1.,2,3],requires_grad=True)\n",
    "y=torch.ones(shape)\n",
    "y.requires_grad=True\n",
    "y_detached=y.detach()# actually it shares memory\n",
    "loss=((2*x+y)**2).sum()\n",
    "loss.backward()\n",
    "print(x.grad)\n",
    "print(y_detached.grad)\n",
    "print(y.grad)"
   ]
  },
  {
   "cell_type": "code",
   "execution_count": 57,
   "id": "blessed-louisville",
   "metadata": {},
   "outputs": [
    {
     "data": {
      "text/plain": [
       "tensor([1., 1., 1.])"
      ]
     },
     "execution_count": 57,
     "metadata": {},
     "output_type": "execute_result"
    }
   ],
   "source": [
    "y.detach().clone() # it is actually a copy no memory shared"
   ]
  },
  {
   "cell_type": "markdown",
   "id": "pressed-brazil",
   "metadata": {},
   "source": [
    "## Ejemplo manual"
   ]
  },
  {
   "cell_type": "code",
   "execution_count": 58,
   "id": "interstate-homework",
   "metadata": {},
   "outputs": [
    {
     "name": "stdout",
     "output_type": "stream",
     "text": [
      "tensor([[1.0000, 0.2500, 0.2600],\n",
      "        [0.7500, 0.1250, 0.1000],\n",
      "        [0.5000, 0.2500, 0.1200],\n",
      "        [0.6500, 0.1350, 0.2000]])\n"
     ]
    }
   ],
   "source": [
    "# D=3 N=4\n",
    "x=torch.Tensor(([1,.25,0.26],[0.75,0.125,0.1],[0.5,0.25,0.12],[0.65,0.135,0.2]))\n",
    "print(x)"
   ]
  },
  {
   "cell_type": "code",
   "execution_count": 59,
   "id": "unlimited-insert",
   "metadata": {},
   "outputs": [
    {
     "name": "stdout",
     "output_type": "stream",
     "text": [
      "tensor([[1.],\n",
      "        [0.],\n",
      "        [0.],\n",
      "        [1.]])\n"
     ]
    }
   ],
   "source": [
    "y=torch.Tensor(([[1],[0],[0],[1]]))\n",
    "print(y)"
   ]
  },
  {
   "cell_type": "code",
   "execution_count": 60,
   "id": "revised-condition",
   "metadata": {},
   "outputs": [
    {
     "name": "stdout",
     "output_type": "stream",
     "text": [
      "tensor([[-0.1302],\n",
      "        [-0.0991],\n",
      "        [-0.0775]], requires_grad=True)\n"
     ]
    }
   ],
   "source": [
    "θ=torch.randn((3,1))*0.1\n",
    "θ.requires_grad=True\n",
    "print(θ)"
   ]
  },
  {
   "cell_type": "code",
   "execution_count": 61,
   "id": "amber-washington",
   "metadata": {},
   "outputs": [
    {
     "name": "stdout",
     "output_type": "stream",
     "text": [
      "tensor([[-0.1751],\n",
      "        [-0.1178],\n",
      "        [-0.0992],\n",
      "        [-0.1135]], grad_fn=<MmBackward>)\n"
     ]
    }
   ],
   "source": [
    "lin=x@θ\n",
    "print(lin)"
   ]
  },
  {
   "cell_type": "code",
   "execution_count": 62,
   "id": "integrated-consultation",
   "metadata": {},
   "outputs": [
    {
     "name": "stdout",
     "output_type": "stream",
     "text": [
      "tensor([[0.4563],\n",
      "        [0.4706],\n",
      "        [0.4752],\n",
      "        [0.4717]], grad_fn=<SigmoidBackward>)\n"
     ]
    }
   ],
   "source": [
    "f=torch.sigmoid(lin)\n",
    "print(f)"
   ]
  },
  {
   "cell_type": "code",
   "execution_count": 63,
   "id": "inappropriate-north",
   "metadata": {},
   "outputs": [
    {
     "name": "stdout",
     "output_type": "stream",
     "text": [
      "tensor([[-0.5437],\n",
      "        [ 0.4706],\n",
      "        [ 0.4752],\n",
      "        [-0.5283]], grad_fn=<SubBackward0>)\n"
     ]
    }
   ],
   "source": [
    "r=(f-y)\n",
    "print(r)"
   ]
  },
  {
   "cell_type": "code",
   "execution_count": 64,
   "id": "basic-newcastle",
   "metadata": {},
   "outputs": [
    {
     "name": "stdout",
     "output_type": "stream",
     "text": [
      "tensor(1.0220, grad_fn=<SumBackward0>)\n"
     ]
    }
   ],
   "source": [
    "loss=(r**2).sum()\n",
    "print(loss)"
   ]
  },
  {
   "cell_type": "code",
   "execution_count": 65,
   "id": "severe-elevation",
   "metadata": {},
   "outputs": [],
   "source": [
    "loss.backward()"
   ]
  },
  {
   "cell_type": "code",
   "execution_count": 66,
   "id": "classified-canadian",
   "metadata": {},
   "outputs": [
    {
     "data": {
      "text/plain": [
       "tensor([[-0.1466],\n",
       "        [-0.0144],\n",
       "        [-0.0709]])"
      ]
     },
     "execution_count": 66,
     "metadata": {},
     "output_type": "execute_result"
    }
   ],
   "source": [
    "θ.grad"
   ]
  },
  {
   "cell_type": "code",
   "execution_count": 67,
   "id": "statistical-sperm",
   "metadata": {},
   "outputs": [
    {
     "name": "stdout",
     "output_type": "stream",
     "text": [
      "tensor([[-0.1156],\n",
      "        [-0.0976],\n",
      "        [-0.0704]])\n",
      "tensor([[-0.1466],\n",
      "        [-0.0144],\n",
      "        [-0.0709]])\n"
     ]
    }
   ],
   "source": [
    "α=0.1\n",
    "θ.data=θ.data-α*θ.grad\n",
    "print(θ.data)\n",
    "print(θ.grad)"
   ]
  },
  {
   "cell_type": "code",
   "execution_count": 68,
   "id": "molecular-japan",
   "metadata": {},
   "outputs": [
    {
     "name": "stdout",
     "output_type": "stream",
     "text": [
      "tensor([[-0.1583],\n",
      "        [-0.1059],\n",
      "        [-0.0906],\n",
      "        [-0.1024]], grad_fn=<MmBackward>)\n"
     ]
    }
   ],
   "source": [
    "lin=x@θ\n",
    "print(lin)"
   ]
  },
  {
   "cell_type": "code",
   "execution_count": 69,
   "id": "devoted-solution",
   "metadata": {},
   "outputs": [
    {
     "name": "stdout",
     "output_type": "stream",
     "text": [
      "tensor([[0.4605],\n",
      "        [0.4735],\n",
      "        [0.4774],\n",
      "        [0.4744]], grad_fn=<SigmoidBackward>)\n"
     ]
    }
   ],
   "source": [
    "f=torch.sigmoid(lin)\n",
    "print(f)"
   ]
  },
  {
   "cell_type": "code",
   "execution_count": 70,
   "id": "unknown-daily",
   "metadata": {},
   "outputs": [
    {
     "name": "stdout",
     "output_type": "stream",
     "text": [
      "tensor([[-0.5395],\n",
      "        [ 0.4735],\n",
      "        [ 0.4774],\n",
      "        [-0.5256]], grad_fn=<SubBackward0>)\n"
     ]
    }
   ],
   "source": [
    "r=(f-y)\n",
    "print(r)"
   ]
  },
  {
   "cell_type": "code",
   "execution_count": 71,
   "id": "royal-demographic",
   "metadata": {},
   "outputs": [
    {
     "name": "stdout",
     "output_type": "stream",
     "text": [
      "tensor(1.0194, grad_fn=<SumBackward0>)\n"
     ]
    }
   ],
   "source": [
    "loss=(r**2).sum()\n",
    "print(loss)"
   ]
  },
  {
   "cell_type": "markdown",
   "id": "center-owner",
   "metadata": {},
   "source": [
    "# pyTorch Neural Networks"
   ]
  },
  {
   "cell_type": "code",
   "execution_count": 72,
   "id": "developmental-young",
   "metadata": {},
   "outputs": [
    {
     "name": "stdout",
     "output_type": "stream",
     "text": [
      "torch.Size([100, 1])\n"
     ]
    },
    {
     "data": {
      "image/png": "[encoded data removed]",
      "text/plain": [
       "<Figure size 432x288 with 1 Axes>"
      ]
     },
     "metadata": {
      "needs_background": "light"
     },
     "output_type": "display_data"
    }
   ],
   "source": [
    "x=torch.linspace(-5,5,100).view(100,1)\n",
    "print(x.shape)\n",
    "y_target=torch.sin(x)\n",
    "loss_fn=nn.MSELoss()\n",
    "plot(x,y_target)"
   ]
  },
  {
   "cell_type": "code",
   "execution_count": 73,
   "id": "statistical-function",
   "metadata": {},
   "outputs": [],
   "source": [
    "class Net(nn.Module):\n",
    "    def __init__(self,input_size,output_size):\n",
    "        super(Net,self).__init__()\n",
    "        self.fc1=nn.Linear(input_size,32)\n",
    "        self.fc2=nn.Linear(32,32)\n",
    "        self.fc3=nn.Linear(32,output_size)\n",
    "    def forward(self,x):\n",
    "        h1=F.relu(self.fc1(x))\n",
    "        h2=F.relu(self.fc2(h1))\n",
    "        y=self.fc3(h2)\n",
    "        return y"
   ]
  },
  {
   "cell_type": "code",
   "execution_count": 74,
   "id": "cognitive-guess",
   "metadata": {},
   "outputs": [
    {
     "name": "stdout",
     "output_type": "stream",
     "text": [
      "Net(\n",
      "  (fc1): Linear(in_features=1, out_features=32, bias=True)\n",
      "  (fc2): Linear(in_features=32, out_features=32, bias=True)\n",
      "  (fc3): Linear(in_features=32, out_features=1, bias=True)\n",
      ")\n"
     ]
    }
   ],
   "source": [
    "net=Net(input_size=1,output_size=1)\n",
    "print(net)"
   ]
  },
  {
   "cell_type": "code",
   "execution_count": 75,
   "id": "verified-import",
   "metadata": {},
   "outputs": [
    {
     "name": "stdout",
     "output_type": "stream",
     "text": [
      "torch.Size([100, 1])\n"
     ]
    }
   ],
   "source": [
    "y=net(x)\n",
    "print(y.shape)"
   ]
  },
  {
   "cell_type": "code",
   "execution_count": 76,
   "id": "genuine-billy",
   "metadata": {},
   "outputs": [
    {
     "data": {
      "image/png": "[encoded data removed]",
      "text/plain": [
       "<Figure size 432x288 with 1 Axes>"
      ]
     },
     "metadata": {
      "needs_background": "light"
     },
     "output_type": "display_data"
    }
   ],
   "source": [
    "plot(x.detach().numpy(),y.detach().numpy(),ylim=(-1,1),xlim=(-5,5))"
   ]
  },
  {
   "cell_type": "code",
   "execution_count": 77,
   "id": "worldwide-nebraska",
   "metadata": {},
   "outputs": [
    {
     "name": "stdout",
     "output_type": "stream",
     "text": [
      "fc1.weight \t torch.Size([32, 1])\n",
      "fc1.bias \t torch.Size([32])\n",
      "fc2.weight \t torch.Size([32, 32])\n",
      "fc2.bias \t torch.Size([32])\n",
      "fc3.weight \t torch.Size([1, 32])\n",
      "fc3.bias \t torch.Size([1])\n"
     ]
    }
   ],
   "source": [
    "for name,p in net.named_parameters():\n",
    "    print(name,\"\\t\",p.shape)"
   ]
  },
  {
   "cell_type": "code",
   "execution_count": 78,
   "id": "distinguished-vinyl",
   "metadata": {},
   "outputs": [
    {
     "name": "stdout",
     "output_type": "stream",
     "text": [
      "None\n"
     ]
    }
   ],
   "source": [
    "print(net.fc1.bias.grad)"
   ]
  },
  {
   "cell_type": "code",
   "execution_count": 79,
   "id": "human-animation",
   "metadata": {},
   "outputs": [
    {
     "name": "stdout",
     "output_type": "stream",
     "text": [
      "tensor(67.6857, grad_fn=<SumBackward0>)\n",
      "tensor(67.6857)\n"
     ]
    }
   ],
   "source": [
    "loss=((y-y_target)**2).sum()\n",
    "print(loss)\n",
    "print(loss.data)"
   ]
  },
  {
   "cell_type": "code",
   "execution_count": 80,
   "id": "spectacular-ceramic",
   "metadata": {},
   "outputs": [],
   "source": [
    "loss.backward()"
   ]
  },
  {
   "cell_type": "code",
   "execution_count": 81,
   "id": "arbitrary-pattern",
   "metadata": {},
   "outputs": [],
   "source": [
    "for p in net.parameters():\n",
    "    p.data.add(-0.001*p.grad)\n",
    "    p.grad.data.zero_()"
   ]
  },
  {
   "cell_type": "code",
   "execution_count": 82,
   "id": "disciplinary-sympathy",
   "metadata": {},
   "outputs": [
    {
     "data": {
      "image/png": "[encoded data removed]",
      "text/plain": [
       "<Figure size 432x288 with 1 Axes>"
      ]
     },
     "metadata": {
      "needs_background": "light"
     },
     "output_type": "display_data"
    }
   ],
   "source": [
    "plot(x.detach().numpy(),y.detach().numpy(),ylim=(-1,1),xlim=(-5,5))"
   ]
  },
  {
   "cell_type": "code",
   "execution_count": 83,
   "id": "abstract-highlight",
   "metadata": {},
   "outputs": [],
   "source": [
    "for _ in range(100):\n",
    "    y=net(x)\n",
    "    loss=((y-y_target)**2).sum()\n",
    "    loss.backward()\n",
    "    for p in net.parameters():\n",
    "        p.data.add_(-0.001*p.grad)\n",
    "        p.grad.data.zero_()"
   ]
  },
  {
   "cell_type": "code",
   "execution_count": 84,
   "id": "played-layout",
   "metadata": {},
   "outputs": [
    {
     "data": {
      "image/png": "[encoded data removed]",
      "text/plain": [
       "<Figure size 432x288 with 1 Axes>"
      ]
     },
     "metadata": {
      "needs_background": "light"
     },
     "output_type": "display_data"
    }
   ],
   "source": [
    "plot(x.detach().numpy(),y.detach().numpy(),ylim=(-1,1),xlim=(-5,5))"
   ]
  },
  {
   "cell_type": "code",
   "execution_count": 85,
   "id": "internal-partner",
   "metadata": {},
   "outputs": [
    {
     "data": {
      "text/plain": [
       "tensor(0.0867)"
      ]
     },
     "execution_count": 85,
     "metadata": {},
     "output_type": "execute_result"
    }
   ],
   "source": [
    "loss_fn=nn.MSELoss()\n",
    "loss_fn(torch.Tensor([1.4,3.3,1.9]),torch.Tensor([1,3,2]))"
   ]
  },
  {
   "cell_type": "code",
   "execution_count": 86,
   "id": "generic-clearing",
   "metadata": {},
   "outputs": [],
   "source": [
    "net=Net(input_size=1,output_size=1)\n",
    "for _ in range(1000):\n",
    "    y=net(x)\n",
    "    loss=loss_fn(y,y_target)\n",
    "    loss.backward()\n",
    "    for p in net.parameters():\n",
    "        p.data.add_(-0.001*p.grad)\n",
    "        p.grad.data.zero_()"
   ]
  },
  {
   "cell_type": "code",
   "execution_count": 87,
   "id": "broadband-shelf",
   "metadata": {},
   "outputs": [
    {
     "data": {
      "image/png": "[encoded data removed]",
      "text/plain": [
       "<Figure size 432x288 with 1 Axes>"
      ]
     },
     "metadata": {
      "needs_background": "light"
     },
     "output_type": "display_data"
    }
   ],
   "source": [
    "plot(x.detach().numpy(),y.detach().numpy(),ylim=(-1,1),xlim=(-5,5))"
   ]
  },
  {
   "cell_type": "code",
   "execution_count": 88,
   "id": "absent-blond",
   "metadata": {},
   "outputs": [],
   "source": [
    "net=Net(input_size=1,output_size=1)\n",
    "optimizer=optim.Adam(net.parameters(),lr=1e-3)\n",
    "\n",
    "x=torch.linspace(-5,5,100).view(100,1)\n",
    "y=net(x)\n",
    "y_target=torch.sin(x)\n",
    "loss_fn=nn.MSELoss()"
   ]
  },
  {
   "cell_type": "code",
   "execution_count": 89,
   "id": "infrared-protest",
   "metadata": {},
   "outputs": [
    {
     "data": {
      "image/png": "[encoded data removed]",
      "text/plain": [
       "<Figure size 432x288 with 1 Axes>"
      ]
     },
     "metadata": {
      "needs_background": "light"
     },
     "output_type": "display_data"
    }
   ],
   "source": [
    "plot(x.detach().numpy(),y.detach().numpy(),ylim=(-1,1),xlim=(-5,5))"
   ]
  },
  {
   "cell_type": "code",
   "execution_count": 90,
   "id": "dangerous-broadcasting",
   "metadata": {},
   "outputs": [],
   "source": [
    "for _ in range(100):\n",
    "    y=net(x)\n",
    "    loss=loss_fn(y,y_target)\n",
    "    \n",
    "    optimizer.zero_grad()\n",
    "    loss.backward()\n",
    "    optimizer.step()"
   ]
  },
  {
   "cell_type": "code",
   "execution_count": 91,
   "id": "conditional-excuse",
   "metadata": {},
   "outputs": [
    {
     "data": {
      "image/png": "[encoded data removed]",
      "text/plain": [
       "<Figure size 432x288 with 1 Axes>"
      ]
     },
     "metadata": {
      "needs_background": "light"
     },
     "output_type": "display_data"
    }
   ],
   "source": [
    "plot(x.detach().numpy(),y.detach().numpy(),ylim=(-1,1),xlim=(-5,5))"
   ]
  },
  {
   "cell_type": "markdown",
   "id": "obvious-excuse",
   "metadata": {},
   "source": [
    "# pyTorch CUDA"
   ]
  },
  {
   "cell_type": "code",
   "execution_count": 231,
   "id": "acceptable-swiss",
   "metadata": {},
   "outputs": [
    {
     "name": "stdout",
     "output_type": "stream",
     "text": [
      "True\n"
     ]
    }
   ],
   "source": [
    "print(torch.cuda.is_available())"
   ]
  },
  {
   "cell_type": "code",
   "execution_count": 232,
   "id": "buried-steal",
   "metadata": {},
   "outputs": [
    {
     "name": "stdout",
     "output_type": "stream",
     "text": [
      "tensor([[1., 1., 1.],\n",
      "        [1., 1., 1.]], device='cuda:0')\n"
     ]
    }
   ],
   "source": [
    "device=torch.device(\"cuda\")\n",
    "y=torch.ones((2,3),device=device)\n",
    "print(y)"
   ]
  },
  {
   "cell_type": "code",
   "execution_count": 38,
   "id": "defensive-visitor",
   "metadata": {},
   "outputs": [
    {
     "name": "stdout",
     "output_type": "stream",
     "text": [
      "tensor([[1., 1., 1.],\n",
      "        [1., 1., 1.]], device='cuda:0')\n"
     ]
    }
   ],
   "source": [
    "device=torch.device(\"cuda\")\n",
    "x=torch.zeros((2,3))\n",
    "y=torch.ones((2,3),device=device)\n",
    "x=x.to(device)\n",
    "z=x+y\n",
    "print(z)"
   ]
  },
  {
   "cell_type": "code",
   "execution_count": 39,
   "id": "according-designer",
   "metadata": {},
   "outputs": [
    {
     "ename": "TypeError",
     "evalue": "can't convert CUDA tensor to numpy. Use Tensor.cpu() to copy the tensor to host memory first.",
     "output_type": "error",
     "traceback": [
      "\u001b[0;31m---------------------------------------------------------------------------\u001b[0m",
      "\u001b[0;31mTypeError\u001b[0m                                 Traceback (most recent call last)",
      "\u001b[0;32m<ipython-input-39-545f895c5ddc>\u001b[0m in \u001b[0;36m<module>\u001b[0;34m\u001b[0m\n\u001b[0;32m----> 1\u001b[0;31m \u001b[0mz\u001b[0m\u001b[0;34m.\u001b[0m\u001b[0mnumpy\u001b[0m\u001b[0;34m(\u001b[0m\u001b[0;34m)\u001b[0m\u001b[0;34m\u001b[0m\u001b[0;34m\u001b[0m\u001b[0m\n\u001b[0m",
      "\u001b[0;31mTypeError\u001b[0m: can't convert CUDA tensor to numpy. Use Tensor.cpu() to copy the tensor to host memory first."
     ]
    }
   ],
   "source": [
    "z.numpy()"
   ]
  },
  {
   "cell_type": "code",
   "execution_count": 235,
   "id": "patient-juice",
   "metadata": {},
   "outputs": [
    {
     "data": {
      "text/plain": [
       "array([[1., 1., 1.],\n",
       "       [1., 1., 1.]], dtype=float32)"
      ]
     },
     "execution_count": 235,
     "metadata": {},
     "output_type": "execute_result"
    }
   ],
   "source": [
    "z_cpu=z.to(\"cpu\")\n",
    "z_cpu.numpy()"
   ]
  },
  {
   "cell_type": "markdown",
   "id": "desperate-certificate",
   "metadata": {},
   "source": [
    "# pyTorch Distributions"
   ]
  },
  {
   "cell_type": "code",
   "execution_count": 236,
   "id": "statistical-torture",
   "metadata": {},
   "outputs": [],
   "source": [
    "mean=torch.zeros(1,requires_grad=True)\n",
    "std=torch.ones(1,requires_grad=True)\n",
    "gaussian=distributions.Normal(mean,std)"
   ]
  },
  {
   "cell_type": "code",
   "execution_count": 237,
   "id": "active-lightweight",
   "metadata": {},
   "outputs": [
    {
     "name": "stdout",
     "output_type": "stream",
     "text": [
      "tensor([[-1.1572],\n",
      "        [-0.0663],\n",
      "        [-1.0275],\n",
      "        [-1.2524],\n",
      "        [ 0.1197],\n",
      "        [-0.5502],\n",
      "        [-1.5589],\n",
      "        [-0.6246],\n",
      "        [ 0.8434],\n",
      "        [ 1.0737]])\n"
     ]
    }
   ],
   "source": [
    "samples=gaussian.sample((10,))\n",
    "print(samples)"
   ]
  },
  {
   "cell_type": "code",
   "execution_count": 238,
   "id": "introductory-turkey",
   "metadata": {},
   "outputs": [
    {
     "name": "stdout",
     "output_type": "stream",
     "text": [
      "tensor([[-1.5885],\n",
      "        [-0.9211],\n",
      "        [-1.4468],\n",
      "        [-1.7032],\n",
      "        [-0.9261],\n",
      "        [-1.0703],\n",
      "        [-2.1340],\n",
      "        [-1.1140],\n",
      "        [-1.2746],\n",
      "        [-1.4954]], grad_fn=<SubBackward0>)\n"
     ]
    }
   ],
   "source": [
    "log_prob=gaussian.log_prob(samples)\n",
    "print(log_prob)"
   ]
  },
  {
   "cell_type": "code",
   "execution_count": 239,
   "id": "color-trail",
   "metadata": {},
   "outputs": [],
   "source": [
    "loss=-log_prob.sum()"
   ]
  },
  {
   "cell_type": "code",
   "execution_count": 240,
   "id": "fresh-runner",
   "metadata": {},
   "outputs": [
    {
     "name": "stdout",
     "output_type": "stream",
     "text": [
      "tensor(13.6741, grad_fn=<NegBackward>)\n"
     ]
    }
   ],
   "source": [
    "print(loss)"
   ]
  },
  {
   "cell_type": "code",
   "execution_count": 241,
   "id": "electronic-archives",
   "metadata": {},
   "outputs": [],
   "source": [
    "loss.backward()"
   ]
  },
  {
   "cell_type": "code",
   "execution_count": 242,
   "id": "threatened-boston",
   "metadata": {},
   "outputs": [
    {
     "name": "stdout",
     "output_type": "stream",
     "text": [
      "tensor([1.0306])\n",
      "tensor([4.2003])\n"
     ]
    }
   ],
   "source": [
    "print(std.grad)\n",
    "print(mean.grad)"
   ]
  },
  {
   "cell_type": "code",
   "execution_count": 243,
   "id": "mounted-enough",
   "metadata": {},
   "outputs": [],
   "source": [
    "probs=torch.tensor([0.1,0.2,0.7],requires_grad=True)"
   ]
  },
  {
   "cell_type": "code",
   "execution_count": 244,
   "id": "viral-planner",
   "metadata": {},
   "outputs": [],
   "source": [
    "dist=distributions.Categorical(probs=probs)"
   ]
  },
  {
   "cell_type": "code",
   "execution_count": 245,
   "id": "analyzed-moscow",
   "metadata": {},
   "outputs": [
    {
     "name": "stdout",
     "output_type": "stream",
     "text": [
      "tensor([1, 2, 2, 1, 2, 2, 2, 2, 2, 0, 2, 2, 2, 2, 2, 2, 2, 2, 2, 2])\n"
     ]
    }
   ],
   "source": [
    "samples=dist.sample([20])\n",
    "print(samples)"
   ]
  },
  {
   "cell_type": "code",
   "execution_count": 246,
   "id": "liquid-behalf",
   "metadata": {},
   "outputs": [
    {
     "data": {
      "text/plain": [
       "tensor([-1.6094, -0.3567, -0.3567, -1.6094, -0.3567, -0.3567, -0.3567, -0.3567,\n",
       "        -0.3567, -2.3026, -0.3567, -0.3567, -0.3567, -0.3567, -0.3567, -0.3567,\n",
       "        -0.3567, -0.3567, -0.3567, -0.3567], grad_fn=<SqueezeBackward1>)"
      ]
     },
     "execution_count": 246,
     "metadata": {},
     "output_type": "execute_result"
    }
   ],
   "source": [
    "dist.log_prob(samples)"
   ]
  },
  {
   "cell_type": "code",
   "execution_count": 252,
   "id": "revised-abuse",
   "metadata": {},
   "outputs": [],
   "source": [
    "class GaussianPolicy(nn.Module):\n",
    "    def __init__(self,input_size, output_size):\n",
    "        super(GaussianPolicy,self).__init__()\n",
    "        self.mean_fc1=nn.Linear(input_size,32)\n",
    "        self.mean_fc2=nn.Linear(32,32)\n",
    "        self.mean_fc3=nn.Linear(32,output_size)\n",
    "        self.log_std=nn.Parameter(torch.rand(output_size))\n",
    "    def forward(self,x):\n",
    "        h1=F.relu(self.mean_fc1(x))\n",
    "        h2=F.relu(self.mean_fc2(h1))\n",
    "        mean=self.mean_fc3(h2)\n",
    "        return mean,self.log_std"
   ]
  },
  {
   "cell_type": "code",
   "execution_count": 253,
   "id": "worst-option",
   "metadata": {},
   "outputs": [
    {
     "data": {
      "text/plain": [
       "<matplotlib.collections.PathCollection at 0x7f7abffb8b80>"
      ]
     },
     "execution_count": 253,
     "metadata": {},
     "output_type": "execute_result"
    },
    {
     "data": {
      "image/png": "[encoded data removed]",
      "text/plain": [
       "<Figure size 432x288 with 1 Axes>"
      ]
     },
     "metadata": {
      "needs_background": "light"
     },
     "output_type": "display_data"
    }
   ],
   "source": [
    "states=torch.rand(1000,2)-0.5\n",
    "true_means=states**3+4.5*states\n",
    "true_cov=torch.diag(torch.Tensor([0.1,0.05]))\n",
    "expert_actions=torch.distributions.MultivariateNormal(true_means,true_cov).sample()\n",
    "plt.scatter(expert_actions[:,0],expert_actions[:,1])"
   ]
  },
  {
   "cell_type": "code",
   "execution_count": 270,
   "id": "labeled-identifier",
   "metadata": {},
   "outputs": [],
   "source": [
    "from torch.utils.data import DataLoader, TensorDataset\n",
    "policy=GaussianPolicy(2,2)\n",
    "optimizer=optim.Adam(policy.parameters(),lr=0.01)\n",
    "dataset=TensorDataset(states,expert_actions)\n",
    "loader=DataLoader(dataset,batch_size=64,shuffle=True)"
   ]
  },
  {
   "cell_type": "code",
   "execution_count": 271,
   "id": "exciting-carter",
   "metadata": {},
   "outputs": [
    {
     "data": {
      "text/plain": [
       "[<matplotlib.lines.Line2D at 0x7f7ab308da00>]"
      ]
     },
     "execution_count": 271,
     "metadata": {},
     "output_type": "execute_result"
    },
    {
     "data": {
      "image/png": "[encoded data removed]",
      "text/plain": [
       "<Figure size 432x288 with 1 Axes>"
      ]
     },
     "metadata": {
      "needs_background": "light"
     },
     "output_type": "display_data"
    }
   ],
   "source": [
    "losses=[]\n",
    "for epoch in range(200):\n",
    "    epoch_loss=0\n",
    "    for curr_states, curr_actions in loader:\n",
    "        mean, log_std=policy(curr_states)\n",
    "        dist=torch.distributions.Normal(mean,torch.exp(log_std))\n",
    "        loss=-dist.log_prob(curr_actions).sum()\n",
    "        \n",
    "        optimizer.zero_grad()\n",
    "        loss.backward()\n",
    "        epoch_loss+=loss.detach().cpu().numpy().squeeze()\n",
    "        optimizer.step()\n",
    "    losses.append(epoch_loss/len(loader))\n",
    "plt.plot(losses)"
   ]
  },
  {
   "cell_type": "code",
   "execution_count": 272,
   "id": "available-wheel",
   "metadata": {},
   "outputs": [
    {
     "data": {
      "text/plain": [
       "<matplotlib.legend.Legend at 0x7f7ab2ffe310>"
      ]
     },
     "execution_count": 272,
     "metadata": {},
     "output_type": "execute_result"
    },
    {
     "data": {
      "image/png": "[encoded data removed]",
      "text/plain": [
       "<Figure size 432x288 with 1 Axes>"
      ]
     },
     "metadata": {
      "needs_background": "light"
     },
     "output_type": "display_data"
    },
    {
     "data": {
      "image/png": "[encoded data removed]",
      "text/plain": [
       "<Figure size 432x288 with 1 Axes>"
      ]
     },
     "metadata": {
      "needs_background": "light"
     },
     "output_type": "display_data"
    }
   ],
   "source": [
    "policy.eval()\n",
    "with torch.no_grad():\n",
    "    mean, log_std=policy(states)\n",
    "    dist=torch.distributions.Normal(mean,torch.exp(log_std))\n",
    "    pred_means=dist.mean.cpu().numpy()\n",
    "    pred_actions=dist.sample().cpu().numpy()\n",
    "plt.figure()\n",
    "plt.title(\"Sampled actions\")\n",
    "plt.scatter(pred_actions[:,0],pred_actions[:,1],color=\"r\",label=\"learned_policy\")\n",
    "plt.scatter(expert_actions[:,0],expert_actions[:,1],color=\"b\",label=\"expert\")\n",
    "plt.legend()\n",
    "plt.figure()\n",
    "plt.title(\"Action means\")\n",
    "plt.scatter(pred_means[:,0],pred_means[:,1],color=\"r\",label=\"learned_policy\")\n",
    "plt.scatter(true_means[:,0],true_means[:,1],color=\"b\",label=\"expert\")\n",
    "plt.legend()\n",
    "                            "
   ]
  },
  {
   "cell_type": "code",
   "execution_count": null,
   "id": "bored-grade",
   "metadata": {},
   "outputs": [],
   "source": []
  },
  {
   "cell_type": "code",
   "execution_count": null,
   "id": "boring-delhi",
   "metadata": {},
   "outputs": [],
   "source": []
  }
 ],
 "metadata": {
  "kernelspec": {
   "display_name": "Python 3 (ipykernel)",
   "language": "python",
   "name": "python3"
  },
  "language_info": {
   "codemirror_mode": {
    "name": "ipython",
    "version": 3
   },
   "file_extension": ".py",
   "mimetype": "text/x-python",
   "name": "python",
   "nbconvert_exporter": "python",
   "pygments_lexer": "ipython3",
   "version": "3.8.8"
  }
 },
 "nbformat": 4,
 "nbformat_minor": 5
}
