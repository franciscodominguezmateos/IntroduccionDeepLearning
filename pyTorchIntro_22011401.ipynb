{
 "cells": [
  {
   "cell_type": "code",
   "execution_count": 1,
   "id": "amber-vietnamese",
   "metadata": {},
   "outputs": [],
   "source": [
    "#14/01/2022\n",
    "#pyTorch intro\n",
    "#https://www.youtube.com/watch?v=kPa6hU9prg4&list=PL_iWQOsE6TfXxKgI1GgyV1B_Xa0DxE5eH&index=13\n",
    "#https://www.youtube.com/watch?v=ubSsUJbLkwM&list=PL_iWQOsE6TfXxKgI1GgyV1B_Xa0DxE5eH&index=13"
   ]
  },
  {
   "cell_type": "code",
   "execution_count": 12,
   "id": "promising-invalid",
   "metadata": {},
   "outputs": [],
   "source": [
    "import matplotlib.pyplot as plt\n",
    "import torch\n",
    "import numpy as np\n",
    "\n",
    "import torch\n",
    "import torch.nn as nn\n",
    "import torch.optim as optim\n",
    "import torch.distributions as distributions\n",
    "import torch.nn.functional as F\n",
    "\n",
    "def plot(xs, ys, xlim=(-3, 3), ylim=(-3, 3)):\n",
    "  fig, ax = plt.subplots()\n",
    "  ax.plot(xs, ys, linewidth=5)\n",
    "  # ax.set_aspect('equal')\n",
    "  ax.grid(True, which='both')\n",
    "  \n",
    "  ax.axhline(y=0, color='k')\n",
    "  ax.axvline(x=0, color='k')\n",
    "  ax.set_xlim(*xlim)\n",
    "  ax.set_ylim(*ylim)"
   ]
  },
  {
   "cell_type": "code",
   "execution_count": 4,
   "id": "tamil-series",
   "metadata": {},
   "outputs": [
    {
     "name": "stdout",
     "output_type": "stream",
     "text": [
      "tensor([[0., 0., 0.],\n",
      "        [0., 0., 0.]])\n",
      "tensor([[1., 1., 1.],\n",
      "        [1., 1., 1.]])\n",
      "tensor([[1., 1., 1.],\n",
      "        [1., 1., 1.]])\n"
     ]
    }
   ],
   "source": [
    "x=torch.zeros(2,3)\n",
    "y=torch.ones(2,3)\n",
    "z=x+y\n",
    "print(x)\n",
    "print(y)\n",
    "print(z)"
   ]
  },
  {
   "cell_type": "code",
   "execution_count": 5,
   "id": "visible-broad",
   "metadata": {},
   "outputs": [
    {
     "name": "stdout",
     "output_type": "stream",
     "text": [
      "tensor([3., 3.])\n",
      "tensor([2., 2., 2.])\n"
     ]
    }
   ],
   "source": [
    "print(torch.sum(z,dim=1))\n",
    "print(torch.sum(z,dim=0))"
   ]
  },
  {
   "cell_type": "code",
   "execution_count": 7,
   "id": "passing-vision",
   "metadata": {},
   "outputs": [
    {
     "name": "stdout",
     "output_type": "stream",
     "text": [
      "tensor([[1.],\n",
      "        [1.],\n",
      "        [1.]])\n",
      "tensor([[1., 1., 1.]])\n",
      "tensor([[2., 2., 2.],\n",
      "        [2., 2., 2.],\n",
      "        [2., 2., 2.]])\n"
     ]
    }
   ],
   "source": [
    "x=torch.ones((3,1))\n",
    "y=torch.ones((1,3))\n",
    "z=x+y\n",
    "print(x)\n",
    "print(y)\n",
    "print(z)"
   ]
  },
  {
   "cell_type": "code",
   "execution_count": 9,
   "id": "committed-payment",
   "metadata": {},
   "outputs": [
    {
     "name": "stdout",
     "output_type": "stream",
     "text": [
      "[[-1.16163907  0.99413975 -1.53711718]\n",
      " [-0.82855657 -0.02153692  1.26747739]]\n"
     ]
    }
   ],
   "source": [
    "x_np=np.random.randn(2,3)\n",
    "print(x_np)"
   ]
  },
  {
   "cell_type": "code",
   "execution_count": 10,
   "id": "international-death",
   "metadata": {},
   "outputs": [
    {
     "name": "stdout",
     "output_type": "stream",
     "text": [
      "tensor([[-1.1616,  0.9941, -1.5371],\n",
      "        [-0.8286, -0.0215,  1.2675]], dtype=torch.float64)\n"
     ]
    }
   ],
   "source": [
    "x=torch.from_numpy(x_np)\n",
    "print(x)"
   ]
  },
  {
   "cell_type": "code",
   "execution_count": 11,
   "id": "embedded-timothy",
   "metadata": {},
   "outputs": [
    {
     "name": "stdout",
     "output_type": "stream",
     "text": [
      "tensor([[ 0.0000,  0.9941, -1.5371],\n",
      "        [-0.8286, -0.0215,  1.2675]], dtype=torch.float64)\n"
     ]
    }
   ],
   "source": [
    "x_np[0,0]=0\n",
    "print(x)"
   ]
  },
  {
   "cell_type": "code",
   "execution_count": 14,
   "id": "celtic-patrol",
   "metadata": {},
   "outputs": [
    {
     "data": {
      "image/png": "[encoded data removed]",
      "text/plain": [
       "<Figure size 432x288 with 1 Axes>"
      ]
     },
     "metadata": {
      "needs_background": "light"
     },
     "output_type": "display_data"
    },
    {
     "data": {
      "image/png": "[encoded data removed]",
      "text/plain": [
       "<Figure size 432x288 with 1 Axes>"
      ]
     },
     "metadata": {
      "needs_background": "light"
     },
     "output_type": "display_data"
    },
    {
     "data": {
      "image/png": "[encoded data removed]",
      "text/plain": [
       "<Figure size 432x288 with 1 Axes>"
      ]
     },
     "metadata": {
      "needs_background": "light"
     },
     "output_type": "display_data"
    }
   ],
   "source": [
    "xs=torch.linspace(-3,3,100)\n",
    "ys=torch.relu(xs)\n",
    "plot(xs.numpy(),ys.numpy())\n",
    "ys=torch.sigmoid(xs)\n",
    "plot(xs.numpy(),ys.numpy())\n",
    "ys=torch.tanh(xs)\n",
    "plot(xs.numpy(),ys.numpy())"
   ]
  }
 ],
 "metadata": {
  "kernelspec": {
   "display_name": "Python 3",
   "language": "python",
   "name": "python3"
  },
  "language_info": {
   "codemirror_mode": {
    "name": "ipython",
    "version": 3
   },
   "file_extension": ".py",
   "mimetype": "text/x-python",
   "name": "python",
   "nbconvert_exporter": "python",
   "pygments_lexer": "ipython3",
   "version": "3.8.8"
  }
 },
 "nbformat": 4,
 "nbformat_minor": 5
}
