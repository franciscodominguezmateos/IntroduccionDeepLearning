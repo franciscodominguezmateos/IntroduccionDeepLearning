{
 "cells": [
  {
   "cell_type": "code",
   "execution_count": 1,
   "id": "flexible-major",
   "metadata": {},
   "outputs": [],
   "source": [
    "#15/01/2022\n",
    "# Francisco Domínguez Mateos\n",
    "# Fourier Features Net and Nerf\n",
    "# From: https://github.com/matajoh/fourier_feature_nets"
   ]
  },
  {
   "cell_type": "code",
   "execution_count": 12,
   "id": "recorded-madonna",
   "metadata": {},
   "outputs": [],
   "source": [
    "from collections import namedtuple\n",
    "import copy\n",
    "import csv\n",
    "import os\n",
    "\n",
    "#import cv2\n",
    "#import fourier_feature_nets as ffn\n",
    "import numpy as np\n",
    "import matplotlib.pyplot as plt\n",
    "#from ipywidgets import interact, fixed\n",
    "#import scenepic as sp\n",
    "import torch\n",
    "#from visualizations import camera_to_world, VolumeRaycastingAnimation, world_to_camera, voxels_animation\n",
    "\n",
    "device = \"cuda\"\n",
    "\n",
    "%matplotlib inline"
   ]
  },
  {
   "cell_type": "code",
   "execution_count": 6,
   "id": "cognitive-maryland",
   "metadata": {},
   "outputs": [
    {
     "data": {
      "text/plain": [
       "[<matplotlib.lines.Line2D at 0x7f7ee29a1220>]"
      ]
     },
     "execution_count": 6,
     "metadata": {},
     "output_type": "execute_result"
    },
    {
     "data": {
      "image/png": "[encoded data removed]",
      "text/plain": [
       "<Figure size 432x288 with 1 Axes>"
      ]
     },
     "metadata": {
      "needs_background": "light"
     },
     "output_type": "display_data"
    }
   ],
   "source": [
    "def func(t):\n",
    "    return 2 + np.sin(t * np.pi) + 0.5*np.sin(2*t*np.pi) - 0.2*np.cos(5*t*np.pi)\n",
    "\n",
    "num_samples = 32\n",
    "sample_rate = 8\n",
    "t = np.linspace(0, 2, num_samples * sample_rate)\n",
    "y = func(t)\n",
    "plt.xlabel(\"t\")\n",
    "plt.ylabel(\"y(t)\")\n",
    "plt.plot(t, y)"
   ]
  },
  {
   "cell_type": "code",
   "execution_count": 7,
   "id": "expanded-snapshot",
   "metadata": {},
   "outputs": [
    {
     "data": {
      "text/plain": [
       "<matplotlib.legend.Legend at 0x7f7ee294e580>"
      ]
     },
     "execution_count": 7,
     "metadata": {},
     "output_type": "execute_result"
    },
    {
     "data": {
      "image/png": "[encoded data removed]",
      "text/plain": [
       "<Figure size 432x432 with 1 Axes>"
      ]
     },
     "metadata": {
      "needs_background": "light"
     },
     "output_type": "display_data"
    }
   ],
   "source": [
    "Y = np.fft.fft(y)\n",
    "num_freqs = 4\n",
    "order = np.argsort(np.abs(Y[:num_samples // 2]))[::-1]\n",
    "freqs = np.fft.fftfreq(num_samples * sample_rate)\n",
    "\n",
    "select = order[:4].tolist() + [-i for i in order[:4]]\n",
    "plt.figure(figsize=(6, 6))\n",
    "plt.xticks(np.arange(-5, 6))\n",
    "plt.xlabel(\"$\\omega$\")\n",
    "plt.ylabel(\"$F(\\omega)$\")\n",
    "plt.scatter(freqs[select] * len(freqs), Y[select].real / len(freqs), label=\"real\")\n",
    "plt.scatter(freqs[select] * len(freqs), Y[select].imag / len(freqs), label=\"imag\")\n",
    "plt.legend()"
   ]
  },
  {
   "cell_type": "code",
   "execution_count": 13,
   "id": "prerequisite-surgery",
   "metadata": {},
   "outputs": [],
   "source": [
    "def _plot_basis1d(basis=0):\n",
    "    subset = np.zeros_like(Y)\n",
    "    f = order[basis]\n",
    "    subset[f] = Y[f]\n",
    "    subset[-f] = Y[-f]\n",
    "    plt.figure(figsize=(10, 5))\n",
    "    plt.subplot(121)\n",
    "    plt.plot(t, np.real(np.fft.ifft(subset)))\n",
    "    plt.title(\"Basis @ {}hz\".format(len(freqs) * freqs[f]))\n",
    "    \n",
    "    for f in order[:basis]:\n",
    "        subset[f] = Y[f]\n",
    "        subset[-f] = Y[-f]\n",
    "\n",
    "    plt.subplot(122)\n",
    "    plt.plot(t, np.real(np.fft.ifft(subset)))\n",
    "    plt.plot(t, func(t))\n",
    "    plt.title(\"Reconstruction\")\n",
    "    plt.show()\n",
    "\n",
    "#interact(_plot_basis1d, basis=(0, 3))"
   ]
  },
  {
   "cell_type": "code",
   "execution_count": 14,
   "id": "communist-accounting",
   "metadata": {},
   "outputs": [],
   "source": [
    "## Hyperparameters ##\n",
    "\n",
    "num_plot = 48\n",
    "max_hidden = 10\n",
    "num_steps = 10000\n",
    "num_layers = 1\n",
    "num_channels = 64"
   ]
  },
  {
   "cell_type": "code",
   "execution_count": null,
   "id": "consistent-disposal",
   "metadata": {},
   "outputs": [],
   "source": [
    "dataset = ffn.SignalDataset.create(func, num_samples, sample_rate)\n",
    "model = ffn.MLP(1, 1, num_layers, num_channels)\n",
    "model.layers[-1].bias.data = dataset.train_y.mean()\n",
    "torch.nn.init.xavier_normal_(model.layers[-1].weight, dataset.train_y.std())"
   ]
  }
 ],
 "metadata": {
  "kernelspec": {
   "display_name": "Python 3",
   "language": "python",
   "name": "python3"
  },
  "language_info": {
   "codemirror_mode": {
    "name": "ipython",
    "version": 3
   },
   "file_extension": ".py",
   "mimetype": "text/x-python",
   "name": "python",
   "nbconvert_exporter": "python",
   "pygments_lexer": "ipython3",
   "version": "3.8.8"
  }
 },
 "nbformat": 4,
 "nbformat_minor": 5
}
