{
 "cells": [
  {
   "cell_type": "code",
   "execution_count": 1,
   "id": "changing-breathing",
   "metadata": {},
   "outputs": [],
   "source": [
    "#15/01/2022\n",
    "# Francisco Domínguez Mateos\n",
    "# Fourier Features Net and Nerf\n",
    "# From: https://github.com/matajoh/fourier_feature_nets"
   ]
  },
  {
   "cell_type": "code",
   "execution_count": null,
   "id": "political-prefix",
   "metadata": {},
   "outputs": [],
   "source": []
  }
 ],
 "metadata": {
  "kernelspec": {
   "display_name": "Python 3",
   "language": "python",
   "name": "python3"
  },
  "language_info": {
   "codemirror_mode": {
    "name": "ipython",
    "version": 3
   },
   "file_extension": ".py",
   "mimetype": "text/x-python",
   "name": "python",
   "nbconvert_exporter": "python",
   "pygments_lexer": "ipython3",
   "version": "3.8.8"
  }
 },
 "nbformat": 4,
 "nbformat_minor": 5
}
