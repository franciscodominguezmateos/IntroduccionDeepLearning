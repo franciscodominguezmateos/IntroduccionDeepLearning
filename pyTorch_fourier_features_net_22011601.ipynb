{
 "cells": [
  {
   "cell_type": "code",
   "execution_count": 1,
   "id": "former-palace",
   "metadata": {},
   "outputs": [],
   "source": [
    "# 16/01/2022\n",
    "# Francisco Domínguez Mateos\n",
    "# Fourier Features Net and Nerf\n",
    "# From: https://github.com/matajoh/fourier_feature_nets\n",
    "#       https://colab.research.google.com/github/ndahlquist/pytorch-fourier-feature-networks/blob/master/demo.ipynb"
   ]
  },
  {
   "cell_type": "code",
   "execution_count": 2,
   "id": "brazilian-surgery",
   "metadata": {},
   "outputs": [],
   "source": [
    "import matplotlib.pyplot as plt\n",
    "import torch\n",
    "import numpy as np\n",
    "\n",
    "import torch\n",
    "import torch.nn as nn\n",
    "import torch.optim as optim\n",
    "import torch.distributions as distributions\n",
    "import torch.nn.functional as F\n",
    "\n",
    "#from tqdm.notebook import tqdm as tqdm"
   ]
  },
  {
   "cell_type": "code",
   "execution_count": 3,
   "id": "detected-luther",
   "metadata": {},
   "outputs": [
    {
     "name": "stdout",
     "output_type": "stream",
     "text": [
      "cuda\n"
     ]
    }
   ],
   "source": [
    "device = torch.device(\"cuda\" if torch.cuda.is_available() else \"cpu\")\n",
    "print(device)"
   ]
  },
  {
   "cell_type": "code",
   "execution_count": 4,
   "id": "selective-shelter",
   "metadata": {},
   "outputs": [],
   "source": [
    "def img_tensor_to_numpy(tensor: torch.Tensor) -> np.ndarray:\n",
    "    tensor = tensor * 256\n",
    "    tensor[tensor > 255] = 255\n",
    "    tensor[tensor < 0] = 0\n",
    "    tensor = tensor.type(torch.uint8).permute(1, 2, 0).cpu().numpy()\n",
    "\n",
    "    return tensor\n",
    "\n",
    "def plot(xs, ys, xlim=(-3, 3), ylim=(-3, 3)):\n",
    "  fig, ax = plt.subplots()\n",
    "  ax.plot(xs, ys, linewidth=5)\n",
    "  # ax.set_aspect('equal')\n",
    "  ax.grid(True, which='both')\n",
    "  \n",
    "  ax.axhline(y=0, color='k')\n",
    "  ax.axvline(x=0, color='k')\n",
    "  ax.set_xlim(*xlim)\n",
    "  ax.set_ylim(*ylim)"
   ]
  },
  {
   "cell_type": "code",
   "execution_count": 5,
   "id": "stainless-culture",
   "metadata": {},
   "outputs": [
    {
     "data": {
      "text/plain": [
       "[<matplotlib.lines.Line2D at 0x7f277f940c10>]"
      ]
     },
     "execution_count": 5,
     "metadata": {},
     "output_type": "execute_result"
    },
    {
     "data": {
      "image/png": "[encoded data removed]",
      "text/plain": [
       "<Figure size 432x288 with 1 Axes>"
      ]
     },
     "metadata": {
      "needs_background": "light"
     },
     "output_type": "display_data"
    }
   ],
   "source": [
    "def func(t):\n",
    "    return 2 + np.sin(t * np.pi) + 0.5*np.sin(2*t*np.pi) - 0.2*np.cos(5*t*np.pi)\n",
    "\n",
    "num_samples = 10\n",
    "sample_rate = 10\n",
    "x_np = np.linspace(0, 4, num_samples * sample_rate, endpoint=False)\n",
    "y_np = func(x_np)\n",
    "x=torch.tensor(x_np).float().contiguous().view(-1,1).to(device)\n",
    "y=torch.tensor(y_np).float().contiguous().view(-1,1).to(device)\n",
    "plt.xlabel(\"x\")\n",
    "plt.ylabel(\"y(x)\")\n",
    "plt.plot(x_np, y_np)"
   ]
  },
  {
   "cell_type": "code",
   "execution_count": 6,
   "id": "express-drilling",
   "metadata": {},
   "outputs": [
    {
     "data": {
      "text/plain": [
       "torch.Size([100, 1])"
      ]
     },
     "execution_count": 6,
     "metadata": {},
     "output_type": "execute_result"
    }
   ],
   "source": [
    "x.shape"
   ]
  },
  {
   "cell_type": "code",
   "execution_count": 7,
   "id": "verified-commander",
   "metadata": {},
   "outputs": [
    {
     "data": {
      "text/plain": [
       "torch.Size([100, 1])"
      ]
     },
     "execution_count": 7,
     "metadata": {},
     "output_type": "execute_result"
    }
   ],
   "source": [
    "y.shape"
   ]
  },
  {
   "cell_type": "code",
   "execution_count": 8,
   "id": "affected-third",
   "metadata": {},
   "outputs": [],
   "source": [
    "model=nn.Sequential(\n",
    "    nn.Linear(1,32),\n",
    "    nn.ReLU(),\n",
    "    nn.Linear(32,32),\n",
    "    nn.ReLU(),\n",
    "    nn.Linear(32,1)\n",
    ").to(device)"
   ]
  },
  {
   "cell_type": "code",
   "execution_count": 9,
   "id": "plain-staff",
   "metadata": {},
   "outputs": [
    {
     "name": "stdout",
     "output_type": "stream",
     "text": [
      "Epoch 0, loss = 1.940\n",
      "Epoch 1000, loss = 0.660\n",
      "Epoch 2000, loss = 0.541\n",
      "Epoch 3000, loss = 0.503\n"
     ]
    },
    {
     "data": {
      "text/plain": [
       "[<matplotlib.lines.Line2D at 0x7f2776cf17f0>]"
      ]
     },
     "execution_count": 9,
     "metadata": {},
     "output_type": "execute_result"
    },
    {
     "data": {
      "image/png": "[encoded data removed]",
      "text/plain": [
       "<Figure size 432x288 with 1 Axes>"
      ]
     },
     "metadata": {
      "needs_background": "light"
     },
     "output_type": "display_data"
    }
   ],
   "source": [
    "optimizer = torch.optim.Adam(list(model.parameters()), lr=1e-4)\n",
    "\n",
    "#for epoch in tqdm(range(400)):\n",
    "for epoch in range(4000):\n",
    "    optimizer.zero_grad()\n",
    "\n",
    "    generated = model(x)\n",
    "\n",
    "    loss = torch.nn.functional.l1_loss(y, generated)\n",
    "\n",
    "    loss.backward()\n",
    "    optimizer.step()\n",
    "\n",
    "    if epoch % 1000 == 0:\n",
    "        print('Epoch %d, loss = %.03f' % (epoch, float(loss)))\n",
    "plt.xlabel(\"x\")\n",
    "plt.ylabel(\"y(x)\")\n",
    "pred_np=generated.cpu().detach().numpy()\n",
    "plt.plot(x_np, pred_np)"
   ]
  },
  {
   "cell_type": "code",
   "execution_count": 49,
   "id": "moral-rouge",
   "metadata": {},
   "outputs": [
    {
     "name": "stdout",
     "output_type": "stream",
     "text": [
      "torch.Size([1, 32])\n",
      "torch.Size([100, 1])\n",
      "torch.Size([100, 64])\n"
     ]
    }
   ],
   "source": [
    "scale=10\n",
    "B = (torch.randn((1, 32)) * scale).to(device)\n",
    "encoded=2*np.pi*x @ B\n",
    "encoded=torch.cat([torch.sin(encoded),torch.cos(encoded)],dim=1)\n",
    "print(B.shape)\n",
    "print(x.shape)\n",
    "print(encoded.shape)"
   ]
  },
  {
   "cell_type": "code",
   "execution_count": 44,
   "id": "binary-reviewer",
   "metadata": {},
   "outputs": [
    {
     "name": "stdout",
     "output_type": "stream",
     "text": [
      "tensor([[ 0.0000, -0.0000, -0.0000,  ...,  1.0000,  1.0000,  1.0000],\n",
      "        [-0.9393, -0.9955, -0.5342,  ..., -0.6768,  0.0416, -0.9957],\n",
      "        [ 0.6445, -0.1877, -0.9031,  ..., -0.0839, -0.9965,  0.9829],\n",
      "        ...,\n",
      "        [ 0.8299,  0.9640,  0.9503,  ..., -0.1455, -0.7775,  0.9007],\n",
      "        [ 0.2393, -0.1740,  0.9697,  ...,  0.8268,  0.5960, -0.9370],\n",
      "        [-0.9941, -0.9968,  0.6892,  ..., -0.9737,  0.8271,  0.9653]],\n",
      "       device='cuda:0')\n"
     ]
    }
   ],
   "source": [
    "print(encoded)"
   ]
  },
  {
   "cell_type": "code",
   "execution_count": 50,
   "id": "oriental-warren",
   "metadata": {},
   "outputs": [],
   "source": [
    "model=nn.Sequential(\n",
    "    nn.Linear(64,32),\n",
    "    nn.ReLU(),\n",
    "    nn.Linear(32,32),\n",
    "    nn.ReLU(),\n",
    "    nn.Linear(32,1)\n",
    ").to(device)"
   ]
  },
  {
   "cell_type": "code",
   "execution_count": 48,
   "id": "effective-series",
   "metadata": {},
   "outputs": [
    {
     "name": "stdout",
     "output_type": "stream",
     "text": [
      "Epoch 0, loss = 1.984\n",
      "Epoch 1000, loss = 0.001\n",
      "Epoch 2000, loss = 0.001\n",
      "Epoch 3000, loss = 0.001\n"
     ]
    },
    {
     "data": {
      "text/plain": [
       "[<matplotlib.lines.Line2D at 0x7f277610afa0>]"
      ]
     },
     "execution_count": 48,
     "metadata": {},
     "output_type": "execute_result"
    },
    {
     "data": {
      "image/png": "[encoded data removed]",
      "text/plain": [
       "<Figure size 432x288 with 1 Axes>"
      ]
     },
     "metadata": {
      "needs_background": "light"
     },
     "output_type": "display_data"
    }
   ],
   "source": [
    "optimizer = torch.optim.Adam(list(model.parameters()), lr=1e-4)\n",
    "\n",
    "#for epoch in tqdm(range(400)):\n",
    "for epoch in range(4000):\n",
    "    optimizer.zero_grad()\n",
    "\n",
    "    generated = model(encoded)\n",
    "\n",
    "    loss = torch.nn.functional.l1_loss(y, generated)\n",
    "\n",
    "    loss.backward()\n",
    "    optimizer.step()\n",
    "\n",
    "    if epoch % 1000 == 0:\n",
    "        print('Epoch %d, loss = %.03f' % (epoch, float(loss)))\n",
    "plt.xlabel(\"x\")\n",
    "plt.ylabel(\"y(x)\")\n",
    "pred_np=generated.cpu().detach().numpy()\n",
    "plt.plot(x_np, pred_np)"
   ]
  },
  {
   "cell_type": "code",
   "execution_count": null,
   "id": "colonial-idaho",
   "metadata": {},
   "outputs": [],
   "source": []
  },
  {
   "cell_type": "code",
   "execution_count": null,
   "id": "virtual-slope",
   "metadata": {},
   "outputs": [],
   "source": []
  }
 ],
 "metadata": {
  "kernelspec": {
   "display_name": "Python 3",
   "language": "python",
   "name": "python3"
  },
  "language_info": {
   "codemirror_mode": {
    "name": "ipython",
    "version": 3
   },
   "file_extension": ".py",
   "mimetype": "text/x-python",
   "name": "python",
   "nbconvert_exporter": "python",
   "pygments_lexer": "ipython3",
   "version": "3.8.8"
  }
 },
 "nbformat": 4,
 "nbformat_minor": 5
}
