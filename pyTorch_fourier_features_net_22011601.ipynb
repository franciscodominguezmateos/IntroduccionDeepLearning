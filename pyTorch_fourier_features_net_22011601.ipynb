{
 "cells": [
  {
   "cell_type": "code",
   "execution_count": 1,
   "id": "tutorial-defensive",
   "metadata": {
    "jupyter": {
     "source_hidden": true
    }
   },
   "outputs": [],
   "source": [
    "# 16/01/2022\n",
    "# Francisco Domínguez Mateos\n",
    "# Fourier Features Net and Nerf\n",
    "# From: https://github.com/matajoh/fourier_feature_nets\n",
    "#       https://colab.research.google.com/github/ndahlquist/pytorch-fourier-feature-networks/blob/master/demo.ipynb"
   ]
  },
  {
   "cell_type": "code",
   "execution_count": 1,
   "id": "excellent-technique",
   "metadata": {},
   "outputs": [],
   "source": [
    "import matplotlib.pyplot as plt\n",
    "import torch\n",
    "import numpy as np\n",
    "\n",
    "import torch\n",
    "import torch.nn as nn\n",
    "import torch.optim as optim\n",
    "import torch.distributions as distributions\n",
    "import torch.nn.functional as F\n",
    "\n",
    "#from tqdm.notebook import tqdm as tqdm"
   ]
  },
  {
   "cell_type": "code",
   "execution_count": 2,
   "id": "sonic-monday",
   "metadata": {},
   "outputs": [
    {
     "name": "stdout",
     "output_type": "stream",
     "text": [
      "cuda\n"
     ]
    }
   ],
   "source": [
    "device = torch.device(\"cuda\" if torch.cuda.is_available() else \"cpu\")\n",
    "print(device)"
   ]
  },
  {
   "cell_type": "code",
   "execution_count": 3,
   "id": "aquatic-magazine",
   "metadata": {},
   "outputs": [],
   "source": [
    "def img_tensor_to_numpy(tensor: torch.Tensor) -> np.ndarray:\n",
    "    tensor = tensor * 256\n",
    "    tensor[tensor > 255] = 255\n",
    "    tensor[tensor < 0] = 0\n",
    "    tensor = tensor.type(torch.uint8).permute(1, 2, 0).cpu().numpy()\n",
    "\n",
    "    return tensor\n",
    "\n",
    "def plot(xs, ys, xlim=(-3, 3), ylim=(-3, 3)):\n",
    "  fig, ax = plt.subplots()\n",
    "  ax.plot(xs, ys, linewidth=5)\n",
    "  # ax.set_aspect('equal')\n",
    "  ax.grid(True, which='both')\n",
    "  \n",
    "  ax.axhline(y=0, color='k')\n",
    "  ax.axvline(x=0, color='k')\n",
    "  ax.set_xlim(*xlim)\n",
    "  ax.set_ylim(*ylim)"
   ]
  },
  {
   "cell_type": "code",
   "execution_count": 203,
   "id": "introductory-shape",
   "metadata": {},
   "outputs": [
    {
     "data": {
      "text/plain": [
       "[<matplotlib.lines.Line2D at 0x7f60403196a0>]"
      ]
     },
     "execution_count": 203,
     "metadata": {},
     "output_type": "execute_result"
    },
    {
     "data": {
      "image/png": "[encoded data removed]",
      "text/plain": [
       "<Figure size 432x288 with 1 Axes>"
      ]
     },
     "metadata": {
      "needs_background": "light"
     },
     "output_type": "display_data"
    }
   ],
   "source": [
    "def func(t):\n",
    "    return 2 + np.sin(t * np.pi) + 0.5*np.sin(2*t*np.pi) - 0.2*np.cos(5*t*np.pi)\n",
    "\n",
    "num_samples = 10\n",
    "sample_rate = 1\n",
    "x_np = np.linspace(0, 4, num_samples * sample_rate, endpoint=False)\n",
    "y_np = func(x_np)\n",
    "x=torch.tensor(x_np).float().contiguous().view(-1,1).to(device)\n",
    "y=torch.tensor(y_np).float().contiguous().view(-1,1).to(device)\n",
    "plt.xlabel(\"x\")\n",
    "plt.ylabel(\"y(x)\")\n",
    "plt.plot(x_np, y_np)"
   ]
  },
  {
   "cell_type": "code",
   "execution_count": 204,
   "id": "empty-little",
   "metadata": {},
   "outputs": [
    {
     "data": {
      "text/plain": [
       "torch.Size([10, 1])"
      ]
     },
     "execution_count": 204,
     "metadata": {},
     "output_type": "execute_result"
    }
   ],
   "source": [
    "x.shape"
   ]
  },
  {
   "cell_type": "code",
   "execution_count": 205,
   "id": "corresponding-sequence",
   "metadata": {},
   "outputs": [
    {
     "data": {
      "text/plain": [
       "torch.Size([10, 1])"
      ]
     },
     "execution_count": 205,
     "metadata": {},
     "output_type": "execute_result"
    }
   ],
   "source": [
    "y.shape"
   ]
  },
  {
   "cell_type": "code",
   "execution_count": 206,
   "id": "hearing-overall",
   "metadata": {},
   "outputs": [],
   "source": [
    "model=nn.Sequential(\n",
    "    nn.Linear(1,32),\n",
    "    nn.ReLU(),\n",
    "    nn.Linear(32,32),\n",
    "    nn.ReLU(),\n",
    "    nn.Linear(32,1)\n",
    ").to(device)"
   ]
  },
  {
   "cell_type": "code",
   "execution_count": 207,
   "id": "fixed-yukon",
   "metadata": {},
   "outputs": [
    {
     "name": "stdout",
     "output_type": "stream",
     "text": [
      "Epoch 0, loss = 1.931\n",
      "Epoch 1000, loss = 0.673\n",
      "Epoch 2000, loss = 0.510\n",
      "Epoch 3000, loss = 0.485\n"
     ]
    },
    {
     "data": {
      "text/plain": [
       "[<matplotlib.lines.Line2D at 0x7f60409c0400>]"
      ]
     },
     "execution_count": 207,
     "metadata": {},
     "output_type": "execute_result"
    },
    {
     "data": {
      "image/png": "[encoded data removed]",
      "text/plain": [
       "<Figure size 432x288 with 1 Axes>"
      ]
     },
     "metadata": {
      "needs_background": "light"
     },
     "output_type": "display_data"
    }
   ],
   "source": [
    "optimizer = torch.optim.Adam(list(model.parameters()), lr=1e-4)\n",
    "\n",
    "#for epoch in tqdm(range(400)):\n",
    "for epoch in range(4000):\n",
    "    optimizer.zero_grad()\n",
    "\n",
    "    generated = model(x)\n",
    "\n",
    "    loss = torch.nn.functional.l1_loss(y, generated)\n",
    "\n",
    "    loss.backward()\n",
    "    optimizer.step()\n",
    "\n",
    "    if epoch % 1000 == 0:\n",
    "        print('Epoch %d, loss = %.03f' % (epoch, float(loss)))\n",
    "plt.xlabel(\"x\")\n",
    "plt.ylabel(\"y(x)\")\n",
    "pred_np=generated.cpu().detach().numpy()\n",
    "plt.plot(x_np, pred_np)"
   ]
  },
  {
   "cell_type": "code",
   "execution_count": 208,
   "id": "infinite-dimension",
   "metadata": {},
   "outputs": [],
   "source": [
    "def encoder(x,mapping_size=32,scale=10):\n",
    "    mapping_size2=mapping_size//2\n",
    "    #B = (torch.randn((1, mapping_size2)) * scale).to(device)\n",
    "    #B = torch.eye(1,1).to(device)\n",
    "    rang=np.arange(0,mapping_size2)+1\n",
    "    B = torch.Tensor([rang]).to(device)*scale\n",
    "    encoded=2*np.pi*x @ B\n",
    "    encoded=torch.cat([torch.sin(encoded),torch.cos(encoded)],dim=1)\n",
    "    print(B.shape)\n",
    "    print(x.shape)\n",
    "    print(encoded.shape)\n",
    "    return encoded"
   ]
  },
  {
   "cell_type": "code",
   "execution_count": 214,
   "id": "comparable-bolivia",
   "metadata": {},
   "outputs": [
    {
     "name": "stdout",
     "output_type": "stream",
     "text": [
      "torch.Size([1, 8])\n",
      "torch.Size([10, 1])\n",
      "torch.Size([10, 16])\n",
      "torch.Size([1, 8])\n",
      "torch.Size([100, 1])\n",
      "torch.Size([100, 16])\n"
     ]
    }
   ],
   "source": [
    "mapping_size=16\n",
    "scale=0.1\n",
    "encoded=encoder(x,mapping_size,scale)\n",
    "x_all_np=np.linspace(0, 4, 100, endpoint=False)\n",
    "x_all=torch.tensor(x_all_np).float().contiguous().view(-1,1).to(device)\n",
    "encoded_all=encoder(x_all,mapping_size,scale)"
   ]
  },
  {
   "cell_type": "code",
   "execution_count": 215,
   "id": "convenient-longitude",
   "metadata": {},
   "outputs": [],
   "source": [
    "#print(encoded)"
   ]
  },
  {
   "cell_type": "code",
   "execution_count": 216,
   "id": "compatible-reserve",
   "metadata": {},
   "outputs": [],
   "source": [
    "model=nn.Sequential(\n",
    "    nn.Linear(mapping_size,32),\n",
    "    nn.ReLU(),\n",
    "    nn.Linear(32,32),\n",
    "    nn.ReLU(),\n",
    "    nn.Linear(32,1)\n",
    ").to(device)"
   ]
  },
  {
   "cell_type": "code",
   "execution_count": 217,
   "id": "together-physics",
   "metadata": {},
   "outputs": [
    {
     "name": "stdout",
     "output_type": "stream",
     "text": [
      "Epoch 0, loss = 1.824\n",
      "Epoch 1000, loss = 0.034\n",
      "Epoch 2000, loss = 0.000\n",
      "Epoch 3000, loss = 0.001\n"
     ]
    }
   ],
   "source": [
    "optimizer = torch.optim.Adam(list(model.parameters()), lr=1e-4)\n",
    "\n",
    "#for epoch in tqdm(range(400)):\n",
    "for epoch in range(4000):\n",
    "    optimizer.zero_grad()\n",
    "\n",
    "    generated = model(encoded)\n",
    "\n",
    "    loss = torch.nn.functional.l1_loss(y, generated)\n",
    "\n",
    "    loss.backward()\n",
    "    optimizer.step()\n",
    "\n",
    "    if epoch % 1000//1 == 0:\n",
    "        print('Epoch %d, loss = %.03f' % (epoch, float(loss)))"
   ]
  },
  {
   "cell_type": "code",
   "execution_count": 218,
   "id": "royal-bloom",
   "metadata": {},
   "outputs": [
    {
     "data": {
      "text/plain": [
       "[<matplotlib.lines.Line2D at 0x7f60402058b0>]"
      ]
     },
     "execution_count": 218,
     "metadata": {},
     "output_type": "execute_result"
    },
    {
     "data": {
      "image/png": "[encoded data removed]",
      "text/plain": [
       "<Figure size 432x288 with 1 Axes>"
      ]
     },
     "metadata": {
      "needs_background": "light"
     },
     "output_type": "display_data"
    }
   ],
   "source": [
    "plt.xlabel(\"x\")\n",
    "plt.ylabel(\"y(x)\")\n",
    "generated_all=model(encoded_all)\n",
    "pred_all_np=generated_all.cpu().detach().numpy()\n",
    "pred_np=generated.cpu().detach().numpy()\n",
    "plt.plot(x_all_np, pred_all_np)\n",
    "plt.plot(x_np, pred_np)\n",
    "plt.xlabel(\"x\")\n",
    "plt.ylabel(\"y(x)\")\n",
    "plt.plot(x_np, y_np)"
   ]
  },
  {
   "cell_type": "code",
   "execution_count": null,
   "id": "passing-fiber",
   "metadata": {},
   "outputs": [],
   "source": []
  },
  {
   "cell_type": "code",
   "execution_count": null,
   "id": "empty-place",
   "metadata": {},
   "outputs": [],
   "source": []
  },
  {
   "cell_type": "code",
   "execution_count": null,
   "id": "delayed-devon",
   "metadata": {},
   "outputs": [],
   "source": []
  }
 ],
 "metadata": {
  "kernelspec": {
   "display_name": "Python 3 (ipykernel)",
   "language": "python",
   "name": "python3"
  },
  "language_info": {
   "codemirror_mode": {
    "name": "ipython",
    "version": 3
   },
   "file_extension": ".py",
   "mimetype": "text/x-python",
   "name": "python",
   "nbconvert_exporter": "python",
   "pygments_lexer": "ipython3",
   "version": "3.8.8"
  }
 },
 "nbformat": 4,
 "nbformat_minor": 5
}
