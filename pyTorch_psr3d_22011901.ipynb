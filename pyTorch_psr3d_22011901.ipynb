{
 "cells": [
  {
   "cell_type": "code",
   "execution_count": 1,
   "id": "toxic-nickel",
   "metadata": {},
   "outputs": [],
   "source": [
    "# 14/01/2022\n",
    "# Francisco Domínguez Mateos\n",
    "# pyTorch psr3d Indra "
   ]
  },
  {
   "cell_type": "code",
   "execution_count": 2,
   "id": "digital-explorer",
   "metadata": {},
   "outputs": [],
   "source": [
    "import matplotlib.pyplot as plt\n",
    "import torch\n",
    "import numpy as np\n",
    "\n",
    "import torch\n",
    "import torch.nn as nn\n",
    "import torch.optim as optim\n",
    "import torch.distributions as distributions\n",
    "import torch.nn.functional as F\n",
    "\n",
    "def plot(xs, ys, xlim=(-3, 3), ylim=(-3, 3)):\n",
    "  fig, ax = plt.subplots()\n",
    "  ax.plot(xs, ys, linewidth=5)\n",
    "  # ax.set_aspect('equal')\n",
    "  ax.grid(True, which='both')\n",
    "  \n",
    "  ax.axhline(y=0, color='k')\n",
    "  ax.axvline(x=0, color='k')\n",
    "  ax.set_xlim(*xlim)\n",
    "  ax.set_ylim(*ylim)"
   ]
  },
  {
   "cell_type": "code",
   "execution_count": 3,
   "id": "supported-hygiene",
   "metadata": {},
   "outputs": [
    {
     "name": "stdout",
     "output_type": "stream",
     "text": [
      "cuda\n"
     ]
    }
   ],
   "source": [
    "device = torch.device(\"cuda\" if torch.cuda.is_available() else \"cpu\")\n",
    "print(device)"
   ]
  },
  {
   "cell_type": "code",
   "execution_count": 4,
   "id": "emerging-remedy",
   "metadata": {},
   "outputs": [
    {
     "name": "stdout",
     "output_type": "stream",
     "text": [
      "tensor([[1.0000, 0.2500, 0.2600],\n",
      "        [0.7500, 0.1250, 0.1000],\n",
      "        [0.5000, 0.2500, 0.1200],\n",
      "        [0.6500, 0.1350, 0.2000]], device='cuda:0')\n"
     ]
    }
   ],
   "source": [
    "# D=3 N=4\n",
    "x=torch.Tensor(([1,.25,0.26],[0.75,0.125,0.1],[0.5,0.25,0.12],[0.65,0.135,0.2])).to(device)\n",
    "print(x)"
   ]
  },
  {
   "cell_type": "code",
   "execution_count": 5,
   "id": "spiritual-botswana",
   "metadata": {},
   "outputs": [
    {
     "name": "stdout",
     "output_type": "stream",
     "text": [
      "tensor([[1.],\n",
      "        [0.],\n",
      "        [0.],\n",
      "        [1.]], device='cuda:0')\n"
     ]
    }
   ],
   "source": [
    "y=torch.Tensor(([[1],[0],[0],[1]])).to(device)\n",
    "print(y)"
   ]
  },
  {
   "cell_type": "code",
   "execution_count": 24,
   "id": "perfect-architect",
   "metadata": {},
   "outputs": [],
   "source": [
    "class Net(nn.Module):\n",
    "    def __init__(self,input_size,output_size):\n",
    "        super(Net,self).__init__()\n",
    "        self.fc1=nn.Linear(input_size,32)\n",
    "        self.fc2=nn.Linear(32,32)\n",
    "        self.fc3=nn.Linear(32,output_size)\n",
    "    def forward(self,x):\n",
    "        h1=F.relu(self.fc1(x))\n",
    "        h2=F.relu(self.fc2(h1))\n",
    "        y =torch.sigmoid(self.fc3(h2))\n",
    "        return y"
   ]
  },
  {
   "cell_type": "code",
   "execution_count": 25,
   "id": "dated-giving",
   "metadata": {},
   "outputs": [],
   "source": [
    "loss_fn=nn.BCELoss()\n",
    "#loss_fn=nn.MSELoss()"
   ]
  },
  {
   "cell_type": "code",
   "execution_count": 32,
   "id": "severe-federal",
   "metadata": {},
   "outputs": [],
   "source": [
    "net=Net(input_size=x.shape[1],output_size=1).to(device)\n",
    "optimizer=optim.Adam(net.parameters(),lr=1e-3)"
   ]
  },
  {
   "cell_type": "code",
   "execution_count": 33,
   "id": "surgical-complaint",
   "metadata": {},
   "outputs": [
    {
     "name": "stdout",
     "output_type": "stream",
     "text": [
      "0 tensor(0.6938, device='cuda:0', grad_fn=<BinaryCrossEntropyBackward>)\n",
      "100 tensor(0.5806, device='cuda:0', grad_fn=<BinaryCrossEntropyBackward>)\n",
      "200 tensor(0.3762, device='cuda:0', grad_fn=<BinaryCrossEntropyBackward>)\n",
      "300 tensor(0.2331, device='cuda:0', grad_fn=<BinaryCrossEntropyBackward>)\n",
      "400 tensor(0.1031, device='cuda:0', grad_fn=<BinaryCrossEntropyBackward>)\n",
      "500 tensor(0.0423, device='cuda:0', grad_fn=<BinaryCrossEntropyBackward>)\n",
      "600 tensor(0.0209, device='cuda:0', grad_fn=<BinaryCrossEntropyBackward>)\n",
      "700 tensor(0.0121, device='cuda:0', grad_fn=<BinaryCrossEntropyBackward>)\n",
      "800 tensor(0.0079, device='cuda:0', grad_fn=<BinaryCrossEntropyBackward>)\n",
      "900 tensor(0.0055, device='cuda:0', grad_fn=<BinaryCrossEntropyBackward>)\n"
     ]
    }
   ],
   "source": [
    "losses=[]\n",
    "for i in range(1000):\n",
    "    f=net(x)\n",
    "    loss=loss_fn(f,y)\n",
    "    \n",
    "    optimizer.zero_grad()\n",
    "    loss.backward()\n",
    "    optimizer.step()\n",
    "    if i % 10==0:\n",
    "        losses.append(loss)\n",
    "    if i % 100==0:\n",
    "        print(i,loss)"
   ]
  },
  {
   "cell_type": "code",
   "execution_count": null,
   "id": "earned-roots",
   "metadata": {},
   "outputs": [
    {
     "data": {
      "image/png": "[encoded data removed]",
      "text/plain": [
       "<Figure size 432x288 with 1 Axes>"
      ]
     },
     "metadata": {
      "needs_background": "light"
     },
     "output_type": "display_data"
    }
   ],
   "source": [
    "plot(np.arange(0,len(losses)),np.array(losses),(0,100),(0,1))"
   ]
  },
  {
   "cell_type": "code",
   "execution_count": null,
   "id": "imported-traffic",
   "metadata": {},
   "outputs": [],
   "source": []
  }
 ],
 "metadata": {
  "kernelspec": {
   "display_name": "Python 3",
   "language": "python",
   "name": "python3"
  },
  "language_info": {
   "codemirror_mode": {
    "name": "ipython",
    "version": 3
   },
   "file_extension": ".py",
   "mimetype": "text/x-python",
   "name": "python",
   "nbconvert_exporter": "python",
   "pygments_lexer": "ipython3",
   "version": "3.8.8"
  }
 },
 "nbformat": 4,
 "nbformat_minor": 5
}
