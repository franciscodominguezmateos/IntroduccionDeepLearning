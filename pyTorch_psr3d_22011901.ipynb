{
 "cells": [
  {
   "cell_type": "code",
   "execution_count": 36,
   "id": "certain-valley",
   "metadata": {},
   "outputs": [],
   "source": [
    "# 14/01/2022\n",
    "# Francisco Domínguez Mateos\n",
    "# pyTorch psr3d Indra "
   ]
  },
  {
   "cell_type": "code",
   "execution_count": 52,
   "id": "derived-father",
   "metadata": {},
   "outputs": [],
   "source": [
    "import os\n",
    "import matplotlib.pyplot as plt\n",
    "import torch\n",
    "import numpy as np\n",
    "\n",
    "import torch\n",
    "import torch.nn as nn\n",
    "import torch.optim as optim\n",
    "import torch.distributions as distributions\n",
    "import torch.nn.functional as F\n",
    "\n",
    "def plot(xs, ys, xlim=(-3, 3), ylim=(-3, 3)):\n",
    "  fig, ax = plt.subplots()\n",
    "  ax.plot(xs, ys, linewidth=5)\n",
    "  # ax.set_aspect('equal')\n",
    "  ax.grid(True, which='both')\n",
    "  \n",
    "  ax.axhline(y=0, color='k')\n",
    "  ax.axvline(x=0, color='k')\n",
    "  ax.set_xlim(*xlim)\n",
    "  ax.set_ylim(*ylim)"
   ]
  },
  {
   "cell_type": "code",
   "execution_count": 38,
   "id": "exposed-frank",
   "metadata": {},
   "outputs": [
    {
     "name": "stdout",
     "output_type": "stream",
     "text": [
      "cuda\n"
     ]
    }
   ],
   "source": [
    "device = torch.device(\"cuda\" if torch.cuda.is_available() else \"cpu\")\n",
    "print(device)"
   ]
  },
  {
   "cell_type": "code",
   "execution_count": 39,
   "id": "piano-opinion",
   "metadata": {},
   "outputs": [
    {
     "name": "stdout",
     "output_type": "stream",
     "text": [
      "tensor([[1.0000, 0.2500, 0.2600],\n",
      "        [0.7500, 0.1250, 0.1000],\n",
      "        [0.5000, 0.2500, 0.1200],\n",
      "        [0.6500, 0.1350, 0.2000]], device='cuda:0')\n"
     ]
    }
   ],
   "source": [
    "# D=3 N=4\n",
    "x=torch.Tensor(([1,.25,0.26],[0.75,0.125,0.1],[0.5,0.25,0.12],[0.65,0.135,0.2])).to(device)\n",
    "print(x)"
   ]
  },
  {
   "cell_type": "code",
   "execution_count": 40,
   "id": "magnetic-effect",
   "metadata": {},
   "outputs": [
    {
     "name": "stdout",
     "output_type": "stream",
     "text": [
      "tensor([[1.],\n",
      "        [0.],\n",
      "        [0.],\n",
      "        [1.]], device='cuda:0')\n"
     ]
    }
   ],
   "source": [
    "y=torch.Tensor(([[1],[0],[0],[1]])).to(device)\n",
    "print(y)"
   ]
  },
  {
   "cell_type": "code",
   "execution_count": 41,
   "id": "apart-style",
   "metadata": {},
   "outputs": [],
   "source": [
    "class Net(nn.Module):\n",
    "    def __init__(self,input_size,output_size):\n",
    "        super(Net,self).__init__()\n",
    "        self.fc1=nn.Linear(input_size,32)\n",
    "        self.fc2=nn.Linear(32,32)\n",
    "        self.fc3=nn.Linear(32,output_size)\n",
    "    def forward(self,x):\n",
    "        h1=F.relu(self.fc1(x))\n",
    "        h2=F.relu(self.fc2(h1))\n",
    "        y =torch.sigmoid(self.fc3(h2))\n",
    "        return y"
   ]
  },
  {
   "cell_type": "code",
   "execution_count": 42,
   "id": "optical-pitch",
   "metadata": {},
   "outputs": [],
   "source": [
    "loss_fn=nn.BCELoss()\n",
    "#loss_fn=nn.MSELoss()"
   ]
  },
  {
   "cell_type": "code",
   "execution_count": 46,
   "id": "german-fleece",
   "metadata": {},
   "outputs": [],
   "source": [
    "net=Net(input_size=x.shape[1],output_size=y.shape[1]).to(device)\n",
    "optimizer=optim.Adam(net.parameters(),lr=1e-3)"
   ]
  },
  {
   "cell_type": "code",
   "execution_count": 47,
   "id": "directed-easter",
   "metadata": {},
   "outputs": [
    {
     "name": "stdout",
     "output_type": "stream",
     "text": [
      "0 tensor(0.6936, device='cuda:0', grad_fn=<BinaryCrossEntropyBackward>)\n",
      "100 tensor(0.5493, device='cuda:0', grad_fn=<BinaryCrossEntropyBackward>)\n",
      "200 tensor(0.3321, device='cuda:0', grad_fn=<BinaryCrossEntropyBackward>)\n",
      "300 tensor(0.1750, device='cuda:0', grad_fn=<BinaryCrossEntropyBackward>)\n",
      "400 tensor(0.0656, device='cuda:0', grad_fn=<BinaryCrossEntropyBackward>)\n",
      "500 tensor(0.0274, device='cuda:0', grad_fn=<BinaryCrossEntropyBackward>)\n",
      "600 tensor(0.0144, device='cuda:0', grad_fn=<BinaryCrossEntropyBackward>)\n",
      "700 tensor(0.0088, device='cuda:0', grad_fn=<BinaryCrossEntropyBackward>)\n",
      "800 tensor(0.0059, device='cuda:0', grad_fn=<BinaryCrossEntropyBackward>)\n",
      "900 tensor(0.0042, device='cuda:0', grad_fn=<BinaryCrossEntropyBackward>)\n"
     ]
    }
   ],
   "source": [
    "losses=[]\n",
    "for i in range(1000):\n",
    "    f=net(x)\n",
    "    loss=loss_fn(f,y)\n",
    "    \n",
    "    optimizer.zero_grad()\n",
    "    loss.backward()\n",
    "    optimizer.step()\n",
    "    if i % 10==0:\n",
    "        losses.append(loss)\n",
    "    if i % 100==0:\n",
    "        print(i,loss)"
   ]
  },
  {
   "cell_type": "code",
   "execution_count": 48,
   "id": "limiting-matrix",
   "metadata": {},
   "outputs": [
    {
     "data": {
      "image/png": "[encoded data removed]",
      "text/plain": [
       "<Figure size 432x288 with 1 Axes>"
      ]
     },
     "metadata": {
      "needs_background": "light"
     },
     "output_type": "display_data"
    }
   ],
   "source": [
    "plot(np.arange(0,len(losses)),np.array(losses),(0,100),(0,1))"
   ]
  },
  {
   "cell_type": "code",
   "execution_count": 55,
   "id": "european-obligation",
   "metadata": {},
   "outputs": [],
   "source": [
    "class DatasetPSR3D(torch.utils.data.Dataset):\n",
    "    def __init__(self, foldername):\n",
    "        self.fileNames=[]\n",
    "        self.currentFileName=\"\"\n",
    "        self.num_samples=0\n",
    "        for fname in os.listdir(foldername):\n",
    "            fileName=os.path.join(foldername,fname)\n",
    "            self.fileNames.append(fileName)\n",
    "            self.workOut_num_samples(fileName)\n",
    "    def workOut_num_samples(self,fileName):\n",
    "        #open fileName and workout num rows\n",
    "        num_rows=0 #not true\n",
    "        self.num_samples+=num_rows\n",
    "    def get_num_samples(self):\n",
    "        return self.num_samples\n",
    "    def __len__(self):\n",
    "        return 1\n",
    "    def __getitem__(self, idx):\n",
    "        #take a row from files in self.fileNames\n",
    "        return x, y"
   ]
  },
  {
   "cell_type": "code",
   "execution_count": 58,
   "id": "conceptual-aerospace",
   "metadata": {},
   "outputs": [],
   "source": [
    "dataset=DatasetPSR3D(\".\")\n",
    "batch_size=10000\n",
    "data_loader=torch.utils.data.DataLoader(dataset, shuffle=True, batch_size=batch_size)"
   ]
  },
  {
   "cell_type": "code",
   "execution_count": 63,
   "id": "built-genetics",
   "metadata": {},
   "outputs": [
    {
     "name": "stdout",
     "output_type": "stream",
     "text": [
      "0 tensor(0.0032, device='cuda:0', grad_fn=<BinaryCrossEntropyBackward>)\n"
     ]
    },
    {
     "ename": "RuntimeError",
     "evalue": "shape '[32]' is invalid for input of size 1",
     "output_type": "error",
     "traceback": [
      "\u001b[0;31m---------------------------------------------------------------------------\u001b[0m",
      "\u001b[0;31mRuntimeError\u001b[0m                              Traceback (most recent call last)",
      "\u001b[0;32m<ipython-input-63-8db2ea7bdad6>\u001b[0m in \u001b[0;36m<module>\u001b[0;34m\u001b[0m\n\u001b[1;32m      6\u001b[0m         \u001b[0mloss\u001b[0m\u001b[0;34m=\u001b[0m\u001b[0mloss_fn\u001b[0m\u001b[0;34m(\u001b[0m\u001b[0mf\u001b[0m\u001b[0;34m,\u001b[0m\u001b[0my\u001b[0m\u001b[0;34m)\u001b[0m\u001b[0;34m\u001b[0m\u001b[0;34m\u001b[0m\u001b[0m\n\u001b[1;32m      7\u001b[0m         \u001b[0moptimizer\u001b[0m\u001b[0;34m.\u001b[0m\u001b[0mzero_grad\u001b[0m\u001b[0;34m(\u001b[0m\u001b[0;34m)\u001b[0m\u001b[0;34m\u001b[0m\u001b[0;34m\u001b[0m\u001b[0m\n\u001b[0;32m----> 8\u001b[0;31m         \u001b[0mloss\u001b[0m\u001b[0;34m.\u001b[0m\u001b[0mbackward\u001b[0m\u001b[0;34m(\u001b[0m\u001b[0;34m)\u001b[0m\u001b[0;34m\u001b[0m\u001b[0;34m\u001b[0m\u001b[0m\n\u001b[0m\u001b[1;32m      9\u001b[0m         \u001b[0moptimizer\u001b[0m\u001b[0;34m.\u001b[0m\u001b[0mstep\u001b[0m\u001b[0;34m(\u001b[0m\u001b[0;34m)\u001b[0m\u001b[0;34m\u001b[0m\u001b[0;34m\u001b[0m\u001b[0m\n\u001b[1;32m     10\u001b[0m     \u001b[0;32mif\u001b[0m \u001b[0mi\u001b[0m \u001b[0;34m%\u001b[0m \u001b[0;36m10\u001b[0m\u001b[0;34m==\u001b[0m\u001b[0;36m0\u001b[0m\u001b[0;34m:\u001b[0m\u001b[0;34m\u001b[0m\u001b[0;34m\u001b[0m\u001b[0m\n",
      "\u001b[0;32m~/anaconda3/envs/jax_gpu/lib/python3.8/site-packages/torch/tensor.py\u001b[0m in \u001b[0;36mbackward\u001b[0;34m(self, gradient, retain_graph, create_graph)\u001b[0m\n\u001b[1;32m    193\u001b[0m                 \u001b[0mproducts\u001b[0m\u001b[0;34m.\u001b[0m \u001b[0mDefaults\u001b[0m \u001b[0mto\u001b[0m\u001b[0;31m \u001b[0m\u001b[0;31m`\u001b[0m\u001b[0;31m`\u001b[0m\u001b[0;32mFalse\u001b[0m\u001b[0;31m`\u001b[0m\u001b[0;31m`\u001b[0m\u001b[0;34m.\u001b[0m\u001b[0;34m\u001b[0m\u001b[0;34m\u001b[0m\u001b[0m\n\u001b[1;32m    194\u001b[0m         \"\"\"\n\u001b[0;32m--> 195\u001b[0;31m         \u001b[0mtorch\u001b[0m\u001b[0;34m.\u001b[0m\u001b[0mautograd\u001b[0m\u001b[0;34m.\u001b[0m\u001b[0mbackward\u001b[0m\u001b[0;34m(\u001b[0m\u001b[0mself\u001b[0m\u001b[0;34m,\u001b[0m \u001b[0mgradient\u001b[0m\u001b[0;34m,\u001b[0m \u001b[0mretain_graph\u001b[0m\u001b[0;34m,\u001b[0m \u001b[0mcreate_graph\u001b[0m\u001b[0;34m)\u001b[0m\u001b[0;34m\u001b[0m\u001b[0;34m\u001b[0m\u001b[0m\n\u001b[0m\u001b[1;32m    196\u001b[0m \u001b[0;34m\u001b[0m\u001b[0m\n\u001b[1;32m    197\u001b[0m     \u001b[0;32mdef\u001b[0m \u001b[0mregister_hook\u001b[0m\u001b[0;34m(\u001b[0m\u001b[0mself\u001b[0m\u001b[0;34m,\u001b[0m \u001b[0mhook\u001b[0m\u001b[0;34m)\u001b[0m\u001b[0;34m:\u001b[0m\u001b[0;34m\u001b[0m\u001b[0;34m\u001b[0m\u001b[0m\n",
      "\u001b[0;32m~/anaconda3/envs/jax_gpu/lib/python3.8/site-packages/torch/autograd/__init__.py\u001b[0m in \u001b[0;36mbackward\u001b[0;34m(tensors, grad_tensors, retain_graph, create_graph, grad_variables)\u001b[0m\n\u001b[1;32m     95\u001b[0m         \u001b[0mretain_graph\u001b[0m \u001b[0;34m=\u001b[0m \u001b[0mcreate_graph\u001b[0m\u001b[0;34m\u001b[0m\u001b[0;34m\u001b[0m\u001b[0m\n\u001b[1;32m     96\u001b[0m \u001b[0;34m\u001b[0m\u001b[0m\n\u001b[0;32m---> 97\u001b[0;31m     Variable._execution_engine.run_backward(\n\u001b[0m\u001b[1;32m     98\u001b[0m         \u001b[0mtensors\u001b[0m\u001b[0;34m,\u001b[0m \u001b[0mgrad_tensors\u001b[0m\u001b[0;34m,\u001b[0m \u001b[0mretain_graph\u001b[0m\u001b[0;34m,\u001b[0m \u001b[0mcreate_graph\u001b[0m\u001b[0;34m,\u001b[0m\u001b[0;34m\u001b[0m\u001b[0;34m\u001b[0m\u001b[0m\n\u001b[1;32m     99\u001b[0m         allow_unreachable=True)  # allow_unreachable flag\n",
      "\u001b[0;31mRuntimeError\u001b[0m: shape '[32]' is invalid for input of size 1"
     ]
    }
   ],
   "source": [
    "losses=[]\n",
    "for i in range(1000):\n",
    "    for x, y in data_loader:\n",
    "        x.to(device)\n",
    "        f=net(x)\n",
    "        loss=loss_fn(f,y)\n",
    "        optimizer.zero_grad()\n",
    "        loss.backward()\n",
    "        optimizer.step()\n",
    "    if i % 10==0:\n",
    "        losses.append(loss)\n",
    "    if i % 100==0:\n",
    "        print(i,loss)"
   ]
  },
  {
   "cell_type": "code",
   "execution_count": null,
   "id": "bacterial-calculation",
   "metadata": {},
   "outputs": [],
   "source": []
  }
 ],
 "metadata": {
  "kernelspec": {
   "display_name": "Python 3",
   "language": "python",
   "name": "python3"
  },
  "language_info": {
   "codemirror_mode": {
    "name": "ipython",
    "version": 3
   },
   "file_extension": ".py",
   "mimetype": "text/x-python",
   "name": "python",
   "nbconvert_exporter": "python",
   "pygments_lexer": "ipython3",
   "version": "3.8.8"
  }
 },
 "nbformat": 4,
 "nbformat_minor": 5
}
