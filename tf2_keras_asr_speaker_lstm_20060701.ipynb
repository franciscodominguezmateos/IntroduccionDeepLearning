{
 "cells": [
  {
   "cell_type": "code",
   "execution_count": null,
   "metadata": {},
   "outputs": [],
   "source": [
    "\"\"\"\n",
    "Automatic speech recognition and speaker identity\n",
    "\"\"\"\n",
    "from __future__ import division, print_function, absolute_import\n",
    "import os\n",
    "import numpy as np\n",
    "import sklearn.preprocessing as prep\n",
    "import librosa\n",
    "from tensorflow import keras\n",
    "from tensorflow.keras import layers\n",
    "from tensorflow.keras.layers import Input,Dense, Dropout\n",
    "from tensorflow.keras.layers import Embedding, Bidirectional,Conv1D,GlobalMaxPooling1D,LSTM\n",
    "from tensorflow.keras.preprocessing.sequence import pad_sequences\n",
    "from tensorflow.keras.models import Sequential, Model\n",
    "from tensorflow.keras import utils,losses"
   ]
  },
  {
   "cell_type": "code",
   "execution_count": 2,
   "metadata": {},
   "outputs": [
    {
     "name": "stdout",
     "output_type": "stream",
     "text": [
      "Imports doned\n",
      "fNames= 108\n",
      "16000 wave= (3871,) mfcc= (8, 20) file= /home/francisco/voz/paco_no_006.wav\n",
      "16000 wave= (4963,) mfcc= (10, 20) file= /home/francisco/voz/paco_si_008.wav\n",
      "16000 wave= (9285,) mfcc= (19, 20) file= /home/francisco/voz/paco_dos_002.wav\n",
      "16000 wave= (4434,) mfcc= (9, 20) file= /home/francisco/voz/paco_uno_004.wav\n",
      "16000 wave= (2428,) mfcc= (5, 20) file= /home/francisco/voz/paco_no_007.wav\n",
      "16000 wave= (4882,) mfcc= (10, 20) file= /home/francisco/voz/paco_para_003.wav\n",
      "16000 wave= (6972,) mfcc= (14, 20) file= /home/francisco/voz/paco_cuatro_003.wav\n",
      "16000 wave= (6524,) mfcc= (13, 20) file= /home/francisco/voz/paco_nueve_001.wav\n",
      "16000 wave= (4630,) mfcc= (10, 20) file= /home/francisco/voz/carlos_si_002.wav\n",
      "16000 wave= (14450,) mfcc= (29, 20) file= /home/francisco/voz/paco_buenos-dias_001.wav\n",
      "16000 wave= (14816,) mfcc= (29, 20) file= /home/francisco/voz/paco_buenos-dias_003.wav\n",
      "16000 wave= (6847,) mfcc= (14, 20) file= /home/francisco/voz/irene_hola_003.wav\n",
      "16000 wave= (9176,) mfcc= (18, 20) file= /home/francisco/voz/paco_seis_001.wav\n",
      "16000 wave= (8618,) mfcc= (17, 20) file= /home/francisco/voz/paco_buenos-dias_007.wav\n",
      "16000 wave= (6462,) mfcc= (13, 20) file= /home/francisco/voz/paco_ocho_001.wav\n",
      "16000 wave= (9845,) mfcc= (20, 20) file= /home/francisco/voz/paco_cinco_001.wav\n",
      "16000 wave= (7270,) mfcc= (15, 20) file= /home/francisco/voz/carlos_hola_001.wav\n",
      "16000 wave= (5075,) mfcc= (10, 20) file= /home/francisco/voz/paco_hola_001.wav\n",
      "16000 wave= (5616,) mfcc= (11, 20) file= /home/francisco/voz/paco_nueve_002.wav\n",
      "16000 wave= (3896,) mfcc= (8, 20) file= /home/francisco/voz/paco_no_005.wav\n",
      "16000 wave= (7073,) mfcc= (14, 20) file= /home/francisco/voz/irene_hola_002.wav\n",
      "16000 wave= (5872,) mfcc= (12, 20) file= /home/francisco/voz/paco_si_004.wav\n",
      "16000 wave= (5357,) mfcc= (11, 20) file= /home/francisco/voz/paco_hola_002.wav\n",
      "16000 wave= (7849,) mfcc= (16, 20) file= /home/francisco/voz/paco_avanza_001.wav\n",
      "16000 wave= (5757,) mfcc= (12, 20) file= /home/francisco/voz/paco_siete_006.wav\n",
      "16000 wave= (6423,) mfcc= (13, 20) file= /home/francisco/voz/paco_cuatro_004.wav\n",
      "16000 wave= (13648,) mfcc= (27, 20) file= /home/francisco/voz/eva_si_001.wav\n",
      "16000 wave= (5589,) mfcc= (11, 20) file= /home/francisco/voz/paco_para_002.wav\n",
      "16000 wave= (8627,) mfcc= (17, 20) file= /home/francisco/voz/eva_si_003.wav\n",
      "16000 wave= (8331,) mfcc= (17, 20) file= /home/francisco/voz/paco_si_002.wav\n",
      "16000 wave= (5890,) mfcc= (12, 20) file= /home/francisco/voz/paco_si_006.wav\n",
      "16000 wave= (9059,) mfcc= (18, 20) file= /home/francisco/voz/paco_seis_002.wav\n",
      "16000 wave= (12950,) mfcc= (26, 20) file= /home/francisco/voz/paco_buenos-dias_006.wav\n",
      "16000 wave= (7160,) mfcc= (14, 20) file= /home/francisco/voz/paco_cinco_005.wav\n",
      "16000 wave= (8972,) mfcc= (18, 20) file= /home/francisco/voz/paco_ocho_003.wav\n",
      "16000 wave= (5043,) mfcc= (10, 20) file= /home/francisco/voz/carlos_no_004.wav\n",
      "16000 wave= (5458,) mfcc= (11, 20) file= /home/francisco/voz/paco_dos_004.wav\n",
      "16000 wave= (12632,) mfcc= (25, 20) file= /home/francisco/voz/paco_buenos-dias_002.wav\n",
      "16000 wave= (9099,) mfcc= (18, 20) file= /home/francisco/voz/paco_cinco_003.wav\n",
      "16000 wave= (6113,) mfcc= (12, 20) file= /home/francisco/voz/paco_uno_003.wav\n",
      "16000 wave= (7262,) mfcc= (15, 20) file= /home/francisco/voz/paco_nueve_005.wav\n",
      "16000 wave= (6069,) mfcc= (12, 20) file= /home/francisco/voz/paco_si_007.wav\n",
      "16000 wave= (3702,) mfcc= (8, 20) file= /home/francisco/voz/paco_no_004.wav\n",
      "16000 wave= (6401,) mfcc= (13, 20) file= /home/francisco/voz/paco_casa_002.wav\n",
      "16000 wave= (5847,) mfcc= (12, 20) file= /home/francisco/voz/carlos_hola_002.wav\n",
      "16000 wave= (14357,) mfcc= (29, 20) file= /home/francisco/voz/carlos_no_003.wav\n",
      "16000 wave= (10812,) mfcc= (22, 20) file= /home/francisco/voz/paco_retrocede_003.wav\n",
      "16000 wave= (5622,) mfcc= (11, 20) file= /home/francisco/voz/carlos_si_003.wav\n",
      "16000 wave= (7438,) mfcc= (15, 20) file= /home/francisco/voz/carlos_si_001.wav\n",
      "16000 wave= (11913,) mfcc= (24, 20) file= /home/francisco/voz/eva_hola_001.wav\n",
      "16000 wave= (8079,) mfcc= (16, 20) file= /home/francisco/voz/paco_tres_004.wav\n",
      "16000 wave= (9890,) mfcc= (20, 20) file= /home/francisco/voz/paco_seis_004.wav\n",
      "16000 wave= (7270,) mfcc= (15, 20) file= /home/francisco/voz/paco_ocho_004.wav\n",
      "16000 wave= (8388,) mfcc= (17, 20) file= /home/francisco/voz/paco_avanza_002.wav\n",
      "16000 wave= (6892,) mfcc= (14, 20) file= /home/francisco/voz/paco_cinco_004.wav\n",
      "16000 wave= (6376,) mfcc= (13, 20) file= /home/francisco/voz/eva_no_002.wav\n",
      "16000 wave= (8327,) mfcc= (17, 20) file= /home/francisco/voz/irene_hola_001.wav\n",
      "16000 wave= (8631,) mfcc= (17, 20) file= /home/francisco/voz/paco_tres_001.wav\n",
      "16000 wave= (10345,) mfcc= (21, 20) file= /home/francisco/voz/paco_retrocede_001.wav\n",
      "16000 wave= (7202,) mfcc= (15, 20) file= /home/francisco/voz/paco_uno_002.wav\n",
      "16000 wave= (8066,) mfcc= (16, 20) file= /home/francisco/voz/paco_si_001.wav\n",
      "16000 wave= (8532,) mfcc= (17, 20) file= /home/francisco/voz/paco_avanza_003.wav\n",
      "16000 wave= (4172,) mfcc= (9, 20) file= /home/francisco/voz/paco_uno_005.wav\n",
      "16000 wave= (6704,) mfcc= (14, 20) file= /home/francisco/voz/paco_tres_003.wav\n",
      "16000 wave= (6756,) mfcc= (14, 20) file= /home/francisco/voz/paco_dos_003.wav\n",
      "16000 wave= (7346,) mfcc= (15, 20) file= /home/francisco/voz/paco_si_003.wav\n",
      "16000 wave= (7641,) mfcc= (15, 20) file= /home/francisco/voz/paco_cuatro_001.wav\n",
      "16000 wave= (7219,) mfcc= (15, 20) file= /home/francisco/voz/paco_cuatro_002.wav\n",
      "16000 wave= (4615,) mfcc= (10, 20) file= /home/francisco/voz/paco_hola_003.wav\n",
      "16000 wave= (6946,) mfcc= (14, 20) file= /home/francisco/voz/carlos_no_002.wav\n",
      "16000 wave= (6780,) mfcc= (14, 20) file= /home/francisco/voz/paco_casa_001.wav\n",
      "16000 wave= (10073,) mfcc= (20, 20) file= /home/francisco/voz/paco_cinco_002.wav\n",
      "16000 wave= (16053,) mfcc= (32, 20) file= /home/francisco/voz/carlos_no_001.wav\n",
      "16000 wave= (10295,) mfcc= (21, 20) file= /home/francisco/voz/paco_retrocede_002.wav\n",
      "16000 wave= (9721,) mfcc= (19, 20) file= /home/francisco/voz/paco_siete_003.wav\n",
      "16000 wave= (10343,) mfcc= (21, 20) file= /home/francisco/voz/paco_seis_005.wav\n",
      "16000 wave= (6120,) mfcc= (12, 20) file= /home/francisco/voz/paco_cinco_006.wav\n",
      "16000 wave= (5663,) mfcc= (12, 20) file= /home/francisco/voz/eva_hola_003.wav\n",
      "16000 wave= (8196,) mfcc= (17, 20) file= /home/francisco/voz/paco_buenos-dias_009.wav\n",
      "16000 wave= (5703,) mfcc= (12, 20) file= /home/francisco/voz/paco_para_001.wav\n",
      "16000 wave= (11447,) mfcc= (23, 20) file= /home/francisco/voz/paco_buenos-dias_008.wav\n",
      "16000 wave= (10506,) mfcc= (21, 20) file= /home/francisco/voz/paco_buenos-dias_011.wav\n",
      "16000 wave= (5693,) mfcc= (12, 20) file= /home/francisco/voz/paco_si_005.wav\n",
      "16000 wave= (9067,) mfcc= (18, 20) file= /home/francisco/voz/paco_dos_001.wav\n",
      "16000 wave= (7430,) mfcc= (15, 20) file= /home/francisco/voz/paco_uno_001.wav\n",
      "16000 wave= (10625,) mfcc= (21, 20) file= /home/francisco/voz/paco_siete_001.wav\n",
      "16000 wave= (9775,) mfcc= (20, 20) file= /home/francisco/voz/paco_seis_003.wav\n",
      "16000 wave= (6215,) mfcc= (13, 20) file= /home/francisco/voz/eva_si_002.wav\n",
      "16000 wave= (7428,) mfcc= (15, 20) file= /home/francisco/voz/paco_casa_006.wav\n",
      "16000 wave= (4922,) mfcc= (10, 20) file= /home/francisco/voz/paco_no_003.wav\n",
      "16000 wave= (9324,) mfcc= (19, 20) file= /home/francisco/voz/paco_siete_005.wav\n",
      "16000 wave= (10615,) mfcc= (21, 20) file= /home/francisco/voz/paco_buenos-dias_004.wav\n",
      "16000 wave= (5213,) mfcc= (11, 20) file= /home/francisco/voz/carlos_hola_003.wav\n",
      "16000 wave= (10391,) mfcc= (21, 20) file= /home/francisco/voz/paco_siete_002.wav\n",
      "16000 wave= (8744,) mfcc= (18, 20) file= /home/francisco/voz/eva_hola_002.wav\n",
      "16000 wave= (7899,) mfcc= (16, 20) file= /home/francisco/voz/paco_tres_002.wav\n",
      "16000 wave= (11328,) mfcc= (23, 20) file= /home/francisco/voz/paco_buenos-dias_010.wav\n",
      "16000 wave= (8430,) mfcc= (17, 20) file= /home/francisco/voz/paco_casa_004.wav\n",
      "16000 wave= (7916,) mfcc= (16, 20) file= /home/francisco/voz/paco_ocho_002.wav\n",
      "16000 wave= (4710,) mfcc= (10, 20) file= /home/francisco/voz/paco_no_002.wav\n",
      "16000 wave= (12107,) mfcc= (24, 20) file= /home/francisco/voz/eva_no_001.wav\n",
      "16000 wave= (7368,) mfcc= (15, 20) file= /home/francisco/voz/paco_nueve_004.wav\n",
      "16000 wave= (7110,) mfcc= (14, 20) file= /home/francisco/voz/paco_casa_003.wav\n",
      "16000 wave= (4450,) mfcc= (9, 20) file= /home/francisco/voz/paco_no_001.wav\n",
      "16000 wave= (13038,) mfcc= (26, 20) file= /home/francisco/voz/paco_buenos-dias_005.wav\n",
      "16000 wave= (9621,) mfcc= (19, 20) file= /home/francisco/voz/paco_siete_004.wav\n",
      "16000 wave= (4254,) mfcc= (9, 20) file= /home/francisco/voz/paco_nueve_003.wav\n"
     ]
    },
    {
     "name": "stdout",
     "output_type": "stream",
     "text": [
      "16000 wave= (5938,) mfcc= (12, 20) file= /home/francisco/voz/paco_casa_005.wav\n",
      "108\n",
      "['no', 'si', 'dos', 'uno', 'no', 'para', 'cuatro', 'nueve', 'si', 'buenos-dias', 'buenos-dias', 'hola', 'seis', 'buenos-dias', 'ocho', 'cinco', 'hola', 'hola', 'nueve', 'no', 'hola', 'si', 'hola', 'avanza', 'siete', 'cuatro', 'si', 'para', 'si', 'si', 'si', 'seis', 'buenos-dias', 'cinco', 'ocho', 'no', 'dos', 'buenos-dias', 'cinco', 'uno', 'nueve', 'si', 'no', 'casa', 'hola', 'no', 'retrocede', 'si', 'si', 'hola', 'tres', 'seis', 'ocho', 'avanza', 'cinco', 'no', 'hola', 'tres', 'retrocede', 'uno', 'si', 'avanza', 'uno', 'tres', 'dos', 'si', 'cuatro', 'cuatro', 'hola', 'no', 'casa', 'cinco', 'no', 'retrocede', 'siete', 'seis', 'cinco', 'hola', 'buenos-dias', 'para', 'buenos-dias', 'buenos-dias', 'si', 'dos', 'uno', 'siete', 'seis', 'si', 'casa', 'no', 'siete', 'buenos-dias', 'hola', 'siete', 'hola', 'tres', 'buenos-dias', 'casa', 'ocho', 'no', 'no', 'nueve', 'casa', 'no', 'buenos-dias', 'siete', 'nueve', 'casa']\n",
      "['paco', 'paco', 'paco', 'paco', 'paco', 'paco', 'paco', 'paco', 'carlos', 'paco', 'paco', 'irene', 'paco', 'paco', 'paco', 'paco', 'carlos', 'paco', 'paco', 'paco', 'irene', 'paco', 'paco', 'paco', 'paco', 'paco', 'eva', 'paco', 'eva', 'paco', 'paco', 'paco', 'paco', 'paco', 'paco', 'carlos', 'paco', 'paco', 'paco', 'paco', 'paco', 'paco', 'paco', 'paco', 'carlos', 'carlos', 'paco', 'carlos', 'carlos', 'eva', 'paco', 'paco', 'paco', 'paco', 'paco', 'eva', 'irene', 'paco', 'paco', 'paco', 'paco', 'paco', 'paco', 'paco', 'paco', 'paco', 'paco', 'paco', 'paco', 'carlos', 'paco', 'paco', 'carlos', 'paco', 'paco', 'paco', 'paco', 'eva', 'paco', 'paco', 'paco', 'paco', 'paco', 'paco', 'paco', 'paco', 'paco', 'eva', 'paco', 'paco', 'paco', 'paco', 'carlos', 'paco', 'eva', 'paco', 'paco', 'paco', 'paco', 'paco', 'eva', 'paco', 'paco', 'paco', 'paco', 'paco', 'paco', 'paco']\n",
      "LabelEncoder()\n"
     ]
    }
   ],
   "source": [
    "print(\"Imports doned\")\n",
    "def wav2mfcc(file_path, max_pad_len=30):\n",
    "    wave, sampleRate = librosa.load(file_path, mono=True, sr=None)\n",
    "    wave=prep.maxabs_scale(wave) #Normalize amplitude to +-1\n",
    "    mfcc = librosa.feature.mfcc(wave, sr=sampleRate).transpose()\n",
    "    print(sampleRate,\"wave=\",wave.shape,\"mfcc=\",mfcc.shape,\"file=\",file_path)\n",
    "    #print(mfcc[1,:5])\n",
    "    dif=max_pad_len-mfcc.shape[0]\n",
    "    #padding sample\n",
    "    if dif>0:\n",
    "        #fill holes\n",
    "        #print(\"filling holes\")\n",
    "        for i in range(dif):\n",
    "            mfcc=np.vstack([mfcc,np.zeros(mfcc.shape[1])])\n",
    "    else:\n",
    "        #take away excess\n",
    "        #print(\"excess\")\n",
    "        mfcc=mfcc[:max_pad_len]\n",
    "    #print(mfcc.shape)\n",
    "    #print(mfcc[199,:5])\n",
    "    return mfcc\n",
    "\n",
    "# load wav files with this format speaker_word_number.wav\n",
    "class EasyASR(object):\n",
    "    '''\n",
    "    classdocs\n",
    "    '''\n",
    "    def __init__(self, filePath=\"/home/francisco/voz\"):\n",
    "        '''\n",
    "        Constructor\n",
    "        '''\n",
    "        basepath=filePath\n",
    "        self.mfccs=[]\n",
    "        self.speakers=[]\n",
    "        self.words=[]\n",
    "        fNames=os.listdir(basepath)\n",
    "        print(\"fNames=\",len(fNames))\n",
    "        for i,fn in enumerate(fNames):\n",
    "            #file name format speaker_word_number.wav\n",
    "            n,_=fn.split(\".\")#take away extension .wav\n",
    "            mfccs=wav2mfcc(basepath+'/{}.wav'.format(n))\n",
    "            self.mfccs.append(mfccs)\n",
    "            #decode file name format speaker_word_number\n",
    "            speaker,word,number=n.split(\"_\")\n",
    "            self.speakers.append(speaker)\n",
    "            self.words.append(word)\n",
    "        self.leSpeakers=prep.LabelEncoder()\n",
    "        self.leSpeakers.fit(self.speakers)\n",
    "        self.iSpeakerLabels=self.leSpeakers.transform(self.speakers)\n",
    "        self.leWords=prep.LabelEncoder()\n",
    "        self.leWords.fit(self.words)\n",
    "        self.iWordLabels=self.leWords.transform(self.words)\n",
    "        print(len(self.words))\n",
    "        print(self.words)\n",
    "        print(self.speakers)\n",
    "\n",
    "ea=EasyASR()\n",
    "print(ea.leWords)"
   ]
  },
  {
   "cell_type": "code",
   "execution_count": 3,
   "metadata": {},
   "outputs": [
    {
     "name": "stdout",
     "output_type": "stream",
     "text": [
      "17 4\n",
      "(108, 30, 20) (108, 17) (108, 4)\n"
     ]
    }
   ],
   "source": [
    "trainX, trainYwords, trainYspeakers = np.array(ea.mfccs),np.array(ea.iWordLabels),np.array(ea.iSpeakerLabels)\n",
    "#testX, testY = test\n",
    "\n",
    "maxlen=trainX.shape[1]\n",
    "lstm_hidden_units=128\n",
    "input_dim=trainX.shape[2]\n",
    "outputWords_dim=max(trainYwords)+1\n",
    "outputSpeakers_dim=max(trainYspeakers)+1\n",
    "\n",
    "print(outputWords_dim,outputSpeakers_dim)\n",
    "\n",
    "# Converting labels to binary vectors\n",
    "trainYwords_cat    = utils.to_categorical(trainYwords   ,outputWords_dim)\n",
    "trainYspeakers_cat = utils.to_categorical(trainYspeakers,outputSpeakers_dim)\n",
    "print (trainX.shape,trainYwords_cat.shape,trainYspeakers_cat.shape)"
   ]
  },
  {
   "cell_type": "code",
   "execution_count": null,
   "metadata": {},
   "outputs": [],
   "source": [
    "# Network building\n",
    "def build_model_asr_lstm(input_dim,outputWords_dim,outputSpeakers_dim,hiden_dim=128):\n",
    "    input = Input(shape=(30,input_dim))\n",
    "    #x = LSTM(hiden_dim, input_length=maxlen, input_dim=input_dim)(input)\n",
    "    x = Bidirectional(LSTM(hiden_dim))(input)\n",
    "    #x = Bidirectional(LSTM(hiden_dim,return_sequences=True))(input)\n",
    "    #x = Dropout(0.5)(x)\n",
    "    x = Bidirectional(LSTM(hiden_dim))(x)\n",
    "    x = Dropout(0.5)(x)\n",
    "    wd= Dense(hiden_dim)(x)\n",
    "    sd= Dense(hiden_dim)(x)\n",
    "    # from: https://www.tensorflow.org/guide/keras/train_and_evaluate\n",
    "    #       Passing data to multi-input, multi-output models\n",
    "    prediction_words    = Dense(outputWords_dim   , activation=\"softmax\", name=\"word\")(wd)\n",
    "    prediction_speakers = Dense(outputSpeakers_dim, activation=\"softmax\", name=\"speaker\")(sd)\n",
    "\n",
    "    model = Model(input, [prediction_words,prediction_speakers])\n",
    "    return model"
   ]
  },
  {
   "cell_type": "code",
   "execution_count": null,
   "metadata": {},
   "outputs": [],
   "source": [
    "model=build_model_asr_lstm(input_dim,outputWords_dim,outputSpeakers_dim)\n",
    "model.compile(loss='categorical_crossentropy',optimizer='adam',metrics=['accuracy'])\n",
    "model.summary()"
   ]
  },
  {
   "cell_type": "code",
   "execution_count": 7,
   "metadata": {},
   "outputs": [
    {
     "name": "stdout",
     "output_type": "stream",
     "text": [
      "WARNING:tensorflow:The `nb_epoch` argument in `fit` has been renamed `epochs`.\n",
      "Train on 86 samples, validate on 22 samples\n",
      "Epoch 1/50\n",
      "86/86 [==============================] - 6s 68ms/sample - loss: 4.4427 - word_loss: 2.9613 - speaker_loss: 1.4815 - word_accuracy: 0.0349 - speaker_accuracy: 0.2326 - val_loss: 3.4342 - val_word_loss: 2.6930 - val_speaker_loss: 0.7412 - val_word_accuracy: 0.0455 - val_speaker_accuracy: 0.8182\n",
      "Epoch 2/50\n",
      "86/86 [==============================] - 0s 315us/sample - loss: 3.6250 - word_loss: 2.7562 - speaker_loss: 0.8688 - word_accuracy: 0.1163 - speaker_accuracy: 0.8023 - val_loss: 3.0912 - val_word_loss: 2.5840 - val_speaker_loss: 0.5073 - val_word_accuracy: 0.2273 - val_speaker_accuracy: 0.8182\n",
      "Epoch 3/50\n",
      "86/86 [==============================] - 0s 322us/sample - loss: 3.1539 - word_loss: 2.5761 - speaker_loss: 0.5778 - word_accuracy: 0.2442 - speaker_accuracy: 0.8023 - val_loss: 2.9908 - val_word_loss: 2.4817 - val_speaker_loss: 0.5091 - val_word_accuracy: 0.2273 - val_speaker_accuracy: 0.8182\n",
      "Epoch 4/50\n",
      "86/86 [==============================] - 0s 302us/sample - loss: 2.9857 - word_loss: 2.4419 - speaker_loss: 0.5438 - word_accuracy: 0.3605 - speaker_accuracy: 0.8023 - val_loss: 2.9392 - val_word_loss: 2.4013 - val_speaker_loss: 0.5379 - val_word_accuracy: 0.2727 - val_speaker_accuracy: 0.8182\n",
      "Epoch 5/50\n",
      "86/86 [==============================] - 0s 310us/sample - loss: 2.8392 - word_loss: 2.2950 - speaker_loss: 0.5442 - word_accuracy: 0.3140 - speaker_accuracy: 0.8023 - val_loss: 2.8588 - val_word_loss: 2.3361 - val_speaker_loss: 0.5227 - val_word_accuracy: 0.2727 - val_speaker_accuracy: 0.8182\n",
      "Epoch 6/50\n",
      "86/86 [==============================] - 0s 286us/sample - loss: 2.6327 - word_loss: 2.1594 - speaker_loss: 0.4733 - word_accuracy: 0.3140 - speaker_accuracy: 0.8140 - val_loss: 2.7397 - val_word_loss: 2.2662 - val_speaker_loss: 0.4735 - val_word_accuracy: 0.3182 - val_speaker_accuracy: 0.8182\n",
      "Epoch 7/50\n",
      "86/86 [==============================] - 0s 331us/sample - loss: 2.4611 - word_loss: 2.0698 - speaker_loss: 0.3912 - word_accuracy: 0.3605 - speaker_accuracy: 0.8256 - val_loss: 2.5986 - val_word_loss: 2.1841 - val_speaker_loss: 0.4145 - val_word_accuracy: 0.3636 - val_speaker_accuracy: 0.8182\n",
      "Epoch 8/50\n",
      "86/86 [==============================] - 0s 296us/sample - loss: 2.2073 - word_loss: 1.8744 - speaker_loss: 0.3329 - word_accuracy: 0.4302 - speaker_accuracy: 0.8256 - val_loss: 2.4441 - val_word_loss: 2.0759 - val_speaker_loss: 0.3682 - val_word_accuracy: 0.3636 - val_speaker_accuracy: 0.8182\n",
      "Epoch 9/50\n",
      "86/86 [==============================] - 0s 273us/sample - loss: 1.9688 - word_loss: 1.6801 - speaker_loss: 0.2887 - word_accuracy: 0.5349 - speaker_accuracy: 0.8837 - val_loss: 2.2823 - val_word_loss: 1.9426 - val_speaker_loss: 0.3397 - val_word_accuracy: 0.3636 - val_speaker_accuracy: 0.8636\n",
      "Epoch 10/50\n",
      "86/86 [==============================] - 0s 315us/sample - loss: 1.8302 - word_loss: 1.5430 - speaker_loss: 0.2872 - word_accuracy: 0.5349 - speaker_accuracy: 0.9302 - val_loss: 2.1130 - val_word_loss: 1.7964 - val_speaker_loss: 0.3166 - val_word_accuracy: 0.4091 - val_speaker_accuracy: 0.8636\n",
      "Epoch 11/50\n",
      "86/86 [==============================] - 0s 294us/sample - loss: 1.6371 - word_loss: 1.4229 - speaker_loss: 0.2142 - word_accuracy: 0.5349 - speaker_accuracy: 0.9767 - val_loss: 1.9396 - val_word_loss: 1.6485 - val_speaker_loss: 0.2911 - val_word_accuracy: 0.4545 - val_speaker_accuracy: 0.8636\n",
      "Epoch 12/50\n",
      "86/86 [==============================] - 0s 392us/sample - loss: 1.5639 - word_loss: 1.3694 - speaker_loss: 0.1945 - word_accuracy: 0.6047 - speaker_accuracy: 0.9767 - val_loss: 1.7858 - val_word_loss: 1.5166 - val_speaker_loss: 0.2692 - val_word_accuracy: 0.4545 - val_speaker_accuracy: 0.8636\n",
      "Epoch 13/50\n",
      "86/86 [==============================] - 0s 316us/sample - loss: 1.3072 - word_loss: 1.1640 - speaker_loss: 0.1431 - word_accuracy: 0.6860 - speaker_accuracy: 0.9767 - val_loss: 1.6422 - val_word_loss: 1.3896 - val_speaker_loss: 0.2526 - val_word_accuracy: 0.4545 - val_speaker_accuracy: 0.8636\n",
      "Epoch 14/50\n",
      "86/86 [==============================] - 0s 319us/sample - loss: 1.1555 - word_loss: 1.0520 - speaker_loss: 0.1035 - word_accuracy: 0.7558 - speaker_accuracy: 0.9767 - val_loss: 1.4909 - val_word_loss: 1.2513 - val_speaker_loss: 0.2396 - val_word_accuracy: 0.5455 - val_speaker_accuracy: 0.8636\n",
      "Epoch 15/50\n",
      "86/86 [==============================] - 0s 299us/sample - loss: 0.9938 - word_loss: 0.8771 - speaker_loss: 0.1168 - word_accuracy: 0.8721 - speaker_accuracy: 0.9535 - val_loss: 1.3293 - val_word_loss: 1.1040 - val_speaker_loss: 0.2253 - val_word_accuracy: 0.7727 - val_speaker_accuracy: 0.8636\n",
      "Epoch 16/50\n",
      "86/86 [==============================] - 0s 309us/sample - loss: 0.8291 - word_loss: 0.7286 - speaker_loss: 0.1004 - word_accuracy: 0.9070 - speaker_accuracy: 0.9767 - val_loss: 1.1846 - val_word_loss: 0.9744 - val_speaker_loss: 0.2102 - val_word_accuracy: 0.7727 - val_speaker_accuracy: 0.8636\n",
      "Epoch 17/50\n",
      "86/86 [==============================] - 0s 318us/sample - loss: 0.7646 - word_loss: 0.6699 - speaker_loss: 0.0948 - word_accuracy: 0.9070 - speaker_accuracy: 0.9884 - val_loss: 1.0582 - val_word_loss: 0.8613 - val_speaker_loss: 0.1969 - val_word_accuracy: 0.7273 - val_speaker_accuracy: 0.8636\n",
      "Epoch 18/50\n",
      "86/86 [==============================] - 0s 291us/sample - loss: 0.6431 - word_loss: 0.5518 - speaker_loss: 0.0913 - word_accuracy: 0.9186 - speaker_accuracy: 0.9884 - val_loss: 0.9245 - val_word_loss: 0.7403 - val_speaker_loss: 0.1843 - val_word_accuracy: 0.8182 - val_speaker_accuracy: 0.8636\n",
      "Epoch 19/50\n",
      "86/86 [==============================] - 0s 288us/sample - loss: 0.5261 - word_loss: 0.4548 - speaker_loss: 0.0713 - word_accuracy: 0.9302 - speaker_accuracy: 0.9884 - val_loss: 0.7698 - val_word_loss: 0.5965 - val_speaker_loss: 0.1734 - val_word_accuracy: 0.8182 - val_speaker_accuracy: 0.8636\n",
      "Epoch 20/50\n",
      "86/86 [==============================] - 0s 320us/sample - loss: 0.4154 - word_loss: 0.3467 - speaker_loss: 0.0688 - word_accuracy: 0.9884 - speaker_accuracy: 0.9884 - val_loss: 0.6308 - val_word_loss: 0.4651 - val_speaker_loss: 0.1657 - val_word_accuracy: 0.9545 - val_speaker_accuracy: 0.8636\n",
      "Epoch 21/50\n",
      "86/86 [==============================] - 0s 320us/sample - loss: 0.3460 - word_loss: 0.2968 - speaker_loss: 0.0492 - word_accuracy: 0.9884 - speaker_accuracy: 1.0000 - val_loss: 0.5316 - val_word_loss: 0.3701 - val_speaker_loss: 0.1615 - val_word_accuracy: 1.0000 - val_speaker_accuracy: 0.8636\n",
      "Epoch 22/50\n",
      "86/86 [==============================] - 0s 306us/sample - loss: 0.2773 - word_loss: 0.2302 - speaker_loss: 0.0471 - word_accuracy: 0.9651 - speaker_accuracy: 1.0000 - val_loss: 0.4574 - val_word_loss: 0.2998 - val_speaker_loss: 0.1576 - val_word_accuracy: 1.0000 - val_speaker_accuracy: 0.8636\n",
      "Epoch 23/50\n",
      "86/86 [==============================] - 0s 289us/sample - loss: 0.2448 - word_loss: 0.1998 - speaker_loss: 0.0450 - word_accuracy: 0.9767 - speaker_accuracy: 0.9884 - val_loss: 0.4010 - val_word_loss: 0.2447 - val_speaker_loss: 0.1562 - val_word_accuracy: 1.0000 - val_speaker_accuracy: 0.8636\n",
      "Epoch 24/50\n",
      "86/86 [==============================] - 0s 336us/sample - loss: 0.1796 - word_loss: 0.1411 - speaker_loss: 0.0385 - word_accuracy: 1.0000 - speaker_accuracy: 0.9884 - val_loss: 0.3682 - val_word_loss: 0.2164 - val_speaker_loss: 0.1518 - val_word_accuracy: 1.0000 - val_speaker_accuracy: 0.9091\n",
      "Epoch 25/50\n",
      "86/86 [==============================] - 0s 326us/sample - loss: 0.1539 - word_loss: 0.1177 - speaker_loss: 0.0362 - word_accuracy: 0.9884 - speaker_accuracy: 1.0000 - val_loss: 0.3385 - val_word_loss: 0.1929 - val_speaker_loss: 0.1456 - val_word_accuracy: 1.0000 - val_speaker_accuracy: 0.9091\n",
      "Epoch 26/50\n",
      "86/86 [==============================] - 0s 318us/sample - loss: 0.1106 - word_loss: 0.0858 - speaker_loss: 0.0247 - word_accuracy: 1.0000 - speaker_accuracy: 1.0000 - val_loss: 0.3251 - val_word_loss: 0.1846 - val_speaker_loss: 0.1405 - val_word_accuracy: 1.0000 - val_speaker_accuracy: 0.9091\n",
      "Epoch 27/50\n",
      "86/86 [==============================] - 0s 307us/sample - loss: 0.1071 - word_loss: 0.0832 - speaker_loss: 0.0239 - word_accuracy: 0.9884 - speaker_accuracy: 1.0000 - val_loss: 0.3035 - val_word_loss: 0.1693 - val_speaker_loss: 0.1342 - val_word_accuracy: 1.0000 - val_speaker_accuracy: 0.9091\n"
     ]
    },
    {
     "name": "stdout",
     "output_type": "stream",
     "text": [
      "Epoch 28/50\n",
      "86/86 [==============================] - 0s 289us/sample - loss: 0.0728 - word_loss: 0.0500 - speaker_loss: 0.0228 - word_accuracy: 1.0000 - speaker_accuracy: 1.0000 - val_loss: 0.2836 - val_word_loss: 0.1542 - val_speaker_loss: 0.1294 - val_word_accuracy: 1.0000 - val_speaker_accuracy: 0.9091\n",
      "Epoch 29/50\n",
      "86/86 [==============================] - 0s 275us/sample - loss: 0.0595 - word_loss: 0.0452 - speaker_loss: 0.0143 - word_accuracy: 1.0000 - speaker_accuracy: 1.0000 - val_loss: 0.2640 - val_word_loss: 0.1382 - val_speaker_loss: 0.1258 - val_word_accuracy: 1.0000 - val_speaker_accuracy: 0.9091\n",
      "Epoch 30/50\n",
      "86/86 [==============================] - 0s 333us/sample - loss: 0.0493 - word_loss: 0.0331 - speaker_loss: 0.0162 - word_accuracy: 1.0000 - speaker_accuracy: 1.0000 - val_loss: 0.2463 - val_word_loss: 0.1240 - val_speaker_loss: 0.1224 - val_word_accuracy: 1.0000 - val_speaker_accuracy: 0.9091\n",
      "Epoch 31/50\n",
      "86/86 [==============================] - 0s 347us/sample - loss: 0.0543 - word_loss: 0.0361 - speaker_loss: 0.0182 - word_accuracy: 1.0000 - speaker_accuracy: 1.0000 - val_loss: 0.2309 - val_word_loss: 0.1110 - val_speaker_loss: 0.1199 - val_word_accuracy: 1.0000 - val_speaker_accuracy: 0.9091\n",
      "Epoch 32/50\n",
      "86/86 [==============================] - 0s 313us/sample - loss: 0.0422 - word_loss: 0.0295 - speaker_loss: 0.0127 - word_accuracy: 1.0000 - speaker_accuracy: 1.0000 - val_loss: 0.2176 - val_word_loss: 0.0962 - val_speaker_loss: 0.1215 - val_word_accuracy: 1.0000 - val_speaker_accuracy: 0.9091\n",
      "Epoch 33/50\n",
      "86/86 [==============================] - 0s 267us/sample - loss: 0.0439 - word_loss: 0.0376 - speaker_loss: 0.0064 - word_accuracy: 0.9884 - speaker_accuracy: 1.0000 - val_loss: 0.1952 - val_word_loss: 0.0714 - val_speaker_loss: 0.1238 - val_word_accuracy: 1.0000 - val_speaker_accuracy: 0.9091\n",
      "Epoch 34/50\n",
      "86/86 [==============================] - 0s 300us/sample - loss: 0.0287 - word_loss: 0.0233 - speaker_loss: 0.0054 - word_accuracy: 1.0000 - speaker_accuracy: 1.0000 - val_loss: 0.1812 - val_word_loss: 0.0547 - val_speaker_loss: 0.1265 - val_word_accuracy: 1.0000 - val_speaker_accuracy: 0.9091\n",
      "Epoch 35/50\n",
      "86/86 [==============================] - 0s 299us/sample - loss: 0.0187 - word_loss: 0.0129 - speaker_loss: 0.0057 - word_accuracy: 1.0000 - speaker_accuracy: 1.0000 - val_loss: 0.1761 - val_word_loss: 0.0446 - val_speaker_loss: 0.1315 - val_word_accuracy: 1.0000 - val_speaker_accuracy: 0.9091\n",
      "Epoch 36/50\n",
      "86/86 [==============================] - 0s 365us/sample - loss: 0.0193 - word_loss: 0.0126 - speaker_loss: 0.0067 - word_accuracy: 1.0000 - speaker_accuracy: 1.0000 - val_loss: 0.1763 - val_word_loss: 0.0379 - val_speaker_loss: 0.1384 - val_word_accuracy: 1.0000 - val_speaker_accuracy: 0.9091\n",
      "Epoch 37/50\n",
      "86/86 [==============================] - 0s 272us/sample - loss: 0.0216 - word_loss: 0.0119 - speaker_loss: 0.0097 - word_accuracy: 1.0000 - speaker_accuracy: 1.0000 - val_loss: 0.1800 - val_word_loss: 0.0332 - val_speaker_loss: 0.1469 - val_word_accuracy: 1.0000 - val_speaker_accuracy: 0.9091\n",
      "Epoch 38/50\n",
      "86/86 [==============================] - 0s 282us/sample - loss: 0.0191 - word_loss: 0.0100 - speaker_loss: 0.0091 - word_accuracy: 1.0000 - speaker_accuracy: 1.0000 - val_loss: 0.1894 - val_word_loss: 0.0298 - val_speaker_loss: 0.1596 - val_word_accuracy: 1.0000 - val_speaker_accuracy: 0.9091\n",
      "Epoch 39/50\n",
      "86/86 [==============================] - 0s 280us/sample - loss: 0.0168 - word_loss: 0.0102 - speaker_loss: 0.0066 - word_accuracy: 1.0000 - speaker_accuracy: 1.0000 - val_loss: 0.2009 - val_word_loss: 0.0270 - val_speaker_loss: 0.1739 - val_word_accuracy: 1.0000 - val_speaker_accuracy: 0.9091\n",
      "Epoch 40/50\n",
      "86/86 [==============================] - 0s 287us/sample - loss: 0.0109 - word_loss: 0.0073 - speaker_loss: 0.0036 - word_accuracy: 1.0000 - speaker_accuracy: 1.0000 - val_loss: 0.2142 - val_word_loss: 0.0250 - val_speaker_loss: 0.1892 - val_word_accuracy: 1.0000 - val_speaker_accuracy: 0.9091\n",
      "Epoch 41/50\n",
      "86/86 [==============================] - 0s 322us/sample - loss: 0.0138 - word_loss: 0.0095 - speaker_loss: 0.0043 - word_accuracy: 1.0000 - speaker_accuracy: 1.0000 - val_loss: 0.2278 - val_word_loss: 0.0230 - val_speaker_loss: 0.2048 - val_word_accuracy: 1.0000 - val_speaker_accuracy: 0.9091\n",
      "Epoch 42/50\n",
      "86/86 [==============================] - 0s 287us/sample - loss: 0.0147 - word_loss: 0.0093 - speaker_loss: 0.0054 - word_accuracy: 1.0000 - speaker_accuracy: 1.0000 - val_loss: 0.2336 - val_word_loss: 0.0217 - val_speaker_loss: 0.2119 - val_word_accuracy: 1.0000 - val_speaker_accuracy: 0.9091\n",
      "Epoch 43/50\n",
      "86/86 [==============================] - 0s 281us/sample - loss: 0.0113 - word_loss: 0.0086 - speaker_loss: 0.0028 - word_accuracy: 1.0000 - speaker_accuracy: 1.0000 - val_loss: 0.2393 - val_word_loss: 0.0208 - val_speaker_loss: 0.2185 - val_word_accuracy: 1.0000 - val_speaker_accuracy: 0.9091\n",
      "Epoch 44/50\n",
      "86/86 [==============================] - 0s 286us/sample - loss: 0.0159 - word_loss: 0.0103 - speaker_loss: 0.0055 - word_accuracy: 1.0000 - speaker_accuracy: 1.0000 - val_loss: 0.2426 - val_word_loss: 0.0200 - val_speaker_loss: 0.2226 - val_word_accuracy: 1.0000 - val_speaker_accuracy: 0.9091\n",
      "Epoch 45/50\n",
      "86/86 [==============================] - 0s 296us/sample - loss: 0.0073 - word_loss: 0.0055 - speaker_loss: 0.0017 - word_accuracy: 1.0000 - speaker_accuracy: 1.0000 - val_loss: 0.2465 - val_word_loss: 0.0203 - val_speaker_loss: 0.2262 - val_word_accuracy: 1.0000 - val_speaker_accuracy: 0.9091\n",
      "Epoch 46/50\n",
      "86/86 [==============================] - 0s 276us/sample - loss: 0.0073 - word_loss: 0.0038 - speaker_loss: 0.0035 - word_accuracy: 1.0000 - speaker_accuracy: 1.0000 - val_loss: 0.2507 - val_word_loss: 0.0208 - val_speaker_loss: 0.2300 - val_word_accuracy: 1.0000 - val_speaker_accuracy: 0.9091\n",
      "Epoch 47/50\n",
      "86/86 [==============================] - 0s 315us/sample - loss: 0.0066 - word_loss: 0.0052 - speaker_loss: 0.0015 - word_accuracy: 1.0000 - speaker_accuracy: 1.0000 - val_loss: 0.2547 - val_word_loss: 0.0217 - val_speaker_loss: 0.2330 - val_word_accuracy: 1.0000 - val_speaker_accuracy: 0.9091\n",
      "Epoch 48/50\n",
      "86/86 [==============================] - 0s 287us/sample - loss: 0.0141 - word_loss: 0.0058 - speaker_loss: 0.0083 - word_accuracy: 1.0000 - speaker_accuracy: 1.0000 - val_loss: 0.2543 - val_word_loss: 0.0233 - val_speaker_loss: 0.2311 - val_word_accuracy: 1.0000 - val_speaker_accuracy: 0.9091\n",
      "Epoch 49/50\n",
      "86/86 [==============================] - 0s 298us/sample - loss: 0.0110 - word_loss: 0.0090 - speaker_loss: 0.0020 - word_accuracy: 1.0000 - speaker_accuracy: 1.0000 - val_loss: 0.2523 - val_word_loss: 0.0252 - val_speaker_loss: 0.2271 - val_word_accuracy: 1.0000 - val_speaker_accuracy: 0.9091\n",
      "Epoch 50/50\n",
      "86/86 [==============================] - 0s 278us/sample - loss: 0.0043 - word_loss: 0.0024 - speaker_loss: 0.0019 - word_accuracy: 1.0000 - speaker_accuracy: 1.0000 - val_loss: 0.2506 - val_word_loss: 0.0276 - val_speaker_loss: 0.2231 - val_word_accuracy: 1.0000 - val_speaker_accuracy: 0.9091\n"
     ]
    }
   ],
   "source": [
    "# Training\n",
    "history=model.fit(trainX, [trainYwords_cat,trainYspeakers_cat], batch_size=108,nb_epoch=50,validation_split=0.2)"
   ]
  },
  {
   "cell_type": "code",
   "execution_count": 8,
   "metadata": {},
   "outputs": [
    {
     "name": "stdout",
     "output_type": "stream",
     "text": [
      "(2, 30, 20)\n",
      "[[6.9077441e-04 3.6773039e-07 2.8914087e-06 1.8668650e-05 1.3194502e-06\n",
      "  6.5095919e-06 2.1680782e-04 2.5589763e-05 1.9420349e-06 1.5823221e-05\n",
      "  9.9882799e-01 2.1837368e-06 3.7675275e-06 1.1820406e-04 2.8638642e-06\n",
      "  2.6985623e-07 6.4024920e-05]] [[1.4509758e-05 5.6985191e-06 3.4389617e-05 9.9994540e-01]]\n",
      "10 = 0.998828\n",
      "3 = 0.9999454\n",
      "paco  ha dicho ' para '\n",
      "['avanza' 'buenos-dias' 'casa' 'cinco' 'cuatro' 'dos' 'hola' 'no' 'nueve'\n",
      " 'ocho' 'para' 'retrocede' 'seis' 'si' 'siete' 'tres' 'uno']\n",
      "['carlos' 'eva' 'irene' 'paco']\n"
     ]
    }
   ],
   "source": [
    "print(trainX[5:7,:,:].shape)\n",
    "predWord,predSpeaker=model.predict(trainX[5:6,:,:])\n",
    "print(predWord,predSpeaker)\n",
    "y_predWord   = np.argmax(predWord)\n",
    "y_predSpeaker= np.argmax(predSpeaker)\n",
    "print(y_predWord,\"=\",np.max(predWord))\n",
    "print(y_predSpeaker,\"=\",np.max(predSpeaker))\n",
    "word=ea.leWords.inverse_transform([y_predWord])\n",
    "speaker=ea.leSpeakers.inverse_transform([y_predSpeaker])\n",
    "print(speaker[0],\" ha dicho \\'\",word[0],\"\\'\")\n",
    "print(ea.leWords.classes_)\n",
    "print(ea.leSpeakers.classes_)"
   ]
  },
  {
   "cell_type": "code",
   "execution_count": 1,
   "metadata": {},
   "outputs": [
    {
     "name": "stdout",
     "output_type": "stream",
     "text": [
      "\n",
      "Input File     : 'default' (alsa)\n",
      "Channels       : 2\n",
      "Sample Rate    : 16000\n",
      "Precision      : 16-bit\n",
      "Sample Encoding: 16-bit Signed Integer PCM\n",
      "\n",
      "In:0.00% 00:00:02.56 [00:00:00.00] Out:4.27k [      |      ]        Clip:0    \n",
      "Done.\n",
      "Playing WAVE 'recording.wav' : Signed 16 bit Little Endian, Rate 16000 Hz, Stereo\n"
     ]
    }
   ],
   "source": [
    "!sox -r 16000 -t alsa default recording.wav silence 1 0.1 1% 1 1.5 1%\n",
    "!aplay \"recording.wav\""
   ]
  },
  {
   "cell_type": "code",
   "execution_count": 23,
   "metadata": {},
   "outputs": [
    {
     "name": "stdout",
     "output_type": "stream",
     "text": [
      "Playing WAVE 'recording.wav' : Signed 16 bit Little Endian, Rate 16000 Hz, Stereo\r\n"
     ]
    }
   ],
   "source": [
    "!aplay \"recording.wav\""
   ]
  },
  {
   "cell_type": "code",
   "execution_count": 12,
   "metadata": {},
   "outputs": [
    {
     "name": "stdout",
     "output_type": "stream",
     "text": [
      "16000 wave= (4268,) mfcc= (9, 20) file= recording.wav\n"
     ]
    },
    {
     "data": {
      "text/plain": [
       "(1, 30, 20)"
      ]
     },
     "execution_count": 12,
     "metadata": {},
     "output_type": "execute_result"
    }
   ],
   "source": [
    "sample=wav2mfcc(\"recording.wav\")\n",
    "sample=np.expand_dims(np.array(sample),axis=0)\n",
    "sample.shape"
   ]
  },
  {
   "cell_type": "code",
   "execution_count": 13,
   "metadata": {},
   "outputs": [
    {
     "name": "stdout",
     "output_type": "stream",
     "text": [
      "[[5.3734693e-06 5.0096655e-06 4.8653033e-04 1.9779230e-07 4.5692109e-06\n",
      "  4.6217865e-05 9.9916232e-01 2.1973645e-05 5.2174738e-07 5.1471884e-06\n",
      "  2.4262894e-04 2.2538798e-07 1.2201465e-06 2.4372120e-08 1.1250569e-07\n",
      "  1.7694147e-05 4.1547412e-07]] [[1.2177546e-05 2.5807108e-06 1.2578537e-05 9.9997258e-01]]\n",
      "6 = 0.9991623\n",
      "3 = 0.9999726\n",
      "paco  ha dicho ' hola '\n",
      "['avanza' 'buenos-dias' 'casa' 'cinco' 'cuatro' 'dos' 'hola' 'no' 'nueve'\n",
      " 'ocho' 'para' 'retrocede' 'seis' 'si' 'siete' 'tres' 'uno']\n",
      "['carlos' 'eva' 'irene' 'paco']\n"
     ]
    }
   ],
   "source": [
    "predWord,predSpeaker=model.predict([sample])\n",
    "print(predWord,predSpeaker)\n",
    "y_predWord   = np.argmax(predWord)\n",
    "y_predSpeaker= np.argmax(predSpeaker)\n",
    "print(y_predWord,\"=\",np.max(predWord))\n",
    "print(y_predSpeaker,\"=\",np.max(predSpeaker))\n",
    "word=ea.leWords.inverse_transform([y_predWord])\n",
    "speaker=ea.leSpeakers.inverse_transform([y_predSpeaker])\n",
    "print(speaker[0],\" ha dicho \\'\",word[0],\"\\'\")\n",
    "print(ea.leWords.classes_)\n",
    "print(ea.leSpeakers.classes_)"
   ]
  },
  {
   "cell_type": "code",
   "execution_count": null,
   "metadata": {},
   "outputs": [],
   "source": []
  }
 ],
 "metadata": {
  "kernelspec": {
   "display_name": "Python 3",
   "language": "python",
   "name": "python3"
  },
  "language_info": {
   "codemirror_mode": {
    "name": "ipython",
    "version": 3
   },
   "file_extension": ".py",
   "mimetype": "text/x-python",
   "name": "python",
   "nbconvert_exporter": "python",
   "pygments_lexer": "ipython3",
   "version": "3.7.7"
  },
  "widgets": {
   "state": {},
   "version": "1.1.2"
  }
 },
 "nbformat": 4,
 "nbformat_minor": 2
}
