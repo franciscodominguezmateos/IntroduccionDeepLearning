{
 "cells": [
  {
   "cell_type": "code",
   "execution_count": 4,
   "metadata": {},
   "outputs": [],
   "source": [
    "\"\"\"\n",
    "Automatic speech recognition and speaker identity\n",
    "\"\"\"\n",
    "from __future__ import division, print_function, absolute_import\n",
    "import os\n",
    "import numpy as np\n",
    "import sklearn.preprocessing as prep\n",
    "import librosa\n",
    "from tensorflow import keras\n",
    "from tensorflow.keras import layers\n",
    "from tensorflow.keras.layers import Input,Dense, Dropout\n",
    "from tensorflow.keras.layers import Embedding, Bidirectional,Conv1D,GlobalMaxPooling1D,LSTM\n",
    "from tensorflow.keras.preprocessing.sequence import pad_sequences\n",
    "from tensorflow.keras.models import Sequential, Model\n",
    "from tensorflow.keras import utils,losses"
   ]
  },
  {
   "cell_type": "code",
   "execution_count": 6,
   "metadata": {},
   "outputs": [
    {
     "name": "stdout",
     "output_type": "stream",
     "text": [
      "Imports doned\n",
      "fNames= 108\n",
      "16000 wave= (3871,) mfcc= (8, 20) file= /home/francisco/voz/paco_no_006.wav\n",
      "16000 wave= (4963,) mfcc= (10, 20) file= /home/francisco/voz/paco_si_008.wav\n",
      "16000 wave= (9285,) mfcc= (19, 20) file= /home/francisco/voz/paco_dos_002.wav\n",
      "16000 wave= (4434,) mfcc= (9, 20) file= /home/francisco/voz/paco_uno_004.wav\n",
      "16000 wave= (2428,) mfcc= (5, 20) file= /home/francisco/voz/paco_no_007.wav\n",
      "16000 wave= (4882,) mfcc= (10, 20) file= /home/francisco/voz/paco_para_003.wav\n",
      "16000 wave= (6972,) mfcc= (14, 20) file= /home/francisco/voz/paco_cuatro_003.wav\n",
      "16000 wave= (6524,) mfcc= (13, 20) file= /home/francisco/voz/paco_nueve_001.wav\n",
      "16000 wave= (4630,) mfcc= (10, 20) file= /home/francisco/voz/carlos_si_002.wav\n",
      "16000 wave= (14450,) mfcc= (29, 20) file= /home/francisco/voz/paco_buenos-dias_001.wav\n",
      "16000 wave= (14816,) mfcc= (29, 20) file= /home/francisco/voz/paco_buenos-dias_003.wav\n",
      "16000 wave= (6847,) mfcc= (14, 20) file= /home/francisco/voz/irene_hola_003.wav\n",
      "16000 wave= (9176,) mfcc= (18, 20) file= /home/francisco/voz/paco_seis_001.wav\n",
      "16000 wave= (8618,) mfcc= (17, 20) file= /home/francisco/voz/paco_buenos-dias_007.wav\n",
      "16000 wave= (6462,) mfcc= (13, 20) file= /home/francisco/voz/paco_ocho_001.wav\n",
      "16000 wave= (9845,) mfcc= (20, 20) file= /home/francisco/voz/paco_cinco_001.wav\n",
      "16000 wave= (7270,) mfcc= (15, 20) file= /home/francisco/voz/carlos_hola_001.wav\n",
      "16000 wave= (5075,) mfcc= (10, 20) file= /home/francisco/voz/paco_hola_001.wav\n",
      "16000 wave= (5616,) mfcc= (11, 20) file= /home/francisco/voz/paco_nueve_002.wav\n",
      "16000 wave= (3896,) mfcc= (8, 20) file= /home/francisco/voz/paco_no_005.wav\n",
      "16000 wave= (7073,) mfcc= (14, 20) file= /home/francisco/voz/irene_hola_002.wav\n",
      "16000 wave= (5872,) mfcc= (12, 20) file= /home/francisco/voz/paco_si_004.wav\n",
      "16000 wave= (5357,) mfcc= (11, 20) file= /home/francisco/voz/paco_hola_002.wav\n",
      "16000 wave= (7849,) mfcc= (16, 20) file= /home/francisco/voz/paco_avanza_001.wav\n",
      "16000 wave= (5757,) mfcc= (12, 20) file= /home/francisco/voz/paco_siete_006.wav\n",
      "16000 wave= (6423,) mfcc= (13, 20) file= /home/francisco/voz/paco_cuatro_004.wav\n",
      "16000 wave= (13648,) mfcc= (27, 20) file= /home/francisco/voz/eva_si_001.wav\n",
      "16000 wave= (5589,) mfcc= (11, 20) file= /home/francisco/voz/paco_para_002.wav\n",
      "16000 wave= (8627,) mfcc= (17, 20) file= /home/francisco/voz/eva_si_003.wav\n",
      "16000 wave= (8331,) mfcc= (17, 20) file= /home/francisco/voz/paco_si_002.wav\n",
      "16000 wave= (5890,) mfcc= (12, 20) file= /home/francisco/voz/paco_si_006.wav\n",
      "16000 wave= (9059,) mfcc= (18, 20) file= /home/francisco/voz/paco_seis_002.wav\n",
      "16000 wave= (12950,) mfcc= (26, 20) file= /home/francisco/voz/paco_buenos-dias_006.wav\n",
      "16000 wave= (7160,) mfcc= (14, 20) file= /home/francisco/voz/paco_cinco_005.wav\n",
      "16000 wave= (8972,) mfcc= (18, 20) file= /home/francisco/voz/paco_ocho_003.wav\n",
      "16000 wave= (5043,) mfcc= (10, 20) file= /home/francisco/voz/carlos_no_004.wav\n",
      "16000 wave= (5458,) mfcc= (11, 20) file= /home/francisco/voz/paco_dos_004.wav\n",
      "16000 wave= (12632,) mfcc= (25, 20) file= /home/francisco/voz/paco_buenos-dias_002.wav\n",
      "16000 wave= (9099,) mfcc= (18, 20) file= /home/francisco/voz/paco_cinco_003.wav\n",
      "16000 wave= (6113,) mfcc= (12, 20) file= /home/francisco/voz/paco_uno_003.wav\n",
      "16000 wave= (7262,) mfcc= (15, 20) file= /home/francisco/voz/paco_nueve_005.wav\n",
      "16000 wave= (6069,) mfcc= (12, 20) file= /home/francisco/voz/paco_si_007.wav\n",
      "16000 wave= (3702,) mfcc= (8, 20) file= /home/francisco/voz/paco_no_004.wav\n",
      "16000 wave= (6401,) mfcc= (13, 20) file= /home/francisco/voz/paco_casa_002.wav\n",
      "16000 wave= (5847,) mfcc= (12, 20) file= /home/francisco/voz/carlos_hola_002.wav\n",
      "16000 wave= (14357,) mfcc= (29, 20) file= /home/francisco/voz/carlos_no_003.wav\n",
      "16000 wave= (10812,) mfcc= (22, 20) file= /home/francisco/voz/paco_retrocede_003.wav\n",
      "16000 wave= (5622,) mfcc= (11, 20) file= /home/francisco/voz/carlos_si_003.wav\n",
      "16000 wave= (7438,) mfcc= (15, 20) file= /home/francisco/voz/carlos_si_001.wav\n",
      "16000 wave= (11913,) mfcc= (24, 20) file= /home/francisco/voz/eva_hola_001.wav\n",
      "16000 wave= (8079,) mfcc= (16, 20) file= /home/francisco/voz/paco_tres_004.wav\n",
      "16000 wave= (9890,) mfcc= (20, 20) file= /home/francisco/voz/paco_seis_004.wav\n",
      "16000 wave= (7270,) mfcc= (15, 20) file= /home/francisco/voz/paco_ocho_004.wav\n",
      "16000 wave= (8388,) mfcc= (17, 20) file= /home/francisco/voz/paco_avanza_002.wav\n",
      "16000 wave= (6892,) mfcc= (14, 20) file= /home/francisco/voz/paco_cinco_004.wav\n",
      "16000 wave= (6376,) mfcc= (13, 20) file= /home/francisco/voz/eva_no_002.wav\n",
      "16000 wave= (8327,) mfcc= (17, 20) file= /home/francisco/voz/irene_hola_001.wav\n",
      "16000 wave= (8631,) mfcc= (17, 20) file= /home/francisco/voz/paco_tres_001.wav\n",
      "16000 wave= (10345,) mfcc= (21, 20) file= /home/francisco/voz/paco_retrocede_001.wav\n",
      "16000 wave= (7202,) mfcc= (15, 20) file= /home/francisco/voz/paco_uno_002.wav\n",
      "16000 wave= (8066,) mfcc= (16, 20) file= /home/francisco/voz/paco_si_001.wav\n",
      "16000 wave= (8532,) mfcc= (17, 20) file= /home/francisco/voz/paco_avanza_003.wav\n",
      "16000 wave= (4172,) mfcc= (9, 20) file= /home/francisco/voz/paco_uno_005.wav\n",
      "16000 wave= (6704,) mfcc= (14, 20) file= /home/francisco/voz/paco_tres_003.wav\n",
      "16000 wave= (6756,) mfcc= (14, 20) file= /home/francisco/voz/paco_dos_003.wav\n",
      "16000 wave= (7346,) mfcc= (15, 20) file= /home/francisco/voz/paco_si_003.wav\n",
      "16000 wave= (7641,) mfcc= (15, 20) file= /home/francisco/voz/paco_cuatro_001.wav\n",
      "16000 wave= (7219,) mfcc= (15, 20) file= /home/francisco/voz/paco_cuatro_002.wav\n",
      "16000 wave= (4615,) mfcc= (10, 20) file= /home/francisco/voz/paco_hola_003.wav\n",
      "16000 wave= (6946,) mfcc= (14, 20) file= /home/francisco/voz/carlos_no_002.wav\n",
      "16000 wave= (6780,) mfcc= (14, 20) file= /home/francisco/voz/paco_casa_001.wav\n",
      "16000 wave= (10073,) mfcc= (20, 20) file= /home/francisco/voz/paco_cinco_002.wav\n",
      "16000 wave= (16053,) mfcc= (32, 20) file= /home/francisco/voz/carlos_no_001.wav\n",
      "16000 wave= (10295,) mfcc= (21, 20) file= /home/francisco/voz/paco_retrocede_002.wav\n",
      "16000 wave= (9721,) mfcc= (19, 20) file= /home/francisco/voz/paco_siete_003.wav\n",
      "16000 wave= (10343,) mfcc= (21, 20) file= /home/francisco/voz/paco_seis_005.wav\n",
      "16000 wave= (6120,) mfcc= (12, 20) file= /home/francisco/voz/paco_cinco_006.wav\n",
      "16000 wave= (5663,) mfcc= (12, 20) file= /home/francisco/voz/eva_hola_003.wav\n",
      "16000 wave= (8196,) mfcc= (17, 20) file= /home/francisco/voz/paco_buenos-dias_009.wav\n",
      "16000 wave= (5703,) mfcc= (12, 20) file= /home/francisco/voz/paco_para_001.wav\n",
      "16000 wave= (11447,) mfcc= (23, 20) file= /home/francisco/voz/paco_buenos-dias_008.wav\n",
      "16000 wave= (10506,) mfcc= (21, 20) file= /home/francisco/voz/paco_buenos-dias_011.wav\n",
      "16000 wave= (5693,) mfcc= (12, 20) file= /home/francisco/voz/paco_si_005.wav\n",
      "16000 wave= (9067,) mfcc= (18, 20) file= /home/francisco/voz/paco_dos_001.wav\n",
      "16000 wave= (7430,) mfcc= (15, 20) file= /home/francisco/voz/paco_uno_001.wav\n",
      "16000 wave= (10625,) mfcc= (21, 20) file= /home/francisco/voz/paco_siete_001.wav\n",
      "16000 wave= (9775,) mfcc= (20, 20) file= /home/francisco/voz/paco_seis_003.wav\n",
      "16000 wave= (6215,) mfcc= (13, 20) file= /home/francisco/voz/eva_si_002.wav\n",
      "16000 wave= (7428,) mfcc= (15, 20) file= /home/francisco/voz/paco_casa_006.wav\n",
      "16000 wave= (4922,) mfcc= (10, 20) file= /home/francisco/voz/paco_no_003.wav\n",
      "16000 wave= (9324,) mfcc= (19, 20) file= /home/francisco/voz/paco_siete_005.wav\n",
      "16000 wave= (10615,) mfcc= (21, 20) file= /home/francisco/voz/paco_buenos-dias_004.wav\n",
      "16000 wave= (5213,) mfcc= (11, 20) file= /home/francisco/voz/carlos_hola_003.wav\n",
      "16000 wave= (10391,) mfcc= (21, 20) file= /home/francisco/voz/paco_siete_002.wav\n",
      "16000 wave= (8744,) mfcc= (18, 20) file= /home/francisco/voz/eva_hola_002.wav\n",
      "16000 wave= (7899,) mfcc= (16, 20) file= /home/francisco/voz/paco_tres_002.wav\n",
      "16000 wave= (11328,) mfcc= (23, 20) file= /home/francisco/voz/paco_buenos-dias_010.wav\n",
      "16000 wave= (8430,) mfcc= (17, 20) file= /home/francisco/voz/paco_casa_004.wav\n",
      "16000 wave= (7916,) mfcc= (16, 20) file= /home/francisco/voz/paco_ocho_002.wav\n",
      "16000 wave= (4710,) mfcc= (10, 20) file= /home/francisco/voz/paco_no_002.wav\n",
      "16000 wave= (12107,) mfcc= (24, 20) file= /home/francisco/voz/eva_no_001.wav\n",
      "16000 wave= (7368,) mfcc= (15, 20) file= /home/francisco/voz/paco_nueve_004.wav\n",
      "16000 wave= (7110,) mfcc= (14, 20) file= /home/francisco/voz/paco_casa_003.wav\n",
      "16000 wave= (4450,) mfcc= (9, 20) file= /home/francisco/voz/paco_no_001.wav\n",
      "16000 wave= (13038,) mfcc= (26, 20) file= /home/francisco/voz/paco_buenos-dias_005.wav\n",
      "16000 wave= (9621,) mfcc= (19, 20) file= /home/francisco/voz/paco_siete_004.wav\n",
      "16000 wave= (4254,) mfcc= (9, 20) file= /home/francisco/voz/paco_nueve_003.wav\n",
      "16000 wave= (5938,) mfcc= (12, 20) file= /home/francisco/voz/paco_casa_005.wav\n"
     ]
    },
    {
     "name": "stdout",
     "output_type": "stream",
     "text": [
      "108\n",
      "['no', 'si', 'dos', 'uno', 'no', 'para', 'cuatro', 'nueve', 'si', 'buenos-dias', 'buenos-dias', 'hola', 'seis', 'buenos-dias', 'ocho', 'cinco', 'hola', 'hola', 'nueve', 'no', 'hola', 'si', 'hola', 'avanza', 'siete', 'cuatro', 'si', 'para', 'si', 'si', 'si', 'seis', 'buenos-dias', 'cinco', 'ocho', 'no', 'dos', 'buenos-dias', 'cinco', 'uno', 'nueve', 'si', 'no', 'casa', 'hola', 'no', 'retrocede', 'si', 'si', 'hola', 'tres', 'seis', 'ocho', 'avanza', 'cinco', 'no', 'hola', 'tres', 'retrocede', 'uno', 'si', 'avanza', 'uno', 'tres', 'dos', 'si', 'cuatro', 'cuatro', 'hola', 'no', 'casa', 'cinco', 'no', 'retrocede', 'siete', 'seis', 'cinco', 'hola', 'buenos-dias', 'para', 'buenos-dias', 'buenos-dias', 'si', 'dos', 'uno', 'siete', 'seis', 'si', 'casa', 'no', 'siete', 'buenos-dias', 'hola', 'siete', 'hola', 'tres', 'buenos-dias', 'casa', 'ocho', 'no', 'no', 'nueve', 'casa', 'no', 'buenos-dias', 'siete', 'nueve', 'casa']\n",
      "['paco', 'paco', 'paco', 'paco', 'paco', 'paco', 'paco', 'paco', 'carlos', 'paco', 'paco', 'irene', 'paco', 'paco', 'paco', 'paco', 'carlos', 'paco', 'paco', 'paco', 'irene', 'paco', 'paco', 'paco', 'paco', 'paco', 'eva', 'paco', 'eva', 'paco', 'paco', 'paco', 'paco', 'paco', 'paco', 'carlos', 'paco', 'paco', 'paco', 'paco', 'paco', 'paco', 'paco', 'paco', 'carlos', 'carlos', 'paco', 'carlos', 'carlos', 'eva', 'paco', 'paco', 'paco', 'paco', 'paco', 'eva', 'irene', 'paco', 'paco', 'paco', 'paco', 'paco', 'paco', 'paco', 'paco', 'paco', 'paco', 'paco', 'paco', 'carlos', 'paco', 'paco', 'carlos', 'paco', 'paco', 'paco', 'paco', 'eva', 'paco', 'paco', 'paco', 'paco', 'paco', 'paco', 'paco', 'paco', 'paco', 'eva', 'paco', 'paco', 'paco', 'paco', 'carlos', 'paco', 'eva', 'paco', 'paco', 'paco', 'paco', 'paco', 'eva', 'paco', 'paco', 'paco', 'paco', 'paco', 'paco', 'paco']\n",
      "LabelEncoder()\n"
     ]
    }
   ],
   "source": [
    "print(\"Imports doned\")\n",
    "def wav2mfcc(file_path, max_pad_len=30):\n",
    "    wave, sampleRate = librosa.load(file_path, mono=True, sr=None)\n",
    "    wave=prep.maxabs_scale(wave) #Normalize amplitude to +-1\n",
    "    mfcc = librosa.feature.mfcc(wave, sr=sampleRate).transpose()\n",
    "    print(sampleRate,\"wave=\",wave.shape,\"mfcc=\",mfcc.shape,\"file=\",file_path)\n",
    "    #print(mfcc[1,:5])\n",
    "    dif=max_pad_len-mfcc.shape[0]\n",
    "    #padding sample\n",
    "    if dif>0:\n",
    "        #fill holes\n",
    "        #print(\"filling holes\")\n",
    "        for i in range(dif):\n",
    "            mfcc=np.vstack([mfcc,np.zeros(mfcc.shape[1])])\n",
    "    else:\n",
    "        #take away excess\n",
    "        #print(\"excess\")\n",
    "        mfcc=mfcc[:max_pad_len]\n",
    "    #print(mfcc.shape)\n",
    "    #print(mfcc[199,:5])\n",
    "    return mfcc\n",
    "\n",
    "# load wav files with this format speaker_word_number.wav\n",
    "class EasyASR(object):\n",
    "    '''\n",
    "    classdocs\n",
    "    '''\n",
    "    def __init__(self, filePath=\"/home/francisco/voz\"):\n",
    "        '''\n",
    "        Constructor\n",
    "        '''\n",
    "        basepath=filePath\n",
    "        self.mfccs=[]\n",
    "        self.speakers=[]\n",
    "        self.words=[]\n",
    "        fNames=os.listdir(basepath)\n",
    "        print(\"fNames=\",len(fNames))\n",
    "        for i,fn in enumerate(fNames):\n",
    "            #file name format speaker_word_number.wav\n",
    "            n,_=fn.split(\".\")#take away extension .wav\n",
    "            mfccs=wav2mfcc(basepath+'/{}.wav'.format(n))\n",
    "            self.mfccs.append(mfccs)\n",
    "            #decode file name format speaker_word_number\n",
    "            speaker,word,number=n.split(\"_\")\n",
    "            self.speakers.append(speaker)\n",
    "            self.words.append(word)\n",
    "        self.leSpeakers=prep.LabelEncoder()\n",
    "        self.leSpeakers.fit(self.speakers)\n",
    "        self.iSpeakerLabels=self.leSpeakers.transform(self.speakers)\n",
    "        self.leWords=prep.LabelEncoder()\n",
    "        self.leWords.fit(self.words)\n",
    "        self.iWordLabels=self.leWords.transform(self.words)\n",
    "        print(len(self.words))\n",
    "        print(self.words)\n",
    "        print(self.speakers)\n",
    "\n",
    "ea=EasyASR()\n",
    "print(ea.leWords)"
   ]
  },
  {
   "cell_type": "code",
   "execution_count": 7,
   "metadata": {},
   "outputs": [
    {
     "name": "stdout",
     "output_type": "stream",
     "text": [
      "17 4\n",
      "(108, 30, 20) (108, 17) (108, 4)\n"
     ]
    }
   ],
   "source": [
    "trainX, trainYwords, trainYspeakers = np.array(ea.mfccs),np.array(ea.iWordLabels),np.array(ea.iSpeakerLabels)\n",
    "#testX, testY = test\n",
    "\n",
    "maxlen=trainX.shape[1]\n",
    "lstm_hidden_units=128\n",
    "input_dim=trainX.shape[2]\n",
    "outputWords_dim=max(trainYwords)+1\n",
    "outputSpeakers_dim=max(trainYspeakers)+1\n",
    "\n",
    "print(outputWords_dim,outputSpeakers_dim)\n",
    "\n",
    "# Converting labels to binary vectors\n",
    "trainYwords_cat    = utils.to_categorical(trainYwords   ,outputWords_dim)\n",
    "trainYspeakers_cat = utils.to_categorical(trainYspeakers,outputSpeakers_dim)\n",
    "print (trainX.shape,trainYwords_cat.shape,trainYspeakers_cat.shape)"
   ]
  },
  {
   "cell_type": "code",
   "execution_count": 8,
   "metadata": {},
   "outputs": [],
   "source": [
    "# Network building\n",
    "def build_model_asr_lstm(input_dim,outputWords_dim,outputSpeakers_dim,hiden_dim=128):\n",
    "    input = Input(shape=(None,input_dim))\n",
    "    #x = LSTM(hiden_dim, input_dim=input_dim, input_length=maxlen)(input)\n",
    "    #x = Bidirectional(LSTM(hiden_dim))(input)\n",
    "    x = Bidirectional(LSTM(hiden_dim,return_sequences=True))(input)\n",
    "    x = Dropout(0.5)(x)\n",
    "    x = Bidirectional(LSTM(hiden_dim))(x)\n",
    "    x = Dropout(0.5)(x)\n",
    "    wd= Dense(hiden_dim)(x)\n",
    "    sd= Dense(hiden_dim)(x)\n",
    "    # from: https://www.tensorflow.org/guide/keras/train_and_evaluate\n",
    "    #       Passing data to multi-input, multi-output models\n",
    "    prediction_words    = Dense(outputWords_dim   , activation=\"softmax\", name=\"word\")(wd)\n",
    "    prediction_speakers = Dense(outputSpeakers_dim, activation=\"softmax\", name=\"speaker\")(sd)\n",
    "\n",
    "    model = Model(input, [prediction_words,prediction_speakers])\n",
    "    return model"
   ]
  },
  {
   "cell_type": "code",
   "execution_count": 9,
   "metadata": {},
   "outputs": [
    {
     "name": "stdout",
     "output_type": "stream",
     "text": [
      "Model: \"model\"\n",
      "__________________________________________________________________________________________________\n",
      "Layer (type)                    Output Shape         Param #     Connected to                     \n",
      "==================================================================================================\n",
      "input_1 (InputLayer)            [(None, None, 20)]   0                                            \n",
      "__________________________________________________________________________________________________\n",
      "bidirectional (Bidirectional)   (None, None, 256)    152576      input_1[0][0]                    \n",
      "__________________________________________________________________________________________________\n",
      "dropout (Dropout)               (None, None, 256)    0           bidirectional[0][0]              \n",
      "__________________________________________________________________________________________________\n",
      "bidirectional_1 (Bidirectional) (None, 256)          394240      dropout[0][0]                    \n",
      "__________________________________________________________________________________________________\n",
      "dropout_1 (Dropout)             (None, 256)          0           bidirectional_1[0][0]            \n",
      "__________________________________________________________________________________________________\n",
      "dense (Dense)                   (None, 128)          32896       dropout_1[0][0]                  \n",
      "__________________________________________________________________________________________________\n",
      "dense_1 (Dense)                 (None, 128)          32896       dropout_1[0][0]                  \n",
      "__________________________________________________________________________________________________\n",
      "word (Dense)                    (None, 17)           2193        dense[0][0]                      \n",
      "__________________________________________________________________________________________________\n",
      "speaker (Dense)                 (None, 4)            516         dense_1[0][0]                    \n",
      "==================================================================================================\n",
      "Total params: 615,317\n",
      "Trainable params: 615,317\n",
      "Non-trainable params: 0\n",
      "__________________________________________________________________________________________________\n"
     ]
    }
   ],
   "source": [
    "model=build_model_asr_lstm(input_dim,outputWords_dim,outputSpeakers_dim)\n",
    "model.compile(loss='categorical_crossentropy',optimizer='adam',metrics=['accuracy'])\n",
    "model.summary()"
   ]
  },
  {
   "cell_type": "code",
   "execution_count": 10,
   "metadata": {},
   "outputs": [
    {
     "name": "stdout",
     "output_type": "stream",
     "text": [
      "WARNING:tensorflow:The `nb_epoch` argument in `fit` has been renamed `epochs`.\n",
      "Train on 86 samples, validate on 22 samples\n",
      "Epoch 1/50\n",
      "86/86 [==============================] - 6s 72ms/sample - loss: 4.4664 - word_loss: 2.9561 - speaker_loss: 1.5103 - word_accuracy: 0.0465 - speaker_accuracy: 0.1047 - val_loss: 3.5419 - val_word_loss: 2.6608 - val_speaker_loss: 0.8811 - val_word_accuracy: 0.0909 - val_speaker_accuracy: 0.8182\n",
      "Epoch 2/50\n",
      "86/86 [==============================] - 0s 332us/sample - loss: 3.7190 - word_loss: 2.7674 - speaker_loss: 0.9515 - word_accuracy: 0.1395 - speaker_accuracy: 0.7674 - val_loss: 3.1851 - val_word_loss: 2.5868 - val_speaker_loss: 0.5983 - val_word_accuracy: 0.1818 - val_speaker_accuracy: 0.8182\n",
      "Epoch 3/50\n",
      "86/86 [==============================] - 0s 284us/sample - loss: 3.2468 - word_loss: 2.5699 - speaker_loss: 0.6769 - word_accuracy: 0.2558 - speaker_accuracy: 0.8140 - val_loss: 3.0575 - val_word_loss: 2.5155 - val_speaker_loss: 0.5419 - val_word_accuracy: 0.2273 - val_speaker_accuracy: 0.8182\n",
      "Epoch 4/50\n",
      "86/86 [==============================] - 0s 265us/sample - loss: 3.0446 - word_loss: 2.4726 - speaker_loss: 0.5720 - word_accuracy: 0.2442 - speaker_accuracy: 0.8023 - val_loss: 3.0095 - val_word_loss: 2.4485 - val_speaker_loss: 0.5610 - val_word_accuracy: 0.3636 - val_speaker_accuracy: 0.8182\n",
      "Epoch 5/50\n",
      "86/86 [==============================] - 0s 280us/sample - loss: 2.8154 - word_loss: 2.2665 - speaker_loss: 0.5489 - word_accuracy: 0.3140 - speaker_accuracy: 0.8023 - val_loss: 2.9432 - val_word_loss: 2.3819 - val_speaker_loss: 0.5613 - val_word_accuracy: 0.3182 - val_speaker_accuracy: 0.8182\n",
      "Epoch 6/50\n",
      "86/86 [==============================] - 0s 285us/sample - loss: 2.6727 - word_loss: 2.1742 - speaker_loss: 0.4985 - word_accuracy: 0.4070 - speaker_accuracy: 0.8023 - val_loss: 2.8411 - val_word_loss: 2.3118 - val_speaker_loss: 0.5293 - val_word_accuracy: 0.3182 - val_speaker_accuracy: 0.8182\n",
      "Epoch 7/50\n",
      "86/86 [==============================] - 0s 278us/sample - loss: 2.3850 - word_loss: 1.9591 - speaker_loss: 0.4259 - word_accuracy: 0.3953 - speaker_accuracy: 0.8256 - val_loss: 2.7192 - val_word_loss: 2.2369 - val_speaker_loss: 0.4823 - val_word_accuracy: 0.3182 - val_speaker_accuracy: 0.8182\n",
      "Epoch 8/50\n",
      "86/86 [==============================] - 0s 281us/sample - loss: 2.1848 - word_loss: 1.8292 - speaker_loss: 0.3556 - word_accuracy: 0.4535 - speaker_accuracy: 0.8256 - val_loss: 2.5830 - val_word_loss: 2.1399 - val_speaker_loss: 0.4430 - val_word_accuracy: 0.3182 - val_speaker_accuracy: 0.8182\n",
      "Epoch 9/50\n",
      "86/86 [==============================] - 0s 284us/sample - loss: 1.9539 - word_loss: 1.6532 - speaker_loss: 0.3008 - word_accuracy: 0.5233 - speaker_accuracy: 0.8837 - val_loss: 2.4482 - val_word_loss: 2.0291 - val_speaker_loss: 0.4190 - val_word_accuracy: 0.3182 - val_speaker_accuracy: 0.8182\n",
      "Epoch 10/50\n",
      "86/86 [==============================] - 0s 290us/sample - loss: 1.8373 - word_loss: 1.5466 - speaker_loss: 0.2907 - word_accuracy: 0.5930 - speaker_accuracy: 0.9302 - val_loss: 2.3089 - val_word_loss: 1.9117 - val_speaker_loss: 0.3972 - val_word_accuracy: 0.3182 - val_speaker_accuracy: 0.8636\n",
      "Epoch 11/50\n",
      "86/86 [==============================] - 0s 284us/sample - loss: 1.6980 - word_loss: 1.4357 - speaker_loss: 0.2624 - word_accuracy: 0.5930 - speaker_accuracy: 0.9419 - val_loss: 2.1467 - val_word_loss: 1.7842 - val_speaker_loss: 0.3624 - val_word_accuracy: 0.3636 - val_speaker_accuracy: 0.8636\n",
      "Epoch 12/50\n",
      "86/86 [==============================] - 0s 278us/sample - loss: 1.5709 - word_loss: 1.3502 - speaker_loss: 0.2207 - word_accuracy: 0.6047 - speaker_accuracy: 0.9302 - val_loss: 1.9653 - val_word_loss: 1.6483 - val_speaker_loss: 0.3170 - val_word_accuracy: 0.4091 - val_speaker_accuracy: 0.8636\n",
      "Epoch 13/50\n",
      "86/86 [==============================] - 0s 266us/sample - loss: 1.4037 - word_loss: 1.2040 - speaker_loss: 0.1998 - word_accuracy: 0.6512 - speaker_accuracy: 0.9535 - val_loss: 1.7739 - val_word_loss: 1.5032 - val_speaker_loss: 0.2707 - val_word_accuracy: 0.4545 - val_speaker_accuracy: 0.9091\n",
      "Epoch 14/50\n",
      "86/86 [==============================] - 0s 278us/sample - loss: 1.2115 - word_loss: 1.0419 - speaker_loss: 0.1696 - word_accuracy: 0.7791 - speaker_accuracy: 0.9651 - val_loss: 1.5790 - val_word_loss: 1.3449 - val_speaker_loss: 0.2341 - val_word_accuracy: 0.5909 - val_speaker_accuracy: 0.9091\n",
      "Epoch 15/50\n",
      "86/86 [==============================] - 0s 268us/sample - loss: 1.0608 - word_loss: 0.9471 - speaker_loss: 0.1137 - word_accuracy: 0.8023 - speaker_accuracy: 1.0000 - val_loss: 1.3847 - val_word_loss: 1.1779 - val_speaker_loss: 0.2068 - val_word_accuracy: 0.7273 - val_speaker_accuracy: 0.9091\n",
      "Epoch 16/50\n",
      "86/86 [==============================] - 0s 259us/sample - loss: 0.8288 - word_loss: 0.7481 - speaker_loss: 0.0807 - word_accuracy: 0.8837 - speaker_accuracy: 1.0000 - val_loss: 1.2004 - val_word_loss: 1.0139 - val_speaker_loss: 0.1866 - val_word_accuracy: 0.7273 - val_speaker_accuracy: 0.9091\n",
      "Epoch 17/50\n",
      "86/86 [==============================] - 0s 261us/sample - loss: 0.7432 - word_loss: 0.6712 - speaker_loss: 0.0720 - word_accuracy: 0.8488 - speaker_accuracy: 0.9884 - val_loss: 1.0288 - val_word_loss: 0.8564 - val_speaker_loss: 0.1724 - val_word_accuracy: 0.8636 - val_speaker_accuracy: 0.9091\n",
      "Epoch 18/50\n",
      "86/86 [==============================] - 0s 247us/sample - loss: 0.6492 - word_loss: 0.6010 - speaker_loss: 0.0482 - word_accuracy: 0.8488 - speaker_accuracy: 1.0000 - val_loss: 0.8815 - val_word_loss: 0.7167 - val_speaker_loss: 0.1648 - val_word_accuracy: 0.8636 - val_speaker_accuracy: 0.9545\n",
      "Epoch 19/50\n",
      "86/86 [==============================] - 0s 270us/sample - loss: 0.5569 - word_loss: 0.4950 - speaker_loss: 0.0619 - word_accuracy: 0.9651 - speaker_accuracy: 0.9884 - val_loss: 0.7572 - val_word_loss: 0.5973 - val_speaker_loss: 0.1599 - val_word_accuracy: 0.8636 - val_speaker_accuracy: 0.9545\n",
      "Epoch 20/50\n",
      "86/86 [==============================] - 0s 265us/sample - loss: 0.4332 - word_loss: 0.3877 - speaker_loss: 0.0455 - word_accuracy: 0.9651 - speaker_accuracy: 1.0000 - val_loss: 0.6519 - val_word_loss: 0.4977 - val_speaker_loss: 0.1542 - val_word_accuracy: 0.9545 - val_speaker_accuracy: 0.9545\n",
      "Epoch 21/50\n",
      "86/86 [==============================] - 0s 262us/sample - loss: 0.3719 - word_loss: 0.3217 - speaker_loss: 0.0502 - word_accuracy: 0.9651 - speaker_accuracy: 0.9884 - val_loss: 0.5698 - val_word_loss: 0.4186 - val_speaker_loss: 0.1512 - val_word_accuracy: 1.0000 - val_speaker_accuracy: 0.9545\n",
      "Epoch 22/50\n",
      "86/86 [==============================] - 0s 278us/sample - loss: 0.2912 - word_loss: 0.2644 - speaker_loss: 0.0268 - word_accuracy: 0.9767 - speaker_accuracy: 1.0000 - val_loss: 0.4898 - val_word_loss: 0.3422 - val_speaker_loss: 0.1476 - val_word_accuracy: 1.0000 - val_speaker_accuracy: 0.9545\n",
      "Epoch 23/50\n",
      "86/86 [==============================] - 0s 267us/sample - loss: 0.2331 - word_loss: 0.1941 - speaker_loss: 0.0390 - word_accuracy: 0.9884 - speaker_accuracy: 1.0000 - val_loss: 0.4237 - val_word_loss: 0.2783 - val_speaker_loss: 0.1453 - val_word_accuracy: 1.0000 - val_speaker_accuracy: 0.9545\n",
      "Epoch 24/50\n",
      "86/86 [==============================] - 0s 259us/sample - loss: 0.1858 - word_loss: 0.1601 - speaker_loss: 0.0257 - word_accuracy: 0.9651 - speaker_accuracy: 1.0000 - val_loss: 0.3907 - val_word_loss: 0.2472 - val_speaker_loss: 0.1435 - val_word_accuracy: 1.0000 - val_speaker_accuracy: 0.9545\n",
      "Epoch 25/50\n",
      "86/86 [==============================] - 0s 258us/sample - loss: 0.1389 - word_loss: 0.1167 - speaker_loss: 0.0222 - word_accuracy: 0.9884 - speaker_accuracy: 1.0000 - val_loss: 0.3700 - val_word_loss: 0.2324 - val_speaker_loss: 0.1375 - val_word_accuracy: 1.0000 - val_speaker_accuracy: 0.9545\n",
      "Epoch 26/50\n",
      "86/86 [==============================] - 0s 292us/sample - loss: 0.1538 - word_loss: 0.1419 - speaker_loss: 0.0119 - word_accuracy: 0.9884 - speaker_accuracy: 1.0000 - val_loss: 0.3268 - val_word_loss: 0.1935 - val_speaker_loss: 0.1333 - val_word_accuracy: 1.0000 - val_speaker_accuracy: 0.9545\n",
      "Epoch 27/50\n",
      "86/86 [==============================] - 0s 264us/sample - loss: 0.1096 - word_loss: 0.0934 - speaker_loss: 0.0162 - word_accuracy: 0.9884 - speaker_accuracy: 1.0000 - val_loss: 0.2868 - val_word_loss: 0.1588 - val_speaker_loss: 0.1280 - val_word_accuracy: 1.0000 - val_speaker_accuracy: 0.9545\n"
     ]
    },
    {
     "name": "stdout",
     "output_type": "stream",
     "text": [
      "Epoch 28/50\n",
      "86/86 [==============================] - 0s 271us/sample - loss: 0.0809 - word_loss: 0.0489 - speaker_loss: 0.0320 - word_accuracy: 1.0000 - speaker_accuracy: 0.9884 - val_loss: 0.2655 - val_word_loss: 0.1454 - val_speaker_loss: 0.1201 - val_word_accuracy: 0.9545 - val_speaker_accuracy: 0.9545\n",
      "Epoch 29/50\n",
      "86/86 [==============================] - 0s 244us/sample - loss: 0.0771 - word_loss: 0.0596 - speaker_loss: 0.0175 - word_accuracy: 0.9884 - speaker_accuracy: 1.0000 - val_loss: 0.2523 - val_word_loss: 0.1420 - val_speaker_loss: 0.1103 - val_word_accuracy: 0.9545 - val_speaker_accuracy: 0.9545\n",
      "Epoch 30/50\n",
      "86/86 [==============================] - 0s 249us/sample - loss: 0.0564 - word_loss: 0.0477 - speaker_loss: 0.0087 - word_accuracy: 1.0000 - speaker_accuracy: 1.0000 - val_loss: 0.2378 - val_word_loss: 0.1381 - val_speaker_loss: 0.0997 - val_word_accuracy: 0.9545 - val_speaker_accuracy: 0.9545\n",
      "Epoch 31/50\n",
      "86/86 [==============================] - 0s 309us/sample - loss: 0.0573 - word_loss: 0.0380 - speaker_loss: 0.0193 - word_accuracy: 1.0000 - speaker_accuracy: 1.0000 - val_loss: 0.2189 - val_word_loss: 0.1292 - val_speaker_loss: 0.0897 - val_word_accuracy: 0.9545 - val_speaker_accuracy: 0.9545\n",
      "Epoch 32/50\n",
      "86/86 [==============================] - 0s 238us/sample - loss: 0.0496 - word_loss: 0.0404 - speaker_loss: 0.0092 - word_accuracy: 1.0000 - speaker_accuracy: 1.0000 - val_loss: 0.1769 - val_word_loss: 0.0938 - val_speaker_loss: 0.0832 - val_word_accuracy: 0.9545 - val_speaker_accuracy: 0.9545\n",
      "Epoch 33/50\n",
      "86/86 [==============================] - 0s 253us/sample - loss: 0.0429 - word_loss: 0.0267 - speaker_loss: 0.0162 - word_accuracy: 1.0000 - speaker_accuracy: 1.0000 - val_loss: 0.1418 - val_word_loss: 0.0659 - val_speaker_loss: 0.0758 - val_word_accuracy: 1.0000 - val_speaker_accuracy: 0.9545\n",
      "Epoch 34/50\n",
      "86/86 [==============================] - 0s 242us/sample - loss: 0.0235 - word_loss: 0.0165 - speaker_loss: 0.0069 - word_accuracy: 1.0000 - speaker_accuracy: 1.0000 - val_loss: 0.1278 - val_word_loss: 0.0571 - val_speaker_loss: 0.0708 - val_word_accuracy: 1.0000 - val_speaker_accuracy: 0.9545\n",
      "Epoch 35/50\n",
      "86/86 [==============================] - 0s 252us/sample - loss: 0.0326 - word_loss: 0.0220 - speaker_loss: 0.0105 - word_accuracy: 1.0000 - speaker_accuracy: 1.0000 - val_loss: 0.1294 - val_word_loss: 0.0621 - val_speaker_loss: 0.0672 - val_word_accuracy: 1.0000 - val_speaker_accuracy: 0.9545\n",
      "Epoch 36/50\n",
      "86/86 [==============================] - 0s 236us/sample - loss: 0.0244 - word_loss: 0.0184 - speaker_loss: 0.0060 - word_accuracy: 1.0000 - speaker_accuracy: 1.0000 - val_loss: 0.1291 - val_word_loss: 0.0649 - val_speaker_loss: 0.0642 - val_word_accuracy: 1.0000 - val_speaker_accuracy: 0.9545\n",
      "Epoch 37/50\n",
      "86/86 [==============================] - 0s 247us/sample - loss: 0.0294 - word_loss: 0.0213 - speaker_loss: 0.0082 - word_accuracy: 0.9884 - speaker_accuracy: 1.0000 - val_loss: 0.1292 - val_word_loss: 0.0668 - val_speaker_loss: 0.0625 - val_word_accuracy: 1.0000 - val_speaker_accuracy: 0.9545\n",
      "Epoch 38/50\n",
      "86/86 [==============================] - 0s 240us/sample - loss: 0.0213 - word_loss: 0.0168 - speaker_loss: 0.0045 - word_accuracy: 1.0000 - speaker_accuracy: 1.0000 - val_loss: 0.1243 - val_word_loss: 0.0635 - val_speaker_loss: 0.0608 - val_word_accuracy: 1.0000 - val_speaker_accuracy: 0.9545\n",
      "Epoch 39/50\n",
      "86/86 [==============================] - 0s 235us/sample - loss: 0.0150 - word_loss: 0.0113 - speaker_loss: 0.0037 - word_accuracy: 1.0000 - speaker_accuracy: 1.0000 - val_loss: 0.1284 - val_word_loss: 0.0686 - val_speaker_loss: 0.0598 - val_word_accuracy: 1.0000 - val_speaker_accuracy: 0.9545\n",
      "Epoch 40/50\n",
      "86/86 [==============================] - 0s 237us/sample - loss: 0.0149 - word_loss: 0.0118 - speaker_loss: 0.0031 - word_accuracy: 1.0000 - speaker_accuracy: 1.0000 - val_loss: 0.1342 - val_word_loss: 0.0746 - val_speaker_loss: 0.0595 - val_word_accuracy: 1.0000 - val_speaker_accuracy: 0.9545\n",
      "Epoch 41/50\n",
      "86/86 [==============================] - 0s 236us/sample - loss: 0.0164 - word_loss: 0.0126 - speaker_loss: 0.0038 - word_accuracy: 1.0000 - speaker_accuracy: 1.0000 - val_loss: 0.1428 - val_word_loss: 0.0818 - val_speaker_loss: 0.0610 - val_word_accuracy: 1.0000 - val_speaker_accuracy: 0.9545\n",
      "Epoch 42/50\n",
      "86/86 [==============================] - 0s 233us/sample - loss: 0.0130 - word_loss: 0.0108 - speaker_loss: 0.0022 - word_accuracy: 1.0000 - speaker_accuracy: 1.0000 - val_loss: 0.1568 - val_word_loss: 0.0933 - val_speaker_loss: 0.0635 - val_word_accuracy: 1.0000 - val_speaker_accuracy: 0.9545\n",
      "Epoch 43/50\n",
      "86/86 [==============================] - 0s 239us/sample - loss: 0.0199 - word_loss: 0.0176 - speaker_loss: 0.0023 - word_accuracy: 0.9884 - speaker_accuracy: 1.0000 - val_loss: 0.1509 - val_word_loss: 0.0860 - val_speaker_loss: 0.0649 - val_word_accuracy: 1.0000 - val_speaker_accuracy: 0.9545\n",
      "Epoch 44/50\n",
      "86/86 [==============================] - 0s 249us/sample - loss: 0.0075 - word_loss: 0.0054 - speaker_loss: 0.0020 - word_accuracy: 1.0000 - speaker_accuracy: 1.0000 - val_loss: 0.1460 - val_word_loss: 0.0786 - val_speaker_loss: 0.0674 - val_word_accuracy: 1.0000 - val_speaker_accuracy: 0.9545\n",
      "Epoch 45/50\n",
      "86/86 [==============================] - 0s 243us/sample - loss: 0.0078 - word_loss: 0.0055 - speaker_loss: 0.0023 - word_accuracy: 1.0000 - speaker_accuracy: 1.0000 - val_loss: 0.1451 - val_word_loss: 0.0738 - val_speaker_loss: 0.0712 - val_word_accuracy: 1.0000 - val_speaker_accuracy: 0.9545\n",
      "Epoch 46/50\n",
      "86/86 [==============================] - 0s 252us/sample - loss: 0.0069 - word_loss: 0.0055 - speaker_loss: 0.0014 - word_accuracy: 1.0000 - speaker_accuracy: 1.0000 - val_loss: 0.1470 - val_word_loss: 0.0719 - val_speaker_loss: 0.0751 - val_word_accuracy: 1.0000 - val_speaker_accuracy: 0.9545\n",
      "Epoch 47/50\n",
      "86/86 [==============================] - 0s 243us/sample - loss: 0.0084 - word_loss: 0.0063 - speaker_loss: 0.0021 - word_accuracy: 1.0000 - speaker_accuracy: 1.0000 - val_loss: 0.1483 - val_word_loss: 0.0683 - val_speaker_loss: 0.0801 - val_word_accuracy: 1.0000 - val_speaker_accuracy: 0.9545\n",
      "Epoch 48/50\n",
      "86/86 [==============================] - 0s 250us/sample - loss: 0.0083 - word_loss: 0.0071 - speaker_loss: 0.0012 - word_accuracy: 1.0000 - speaker_accuracy: 1.0000 - val_loss: 0.1485 - val_word_loss: 0.0644 - val_speaker_loss: 0.0841 - val_word_accuracy: 1.0000 - val_speaker_accuracy: 0.9545\n",
      "Epoch 49/50\n",
      "86/86 [==============================] - 0s 237us/sample - loss: 0.0058 - word_loss: 0.0042 - speaker_loss: 0.0016 - word_accuracy: 1.0000 - speaker_accuracy: 1.0000 - val_loss: 0.1474 - val_word_loss: 0.0590 - val_speaker_loss: 0.0884 - val_word_accuracy: 1.0000 - val_speaker_accuracy: 0.9545\n",
      "Epoch 50/50\n",
      "86/86 [==============================] - 0s 232us/sample - loss: 0.0036 - word_loss: 0.0023 - speaker_loss: 0.0012 - word_accuracy: 1.0000 - speaker_accuracy: 1.0000 - val_loss: 0.1439 - val_word_loss: 0.0516 - val_speaker_loss: 0.0924 - val_word_accuracy: 1.0000 - val_speaker_accuracy: 0.9545\n"
     ]
    }
   ],
   "source": [
    "# Training\n",
    "history=model.fit(trainX, [trainYwords_cat,trainYspeakers_cat], batch_size=108,nb_epoch=50,validation_split=0.2)"
   ]
  },
  {
   "cell_type": "code",
   "execution_count": 11,
   "metadata": {},
   "outputs": [
    {
     "name": "stdout",
     "output_type": "stream",
     "text": [
      "(2, 30, 20)\n",
      "[[6.8381676e-05 5.8490117e-05 1.4036939e-04 4.7292606e-06 7.3905790e-07\n",
      "  1.8440662e-05 2.3144102e-04 1.1438661e-05 3.5233392e-05 5.1261713e-06\n",
      "  9.9934393e-01 6.0826446e-06 4.0984054e-05 1.1195598e-06 1.1286997e-05\n",
      "  2.1256468e-05 8.1338868e-07]] [[2.4060176e-07 5.0942804e-06 1.2618725e-05 9.9998200e-01]]\n",
      "10 = 0.99934393\n",
      "3 = 0.999982\n",
      "paco  ha dicho ' para '\n",
      "['avanza' 'buenos-dias' 'casa' 'cinco' 'cuatro' 'dos' 'hola' 'no' 'nueve'\n",
      " 'ocho' 'para' 'retrocede' 'seis' 'si' 'siete' 'tres' 'uno']\n",
      "['carlos' 'eva' 'irene' 'paco']\n"
     ]
    }
   ],
   "source": [
    "print(trainX[5:7,:,:].shape)\n",
    "predWord,predSpeaker=model.predict(trainX[5:6,:,:])\n",
    "print(predWord,predSpeaker)\n",
    "y_predWord   = np.argmax(predWord)\n",
    "y_predSpeaker= np.argmax(predSpeaker)\n",
    "print(y_predWord,\"=\",np.max(predWord))\n",
    "print(y_predSpeaker,\"=\",np.max(predSpeaker))\n",
    "word=ea.leWords.inverse_transform([y_predWord])\n",
    "speaker=ea.leSpeakers.inverse_transform([y_predSpeaker])\n",
    "print(speaker[0],\" ha dicho \\'\",word[0],\"\\'\")\n",
    "print(ea.leWords.classes_)\n",
    "print(ea.leSpeakers.classes_)"
   ]
  },
  {
   "cell_type": "code",
   "execution_count": 1,
   "metadata": {},
   "outputs": [
    {
     "name": "stdout",
     "output_type": "stream",
     "text": [
      "\n",
      "Input File     : 'default' (alsa)\n",
      "Channels       : 2\n",
      "Sample Rate    : 16000\n",
      "Precision      : 16-bit\n",
      "Sample Encoding: 16-bit Signed Integer PCM\n",
      "\n",
      "In:0.00% 00:00:02.56 [00:00:00.00] Out:4.27k [      |      ]        Clip:0    \n",
      "Done.\n",
      "Playing WAVE 'recording.wav' : Signed 16 bit Little Endian, Rate 16000 Hz, Stereo\n"
     ]
    }
   ],
   "source": [
    "!sox -r 16000 -t alsa default recording.wav silence 1 0.1 1% 1 1.5 1%\n",
    "!aplay \"recording.wav\""
   ]
  },
  {
   "cell_type": "code",
   "execution_count": 23,
   "metadata": {},
   "outputs": [
    {
     "name": "stdout",
     "output_type": "stream",
     "text": [
      "Playing WAVE 'recording.wav' : Signed 16 bit Little Endian, Rate 16000 Hz, Stereo\r\n"
     ]
    }
   ],
   "source": [
    "!aplay \"recording.wav\""
   ]
  },
  {
   "cell_type": "code",
   "execution_count": 12,
   "metadata": {},
   "outputs": [
    {
     "name": "stdout",
     "output_type": "stream",
     "text": [
      "16000 wave= (4268,) mfcc= (9, 20) file= recording.wav\n"
     ]
    },
    {
     "data": {
      "text/plain": [
       "(1, 30, 20)"
      ]
     },
     "execution_count": 12,
     "metadata": {},
     "output_type": "execute_result"
    }
   ],
   "source": [
    "sample=wav2mfcc(\"recording.wav\")\n",
    "sample=np.expand_dims(np.array(sample),axis=0)\n",
    "sample.shape"
   ]
  },
  {
   "cell_type": "code",
   "execution_count": 13,
   "metadata": {},
   "outputs": [
    {
     "name": "stdout",
     "output_type": "stream",
     "text": [
      "[[5.3734693e-06 5.0096655e-06 4.8653033e-04 1.9779230e-07 4.5692109e-06\n",
      "  4.6217865e-05 9.9916232e-01 2.1973645e-05 5.2174738e-07 5.1471884e-06\n",
      "  2.4262894e-04 2.2538798e-07 1.2201465e-06 2.4372120e-08 1.1250569e-07\n",
      "  1.7694147e-05 4.1547412e-07]] [[1.2177546e-05 2.5807108e-06 1.2578537e-05 9.9997258e-01]]\n",
      "6 = 0.9991623\n",
      "3 = 0.9999726\n",
      "paco  ha dicho ' hola '\n",
      "['avanza' 'buenos-dias' 'casa' 'cinco' 'cuatro' 'dos' 'hola' 'no' 'nueve'\n",
      " 'ocho' 'para' 'retrocede' 'seis' 'si' 'siete' 'tres' 'uno']\n",
      "['carlos' 'eva' 'irene' 'paco']\n"
     ]
    }
   ],
   "source": [
    "predWord,predSpeaker=model.predict([sample])\n",
    "print(predWord,predSpeaker)\n",
    "y_predWord   = np.argmax(predWord)\n",
    "y_predSpeaker= np.argmax(predSpeaker)\n",
    "print(y_predWord,\"=\",np.max(predWord))\n",
    "print(y_predSpeaker,\"=\",np.max(predSpeaker))\n",
    "word=ea.leWords.inverse_transform([y_predWord])\n",
    "speaker=ea.leSpeakers.inverse_transform([y_predSpeaker])\n",
    "print(speaker[0],\" ha dicho \\'\",word[0],\"\\'\")\n",
    "print(ea.leWords.classes_)\n",
    "print(ea.leSpeakers.classes_)"
   ]
  },
  {
   "cell_type": "code",
   "execution_count": null,
   "metadata": {},
   "outputs": [],
   "source": []
  }
 ],
 "metadata": {
  "kernelspec": {
   "display_name": "Python 3",
   "language": "python",
   "name": "python3"
  },
  "language_info": {
   "codemirror_mode": {
    "name": "ipython",
    "version": 3
   },
   "file_extension": ".py",
   "mimetype": "text/x-python",
   "name": "python",
   "nbconvert_exporter": "python",
   "pygments_lexer": "ipython3",
   "version": "3.7.7"
  },
  "widgets": {
   "state": {},
   "version": "1.1.2"
  }
 },
 "nbformat": 4,
 "nbformat_minor": 2
}
