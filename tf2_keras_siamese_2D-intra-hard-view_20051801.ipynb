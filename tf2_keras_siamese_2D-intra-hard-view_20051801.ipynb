{
 "cells": [
  {
   "cell_type": "code",
   "execution_count": 22,
   "metadata": {},
   "outputs": [
    {
     "name": "stdout",
     "output_type": "stream",
     "text": [
      "tf2= 2.1.0\n"
     ]
    }
   ],
   "source": [
    "'''Trains a Siamese MLP on pairs of digits from the MNIST dataset.\n",
    "It follows Hadsell-et-al.'06 [1] by computing the Euclidean distance on the\n",
    "output of the shared network and by optimizing the contrastive loss (see paper\n",
    "for more details).\n",
    "\n",
    "# References\n",
    "- Dimensionality Reduction by Learning an Invariant Mapping\n",
    "    http://yann.lecun.com/exdb/publis/pdf/hadsell-chopra-lecun-06.pdf\n",
    "Gets to 97.2% test accuracy after 20 epochs.\n",
    "2 seconds per epoch on a Titan X Maxwell GPU\n",
    "\n",
    "15/04/2020\n",
    "Tensorflow 2 keras version\n",
    "'''\n",
    "from __future__ import absolute_import\n",
    "from __future__ import print_function\n",
    "import numpy as np\n",
    "\n",
    "import random\n",
    "\n",
    "import matplotlib.pyplot as plt\n",
    "import cv2\n",
    "\n",
    "# Config the matplotlib backend as plotting inline in IPython\n",
    "%matplotlib inline\n",
    "\n",
    "import tensorflow as tf\n",
    "import tensorflow.keras\n",
    "from tensorflow.keras.datasets import mnist\n",
    "from tensorflow.keras.models import Model\n",
    "from tensorflow.keras.layers import Input, Flatten, Dense, Dropout, Lambda, Conv2D, concatenate\n",
    "from tensorflow.keras.optimizers import RMSprop\n",
    "from tensorflow.keras import backend as K\n",
    "\n",
    "num_classes = 10\n",
    "\n",
    "print(\"tf2=\",tf.__version__)"
   ]
  },
  {
   "cell_type": "code",
   "execution_count": 2,
   "metadata": {},
   "outputs": [],
   "source": [
    "def rotate(img, angle):\n",
    "    #img = cv2.imread(img)\n",
    "    (height, width) = img.shape[:2]\n",
    "    (cent_x, cent_y) = (width // 2, height // 2)\n",
    "    mat = cv2.getRotationMatrix2D((cent_x, cent_y), -angle, 1.0)\n",
    "    return cv2.warpAffine(img, mat,(height, width))"
   ]
  },
  {
   "cell_type": "code",
   "execution_count": 74,
   "metadata": {},
   "outputs": [],
   "source": [
    "def euclidean_distance(vects):\n",
    "    x, y = vects\n",
    "    sum_square = K.sum(K.square(x - y), axis=1, keepdims=True)\n",
    "    return K.sqrt(K.maximum(sum_square, K.epsilon()))\n",
    "\n",
    "\n",
    "def eucl_dist_output_shape(shapes):\n",
    "    shape1, shape2 = shapes\n",
    "    return (shape1[0], 1)\n",
    "\n",
    "def contrastive_loss_intra_hard(y,d):\n",
    "    '''    Double contrastive loss from me 2019    '''\n",
    "    # splitting data\n",
    "    #labels n for same class and r for samem orientation/rotation\n",
    "    # 11 distance for same class same rotation/orientation -> squeeze\n",
    "    # 10 distance for same class different orientation -> squeeze up to a margin\n",
    "    # 00 diatance for different class -> stretch up to a margin\n",
    "    y_n,y_r           = tf.split(y,2, axis=-1)\n",
    "    d_pred,d_pred_r   = tf.split(d,2, axis=-1)\n",
    "\n",
    "    # margins for relative is little since it is in the ball of normal margin\n",
    "    margin_n = 1.0\n",
    "    margin_r = 0.25\n",
    "    \n",
    "    # same importance const\n",
    "    cs=margin_n/margin_r\n",
    "    \n",
    "    square_pred = K.square(d_pred)\n",
    "    \n",
    "    margin_square_00  = K.square(K.maximum(margin_n - d_pred, 0))# -> stretch up to a margin margin_n\n",
    "    margin_square_10n = K.square(K.maximum(d_pred   - margin_n, 0)) # -> squeeze up to a margin\n",
    "    margin_square_10r = K.square(K.maximum(margin_r - d_pred,0))  # -> stretch up to margin margin_r\n",
    "    \n",
    "    # relative loss from embedding vector differences\n",
    "    loss_11=square_pred                   #-> squeeze\n",
    "    loss_10= margin_square_10n+margin_square_10r + d_pred_r # -> squeeze up to a margin_n but stretch up to margin_r and squeeze intra difference\n",
    "    loss_1 = y_r * loss_11 + (1-y_r) * loss_10\n",
    "    loss_0 =margin_square_00               # -> max up to a margin\n",
    "    # main loss from embedding vectors\n",
    "    loss= y_n * loss_1 + (1 - y_n) *  loss_0\n",
    "    # merging losses\n",
    "    loss=K.mean(loss)\n",
    "    return loss\n"
   ]
  },
  {
   "cell_type": "code",
   "execution_count": 4,
   "metadata": {},
   "outputs": [],
   "source": [
    "def create_pairs_intra(x,digit_indices,N=2,classes=[0,3,4,8,9]):\n",
    "    #subclases=[0,1]\n",
    "    label=range(len(classes))\n",
    "    sublabel=[i+0.5 for i in label]\n",
    "    dx=[]\n",
    "    dy=[]\n",
    "    d_n={}\n",
    "    d_r={}\n",
    "    for n in classes:\n",
    "        d_n[n]=[]\n",
    "        d_r[n]=[]\n",
    "    for ni,n in enumerate(classes):\n",
    "        for i in range(N):\n",
    "            d_ni=x[digit_indices[n][i]]\n",
    "            d_ri=rotate(d_ni,30)\n",
    "            d_n[n].append(d_ni)\n",
    "            d_r[n].append(d_ri)\n",
    "            dx.append(d_ni)\n",
    "            dy.append(label[ni])\n",
    "            dx.append(d_ri)\n",
    "            dy.append(sublabel[ni])\n",
    "    pairs=[]\n",
    "    labels=[]\n",
    "    for na in range(len(classes)):\n",
    "        a=classes[na]\n",
    "        for nb in range(na+1,len(classes)):\n",
    "            b=classes[nb]\n",
    "            for i in range(N):\n",
    "                dani=d_n[a][i]\n",
    "                dari=d_r[a][i]\n",
    "                dbni=d_n[b][i]\n",
    "                dbri=d_r[b][i]\n",
    "                for j in range(i+1,N):\n",
    "                    danj=d_n[a][j]\n",
    "                    darj=d_r[a][j]\n",
    "                    dbnj=d_n[b][j]\n",
    "                    dbrj=d_r[b][j]\n",
    "                    pairs +=[[dani,danj,dbni,dbnj]]\n",
    "                    labels+=[[1,1]]\n",
    "                    pairs +=[[dari,darj,dbri,dbrj]]\n",
    "                    labels+=[[1,1]]\n",
    "                    pairs +=[[dbni,dbnj,dani,danj]]\n",
    "                    labels+=[[1,1]]\n",
    "                    pairs +=[[dbri,dbrj,dari,darj]]\n",
    "                    labels+=[[1,1]]\n",
    "                    pairs +=[[dani,darj,dbni,dbrj]]\n",
    "                    labels+=[[1,0]]\n",
    "                    pairs +=[[dbni,dbrj,dani,darj]]\n",
    "                    labels+=[[1,0]]\n",
    "                pairs +=[[dani,dari,dbni,dbri]]\n",
    "                labels+=[[1,0]]\n",
    "                pairs +=[[dbni,dbri,dani,dari]]\n",
    "                labels+=[[1,0]]\n",
    "                for j in range(2):\n",
    "                    danj=d_n[a][j]\n",
    "                    darj=d_r[a][j]\n",
    "                    dbnj=d_n[b][j]\n",
    "                    dbrj=d_r[b][j]\n",
    "                    pairs +=[[dani,dbnj,dbnj,dani]]\n",
    "                    labels+=[[0,0]]\n",
    "                    pairs +=[[dani,dbrj,dbrj,dani]]\n",
    "                    labels+=[[0,0]]\n",
    "                    pairs +=[[dari,dbnj,dbnj,dari]]\n",
    "                    labels+=[[0,0]]\n",
    "                    pairs +=[[dari,dbrj,dbrj,dari]]\n",
    "                    labels+=[[0,0]]         \n",
    "    return np.array(dx).astype(\"float32\"),np.array(dy).astype(\"float32\"),np.expand_dims(np.array(pairs).astype(\"float32\"),axis=-1), np.array(labels).astype(\"float32\")"
   ]
  },
  {
   "cell_type": "code",
   "execution_count": 58,
   "metadata": {},
   "outputs": [],
   "source": [
    "def create_base_network(input_shape):\n",
    "    '''Base network to be shared (eq. to feature extraction).\n",
    "    '''\n",
    "    input = Input(shape=input_shape)\n",
    "    x = Conv2D(64, (3, 3), padding='same', activation='relu')(input)\n",
    "    x = Conv2D(64, (3, 3), padding='same', activation='relu')(x)\n",
    "    x = Flatten()(x)\n",
    "    x = Dense(128, activation='relu')(x)\n",
    "    x = Dropout(0.1)(x)\n",
    "    x = Dense(128, activation='relu')(x)\n",
    "    x = Dropout(0.1)(x)\n",
    "    x = Dense(128, activation='relu')(x)\n",
    "    #for 2D view\n",
    "    x = Dense(  2)(x)\n",
    "    return Model(input, x)\n"
   ]
  },
  {
   "cell_type": "code",
   "execution_count": 17,
   "metadata": {},
   "outputs": [],
   "source": [
    "# Accuracy for the moment is just put in the same class\n",
    "def compute_accuracy(y, d_pred_e):\n",
    "    '''Compute classification accuracy with a fixed threshold on distances.\n",
    "    '''\n",
    "    y_n,y_true        = tf.split(y,2, axis=-1)\n",
    "    #d_pred_e,d_pred_r = tf.split(d,2, axis=-1)\n",
    "\n",
    "    pred = d_pred_e.ravel() < 0.25\n",
    "    return np.mean(pred == y_true)\n",
    "\n",
    "\n",
    "def accuracy(y, d_pred_e):\n",
    "    '''Compute classification accuracy with a fixed threshold on distances.\n",
    "    '''\n",
    "    y_n,y_true        = tf.split(y,2, axis=-1)\n",
    "    #d_pred_e,d_pred_r = tf.split(d,2, axis=-1)\n",
    "    return K.mean(K.equal(y_true, K.cast(d_pred_e < 0.25, y_true.dtype)))"
   ]
  },
  {
   "cell_type": "code",
   "execution_count": 7,
   "metadata": {},
   "outputs": [
    {
     "name": "stdout",
     "output_type": "stream",
     "text": [
      "(28, 28, 1)\n"
     ]
    }
   ],
   "source": [
    "# the data, split between train and test sets\n",
    "(x_train, y_train), (x_test, y_test) = mnist.load_data()\n",
    "x_train = x_train.astype('float32')\n",
    "x_test = x_test.astype('float32')\n",
    "y_train = y_train.astype(\"float32\")\n",
    "y_test  = y_test.astype(\"float32\")\n",
    "x_train /= 255\n",
    "x_test /= 255\n",
    "input_shape = (x_train.shape[1],x_train.shape[1],1)\n",
    "#input_shape = x_train.shape[1:]\n",
    "\n",
    "print(input_shape)"
   ]
  },
  {
   "cell_type": "code",
   "execution_count": 8,
   "metadata": {},
   "outputs": [
    {
     "data": {
      "image/png": "[encoded data removed]",
      "text/plain": [
       "<Figure size 432x288 with 4 Axes>"
      ]
     },
     "metadata": {
      "needs_background": "light"
     },
     "output_type": "display_data"
    }
   ],
   "source": [
    "for i in range(2):\n",
    "    plt.subplot(5,2,i*2+1)\n",
    "    idx=random.randrange(0,x_train.shape[0])\n",
    "    plt.imshow(x_train[idx], cmap=\"gray_r\")\n",
    "    #plt.show()\n",
    "    imgr=rotate(x_train[idx],30)\n",
    "    plt.subplot(5,2,i*2+2)\n",
    "    plt.imshow(imgr,cmap=\"gray_r\")\n",
    "plt.show()"
   ]
  },
  {
   "cell_type": "code",
   "execution_count": 85,
   "metadata": {},
   "outputs": [
    {
     "name": "stdout",
     "output_type": "stream",
     "text": [
      "tr_pairs= (3700, 4, 28, 28, 1) tr_y= (3700, 2) float32\n",
      "te_pairs= (3700, 4, 28, 28, 1) te_y= (3700, 2) float32\n"
     ]
    }
   ],
   "source": [
    "# create training+test positive and negative pairs\n",
    "digit_indices = [np.where(y_train == i)[0] for i in range(num_classes)]\n",
    "tr_dx,tr_dy,tr_pairs, tr_y = create_pairs_intra(x_train, digit_indices,10)\n",
    "\n",
    "digit_indices = [np.where(y_test  == i)[0] for i in range(num_classes)]\n",
    "te_dx,tr_dy,te_pairs, te_y = create_pairs_intra(x_test, digit_indices,10)\n",
    "\n",
    "print(\"tr_pairs=\",tr_pairs.shape,\"tr_y=\",tr_y.shape,tr_y.dtype)\n",
    "print(\"te_pairs=\",te_pairs.shape,\"te_y=\",te_y.shape,te_y.dtype)"
   ]
  },
  {
   "cell_type": "code",
   "execution_count": 88,
   "metadata": {},
   "outputs": [
    {
     "name": "stdout",
     "output_type": "stream",
     "text": [
      "Model: \"model_28\"\n",
      "__________________________________________________________________________________________________\n",
      "Layer (type)                    Output Shape         Param #     Connected to                     \n",
      "==================================================================================================\n",
      "input_72 (InputLayer)           [(None, 28, 28, 1)]  0                                            \n",
      "__________________________________________________________________________________________________\n",
      "input_73 (InputLayer)           [(None, 28, 28, 1)]  0                                            \n",
      "__________________________________________________________________________________________________\n",
      "input_75 (InputLayer)           [(None, 28, 28, 1)]  0                                            \n",
      "__________________________________________________________________________________________________\n",
      "input_74 (InputLayer)           [(None, 28, 28, 1)]  0                                            \n",
      "__________________________________________________________________________________________________\n",
      "model_27 (Model)                (None, 2)            6493506     input_72[0][0]                   \n",
      "                                                                 input_73[0][0]                   \n",
      "                                                                 input_74[0][0]                   \n",
      "                                                                 input_75[0][0]                   \n",
      "__________________________________________________________________________________________________\n",
      "tf_op_layer_sub_28 (TensorFlowO [(None, 2)]          0           model_27[2][0]                   \n",
      "                                                                 model_27[1][0]                   \n",
      "__________________________________________________________________________________________________\n",
      "tf_op_layer_sub_29 (TensorFlowO [(None, 2)]          0           model_27[4][0]                   \n",
      "                                                                 model_27[3][0]                   \n",
      "__________________________________________________________________________________________________\n",
      "lambda_29 (Lambda)              (None, 1)            0           model_27[1][0]                   \n",
      "                                                                 model_27[2][0]                   \n",
      "__________________________________________________________________________________________________\n",
      "lambda_30 (Lambda)              (None, 1)            0           tf_op_layer_sub_28[0][0]         \n",
      "                                                                 tf_op_layer_sub_29[0][0]         \n",
      "__________________________________________________________________________________________________\n",
      "concatenate_12 (Concatenate)    (None, 2)            0           lambda_29[0][0]                  \n",
      "                                                                 lambda_30[0][0]                  \n",
      "==================================================================================================\n",
      "Total params: 6,493,506\n",
      "Trainable params: 6,493,506\n",
      "Non-trainable params: 0\n",
      "__________________________________________________________________________________________________\n"
     ]
    }
   ],
   "source": [
    "# network definition\n",
    "def buildModel():\n",
    "    input_a = Input(shape=input_shape)\n",
    "    input_b = Input(shape=input_shape)\n",
    "    input_c = Input(shape=input_shape)\n",
    "    input_d = Input(shape=input_shape)\n",
    "\n",
    "    # because we re-use the same instance `base_network`,\n",
    "    # the weights of the network\n",
    "    # will be shared across the two branches\n",
    "    processed_a = base_network(input_a)\n",
    "    processed_b = base_network(input_b)\n",
    "    processed_c = base_network(input_c)\n",
    "    processed_d = base_network(input_d)\n",
    "\n",
    "    distanceab = Lambda(euclidean_distance,\n",
    "                      output_shape=eucl_dist_output_shape)([processed_a, processed_b])\n",
    "\n",
    "    difba=processed_b - processed_a\n",
    "    difdc=processed_d - processed_c\n",
    "    distancedd = Lambda(euclidean_distance,\n",
    "                      output_shape=eucl_dist_output_shape)([difba, difdc])\n",
    "\n",
    "    concat = concatenate([distanceab,distancedd])\n",
    "\n",
    "    model = Model([input_a, input_b, input_c, input_d], concat)\n",
    "    return model\n",
    "base_network = create_base_network(input_shape)\n",
    "model=buildModel()\n",
    "model.summary()"
   ]
  },
  {
   "cell_type": "code",
   "execution_count": 89,
   "metadata": {},
   "outputs": [
    {
     "data": {
      "image/png": "[encoded data removed]",
      "text/plain": [
       "<Figure size 432x432 with 2 Axes>"
      ]
     },
     "metadata": {
      "needs_background": "light"
     },
     "output_type": "display_data"
    }
   ],
   "source": [
    "batch_size=128\n",
    "encoder=base_network#check this\n",
    "# display a 2D plot of the digit classes in the latent space\n",
    "ex_test=np.expand_dims(tr_dx,axis=-1)\n",
    "x_test_encoded = encoder.predict(ex_test, batch_size=batch_size)\n",
    "plt.figure(figsize=(6, 6))\n",
    "plt.scatter(x_test_encoded[:, 0], x_test_encoded[:, 1], c=tr_dy,cmap=plt.get_cmap(\"gist_rainbow\"))\n",
    "plt.colorbar()\n",
    "plt.show()"
   ]
  },
  {
   "cell_type": "code",
   "execution_count": 90,
   "metadata": {},
   "outputs": [],
   "source": [
    "# train\n",
    "epochs = 20\n",
    "batch_size=1000\n",
    "rms = RMSprop()\n",
    "model.compile(loss=contrastive_loss_intra_hard, optimizer=rms, metrics=[accuracy])"
   ]
  },
  {
   "cell_type": "code",
   "execution_count": 93,
   "metadata": {},
   "outputs": [
    {
     "name": "stdout",
     "output_type": "stream",
     "text": [
      "Train on 3700 samples, validate on 3700 samples\n",
      "Epoch 1/20\n",
      "3700/3700 [==============================] - 2s 486us/sample - loss: 0.0689 - accuracy: 0.7206 - val_loss: 0.2011 - val_accuracy: 0.5783\n",
      "Epoch 2/20\n",
      "3700/3700 [==============================] - 2s 471us/sample - loss: 0.0635 - accuracy: 0.7274 - val_loss: 0.2188 - val_accuracy: 0.5863\n",
      "Epoch 3/20\n",
      "3700/3700 [==============================] - 2s 473us/sample - loss: 0.0590 - accuracy: 0.7387 - val_loss: 0.2351 - val_accuracy: 0.5847\n",
      "Epoch 4/20\n",
      "3700/3700 [==============================] - 2s 474us/sample - loss: 0.0543 - accuracy: 0.7351 - val_loss: 0.2501 - val_accuracy: 0.5765\n",
      "Epoch 5/20\n",
      "3700/3700 [==============================] - 2s 475us/sample - loss: 0.0520 - accuracy: 0.7448 - val_loss: 0.2456 - val_accuracy: 0.5821\n",
      "Epoch 6/20\n",
      "3700/3700 [==============================] - 2s 476us/sample - loss: 0.0482 - accuracy: 0.7464 - val_loss: 0.2512 - val_accuracy: 0.5689\n",
      "Epoch 7/20\n",
      "3700/3700 [==============================] - 2s 478us/sample - loss: 0.0462 - accuracy: 0.7393 - val_loss: 0.2642 - val_accuracy: 0.5729\n",
      "Epoch 8/20\n",
      "3700/3700 [==============================] - 2s 491us/sample - loss: 0.0440 - accuracy: 0.7482 - val_loss: 0.3020 - val_accuracy: 0.5695\n",
      "Epoch 9/20\n",
      "3700/3700 [==============================] - 2s 481us/sample - loss: 0.0415 - accuracy: 0.7394 - val_loss: 0.3023 - val_accuracy: 0.5731\n",
      "Epoch 10/20\n",
      "3700/3700 [==============================] - 2s 478us/sample - loss: 0.0405 - accuracy: 0.7353 - val_loss: 0.2930 - val_accuracy: 0.5768\n",
      "Epoch 11/20\n",
      "3700/3700 [==============================] - 2s 477us/sample - loss: 0.0380 - accuracy: 0.7331 - val_loss: 0.3443 - val_accuracy: 0.5596\n",
      "Epoch 12/20\n",
      "3700/3700 [==============================] - 2s 493us/sample - loss: 0.0363 - accuracy: 0.7280 - val_loss: 0.3362 - val_accuracy: 0.5608\n",
      "Epoch 13/20\n",
      "3700/3700 [==============================] - 2s 481us/sample - loss: 0.0358 - accuracy: 0.7341 - val_loss: 0.3344 - val_accuracy: 0.5753\n",
      "Epoch 14/20\n",
      "3700/3700 [==============================] - 2s 479us/sample - loss: 0.0337 - accuracy: 0.7248 - val_loss: 0.3579 - val_accuracy: 0.5772\n",
      "Epoch 15/20\n",
      "3700/3700 [==============================] - 2s 483us/sample - loss: 0.0331 - accuracy: 0.7288 - val_loss: 0.3674 - val_accuracy: 0.5643\n",
      "Epoch 16/20\n",
      "3700/3700 [==============================] - 2s 481us/sample - loss: 0.0309 - accuracy: 0.7269 - val_loss: 0.3599 - val_accuracy: 0.5757\n",
      "Epoch 17/20\n",
      "3700/3700 [==============================] - 2s 495us/sample - loss: 0.0312 - accuracy: 0.7248 - val_loss: 0.3908 - val_accuracy: 0.5739\n",
      "Epoch 18/20\n",
      "3700/3700 [==============================] - 2s 480us/sample - loss: 0.0291 - accuracy: 0.7193 - val_loss: 0.3747 - val_accuracy: 0.5693\n",
      "Epoch 19/20\n",
      "3700/3700 [==============================] - 2s 495us/sample - loss: 0.0281 - accuracy: 0.7214 - val_loss: 0.4187 - val_accuracy: 0.5707\n",
      "Epoch 20/20\n",
      "3700/3700 [==============================] - 2s 493us/sample - loss: 0.0276 - accuracy: 0.7212 - val_loss: 0.4162 - val_accuracy: 0.5812\n"
     ]
    },
    {
     "data": {
      "text/plain": [
       "<tensorflow.python.keras.callbacks.History at 0x7f71245b2f90>"
      ]
     },
     "execution_count": 93,
     "metadata": {},
     "output_type": "execute_result"
    }
   ],
   "source": [
    "model.fit([tr_pairs[:, 0], tr_pairs[:, 1],tr_pairs[:, 2], tr_pairs[:, 3]], tr_y,\n",
    "          batch_size=batch_size,\n",
    "          epochs=epochs,\n",
    "          validation_data=([te_pairs[:, 0], te_pairs[:, 1],te_pairs[:, 2], te_pairs[:, 3]], te_y))"
   ]
  },
  {
   "cell_type": "code",
   "execution_count": 132,
   "metadata": {},
   "outputs": [
    {
     "name": "stdout",
     "output_type": "stream",
     "text": [
      "* Accuracy on training set: 49.33%\n",
      "* Accuracy on test set: 48.83%\n"
     ]
    }
   ],
   "source": [
    "# compute final accuracy on training and test sets\n",
    "y_pred = model.predict([tr_pairs[:, 0], tr_pairs[:, 1]])\n",
    "tr_acc = compute_accuracy(tr_y, y_pred)\n",
    "y_pred = model.predict([te_pairs[:, 0], te_pairs[:, 1]])\n",
    "te_acc = compute_accuracy(te_y, y_pred)\n",
    "\n",
    "print('* Accuracy on training set: %0.2f%%' % (100 * tr_acc))\n",
    "print('* Accuracy on test set: %0.2f%%' % (100 * te_acc))"
   ]
  },
  {
   "cell_type": "code",
   "execution_count": 94,
   "metadata": {},
   "outputs": [
    {
     "data": {
      "image/png": "[encoded data removed]",
      "text/plain": [
       "<Figure size 432x432 with 2 Axes>"
      ]
     },
     "metadata": {
      "needs_background": "light"
     },
     "output_type": "display_data"
    }
   ],
   "source": [
    "batch_size=128\n",
    "encoder=base_network#check this\n",
    "# display a 2D plot of the digit classes in the latent space\n",
    "ex_test=np.expand_dims(tr_dx,axis=-1)\n",
    "x_test_encoded = encoder.predict(ex_test, batch_size=batch_size)\n",
    "plt.figure(figsize=(6, 6))\n",
    "plt.scatter(x_test_encoded[:, 0], x_test_encoded[:, 1], c=tr_dy,cmap=plt.get_cmap(\"gist_rainbow\"))\n",
    "plt.colorbar()\n",
    "plt.show()"
   ]
  },
  {
   "cell_type": "code",
   "execution_count": 99,
   "metadata": {},
   "outputs": [
    {
     "name": "stdout",
     "output_type": "stream",
     "text": [
      "tr_pairs= (370, 4, 28, 28, 1) tr_y= (370, 2) float32\n"
     ]
    }
   ],
   "source": [
    "# create training+test positive and negative pairs\n",
    "digit_indices = [np.where(y_train == i)[0] for i in range(num_classes)]\n",
    "tr_dx,tr_dy,tr_pairs, tr_y = create_pairs_intra(x_train, digit_indices,10,[4,9])\n",
    "print(\"tr_pairs=\",tr_pairs.shape,\"tr_y=\",tr_y.shape,tr_y.dtype)"
   ]
  },
  {
   "cell_type": "code",
   "execution_count": 100,
   "metadata": {},
   "outputs": [],
   "source": [
    "# network definition\n",
    "base_network = create_base_network(input_shape)\n",
    "model = buildModel()"
   ]
  },
  {
   "cell_type": "code",
   "execution_count": 101,
   "metadata": {},
   "outputs": [
    {
     "data": {
      "image/png": "[encoded data removed]",
      "text/plain": [
       "<Figure size 432x432 with 2 Axes>"
      ]
     },
     "metadata": {
      "needs_background": "light"
     },
     "output_type": "display_data"
    }
   ],
   "source": [
    "batch_size=128\n",
    "encoder=base_network#check this\n",
    "# display a 2D plot of the digit classes in the latent space\n",
    "ex_test=np.expand_dims(tr_dx,axis=-1)\n",
    "x_test_encoded = encoder.predict(ex_test, batch_size=batch_size)\n",
    "plt.figure(figsize=(6, 6))\n",
    "plt.scatter(x_test_encoded[:, 0], x_test_encoded[:, 1], c=tr_dy,cmap=plt.get_cmap(\"gist_rainbow\"))\n",
    "plt.colorbar()\n",
    "plt.show()"
   ]
  },
  {
   "cell_type": "code",
   "execution_count": 102,
   "metadata": {},
   "outputs": [],
   "source": [
    "rms = RMSprop()\n",
    "model.compile(loss=contrastive_loss_intra_hard, optimizer=rms, metrics=[accuracy])"
   ]
  },
  {
   "cell_type": "code",
   "execution_count": 105,
   "metadata": {},
   "outputs": [
    {
     "name": "stdout",
     "output_type": "stream",
     "text": [
      "Train on 370 samples, validate on 3700 samples\n",
      "Epoch 1/100\n",
      "370/370 [==============================] - 0s 1ms/sample - loss: 0.0269 - accuracy: 0.7027 - val_loss: 0.2807 - val_accuracy: 0.5326\n",
      "Epoch 2/100\n",
      "370/370 [==============================] - 0s 1ms/sample - loss: 0.0242 - accuracy: 0.7027 - val_loss: 0.2733 - val_accuracy: 0.5397\n",
      "Epoch 3/100\n",
      "370/370 [==============================] - 0s 1ms/sample - loss: 0.0259 - accuracy: 0.7027 - val_loss: 0.2759 - val_accuracy: 0.5350\n",
      "Epoch 4/100\n",
      "370/370 [==============================] - 0s 1ms/sample - loss: 0.0278 - accuracy: 0.7054 - val_loss: 0.2648 - val_accuracy: 0.5406\n",
      "Epoch 5/100\n",
      "370/370 [==============================] - 0s 1ms/sample - loss: 0.0272 - accuracy: 0.7041 - val_loss: 0.2878 - val_accuracy: 0.5353\n",
      "Epoch 6/100\n",
      "370/370 [==============================] - 0s 1ms/sample - loss: 0.0260 - accuracy: 0.7054 - val_loss: 0.2698 - val_accuracy: 0.5455\n",
      "Epoch 7/100\n",
      "370/370 [==============================] - 0s 1ms/sample - loss: 0.0306 - accuracy: 0.7027 - val_loss: 0.2738 - val_accuracy: 0.5434\n",
      "Epoch 8/100\n",
      "370/370 [==============================] - 0s 1ms/sample - loss: 0.0240 - accuracy: 0.7027 - val_loss: 0.2944 - val_accuracy: 0.5414\n",
      "Epoch 9/100\n",
      "370/370 [==============================] - 0s 1ms/sample - loss: 0.0266 - accuracy: 0.7041 - val_loss: 0.2661 - val_accuracy: 0.5443\n",
      "Epoch 10/100\n",
      "370/370 [==============================] - 0s 1ms/sample - loss: 0.0284 - accuracy: 0.7027 - val_loss: 0.2634 - val_accuracy: 0.5479\n",
      "Epoch 11/100\n",
      "370/370 [==============================] - 0s 1ms/sample - loss: 0.0249 - accuracy: 0.7054 - val_loss: 0.3187 - val_accuracy: 0.5318\n",
      "Epoch 12/100\n",
      "370/370 [==============================] - 0s 1ms/sample - loss: 0.0218 - accuracy: 0.7041 - val_loss: 0.2822 - val_accuracy: 0.5392\n",
      "Epoch 13/100\n",
      "370/370 [==============================] - 0s 1ms/sample - loss: 0.0278 - accuracy: 0.7027 - val_loss: 0.2761 - val_accuracy: 0.5419\n",
      "Epoch 14/100\n",
      "370/370 [==============================] - 0s 1ms/sample - loss: 0.0253 - accuracy: 0.7027 - val_loss: 0.2930 - val_accuracy: 0.5374\n",
      "Epoch 15/100\n",
      "370/370 [==============================] - 0s 1ms/sample - loss: 0.0202 - accuracy: 0.7027 - val_loss: 0.2858 - val_accuracy: 0.5404\n",
      "Epoch 16/100\n",
      "370/370 [==============================] - 0s 1ms/sample - loss: 0.0224 - accuracy: 0.7041 - val_loss: 0.2865 - val_accuracy: 0.5394\n",
      "Epoch 17/100\n",
      "370/370 [==============================] - 0s 1ms/sample - loss: 0.0269 - accuracy: 0.7027 - val_loss: 0.2749 - val_accuracy: 0.5404\n",
      "Epoch 18/100\n",
      "370/370 [==============================] - 0s 1ms/sample - loss: 0.0270 - accuracy: 0.7027 - val_loss: 0.2749 - val_accuracy: 0.5427\n",
      "Epoch 19/100\n",
      "370/370 [==============================] - 0s 1ms/sample - loss: 0.0233 - accuracy: 0.7027 - val_loss: 0.2947 - val_accuracy: 0.5401\n",
      "Epoch 20/100\n",
      "370/370 [==============================] - 0s 1ms/sample - loss: 0.0248 - accuracy: 0.7027 - val_loss: 0.2811 - val_accuracy: 0.5422\n",
      "Epoch 21/100\n",
      "370/370 [==============================] - 0s 1ms/sample - loss: 0.0255 - accuracy: 0.7027 - val_loss: 0.2887 - val_accuracy: 0.5409\n",
      "Epoch 22/100\n",
      "370/370 [==============================] - 0s 1ms/sample - loss: 0.0228 - accuracy: 0.7027 - val_loss: 0.2791 - val_accuracy: 0.5421\n",
      "Epoch 23/100\n",
      "370/370 [==============================] - 0s 1ms/sample - loss: 0.0241 - accuracy: 0.7027 - val_loss: 0.2843 - val_accuracy: 0.5412\n",
      "Epoch 24/100\n",
      "370/370 [==============================] - 0s 1ms/sample - loss: 0.0190 - accuracy: 0.7027 - val_loss: 0.2920 - val_accuracy: 0.5372\n",
      "Epoch 25/100\n",
      "370/370 [==============================] - 0s 1ms/sample - loss: 0.0215 - accuracy: 0.7027 - val_loss: 0.2823 - val_accuracy: 0.5370\n",
      "Epoch 26/100\n",
      "370/370 [==============================] - 0s 1ms/sample - loss: 0.0232 - accuracy: 0.7027 - val_loss: 0.2791 - val_accuracy: 0.5422\n",
      "Epoch 27/100\n",
      "370/370 [==============================] - 0s 1ms/sample - loss: 0.0241 - accuracy: 0.7041 - val_loss: 0.3020 - val_accuracy: 0.5313\n",
      "Epoch 28/100\n",
      "370/370 [==============================] - 0s 1ms/sample - loss: 0.0199 - accuracy: 0.7027 - val_loss: 0.3054 - val_accuracy: 0.5372\n",
      "Epoch 29/100\n",
      "370/370 [==============================] - 0s 1ms/sample - loss: 0.0207 - accuracy: 0.7027 - val_loss: 0.2843 - val_accuracy: 0.5489\n",
      "Epoch 30/100\n",
      "370/370 [==============================] - 0s 1ms/sample - loss: 0.0224 - accuracy: 0.7041 - val_loss: 0.2834 - val_accuracy: 0.5479\n",
      "Epoch 31/100\n",
      "370/370 [==============================] - 0s 1ms/sample - loss: 0.0237 - accuracy: 0.7027 - val_loss: 0.2928 - val_accuracy: 0.5457\n",
      "Epoch 32/100\n",
      "370/370 [==============================] - 0s 1ms/sample - loss: 0.0231 - accuracy: 0.7027 - val_loss: 0.2894 - val_accuracy: 0.5415\n",
      "Epoch 33/100\n",
      "370/370 [==============================] - 0s 1ms/sample - loss: 0.0213 - accuracy: 0.7027 - val_loss: 0.2851 - val_accuracy: 0.5465\n",
      "Epoch 34/100\n",
      "370/370 [==============================] - 0s 1ms/sample - loss: 0.0228 - accuracy: 0.7027 - val_loss: 0.2790 - val_accuracy: 0.5458\n",
      "Epoch 35/100\n",
      "370/370 [==============================] - 0s 1ms/sample - loss: 0.0263 - accuracy: 0.7027 - val_loss: 0.2891 - val_accuracy: 0.5376\n",
      "Epoch 36/100\n",
      "370/370 [==============================] - 0s 1ms/sample - loss: 0.0232 - accuracy: 0.7027 - val_loss: 0.2828 - val_accuracy: 0.5439\n",
      "Epoch 37/100\n",
      "370/370 [==============================] - 0s 1ms/sample - loss: 0.0195 - accuracy: 0.7027 - val_loss: 0.3017 - val_accuracy: 0.5433\n",
      "Epoch 38/100\n",
      "370/370 [==============================] - 0s 1ms/sample - loss: 0.0204 - accuracy: 0.7027 - val_loss: 0.2980 - val_accuracy: 0.5461\n",
      "Epoch 39/100\n",
      "370/370 [==============================] - 0s 1ms/sample - loss: 0.0266 - accuracy: 0.7027 - val_loss: 0.2724 - val_accuracy: 0.5462\n",
      "Epoch 40/100\n",
      "370/370 [==============================] - 0s 1ms/sample - loss: 0.0234 - accuracy: 0.7027 - val_loss: 0.2924 - val_accuracy: 0.5399\n",
      "Epoch 41/100\n",
      "370/370 [==============================] - 0s 1ms/sample - loss: 0.0169 - accuracy: 0.7027 - val_loss: 0.3042 - val_accuracy: 0.5406\n",
      "Epoch 42/100\n",
      "370/370 [==============================] - 0s 1ms/sample - loss: 0.0176 - accuracy: 0.7027 - val_loss: 0.2913 - val_accuracy: 0.5471\n",
      "Epoch 43/100\n",
      "370/370 [==============================] - 0s 1ms/sample - loss: 0.0255 - accuracy: 0.7027 - val_loss: 0.2884 - val_accuracy: 0.5385\n",
      "Epoch 44/100\n",
      "370/370 [==============================] - 0s 1ms/sample - loss: 0.0223 - accuracy: 0.7027 - val_loss: 0.2845 - val_accuracy: 0.5385\n",
      "Epoch 45/100\n",
      "370/370 [==============================] - 0s 1ms/sample - loss: 0.0185 - accuracy: 0.7027 - val_loss: 0.3109 - val_accuracy: 0.5381\n",
      "Epoch 46/100\n",
      "370/370 [==============================] - 1s 1ms/sample - loss: 0.0189 - accuracy: 0.7027 - val_loss: 0.2982 - val_accuracy: 0.5394\n",
      "Epoch 47/100\n",
      "370/370 [==============================] - 0s 1ms/sample - loss: 0.0201 - accuracy: 0.7027 - val_loss: 0.2877 - val_accuracy: 0.5435\n",
      "Epoch 48/100\n",
      "370/370 [==============================] - 0s 1ms/sample - loss: 0.0203 - accuracy: 0.7027 - val_loss: 0.2960 - val_accuracy: 0.5417\n",
      "Epoch 49/100\n",
      "370/370 [==============================] - 0s 1ms/sample - loss: 0.0184 - accuracy: 0.7027 - val_loss: 0.3198 - val_accuracy: 0.5363\n",
      "Epoch 50/100\n",
      "370/370 [==============================] - 0s 1ms/sample - loss: 0.0237 - accuracy: 0.7027 - val_loss: 0.2905 - val_accuracy: 0.5424\n",
      "Epoch 51/100\n",
      "370/370 [==============================] - 0s 1ms/sample - loss: 0.0256 - accuracy: 0.7027 - val_loss: 0.2876 - val_accuracy: 0.5381\n",
      "Epoch 52/100\n",
      "370/370 [==============================] - 0s 1ms/sample - loss: 0.0216 - accuracy: 0.7027 - val_loss: 0.3154 - val_accuracy: 0.5371\n",
      "Epoch 53/100\n",
      "370/370 [==============================] - 1s 1ms/sample - loss: 0.0158 - accuracy: 0.7027 - val_loss: 0.2977 - val_accuracy: 0.5489\n",
      "Epoch 54/100\n",
      "370/370 [==============================] - 0s 1ms/sample - loss: 0.0193 - accuracy: 0.7041 - val_loss: 0.2982 - val_accuracy: 0.5471\n",
      "Epoch 55/100\n",
      "370/370 [==============================] - 0s 1ms/sample - loss: 0.0234 - accuracy: 0.7027 - val_loss: 0.2936 - val_accuracy: 0.5396\n",
      "Epoch 56/100\n",
      "370/370 [==============================] - 0s 1ms/sample - loss: 0.0245 - accuracy: 0.7027 - val_loss: 0.2754 - val_accuracy: 0.5451\n"
     ]
    },
    {
     "name": "stdout",
     "output_type": "stream",
     "text": [
      "Epoch 57/100\n",
      "370/370 [==============================] - 0s 1ms/sample - loss: 0.0200 - accuracy: 0.7027 - val_loss: 0.3363 - val_accuracy: 0.5325\n",
      "Epoch 58/100\n",
      "370/370 [==============================] - 0s 1ms/sample - loss: 0.0173 - accuracy: 0.7041 - val_loss: 0.3146 - val_accuracy: 0.5453\n",
      "Epoch 59/100\n",
      "370/370 [==============================] - 0s 1ms/sample - loss: 0.0246 - accuracy: 0.7027 - val_loss: 0.2891 - val_accuracy: 0.5443\n",
      "Epoch 60/100\n",
      "370/370 [==============================] - 0s 1ms/sample - loss: 0.0251 - accuracy: 0.7027 - val_loss: 0.2709 - val_accuracy: 0.5554\n",
      "Epoch 61/100\n",
      "370/370 [==============================] - 0s 1ms/sample - loss: 0.0191 - accuracy: 0.7027 - val_loss: 0.3302 - val_accuracy: 0.5307\n",
      "Epoch 62/100\n",
      "370/370 [==============================] - 0s 1ms/sample - loss: 0.0182 - accuracy: 0.7041 - val_loss: 0.3234 - val_accuracy: 0.5358\n",
      "Epoch 63/100\n",
      "370/370 [==============================] - 0s 1ms/sample - loss: 0.0234 - accuracy: 0.7027 - val_loss: 0.2988 - val_accuracy: 0.5467\n",
      "Epoch 64/100\n",
      "370/370 [==============================] - 0s 1ms/sample - loss: 0.0229 - accuracy: 0.7027 - val_loss: 0.2905 - val_accuracy: 0.5498\n",
      "Epoch 65/100\n",
      "370/370 [==============================] - 0s 1ms/sample - loss: 0.0196 - accuracy: 0.7027 - val_loss: 0.2994 - val_accuracy: 0.5453\n",
      "Epoch 66/100\n",
      "370/370 [==============================] - 0s 1ms/sample - loss: 0.0162 - accuracy: 0.7027 - val_loss: 0.3034 - val_accuracy: 0.5444\n",
      "Epoch 67/100\n",
      "370/370 [==============================] - 0s 1ms/sample - loss: 0.0169 - accuracy: 0.7027 - val_loss: 0.3089 - val_accuracy: 0.5443\n",
      "Epoch 68/100\n",
      "370/370 [==============================] - 0s 1ms/sample - loss: 0.0195 - accuracy: 0.7027 - val_loss: 0.3020 - val_accuracy: 0.5467\n",
      "Epoch 69/100\n",
      "370/370 [==============================] - 0s 1ms/sample - loss: 0.0219 - accuracy: 0.7027 - val_loss: 0.2966 - val_accuracy: 0.5459\n",
      "Epoch 70/100\n",
      "370/370 [==============================] - 0s 1ms/sample - loss: 0.0172 - accuracy: 0.7027 - val_loss: 0.3040 - val_accuracy: 0.5449\n",
      "Epoch 71/100\n",
      "370/370 [==============================] - 0s 1ms/sample - loss: 0.0139 - accuracy: 0.7027 - val_loss: 0.3233 - val_accuracy: 0.5437\n",
      "Epoch 72/100\n",
      "370/370 [==============================] - 0s 1ms/sample - loss: 0.0126 - accuracy: 0.7041 - val_loss: 0.3208 - val_accuracy: 0.5428\n",
      "Epoch 73/100\n",
      "370/370 [==============================] - 0s 1ms/sample - loss: 0.0168 - accuracy: 0.7041 - val_loss: 0.3127 - val_accuracy: 0.5410\n",
      "Epoch 74/100\n",
      "370/370 [==============================] - 0s 1ms/sample - loss: 0.0203 - accuracy: 0.7027 - val_loss: 0.2984 - val_accuracy: 0.5368\n",
      "Epoch 75/100\n",
      "370/370 [==============================] - 0s 1ms/sample - loss: 0.0236 - accuracy: 0.7027 - val_loss: 0.2938 - val_accuracy: 0.5453\n",
      "Epoch 76/100\n",
      "370/370 [==============================] - 0s 1ms/sample - loss: 0.0189 - accuracy: 0.7041 - val_loss: 0.3007 - val_accuracy: 0.5499\n",
      "Epoch 77/100\n",
      "370/370 [==============================] - 0s 1ms/sample - loss: 0.0155 - accuracy: 0.7027 - val_loss: 0.3183 - val_accuracy: 0.5297\n",
      "Epoch 78/100\n",
      "370/370 [==============================] - 0s 1ms/sample - loss: 0.0164 - accuracy: 0.7027 - val_loss: 0.3128 - val_accuracy: 0.5454\n",
      "Epoch 79/100\n",
      "370/370 [==============================] - 0s 1ms/sample - loss: 0.0190 - accuracy: 0.7027 - val_loss: 0.3048 - val_accuracy: 0.5424\n",
      "Epoch 80/100\n",
      "370/370 [==============================] - 0s 1ms/sample - loss: 0.0215 - accuracy: 0.7041 - val_loss: 0.2840 - val_accuracy: 0.5477\n",
      "Epoch 81/100\n",
      "370/370 [==============================] - 0s 1ms/sample - loss: 0.0212 - accuracy: 0.7027 - val_loss: 0.3456 - val_accuracy: 0.5254\n",
      "Epoch 82/100\n",
      "370/370 [==============================] - 0s 1ms/sample - loss: 0.0145 - accuracy: 0.7027 - val_loss: 0.3328 - val_accuracy: 0.5345\n",
      "Epoch 83/100\n",
      "370/370 [==============================] - 0s 1ms/sample - loss: 0.0185 - accuracy: 0.7027 - val_loss: 0.3157 - val_accuracy: 0.5453\n",
      "Epoch 84/100\n",
      "370/370 [==============================] - 0s 1ms/sample - loss: 0.0295 - accuracy: 0.7054 - val_loss: 0.2863 - val_accuracy: 0.5511\n",
      "Epoch 85/100\n",
      "370/370 [==============================] - 0s 1ms/sample - loss: 0.0199 - accuracy: 0.7027 - val_loss: 0.2975 - val_accuracy: 0.5456\n",
      "Epoch 86/100\n",
      "370/370 [==============================] - 0s 1ms/sample - loss: 0.0166 - accuracy: 0.7027 - val_loss: 0.3156 - val_accuracy: 0.5462\n",
      "Epoch 87/100\n",
      "370/370 [==============================] - 0s 1ms/sample - loss: 0.0141 - accuracy: 0.7027 - val_loss: 0.3228 - val_accuracy: 0.5444\n",
      "Epoch 88/100\n",
      "370/370 [==============================] - 0s 1ms/sample - loss: 0.0175 - accuracy: 0.7027 - val_loss: 0.3147 - val_accuracy: 0.5453\n",
      "Epoch 89/100\n",
      "370/370 [==============================] - 0s 1ms/sample - loss: 0.0209 - accuracy: 0.7027 - val_loss: 0.3025 - val_accuracy: 0.5420\n",
      "Epoch 90/100\n",
      "370/370 [==============================] - 0s 1ms/sample - loss: 0.0192 - accuracy: 0.7027 - val_loss: 0.3110 - val_accuracy: 0.5389\n",
      "Epoch 91/100\n",
      "370/370 [==============================] - 0s 1ms/sample - loss: 0.0162 - accuracy: 0.7027 - val_loss: 0.3167 - val_accuracy: 0.5434\n",
      "Epoch 92/100\n",
      "370/370 [==============================] - 0s 1ms/sample - loss: 0.0149 - accuracy: 0.7027 - val_loss: 0.3216 - val_accuracy: 0.5449\n",
      "Epoch 93/100\n",
      "370/370 [==============================] - 0s 1ms/sample - loss: 0.0154 - accuracy: 0.7027 - val_loss: 0.3287 - val_accuracy: 0.5405\n",
      "Epoch 94/100\n",
      "370/370 [==============================] - 0s 1ms/sample - loss: 0.0212 - accuracy: 0.7027 - val_loss: 0.2994 - val_accuracy: 0.5477\n",
      "Epoch 95/100\n",
      "370/370 [==============================] - 0s 1ms/sample - loss: 0.0194 - accuracy: 0.7027 - val_loss: 0.2993 - val_accuracy: 0.5423\n",
      "Epoch 96/100\n",
      "370/370 [==============================] - 0s 1ms/sample - loss: 0.0151 - accuracy: 0.7027 - val_loss: 0.3147 - val_accuracy: 0.5518\n",
      "Epoch 97/100\n",
      "370/370 [==============================] - 0s 1ms/sample - loss: 0.0136 - accuracy: 0.7027 - val_loss: 0.3198 - val_accuracy: 0.5459\n",
      "Epoch 98/100\n",
      "370/370 [==============================] - 0s 1ms/sample - loss: 0.0132 - accuracy: 0.7027 - val_loss: 0.3311 - val_accuracy: 0.5471\n",
      "Epoch 99/100\n",
      "370/370 [==============================] - 0s 1ms/sample - loss: 0.0203 - accuracy: 0.7041 - val_loss: 0.3133 - val_accuracy: 0.5429\n",
      "Epoch 100/100\n",
      "370/370 [==============================] - 0s 1ms/sample - loss: 0.0257 - accuracy: 0.7027 - val_loss: 0.2856 - val_accuracy: 0.5444\n"
     ]
    },
    {
     "data": {
      "text/plain": [
       "<tensorflow.python.keras.callbacks.History at 0x7f711826b4d0>"
      ]
     },
     "execution_count": 105,
     "metadata": {},
     "output_type": "execute_result"
    }
   ],
   "source": [
    "# train\n",
    "epochs = 100\n",
    "batch_size=1000\n",
    "model.fit([tr_pairs[:, 0], tr_pairs[:, 1],tr_pairs[:, 2], tr_pairs[:, 3]], tr_y,\n",
    "          batch_size=batch_size,\n",
    "          epochs=epochs,\n",
    "          validation_data=([te_pairs[:, 0], te_pairs[:, 1],te_pairs[:, 2], te_pairs[:, 3]], te_y))"
   ]
  },
  {
   "cell_type": "code",
   "execution_count": 104,
   "metadata": {},
   "outputs": [
    {
     "data": {
      "image/png": "[encoded data removed]",
      "text/plain": [
       "<Figure size 432x432 with 2 Axes>"
      ]
     },
     "metadata": {
      "needs_background": "light"
     },
     "output_type": "display_data"
    }
   ],
   "source": [
    "batch_size=128\n",
    "encoder=base_network#check this\n",
    "# display a 2D plot of the digit classes in the latent space\n",
    "ex_test=np.expand_dims(tr_dx,axis=-1)\n",
    "x_test_encoded = encoder.predict(ex_test, batch_size=batch_size)\n",
    "plt.figure(figsize=(6, 6))\n",
    "plt.scatter(x_test_encoded[:, 0], x_test_encoded[:, 1], c=tr_dy,cmap=plt.get_cmap(\"gist_rainbow\"))\n",
    "plt.colorbar()\n",
    "plt.show()"
   ]
  },
  {
   "cell_type": "code",
   "execution_count": null,
   "metadata": {},
   "outputs": [],
   "source": []
  }
 ],
 "metadata": {
  "anaconda-cloud": {},
  "kernelspec": {
   "display_name": "Python 3",
   "language": "python",
   "name": "python3"
  },
  "language_info": {
   "codemirror_mode": {
    "name": "ipython",
    "version": 3
   },
   "file_extension": ".py",
   "mimetype": "text/x-python",
   "name": "python",
   "nbconvert_exporter": "python",
   "pygments_lexer": "ipython3",
   "version": "3.7.7"
  }
 },
 "nbformat": 4,
 "nbformat_minor": 2
}
