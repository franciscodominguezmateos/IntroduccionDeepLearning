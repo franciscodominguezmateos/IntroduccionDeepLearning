{
 "cells": [
  {
   "cell_type": "code",
   "execution_count": 2,
   "metadata": {},
   "outputs": [
    {
     "name": "stdout",
     "output_type": "stream",
     "text": [
      "tf2= 2.1.0\n"
     ]
    }
   ],
   "source": [
    "'''Trains a Siamese MLP on pairs of digits from the MNIST dataset.\n",
    "It follows Hadsell-et-al.'06 [1] by computing the Euclidean distance on the\n",
    "output of the shared network and by optimizing the contrastive loss (see paper\n",
    "for more details).\n",
    "\n",
    "# References\n",
    "- Dimensionality Reduction by Learning an Invariant Mapping\n",
    "    http://yann.lecun.com/exdb/publis/pdf/hadsell-chopra-lecun-06.pdf\n",
    "Gets to 97.2% test accuracy after 20 epochs.\n",
    "2 seconds per epoch on a Titan X Maxwell GPU\n",
    "\n",
    "15/04/2020\n",
    "Tensorflow 2 keras version\n",
    "'''\n",
    "from __future__ import absolute_import\n",
    "from __future__ import print_function\n",
    "import numpy as np\n",
    "\n",
    "import random\n",
    "\n",
    "import matplotlib.pyplot as plt\n",
    "import cv2\n",
    "\n",
    "# Config the matplotlib backend as plotting inline in IPython\n",
    "%matplotlib inline\n",
    "\n",
    "import tensorflow as tf\n",
    "import tensorflow.keras\n",
    "from tensorflow.keras.datasets import mnist\n",
    "from tensorflow.keras.models import Model\n",
    "from tensorflow.keras.layers import Input, Flatten, Dense, Dropout, Lambda, Conv2D\n",
    "from tensorflow.keras.optimizers import RMSprop\n",
    "from tensorflow.keras import backend as K\n",
    "\n",
    "num_classes = 10\n",
    "\n",
    "print(\"tf2=\",tf.__version__)"
   ]
  },
  {
   "cell_type": "code",
   "execution_count": 3,
   "metadata": {},
   "outputs": [],
   "source": [
    "def rotate(img, angle):\n",
    "    #img = cv2.imread(img)\n",
    "    (height, width) = img.shape[:2]\n",
    "    (cent_x, cent_y) = (width // 2, height // 2)\n",
    "    mat = cv2.getRotationMatrix2D((cent_x, cent_y), -angle, 1.0)\n",
    "    return cv2.warpAffine(img, mat,(height, width))"
   ]
  },
  {
   "cell_type": "code",
   "execution_count": 4,
   "metadata": {},
   "outputs": [],
   "source": [
    "def euclidean_distance(vects):\n",
    "    x, y = vects\n",
    "    sum_square = K.sum(K.square(x - y), axis=1, keepdims=True)\n",
    "    return K.sqrt(K.maximum(sum_square, K.epsilon()))\n",
    "\n",
    "\n",
    "def eucl_dist_output_shape(shapes):\n",
    "    shape1, shape2 = shapes\n",
    "    return (shape1[0], 1)\n",
    "\n",
    "def contrastive_loss_intra(y,d):\n",
    "    '''    Double contrastive loss from me 2019    '''\n",
    "    # splitting data\n",
    "    #labels n for same class and r for samem orientation/rotation\n",
    "    # 11 distance for same class same rotation/orientation -> squeeze\n",
    "    # 10 distance for same class different orientation -> squeeze up to a margin\n",
    "    # 00 diatance for different class -> stretch up to a margin\n",
    "    y_n,y_r= tf.split(y,2, axis=-1)\n",
    "    d_pred=d\n",
    "\n",
    "    # margins for relative is little since it is in the ball of normal margin\n",
    "    margin_n = 2.0\n",
    "    margin_r = 0.25\n",
    "    \n",
    "    # same importance const\n",
    "    cs=margin_n/margin_r\n",
    "    \n",
    "    square_pred = K.square(d_pred)\n",
    "    \n",
    "    margin_square_00  = K.square(K.maximum(margin_n - d_pred, 0))# -> stretch up to a margin margin_n\n",
    "    margin_square_10n = K.square(K.maximum(d_pred   - margin_n, 0)) # -> squeeze up to a margin\n",
    "    margin_square_10r = K.square(K.maximum(margin_r - d_pred,0))  # -> stretch up to margin margin_r\n",
    "    \n",
    "    # relative loss from embedding vector differences\n",
    "    loss_11=square_pred                   #-> squeeze\n",
    "    loss_10= margin_square_10n+margin_square_10r # -> squeeze up to a margin_n but stretch up to margin_r\n",
    "    loss_1 = y_r * loss_11 + (1-y_r) * loss_10\n",
    "    loss_0 =margin_square_00               # -> max up to a margin\n",
    "    # main loss from embedding vectors\n",
    "    loss= y_n * loss_1 + (1 - y_n) *  loss_0\n",
    "    # merging losses\n",
    "    loss=K.mean(loss)\n",
    "    return loss\n"
   ]
  },
  {
   "cell_type": "code",
   "execution_count": 5,
   "metadata": {},
   "outputs": [],
   "source": [
    "def create_pairs_intra(x,digit_indices,N=2,classes=[0,3,4,8,9]):\n",
    "    #subclases=[0,1]\n",
    "    label=range(len(classes))\n",
    "    sublabel=[i+0.5 for i in label]\n",
    "    dx=[]\n",
    "    dy=[]\n",
    "    d_n={}\n",
    "    d_r={}\n",
    "    for n in classes:\n",
    "        d_n[n]=[]\n",
    "        d_r[n]=[]\n",
    "    for ni,n in enumerate(classes):\n",
    "        for i in range(N):\n",
    "            d_ni=x[digit_indices[n][i]]\n",
    "            d_ri=rotate(d_ni,30)\n",
    "            d_n[n].append(d_ni)\n",
    "            d_r[n].append(d_ri)\n",
    "            dx.append(d_ni)\n",
    "            dy.append(label[ni])\n",
    "            dx.append(d_ri)\n",
    "            dy.append(sublabel[ni])\n",
    "    pairs=[]\n",
    "    labels=[]\n",
    "    for na in range(len(classes)):\n",
    "        a=classes[na]\n",
    "        for nb in range(na+1,len(classes)):\n",
    "            b=classes[nb]\n",
    "            for i in range(N):\n",
    "                dani=d_n[a][i]\n",
    "                dari=d_r[a][i]\n",
    "                dbni=d_n[b][i]\n",
    "                dbri=d_r[b][i]\n",
    "                for j in range(i+1,N):\n",
    "                    danj=d_n[a][j]\n",
    "                    darj=d_r[a][j]\n",
    "                    dbnj=d_n[b][j]\n",
    "                    dbrj=d_r[b][j]\n",
    "                    pairs +=[[dani,danj]]\n",
    "                    labels+=[[1,1]]\n",
    "                    pairs +=[[dari,darj]]\n",
    "                    labels+=[[1,1]]\n",
    "                    pairs +=[[dbni,dbnj]]\n",
    "                    labels+=[[1,1]]\n",
    "                    pairs +=[[dbri,dbrj]]\n",
    "                    labels+=[[1,1]]\n",
    "                    pairs +=[[dani,darj]]\n",
    "                    labels+=[[1,0]]\n",
    "                    pairs +=[[dbni,dbrj]]\n",
    "                    labels+=[[1,0]]\n",
    "                pairs +=[[dani,dari]]\n",
    "                labels+=[[1,0]]\n",
    "                pairs +=[[dbni,dbri]]\n",
    "                labels+=[[1,0]]\n",
    "                for j in range(2):\n",
    "                    danj=d_n[a][j]\n",
    "                    darj=d_r[a][j]\n",
    "                    dbnj=d_n[b][j]\n",
    "                    dbrj=d_r[b][j]\n",
    "                    pairs +=[[dani,dbnj]]\n",
    "                    labels+=[[0,0]]\n",
    "                    pairs +=[[dani,dbrj]]\n",
    "                    labels+=[[0,0]]\n",
    "                    pairs +=[[dari,dbnj]]\n",
    "                    labels+=[[0,0]]\n",
    "                    pairs +=[[dari,dbrj]]\n",
    "                    labels+=[[0,0]]         \n",
    "    return np.array(dx).astype(\"float32\"),np.array(dy).astype(\"float32\"),np.expand_dims(np.array(pairs).astype(\"float32\"),axis=-1), np.array(labels).astype(\"float32\")"
   ]
  },
  {
   "cell_type": "code",
   "execution_count": 6,
   "metadata": {},
   "outputs": [],
   "source": [
    "def create_base_network(input_shape):\n",
    "    '''Base network to be shared (eq. to feature extraction).\n",
    "    '''\n",
    "    input = Input(shape=input_shape)\n",
    "    x = Conv2D(64, (3, 3), padding='same', activation='relu')(input)\n",
    "    x = Conv2D(64, (3, 3), padding='same', activation='relu')(x)\n",
    "    x = Flatten()(x)\n",
    "    x = Dense(128, activation='relu')(x)\n",
    "    x = Dropout(0.1)(x)\n",
    "    x = Dense(128, activation='relu')(x)\n",
    "    x = Dropout(0.1)(x)\n",
    "    x = Dense(128, activation='relu')(x)\n",
    "    #for 2D view\n",
    "    x = Dense(  2)(x)\n",
    "    return Model(input, x)\n"
   ]
  },
  {
   "cell_type": "code",
   "execution_count": 7,
   "metadata": {},
   "outputs": [],
   "source": [
    "# Accuracy for the moment is just put in the same class\n",
    "def compute_accuracy(y, y_pred):\n",
    "    '''Compute classification accuracy with a fixed threshold on distances.\n",
    "    '''\n",
    "    y_n,y_true= tf.split(y,2, axis=-1)\n",
    "\n",
    "    pred = y_pred.ravel() < 0.25\n",
    "    return np.mean(pred == y_true)\n",
    "\n",
    "\n",
    "def accuracy(y, y_pred):\n",
    "    '''Compute classification accuracy with a fixed threshold on distances.\n",
    "    '''\n",
    "    y_n,y_true= tf.split(y,2, axis=-1)\n",
    "    return K.mean(K.equal(y_true, K.cast(y_pred < 0.25, y_true.dtype)))"
   ]
  },
  {
   "cell_type": "code",
   "execution_count": 9,
   "metadata": {},
   "outputs": [
    {
     "name": "stdout",
     "output_type": "stream",
     "text": [
      "(28, 28, 1)\n"
     ]
    }
   ],
   "source": [
    "# the data, split between train and test sets\n",
    "(x_train, y_train), (x_test, y_test) = mnist.load_data()\n",
    "x_train = x_train.astype('float32')\n",
    "x_test = x_test.astype('float32')\n",
    "y_train = y_train.astype(\"float32\")\n",
    "y_test  = y_test.astype(\"float32\")\n",
    "x_train /= 255\n",
    "x_test /= 255\n",
    "input_shape = (x_train.shape[1],x_train.shape[1],1)\n",
    "#input_shape = x_train.shape[1:]\n",
    "\n",
    "print(input_shape)"
   ]
  },
  {
   "cell_type": "code",
   "execution_count": 1,
   "metadata": {},
   "outputs": [
    {
     "ename": "NameError",
     "evalue": "name 'plt' is not defined",
     "output_type": "error",
     "traceback": [
      "\u001b[0;31m---------------------------------------------------------------------------\u001b[0m",
      "\u001b[0;31mNameError\u001b[0m                                 Traceback (most recent call last)",
      "\u001b[0;32m<ipython-input-1-abb5386bce10>\u001b[0m in \u001b[0;36m<module>\u001b[0;34m\u001b[0m\n\u001b[1;32m      1\u001b[0m \u001b[0;32mfor\u001b[0m \u001b[0mi\u001b[0m \u001b[0;32min\u001b[0m \u001b[0mrange\u001b[0m\u001b[0;34m(\u001b[0m\u001b[0;36m2\u001b[0m\u001b[0;34m)\u001b[0m\u001b[0;34m:\u001b[0m\u001b[0;34m\u001b[0m\u001b[0;34m\u001b[0m\u001b[0m\n\u001b[0;32m----> 2\u001b[0;31m     \u001b[0mplt\u001b[0m\u001b[0;34m.\u001b[0m\u001b[0msubplot\u001b[0m\u001b[0;34m(\u001b[0m\u001b[0;36m5\u001b[0m\u001b[0;34m,\u001b[0m\u001b[0;36m2\u001b[0m\u001b[0;34m,\u001b[0m\u001b[0mi\u001b[0m\u001b[0;34m*\u001b[0m\u001b[0;36m2\u001b[0m\u001b[0;34m+\u001b[0m\u001b[0;36m1\u001b[0m\u001b[0;34m)\u001b[0m\u001b[0;34m\u001b[0m\u001b[0;34m\u001b[0m\u001b[0m\n\u001b[0m\u001b[1;32m      3\u001b[0m     \u001b[0midx\u001b[0m\u001b[0;34m=\u001b[0m\u001b[0mrandom\u001b[0m\u001b[0;34m.\u001b[0m\u001b[0mrandrange\u001b[0m\u001b[0;34m(\u001b[0m\u001b[0;36m0\u001b[0m\u001b[0;34m,\u001b[0m\u001b[0mx_train\u001b[0m\u001b[0;34m.\u001b[0m\u001b[0mshape\u001b[0m\u001b[0;34m[\u001b[0m\u001b[0;36m0\u001b[0m\u001b[0;34m]\u001b[0m\u001b[0;34m)\u001b[0m\u001b[0;34m\u001b[0m\u001b[0;34m\u001b[0m\u001b[0m\n\u001b[1;32m      4\u001b[0m     \u001b[0mplt\u001b[0m\u001b[0;34m.\u001b[0m\u001b[0mimshow\u001b[0m\u001b[0;34m(\u001b[0m\u001b[0mx_train\u001b[0m\u001b[0;34m[\u001b[0m\u001b[0midx\u001b[0m\u001b[0;34m]\u001b[0m\u001b[0;34m,\u001b[0m \u001b[0mcmap\u001b[0m\u001b[0;34m=\u001b[0m\u001b[0;34m\"gray_r\"\u001b[0m\u001b[0;34m)\u001b[0m\u001b[0;34m\u001b[0m\u001b[0;34m\u001b[0m\u001b[0m\n\u001b[1;32m      5\u001b[0m     \u001b[0;31m#plt.show()\u001b[0m\u001b[0;34m\u001b[0m\u001b[0;34m\u001b[0m\u001b[0;34m\u001b[0m\u001b[0m\n",
      "\u001b[0;31mNameError\u001b[0m: name 'plt' is not defined"
     ]
    }
   ],
   "source": [
    "for i in range(2):\n",
    "    plt.subplot(5,2,i*2+1)\n",
    "    idx=random.randrange(0,x_train.shape[0])\n",
    "    plt.imshow(x_train[idx], cmap=\"gray_r\")\n",
    "    #plt.show()\n",
    "    imgr=rotate(x_train[idx],30)\n",
    "    plt.subplot(5,2,i*2+2)\n",
    "    plt.imshow(imgr,cmap=\"gray_r\")\n",
    "plt.show()"
   ]
  },
  {
   "cell_type": "code",
   "execution_count": 209,
   "metadata": {},
   "outputs": [
    {
     "name": "stdout",
     "output_type": "stream",
     "text": [
      "tr_pairs= (3700, 2, 28, 28, 1) tr_y= (3700, 2) float32\n",
      "te_pairs= (3700, 2, 28, 28, 1) te_y= (3700, 2) float32\n"
     ]
    }
   ],
   "source": [
    "# create training+test positive and negative pairs\n",
    "digit_indices = [np.where(y_train == i)[0] for i in range(num_classes)]\n",
    "tr_dx,tr_dy,tr_pairs, tr_y = create_pairs_intra(x_train, digit_indices,10)\n",
    "\n",
    "digit_indices = [np.where(y_test  == i)[0] for i in range(num_classes)]\n",
    "te_dx,tr_dy,te_pairs, te_y = create_pairs_intra(x_test, digit_indices,10)\n",
    "\n",
    "print(\"tr_pairs=\",tr_pairs.shape,\"tr_y=\",tr_y.shape,tr_y.dtype)\n",
    "print(\"te_pairs=\",te_pairs.shape,\"te_y=\",te_y.shape,te_y.dtype)"
   ]
  },
  {
   "cell_type": "code",
   "execution_count": 210,
   "metadata": {},
   "outputs": [],
   "source": [
    "# network definition\n",
    "base_network = create_base_network(input_shape)\n",
    "\n",
    "input_a = Input(shape=input_shape)\n",
    "input_b = Input(shape=input_shape)\n",
    "\n",
    "# because we re-use the same instance `base_network`,\n",
    "# the weights of the network\n",
    "# will be shared across the two branches\n",
    "processed_a = base_network(input_a)\n",
    "processed_b = base_network(input_b)\n",
    "\n",
    "distance = Lambda(euclidean_distance,\n",
    "                  output_shape=eucl_dist_output_shape)([processed_a, processed_b])\n",
    "\n",
    "model = Model([input_a, input_b], distance)\n"
   ]
  },
  {
   "cell_type": "code",
   "execution_count": 211,
   "metadata": {},
   "outputs": [
    {
     "data": {
      "image/png": "[encoded data removed]",
      "text/plain": [
       "<Figure size 432x432 with 2 Axes>"
      ]
     },
     "metadata": {
      "needs_background": "light"
     },
     "output_type": "display_data"
    }
   ],
   "source": [
    "batch_size=128\n",
    "encoder=base_network#check this\n",
    "# display a 2D plot of the digit classes in the latent space\n",
    "ex_test=np.expand_dims(tr_dx,axis=-1)\n",
    "x_test_encoded = encoder.predict(ex_test, batch_size=batch_size)\n",
    "plt.figure(figsize=(6, 6))\n",
    "plt.scatter(x_test_encoded[:, 0], x_test_encoded[:, 1], c=tr_dy,cmap=plt.get_cmap(\"gist_rainbow\"))\n",
    "plt.colorbar()\n",
    "plt.show()"
   ]
  },
  {
   "cell_type": "code",
   "execution_count": 212,
   "metadata": {},
   "outputs": [
    {
     "name": "stdout",
     "output_type": "stream",
     "text": [
      "Train on 3700 samples, validate on 3700 samples\n",
      "Epoch 1/20\n",
      "3700/3700 [==============================] - 2s 418us/sample - loss: 1.2771 - accuracy: 0.5233 - val_loss: 0.5812 - val_accuracy: 0.5646\n",
      "Epoch 2/20\n",
      "3700/3700 [==============================] - 1s 193us/sample - loss: 0.4423 - accuracy: 0.5603 - val_loss: 0.4845 - val_accuracy: 0.5568\n",
      "Epoch 3/20\n",
      "3700/3700 [==============================] - 1s 193us/sample - loss: 0.3630 - accuracy: 0.5920 - val_loss: 0.4493 - val_accuracy: 0.5521\n",
      "Epoch 4/20\n",
      "3700/3700 [==============================] - 1s 194us/sample - loss: 0.2690 - accuracy: 0.6107 - val_loss: 0.4304 - val_accuracy: 0.5698\n",
      "Epoch 5/20\n",
      "3700/3700 [==============================] - 1s 195us/sample - loss: 0.2441 - accuracy: 0.6525 - val_loss: 0.4476 - val_accuracy: 0.5465\n",
      "Epoch 6/20\n",
      "3700/3700 [==============================] - 1s 195us/sample - loss: 0.2175 - accuracy: 0.6478 - val_loss: 0.4248 - val_accuracy: 0.5616\n",
      "Epoch 7/20\n",
      "3700/3700 [==============================] - 1s 194us/sample - loss: 0.1571 - accuracy: 0.6430 - val_loss: 0.4086 - val_accuracy: 0.5665\n",
      "Epoch 8/20\n",
      "3700/3700 [==============================] - 1s 198us/sample - loss: 0.1153 - accuracy: 0.6620 - val_loss: 0.4196 - val_accuracy: 0.5624\n",
      "Epoch 9/20\n",
      "3700/3700 [==============================] - 1s 202us/sample - loss: 0.1526 - accuracy: 0.6741 - val_loss: 0.4751 - val_accuracy: 0.5765\n",
      "Epoch 10/20\n",
      "3700/3700 [==============================] - 1s 197us/sample - loss: 0.1215 - accuracy: 0.6781 - val_loss: 0.4019 - val_accuracy: 0.5652\n",
      "Epoch 11/20\n",
      "3700/3700 [==============================] - 1s 198us/sample - loss: 0.1099 - accuracy: 0.6842 - val_loss: 0.4185 - val_accuracy: 0.5684\n",
      "Epoch 12/20\n",
      "3700/3700 [==============================] - 1s 199us/sample - loss: 0.0843 - accuracy: 0.7184 - val_loss: 0.4096 - val_accuracy: 0.5543\n",
      "Epoch 13/20\n",
      "3700/3700 [==============================] - 1s 199us/sample - loss: 0.0800 - accuracy: 0.7113 - val_loss: 0.4203 - val_accuracy: 0.5583\n",
      "Epoch 14/20\n",
      "3700/3700 [==============================] - 1s 199us/sample - loss: 0.1006 - accuracy: 0.6962 - val_loss: 0.3976 - val_accuracy: 0.5965\n",
      "Epoch 15/20\n",
      "3700/3700 [==============================] - 1s 199us/sample - loss: 0.0909 - accuracy: 0.7159 - val_loss: 0.4083 - val_accuracy: 0.5564\n",
      "Epoch 16/20\n",
      "3700/3700 [==============================] - 1s 201us/sample - loss: 0.0804 - accuracy: 0.7121 - val_loss: 0.4193 - val_accuracy: 0.5615\n",
      "Epoch 17/20\n",
      "3700/3700 [==============================] - 1s 204us/sample - loss: 0.0669 - accuracy: 0.7210 - val_loss: 0.3858 - val_accuracy: 0.5674\n",
      "Epoch 18/20\n",
      "3700/3700 [==============================] - 1s 205us/sample - loss: 0.0625 - accuracy: 0.7442 - val_loss: 0.4652 - val_accuracy: 0.5599\n",
      "Epoch 19/20\n",
      "3700/3700 [==============================] - 1s 196us/sample - loss: 0.0503 - accuracy: 0.7511 - val_loss: 0.4734 - val_accuracy: 0.5695\n",
      "Epoch 20/20\n",
      "3700/3700 [==============================] - 1s 200us/sample - loss: 0.0627 - accuracy: 0.7229 - val_loss: 0.4145 - val_accuracy: 0.5884\n"
     ]
    },
    {
     "data": {
      "text/plain": [
       "<tensorflow.python.keras.callbacks.History at 0x7f286c7078d0>"
      ]
     },
     "execution_count": 212,
     "metadata": {},
     "output_type": "execute_result"
    }
   ],
   "source": [
    "# train\n",
    "epochs = 20\n",
    "batch_size=1000\n",
    "rms = RMSprop()\n",
    "model.compile(loss=contrastive_loss_intra, optimizer=rms, metrics=[accuracy])\n",
    "model.fit([tr_pairs[:, 0], tr_pairs[:, 1]], tr_y,\n",
    "          batch_size=batch_size,\n",
    "          epochs=epochs,\n",
    "          validation_data=([te_pairs[:, 0], te_pairs[:, 1]], te_y))\n"
   ]
  },
  {
   "cell_type": "code",
   "execution_count": 132,
   "metadata": {},
   "outputs": [
    {
     "name": "stdout",
     "output_type": "stream",
     "text": [
      "* Accuracy on training set: 49.33%\n",
      "* Accuracy on test set: 48.83%\n"
     ]
    }
   ],
   "source": [
    "# compute final accuracy on training and test sets\n",
    "y_pred = model.predict([tr_pairs[:, 0], tr_pairs[:, 1]])\n",
    "tr_acc = compute_accuracy(tr_y, y_pred)\n",
    "y_pred = model.predict([te_pairs[:, 0], te_pairs[:, 1]])\n",
    "te_acc = compute_accuracy(te_y, y_pred)\n",
    "\n",
    "print('* Accuracy on training set: %0.2f%%' % (100 * tr_acc))\n",
    "print('* Accuracy on test set: %0.2f%%' % (100 * te_acc))"
   ]
  },
  {
   "cell_type": "code",
   "execution_count": 213,
   "metadata": {},
   "outputs": [
    {
     "data": {
      "image/png": "[encoded data removed]",
      "text/plain": [
       "<Figure size 432x432 with 2 Axes>"
      ]
     },
     "metadata": {
      "needs_background": "light"
     },
     "output_type": "display_data"
    }
   ],
   "source": [
    "batch_size=128\n",
    "encoder=base_network#check this\n",
    "# display a 2D plot of the digit classes in the latent space\n",
    "ex_test=np.expand_dims(tr_dx,axis=-1)\n",
    "x_test_encoded = encoder.predict(ex_test, batch_size=batch_size)\n",
    "plt.figure(figsize=(6, 6))\n",
    "plt.scatter(x_test_encoded[:, 0], x_test_encoded[:, 1], c=tr_dy,cmap=plt.get_cmap(\"gist_rainbow\"))\n",
    "plt.colorbar()\n",
    "plt.show()"
   ]
  },
  {
   "cell_type": "code",
   "execution_count": 215,
   "metadata": {},
   "outputs": [
    {
     "name": "stdout",
     "output_type": "stream",
     "text": [
      "tr_pairs= (370, 2, 28, 28, 1) tr_y= (370, 2) float32\n"
     ]
    }
   ],
   "source": [
    "# create training+test positive and negative pairs\n",
    "digit_indices = [np.where(y_train == i)[0] for i in range(num_classes)]\n",
    "tr_dx,tr_dy,tr_pairs, tr_y = create_pairs_intra(x_train, digit_indices,10,[4,9])\n",
    "print(\"tr_pairs=\",tr_pairs.shape,\"tr_y=\",tr_y.shape,tr_y.dtype)"
   ]
  },
  {
   "cell_type": "code",
   "execution_count": 224,
   "metadata": {},
   "outputs": [],
   "source": [
    "# network definition\n",
    "base_network = create_base_network(input_shape)\n",
    "\n",
    "input_a = Input(shape=input_shape)\n",
    "input_b = Input(shape=input_shape)\n",
    "\n",
    "# because we re-use the same instance `base_network`,\n",
    "# the weights of the network\n",
    "# will be shared across the two branches\n",
    "processed_a = base_network(input_a)\n",
    "processed_b = base_network(input_b)\n",
    "\n",
    "distance = Lambda(euclidean_distance,\n",
    "                  output_shape=eucl_dist_output_shape)([processed_a, processed_b])\n",
    "\n",
    "model = Model([input_a, input_b], distance)\n"
   ]
  },
  {
   "cell_type": "code",
   "execution_count": 226,
   "metadata": {},
   "outputs": [
    {
     "data": {
      "image/png": "[encoded data removed]",
      "text/plain": [
       "<Figure size 432x432 with 2 Axes>"
      ]
     },
     "metadata": {
      "needs_background": "light"
     },
     "output_type": "display_data"
    }
   ],
   "source": [
    "batch_size=128\n",
    "encoder=base_network#check this\n",
    "# display a 2D plot of the digit classes in the latent space\n",
    "ex_test=np.expand_dims(tr_dx,axis=-1)\n",
    "x_test_encoded = encoder.predict(ex_test, batch_size=batch_size)\n",
    "plt.figure(figsize=(6, 6))\n",
    "plt.scatter(x_test_encoded[:, 0], x_test_encoded[:, 1], c=tr_dy,cmap=plt.get_cmap(\"gist_rainbow\"))\n",
    "plt.colorbar()\n",
    "plt.show()"
   ]
  },
  {
   "cell_type": "code",
   "execution_count": 227,
   "metadata": {},
   "outputs": [
    {
     "name": "stdout",
     "output_type": "stream",
     "text": [
      "Train on 370 samples, validate on 3700 samples\n",
      "Epoch 1/100\n",
      "370/370 [==============================] - 1s 3ms/sample - loss: 0.8655 - accuracy: 0.4865 - val_loss: 1.2343 - val_accuracy: 0.5210\n",
      "Epoch 2/100\n",
      "370/370 [==============================] - 0s 665us/sample - loss: 1.9944 - accuracy: 0.5189 - val_loss: 0.7681 - val_accuracy: 0.5070\n",
      "Epoch 3/100\n",
      "370/370 [==============================] - 0s 667us/sample - loss: 0.6956 - accuracy: 0.4784 - val_loss: 0.6417 - val_accuracy: 0.5307\n",
      "Epoch 4/100\n",
      "370/370 [==============================] - 0s 681us/sample - loss: 0.5657 - accuracy: 0.5243 - val_loss: 0.6753 - val_accuracy: 0.5248\n",
      "Epoch 5/100\n",
      "370/370 [==============================] - 0s 710us/sample - loss: 0.4234 - accuracy: 0.5649 - val_loss: 0.6435 - val_accuracy: 0.5100\n",
      "Epoch 6/100\n",
      "370/370 [==============================] - 0s 696us/sample - loss: 0.2710 - accuracy: 0.5838 - val_loss: 0.6938 - val_accuracy: 0.5364\n",
      "Epoch 7/100\n",
      "370/370 [==============================] - 0s 676us/sample - loss: 0.2242 - accuracy: 0.5703 - val_loss: 0.6572 - val_accuracy: 0.5004\n",
      "Epoch 8/100\n",
      "370/370 [==============================] - 0s 653us/sample - loss: 0.2448 - accuracy: 0.5405 - val_loss: 0.6913 - val_accuracy: 0.5281\n",
      "Epoch 9/100\n",
      "370/370 [==============================] - 0s 664us/sample - loss: 0.2893 - accuracy: 0.6027 - val_loss: 0.6638 - val_accuracy: 0.5162\n",
      "Epoch 10/100\n",
      "370/370 [==============================] - 0s 660us/sample - loss: 0.1267 - accuracy: 0.6081 - val_loss: 0.6470 - val_accuracy: 0.5194\n",
      "Epoch 11/100\n",
      "370/370 [==============================] - 0s 666us/sample - loss: 0.1023 - accuracy: 0.6514 - val_loss: 0.6730 - val_accuracy: 0.5106\n",
      "Epoch 12/100\n",
      "370/370 [==============================] - 0s 660us/sample - loss: 0.0952 - accuracy: 0.5892 - val_loss: 0.6508 - val_accuracy: 0.5114\n",
      "Epoch 13/100\n",
      "370/370 [==============================] - 0s 665us/sample - loss: 0.0722 - accuracy: 0.6892 - val_loss: 0.6700 - val_accuracy: 0.5081\n",
      "Epoch 14/100\n",
      "370/370 [==============================] - 0s 661us/sample - loss: 0.0556 - accuracy: 0.6243 - val_loss: 0.6519 - val_accuracy: 0.5086\n",
      "Epoch 15/100\n",
      "370/370 [==============================] - 0s 670us/sample - loss: 0.0495 - accuracy: 0.6514 - val_loss: 0.6640 - val_accuracy: 0.5169\n",
      "Epoch 16/100\n",
      "370/370 [==============================] - 0s 669us/sample - loss: 0.0445 - accuracy: 0.6486 - val_loss: 0.6596 - val_accuracy: 0.5085\n",
      "Epoch 17/100\n",
      "370/370 [==============================] - 0s 666us/sample - loss: 0.0345 - accuracy: 0.6865 - val_loss: 0.6593 - val_accuracy: 0.5115\n",
      "Epoch 18/100\n",
      "370/370 [==============================] - 0s 674us/sample - loss: 0.0327 - accuracy: 0.6946 - val_loss: 0.6501 - val_accuracy: 0.5207\n",
      "Epoch 19/100\n",
      "370/370 [==============================] - 0s 668us/sample - loss: 0.0402 - accuracy: 0.6919 - val_loss: 0.6858 - val_accuracy: 0.5149\n",
      "Epoch 20/100\n",
      "370/370 [==============================] - 0s 664us/sample - loss: 0.0374 - accuracy: 0.6838 - val_loss: 0.6566 - val_accuracy: 0.5095\n",
      "Epoch 21/100\n",
      "370/370 [==============================] - 0s 672us/sample - loss: 0.0325 - accuracy: 0.6811 - val_loss: 0.6694 - val_accuracy: 0.5176\n",
      "Epoch 22/100\n",
      "370/370 [==============================] - 0s 664us/sample - loss: 0.0325 - accuracy: 0.6676 - val_loss: 0.6520 - val_accuracy: 0.5138\n",
      "Epoch 23/100\n",
      "370/370 [==============================] - 0s 667us/sample - loss: 0.0362 - accuracy: 0.7000 - val_loss: 0.7119 - val_accuracy: 0.5090\n",
      "Epoch 24/100\n",
      "370/370 [==============================] - 0s 669us/sample - loss: 0.0416 - accuracy: 0.6541 - val_loss: 0.6526 - val_accuracy: 0.5238\n",
      "Epoch 25/100\n",
      "370/370 [==============================] - 0s 668us/sample - loss: 0.0288 - accuracy: 0.6730 - val_loss: 0.6633 - val_accuracy: 0.5189\n",
      "Epoch 26/100\n",
      "370/370 [==============================] - 0s 700us/sample - loss: 0.0231 - accuracy: 0.7297 - val_loss: 0.6545 - val_accuracy: 0.5251\n",
      "Epoch 27/100\n",
      "370/370 [==============================] - 0s 691us/sample - loss: 0.0238 - accuracy: 0.7243 - val_loss: 0.6752 - val_accuracy: 0.5226\n",
      "Epoch 28/100\n",
      "370/370 [==============================] - 0s 683us/sample - loss: 0.0311 - accuracy: 0.7189 - val_loss: 0.6387 - val_accuracy: 0.5133\n",
      "Epoch 29/100\n",
      "370/370 [==============================] - 0s 692us/sample - loss: 0.0299 - accuracy: 0.7270 - val_loss: 0.7731 - val_accuracy: 0.5221\n",
      "Epoch 30/100\n",
      "370/370 [==============================] - 0s 664us/sample - loss: 0.0406 - accuracy: 0.6811 - val_loss: 0.6528 - val_accuracy: 0.5233\n",
      "Epoch 31/100\n",
      "370/370 [==============================] - 0s 672us/sample - loss: 0.0284 - accuracy: 0.7432 - val_loss: 0.6784 - val_accuracy: 0.5185\n",
      "Epoch 32/100\n",
      "370/370 [==============================] - 0s 670us/sample - loss: 0.0235 - accuracy: 0.7243 - val_loss: 0.6559 - val_accuracy: 0.5245\n",
      "Epoch 33/100\n",
      "370/370 [==============================] - 0s 671us/sample - loss: 0.0223 - accuracy: 0.7784 - val_loss: 0.7074 - val_accuracy: 0.5114\n",
      "Epoch 34/100\n",
      "370/370 [==============================] - 0s 674us/sample - loss: 0.0259 - accuracy: 0.7568 - val_loss: 0.6573 - val_accuracy: 0.5326\n",
      "Epoch 35/100\n",
      "370/370 [==============================] - 0s 668us/sample - loss: 0.0199 - accuracy: 0.7622 - val_loss: 0.7291 - val_accuracy: 0.5207\n",
      "Epoch 36/100\n",
      "370/370 [==============================] - 0s 715us/sample - loss: 0.0341 - accuracy: 0.7108 - val_loss: 0.6480 - val_accuracy: 0.5333\n",
      "Epoch 37/100\n",
      "370/370 [==============================] - 0s 699us/sample - loss: 0.0370 - accuracy: 0.7135 - val_loss: 0.7032 - val_accuracy: 0.5174\n",
      "Epoch 38/100\n",
      "370/370 [==============================] - 0s 715us/sample - loss: 0.0342 - accuracy: 0.7297 - val_loss: 0.6403 - val_accuracy: 0.5381\n",
      "Epoch 39/100\n",
      "370/370 [==============================] - 0s 718us/sample - loss: 0.0291 - accuracy: 0.7378 - val_loss: 0.9280 - val_accuracy: 0.5205\n",
      "Epoch 40/100\n",
      "370/370 [==============================] - 0s 710us/sample - loss: 0.0590 - accuracy: 0.6811 - val_loss: 0.6665 - val_accuracy: 0.5179\n",
      "Epoch 41/100\n",
      "370/370 [==============================] - 0s 712us/sample - loss: 0.0588 - accuracy: 0.6703 - val_loss: 0.7570 - val_accuracy: 0.5042\n",
      "Epoch 42/100\n",
      "370/370 [==============================] - 0s 707us/sample - loss: 0.0410 - accuracy: 0.6811 - val_loss: 0.6304 - val_accuracy: 0.5192\n",
      "Epoch 43/100\n",
      "370/370 [==============================] - 0s 703us/sample - loss: 0.0191 - accuracy: 0.7568 - val_loss: 0.6370 - val_accuracy: 0.5274\n",
      "Epoch 44/100\n",
      "370/370 [==============================] - 0s 693us/sample - loss: 0.0148 - accuracy: 0.7486 - val_loss: 0.6381 - val_accuracy: 0.5244\n",
      "Epoch 45/100\n",
      "370/370 [==============================] - 0s 725us/sample - loss: 0.0133 - accuracy: 0.8108 - val_loss: 0.6300 - val_accuracy: 0.5220\n",
      "Epoch 46/100\n",
      "370/370 [==============================] - 0s 690us/sample - loss: 0.0146 - accuracy: 0.7946 - val_loss: 0.7047 - val_accuracy: 0.5199\n",
      "Epoch 47/100\n",
      "370/370 [==============================] - 0s 684us/sample - loss: 0.0171 - accuracy: 0.8297 - val_loss: 0.6488 - val_accuracy: 0.5202\n",
      "Epoch 48/100\n",
      "370/370 [==============================] - 0s 713us/sample - loss: 0.0148 - accuracy: 0.8378 - val_loss: 0.6400 - val_accuracy: 0.5241\n",
      "Epoch 49/100\n",
      "370/370 [==============================] - 0s 675us/sample - loss: 0.0118 - accuracy: 0.8162 - val_loss: 0.6468 - val_accuracy: 0.5211\n",
      "Epoch 50/100\n",
      "370/370 [==============================] - 0s 708us/sample - loss: 0.0160 - accuracy: 0.7919 - val_loss: 0.6211 - val_accuracy: 0.5321\n",
      "Epoch 51/100\n",
      "370/370 [==============================] - 0s 711us/sample - loss: 0.0216 - accuracy: 0.7811 - val_loss: 1.1003 - val_accuracy: 0.5142\n",
      "Epoch 52/100\n",
      "370/370 [==============================] - 0s 665us/sample - loss: 0.0544 - accuracy: 0.7459 - val_loss: 0.6521 - val_accuracy: 0.5285\n",
      "Epoch 53/100\n",
      "370/370 [==============================] - 0s 662us/sample - loss: 0.0507 - accuracy: 0.6649 - val_loss: 0.6446 - val_accuracy: 0.5187\n",
      "Epoch 54/100\n",
      "370/370 [==============================] - 0s 659us/sample - loss: 0.0310 - accuracy: 0.7649 - val_loss: 1.1523 - val_accuracy: 0.5209\n",
      "Epoch 55/100\n",
      "370/370 [==============================] - 0s 656us/sample - loss: 0.0521 - accuracy: 0.6919 - val_loss: 0.6626 - val_accuracy: 0.5279\n",
      "Epoch 56/100\n",
      "370/370 [==============================] - 0s 691us/sample - loss: 0.0240 - accuracy: 0.7541 - val_loss: 0.6522 - val_accuracy: 0.5331\n"
     ]
    },
    {
     "name": "stdout",
     "output_type": "stream",
     "text": [
      "Epoch 57/100\n",
      "370/370 [==============================] - 0s 714us/sample - loss: 0.0152 - accuracy: 0.8081 - val_loss: 0.7782 - val_accuracy: 0.5145\n",
      "Epoch 58/100\n",
      "370/370 [==============================] - 0s 683us/sample - loss: 0.0241 - accuracy: 0.8054 - val_loss: 0.6582 - val_accuracy: 0.5347\n",
      "Epoch 59/100\n",
      "370/370 [==============================] - 0s 686us/sample - loss: 0.0158 - accuracy: 0.8135 - val_loss: 0.6540 - val_accuracy: 0.5129\n",
      "Epoch 60/100\n",
      "370/370 [==============================] - 0s 714us/sample - loss: 0.0109 - accuracy: 0.8432 - val_loss: 0.6782 - val_accuracy: 0.5151\n",
      "Epoch 61/100\n",
      "370/370 [==============================] - 0s 683us/sample - loss: 0.0095 - accuracy: 0.8730 - val_loss: 0.6552 - val_accuracy: 0.5129\n",
      "Epoch 62/100\n",
      "370/370 [==============================] - 0s 700us/sample - loss: 0.0102 - accuracy: 0.8514 - val_loss: 0.6682 - val_accuracy: 0.5181\n",
      "Epoch 63/100\n",
      "370/370 [==============================] - 0s 714us/sample - loss: 0.0132 - accuracy: 0.8243 - val_loss: 0.6435 - val_accuracy: 0.5247\n",
      "Epoch 64/100\n",
      "370/370 [==============================] - 0s 685us/sample - loss: 0.0111 - accuracy: 0.8189 - val_loss: 0.7889 - val_accuracy: 0.5153\n",
      "Epoch 65/100\n",
      "370/370 [==============================] - 0s 704us/sample - loss: 0.0178 - accuracy: 0.8351 - val_loss: 0.6542 - val_accuracy: 0.5289\n",
      "Epoch 66/100\n",
      "370/370 [==============================] - 0s 698us/sample - loss: 0.0128 - accuracy: 0.8216 - val_loss: 0.6327 - val_accuracy: 0.5258\n",
      "Epoch 67/100\n",
      "370/370 [==============================] - 0s 730us/sample - loss: 0.0128 - accuracy: 0.8108 - val_loss: 0.7233 - val_accuracy: 0.5163\n",
      "Epoch 68/100\n",
      "370/370 [==============================] - 0s 685us/sample - loss: 0.0135 - accuracy: 0.8649 - val_loss: 0.6389 - val_accuracy: 0.5247\n",
      "Epoch 69/100\n",
      "370/370 [==============================] - 0s 659us/sample - loss: 0.0101 - accuracy: 0.8784 - val_loss: 0.6544 - val_accuracy: 0.5189\n",
      "Epoch 70/100\n",
      "370/370 [==============================] - 0s 703us/sample - loss: 0.0097 - accuracy: 0.8405 - val_loss: 0.6771 - val_accuracy: 0.5172\n",
      "Epoch 71/100\n",
      "370/370 [==============================] - 0s 708us/sample - loss: 0.0098 - accuracy: 0.8946 - val_loss: 0.6347 - val_accuracy: 0.5267\n",
      "Epoch 72/100\n",
      "370/370 [==============================] - 0s 654us/sample - loss: 0.0097 - accuracy: 0.8405 - val_loss: 0.8675 - val_accuracy: 0.5255\n",
      "Epoch 73/100\n",
      "370/370 [==============================] - 0s 668us/sample - loss: 0.0168 - accuracy: 0.8784 - val_loss: 0.6908 - val_accuracy: 0.5204\n",
      "Epoch 74/100\n",
      "370/370 [==============================] - 0s 659us/sample - loss: 0.0201 - accuracy: 0.8189 - val_loss: 0.6188 - val_accuracy: 0.5243\n",
      "Epoch 75/100\n",
      "370/370 [==============================] - 0s 730us/sample - loss: 0.0234 - accuracy: 0.7595 - val_loss: 1.4935 - val_accuracy: 0.5238\n",
      "Epoch 76/100\n",
      "370/370 [==============================] - 0s 704us/sample - loss: 0.0561 - accuracy: 0.7649 - val_loss: 0.6627 - val_accuracy: 0.5341\n",
      "Epoch 77/100\n",
      "370/370 [==============================] - 0s 658us/sample - loss: 0.0380 - accuracy: 0.7351 - val_loss: 0.6343 - val_accuracy: 0.5255\n",
      "Epoch 78/100\n",
      "370/370 [==============================] - 0s 661us/sample - loss: 0.0256 - accuracy: 0.7622 - val_loss: 0.9968 - val_accuracy: 0.5051\n",
      "Epoch 79/100\n",
      "370/370 [==============================] - 0s 662us/sample - loss: 0.0342 - accuracy: 0.7757 - val_loss: 0.7485 - val_accuracy: 0.5296\n",
      "Epoch 80/100\n",
      "370/370 [==============================] - 0s 662us/sample - loss: 0.0269 - accuracy: 0.8108 - val_loss: 0.6471 - val_accuracy: 0.5228\n",
      "Epoch 81/100\n",
      "370/370 [==============================] - 0s 666us/sample - loss: 0.0131 - accuracy: 0.8270 - val_loss: 0.6399 - val_accuracy: 0.5307\n",
      "Epoch 82/100\n",
      "370/370 [==============================] - 0s 668us/sample - loss: 0.0098 - accuracy: 0.8027 - val_loss: 0.7026 - val_accuracy: 0.5176\n",
      "Epoch 83/100\n",
      "370/370 [==============================] - 0s 664us/sample - loss: 0.0070 - accuracy: 0.9216 - val_loss: 0.6764 - val_accuracy: 0.5230\n",
      "Epoch 84/100\n",
      "370/370 [==============================] - 0s 662us/sample - loss: 0.0067 - accuracy: 0.9054 - val_loss: 0.6598 - val_accuracy: 0.5228\n",
      "Epoch 85/100\n",
      "370/370 [==============================] - 0s 673us/sample - loss: 0.0064 - accuracy: 0.9135 - val_loss: 0.6616 - val_accuracy: 0.5300\n",
      "Epoch 86/100\n",
      "370/370 [==============================] - 0s 659us/sample - loss: 0.0058 - accuracy: 0.8432 - val_loss: 0.6502 - val_accuracy: 0.5273\n",
      "Epoch 87/100\n",
      "370/370 [==============================] - 0s 668us/sample - loss: 0.0058 - accuracy: 0.9027 - val_loss: 0.6991 - val_accuracy: 0.5228\n",
      "Epoch 88/100\n",
      "370/370 [==============================] - 0s 673us/sample - loss: 0.0060 - accuracy: 0.9108 - val_loss: 0.6609 - val_accuracy: 0.5351\n",
      "Epoch 89/100\n",
      "370/370 [==============================] - 0s 657us/sample - loss: 0.0057 - accuracy: 0.9324 - val_loss: 0.6555 - val_accuracy: 0.5294\n",
      "Epoch 90/100\n",
      "370/370 [==============================] - 0s 666us/sample - loss: 0.0064 - accuracy: 0.8919 - val_loss: 0.6766 - val_accuracy: 0.5243\n",
      "Epoch 91/100\n",
      "370/370 [==============================] - 0s 662us/sample - loss: 0.0064 - accuracy: 0.9243 - val_loss: 0.6585 - val_accuracy: 0.5259\n",
      "Epoch 92/100\n",
      "370/370 [==============================] - 0s 661us/sample - loss: 0.0054 - accuracy: 0.8730 - val_loss: 0.6615 - val_accuracy: 0.5244\n",
      "Epoch 93/100\n",
      "370/370 [==============================] - 0s 658us/sample - loss: 0.0052 - accuracy: 0.8973 - val_loss: 0.6550 - val_accuracy: 0.5229\n",
      "Epoch 94/100\n",
      "370/370 [==============================] - 0s 656us/sample - loss: 0.0060 - accuracy: 0.8892 - val_loss: 0.6646 - val_accuracy: 0.5240\n",
      "Epoch 95/100\n",
      "370/370 [==============================] - 0s 660us/sample - loss: 0.0066 - accuracy: 0.9000 - val_loss: 0.6527 - val_accuracy: 0.5213\n",
      "Epoch 96/100\n",
      "370/370 [==============================] - 0s 663us/sample - loss: 0.0060 - accuracy: 0.8973 - val_loss: 0.7040 - val_accuracy: 0.5163\n",
      "Epoch 97/100\n",
      "370/370 [==============================] - 0s 662us/sample - loss: 0.0079 - accuracy: 0.9162 - val_loss: 0.6517 - val_accuracy: 0.5290\n",
      "Epoch 98/100\n",
      "370/370 [==============================] - 0s 668us/sample - loss: 0.0052 - accuracy: 0.8730 - val_loss: 0.6538 - val_accuracy: 0.5250\n",
      "Epoch 99/100\n",
      "370/370 [==============================] - 0s 666us/sample - loss: 0.0065 - accuracy: 0.8892 - val_loss: 0.6534 - val_accuracy: 0.5280\n",
      "Epoch 100/100\n",
      "370/370 [==============================] - 0s 666us/sample - loss: 0.0061 - accuracy: 0.8946 - val_loss: 0.6319 - val_accuracy: 0.5341\n"
     ]
    },
    {
     "data": {
      "text/plain": [
       "<tensorflow.python.keras.callbacks.History at 0x7f286c209850>"
      ]
     },
     "execution_count": 227,
     "metadata": {},
     "output_type": "execute_result"
    }
   ],
   "source": [
    "# train\n",
    "epochs = 100\n",
    "batch_size=1000\n",
    "rms = RMSprop()\n",
    "model.compile(loss=contrastive_loss_intra, optimizer=rms, metrics=[accuracy])\n",
    "model.fit([tr_pairs[:, 0], tr_pairs[:, 1]], tr_y,\n",
    "          batch_size=batch_size,\n",
    "          epochs=epochs,\n",
    "          validation_data=([te_pairs[:, 0], te_pairs[:, 1]], te_y))\n"
   ]
  },
  {
   "cell_type": "code",
   "execution_count": 228,
   "metadata": {},
   "outputs": [
    {
     "data": {
      "image/png": "[encoded data removed]",
      "text/plain": [
       "<Figure size 432x432 with 2 Axes>"
      ]
     },
     "metadata": {
      "needs_background": "light"
     },
     "output_type": "display_data"
    }
   ],
   "source": [
    "batch_size=128\n",
    "encoder=base_network#check this\n",
    "# display a 2D plot of the digit classes in the latent space\n",
    "ex_test=np.expand_dims(tr_dx,axis=-1)\n",
    "x_test_encoded = encoder.predict(ex_test, batch_size=batch_size)\n",
    "plt.figure(figsize=(6, 6))\n",
    "plt.scatter(x_test_encoded[:, 0], x_test_encoded[:, 1], c=tr_dy,cmap=plt.get_cmap(\"gist_rainbow\"))\n",
    "plt.colorbar()\n",
    "plt.show()"
   ]
  },
  {
   "cell_type": "code",
   "execution_count": null,
   "metadata": {},
   "outputs": [],
   "source": []
  }
 ],
 "metadata": {
  "anaconda-cloud": {},
  "kernelspec": {
   "display_name": "Python 3",
   "language": "python",
   "name": "python3"
  },
  "language_info": {
   "codemirror_mode": {
    "name": "ipython",
    "version": 3
   },
   "file_extension": ".py",
   "mimetype": "text/x-python",
   "name": "python",
   "nbconvert_exporter": "python",
   "pygments_lexer": "ipython3",
   "version": "3.7.6"
  }
 },
 "nbformat": 4,
 "nbformat_minor": 2
}
