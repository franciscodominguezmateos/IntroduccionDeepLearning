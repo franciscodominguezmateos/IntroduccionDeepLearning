{
 "cells": [
  {
   "cell_type": "code",
   "execution_count": 1,
   "metadata": {},
   "outputs": [
    {
     "name": "stdout",
     "output_type": "stream",
     "text": [
      "tf2= 2.1.0\n"
     ]
    }
   ],
   "source": [
    "'''Trains a Siamese MLP on pairs of digits from the MNIST dataset.\n",
    "It follows Hadsell-et-al.'06 [1] by computing the Euclidean distance on the\n",
    "output of the shared network and by optimizing the contrastive loss (see paper\n",
    "for more details).\n",
    "\n",
    "# References\n",
    "- Dimensionality Reduction by Learning an Invariant Mapping\n",
    "    http://yann.lecun.com/exdb/publis/pdf/hadsell-chopra-lecun-06.pdf\n",
    "Gets to 97.2% test accuracy after 20 epochs.\n",
    "2 seconds per epoch on a Titan X Maxwell GPU\n",
    "\n",
    "15/04/2020\n",
    "Tensorflow 2 keras version\n",
    "'''\n",
    "from __future__ import absolute_import\n",
    "from __future__ import print_function\n",
    "import numpy as np\n",
    "\n",
    "import random\n",
    "\n",
    "import matplotlib.pyplot as plt\n",
    "import cv2\n",
    "\n",
    "# Config the matplotlib backend as plotting inline in IPython\n",
    "%matplotlib inline\n",
    "\n",
    "import tensorflow as tf\n",
    "import tensorflow.keras\n",
    "from tensorflow.keras.datasets import mnist\n",
    "from tensorflow.keras.models import Model\n",
    "from tensorflow.keras.layers import Input, Flatten, Dense, Dropout, Lambda, Conv2D\n",
    "from tensorflow.keras.optimizers import RMSprop\n",
    "from tensorflow.keras import backend as K\n",
    "\n",
    "num_classes = 10\n",
    "\n",
    "print(\"tf2=\",tf.__version__)"
   ]
  },
  {
   "cell_type": "code",
   "execution_count": 9,
   "metadata": {},
   "outputs": [],
   "source": [
    "def rotate(img, angle):\n",
    "    #img = cv2.imread(img)\n",
    "    (height, width) = img.shape[:2]\n",
    "    (cent_x, cent_y) = (width // 2, height // 2)\n",
    "\n",
    "    mat = cv2.getRotationMatrix2D((cent_x, cent_y), -angle, 1.0)\n",
    "    #cos = np.abs(mat[0, 0])\n",
    "    #sin = np.abs(mat[0, 1])\n",
    "\n",
    "    #n_width = int((height * sin) + (width * cos))\n",
    "    #n_height = int((height * cos) + (width * sin))\n",
    "\n",
    "    #mat[0, 2] += (n_width / 2) - cent_x\n",
    "    #mat[1, 2] += (n_height / 2) - cent_y\n",
    "\n",
    "    #return cv2.warpAffine(img, mat, (n_width, n_height))\n",
    "    return cv2.warpAffine(img, mat,(height, width))"
   ]
  },
  {
   "cell_type": "code",
   "execution_count": 59,
   "metadata": {},
   "outputs": [],
   "source": [
    "def euclidean_distance(vects):\n",
    "    x, y = vects\n",
    "    sum_square = K.sum(K.square(x - y), axis=1, keepdims=True)\n",
    "    return K.sqrt(K.maximum(sum_square, K.epsilon()))\n",
    "\n",
    "\n",
    "def eucl_dist_output_shape(shapes):\n",
    "    shape1, shape2 = shapes\n",
    "    return (shape1[0], 1)\n",
    "\n",
    "\n",
    "def contrastive_loss(y_true, y_pred):\n",
    "    '''Contrastive loss from Hadsell-et-al.'06\n",
    "    http://yann.lecun.com/exdb/publis/pdf/hadsell-chopra-lecun-06.pdf\n",
    "    '''\n",
    "    margin = 1.0\n",
    "    square_pred = K.square(y_pred)\n",
    "    #square_pred = K.maximum(y_pred-margin, 0) #y_pred #K.square(y_pred)\n",
    "    margin_square = K.square(K.maximum(margin - y_pred, 0.0))\n",
    "    tcost=y_true * square_pred\n",
    "    fcost=(1.0 - y_true) * margin_square\n",
    "    return K.mean(tcost + fcost)\n"
   ]
  },
  {
   "cell_type": "code",
   "execution_count": 87,
   "metadata": {},
   "outputs": [],
   "source": [
    "def create_pairs(x, digit_indices):\n",
    "    '''Positive and negative pair creation.\n",
    "    Alternates between positive and negative pairs.\n",
    "    '''\n",
    "    pairs = []\n",
    "    labels = []\n",
    "    n = min([len(digit_indices[d]) for d in range(num_classes)]) - 1\n",
    "    for m in range(1):\n",
    "        for d in range(num_classes):\n",
    "            for i in range(n):\n",
    "                ridx=random.randrange(1,n)\n",
    "                idx=(i+ridx)%n\n",
    "                z1, z2 = digit_indices[d][i], digit_indices[d][idx]\n",
    "                pairs += [[x[z1], x[z2]]]\n",
    "                inc = random.randrange(1, num_classes)\n",
    "                dn = (d + inc) % num_classes\n",
    "                z1, z2 = digit_indices[d][i], digit_indices[dn][i]\n",
    "                pairs += [[x[z1], x[z2]]]\n",
    "                labels += [1.0, 0.0]\n",
    "    return np.expand_dims(np.array(pairs).astype(\"float32\"),axis=-1), np.array(labels).astype(\"float32\")\n"
   ]
  },
  {
   "cell_type": "code",
   "execution_count": 89,
   "metadata": {},
   "outputs": [],
   "source": [
    "def create_base_network(input_shape):\n",
    "    '''Base network to be shared (eq. to feature extraction).\n",
    "    '''\n",
    "    input = Input(shape=input_shape)\n",
    "    x = Conv2D(64, (3, 3), padding='same', activation='relu')(input)\n",
    "    x = Conv2D(64, (3, 3), padding='same', activation='relu')(x)\n",
    "    x = Flatten()(x)\n",
    "    x = Dense(128, activation='relu')(x)\n",
    "    x = Dropout(0.1)(x)\n",
    "    x = Dense(128, activation='relu')(x)\n",
    "    x = Dropout(0.1)(x)\n",
    "    x = Dense(128, activation='relu')(x)\n",
    "    #for 2D view\n",
    "    x = Dense(  2)(x)\n",
    "    return Model(input, x)\n"
   ]
  },
  {
   "cell_type": "code",
   "execution_count": 31,
   "metadata": {},
   "outputs": [],
   "source": [
    "def compute_accuracy(y_true, y_pred):\n",
    "    '''Compute classification accuracy with a fixed threshold on distances.\n",
    "    '''\n",
    "    pred = y_pred.ravel() < 0.5\n",
    "    return np.mean(pred == y_true)\n",
    "\n",
    "\n",
    "def accuracy(y_true, y_pred):\n",
    "    '''Compute classification accuracy with a fixed threshold on distances.\n",
    "    '''\n",
    "    return K.mean(K.equal(y_true, K.cast(y_pred < 0.5, y_true.dtype)))\n",
    "\n"
   ]
  },
  {
   "cell_type": "code",
   "execution_count": 2,
   "metadata": {},
   "outputs": [
    {
     "name": "stdout",
     "output_type": "stream",
     "text": [
      "(28, 28, 1)\n"
     ]
    }
   ],
   "source": [
    "# the data, split between train and test sets\n",
    "(x_train, y_train), (x_test, y_test) = mnist.load_data()\n",
    "x_train = x_train.astype('float32')\n",
    "x_test = x_test.astype('float32')\n",
    "y_train = y_train.astype(\"float32\")\n",
    "y_test  = y_test.astype(\"float32\")\n",
    "x_train /= 255\n",
    "x_test /= 255\n",
    "input_shape = (x_train.shape[1],x_train.shape[1],1)\n",
    "#input_shape = x_train.shape[1:]\n",
    "\n",
    "print(input_shape)"
   ]
  },
  {
   "cell_type": "code",
   "execution_count": 23,
   "metadata": {},
   "outputs": [
    {
     "data": {
      "image/png": "[encoded data removed]",
      "text/plain": [
       "<Figure size 432x288 with 10 Axes>"
      ]
     },
     "metadata": {
      "needs_background": "light"
     },
     "output_type": "display_data"
    }
   ],
   "source": [
    "for i in range(5):\n",
    "    plt.subplot(5,2,i*2+1)\n",
    "    idx=random.randrange(0,x_train.shape[0])\n",
    "    plt.imshow(x_train[idx], cmap=\"gray_r\")\n",
    "    #plt.show()\n",
    "    imgr=rotate(x_train[idx],30)\n",
    "    plt.subplot(5,2,i*2+2)\n",
    "    plt.imshow(imgr,cmap=\"gray_r\")\n",
    "plt.show()"
   ]
  },
  {
   "cell_type": "code",
   "execution_count": 88,
   "metadata": {},
   "outputs": [
    {
     "name": "stdout",
     "output_type": "stream",
     "text": [
      "tr_pairs= (108400, 2, 28, 28, 1) tr_y= (108400,) float32\n",
      "te_pairs= (17820, 2, 28, 28, 1) te_y= (17820,) float32\n"
     ]
    }
   ],
   "source": [
    "# create training+test positive and negative pairs\n",
    "digit_indices = [np.where(y_train == i)[0] for i in range(num_classes)]\n",
    "tr_pairs, tr_y = create_pairs(x_train, digit_indices)\n",
    "\n",
    "digit_indices = [np.where(y_test == i)[0] for i in range(num_classes)]\n",
    "te_pairs, te_y = create_pairs(x_test, digit_indices)\n",
    "\n",
    "print(\"tr_pairs=\",tr_pairs.shape,\"tr_y=\",tr_y.shape,tr_y.dtype)\n",
    "print(\"te_pairs=\",te_pairs.shape,\"te_y=\",te_y.shape,te_y.dtype)"
   ]
  },
  {
   "cell_type": "code",
   "execution_count": 92,
   "metadata": {},
   "outputs": [],
   "source": [
    "# network definition\n",
    "base_network = create_base_network(input_shape)\n",
    "\n",
    "input_a = Input(shape=input_shape)\n",
    "input_b = Input(shape=input_shape)\n",
    "\n",
    "# because we re-use the same instance `base_network`,\n",
    "# the weights of the network\n",
    "# will be shared across the two branches\n",
    "processed_a = base_network(input_a)\n",
    "processed_b = base_network(input_b)\n",
    "\n",
    "distance = Lambda(euclidean_distance,\n",
    "                  output_shape=eucl_dist_output_shape)([processed_a, processed_b])\n",
    "\n",
    "model = Model([input_a, input_b], distance)\n"
   ]
  },
  {
   "cell_type": "code",
   "execution_count": 93,
   "metadata": {},
   "outputs": [
    {
     "name": "stdout",
     "output_type": "stream",
     "text": [
      "Train on 108400 samples, validate on 17820 samples\n",
      "Epoch 1/100\n",
      "108400/108400 [==============================] - 20s 182us/sample - loss: 0.1913 - accuracy: 0.8092 - val_loss: 0.0651 - val_accuracy: 0.9276\n",
      "Epoch 2/100\n",
      "108400/108400 [==============================] - 16s 149us/sample - loss: 0.0545 - accuracy: 0.9478 - val_loss: 0.0380 - val_accuracy: 0.9667\n",
      "Epoch 3/100\n",
      "108400/108400 [==============================] - 16s 150us/sample - loss: 0.0266 - accuracy: 0.9839 - val_loss: 0.0231 - val_accuracy: 0.9849\n",
      "Epoch 4/100\n",
      "108400/108400 [==============================] - 16s 151us/sample - loss: 0.0118 - accuracy: 0.9941 - val_loss: 0.0252 - val_accuracy: 0.9818\n",
      "Epoch 5/100\n",
      "108400/108400 [==============================] - 16s 152us/sample - loss: 0.0054 - accuracy: 0.9971 - val_loss: 0.0173 - val_accuracy: 0.9857\n",
      "Epoch 6/100\n",
      "108400/108400 [==============================] - 17s 153us/sample - loss: 0.0031 - accuracy: 0.9981 - val_loss: 0.0181 - val_accuracy: 0.9867\n",
      "Epoch 7/100\n",
      "108400/108400 [==============================] - 17s 154us/sample - loss: 0.0018 - accuracy: 0.9987 - val_loss: 0.0191 - val_accuracy: 0.9850\n",
      "Epoch 8/100\n",
      "108400/108400 [==============================] - 17s 156us/sample - loss: 0.0014 - accuracy: 0.9990 - val_loss: 0.0197 - val_accuracy: 0.9854\n",
      "Epoch 9/100\n",
      "108400/108400 [==============================] - 17s 157us/sample - loss: 8.7291e-04 - accuracy: 0.9994 - val_loss: 0.0204 - val_accuracy: 0.9863\n",
      "Epoch 10/100\n",
      "108400/108400 [==============================] - 17s 158us/sample - loss: 6.8515e-04 - accuracy: 0.9995 - val_loss: 0.0199 - val_accuracy: 0.9856\n",
      "Epoch 11/100\n",
      "108400/108400 [==============================] - 17s 158us/sample - loss: 5.8119e-04 - accuracy: 0.9996 - val_loss: 0.0214 - val_accuracy: 0.9858\n",
      "Epoch 12/100\n",
      "108400/108400 [==============================] - 17s 158us/sample - loss: 5.3872e-04 - accuracy: 0.9997 - val_loss: 0.0195 - val_accuracy: 0.9865\n",
      "Epoch 13/100\n",
      "108400/108400 [==============================] - 17s 159us/sample - loss: 4.7947e-04 - accuracy: 0.9997 - val_loss: 0.0213 - val_accuracy: 0.9847\n",
      "Epoch 14/100\n",
      "108400/108400 [==============================] - 17s 159us/sample - loss: 5.0911e-04 - accuracy: 0.9997 - val_loss: 0.0196 - val_accuracy: 0.9854\n",
      "Epoch 15/100\n",
      "108400/108400 [==============================] - 17s 159us/sample - loss: 4.9483e-04 - accuracy: 0.9997 - val_loss: 0.0167 - val_accuracy: 0.9868\n",
      "Epoch 16/100\n",
      "108400/108400 [==============================] - 17s 159us/sample - loss: 3.7552e-04 - accuracy: 0.9998 - val_loss: 0.0215 - val_accuracy: 0.9849\n",
      "Epoch 17/100\n",
      "108400/108400 [==============================] - 17s 159us/sample - loss: 3.3875e-04 - accuracy: 0.9998 - val_loss: 0.0189 - val_accuracy: 0.9861\n",
      "Epoch 18/100\n",
      "108400/108400 [==============================] - 17s 159us/sample - loss: 3.9926e-04 - accuracy: 0.9997 - val_loss: 0.0184 - val_accuracy: 0.9870\n",
      "Epoch 19/100\n",
      "108400/108400 [==============================] - 17s 159us/sample - loss: 3.5682e-04 - accuracy: 0.9998 - val_loss: 0.0186 - val_accuracy: 0.9857\n",
      "Epoch 20/100\n",
      "108400/108400 [==============================] - 17s 159us/sample - loss: 2.9990e-04 - accuracy: 0.9998 - val_loss: 0.0185 - val_accuracy: 0.9861\n",
      "Epoch 21/100\n",
      "108400/108400 [==============================] - 17s 159us/sample - loss: 2.9636e-04 - accuracy: 0.9998 - val_loss: 0.0194 - val_accuracy: 0.9863\n",
      "Epoch 22/100\n",
      "108400/108400 [==============================] - 17s 159us/sample - loss: 3.4589e-04 - accuracy: 0.9998 - val_loss: 0.0214 - val_accuracy: 0.9848\n",
      "Epoch 23/100\n",
      "108400/108400 [==============================] - 17s 157us/sample - loss: 3.9414e-04 - accuracy: 0.9997 - val_loss: 0.0183 - val_accuracy: 0.9862\n",
      "Epoch 24/100\n",
      "108400/108400 [==============================] - 16s 151us/sample - loss: 2.9103e-04 - accuracy: 0.9998 - val_loss: 0.0191 - val_accuracy: 0.9854\n",
      "Epoch 25/100\n",
      "108400/108400 [==============================] - 17s 153us/sample - loss: 2.5790e-04 - accuracy: 0.9998 - val_loss: 0.0178 - val_accuracy: 0.9873\n",
      "Epoch 26/100\n",
      "108400/108400 [==============================] - 16s 151us/sample - loss: 2.6450e-04 - accuracy: 0.9997 - val_loss: 0.0189 - val_accuracy: 0.9869\n",
      "Epoch 27/100\n",
      "108400/108400 [==============================] - 17s 159us/sample - loss: 2.3526e-04 - accuracy: 0.9998 - val_loss: 0.0205 - val_accuracy: 0.9847\n",
      "Epoch 28/100\n",
      "108400/108400 [==============================] - 17s 160us/sample - loss: 2.8402e-04 - accuracy: 0.9998 - val_loss: 0.0212 - val_accuracy: 0.9852\n",
      "Epoch 29/100\n",
      "108400/108400 [==============================] - 16s 151us/sample - loss: 2.3562e-04 - accuracy: 0.9999 - val_loss: 0.0173 - val_accuracy: 0.9876\n",
      "Epoch 30/100\n",
      "108400/108400 [==============================] - 16s 150us/sample - loss: 2.6291e-04 - accuracy: 0.9998 - val_loss: 0.0178 - val_accuracy: 0.9866\n",
      "Epoch 31/100\n",
      "108400/108400 [==============================] - 16s 150us/sample - loss: 2.6917e-04 - accuracy: 0.9998 - val_loss: 0.0214 - val_accuracy: 0.9843\n",
      "Epoch 32/100\n",
      "108400/108400 [==============================] - 16s 151us/sample - loss: 2.6040e-04 - accuracy: 0.9998 - val_loss: 0.0208 - val_accuracy: 0.9873\n",
      "Epoch 33/100\n",
      "108400/108400 [==============================] - 17s 160us/sample - loss: 2.1098e-04 - accuracy: 0.9999 - val_loss: 0.0209 - val_accuracy: 0.9854\n",
      "Epoch 34/100\n",
      "108400/108400 [==============================] - 17s 159us/sample - loss: 2.8546e-04 - accuracy: 0.9998 - val_loss: 0.0199 - val_accuracy: 0.9850\n",
      "Epoch 35/100\n",
      "108400/108400 [==============================] - 17s 159us/sample - loss: 2.3754e-04 - accuracy: 0.9999 - val_loss: 0.0209 - val_accuracy: 0.9849\n",
      "Epoch 36/100\n",
      "108400/108400 [==============================] - 17s 156us/sample - loss: 2.3750e-04 - accuracy: 0.9998 - val_loss: 0.0190 - val_accuracy: 0.9868\n",
      "Epoch 37/100\n",
      "108400/108400 [==============================] - 16s 152us/sample - loss: 2.3112e-04 - accuracy: 0.9998 - val_loss: 0.0201 - val_accuracy: 0.9853\n",
      "Epoch 38/100\n",
      "108400/108400 [==============================] - 17s 154us/sample - loss: 2.6177e-04 - accuracy: 0.9998 - val_loss: 0.0216 - val_accuracy: 0.9852\n",
      "Epoch 39/100\n",
      "108400/108400 [==============================] - 16s 151us/sample - loss: 2.5043e-04 - accuracy: 0.9998 - val_loss: 0.0198 - val_accuracy: 0.9850\n",
      "Epoch 40/100\n",
      "108400/108400 [==============================] - 17s 154us/sample - loss: 2.7040e-04 - accuracy: 0.9998 - val_loss: 0.0289 - val_accuracy: 0.9804\n",
      "Epoch 41/100\n",
      "108400/108400 [==============================] - 17s 152us/sample - loss: 2.7436e-04 - accuracy: 0.9998 - val_loss: 0.0196 - val_accuracy: 0.9873\n",
      "Epoch 42/100\n",
      "108400/108400 [==============================] - 17s 155us/sample - loss: 2.1094e-04 - accuracy: 0.9998 - val_loss: 0.0199 - val_accuracy: 0.9874\n",
      "Epoch 43/100\n",
      "108400/108400 [==============================] - 17s 155us/sample - loss: 2.5330e-04 - accuracy: 0.9998 - val_loss: 0.0177 - val_accuracy: 0.9880\n",
      "Epoch 44/100\n",
      "108400/108400 [==============================] - 17s 161us/sample - loss: 2.1873e-04 - accuracy: 0.9999 - val_loss: 0.0181 - val_accuracy: 0.9864\n",
      "Epoch 45/100\n",
      "108400/108400 [==============================] - 17s 159us/sample - loss: 3.3501e-04 - accuracy: 0.9997 - val_loss: 0.0183 - val_accuracy: 0.9868\n",
      "Epoch 46/100\n",
      "108400/108400 [==============================] - 16s 151us/sample - loss: 2.7638e-04 - accuracy: 0.9998 - val_loss: 0.0175 - val_accuracy: 0.9872\n",
      "Epoch 47/100\n",
      "108400/108400 [==============================] - 16s 151us/sample - loss: 3.3315e-04 - accuracy: 0.9997 - val_loss: 0.0184 - val_accuracy: 0.9884\n",
      "Epoch 48/100\n",
      "108400/108400 [==============================] - 16s 149us/sample - loss: 2.4816e-04 - accuracy: 0.9998 - val_loss: 0.0183 - val_accuracy: 0.9876\n",
      "Epoch 49/100\n",
      "108400/108400 [==============================] - 17s 155us/sample - loss: 1.9363e-04 - accuracy: 0.9998 - val_loss: 0.0214 - val_accuracy: 0.9842\n",
      "Epoch 50/100\n",
      "108400/108400 [==============================] - 17s 157us/sample - loss: 2.8454e-04 - accuracy: 0.9997 - val_loss: 0.0172 - val_accuracy: 0.9869\n",
      "Epoch 51/100\n",
      "108400/108400 [==============================] - 17s 155us/sample - loss: 1.9119e-04 - accuracy: 0.9998 - val_loss: 0.0210 - val_accuracy: 0.9860\n",
      "Epoch 52/100\n",
      "108400/108400 [==============================] - 16s 151us/sample - loss: 2.5959e-04 - accuracy: 0.9998 - val_loss: 0.0204 - val_accuracy: 0.9862\n",
      "Epoch 53/100\n",
      "108400/108400 [==============================] - 16s 152us/sample - loss: 2.2332e-04 - accuracy: 0.9998 - val_loss: 0.0198 - val_accuracy: 0.9851\n",
      "Epoch 54/100\n",
      "108400/108400 [==============================] - 17s 153us/sample - loss: 1.4108e-04 - accuracy: 0.9999 - val_loss: 0.0194 - val_accuracy: 0.9867\n",
      "Epoch 55/100\n",
      "108400/108400 [==============================] - 17s 155us/sample - loss: 3.0807e-04 - accuracy: 0.9998 - val_loss: 0.0197 - val_accuracy: 0.9867\n",
      "Epoch 56/100\n",
      "108400/108400 [==============================] - 17s 152us/sample - loss: 3.8497e-04 - accuracy: 0.9997 - val_loss: 0.0235 - val_accuracy: 0.9809\n",
      "Epoch 57/100\n",
      "108400/108400 [==============================] - 16s 151us/sample - loss: 2.6902e-04 - accuracy: 0.9998 - val_loss: 0.0199 - val_accuracy: 0.9870\n",
      "Epoch 58/100\n",
      "108400/108400 [==============================] - 16s 149us/sample - loss: 3.2162e-04 - accuracy: 0.9998 - val_loss: 0.0189 - val_accuracy: 0.9860\n",
      "Epoch 59/100\n",
      "108400/108400 [==============================] - 16s 152us/sample - loss: 2.1519e-04 - accuracy: 0.9998 - val_loss: 0.0195 - val_accuracy: 0.9862\n",
      "Epoch 60/100\n",
      "108400/108400 [==============================] - 17s 153us/sample - loss: 2.0341e-04 - accuracy: 0.9999 - val_loss: 0.0199 - val_accuracy: 0.9870\n",
      "Epoch 61/100\n",
      "108400/108400 [==============================] - 17s 155us/sample - loss: 2.3868e-04 - accuracy: 0.9998 - val_loss: 0.0188 - val_accuracy: 0.9864\n",
      "Epoch 62/100\n",
      "108400/108400 [==============================] - 16s 151us/sample - loss: 2.1381e-04 - accuracy: 0.9999 - val_loss: 0.0190 - val_accuracy: 0.9855\n",
      "Epoch 63/100\n",
      "108400/108400 [==============================] - 16s 150us/sample - loss: 1.9555e-04 - accuracy: 0.9998 - val_loss: 0.0167 - val_accuracy: 0.9875\n",
      "Epoch 64/100\n",
      "108400/108400 [==============================] - 16s 149us/sample - loss: 2.0509e-04 - accuracy: 0.9998 - val_loss: 0.0223 - val_accuracy: 0.9840\n",
      "Epoch 65/100\n",
      "108400/108400 [==============================] - 16s 150us/sample - loss: 2.6403e-04 - accuracy: 0.9998 - val_loss: 0.0184 - val_accuracy: 0.9876\n",
      "Epoch 66/100\n",
      "108400/108400 [==============================] - 16s 150us/sample - loss: 2.1631e-04 - accuracy: 0.9998 - val_loss: 0.0188 - val_accuracy: 0.9856\n",
      "Epoch 67/100\n",
      "108400/108400 [==============================] - 17s 154us/sample - loss: 1.5012e-04 - accuracy: 0.9998 - val_loss: 0.0188 - val_accuracy: 0.9858\n",
      "Epoch 68/100\n",
      "108400/108400 [==============================] - 17s 156us/sample - loss: 1.5889e-04 - accuracy: 0.9999 - val_loss: 0.0184 - val_accuracy: 0.9870\n",
      "Epoch 69/100\n",
      "108400/108400 [==============================] - 17s 158us/sample - loss: 2.2716e-04 - accuracy: 0.9998 - val_loss: 0.0193 - val_accuracy: 0.9857\n",
      "Epoch 70/100\n",
      "108400/108400 [==============================] - 17s 159us/sample - loss: 1.9425e-04 - accuracy: 0.9998 - val_loss: 0.0175 - val_accuracy: 0.9870\n",
      "Epoch 71/100\n",
      "108400/108400 [==============================] - 17s 154us/sample - loss: 2.0985e-04 - accuracy: 0.9998 - val_loss: 0.0174 - val_accuracy: 0.9882\n",
      "Epoch 72/100\n",
      "108400/108400 [==============================] - 16s 149us/sample - loss: 2.4105e-04 - accuracy: 0.9998 - val_loss: 0.0196 - val_accuracy: 0.9851\n",
      "Epoch 73/100\n",
      "108400/108400 [==============================] - 16s 150us/sample - loss: 1.6318e-04 - accuracy: 0.9999 - val_loss: 0.0194 - val_accuracy: 0.9859\n",
      "Epoch 74/100\n",
      "108400/108400 [==============================] - 17s 153us/sample - loss: 2.2579e-04 - accuracy: 0.9998 - val_loss: 0.0209 - val_accuracy: 0.9881\n",
      "Epoch 75/100\n",
      "108400/108400 [==============================] - 17s 154us/sample - loss: 2.5450e-04 - accuracy: 0.9998 - val_loss: 0.0196 - val_accuracy: 0.9867\n",
      "Epoch 76/100\n",
      "108400/108400 [==============================] - 16s 149us/sample - loss: 2.2986e-04 - accuracy: 0.9999 - val_loss: 0.0212 - val_accuracy: 0.9859\n",
      "Epoch 77/100\n",
      "108400/108400 [==============================] - 16s 152us/sample - loss: 3.2551e-04 - accuracy: 0.9997 - val_loss: 0.0192 - val_accuracy: 0.9875\n",
      "Epoch 78/100\n",
      "108400/108400 [==============================] - 16s 151us/sample - loss: 2.0345e-04 - accuracy: 0.9998 - val_loss: 0.0181 - val_accuracy: 0.9879\n",
      "Epoch 79/100\n",
      "108400/108400 [==============================] - 17s 156us/sample - loss: 2.3989e-04 - accuracy: 0.9998 - val_loss: 0.0190 - val_accuracy: 0.9873\n",
      "Epoch 80/100\n",
      "108400/108400 [==============================] - 16s 152us/sample - loss: 2.4686e-04 - accuracy: 0.9998 - val_loss: 0.0207 - val_accuracy: 0.9853\n",
      "Epoch 81/100\n",
      "108400/108400 [==============================] - 17s 154us/sample - loss: 1.5919e-04 - accuracy: 0.9999 - val_loss: 0.0195 - val_accuracy: 0.9870\n",
      "Epoch 82/100\n",
      "108400/108400 [==============================] - 17s 154us/sample - loss: 2.1239e-04 - accuracy: 0.9998 - val_loss: 0.0191 - val_accuracy: 0.9854\n",
      "Epoch 83/100\n",
      "108400/108400 [==============================] - 17s 155us/sample - loss: 2.2881e-04 - accuracy: 0.9998 - val_loss: 0.0208 - val_accuracy: 0.9852\n",
      "Epoch 84/100\n",
      "108400/108400 [==============================] - 16s 152us/sample - loss: 2.2051e-04 - accuracy: 0.9998 - val_loss: 0.0195 - val_accuracy: 0.9870\n",
      "Epoch 85/100\n",
      "108400/108400 [==============================] - 17s 159us/sample - loss: 1.7839e-04 - accuracy: 0.9999 - val_loss: 0.0189 - val_accuracy: 0.9869\n",
      "Epoch 86/100\n",
      "108400/108400 [==============================] - 17s 160us/sample - loss: 2.3861e-04 - accuracy: 0.9998 - val_loss: 0.0230 - val_accuracy: 0.9817\n",
      "Epoch 87/100\n",
      "108400/108400 [==============================] - 17s 160us/sample - loss: 2.0187e-04 - accuracy: 0.9999 - val_loss: 0.0173 - val_accuracy: 0.9869\n",
      "Epoch 88/100\n",
      "108400/108400 [==============================] - 16s 151us/sample - loss: 2.5837e-04 - accuracy: 0.9998 - val_loss: 0.0188 - val_accuracy: 0.9874\n",
      "Epoch 89/100\n",
      "108400/108400 [==============================] - 16s 150us/sample - loss: 1.7033e-04 - accuracy: 0.9999 - val_loss: 0.0199 - val_accuracy: 0.9872\n",
      "Epoch 90/100\n",
      "108400/108400 [==============================] - 16s 150us/sample - loss: 1.6046e-04 - accuracy: 0.9999 - val_loss: 0.0177 - val_accuracy: 0.9859\n",
      "Epoch 91/100\n",
      "108400/108400 [==============================] - 17s 157us/sample - loss: 2.7074e-04 - accuracy: 0.9997 - val_loss: 0.0196 - val_accuracy: 0.9861\n",
      "Epoch 92/100\n",
      "108400/108400 [==============================] - 17s 159us/sample - loss: 1.8135e-04 - accuracy: 0.9998 - val_loss: 0.0187 - val_accuracy: 0.9867\n",
      "Epoch 93/100\n",
      "108400/108400 [==============================] - 17s 160us/sample - loss: 2.2042e-04 - accuracy: 0.9998 - val_loss: 0.0180 - val_accuracy: 0.9867\n",
      "Epoch 94/100\n",
      "108400/108400 [==============================] - 17s 160us/sample - loss: 1.7239e-04 - accuracy: 0.9999 - val_loss: 0.0167 - val_accuracy: 0.9872\n",
      "Epoch 95/100\n",
      "108400/108400 [==============================] - 17s 160us/sample - loss: 1.8172e-04 - accuracy: 0.9999 - val_loss: 0.0175 - val_accuracy: 0.9868\n",
      "Epoch 96/100\n",
      "108400/108400 [==============================] - 17s 161us/sample - loss: 1.6090e-04 - accuracy: 0.9999 - val_loss: 0.0215 - val_accuracy: 0.9851\n",
      "Epoch 97/100\n",
      "108400/108400 [==============================] - 18s 162us/sample - loss: 1.6044e-04 - accuracy: 0.9999 - val_loss: 0.0177 - val_accuracy: 0.9875\n",
      "Epoch 98/100\n",
      "108400/108400 [==============================] - 18s 161us/sample - loss: 2.1996e-04 - accuracy: 0.9998 - val_loss: 0.0182 - val_accuracy: 0.9874\n",
      "Epoch 99/100\n",
      "108400/108400 [==============================] - 17s 160us/sample - loss: 1.6871e-04 - accuracy: 0.9998 - val_loss: 0.0195 - val_accuracy: 0.9868\n",
      "Epoch 100/100\n",
      "108400/108400 [==============================] - 17s 161us/sample - loss: 1.8120e-04 - accuracy: 0.9998 - val_loss: 0.0189 - val_accuracy: 0.9860\n"
     ]
    },
    {
     "data": {
      "text/plain": [
       "<tensorflow.python.keras.callbacks.History at 0x7fe9409326d0>"
      ]
     },
     "execution_count": 93,
     "metadata": {},
     "output_type": "execute_result"
    }
   ],
   "source": [
    "# train\n",
    "epochs = 20\n",
    "batch_size=1000\n",
    "rms = RMSprop()\n",
    "model.compile(loss=contrastive_loss, optimizer=rms, metrics=[accuracy])\n",
    "model.fit([tr_pairs[:, 0], tr_pairs[:, 1]], tr_y,\n",
    "          batch_size=batch_size,\n",
    "          epochs=epochs,\n",
    "          validation_data=([te_pairs[:, 0], te_pairs[:, 1]], te_y))\n"
   ]
  },
  {
   "cell_type": "code",
   "execution_count": 67,
   "metadata": {},
   "outputs": [
    {
     "name": "stdout",
     "output_type": "stream",
     "text": [
      "* Accuracy on training set: 99.98%\n",
      "* Accuracy on test set: 97.14%\n"
     ]
    }
   ],
   "source": [
    "# compute final accuracy on training and test sets\n",
    "y_pred = model.predict([tr_pairs[:, 0], tr_pairs[:, 1]])\n",
    "tr_acc = compute_accuracy(tr_y, y_pred)\n",
    "y_pred = model.predict([te_pairs[:, 0], te_pairs[:, 1]])\n",
    "te_acc = compute_accuracy(te_y, y_pred)\n",
    "\n",
    "print('* Accuracy on training set: %0.2f%%' % (100 * tr_acc))\n",
    "print('* Accuracy on test set: %0.2f%%' % (100 * te_acc))"
   ]
  },
  {
   "cell_type": "code",
   "execution_count": 95,
   "metadata": {},
   "outputs": [
    {
     "data": {
      "image/png": "[encoded data removed]",
      "text/plain": [
       "<Figure size 432x432 with 2 Axes>"
      ]
     },
     "metadata": {
      "needs_background": "light"
     },
     "output_type": "display_data"
    }
   ],
   "source": [
    "#TOFINISH\n",
    "batch_size=128\n",
    "encoder=base_network#check this\n",
    "# display a 2D plot of the digit classes in the latent space\n",
    "ex_test=np.expand_dims(x_test,axis=-1)\n",
    "x_test_encoded = encoder.predict(ex_test, batch_size=batch_size)\n",
    "plt.figure(figsize=(6, 6))\n",
    "plt.scatter(x_test_encoded[:, 0], x_test_encoded[:, 1], c=y_test)\n",
    "plt.colorbar()\n",
    "plt.show()"
   ]
  },
  {
   "cell_type": "code",
   "execution_count": null,
   "metadata": {
    "collapsed": true
   },
   "outputs": [],
   "source": []
  }
 ],
 "metadata": {
  "anaconda-cloud": {},
  "kernelspec": {
   "display_name": "Python 3",
   "language": "python",
   "name": "python3"
  },
  "language_info": {
   "codemirror_mode": {
    "name": "ipython",
    "version": 3
   },
   "file_extension": ".py",
   "mimetype": "text/x-python",
   "name": "python",
   "nbconvert_exporter": "python",
   "pygments_lexer": "ipython3",
   "version": "3.7.7"
  }
 },
 "nbformat": 4,
 "nbformat_minor": 2
}
