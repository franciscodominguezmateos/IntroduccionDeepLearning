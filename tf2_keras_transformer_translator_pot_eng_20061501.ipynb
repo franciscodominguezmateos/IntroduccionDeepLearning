{
 "cells": [
  {
   "cell_type": "code",
   "execution_count": 1,
   "metadata": {},
   "outputs": [],
   "source": [
    "# Francsico Dominguez Mateos\n",
    "# 15/06/2020\n",
    "# from: https://www.tensorflow.org/tutorials/text/transformer"
   ]
  },
  {
   "cell_type": "code",
   "execution_count": 4,
   "metadata": {},
   "outputs": [
    {
     "data": {
      "text/plain": [
       "'2.1.0'"
      ]
     },
     "execution_count": 4,
     "metadata": {},
     "output_type": "execute_result"
    }
   ],
   "source": [
    "import tensorflow_datasets as tfds\n",
    "import tensorflow as tf\n",
    "\n",
    "import time\n",
    "import numpy as np\n",
    "import matplotlib.pyplot as plt\n",
    "tf.__version__"
   ]
  },
  {
   "cell_type": "markdown",
   "metadata": {},
   "source": [
    "# Setup input pipeline"
   ]
  },
  {
   "cell_type": "code",
   "execution_count": 5,
   "metadata": {},
   "outputs": [
    {
     "name": "stderr",
     "output_type": "stream",
     "text": [
      "WARNING:absl:Warning: Setting shuffle_files=True because split=TRAIN and shuffle_files=None. This behavior will be deprecated on 2019-08-06, at which point shuffle_files=False will be the default for all splits.\n"
     ]
    }
   ],
   "source": [
    "examples, metadata = tfds.load('ted_hrlr_translate/pt_to_en', with_info=True,\n",
    "                               as_supervised=True)\n",
    "train_examples, val_examples = examples['train'], examples['validation']"
   ]
  },
  {
   "cell_type": "code",
   "execution_count": 6,
   "metadata": {},
   "outputs": [],
   "source": [
    "tokenizer_en = tfds.features.text.SubwordTextEncoder.build_from_corpus(\n",
    "    (en.numpy() for pt, en in train_examples), target_vocab_size=2**13)\n",
    "\n",
    "tokenizer_pt = tfds.features.text.SubwordTextEncoder.build_from_corpus(\n",
    "    (pt.numpy() for pt, en in train_examples), target_vocab_size=2**13)"
   ]
  },
  {
   "cell_type": "code",
   "execution_count": 7,
   "metadata": {},
   "outputs": [
    {
     "name": "stdout",
     "output_type": "stream",
     "text": [
      "Tokenized string is [7915, 1248, 7946, 7194, 13, 2799, 7877]\n",
      "The original string: Transformer is awesome.\n"
     ]
    }
   ],
   "source": [
    "sample_string = 'Transformer is awesome.'\n",
    "\n",
    "tokenized_string = tokenizer_en.encode(sample_string)\n",
    "print ('Tokenized string is {}'.format(tokenized_string))\n",
    "\n",
    "original_string = tokenizer_en.decode(tokenized_string)\n",
    "print ('The original string: {}'.format(original_string))\n",
    "\n",
    "assert original_string == sample_string"
   ]
  },
  {
   "cell_type": "code",
   "execution_count": 8,
   "metadata": {},
   "outputs": [
    {
     "name": "stdout",
     "output_type": "stream",
     "text": [
      "7915 ----> T\n",
      "1248 ----> ran\n",
      "7946 ----> s\n",
      "7194 ----> former \n",
      "13 ----> is \n",
      "2799 ----> awesome\n",
      "7877 ----> .\n"
     ]
    }
   ],
   "source": [
    "#The tokenizer encodes the string by breaking it into subwords if the word is not in its dictionary.\n",
    "for ts in tokenized_string:\n",
    "  print ('{} ----> {}'.format(ts, tokenizer_en.decode([ts])))"
   ]
  },
  {
   "cell_type": "code",
   "execution_count": 9,
   "metadata": {},
   "outputs": [],
   "source": [
    "BUFFER_SIZE = 20000\n",
    "BATCH_SIZE = 64"
   ]
  },
  {
   "cell_type": "code",
   "execution_count": 10,
   "metadata": {},
   "outputs": [],
   "source": [
    "def encode(lang1, lang2):\n",
    "  lang1 = [tokenizer_pt.vocab_size] + tokenizer_pt.encode(\n",
    "      lang1.numpy()) + [tokenizer_pt.vocab_size+1]\n",
    "\n",
    "  lang2 = [tokenizer_en.vocab_size] + tokenizer_en.encode(\n",
    "      lang2.numpy()) + [tokenizer_en.vocab_size+1]\n",
    "  \n",
    "  return lang1, lang2"
   ]
  },
  {
   "cell_type": "code",
   "execution_count": 11,
   "metadata": {},
   "outputs": [],
   "source": [
    "def tf_encode(pt, en):\n",
    "  result_pt, result_en = tf.py_function(encode, [pt, en], [tf.int64, tf.int64])\n",
    "  result_pt.set_shape([None])\n",
    "  result_en.set_shape([None])\n",
    "\n",
    "  return result_pt, result_en"
   ]
  },
  {
   "cell_type": "code",
   "execution_count": 12,
   "metadata": {},
   "outputs": [],
   "source": [
    "#To keep this example small and relatively fast, drop examples with a length of over 40 tokens.\n",
    "MAX_LENGTH = 40"
   ]
  },
  {
   "cell_type": "code",
   "execution_count": 13,
   "metadata": {},
   "outputs": [],
   "source": [
    "def filter_max_length(x, y, max_length=MAX_LENGTH):\n",
    "  return tf.logical_and(tf.size(x) <= max_length,\n",
    "                        tf.size(y) <= max_length)"
   ]
  },
  {
   "cell_type": "code",
   "execution_count": 14,
   "metadata": {},
   "outputs": [],
   "source": [
    "train_dataset = train_examples.map(tf_encode)\n",
    "train_dataset = train_dataset.filter(filter_max_length)\n",
    "# cache the dataset to memory to get a speedup while reading from it.\n",
    "train_dataset = train_dataset.cache()\n",
    "train_dataset = train_dataset.shuffle(BUFFER_SIZE)\n",
    "#this is easyer in tf 2.2 in tf 2.1 you have tu put ([MAX_LENGTH],[None])\n",
    "train_dataset = train_dataset.padded_batch(BATCH_SIZE,([MAX_LENGTH],[None]))\n",
    "train_dataset = train_dataset.prefetch(tf.data.experimental.AUTOTUNE)\n",
    "\n",
    "val_dataset = val_examples.map(tf_encode)\n",
    "val_dataset = val_dataset.filter(filter_max_length)\n",
    "val_dataset = val_dataset.padded_batch(BATCH_SIZE,([MAX_LENGTH],[None]))"
   ]
  },
  {
   "cell_type": "code",
   "execution_count": 15,
   "metadata": {},
   "outputs": [
    {
     "data": {
      "text/plain": [
       "(<tf.Tensor: shape=(64, 40), dtype=int64, numpy=\n",
       " array([[8214, 1259,    5, ...,    0,    0,    0],\n",
       "        [8214,  299,   13, ...,    0,    0,    0],\n",
       "        [8214,   59,    8, ...,    0,    0,    0],\n",
       "        ...,\n",
       "        [8214,   95,    3, ...,    0,    0,    0],\n",
       "        [8214, 5157,    1, ...,    0,    0,    0],\n",
       "        [8214, 4479, 7990, ...,    0,    0,    0]])>,\n",
       " <tf.Tensor: shape=(64, 40), dtype=int64, numpy=\n",
       " array([[8087,   18,   12, ...,    0,    0,    0],\n",
       "        [8087,  634,   30, ...,    0,    0,    0],\n",
       "        [8087,   16,   13, ...,    0,    0,    0],\n",
       "        ...,\n",
       "        [8087,   12,   20, ...,    0,    0,    0],\n",
       "        [8087,   17, 4981, ...,    0,    0,    0],\n",
       "        [8087,   12, 5453, ...,    0,    0,    0]])>)"
      ]
     },
     "execution_count": 15,
     "metadata": {},
     "output_type": "execute_result"
    }
   ],
   "source": [
    "pt_batch, en_batch = next(iter(val_dataset))\n",
    "pt_batch, en_batch"
   ]
  },
  {
   "cell_type": "code",
   "execution_count": 16,
   "metadata": {},
   "outputs": [],
   "source": [
    "# https://github.com/tensorflow/examples/blob/master/community/en/position_encoding.ipynb"
   ]
  },
  {
   "cell_type": "code",
   "execution_count": 17,
   "metadata": {},
   "outputs": [],
   "source": [
    "def get_angles(pos, i, d_model):\n",
    "  angle_rates = 1 / np.power(10000, (2 * (i//2)) / np.float32(d_model))\n",
    "  return pos * angle_rates"
   ]
  },
  {
   "cell_type": "code",
   "execution_count": 18,
   "metadata": {},
   "outputs": [],
   "source": [
    "def positional_encoding(position, d_model):\n",
    "  angle_rads = get_angles(np.arange(position)[:, np.newaxis],\n",
    "                          np.arange(d_model)[np.newaxis, :],\n",
    "                          d_model)\n",
    "  \n",
    "  # apply sin to even indices in the array; 2i\n",
    "  angle_rads[:, 0::2] = np.sin(angle_rads[:, 0::2])\n",
    "  \n",
    "  # apply cos to odd indices in the array; 2i+1\n",
    "  angle_rads[:, 1::2] = np.cos(angle_rads[:, 1::2])\n",
    "    \n",
    "  pos_encoding = angle_rads[np.newaxis, ...]\n",
    "    \n",
    "  return tf.cast(pos_encoding, dtype=tf.float32)"
   ]
  },
  {
   "cell_type": "code",
   "execution_count": 19,
   "metadata": {},
   "outputs": [
    {
     "name": "stdout",
     "output_type": "stream",
     "text": [
      "(1, 50, 512)\n"
     ]
    },
    {
     "data": {
      "image/png": "[encoded data removed]",
      "text/plain": [
       "<Figure size 432x288 with 2 Axes>"
      ]
     },
     "metadata": {
      "needs_background": "light"
     },
     "output_type": "display_data"
    }
   ],
   "source": [
    "pos_encoding = positional_encoding(50, 512)\n",
    "print (pos_encoding.shape)\n",
    "\n",
    "plt.pcolormesh(pos_encoding[0], cmap='RdBu')\n",
    "plt.xlabel('Depth')\n",
    "plt.xlim((0, 512))\n",
    "plt.ylabel('Position')\n",
    "plt.colorbar()\n",
    "plt.show()"
   ]
  },
  {
   "cell_type": "code",
   "execution_count": 20,
   "metadata": {},
   "outputs": [],
   "source": [
    "#Mask all the pad tokens in the batch of sequence. It ensures that the model does not treat padding as the input. \n",
    "#The mask indicates where pad value 0 is present: it outputs a 1 at those locations, and a 0 otherwise.\n",
    "def create_padding_mask(seq):\n",
    "  seq = tf.cast(tf.math.equal(seq, 0), tf.float32)\n",
    "  \n",
    "  # add extra dimensions to add the padding\n",
    "  # to the attention logits.\n",
    "  return seq[:, tf.newaxis, tf.newaxis, :]  # (batch_size, 1, 1, seq_len)"
   ]
  },
  {
   "cell_type": "code",
   "execution_count": 21,
   "metadata": {},
   "outputs": [
    {
     "data": {
      "text/plain": [
       "<tf.Tensor: shape=(3, 1, 1, 5), dtype=float32, numpy=\n",
       "array([[[[0., 0., 1., 1., 0.]]],\n",
       "\n",
       "\n",
       "       [[[0., 0., 0., 1., 1.]]],\n",
       "\n",
       "\n",
       "       [[[1., 1., 1., 0., 0.]]]], dtype=float32)>"
      ]
     },
     "execution_count": 21,
     "metadata": {},
     "output_type": "execute_result"
    }
   ],
   "source": [
    "x = tf.constant([[7, 6, 0, 0, 1], [1, 2, 3, 0, 0], [0, 0, 0, 4, 5]])\n",
    "create_padding_mask(x)"
   ]
  },
  {
   "cell_type": "code",
   "execution_count": 22,
   "metadata": {},
   "outputs": [],
   "source": [
    "#The look-ahead mask is used to mask the future tokens in a sequence. In other words, the mask indicates which entries should not be used.\n",
    "#This means that to predict the third word, only the first and second word will be used. Similarly to predict the fourth word, only the first, second and the third word will be used and so on."
   ]
  },
  {
   "cell_type": "code",
   "execution_count": 23,
   "metadata": {},
   "outputs": [],
   "source": [
    "def create_look_ahead_mask(size):\n",
    "  mask = 1 - tf.linalg.band_part(tf.ones((size, size)), -1, 0)\n",
    "  return mask  # (seq_len, seq_len)"
   ]
  },
  {
   "cell_type": "code",
   "execution_count": 24,
   "metadata": {},
   "outputs": [
    {
     "data": {
      "text/plain": [
       "<tf.Tensor: shape=(3, 3), dtype=float32, numpy=\n",
       "array([[0., 1., 1.],\n",
       "       [0., 0., 1.],\n",
       "       [0., 0., 0.]], dtype=float32)>"
      ]
     },
     "execution_count": 24,
     "metadata": {},
     "output_type": "execute_result"
    }
   ],
   "source": [
    "x = tf.random.uniform((1, 3))\n",
    "temp = create_look_ahead_mask(x.shape[1])\n",
    "temp"
   ]
  },
  {
   "cell_type": "code",
   "execution_count": 25,
   "metadata": {},
   "outputs": [],
   "source": [
    "def scaled_dot_product_attention(q, k, v, mask):\n",
    "  \"\"\"Calculate the attention weights.\n",
    "  q, k, v must have matching leading dimensions.\n",
    "  k, v must have matching penultimate dimension, i.e.: seq_len_k = seq_len_v.\n",
    "  The mask has different shapes depending on its type(padding or look ahead) \n",
    "  but it must be broadcastable for addition.\n",
    "  \n",
    "  Args:\n",
    "    q: query shape == (..., seq_len_q, depth)\n",
    "    k: key shape == (..., seq_len_k, depth)\n",
    "    v: value shape == (..., seq_len_v, depth_v)\n",
    "    mask: Float tensor with shape broadcastable \n",
    "          to (..., seq_len_q, seq_len_k). Defaults to None.\n",
    "    \n",
    "  Returns:\n",
    "    output, attention_weights\n",
    "  \"\"\"\n",
    "\n",
    "  matmul_qk = tf.matmul(q, k, transpose_b=True)  # (..., seq_len_q, seq_len_k)\n",
    "  \n",
    "  # scale matmul_qk\n",
    "  dk = tf.cast(tf.shape(k)[-1], tf.float32)\n",
    "  scaled_attention_logits = matmul_qk / tf.math.sqrt(dk)\n",
    "\n",
    "  # add the mask to the scaled tensor.\n",
    "  if mask is not None:\n",
    "    scaled_attention_logits += (mask * -1e9)  \n",
    "\n",
    "  # softmax is normalized on the last axis (seq_len_k) so that the scores\n",
    "  # add up to 1.\n",
    "  attention_weights = tf.nn.softmax(scaled_attention_logits, axis=-1)  # (..., seq_len_q, seq_len_k)\n",
    "\n",
    "  output = tf.matmul(attention_weights, v)  # (..., seq_len_q, depth_v)\n",
    "\n",
    "  return output, attention_weights"
   ]
  },
  {
   "cell_type": "code",
   "execution_count": 26,
   "metadata": {},
   "outputs": [],
   "source": [
    "def print_out(q, k, v):\n",
    "  temp_out, temp_attn = scaled_dot_product_attention(\n",
    "      q, k, v, None)\n",
    "  print ('Attention weights are:')\n",
    "  print (temp_attn)\n",
    "  print ('Output is:')\n",
    "  print (temp_out)"
   ]
  },
  {
   "cell_type": "code",
   "execution_count": 27,
   "metadata": {},
   "outputs": [
    {
     "name": "stdout",
     "output_type": "stream",
     "text": [
      "Attention weights are:\n",
      "tf.Tensor([[0. 1. 0. 0.]], shape=(1, 4), dtype=float32)\n",
      "Output is:\n",
      "tf.Tensor([[10.  0.]], shape=(1, 2), dtype=float32)\n"
     ]
    }
   ],
   "source": [
    "np.set_printoptions(suppress=True)\n",
    "\n",
    "temp_k = tf.constant([[10,0,0],\n",
    "                      [0,10,0],\n",
    "                      [0,0,10],\n",
    "                      [0,0,10]], dtype=tf.float32)  # (4, 3)\n",
    "\n",
    "temp_v = tf.constant([[   1,0],\n",
    "                      [  10,0],\n",
    "                      [ 100,5],\n",
    "                      [1000,6]], dtype=tf.float32)  # (4, 2)\n",
    "\n",
    "# This `query` aligns with the second `key`,\n",
    "# so the second `value` is returned.\n",
    "temp_q = tf.constant([[0, 10, 0]], dtype=tf.float32)  # (1, 3)\n",
    "print_out(temp_q, temp_k, temp_v)"
   ]
  },
  {
   "cell_type": "code",
   "execution_count": 28,
   "metadata": {},
   "outputs": [
    {
     "name": "stdout",
     "output_type": "stream",
     "text": [
      "Attention weights are:\n",
      "tf.Tensor([[0.  0.  0.5 0.5]], shape=(1, 4), dtype=float32)\n",
      "Output is:\n",
      "tf.Tensor([[550.    5.5]], shape=(1, 2), dtype=float32)\n"
     ]
    }
   ],
   "source": [
    "# This query aligns with a repeated key (third and fourth), \n",
    "# so all associated values get averaged.\n",
    "temp_q = tf.constant([[0, 0, 10]], dtype=tf.float32)  # (1, 3)\n",
    "print_out(temp_q, temp_k, temp_v)"
   ]
  },
  {
   "cell_type": "code",
   "execution_count": 29,
   "metadata": {},
   "outputs": [
    {
     "name": "stdout",
     "output_type": "stream",
     "text": [
      "Attention weights are:\n",
      "tf.Tensor([[0.5 0.5 0.  0. ]], shape=(1, 4), dtype=float32)\n",
      "Output is:\n",
      "tf.Tensor([[5.5 0. ]], shape=(1, 2), dtype=float32)\n"
     ]
    }
   ],
   "source": [
    "# This query aligns equally with the first and second key, \n",
    "# so their values get averaged.\n",
    "temp_q = tf.constant([[10, 10, 0]], dtype=tf.float32)  # (1, 3)\n",
    "print_out(temp_q, temp_k, temp_v)"
   ]
  },
  {
   "cell_type": "code",
   "execution_count": 30,
   "metadata": {},
   "outputs": [
    {
     "name": "stdout",
     "output_type": "stream",
     "text": [
      "Attention weights are:\n",
      "tf.Tensor(\n",
      "[[0.  0.  0.5 0.5]\n",
      " [0.  1.  0.  0. ]\n",
      " [0.5 0.5 0.  0. ]], shape=(3, 4), dtype=float32)\n",
      "Output is:\n",
      "tf.Tensor(\n",
      "[[550.    5.5]\n",
      " [ 10.    0. ]\n",
      " [  5.5   0. ]], shape=(3, 2), dtype=float32)\n"
     ]
    }
   ],
   "source": [
    "temp_q = tf.constant([[0, 0, 10], [0, 10, 0], [10, 10, 0]], dtype=tf.float32)  # (3, 3)\n",
    "print_out(temp_q, temp_k, temp_v)"
   ]
  },
  {
   "cell_type": "code",
   "execution_count": 31,
   "metadata": {},
   "outputs": [],
   "source": [
    "class MultiHeadAttention(tf.keras.layers.Layer):\n",
    "  def __init__(self, d_model, num_heads):\n",
    "    super(MultiHeadAttention, self).__init__()\n",
    "    self.num_heads = num_heads\n",
    "    self.d_model = d_model\n",
    "    \n",
    "    assert d_model % self.num_heads == 0\n",
    "    \n",
    "    self.depth = d_model // self.num_heads\n",
    "    \n",
    "    self.wq = tf.keras.layers.Dense(d_model)\n",
    "    self.wk = tf.keras.layers.Dense(d_model)\n",
    "    self.wv = tf.keras.layers.Dense(d_model)\n",
    "    \n",
    "    self.dense = tf.keras.layers.Dense(d_model)\n",
    "        \n",
    "  def split_heads(self, x, batch_size):\n",
    "    \"\"\"Split the last dimension into (num_heads, depth).\n",
    "    Transpose the result such that the shape is (batch_size, num_heads, seq_len, depth)\n",
    "    \"\"\"\n",
    "    x = tf.reshape(x, (batch_size, -1, self.num_heads, self.depth))\n",
    "    return tf.transpose(x, perm=[0, 2, 1, 3])\n",
    "    \n",
    "  def call(self, v, k, q, mask):\n",
    "    batch_size = tf.shape(q)[0]\n",
    "    \n",
    "    q = self.wq(q)  # (batch_size, seq_len, d_model)\n",
    "    k = self.wk(k)  # (batch_size, seq_len, d_model)\n",
    "    v = self.wv(v)  # (batch_size, seq_len, d_model)\n",
    "    \n",
    "    q = self.split_heads(q, batch_size)  # (batch_size, num_heads, seq_len_q, depth)\n",
    "    k = self.split_heads(k, batch_size)  # (batch_size, num_heads, seq_len_k, depth)\n",
    "    v = self.split_heads(v, batch_size)  # (batch_size, num_heads, seq_len_v, depth)\n",
    "    \n",
    "    # scaled_attention.shape == (batch_size, num_heads, seq_len_q, depth)\n",
    "    # attention_weights.shape == (batch_size, num_heads, seq_len_q, seq_len_k)\n",
    "    scaled_attention, attention_weights = scaled_dot_product_attention(\n",
    "        q, k, v, mask)\n",
    "    \n",
    "    scaled_attention = tf.transpose(scaled_attention, perm=[0, 2, 1, 3])  # (batch_size, seq_len_q, num_heads, depth)\n",
    "\n",
    "    concat_attention = tf.reshape(scaled_attention, \n",
    "                                  (batch_size, -1, self.d_model))  # (batch_size, seq_len_q, d_model)\n",
    "\n",
    "    output = self.dense(concat_attention)  # (batch_size, seq_len_q, d_model)\n",
    "        \n",
    "    return output, attention_weights"
   ]
  },
  {
   "cell_type": "code",
   "execution_count": 32,
   "metadata": {},
   "outputs": [
    {
     "data": {
      "text/plain": [
       "(TensorShape([1, 60, 512]), TensorShape([1, 8, 60, 60]))"
      ]
     },
     "execution_count": 32,
     "metadata": {},
     "output_type": "execute_result"
    }
   ],
   "source": [
    "temp_mha = MultiHeadAttention(d_model=512, num_heads=8)\n",
    "y = tf.random.uniform((1, 60, 512))  # (batch_size, encoder_sequence, d_model)\n",
    "out, attn = temp_mha(y, k=y, q=y, mask=None)\n",
    "out.shape, attn.shape"
   ]
  },
  {
   "cell_type": "markdown",
   "metadata": {},
   "source": [
    "Point wise feed forward network"
   ]
  },
  {
   "cell_type": "code",
   "execution_count": 33,
   "metadata": {},
   "outputs": [],
   "source": [
    "def point_wise_feed_forward_network(d_model, dff):\n",
    "  return tf.keras.Sequential([\n",
    "      tf.keras.layers.Dense(dff, activation='relu'),  # (batch_size, seq_len, dff)\n",
    "      tf.keras.layers.Dense(d_model)  # (batch_size, seq_len, d_model)\n",
    "  ])"
   ]
  },
  {
   "cell_type": "code",
   "execution_count": 34,
   "metadata": {},
   "outputs": [
    {
     "data": {
      "text/plain": [
       "TensorShape([64, 50, 512])"
      ]
     },
     "execution_count": 34,
     "metadata": {},
     "output_type": "execute_result"
    }
   ],
   "source": [
    "sample_ffn = point_wise_feed_forward_network(512, 2048)\n",
    "sample_ffn(tf.random.uniform((64, 50, 512))).shape"
   ]
  },
  {
   "cell_type": "markdown",
   "metadata": {},
   "source": [
    "Encoder and decoder"
   ]
  },
  {
   "cell_type": "code",
   "execution_count": 35,
   "metadata": {},
   "outputs": [],
   "source": [
    "class EncoderLayer(tf.keras.layers.Layer):\n",
    "  def __init__(self, d_model, num_heads, dff, rate=0.1):\n",
    "    super(EncoderLayer, self).__init__()\n",
    "\n",
    "    self.mha = MultiHeadAttention(d_model, num_heads)\n",
    "    self.ffn = point_wise_feed_forward_network(d_model, dff)\n",
    "\n",
    "    self.layernorm1 = tf.keras.layers.LayerNormalization(epsilon=1e-6)\n",
    "    self.layernorm2 = tf.keras.layers.LayerNormalization(epsilon=1e-6)\n",
    "    \n",
    "    self.dropout1 = tf.keras.layers.Dropout(rate)\n",
    "    self.dropout2 = tf.keras.layers.Dropout(rate)\n",
    "    \n",
    "  def call(self, x, training, mask):\n",
    "\n",
    "    attn_output, _ = self.mha(x, x, x, mask)  # (batch_size, input_seq_len, d_model)\n",
    "    attn_output = self.dropout1(attn_output, training=training)\n",
    "    out1 = self.layernorm1(x + attn_output)  # (batch_size, input_seq_len, d_model)\n",
    "    \n",
    "    ffn_output = self.ffn(out1)  # (batch_size, input_seq_len, d_model)\n",
    "    ffn_output = self.dropout2(ffn_output, training=training)\n",
    "    out2 = self.layernorm2(out1 + ffn_output)  # (batch_size, input_seq_len, d_model)\n",
    "    \n",
    "    return out2"
   ]
  },
  {
   "cell_type": "code",
   "execution_count": 36,
   "metadata": {},
   "outputs": [
    {
     "data": {
      "text/plain": [
       "TensorShape([64, 43, 512])"
      ]
     },
     "execution_count": 36,
     "metadata": {},
     "output_type": "execute_result"
    }
   ],
   "source": [
    "sample_encoder_layer = EncoderLayer(512, 8, 2048)\n",
    "\n",
    "sample_encoder_layer_output = sample_encoder_layer(\n",
    "    tf.random.uniform((64, 43, 512)), False, None)\n",
    "\n",
    "sample_encoder_layer_output.shape  # (batch_size, input_seq_len, d_model)"
   ]
  },
  {
   "cell_type": "code",
   "execution_count": 37,
   "metadata": {},
   "outputs": [],
   "source": [
    "class DecoderLayer(tf.keras.layers.Layer):\n",
    "  def __init__(self, d_model, num_heads, dff, rate=0.1):\n",
    "    super(DecoderLayer, self).__init__()\n",
    "\n",
    "    self.mha1 = MultiHeadAttention(d_model, num_heads)\n",
    "    self.mha2 = MultiHeadAttention(d_model, num_heads)\n",
    "\n",
    "    self.ffn = point_wise_feed_forward_network(d_model, dff)\n",
    " \n",
    "    self.layernorm1 = tf.keras.layers.LayerNormalization(epsilon=1e-6)\n",
    "    self.layernorm2 = tf.keras.layers.LayerNormalization(epsilon=1e-6)\n",
    "    self.layernorm3 = tf.keras.layers.LayerNormalization(epsilon=1e-6)\n",
    "    \n",
    "    self.dropout1 = tf.keras.layers.Dropout(rate)\n",
    "    self.dropout2 = tf.keras.layers.Dropout(rate)\n",
    "    self.dropout3 = tf.keras.layers.Dropout(rate)\n",
    "    \n",
    "    \n",
    "  def call(self, x, enc_output, training, \n",
    "           look_ahead_mask, padding_mask):\n",
    "    # enc_output.shape == (batch_size, input_seq_len, d_model)\n",
    "\n",
    "    attn1, attn_weights_block1 = self.mha1(x, x, x, look_ahead_mask)  # (batch_size, target_seq_len, d_model)\n",
    "    attn1 = self.dropout1(attn1, training=training)\n",
    "    out1 = self.layernorm1(attn1 + x)\n",
    "    \n",
    "    attn2, attn_weights_block2 = self.mha2(\n",
    "        enc_output, enc_output, out1, padding_mask)  # (batch_size, target_seq_len, d_model)\n",
    "    attn2 = self.dropout2(attn2, training=training)\n",
    "    out2 = self.layernorm2(attn2 + out1)  # (batch_size, target_seq_len, d_model)\n",
    "    \n",
    "    ffn_output = self.ffn(out2)  # (batch_size, target_seq_len, d_model)\n",
    "    ffn_output = self.dropout3(ffn_output, training=training)\n",
    "    out3 = self.layernorm3(ffn_output + out2)  # (batch_size, target_seq_len, d_model)\n",
    "    \n",
    "    return out3, attn_weights_block1, attn_weights_block2"
   ]
  },
  {
   "cell_type": "code",
   "execution_count": 38,
   "metadata": {},
   "outputs": [
    {
     "data": {
      "text/plain": [
       "TensorShape([64, 50, 512])"
      ]
     },
     "execution_count": 38,
     "metadata": {},
     "output_type": "execute_result"
    }
   ],
   "source": [
    "sample_decoder_layer = DecoderLayer(512, 8, 2048)\n",
    "\n",
    "sample_decoder_layer_output, _, _ = sample_decoder_layer(\n",
    "    tf.random.uniform((64, 50, 512)), sample_encoder_layer_output, \n",
    "    False, None, None)\n",
    "\n",
    "sample_decoder_layer_output.shape  # (batch_size, target_seq_len, d_model)"
   ]
  },
  {
   "cell_type": "code",
   "execution_count": 39,
   "metadata": {},
   "outputs": [],
   "source": [
    "class Encoder(tf.keras.layers.Layer):\n",
    "  def __init__(self, num_layers, d_model, num_heads, dff, input_vocab_size,\n",
    "               maximum_position_encoding, rate=0.1):\n",
    "    super(Encoder, self).__init__()\n",
    "\n",
    "    self.d_model = d_model\n",
    "    self.num_layers = num_layers\n",
    "    \n",
    "    self.embedding = tf.keras.layers.Embedding(input_vocab_size, d_model)\n",
    "    self.pos_encoding = positional_encoding(maximum_position_encoding, \n",
    "                                            self.d_model)\n",
    "    \n",
    "    \n",
    "    self.enc_layers = [EncoderLayer(d_model, num_heads, dff, rate) \n",
    "                       for _ in range(num_layers)]\n",
    "  \n",
    "    self.dropout = tf.keras.layers.Dropout(rate)\n",
    "        \n",
    "  def call(self, x, training, mask):\n",
    "\n",
    "    seq_len = tf.shape(x)[1]\n",
    "    \n",
    "    # adding embedding and position encoding.\n",
    "    x = self.embedding(x)  # (batch_size, input_seq_len, d_model)\n",
    "    x *= tf.math.sqrt(tf.cast(self.d_model, tf.float32))\n",
    "    x += self.pos_encoding[:, :seq_len, :]\n",
    "\n",
    "    x = self.dropout(x, training=training)\n",
    "    \n",
    "    for i in range(self.num_layers):\n",
    "      x = self.enc_layers[i](x, training, mask)\n",
    "    \n",
    "    return x  # (batch_size, input_seq_len, d_model)"
   ]
  },
  {
   "cell_type": "code",
   "execution_count": 40,
   "metadata": {},
   "outputs": [
    {
     "name": "stdout",
     "output_type": "stream",
     "text": [
      "(64, 62, 512)\n"
     ]
    }
   ],
   "source": [
    "sample_encoder = Encoder(num_layers=2, d_model=512, num_heads=8, \n",
    "                         dff=2048, input_vocab_size=8500,\n",
    "                         maximum_position_encoding=10000)\n",
    "temp_input = tf.random.uniform((64, 62), dtype=tf.int64, minval=0, maxval=200)\n",
    "\n",
    "sample_encoder_output = sample_encoder(temp_input, training=False, mask=None)\n",
    "\n",
    "print (sample_encoder_output.shape)  # (batch_size, input_seq_len, d_model)"
   ]
  },
  {
   "cell_type": "code",
   "execution_count": 41,
   "metadata": {},
   "outputs": [],
   "source": [
    "class Decoder(tf.keras.layers.Layer):\n",
    "  def __init__(self, num_layers, d_model, num_heads, dff, target_vocab_size,\n",
    "               maximum_position_encoding, rate=0.1):\n",
    "    super(Decoder, self).__init__()\n",
    "\n",
    "    self.d_model = d_model\n",
    "    self.num_layers = num_layers\n",
    "    \n",
    "    self.embedding = tf.keras.layers.Embedding(target_vocab_size, d_model)\n",
    "    self.pos_encoding = positional_encoding(maximum_position_encoding, d_model)\n",
    "    \n",
    "    self.dec_layers = [DecoderLayer(d_model, num_heads, dff, rate) \n",
    "                       for _ in range(num_layers)]\n",
    "    self.dropout = tf.keras.layers.Dropout(rate)\n",
    "    \n",
    "  def call(self, x, enc_output, training, \n",
    "           look_ahead_mask, padding_mask):\n",
    "\n",
    "    seq_len = tf.shape(x)[1]\n",
    "    attention_weights = {}\n",
    "    \n",
    "    x = self.embedding(x)  # (batch_size, target_seq_len, d_model)\n",
    "    x *= tf.math.sqrt(tf.cast(self.d_model, tf.float32))\n",
    "    x += self.pos_encoding[:, :seq_len, :]\n",
    "    \n",
    "    x = self.dropout(x, training=training)\n",
    "\n",
    "    for i in range(self.num_layers):\n",
    "      x, block1, block2 = self.dec_layers[i](x, enc_output, training,\n",
    "                                             look_ahead_mask, padding_mask)\n",
    "      \n",
    "      attention_weights['decoder_layer{}_block1'.format(i+1)] = block1\n",
    "      attention_weights['decoder_layer{}_block2'.format(i+1)] = block2\n",
    "    \n",
    "    # x.shape == (batch_size, target_seq_len, d_model)\n",
    "    return x, attention_weights"
   ]
  },
  {
   "cell_type": "code",
   "execution_count": 42,
   "metadata": {},
   "outputs": [
    {
     "data": {
      "text/plain": [
       "(TensorShape([64, 26, 512]), TensorShape([64, 8, 26, 62]))"
      ]
     },
     "execution_count": 42,
     "metadata": {},
     "output_type": "execute_result"
    }
   ],
   "source": [
    "sample_decoder = Decoder(num_layers=2, d_model=512, num_heads=8, \n",
    "                         dff=2048, target_vocab_size=8000,\n",
    "                         maximum_position_encoding=5000)\n",
    "temp_input = tf.random.uniform((64, 26), dtype=tf.int64, minval=0, maxval=200)\n",
    "\n",
    "output, attn = sample_decoder(temp_input, \n",
    "                              enc_output=sample_encoder_output, \n",
    "                              training=False,\n",
    "                              look_ahead_mask=None, \n",
    "                              padding_mask=None)\n",
    "\n",
    "output.shape, attn['decoder_layer2_block2'].shape"
   ]
  },
  {
   "cell_type": "markdown",
   "metadata": {},
   "source": [
    "Create the Transformer"
   ]
  },
  {
   "cell_type": "code",
   "execution_count": 43,
   "metadata": {},
   "outputs": [],
   "source": [
    "class Transformer(tf.keras.Model):\n",
    "  def __init__(self, num_layers, d_model, num_heads, dff, input_vocab_size, \n",
    "               target_vocab_size, pe_input, pe_target, rate=0.1):\n",
    "    super(Transformer, self).__init__()\n",
    "\n",
    "    self.encoder = Encoder(num_layers, d_model, num_heads, dff, \n",
    "                           input_vocab_size, pe_input, rate)\n",
    "\n",
    "    self.decoder = Decoder(num_layers, d_model, num_heads, dff, \n",
    "                           target_vocab_size, pe_target, rate)\n",
    "\n",
    "    self.final_layer = tf.keras.layers.Dense(target_vocab_size)\n",
    "    \n",
    "  def call(self, inp, tar, training, enc_padding_mask, \n",
    "           look_ahead_mask, dec_padding_mask):\n",
    "\n",
    "    enc_output = self.encoder(inp, training, enc_padding_mask)  # (batch_size, inp_seq_len, d_model)\n",
    "    \n",
    "    # dec_output.shape == (batch_size, tar_seq_len, d_model)\n",
    "    dec_output, attention_weights = self.decoder(\n",
    "        tar, enc_output, training, look_ahead_mask, dec_padding_mask)\n",
    "    \n",
    "    final_output = self.final_layer(dec_output)  # (batch_size, tar_seq_len, target_vocab_size)\n",
    "    \n",
    "    return final_output, attention_weights"
   ]
  },
  {
   "cell_type": "code",
   "execution_count": 44,
   "metadata": {},
   "outputs": [
    {
     "data": {
      "text/plain": [
       "TensorShape([64, 36, 8000])"
      ]
     },
     "execution_count": 44,
     "metadata": {},
     "output_type": "execute_result"
    }
   ],
   "source": [
    "sample_transformer = Transformer(\n",
    "    num_layers=2, d_model=512, num_heads=8, dff=2048, \n",
    "    input_vocab_size=8500, target_vocab_size=8000, \n",
    "    pe_input=10000, pe_target=6000)\n",
    "\n",
    "temp_input = tf.random.uniform((64, 38), dtype=tf.int64, minval=0, maxval=200)\n",
    "temp_target = tf.random.uniform((64, 36), dtype=tf.int64, minval=0, maxval=200)\n",
    "\n",
    "fn_out, _ = sample_transformer(temp_input, temp_target, training=False, \n",
    "                               enc_padding_mask=None, \n",
    "                               look_ahead_mask=None,\n",
    "                               dec_padding_mask=None)\n",
    "\n",
    "fn_out.shape  # (batch_size, tar_seq_len, target_vocab_size)"
   ]
  },
  {
   "cell_type": "markdown",
   "metadata": {},
   "source": [
    "Set hyperparameters"
   ]
  },
  {
   "cell_type": "code",
   "execution_count": 45,
   "metadata": {},
   "outputs": [],
   "source": [
    "num_layers = 4\n",
    "d_model = 128\n",
    "dff = 512\n",
    "num_heads = 8\n",
    "\n",
    "input_vocab_size = tokenizer_pt.vocab_size + 2\n",
    "target_vocab_size = tokenizer_en.vocab_size + 2\n",
    "dropout_rate = 0.1"
   ]
  },
  {
   "cell_type": "markdown",
   "metadata": {},
   "source": [
    "Optimizer"
   ]
  },
  {
   "cell_type": "code",
   "execution_count": 46,
   "metadata": {},
   "outputs": [],
   "source": [
    "class CustomSchedule(tf.keras.optimizers.schedules.LearningRateSchedule):\n",
    "  def __init__(self, d_model, warmup_steps=4000):\n",
    "    super(CustomSchedule, self).__init__()\n",
    "    \n",
    "    self.d_model = d_model\n",
    "    self.d_model = tf.cast(self.d_model, tf.float32)\n",
    "\n",
    "    self.warmup_steps = warmup_steps\n",
    "    \n",
    "  def __call__(self, step):\n",
    "    arg1 = tf.math.rsqrt(step)\n",
    "    arg2 = step * (self.warmup_steps ** -1.5)\n",
    "    \n",
    "    return tf.math.rsqrt(self.d_model) * tf.math.minimum(arg1, arg2)"
   ]
  },
  {
   "cell_type": "code",
   "execution_count": 47,
   "metadata": {},
   "outputs": [],
   "source": [
    "learning_rate = CustomSchedule(d_model)\n",
    "\n",
    "optimizer = tf.keras.optimizers.Adam(learning_rate, beta_1=0.9, beta_2=0.98, \n",
    "                                     epsilon=1e-9)"
   ]
  },
  {
   "cell_type": "code",
   "execution_count": 48,
   "metadata": {},
   "outputs": [
    {
     "data": {
      "text/plain": [
       "Text(0.5, 0, 'Train Step')"
      ]
     },
     "execution_count": 48,
     "metadata": {},
     "output_type": "execute_result"
    },
    {
     "data": {
      "image/png": "[encoded data removed]",
      "text/plain": [
       "<Figure size 432x288 with 1 Axes>"
      ]
     },
     "metadata": {
      "needs_background": "light"
     },
     "output_type": "display_data"
    }
   ],
   "source": [
    "temp_learning_rate_schedule = CustomSchedule(d_model)\n",
    "\n",
    "plt.plot(temp_learning_rate_schedule(tf.range(40000, dtype=tf.float32)))\n",
    "plt.ylabel(\"Learning Rate\")\n",
    "plt.xlabel(\"Train Step\")"
   ]
  },
  {
   "cell_type": "markdown",
   "metadata": {},
   "source": [
    "Loss and metrics"
   ]
  },
  {
   "cell_type": "code",
   "execution_count": 49,
   "metadata": {},
   "outputs": [],
   "source": [
    "loss_object = tf.keras.losses.SparseCategoricalCrossentropy(\n",
    "    from_logits=True, reduction='none')"
   ]
  },
  {
   "cell_type": "code",
   "execution_count": 50,
   "metadata": {},
   "outputs": [],
   "source": [
    "def loss_function(real, pred):\n",
    "  mask = tf.math.logical_not(tf.math.equal(real, 0))\n",
    "  loss_ = loss_object(real, pred)\n",
    "\n",
    "  mask = tf.cast(mask, dtype=loss_.dtype)\n",
    "  loss_ *= mask\n",
    "  \n",
    "  return tf.reduce_sum(loss_)/tf.reduce_sum(mask)"
   ]
  },
  {
   "cell_type": "code",
   "execution_count": 51,
   "metadata": {},
   "outputs": [],
   "source": [
    "train_loss = tf.keras.metrics.Mean(name='train_loss')\n",
    "train_accuracy = tf.keras.metrics.SparseCategoricalAccuracy(\n",
    "    name='train_accuracy')"
   ]
  },
  {
   "cell_type": "markdown",
   "metadata": {},
   "source": [
    "Training and checkpointing"
   ]
  },
  {
   "cell_type": "code",
   "execution_count": 52,
   "metadata": {},
   "outputs": [],
   "source": [
    "transformer = Transformer(num_layers, d_model, num_heads, dff,\n",
    "                          input_vocab_size, target_vocab_size, \n",
    "                          pe_input=input_vocab_size, \n",
    "                          pe_target=target_vocab_size,\n",
    "                          rate=dropout_rate)"
   ]
  },
  {
   "cell_type": "code",
   "execution_count": 53,
   "metadata": {},
   "outputs": [],
   "source": [
    "def create_masks(inp, tar):\n",
    "  # Encoder padding mask\n",
    "  enc_padding_mask = create_padding_mask(inp)\n",
    "  \n",
    "  # Used in the 2nd attention block in the decoder.\n",
    "  # This padding mask is used to mask the encoder outputs.\n",
    "  dec_padding_mask = create_padding_mask(inp)\n",
    "  \n",
    "  # Used in the 1st attention block in the decoder.\n",
    "  # It is used to pad and mask future tokens in the input received by \n",
    "  # the decoder.\n",
    "  look_ahead_mask = create_look_ahead_mask(tf.shape(tar)[1])\n",
    "  dec_target_padding_mask = create_padding_mask(tar)\n",
    "  combined_mask = tf.maximum(dec_target_padding_mask, look_ahead_mask)\n",
    "  \n",
    "  return enc_padding_mask, combined_mask, dec_padding_mask"
   ]
  },
  {
   "cell_type": "code",
   "execution_count": 54,
   "metadata": {},
   "outputs": [
    {
     "name": "stdout",
     "output_type": "stream",
     "text": [
      "Latest checkpoint restored!!\n"
     ]
    }
   ],
   "source": [
    "checkpoint_path = \"./checkpoints/train\"\n",
    "\n",
    "ckpt = tf.train.Checkpoint(transformer=transformer,\n",
    "                           optimizer=optimizer)\n",
    "\n",
    "ckpt_manager = tf.train.CheckpointManager(ckpt, checkpoint_path, max_to_keep=5)\n",
    "\n",
    "# if a checkpoint exists, restore the latest checkpoint.\n",
    "if ckpt_manager.latest_checkpoint:\n",
    "  ckpt.restore(ckpt_manager.latest_checkpoint)\n",
    "  print ('Latest checkpoint restored!!')"
   ]
  },
  {
   "cell_type": "code",
   "execution_count": 55,
   "metadata": {},
   "outputs": [],
   "source": [
    "EPOCHS = 20"
   ]
  },
  {
   "cell_type": "code",
   "execution_count": 56,
   "metadata": {},
   "outputs": [],
   "source": [
    "# The @tf.function trace-compiles train_step into a TF graph for faster\n",
    "# execution. The function specializes to the precise shape of the argument\n",
    "# tensors. To avoid re-tracing due to the variable sequence lengths or variable\n",
    "# batch sizes (the last batch is smaller), use input_signature to specify\n",
    "# more generic shapes.\n",
    "\n",
    "train_step_signature = [\n",
    "    tf.TensorSpec(shape=(None, None), dtype=tf.int64),\n",
    "    tf.TensorSpec(shape=(None, None), dtype=tf.int64),\n",
    "]\n",
    "\n",
    "@tf.function(input_signature=train_step_signature)\n",
    "def train_step(inp, tar):\n",
    "  tar_inp = tar[:, :-1]\n",
    "  tar_real = tar[:, 1:]\n",
    "  \n",
    "  enc_padding_mask, combined_mask, dec_padding_mask = create_masks(inp, tar_inp)\n",
    "  \n",
    "  with tf.GradientTape() as tape:\n",
    "    predictions, _ = transformer(inp, tar_inp, \n",
    "                                 True, \n",
    "                                 enc_padding_mask, \n",
    "                                 combined_mask, \n",
    "                                 dec_padding_mask)\n",
    "    loss = loss_function(tar_real, predictions)\n",
    "\n",
    "  gradients = tape.gradient(loss, transformer.trainable_variables)    \n",
    "  optimizer.apply_gradients(zip(gradients, transformer.trainable_variables))\n",
    "  \n",
    "  train_loss(loss)\n",
    "  train_accuracy(tar_real, predictions)"
   ]
  },
  {
   "cell_type": "code",
   "execution_count": 68,
   "metadata": {},
   "outputs": [
    {
     "name": "stdout",
     "output_type": "stream",
     "text": [
      "Epoch 1 Batch 0 Loss 3.5672 Accuracy 0.1649\n",
      "Epoch 1 Batch 50 Loss 3.5315 Accuracy 0.1603\n",
      "Epoch 1 Batch 100 Loss 3.5393 Accuracy 0.1597\n",
      "Epoch 1 Batch 150 Loss 3.5461 Accuracy 0.1592\n",
      "Epoch 1 Batch 200 Loss 3.5466 Accuracy 0.1592\n",
      "Epoch 1 Batch 250 Loss 3.5500 Accuracy 0.1588\n",
      "Epoch 1 Batch 300 Loss 3.5475 Accuracy 0.1586\n",
      "Epoch 1 Batch 350 Loss 3.5517 Accuracy 0.1584\n",
      "Epoch 1 Batch 400 Loss 3.5524 Accuracy 0.1586\n",
      "Epoch 1 Batch 450 Loss 3.5530 Accuracy 0.1584\n",
      "Epoch 1 Batch 500 Loss 3.5567 Accuracy 0.1582\n",
      "Epoch 1 Batch 550 Loss 3.5601 Accuracy 0.1582\n",
      "Epoch 1 Batch 600 Loss 3.5620 Accuracy 0.1581\n",
      "Epoch 1 Batch 650 Loss 3.5657 Accuracy 0.1580\n",
      "Epoch 1 Batch 700 Loss 3.5670 Accuracy 0.1580\n",
      "Epoch 1 Loss 3.5671 Accuracy 0.1581\n",
      "Time taken for 1 epoch: 53.150506258010864 secs\n",
      "\n",
      "Epoch 2 Batch 0 Loss 3.5477 Accuracy 0.1571\n",
      "Epoch 2 Batch 50 Loss 3.5214 Accuracy 0.1595\n",
      "Epoch 2 Batch 100 Loss 3.5349 Accuracy 0.1596\n",
      "Epoch 2 Batch 150 Loss 3.5352 Accuracy 0.1590\n",
      "Epoch 2 Batch 200 Loss 3.5393 Accuracy 0.1592\n",
      "Epoch 2 Batch 250 Loss 3.5385 Accuracy 0.1594\n",
      "Epoch 2 Batch 300 Loss 3.5402 Accuracy 0.1588\n",
      "Epoch 2 Batch 350 Loss 3.5414 Accuracy 0.1589\n",
      "Epoch 2 Batch 400 Loss 3.5464 Accuracy 0.1591\n",
      "Epoch 2 Batch 450 Loss 3.5464 Accuracy 0.1590\n",
      "Epoch 2 Batch 500 Loss 3.5464 Accuracy 0.1589\n",
      "Epoch 2 Batch 550 Loss 3.5504 Accuracy 0.1589\n",
      "Epoch 2 Batch 600 Loss 3.5532 Accuracy 0.1587\n",
      "Epoch 2 Batch 650 Loss 3.5544 Accuracy 0.1588\n",
      "Epoch 2 Batch 700 Loss 3.5576 Accuracy 0.1587\n",
      "Epoch 2 Loss 3.5573 Accuracy 0.1587\n",
      "Time taken for 1 epoch: 52.45143461227417 secs\n",
      "\n",
      "Epoch 3 Batch 0 Loss 3.4447 Accuracy 0.1857\n",
      "Epoch 3 Batch 50 Loss 3.4929 Accuracy 0.1609\n",
      "Epoch 3 Batch 100 Loss 3.5153 Accuracy 0.1610\n",
      "Epoch 3 Batch 150 Loss 3.5231 Accuracy 0.1615\n",
      "Epoch 3 Batch 200 Loss 3.5245 Accuracy 0.1610\n",
      "Epoch 3 Batch 250 Loss 3.5271 Accuracy 0.1598\n",
      "Epoch 3 Batch 300 Loss 3.5289 Accuracy 0.1599\n",
      "Epoch 3 Batch 350 Loss 3.5309 Accuracy 0.1594\n",
      "Epoch 3 Batch 400 Loss 3.5322 Accuracy 0.1594\n",
      "Epoch 3 Batch 450 Loss 3.5356 Accuracy 0.1593\n",
      "Epoch 3 Batch 500 Loss 3.5376 Accuracy 0.1590\n",
      "Epoch 3 Batch 550 Loss 3.5400 Accuracy 0.1589\n",
      "Epoch 3 Batch 600 Loss 3.5433 Accuracy 0.1588\n",
      "Epoch 3 Batch 650 Loss 3.5459 Accuracy 0.1587\n",
      "Epoch 3 Batch 700 Loss 3.5467 Accuracy 0.1586\n",
      "Epoch 3 Loss 3.5467 Accuracy 0.1586\n",
      "Time taken for 1 epoch: 53.638025999069214 secs\n",
      "\n",
      "Epoch 4 Batch 0 Loss 3.4587 Accuracy 0.1530\n",
      "Epoch 4 Batch 50 Loss 3.5078 Accuracy 0.1596\n",
      "Epoch 4 Batch 100 Loss 3.5072 Accuracy 0.1587\n",
      "Epoch 4 Batch 150 Loss 3.5192 Accuracy 0.1592\n",
      "Epoch 4 Batch 200 Loss 3.5202 Accuracy 0.1591\n",
      "Epoch 4 Batch 250 Loss 3.5234 Accuracy 0.1590\n",
      "Epoch 4 Batch 300 Loss 3.5211 Accuracy 0.1593\n",
      "Epoch 4 Batch 350 Loss 3.5232 Accuracy 0.1595\n",
      "Epoch 4 Batch 400 Loss 3.5282 Accuracy 0.1597\n",
      "Epoch 4 Batch 450 Loss 3.5299 Accuracy 0.1596\n",
      "Epoch 4 Batch 500 Loss 3.5309 Accuracy 0.1594\n",
      "Epoch 4 Batch 550 Loss 3.5327 Accuracy 0.1595\n",
      "Epoch 4 Batch 600 Loss 3.5354 Accuracy 0.1595\n",
      "Epoch 4 Batch 650 Loss 3.5378 Accuracy 0.1595\n",
      "Epoch 4 Batch 700 Loss 3.5388 Accuracy 0.1597\n",
      "Epoch 4 Loss 3.5388 Accuracy 0.1597\n",
      "Time taken for 1 epoch: 54.19028973579407 secs\n",
      "\n",
      "Epoch 5 Batch 0 Loss 3.4303 Accuracy 0.1488\n",
      "Epoch 5 Batch 50 Loss 3.4848 Accuracy 0.1610\n",
      "Epoch 5 Batch 100 Loss 3.4866 Accuracy 0.1620\n",
      "Epoch 5 Batch 150 Loss 3.4911 Accuracy 0.1621\n",
      "Epoch 5 Batch 200 Loss 3.4981 Accuracy 0.1614\n",
      "Epoch 5 Batch 250 Loss 3.5053 Accuracy 0.1608\n",
      "Epoch 5 Batch 300 Loss 3.5077 Accuracy 0.1612\n",
      "Epoch 5 Batch 350 Loss 3.5100 Accuracy 0.1610\n",
      "Epoch 5 Batch 400 Loss 3.5132 Accuracy 0.1608\n",
      "Epoch 5 Batch 450 Loss 3.5175 Accuracy 0.1608\n",
      "Epoch 5 Batch 500 Loss 3.5203 Accuracy 0.1609\n",
      "Epoch 5 Batch 550 Loss 3.5230 Accuracy 0.1608\n",
      "Epoch 5 Batch 600 Loss 3.5267 Accuracy 0.1607\n",
      "Epoch 5 Batch 650 Loss 3.5287 Accuracy 0.1605\n",
      "Epoch 5 Batch 700 Loss 3.5302 Accuracy 0.1604\n",
      "Saving checkpoint for epoch 5 at ./checkpoints/train/ckpt-25\n",
      "Epoch 5 Loss 3.5299 Accuracy 0.1604\n",
      "Time taken for 1 epoch: 54.20603895187378 secs\n",
      "\n",
      "Epoch 6 Batch 0 Loss 3.5338 Accuracy 0.1579\n",
      "Epoch 6 Batch 50 Loss 3.4935 Accuracy 0.1641\n",
      "Epoch 6 Batch 100 Loss 3.4961 Accuracy 0.1625\n",
      "Epoch 6 Batch 150 Loss 3.5002 Accuracy 0.1616\n",
      "Epoch 6 Batch 200 Loss 3.5065 Accuracy 0.1612\n",
      "Epoch 6 Batch 250 Loss 3.5072 Accuracy 0.1613\n",
      "Epoch 6 Batch 300 Loss 3.5082 Accuracy 0.1612\n",
      "Epoch 6 Batch 350 Loss 3.5112 Accuracy 0.1611\n",
      "Epoch 6 Batch 400 Loss 3.5140 Accuracy 0.1612\n",
      "Epoch 6 Batch 450 Loss 3.5161 Accuracy 0.1610\n",
      "Epoch 6 Batch 500 Loss 3.5172 Accuracy 0.1608\n",
      "Epoch 6 Batch 550 Loss 3.5186 Accuracy 0.1607\n",
      "Epoch 6 Batch 600 Loss 3.5202 Accuracy 0.1605\n",
      "Epoch 6 Batch 650 Loss 3.5221 Accuracy 0.1604\n",
      "Epoch 6 Batch 700 Loss 3.5238 Accuracy 0.1604\n",
      "Epoch 6 Loss 3.5240 Accuracy 0.1604\n",
      "Time taken for 1 epoch: 54.804619789123535 secs\n",
      "\n",
      "Epoch 7 Batch 0 Loss 3.5126 Accuracy 0.1667\n",
      "Epoch 7 Batch 50 Loss 3.4871 Accuracy 0.1616\n",
      "Epoch 7 Batch 100 Loss 3.4952 Accuracy 0.1627\n",
      "Epoch 7 Batch 150 Loss 3.4975 Accuracy 0.1620\n",
      "Epoch 7 Batch 200 Loss 3.4977 Accuracy 0.1618\n",
      "Epoch 7 Batch 250 Loss 3.5006 Accuracy 0.1617\n",
      "Epoch 7 Batch 300 Loss 3.5010 Accuracy 0.1616\n",
      "Epoch 7 Batch 350 Loss 3.5013 Accuracy 0.1617\n",
      "Epoch 7 Batch 400 Loss 3.5027 Accuracy 0.1617\n",
      "Epoch 7 Batch 450 Loss 3.5033 Accuracy 0.1615\n",
      "Epoch 7 Batch 500 Loss 3.5053 Accuracy 0.1611\n",
      "Epoch 7 Batch 550 Loss 3.5071 Accuracy 0.1610\n",
      "Epoch 7 Batch 600 Loss 3.5098 Accuracy 0.1609\n",
      "Epoch 7 Batch 650 Loss 3.5113 Accuracy 0.1606\n",
      "Epoch 7 Batch 700 Loss 3.5142 Accuracy 0.1606\n",
      "Epoch 7 Loss 3.5141 Accuracy 0.1606\n",
      "Time taken for 1 epoch: 56.0954966545105 secs\n",
      "\n",
      "Epoch 8 Batch 0 Loss 3.5381 Accuracy 0.1637\n",
      "Epoch 8 Batch 50 Loss 3.4686 Accuracy 0.1626\n",
      "Epoch 8 Batch 100 Loss 3.4810 Accuracy 0.1614\n",
      "Epoch 8 Batch 150 Loss 3.4881 Accuracy 0.1612\n",
      "Epoch 8 Batch 200 Loss 3.4843 Accuracy 0.1613\n",
      "Epoch 8 Batch 250 Loss 3.4852 Accuracy 0.1614\n",
      "Epoch 8 Batch 300 Loss 3.4853 Accuracy 0.1615\n",
      "Epoch 8 Batch 350 Loss 3.4891 Accuracy 0.1612\n",
      "Epoch 8 Batch 400 Loss 3.4918 Accuracy 0.1610\n",
      "Epoch 8 Batch 450 Loss 3.4930 Accuracy 0.1611\n",
      "Epoch 8 Batch 500 Loss 3.4953 Accuracy 0.1609\n",
      "Epoch 8 Batch 550 Loss 3.4986 Accuracy 0.1609\n",
      "Epoch 8 Batch 600 Loss 3.5011 Accuracy 0.1607\n",
      "Epoch 8 Batch 650 Loss 3.5040 Accuracy 0.1606\n",
      "Epoch 8 Batch 700 Loss 3.5058 Accuracy 0.1608\n",
      "Epoch 8 Loss 3.5057 Accuracy 0.1608\n",
      "Time taken for 1 epoch: 56.28067469596863 secs\n",
      "\n",
      "Epoch 9 Batch 0 Loss 3.4312 Accuracy 0.1639\n",
      "Epoch 9 Batch 50 Loss 3.4639 Accuracy 0.1593\n",
      "Epoch 9 Batch 100 Loss 3.4779 Accuracy 0.1602\n",
      "Epoch 9 Batch 150 Loss 3.4804 Accuracy 0.1607\n",
      "Epoch 9 Batch 200 Loss 3.4820 Accuracy 0.1609\n",
      "Epoch 9 Batch 250 Loss 3.4834 Accuracy 0.1607\n",
      "Epoch 9 Batch 300 Loss 3.4825 Accuracy 0.1615\n",
      "Epoch 9 Batch 350 Loss 3.4830 Accuracy 0.1615\n",
      "Epoch 9 Batch 400 Loss 3.4881 Accuracy 0.1615\n",
      "Epoch 9 Batch 450 Loss 3.4907 Accuracy 0.1615\n",
      "Epoch 9 Batch 500 Loss 3.4915 Accuracy 0.1615\n",
      "Epoch 9 Batch 550 Loss 3.4934 Accuracy 0.1612\n",
      "Epoch 9 Batch 600 Loss 3.4938 Accuracy 0.1612\n",
      "Epoch 9 Batch 650 Loss 3.4953 Accuracy 0.1613\n",
      "Epoch 9 Batch 700 Loss 3.4978 Accuracy 0.1612\n",
      "Epoch 9 Loss 3.4975 Accuracy 0.1612\n",
      "Time taken for 1 epoch: 56.28428792953491 secs\n",
      "\n",
      "Epoch 10 Batch 0 Loss 3.3833 Accuracy 0.1550\n",
      "Epoch 10 Batch 50 Loss 3.4522 Accuracy 0.1624\n",
      "Epoch 10 Batch 100 Loss 3.4537 Accuracy 0.1608\n",
      "Epoch 10 Batch 150 Loss 3.4588 Accuracy 0.1623\n",
      "Epoch 10 Batch 200 Loss 3.4662 Accuracy 0.1619\n",
      "Epoch 10 Batch 250 Loss 3.4670 Accuracy 0.1620\n",
      "Epoch 10 Batch 300 Loss 3.4718 Accuracy 0.1626\n",
      "Epoch 10 Batch 350 Loss 3.4744 Accuracy 0.1628\n",
      "Epoch 10 Batch 400 Loss 3.4775 Accuracy 0.1627\n",
      "Epoch 10 Batch 450 Loss 3.4791 Accuracy 0.1626\n",
      "Epoch 10 Batch 500 Loss 3.4805 Accuracy 0.1626\n",
      "Epoch 10 Batch 550 Loss 3.4832 Accuracy 0.1624\n",
      "Epoch 10 Batch 600 Loss 3.4838 Accuracy 0.1623\n",
      "Epoch 10 Batch 650 Loss 3.4862 Accuracy 0.1620\n",
      "Epoch 10 Batch 700 Loss 3.4883 Accuracy 0.1619\n",
      "Saving checkpoint for epoch 10 at ./checkpoints/train/ckpt-26\n",
      "Epoch 10 Loss 3.4886 Accuracy 0.1619\n",
      "Time taken for 1 epoch: 54.864985704422 secs\n",
      "\n",
      "Epoch 11 Batch 0 Loss 3.3698 Accuracy 0.1699\n",
      "Epoch 11 Batch 50 Loss 3.4421 Accuracy 0.1646\n",
      "Epoch 11 Batch 100 Loss 3.4615 Accuracy 0.1637\n",
      "Epoch 11 Batch 150 Loss 3.4637 Accuracy 0.1635\n",
      "Epoch 11 Batch 200 Loss 3.4630 Accuracy 0.1634\n",
      "Epoch 11 Batch 250 Loss 3.4654 Accuracy 0.1627\n",
      "Epoch 11 Batch 300 Loss 3.4658 Accuracy 0.1627\n",
      "Epoch 11 Batch 350 Loss 3.4655 Accuracy 0.1626\n"
     ]
    },
    {
     "name": "stdout",
     "output_type": "stream",
     "text": [
      "Epoch 11 Batch 400 Loss 3.4677 Accuracy 0.1624\n",
      "Epoch 11 Batch 450 Loss 3.4698 Accuracy 0.1625\n",
      "Epoch 11 Batch 500 Loss 3.4737 Accuracy 0.1620\n",
      "Epoch 11 Batch 550 Loss 3.4771 Accuracy 0.1619\n",
      "Epoch 11 Batch 600 Loss 3.4809 Accuracy 0.1618\n",
      "Epoch 11 Batch 650 Loss 3.4799 Accuracy 0.1618\n",
      "Epoch 11 Batch 700 Loss 3.4819 Accuracy 0.1617\n",
      "Epoch 11 Loss 3.4819 Accuracy 0.1617\n",
      "Time taken for 1 epoch: 56.699440479278564 secs\n",
      "\n",
      "Epoch 12 Batch 0 Loss 3.4428 Accuracy 0.1652\n",
      "Epoch 12 Batch 50 Loss 3.4547 Accuracy 0.1619\n",
      "Epoch 12 Batch 100 Loss 3.4475 Accuracy 0.1622\n",
      "Epoch 12 Batch 150 Loss 3.4534 Accuracy 0.1627\n",
      "Epoch 12 Batch 200 Loss 3.4537 Accuracy 0.1627\n",
      "Epoch 12 Batch 250 Loss 3.4547 Accuracy 0.1625\n",
      "Epoch 12 Batch 300 Loss 3.4542 Accuracy 0.1628\n",
      "Epoch 12 Batch 350 Loss 3.4565 Accuracy 0.1626\n",
      "Epoch 12 Batch 400 Loss 3.4599 Accuracy 0.1626\n",
      "Epoch 12 Batch 450 Loss 3.4616 Accuracy 0.1626\n",
      "Epoch 12 Batch 500 Loss 3.4625 Accuracy 0.1626\n",
      "Epoch 12 Batch 550 Loss 3.4655 Accuracy 0.1626\n",
      "Epoch 12 Batch 600 Loss 3.4678 Accuracy 0.1623\n",
      "Epoch 12 Batch 650 Loss 3.4709 Accuracy 0.1622\n",
      "Epoch 12 Batch 700 Loss 3.4741 Accuracy 0.1620\n",
      "Epoch 12 Loss 3.4743 Accuracy 0.1620\n",
      "Time taken for 1 epoch: 55.03512501716614 secs\n",
      "\n",
      "Epoch 13 Batch 0 Loss 3.4043 Accuracy 0.1719\n",
      "Epoch 13 Batch 50 Loss 3.4504 Accuracy 0.1606\n",
      "Epoch 13 Batch 100 Loss 3.4360 Accuracy 0.1617\n",
      "Epoch 13 Batch 150 Loss 3.4459 Accuracy 0.1626\n",
      "Epoch 13 Batch 200 Loss 3.4431 Accuracy 0.1629\n",
      "Epoch 13 Batch 250 Loss 3.4477 Accuracy 0.1624\n",
      "Epoch 13 Batch 300 Loss 3.4474 Accuracy 0.1625\n",
      "Epoch 13 Batch 350 Loss 3.4514 Accuracy 0.1623\n",
      "Epoch 13 Batch 400 Loss 3.4537 Accuracy 0.1624\n",
      "Epoch 13 Batch 450 Loss 3.4563 Accuracy 0.1623\n",
      "Epoch 13 Batch 500 Loss 3.4582 Accuracy 0.1626\n",
      "Epoch 13 Batch 550 Loss 3.4590 Accuracy 0.1625\n",
      "Epoch 13 Batch 600 Loss 3.4614 Accuracy 0.1625\n",
      "Epoch 13 Batch 650 Loss 3.4640 Accuracy 0.1625\n",
      "Epoch 13 Batch 700 Loss 3.4657 Accuracy 0.1625\n",
      "Epoch 13 Loss 3.4658 Accuracy 0.1625\n",
      "Time taken for 1 epoch: 55.04063701629639 secs\n",
      "\n",
      "Epoch 14 Batch 0 Loss 3.5393 Accuracy 0.1474\n",
      "Epoch 14 Batch 50 Loss 3.4332 Accuracy 0.1633\n",
      "Epoch 14 Batch 100 Loss 3.4373 Accuracy 0.1646\n",
      "Epoch 14 Batch 150 Loss 3.4374 Accuracy 0.1643\n",
      "Epoch 14 Batch 200 Loss 3.4332 Accuracy 0.1639\n",
      "Epoch 14 Batch 250 Loss 3.4376 Accuracy 0.1641\n",
      "Epoch 14 Batch 300 Loss 3.4374 Accuracy 0.1640\n",
      "Epoch 14 Batch 350 Loss 3.4416 Accuracy 0.1637\n",
      "Epoch 14 Batch 400 Loss 3.4412 Accuracy 0.1636\n",
      "Epoch 14 Batch 450 Loss 3.4420 Accuracy 0.1635\n",
      "Epoch 14 Batch 500 Loss 3.4465 Accuracy 0.1634\n",
      "Epoch 14 Batch 550 Loss 3.4493 Accuracy 0.1635\n",
      "Epoch 14 Batch 600 Loss 3.4519 Accuracy 0.1632\n",
      "Epoch 14 Batch 650 Loss 3.4535 Accuracy 0.1632\n",
      "Epoch 14 Batch 700 Loss 3.4573 Accuracy 0.1631\n",
      "Epoch 14 Loss 3.4574 Accuracy 0.1631\n",
      "Time taken for 1 epoch: 54.71855807304382 secs\n",
      "\n",
      "Epoch 15 Batch 0 Loss 3.4791 Accuracy 0.1494\n",
      "Epoch 15 Batch 50 Loss 3.4214 Accuracy 0.1636\n",
      "Epoch 15 Batch 100 Loss 3.4259 Accuracy 0.1638\n",
      "Epoch 15 Batch 150 Loss 3.4249 Accuracy 0.1628\n",
      "Epoch 15 Batch 200 Loss 3.4297 Accuracy 0.1634\n",
      "Epoch 15 Batch 250 Loss 3.4310 Accuracy 0.1632\n",
      "Epoch 15 Batch 300 Loss 3.4305 Accuracy 0.1637\n",
      "Epoch 15 Batch 350 Loss 3.4311 Accuracy 0.1636\n",
      "Epoch 15 Batch 400 Loss 3.4326 Accuracy 0.1634\n",
      "Epoch 15 Batch 450 Loss 3.4357 Accuracy 0.1633\n",
      "Epoch 15 Batch 500 Loss 3.4406 Accuracy 0.1633\n",
      "Epoch 15 Batch 550 Loss 3.4425 Accuracy 0.1632\n",
      "Epoch 15 Batch 600 Loss 3.4447 Accuracy 0.1632\n",
      "Epoch 15 Batch 650 Loss 3.4468 Accuracy 0.1632\n",
      "Epoch 15 Batch 700 Loss 3.4499 Accuracy 0.1633\n",
      "Saving checkpoint for epoch 15 at ./checkpoints/train/ckpt-27\n",
      "Epoch 15 Loss 3.4500 Accuracy 0.1633\n",
      "Time taken for 1 epoch: 57.67475771903992 secs\n",
      "\n",
      "Epoch 16 Batch 0 Loss 3.4866 Accuracy 0.1698\n",
      "Epoch 16 Batch 50 Loss 3.4092 Accuracy 0.1642\n",
      "Epoch 16 Batch 100 Loss 3.4076 Accuracy 0.1639\n",
      "Epoch 16 Batch 150 Loss 3.4126 Accuracy 0.1648\n",
      "Epoch 16 Batch 200 Loss 3.4175 Accuracy 0.1648\n",
      "Epoch 16 Batch 250 Loss 3.4237 Accuracy 0.1645\n",
      "Epoch 16 Batch 300 Loss 3.4299 Accuracy 0.1645\n",
      "Epoch 16 Batch 350 Loss 3.4278 Accuracy 0.1644\n",
      "Epoch 16 Batch 400 Loss 3.4315 Accuracy 0.1641\n",
      "Epoch 16 Batch 450 Loss 3.4321 Accuracy 0.1640\n",
      "Epoch 16 Batch 500 Loss 3.4331 Accuracy 0.1639\n",
      "Epoch 16 Batch 550 Loss 3.4340 Accuracy 0.1640\n",
      "Epoch 16 Batch 600 Loss 3.4370 Accuracy 0.1639\n",
      "Epoch 16 Batch 650 Loss 3.4382 Accuracy 0.1638\n",
      "Epoch 16 Batch 700 Loss 3.4407 Accuracy 0.1637\n",
      "Epoch 16 Loss 3.4409 Accuracy 0.1638\n",
      "Time taken for 1 epoch: 57.65931940078735 secs\n",
      "\n",
      "Epoch 17 Batch 0 Loss 3.6134 Accuracy 0.1743\n",
      "Epoch 17 Batch 50 Loss 3.4000 Accuracy 0.1653\n",
      "Epoch 17 Batch 100 Loss 3.3968 Accuracy 0.1650\n",
      "Epoch 17 Batch 150 Loss 3.4042 Accuracy 0.1649\n",
      "Epoch 17 Batch 200 Loss 3.4105 Accuracy 0.1644\n",
      "Epoch 17 Batch 250 Loss 3.4159 Accuracy 0.1646\n",
      "Epoch 17 Batch 300 Loss 3.4162 Accuracy 0.1649\n",
      "Epoch 17 Batch 350 Loss 3.4174 Accuracy 0.1649\n",
      "Epoch 17 Batch 400 Loss 3.4200 Accuracy 0.1644\n",
      "Epoch 17 Batch 450 Loss 3.4247 Accuracy 0.1640\n",
      "Epoch 17 Batch 500 Loss 3.4262 Accuracy 0.1640\n",
      "Epoch 17 Batch 550 Loss 3.4297 Accuracy 0.1641\n",
      "Epoch 17 Batch 600 Loss 3.4322 Accuracy 0.1639\n",
      "Epoch 17 Batch 650 Loss 3.4349 Accuracy 0.1639\n",
      "Epoch 17 Batch 700 Loss 3.4356 Accuracy 0.1640\n",
      "Epoch 17 Loss 3.4357 Accuracy 0.1640\n",
      "Time taken for 1 epoch: 56.98949432373047 secs\n",
      "\n",
      "Epoch 18 Batch 0 Loss 3.4042 Accuracy 0.1645\n",
      "Epoch 18 Batch 50 Loss 3.3875 Accuracy 0.1681\n",
      "Epoch 18 Batch 100 Loss 3.3999 Accuracy 0.1670\n",
      "Epoch 18 Batch 150 Loss 3.4008 Accuracy 0.1657\n",
      "Epoch 18 Batch 200 Loss 3.4027 Accuracy 0.1653\n",
      "Epoch 18 Batch 250 Loss 3.4101 Accuracy 0.1651\n",
      "Epoch 18 Batch 300 Loss 3.4140 Accuracy 0.1646\n",
      "Epoch 18 Batch 350 Loss 3.4153 Accuracy 0.1645\n",
      "Epoch 18 Batch 400 Loss 3.4166 Accuracy 0.1644\n",
      "Epoch 18 Batch 450 Loss 3.4162 Accuracy 0.1644\n",
      "Epoch 18 Batch 500 Loss 3.4183 Accuracy 0.1644\n",
      "Epoch 18 Batch 550 Loss 3.4209 Accuracy 0.1644\n",
      "Epoch 18 Batch 600 Loss 3.4226 Accuracy 0.1642\n",
      "Epoch 18 Batch 650 Loss 3.4263 Accuracy 0.1639\n",
      "Epoch 18 Batch 700 Loss 3.4285 Accuracy 0.1639\n",
      "Epoch 18 Loss 3.4284 Accuracy 0.1639\n",
      "Time taken for 1 epoch: 57.832228899002075 secs\n",
      "\n",
      "Epoch 19 Batch 0 Loss 3.2648 Accuracy 0.1571\n",
      "Epoch 19 Batch 50 Loss 3.3865 Accuracy 0.1646\n",
      "Epoch 19 Batch 100 Loss 3.3949 Accuracy 0.1653\n",
      "Epoch 19 Batch 150 Loss 3.3922 Accuracy 0.1655\n",
      "Epoch 19 Batch 200 Loss 3.3986 Accuracy 0.1658\n",
      "Epoch 19 Batch 250 Loss 3.3995 Accuracy 0.1657\n",
      "Epoch 19 Batch 300 Loss 3.4024 Accuracy 0.1654\n",
      "Epoch 19 Batch 350 Loss 3.4054 Accuracy 0.1654\n",
      "Epoch 19 Batch 400 Loss 3.4072 Accuracy 0.1652\n",
      "Epoch 19 Batch 450 Loss 3.4102 Accuracy 0.1652\n",
      "Epoch 19 Batch 500 Loss 3.4128 Accuracy 0.1653\n",
      "Epoch 19 Batch 550 Loss 3.4155 Accuracy 0.1650\n",
      "Epoch 19 Batch 600 Loss 3.4163 Accuracy 0.1647\n",
      "Epoch 19 Batch 650 Loss 3.4184 Accuracy 0.1648\n",
      "Epoch 19 Batch 700 Loss 3.4196 Accuracy 0.1646\n",
      "Epoch 19 Loss 3.4199 Accuracy 0.1646\n",
      "Time taken for 1 epoch: 56.20436930656433 secs\n",
      "\n",
      "Epoch 20 Batch 0 Loss 3.3796 Accuracy 0.1575\n",
      "Epoch 20 Batch 50 Loss 3.3522 Accuracy 0.1675\n",
      "Epoch 20 Batch 100 Loss 3.3708 Accuracy 0.1656\n",
      "Epoch 20 Batch 150 Loss 3.3730 Accuracy 0.1658\n",
      "Epoch 20 Batch 200 Loss 3.3810 Accuracy 0.1658\n",
      "Epoch 20 Batch 250 Loss 3.3807 Accuracy 0.1660\n",
      "Epoch 20 Batch 300 Loss 3.3863 Accuracy 0.1660\n",
      "Epoch 20 Batch 350 Loss 3.3891 Accuracy 0.1662\n",
      "Epoch 20 Batch 400 Loss 3.3926 Accuracy 0.1659\n",
      "Epoch 20 Batch 450 Loss 3.3941 Accuracy 0.1658\n",
      "Epoch 20 Batch 500 Loss 3.3983 Accuracy 0.1658\n",
      "Epoch 20 Batch 550 Loss 3.4013 Accuracy 0.1656\n",
      "Epoch 20 Batch 600 Loss 3.4054 Accuracy 0.1653\n",
      "Epoch 20 Batch 650 Loss 3.4093 Accuracy 0.1654\n",
      "Epoch 20 Batch 700 Loss 3.4126 Accuracy 0.1652\n",
      "Saving checkpoint for epoch 20 at ./checkpoints/train/ckpt-28\n",
      "Epoch 20 Loss 3.4128 Accuracy 0.1652\n",
      "Time taken for 1 epoch: 56.42801356315613 secs\n",
      "\n"
     ]
    }
   ],
   "source": [
    "for epoch in range(EPOCHS):\n",
    "  start = time.time()\n",
    "  \n",
    "  train_loss.reset_states()\n",
    "  train_accuracy.reset_states()\n",
    "  \n",
    "  # inp -> portuguese, tar -> english\n",
    "  for (batch, (inp, tar)) in enumerate(train_dataset):\n",
    "    train_step(inp, tar)\n",
    "    \n",
    "    if batch % 50 == 0:\n",
    "      print ('Epoch {} Batch {} Loss {:.4f} Accuracy {:.4f}'.format(\n",
    "          epoch + 1, batch, train_loss.result(), train_accuracy.result()))\n",
    "      \n",
    "  if (epoch + 1) % 5 == 0:\n",
    "    ckpt_save_path = ckpt_manager.save()\n",
    "    print ('Saving checkpoint for epoch {} at {}'.format(epoch+1,\n",
    "                                                         ckpt_save_path))\n",
    "    \n",
    "  print ('Epoch {} Loss {:.4f} Accuracy {:.4f}'.format(epoch + 1, \n",
    "                                                train_loss.result(), \n",
    "                                                train_accuracy.result()))\n",
    "\n",
    "  print ('Time taken for 1 epoch: {} secs\\n'.format(time.time() - start))"
   ]
  },
  {
   "cell_type": "markdown",
   "metadata": {},
   "source": [
    "Evaluate"
   ]
  },
  {
   "cell_type": "code",
   "execution_count": 60,
   "metadata": {},
   "outputs": [],
   "source": [
    "def evaluate(inp_sentence):\n",
    "  start_token = [tokenizer_pt.vocab_size]\n",
    "  end_token = [tokenizer_pt.vocab_size + 1]\n",
    "  \n",
    "  # inp sentence is portuguese, hence adding the start and end token\n",
    "  inp_sentence = start_token + tokenizer_pt.encode(inp_sentence) + end_token\n",
    "  encoder_input = tf.expand_dims(inp_sentence, 0)\n",
    "  \n",
    "  # as the target is english, the first word to the transformer should be the\n",
    "  # english start token.\n",
    "  decoder_input = [tokenizer_en.vocab_size]\n",
    "  output = tf.expand_dims(decoder_input, 0)\n",
    "    \n",
    "  for i in range(MAX_LENGTH):\n",
    "    enc_padding_mask, combined_mask, dec_padding_mask = create_masks(\n",
    "        encoder_input, output)\n",
    "  \n",
    "    # predictions.shape == (batch_size, seq_len, vocab_size)\n",
    "    predictions, attention_weights = transformer(encoder_input, \n",
    "                                                 output,\n",
    "                                                 False,\n",
    "                                                 enc_padding_mask,\n",
    "                                                 combined_mask,\n",
    "                                                 dec_padding_mask)\n",
    "    \n",
    "    # select the last word from the seq_len dimension\n",
    "    predictions = predictions[: ,-1:, :]  # (batch_size, 1, vocab_size)\n",
    "\n",
    "    predicted_id = tf.cast(tf.argmax(predictions, axis=-1), tf.int32)\n",
    "    \n",
    "    # return the result if the predicted_id is equal to the end token\n",
    "    if predicted_id == tokenizer_en.vocab_size+1:\n",
    "      return tf.squeeze(output, axis=0), attention_weights\n",
    "    \n",
    "    # concatentate the predicted_id to the output which is given to the decoder\n",
    "    # as its input.\n",
    "    output = tf.concat([output, predicted_id], axis=-1)\n",
    "\n",
    "  return tf.squeeze(output, axis=0), attention_weights"
   ]
  },
  {
   "cell_type": "code",
   "execution_count": 61,
   "metadata": {},
   "outputs": [],
   "source": [
    "def plot_attention_weights(attention, sentence, result, layer):\n",
    "  fig = plt.figure(figsize=(16, 8))\n",
    "  \n",
    "  sentence = tokenizer_pt.encode(sentence)\n",
    "  \n",
    "  attention = tf.squeeze(attention[layer], axis=0)\n",
    "  \n",
    "  for head in range(attention.shape[0]):\n",
    "    ax = fig.add_subplot(2, 4, head+1)\n",
    "    \n",
    "    # plot the attention weights\n",
    "    ax.matshow(attention[head][:-1, :], cmap='viridis')\n",
    "\n",
    "    fontdict = {'fontsize': 10}\n",
    "    \n",
    "    ax.set_xticks(range(len(sentence)+2))\n",
    "    ax.set_yticks(range(len(result)))\n",
    "    \n",
    "    ax.set_ylim(len(result)-1.5, -0.5)\n",
    "        \n",
    "    ax.set_xticklabels(\n",
    "        ['<start>']+[tokenizer_pt.decode([i]) for i in sentence]+['<end>'], \n",
    "        fontdict=fontdict, rotation=90)\n",
    "    \n",
    "    ax.set_yticklabels([tokenizer_en.decode([i]) for i in result \n",
    "                        if i < tokenizer_en.vocab_size], \n",
    "                       fontdict=fontdict)\n",
    "    \n",
    "    ax.set_xlabel('Head {}'.format(head+1))\n",
    "  \n",
    "  plt.tight_layout()\n",
    "  plt.show()"
   ]
  },
  {
   "cell_type": "code",
   "execution_count": 62,
   "metadata": {},
   "outputs": [],
   "source": [
    "def translate(sentence, plot=''):\n",
    "  result, attention_weights = evaluate(sentence)\n",
    "  \n",
    "  predicted_sentence = tokenizer_en.decode([i for i in result \n",
    "                                            if i < tokenizer_en.vocab_size])  \n",
    "\n",
    "  print('Input: {}'.format(sentence))\n",
    "  print('Predicted translation: {}'.format(predicted_sentence))\n",
    "  \n",
    "  if plot:\n",
    "    plot_attention_weights(attention_weights, sentence, result, plot)"
   ]
  },
  {
   "cell_type": "code",
   "execution_count": 69,
   "metadata": {},
   "outputs": [
    {
     "name": "stdout",
     "output_type": "stream",
     "text": [
      "Input: este é um problema que temos que resolver.\n",
      "Predicted translation: and that 's a problem that we have to do .\n",
      "Real translation: this is a problem we have to solve .\n"
     ]
    }
   ],
   "source": [
    "translate(\"este é um problema que temos que resolver.\")\n",
    "print (\"Real translation: this is a problem we have to solve .\")"
   ]
  },
  {
   "cell_type": "code",
   "execution_count": 70,
   "metadata": {},
   "outputs": [
    {
     "name": "stdout",
     "output_type": "stream",
     "text": [
      "Input: os meus vizinhos ouviram sobre esta ideia.\n",
      "Predicted translation: this was a five-year .\n",
      "Real translation: and my neighboring homes heard about this idea .\n"
     ]
    }
   ],
   "source": [
    "translate(\"os meus vizinhos ouviram sobre esta ideia.\")\n",
    "print (\"Real translation: and my neighboring homes heard about this idea .\")"
   ]
  },
  {
   "cell_type": "code",
   "execution_count": 71,
   "metadata": {},
   "outputs": [
    {
     "name": "stdout",
     "output_type": "stream",
     "text": [
      "Input: vou então muito rapidamente partilhar convosco algumas histórias de algumas coisas mágicas que aconteceram.\n",
      "Predicted translation: i think i think that i think of this century .\n",
      "Real translation: so i 'll just share with you some stories very quickly of some magical things that have happened .\n"
     ]
    }
   ],
   "source": [
    "translate(\"vou então muito rapidamente partilhar convosco algumas histórias de algumas coisas mágicas que aconteceram.\")\n",
    "print (\"Real translation: so i 'll just share with you some stories very quickly of some magical things that have happened .\")"
   ]
  },
  {
   "cell_type": "code",
   "execution_count": 72,
   "metadata": {},
   "outputs": [
    {
     "name": "stdout",
     "output_type": "stream",
     "text": [
      "Input: este é o primeiro livro que eu fiz.\n",
      "Predicted translation: this is a picture of the morning .\n"
     ]
    },
    {
     "data": {
      "image/png": "[encoded data removed]",
      "text/plain": [
       "<Figure size 1152x576 with 8 Axes>"
      ]
     },
     "metadata": {
      "needs_background": "light"
     },
     "output_type": "display_data"
    },
    {
     "name": "stdout",
     "output_type": "stream",
     "text": [
      "Real translation: this is the first book i've ever done.\n"
     ]
    }
   ],
   "source": [
    "translate(\"este é o primeiro livro que eu fiz.\", plot='decoder_layer4_block2')\n",
    "print (\"Real translation: this is the first book i've ever done.\")"
   ]
  },
  {
   "cell_type": "code",
   "execution_count": null,
   "metadata": {},
   "outputs": [],
   "source": []
  }
 ],
 "metadata": {
  "kernelspec": {
   "display_name": "Python 3",
   "language": "python",
   "name": "python3"
  },
  "language_info": {
   "codemirror_mode": {
    "name": "ipython",
    "version": 3
   },
   "file_extension": ".py",
   "mimetype": "text/x-python",
   "name": "python",
   "nbconvert_exporter": "python",
   "pygments_lexer": "ipython3",
   "version": "3.7.6"
  }
 },
 "nbformat": 4,
 "nbformat_minor": 4
}
