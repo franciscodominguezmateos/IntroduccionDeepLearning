{
 "cells": [
  {
   "cell_type": "code",
   "execution_count": 1,
   "metadata": {
    "collapsed": true,
    "deletable": true,
    "editable": true
   },
   "outputs": [],
   "source": [
    "# pip install untangle\n",
    "# The easiest way to parse xml files I have found.\n",
    "import untangle"
   ]
  },
  {
   "cell_type": "code",
   "execution_count": 19,
   "metadata": {
    "collapsed": true
   },
   "outputs": [],
   "source": [
    "import numpy as np\n",
    "import cv2"
   ]
  },
  {
   "cell_type": "code",
   "execution_count": 3,
   "metadata": {
    "collapsed": true,
    "deletable": true,
    "editable": true
   },
   "outputs": [],
   "source": [
    "# dlib image object detection dataset xml file format\n",
    "#filename='exit_fire.xml'\n",
    "filename='fireextinguisher.xml'\n",
    "obj=untangle.parse(filename)"
   ]
  },
  {
   "cell_type": "code",
   "execution_count": 4,
   "metadata": {
    "collapsed": false,
    "deletable": true,
    "editable": true
   },
   "outputs": [
    {
     "data": {
      "text/plain": [
       "818"
      ]
     },
     "execution_count": 4,
     "metadata": {},
     "output_type": "execute_result"
    }
   ],
   "source": [
    "len(obj.dataset.images.image)"
   ]
  },
  {
   "cell_type": "code",
   "execution_count": 26,
   "metadata": {
    "collapsed": false,
    "deletable": true,
    "editable": true
   },
   "outputs": [
    {
     "name": "stdout",
     "output_type": "stream",
     "text": [
      "frame_s1_10.jpg \t (180, 320, 3)\n",
      "   fireextinguisher \t->\t[ 24 , 162 , 19 , 20 ]\n",
      "   fireextinguisher \t->\t[ 88 , 166 , 27 , 70 ]\n",
      "frame_s1_11.jpg \t (180, 320, 3)\n",
      "   fireextinguisher \t->\t[ 29 , 162 , 19 , 19 ]\n",
      "   fireextinguisher \t->\t[ 99 , 167 , 21 , 60 ]\n",
      "frame_s1_12.jpg \t (180, 320, 3)\n",
      "   fireextinguisher \t->\t[ 30 , 162 , 18 , 18 ]\n",
      "   fireextinguisher \t->\t[ 99 , 168 , 18 , 53 ]\n",
      "frame_s1_13.jpg \t (180, 320, 3)\n",
      "   fireextinguisher \t->\t[ 36 , 166 , 17 , 18 ]\n",
      "   fireextinguisher \t->\t[ 102 , 170 , 19 , 55 ]\n",
      "frame_s1_14.jpg \t (180, 320, 3)\n",
      "   fireextinguisher \t->\t[ 32 , 172 , 15 , 18 ]\n",
      "   fireextinguisher \t->\t[ 95 , 174 , 19 , 56 ]\n",
      "(5, 180, 320, 3)\n"
     ]
    }
   ],
   "source": [
    "images=[]\n",
    "scale=4\n",
    "for i in obj.dataset.images.image[:5]:\n",
    "    img=cv2.imread(i['file'])\n",
    "    img=cv2.cvtColor(img,cv2.COLOR_BGR2RGB)\n",
    "    img=cv2.resize(img, (img.shape[1]//scale, img.shape[0]//scale))\n",
    "    print(i['file'],'\\t',img.shape)\n",
    "    images.append(img)\n",
    "    for b in i.box:\n",
    "        top   =int(b['top'])   //scale\n",
    "        left  =int(b['left'])  //scale\n",
    "        width =int(b['width']) //scale\n",
    "        height=int(b['height'])//scale\n",
    "        print(\"  \",b.label.cdata,\"\\t->\\t[\",top,\",\",left,\",\",width,\",\",height,\"]\")\n",
    "images_np=np.array(images)\n",
    "print(images_np.shape)"
   ]
  },
  {
   "cell_type": "code",
   "execution_count": null,
   "metadata": {
    "collapsed": true,
    "deletable": true,
    "editable": true
   },
   "outputs": [],
   "source": []
  }
 ],
 "metadata": {
  "kernelspec": {
   "display_name": "Python 3",
   "language": "python",
   "name": "python3"
  },
  "language_info": {
   "codemirror_mode": {
    "name": "ipython",
    "version": 3
   },
   "file_extension": ".py",
   "mimetype": "text/x-python",
   "name": "python",
   "nbconvert_exporter": "python",
   "pygments_lexer": "ipython3",
   "version": "3.5.2"
  },
  "widgets": {
   "state": {},
   "version": "1.1.2"
  }
 },
 "nbformat": 4,
 "nbformat_minor": 2
}
